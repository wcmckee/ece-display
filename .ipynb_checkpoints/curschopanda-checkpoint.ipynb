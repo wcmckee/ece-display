{
 "cells": [
  {
   "cell_type": "code",
   "execution_count": 1,
   "metadata": {
    "collapsed": false
   },
   "outputs": [],
   "source": [
    "import pandas as pd\n",
    "import random\n",
    "import json \n",
    "import random\n",
    "#import matplotlib.pyplot as plt"
   ]
  },
  {
   "cell_type": "markdown",
   "metadata": {},
   "source": [
    "<h3>Current School Panda</h3>\n",
    "\n",
    "Working with directory school data\n",
    "\n",
    "Creative Commons in all schools"
   ]
  },
  {
   "cell_type": "markdown",
   "metadata": {
    "collapsed": true
   },
   "source": [
    "What made you choose that particular Creative Commons licence?\n",
    "\n",
    "I like the CC:BY licence because it offers the most freedom to people. \n",
    "\n",
    "I am not a fan of licenses that restrict commucial use. I believe everyone should be able to do what the like with my work with minimal interference. \n",
    "\n",
    "If I could I would remove non-commucial licenses. \n",
    "\n",
    "In the early days of my art blogging I would license under cc nc. This was wrong and I later changed this to a cc by license. \n",
    "\n",
    "With my photography I once had a photo I taken in the newpaper. It made the front page. I was offered money and seeked permission. I was fine with it of course - the license allows this. At the bottom of the photo it read: PHOTO: William Mckee.\n",
    "Perfect. \n",
    "\n",
    "The only thing I ask is they attupute.\n",
    "\n",
    "I like the idea of sharealike but at the end of the I really don't care and would hate to chase down people to license it wrong. Sure, I don't like it that people could take my stuff and make it not open. I think everything should be open and free. \n",
    "\n",
    "My art site - artcontrol.me is currently down but when it was up I licensed the site under a cc:by. Elements of the site are still up - such as my YouTube channel. \n",
    "\n",
    "I attended art school in Wellington - The Learning Connexion. My focus was on drawing and painting. I taught myself programming on the bus to art school. Even when I was drawing on the easel I would be 'drawing' python code. During breaks I would often get my laptop out. \n",
    "\n",
    "I volunteered at Whaihanga Early Learning Centre. I spend the majority of my time there in the art area doing collabarth works with others. Oil Pastel, coloured pencil and pencil were my mediums of choice. Sometimes I would use paint, but it's quite messy. \n",
    "\n"
   ]
  },
  {
   "cell_type": "code",
   "execution_count": 2,
   "metadata": {
    "collapsed": false
   },
   "outputs": [],
   "source": [
    "crcom = pd.read_csv('/home/wcmckee/Downloads/List of CC schools - Sheet1.csv', skiprows=5, index_col=0, usecols=[0,1,2])"
   ]
  },
  {
   "cell_type": "markdown",
   "metadata": {
    "collapsed": true
   },
   "source": [
    "Compare the schools on List of CC schools with list of all public/private schools. \n",
    "\n",
    "Why shouldn't it be default for all public schools licence to be under a Creative Commons BY license? "
   ]
  },
  {
   "cell_type": "code",
   "execution_count": 3,
   "metadata": {
    "collapsed": false
   },
   "outputs": [
    {
     "data": {
      "text/html": [
       "<div>\n",
       "<table border=\"1\" class=\"dataframe\">\n",
       "  <thead>\n",
       "    <tr style=\"text-align: right;\">\n",
       "      <th></th>\n",
       "      <th>Unnamed: 1</th>\n",
       "      <th>Unnamed: 2</th>\n",
       "    </tr>\n",
       "  </thead>\n",
       "  <tbody>\n",
       "    <tr>\n",
       "      <th>School</th>\n",
       "      <td>Policy</td>\n",
       "      <td>Default Licence</td>\n",
       "    </tr>\n",
       "    <tr>\n",
       "      <th>Albany Senior High School</th>\n",
       "      <td>ASHS/CCANZ</td>\n",
       "      <td>BY</td>\n",
       "    </tr>\n",
       "    <tr>\n",
       "      <th>Ardmore</th>\n",
       "      <td>ASHS/CCANZ</td>\n",
       "      <td>BY</td>\n",
       "    </tr>\n",
       "    <tr>\n",
       "      <th>Arrowtown</th>\n",
       "      <td>ASHS/CCANZ</td>\n",
       "      <td>BY</td>\n",
       "    </tr>\n",
       "    <tr>\n",
       "      <th>Ashburton Intermediate</th>\n",
       "      <td>ASHS/CCANZ</td>\n",
       "      <td>BY</td>\n",
       "    </tr>\n",
       "    <tr>\n",
       "      <th>Auckland Girls Grammar School</th>\n",
       "      <td>ASHS/CCANZ</td>\n",
       "      <td>BY</td>\n",
       "    </tr>\n",
       "    <tr>\n",
       "      <th>Banks Avenue</th>\n",
       "      <td>ASHS/CCANZ</td>\n",
       "      <td>BY</td>\n",
       "    </tr>\n",
       "    <tr>\n",
       "      <th>Barton Rural</th>\n",
       "      <td>ASHS/CCANZ</td>\n",
       "      <td>BY</td>\n",
       "    </tr>\n",
       "    <tr>\n",
       "      <th>Broadfield</th>\n",
       "      <td>ASHS/CCANZ</td>\n",
       "      <td>BY</td>\n",
       "    </tr>\n",
       "    <tr>\n",
       "      <th>Burnside High School</th>\n",
       "      <td>Bespoke</td>\n",
       "      <td>BY</td>\n",
       "    </tr>\n",
       "    <tr>\n",
       "      <th>Cheviot Area</th>\n",
       "      <td>ASHS/CCANZ</td>\n",
       "      <td>BY</td>\n",
       "    </tr>\n",
       "    <tr>\n",
       "      <th>Cobham Intermediate</th>\n",
       "      <td>ASHS/CCANZ</td>\n",
       "      <td>BY</td>\n",
       "    </tr>\n",
       "    <tr>\n",
       "      <th>Diamond Harbour</th>\n",
       "      <td>ASHS/CCANZ</td>\n",
       "      <td>BY</td>\n",
       "    </tr>\n",
       "    <tr>\n",
       "      <th>Eastern Hutt</th>\n",
       "      <td>ASHS/CCANZ</td>\n",
       "      <td>BY</td>\n",
       "    </tr>\n",
       "    <tr>\n",
       "      <th>Ebbett Park</th>\n",
       "      <td>ASHS/CCANZ</td>\n",
       "      <td>BY</td>\n",
       "    </tr>\n",
       "    <tr>\n",
       "      <th>Elmwood Normal</th>\n",
       "      <td>ASHS/CCANZ</td>\n",
       "      <td>BY</td>\n",
       "    </tr>\n",
       "    <tr>\n",
       "      <th>Eskdale</th>\n",
       "      <td>ASHS/CCANZ</td>\n",
       "      <td>BY</td>\n",
       "    </tr>\n",
       "    <tr>\n",
       "      <th>Green Bay</th>\n",
       "      <td>ASHS/CCANZ</td>\n",
       "      <td>BY</td>\n",
       "    </tr>\n",
       "    <tr>\n",
       "      <th>Grey Lynn</th>\n",
       "      <td>ASHS/CCANZ</td>\n",
       "      <td>BY</td>\n",
       "    </tr>\n",
       "    <tr>\n",
       "      <th>Hampden Street</th>\n",
       "      <td>ASHS/CCANZ</td>\n",
       "      <td>BY</td>\n",
       "    </tr>\n",
       "    <tr>\n",
       "      <th>Hillpark</th>\n",
       "      <td>ASHS/CCANZ</td>\n",
       "      <td>BY</td>\n",
       "    </tr>\n",
       "    <tr>\n",
       "      <th>Hobsonville Point Primary School</th>\n",
       "      <td>ASHS/CCANZ</td>\n",
       "      <td>BY</td>\n",
       "    </tr>\n",
       "    <tr>\n",
       "      <th>Hobsonville Point Secondary School</th>\n",
       "      <td>ASHS/CCANZ</td>\n",
       "      <td>BY</td>\n",
       "    </tr>\n",
       "    <tr>\n",
       "      <th>Horowhenua College</th>\n",
       "      <td>ASHS/CCANZ</td>\n",
       "      <td>BY</td>\n",
       "    </tr>\n",
       "    <tr>\n",
       "      <th>Hutt Valley High School</th>\n",
       "      <td>Bespoke</td>\n",
       "      <td>BY</td>\n",
       "    </tr>\n",
       "    <tr>\n",
       "      <th>Kaikohe West</th>\n",
       "      <td>ASHS/CCANZ</td>\n",
       "      <td>BY</td>\n",
       "    </tr>\n",
       "    <tr>\n",
       "      <th>Kaikoura Suburban</th>\n",
       "      <td>ASHS/CCANZ</td>\n",
       "      <td>BY</td>\n",
       "    </tr>\n",
       "    <tr>\n",
       "      <th>Kaingaroa (Chatham Islands)</th>\n",
       "      <td>ASHS/CCANZ</td>\n",
       "      <td>BY</td>\n",
       "    </tr>\n",
       "    <tr>\n",
       "      <th>Leigh School</th>\n",
       "      <td>ASHS/CCANZ</td>\n",
       "      <td>BY</td>\n",
       "    </tr>\n",
       "    <tr>\n",
       "      <th>Marewa</th>\n",
       "      <td>ASHS/CCANZ</td>\n",
       "      <td>BY</td>\n",
       "    </tr>\n",
       "    <tr>\n",
       "      <th>...</th>\n",
       "      <td>...</td>\n",
       "      <td>...</td>\n",
       "    </tr>\n",
       "    <tr>\n",
       "      <th>Ward</th>\n",
       "      <td>ASHS/CCANZ</td>\n",
       "      <td>BY</td>\n",
       "    </tr>\n",
       "    <tr>\n",
       "      <th>Warrington School</th>\n",
       "      <td>Bespoke\\n</td>\n",
       "      <td>BY</td>\n",
       "    </tr>\n",
       "    <tr>\n",
       "      <th>Wellington High School</th>\n",
       "      <td>ASHS/CCANZ</td>\n",
       "      <td>BY</td>\n",
       "    </tr>\n",
       "    <tr>\n",
       "      <th>Westlake Girls High School</th>\n",
       "      <td>ASHS/CCANZ</td>\n",
       "      <td>BY</td>\n",
       "    </tr>\n",
       "    <tr>\n",
       "      <th>Westmere</th>\n",
       "      <td>ASHS/CCANZ</td>\n",
       "      <td>BY</td>\n",
       "    </tr>\n",
       "    <tr>\n",
       "      <th>Whau Valley</th>\n",
       "      <td>ASHS/CCANZ</td>\n",
       "      <td>BY</td>\n",
       "    </tr>\n",
       "    <tr>\n",
       "      <th>Windwhistle</th>\n",
       "      <td>ASHS/CCANZ</td>\n",
       "      <td>BY</td>\n",
       "    </tr>\n",
       "    <tr>\n",
       "      <th>Yaldhurst Model</th>\n",
       "      <td>ASHS/CCANZ</td>\n",
       "      <td>BY</td>\n",
       "    </tr>\n",
       "    <tr>\n",
       "      <th>Northcote College</th>\n",
       "      <td>ASHS/CCANZ</td>\n",
       "      <td>BY</td>\n",
       "    </tr>\n",
       "    <tr>\n",
       "      <th>Middleton Grange School</th>\n",
       "      <td>ASHS/CCANZ</td>\n",
       "      <td>BY-SA</td>\n",
       "    </tr>\n",
       "    <tr>\n",
       "      <th>Whangaparaoa College</th>\n",
       "      <td>ASHS/CCANZ</td>\n",
       "      <td>NaN</td>\n",
       "    </tr>\n",
       "    <tr>\n",
       "      <th>NaN</th>\n",
       "      <td>NaN</td>\n",
       "      <td>NaN</td>\n",
       "    </tr>\n",
       "    <tr>\n",
       "      <th>NaN</th>\n",
       "      <td>NaN</td>\n",
       "      <td>NaN</td>\n",
       "    </tr>\n",
       "    <tr>\n",
       "      <th>Policies in Progress</th>\n",
       "      <td>NaN</td>\n",
       "      <td>NaN</td>\n",
       "    </tr>\n",
       "    <tr>\n",
       "      <th>These are schools that have expressed an interest in CC, and may have a policy in progress</th>\n",
       "      <td>NaN</td>\n",
       "      <td>NaN</td>\n",
       "    </tr>\n",
       "    <tr>\n",
       "      <th>School</th>\n",
       "      <td>Policy</td>\n",
       "      <td>Default Licence</td>\n",
       "    </tr>\n",
       "    <tr>\n",
       "      <th>Hutt International Boys School</th>\n",
       "      <td>NaN</td>\n",
       "      <td>NaN</td>\n",
       "    </tr>\n",
       "    <tr>\n",
       "      <th>Carmel College\\n</th>\n",
       "      <td>NaN</td>\n",
       "      <td>NaN</td>\n",
       "    </tr>\n",
       "    <tr>\n",
       "      <th>Marcellin College</th>\n",
       "      <td>NaN</td>\n",
       "      <td>NaN</td>\n",
       "    </tr>\n",
       "    <tr>\n",
       "      <th>Havelock North HS</th>\n",
       "      <td>NaN</td>\n",
       "      <td>NaN</td>\n",
       "    </tr>\n",
       "    <tr>\n",
       "      <th>Saint Catherine's (Wgtn)</th>\n",
       "      <td>NaN</td>\n",
       "      <td>NaN</td>\n",
       "    </tr>\n",
       "    <tr>\n",
       "      <th>Massey Primary School</th>\n",
       "      <td>NaN</td>\n",
       "      <td>NaN</td>\n",
       "    </tr>\n",
       "    <tr>\n",
       "      <th>Sacred Hutt College (Lower Hutt)</th>\n",
       "      <td>NaN</td>\n",
       "      <td>NaN</td>\n",
       "    </tr>\n",
       "    <tr>\n",
       "      <th>St Joseph's Catholic School</th>\n",
       "      <td>NaN</td>\n",
       "      <td>NaN</td>\n",
       "    </tr>\n",
       "    <tr>\n",
       "      <th>Wellington East Girls' College</th>\n",
       "      <td>NaN</td>\n",
       "      <td>NaN</td>\n",
       "    </tr>\n",
       "    <tr>\n",
       "      <th>Papanui High School</th>\n",
       "      <td>NaN</td>\n",
       "      <td>NaN</td>\n",
       "    </tr>\n",
       "    <tr>\n",
       "      <th>Kelston Boys High School</th>\n",
       "      <td>NaN</td>\n",
       "      <td>NaN</td>\n",
       "    </tr>\n",
       "    <tr>\n",
       "      <th>Mount Maunganui College</th>\n",
       "      <td>NaN</td>\n",
       "      <td>NaN</td>\n",
       "    </tr>\n",
       "    <tr>\n",
       "      <th>Frankley School</th>\n",
       "      <td>NaN</td>\n",
       "      <td>NaN</td>\n",
       "    </tr>\n",
       "    <tr>\n",
       "      <th>Cambridge High School</th>\n",
       "      <td>NaN</td>\n",
       "      <td>NaN</td>\n",
       "    </tr>\n",
       "  </tbody>\n",
       "</table>\n",
       "<p>107 rows × 2 columns</p>\n",
       "</div>"
      ],
      "text/plain": [
       "                                                    Unnamed: 1  \\\n",
       "School                                                  Policy   \n",
       "Albany Senior High School                           ASHS/CCANZ   \n",
       "Ardmore                                             ASHS/CCANZ   \n",
       "Arrowtown                                           ASHS/CCANZ   \n",
       "Ashburton Intermediate                              ASHS/CCANZ   \n",
       "Auckland Girls Grammar School                       ASHS/CCANZ   \n",
       "Banks Avenue                                        ASHS/CCANZ   \n",
       "Barton Rural                                        ASHS/CCANZ   \n",
       "Broadfield                                          ASHS/CCANZ   \n",
       "Burnside High School                                   Bespoke   \n",
       "Cheviot Area                                        ASHS/CCANZ   \n",
       "Cobham Intermediate                                 ASHS/CCANZ   \n",
       "Diamond Harbour                                     ASHS/CCANZ   \n",
       "Eastern Hutt                                        ASHS/CCANZ   \n",
       "Ebbett Park                                         ASHS/CCANZ   \n",
       "Elmwood Normal                                      ASHS/CCANZ   \n",
       "Eskdale                                             ASHS/CCANZ   \n",
       "Green Bay                                           ASHS/CCANZ   \n",
       "Grey Lynn                                           ASHS/CCANZ   \n",
       "Hampden Street                                      ASHS/CCANZ   \n",
       "Hillpark                                            ASHS/CCANZ   \n",
       "Hobsonville Point Primary School                    ASHS/CCANZ   \n",
       "Hobsonville Point Secondary School                  ASHS/CCANZ   \n",
       "Horowhenua College                                  ASHS/CCANZ   \n",
       "Hutt Valley High School                                Bespoke   \n",
       "Kaikohe West                                        ASHS/CCANZ   \n",
       "Kaikoura Suburban                                   ASHS/CCANZ   \n",
       "Kaingaroa (Chatham Islands)                         ASHS/CCANZ   \n",
       "Leigh School                                        ASHS/CCANZ   \n",
       "Marewa                                              ASHS/CCANZ   \n",
       "...                                                        ...   \n",
       "Ward                                                ASHS/CCANZ   \n",
       "Warrington School                                    Bespoke\\n   \n",
       "Wellington High School                              ASHS/CCANZ   \n",
       "Westlake Girls High School                          ASHS/CCANZ   \n",
       "Westmere                                            ASHS/CCANZ   \n",
       "Whau Valley                                         ASHS/CCANZ   \n",
       "Windwhistle                                         ASHS/CCANZ   \n",
       "Yaldhurst Model                                     ASHS/CCANZ   \n",
       "Northcote College                                   ASHS/CCANZ   \n",
       "Middleton Grange School                             ASHS/CCANZ   \n",
       "Whangaparaoa College                                ASHS/CCANZ   \n",
       "NaN                                                        NaN   \n",
       "NaN                                                        NaN   \n",
       "Policies in Progress                                       NaN   \n",
       "These are schools that have expressed an intere...         NaN   \n",
       "School                                                  Policy   \n",
       "Hutt International Boys School                             NaN   \n",
       "Carmel College\\n                                           NaN   \n",
       "Marcellin College                                          NaN   \n",
       "Havelock North HS                                          NaN   \n",
       "Saint Catherine's (Wgtn)                                   NaN   \n",
       "Massey Primary School                                      NaN   \n",
       "Sacred Hutt College (Lower Hutt)                           NaN   \n",
       "St Joseph's Catholic School                                NaN   \n",
       "Wellington East Girls' College                             NaN   \n",
       "Papanui High School                                        NaN   \n",
       "Kelston Boys High School                                   NaN   \n",
       "Mount Maunganui College                                    NaN   \n",
       "Frankley School                                            NaN   \n",
       "Cambridge High School                                      NaN   \n",
       "\n",
       "                                                         Unnamed: 2  \n",
       "School                                              Default Licence  \n",
       "Albany Senior High School                                        BY  \n",
       "Ardmore                                                          BY  \n",
       "Arrowtown                                                        BY  \n",
       "Ashburton Intermediate                                           BY  \n",
       "Auckland Girls Grammar School                                    BY  \n",
       "Banks Avenue                                                     BY  \n",
       "Barton Rural                                                     BY  \n",
       "Broadfield                                                       BY  \n",
       "Burnside High School                                             BY  \n",
       "Cheviot Area                                                     BY  \n",
       "Cobham Intermediate                                              BY  \n",
       "Diamond Harbour                                                  BY  \n",
       "Eastern Hutt                                                     BY  \n",
       "Ebbett Park                                                      BY  \n",
       "Elmwood Normal                                                   BY  \n",
       "Eskdale                                                          BY  \n",
       "Green Bay                                                        BY  \n",
       "Grey Lynn                                                        BY  \n",
       "Hampden Street                                                   BY  \n",
       "Hillpark                                                         BY  \n",
       "Hobsonville Point Primary School                                 BY  \n",
       "Hobsonville Point Secondary School                               BY  \n",
       "Horowhenua College                                               BY  \n",
       "Hutt Valley High School                                          BY  \n",
       "Kaikohe West                                                     BY  \n",
       "Kaikoura Suburban                                                BY  \n",
       "Kaingaroa (Chatham Islands)                                      BY  \n",
       "Leigh School                                                     BY  \n",
       "Marewa                                                           BY  \n",
       "...                                                             ...  \n",
       "Ward                                                             BY  \n",
       "Warrington School                                                BY  \n",
       "Wellington High School                                           BY  \n",
       "Westlake Girls High School                                       BY  \n",
       "Westmere                                                         BY  \n",
       "Whau Valley                                                      BY  \n",
       "Windwhistle                                                      BY  \n",
       "Yaldhurst Model                                                  BY  \n",
       "Northcote College                                                BY  \n",
       "Middleton Grange School                                       BY-SA  \n",
       "Whangaparaoa College                                            NaN  \n",
       "NaN                                                             NaN  \n",
       "NaN                                                             NaN  \n",
       "Policies in Progress                                            NaN  \n",
       "These are schools that have expressed an intere...              NaN  \n",
       "School                                              Default Licence  \n",
       "Hutt International Boys School                                  NaN  \n",
       "Carmel College\\n                                                NaN  \n",
       "Marcellin College                                               NaN  \n",
       "Havelock North HS                                               NaN  \n",
       "Saint Catherine's (Wgtn)                                        NaN  \n",
       "Massey Primary School                                           NaN  \n",
       "Sacred Hutt College (Lower Hutt)                                NaN  \n",
       "St Joseph's Catholic School                                     NaN  \n",
       "Wellington East Girls' College                                  NaN  \n",
       "Papanui High School                                             NaN  \n",
       "Kelston Boys High School                                        NaN  \n",
       "Mount Maunganui College                                         NaN  \n",
       "Frankley School                                                 NaN  \n",
       "Cambridge High School                                           NaN  \n",
       "\n",
       "[107 rows x 2 columns]"
      ]
     },
     "execution_count": 3,
     "metadata": {},
     "output_type": "execute_result"
    }
   ],
   "source": [
    "crcom"
   ]
  },
  {
   "cell_type": "code",
   "execution_count": 4,
   "metadata": {
    "collapsed": false
   },
   "outputs": [],
   "source": [
    "aqcom = pd.read_csv('/home/wcmckee/Downloads/List of CC schools - Sheet1.csv', skiprows=6, usecols=[0])"
   ]
  },
  {
   "cell_type": "code",
   "execution_count": 5,
   "metadata": {
    "collapsed": false
   },
   "outputs": [],
   "source": [
    "aqjsz = aqcom.to_json()"
   ]
  },
  {
   "cell_type": "code",
   "execution_count": 6,
   "metadata": {
    "collapsed": false
   },
   "outputs": [],
   "source": [
    "dicthol = json.loads(aqjsz)"
   ]
  },
  {
   "cell_type": "code",
   "execution_count": 7,
   "metadata": {
    "collapsed": false
   },
   "outputs": [],
   "source": [
    "dschoz = dicthol['School']"
   ]
  },
  {
   "cell_type": "code",
   "execution_count": 8,
   "metadata": {
    "collapsed": false
   },
   "outputs": [],
   "source": [
    "#dicthol"
   ]
  },
  {
   "cell_type": "code",
   "execution_count": 9,
   "metadata": {
    "collapsed": false
   },
   "outputs": [],
   "source": [
    "dscv = dschoz.values()"
   ]
  },
  {
   "cell_type": "code",
   "execution_count": 10,
   "metadata": {
    "collapsed": true
   },
   "outputs": [],
   "source": [
    "ccschool = list()"
   ]
  },
  {
   "cell_type": "code",
   "execution_count": 11,
   "metadata": {
    "collapsed": false
   },
   "outputs": [],
   "source": [
    "for ds in range(87):\n",
    "    #print(dschoz[str(ds)])\n",
    "    ccschool.append((dschoz[str(ds)]))"
   ]
  },
  {
   "cell_type": "code",
   "execution_count": 12,
   "metadata": {
    "collapsed": true
   },
   "outputs": [],
   "source": [
    "schccd = dict()"
   ]
  },
  {
   "cell_type": "code",
   "execution_count": 13,
   "metadata": {
    "collapsed": false
   },
   "outputs": [],
   "source": [
    "scda = dict({'cc' : True})"
   ]
  },
  {
   "cell_type": "code",
   "execution_count": 14,
   "metadata": {
    "collapsed": true
   },
   "outputs": [],
   "source": [
    "sanoc = dict({'cc' : False})"
   ]
  },
  {
   "cell_type": "code",
   "execution_count": 15,
   "metadata": {
    "collapsed": false
   },
   "outputs": [],
   "source": [
    "#schccd.update({ccs : scda})"
   ]
  },
  {
   "cell_type": "code",
   "execution_count": 16,
   "metadata": {
    "collapsed": false
   },
   "outputs": [],
   "source": [
    "for ccs in ccschool:\n",
    "    #These schools have a cc license. Update the list of all schools with cc and value = true.\n",
    "    #Focus on schools that don't have cc license.\n",
    "    #Filter schools in area that don't have cc license.\n",
    "    #print (ccs)\n",
    "    schccd.update({ccs : scda})"
   ]
  },
  {
   "cell_type": "code",
   "execution_count": 17,
   "metadata": {
    "collapsed": true
   },
   "outputs": [],
   "source": [
    "ccschz = list()"
   ]
  },
  {
   "cell_type": "code",
   "execution_count": 18,
   "metadata": {
    "collapsed": false
   },
   "outputs": [],
   "source": [
    "for dsc in range(87):\n",
    "    #print (dschoz[str(dsc)])\n",
    "    ccschz.append((dschoz[str(dsc)]))"
   ]
  },
  {
   "cell_type": "code",
   "execution_count": 19,
   "metadata": {
    "collapsed": false
   },
   "outputs": [],
   "source": [
    "#Append in names of schools that are missing from this dict. \n",
    "#Something like\n",
    "#schccd.update{school that doesnt have cc : {'cc' : False}}\n",
    "#schccd"
   ]
  },
  {
   "cell_type": "markdown",
   "metadata": {},
   "source": [
    "Cycle through only first 89 values - stop when reaching : These are schools that have expressed an interest in CC, and may have a policy in progress.\n",
    "\n",
    "New spreadsheet for schools in progress of CC license. Where are they up to? What is the next steps?\n",
    "\n",
    "Why are schools using a license that isn't CC:BY. They really should be using the same license. CC NC is unexceptable. SA would be OK but majority of schools already have CC BY so best to go with what is common so you don't have conflicts of licenses. "
   ]
  },
  {
   "cell_type": "code",
   "execution_count": 20,
   "metadata": {
    "collapsed": false
   },
   "outputs": [],
   "source": [
    "noclist = pd.read_csv('/home/wcmckee/Downloads/Directory-School-current.csv', skiprows=3, usecols=[1])"
   ]
  },
  {
   "cell_type": "code",
   "execution_count": 21,
   "metadata": {
    "collapsed": true
   },
   "outputs": [],
   "source": [
    "privskol = pd.read_csv('/home/wcmckee/Downloads/Directory-School-current.csv', skiprows=3, usecols=[4])"
   ]
  },
  {
   "cell_type": "code",
   "execution_count": 22,
   "metadata": {
    "collapsed": false
   },
   "outputs": [],
   "source": [
    "#noclist.values[0:10]"
   ]
  },
  {
   "cell_type": "code",
   "execution_count": 23,
   "metadata": {
    "collapsed": true
   },
   "outputs": [],
   "source": [
    "aqjaq = noclist.to_json()"
   ]
  },
  {
   "cell_type": "code",
   "execution_count": 24,
   "metadata": {
    "collapsed": false
   },
   "outputs": [],
   "source": [
    "jsaqq = json.loads(aqjaq)"
   ]
  },
  {
   "cell_type": "code",
   "execution_count": 25,
   "metadata": {
    "collapsed": false
   },
   "outputs": [],
   "source": [
    "najsa = jsaqq['Name']"
   ]
  },
  {
   "cell_type": "code",
   "execution_count": 26,
   "metadata": {
    "collapsed": false
   },
   "outputs": [],
   "source": [
    "alsl = len(najsa)"
   ]
  },
  {
   "cell_type": "code",
   "execution_count": 27,
   "metadata": {
    "collapsed": true
   },
   "outputs": [],
   "source": [
    "allschlis = list()"
   ]
  },
  {
   "cell_type": "code",
   "execution_count": 28,
   "metadata": {
    "collapsed": false
   },
   "outputs": [],
   "source": [
    "for alr in range(alsl):\n",
    "    allschlis.append(najsa[str(alr)])"
   ]
  },
  {
   "cell_type": "code",
   "execution_count": 29,
   "metadata": {
    "collapsed": false
   },
   "outputs": [],
   "source": [
    "#allschlis"
   ]
  },
  {
   "cell_type": "code",
   "execution_count": 31,
   "metadata": {
    "collapsed": false
   },
   "outputs": [],
   "source": [
    "newlis = list(set(allschlis) - set(ccschool))"
   ]
  },
  {
   "cell_type": "code",
   "execution_count": 32,
   "metadata": {
    "collapsed": true
   },
   "outputs": [],
   "source": [
    "empd = dict()"
   ]
  },
  {
   "cell_type": "markdown",
   "metadata": {},
   "source": [
    "Create restfulapi of schools thaat have cc and those that don't\n",
    "\n",
    "Merge two dicts together.\n",
    "Both are \n",
    "{name of school : 'cc' : 'True'/'False'}"
   ]
  },
  {
   "cell_type": "code",
   "execution_count": null,
   "metadata": {
    "collapsed": true
   },
   "outputs": [],
   "source": []
  },
  {
   "cell_type": "code",
   "execution_count": null,
   "metadata": {
    "collapsed": true
   },
   "outputs": [],
   "source": []
  },
  {
   "cell_type": "code",
   "execution_count": null,
   "metadata": {
    "collapsed": true
   },
   "outputs": [],
   "source": []
  },
  {
   "cell_type": "code",
   "execution_count": 34,
   "metadata": {
    "collapsed": false
   },
   "outputs": [],
   "source": [
    "for newl in newlis:\n",
    "    #print (newl)\n",
    "    empd.update({newl : sanoc})"
   ]
  },
  {
   "cell_type": "markdown",
   "metadata": {
    "collapsed": false
   },
   "source": [
    "json.dumps(empd)"
   ]
  },
  {
   "cell_type": "code",
   "execution_count": null,
   "metadata": {
    "collapsed": true
   },
   "outputs": [],
   "source": []
  },
  {
   "cell_type": "code",
   "execution_count": 200,
   "metadata": {
    "collapsed": false
   },
   "outputs": [],
   "source": [
    "#for naj in najsa.values():\n",
    "    #print (naj)\n",
    "#    for schk in schccd.keys():\n",
    "        #print(schk)\n",
    "#        allschlis.append(schk)"
   ]
  },
  {
   "cell_type": "code",
   "execution_count": 209,
   "metadata": {
    "collapsed": false
   },
   "outputs": [],
   "source": [
    "#for i in ccschz[:]:\n",
    "#    if i in allschlis:\n",
    "#        ccschz.remove(i)\n",
    "#        allschlis.remove(i)"
   ]
  },
  {
   "cell_type": "code",
   "execution_count": 242,
   "metadata": {
    "collapsed": false
   },
   "outputs": [],
   "source": [
    "#Cycle though some schools rather than everything. \n",
    "#Cycle though all schools and find schools that have cc \n",
    "#for naj in range(2543):\n",
    "    #print(najsa[str(naj)])\n",
    "#    for schk in schccd.keys():\n",
    "#        if schk in (najsa[str(naj)]):\n",
    "            #Remove these schools from the list\n",
    "#            print (schk)\n",
    "            "
   ]
  }
 ],
 "metadata": {
  "kernelspec": {
   "display_name": "Python 3",
   "language": "python",
   "name": "python3"
  },
  "language_info": {
   "codemirror_mode": {
    "name": "ipython",
    "version": 3
   },
   "file_extension": ".py",
   "mimetype": "text/x-python",
   "name": "python",
   "nbconvert_exporter": "python",
   "pygments_lexer": "ipython3",
   "version": "3.4.2"
  }
 },
 "nbformat": 4,
 "nbformat_minor": 0
}
