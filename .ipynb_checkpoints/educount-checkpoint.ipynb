{
 "cells": [
  {
   "cell_type": "markdown",
   "metadata": {
    "collapsed": true
   },
   "source": [
    "ece-display: Education Counts\n",
    "    \n",
    "Python script to remix educationcounts govt site. \n",
    "\n",
    "Display more info in one page.\n",
    "\n",
    "Scrape links for excel files - download excel files to folder.\n",
    "\n",
    "Remove excel files and instead display as more friendly json object and pandas dataframe for display. \n",
    "\n",
    "\n",
    "    "
   ]
  },
  {
   "cell_type": "code",
   "execution_count": 13,
   "metadata": {
    "collapsed": true
   },
   "outputs": [],
   "source": []
  },
  {
   "cell_type": "code",
   "execution_count": 50,
   "metadata": {
    "collapsed": true
   },
   "outputs": [],
   "source": [
    "import bs4\n",
    "import requests\n",
    "import dominate\n",
    "from dominate.tags import *\n",
    "import os\n",
    "import shutil\n",
    "import json\n",
    "from urlparse import urlparse\n"
   ]
  },
  {
   "cell_type": "code",
   "execution_count": 50,
   "metadata": {
    "collapsed": true
   },
   "outputs": [],
   "source": []
  },
  {
   "cell_type": "code",
   "execution_count": 15,
   "metadata": {
    "collapsed": true
   },
   "outputs": [],
   "source": [
    "eceall = requests.get('https://www.educationcounts.govt.nz')"
   ]
  },
  {
   "cell_type": "code",
   "execution_count": 16,
   "metadata": {
    "collapsed": false
   },
   "outputs": [],
   "source": [
    "#eceall.text"
   ]
  },
  {
   "cell_type": "markdown",
   "metadata": {
    "collapsed": true
   },
   "source": [
    "<li class=\"span4\">\n",
    "<a href=\"early-childhood-education/language-use-in-ece\">\n",
    "<h3><span>Language use in ECE</span></h3>\n",
    "<div class=\"info-wrapper\"><p>Statistics on language use in ECE, including tables on number of services, …</p>\n",
    "</div>"
   ]
  },
  {
   "cell_type": "code",
   "execution_count": 17,
   "metadata": {
    "collapsed": false
   },
   "outputs": [],
   "source": [
    "edcounz = bs4.BeautifulSoup(eceall.text)"
   ]
  },
  {
   "cell_type": "code",
   "execution_count": 18,
   "metadata": {
    "collapsed": false
   },
   "outputs": [],
   "source": [
    "eduht = edcounz.findAll('a')"
   ]
  },
  {
   "cell_type": "code",
   "execution_count": 47,
   "metadata": {
    "collapsed": true
   },
   "outputs": [],
   "source": [
    "urldict = dict()"
   ]
  },
  {
   "cell_type": "code",
   "execution_count": 48,
   "metadata": {
    "collapsed": false
   },
   "outputs": [],
   "source": [
    "urldict.update({'text' : (edu.text)})\n",
    "urldict.update({'url' : (edu.attrs['href'])})"
   ]
  },
  {
   "cell_type": "code",
   "execution_count": 42,
   "metadata": {
    "collapsed": false
   },
   "outputs": [
    {
     "ename": "SyntaxError",
     "evalue": "invalid syntax (<ipython-input-42-547404844573>, line 1)",
     "output_type": "error",
     "traceback": [
      "\u001b[1;36m  File \u001b[1;32m\"<ipython-input-42-547404844573>\"\u001b[1;36m, line \u001b[1;32m1\u001b[0m\n\u001b[1;33m    urldict.update('test':'blah')\u001b[0m\n\u001b[1;37m                         ^\u001b[0m\n\u001b[1;31mSyntaxError\u001b[0m\u001b[1;31m:\u001b[0m invalid syntax\n"
     ]
    }
   ],
   "source": [
    "#urldict.update('test':'blah')"
   ]
  },
  {
   "cell_type": "code",
   "execution_count": null,
   "metadata": {
    "collapsed": true
   },
   "outputs": [],
   "source": []
  },
  {
   "cell_type": "code",
   "execution_count": 49,
   "metadata": {
    "collapsed": false
   },
   "outputs": [
    {
     "data": {
      "text/plain": [
       "{'text': u'Know your Region',\n",
       " 'url': 'https://www.educationcounts.govt.nz/know-your-region'}"
      ]
     },
     "execution_count": 49,
     "metadata": {},
     "output_type": "execute_result"
    }
   ],
   "source": [
    "urldict"
   ]
  },
  {
   "cell_type": "markdown",
   "metadata": {},
   "source": [
    "Create a RESTful api from the url.\n",
    "json structure that has \n",
    "title, slug, url, details, path\n",
    "\n",
    "Parse url removing https://www.educationcounts.govt.nz/ - seprate them into folders. \n",
    "\n",
    "\n",
    "6198"
   ]
  },
  {
   "cell_type": "code",
   "execution_count": 64,
   "metadata": {
    "collapsed": false
   },
   "outputs": [
    {
     "data": {
      "text/plain": [
       "'https://www.educationcounts.govt.nz/know-your-region'"
      ]
     },
     "execution_count": 64,
     "metadata": {},
     "output_type": "execute_result"
    }
   ],
   "source": [
    "urldict['url']"
   ]
  },
  {
   "cell_type": "code",
   "execution_count": null,
   "metadata": {
    "collapsed": true
   },
   "outputs": [],
   "source": []
  },
  {
   "cell_type": "code",
   "execution_count": null,
   "metadata": {
    "collapsed": true
   },
   "outputs": [],
   "source": []
  },
  {
   "cell_type": "code",
   "execution_count": null,
   "metadata": {
    "collapsed": true
   },
   "outputs": [],
   "source": []
  },
  {
   "cell_type": "code",
   "execution_count": 65,
   "metadata": {
    "collapsed": true
   },
   "outputs": [],
   "source": [
    "o = urlparse(urldict['url'])"
   ]
  },
  {
   "cell_type": "code",
   "execution_count": 67,
   "metadata": {
    "collapsed": false
   },
   "outputs": [],
   "source": [
    "urldict.update({'path' : o.path})"
   ]
  },
  {
   "cell_type": "code",
   "execution_count": 68,
   "metadata": {
    "collapsed": false
   },
   "outputs": [
    {
     "data": {
      "text/plain": [
       "{'path': '/know-your-region',\n",
       " 'text': u'Know your Region',\n",
       " 'url': 'https://www.educationcounts.govt.nz/know-your-region'}"
      ]
     },
     "execution_count": 68,
     "metadata": {},
     "output_type": "execute_result"
    }
   ],
   "source": [
    "urldict"
   ]
  },
  {
   "cell_type": "code",
   "execution_count": 59,
   "metadata": {
    "collapsed": false
   },
   "outputs": [
    {
     "name": "stdout",
     "output_type": "stream",
     "text": [
      "/\n",
      "\n",
      "\n",
      "\n",
      "\n",
      "/know-your-region\n",
      "/find-an-els\n",
      "/find-school\n",
      "/topics\n",
      "/topics\n",
      "/topics/BES\n",
      "/topics/ict_themes\n",
      "/topics/international-education\n",
      "/topics/ministry-of-education-library\n",
      "/topics/31351\n",
      "/topics/pasifika_education\n",
      "/topics/national-education\n",
      "/topics/research\n",
      "/topics/26298\n",
      "/indicators\n",
      "/publications\n",
      "/statistics\n",
      "/statistics\n",
      "/statistics/early-childhood-education\n",
      "/statistics/early-childhood-education/annual-ece-summary-reports\n",
      "/statistics/early-childhood-education/participation\n",
      "/statistics/early-childhood-education/services\n",
      "/statistics/early-childhood-education/finances\n",
      "/statistics/early-childhood-education/staffing\n",
      "/statistics/early-childhood-education/language-use-in-ece\n",
      "/statistics/schooling\n",
      "/statistics/schooling/student-numbers\n",
      "/statistics/schooling/number-of-schools\n",
      "/statistics/schooling/national-standards/National_Standards\n",
      "/statistics/schooling/nga-whanaketanga-rumaki-maori-achievement-results\n",
      "/statistics/schooling/senior-student-attainment\n",
      "/statistics/schooling/teaching_staff\n",
      "/statistics/schooling/resourcing\n",
      "/statistics/schooling/board_of_trustees\n",
      "/statistics/tertiary-education\n",
      "/statistics/tertiary-education/transition-from-school-to-tertiary\n",
      "/statistics/tertiary-education/participation\n",
      "/statistics/tertiary-education/retention_and_achievement\n",
      "/statistics/tertiary-education/research\n",
      "/statistics/tertiary-education/resources\n",
      "/statistics/tertiary-education/financial_performance\n",
      "/statistics/tertiary-education/financial_support_for_students\n",
      "/statistics/tertiary-education/life_after_study\n",
      "/statistics/tertiary-education/summary_tables\n",
      "/statistics/tertiary-education/university-rankings\n",
      "/statistics/maori-education\n",
      "/statistics/maori-education/maori-in-schooling\n",
      "/statistics/maori-education/tertiary-education\n",
      "/statistics/pasifika-education\n",
      "/statistics/pasifika-education/progress_against_pasifika_education_plan_targets\n",
      "/statistics/archived/pasifika-in-schooling\n",
      "/statistics/pasifika-education/tertiary-education\n",
      "/statistics/international-education\n",
      "/statistics/international-education/students-international-learning2\n",
      "/statistics/international-education/international-students-in-new-zealand\n",
      "/statistics/international-education/internationalisation-of-education-providers-in-nz2\n",
      "/statistics/international-education/benefits-of-international-education-for-nz2\n",
      "/statistics/special-education\n",
      "/statistics/special-education/ongoing-resourcing-scheme\n",
      "/data-services\n",
      "/data-services\n",
      "/data-services/glossary\n",
      "/data-services/glossary\n",
      "/data-services/glossary\n",
      "/data-services/glossary\n",
      "/data-services/glossary\n",
      "/data-services/glossary\n",
      "/data-services/glossary\n",
      "/data-services/glossary\n",
      "/data-services/glossary\n",
      "/data-services/glossary\n",
      "/data-services/glossary\n",
      "/data-services/glossary\n",
      "/data-services/glossary\n",
      "/data-services/glossary\n",
      "/data-services/glossary\n",
      "/data-services/glossary\n",
      "/data-services/glossary\n",
      "/data-services/glossary\n",
      "/data-services/glossary\n",
      "/data-services/glossary\n",
      "/data-services/glossary\n",
      "/data-services/glossary\n",
      "/data-services/glossary\n",
      "/data-services/glossary\n",
      "/data-services/glossary\n",
      "/data-services/glossary\n",
      "/data-services/collecting-information\n",
      "/data-services/collecting-information/code-sets-and-classifications\n",
      "/data-services/collecting-information/collection-forms\n",
      "/data-services/collecting-information/guidelines\n",
      "/data-services/collecting-information/school-enrolment-zones\n",
      "/data-services/collecting-information/school-sms-roll-returns-2015\n",
      "/data-services/collecting-information/sms_roll_returns\n",
      "/data-services/data-collections\n",
      "/data-services/data-collections/all\n",
      "/data-services/data-collections/boards_of_trustees\n",
      "/data-services/data-collections/ecesmc\n",
      "/data-services/data-collections/ece_staff_return\n",
      "/data-services/data-collections/iccs_data\n",
      "/data-services/data-collections/integrated_student_loan_dataset\n",
      "/data-services/data-collections/nemp\n",
      "/data-services/data-collections/piaac\n",
      "/data-services/data-collections/pirls\n",
      "/data-services/data-collections/pisa\n",
      "/data-services/data-collections/reading-recovery-electronic-returns\n",
      "/data-services/data-collections/rtlit\n",
      "/data-services/data-collections/school_leavers\n",
      "/data-services/data-collections/school-roll-return\n",
      "/data-services/data-collections/school-statistics-monitoring-committee\n",
      "/data-services/data-collections/sdr\n",
      "/data-services/data-collections/student_engagement\n",
      "/data-services/data-collections/talis\n",
      "/data-services/data-collections/teacher_census\n",
      "/data-services/data-collections/tertiary_enrolment_data\n",
      "/data-services/data-collections/timss\n",
      "/data-services/directories\n",
      "/data-services/directories\n",
      "/data-services/directories\n",
      "/topics/national-education\n",
      "/statistics/schooling/national-standards\n",
      "/publications\n",
      "/data-services/data-collections\n",
      "/topics/bes\n",
      "/theMinistry/EducationInitiatives/InvestingInEducationalSuccess.aspx\n",
      "/know-your-region\n",
      "/find-school\n",
      "/find-an-els\n",
      "/topics\n",
      "/indicators\n",
      "/publications\n",
      "/statistics\n",
      "/data-services\n",
      "/\n",
      "\n",
      "/know-your-region\n",
      "/find-school\n",
      "/find-an-els\n",
      "/topics\n",
      "/topics/bes\n",
      "/topics/bes/developing-mathematical-inquiry-communities\n",
      "/topics/bes/Whats-New\n",
      "/topics/bes/Whats-New/deakerberryman-interview\n",
      "/topics/bes/Whats-New/full-set-of-bess\n",
      "/topics/bes/Whats-New/bes-exemplars\n",
      "/topics/bes/Whats-New/developing-communities-of-mathematical-inquiry\n",
      "/topics/bes/resources\n",
      "/topics/bes/resources/bes-exemplars\n",
      "/topics/bes/resources/bes-exemplars/full-set-of-bess2\n",
      "/topics/bes/resources/bes-exemplars/bess-and-cases\n",
      "/topics/bes/resources/bes-exemplars/whats-new\n",
      "/topics/bes/resources/bess-and-cases\n",
      "/topics/bes/resources/bess-and-cases/key_accordion\n",
      "/topics/bes/resources/bess-and-cases/whats-new\n",
      "/topics/bes/resources/bess-and-cases/bes-exemplars\n",
      "/topics/bes/resources/bes-programme\n",
      "/topics/bes/resources/bes-programme/bes-exemplars\n",
      "/topics/bes/resources/bes-programme/full-set-of-bess\n",
      "/topics/bes/resources/spotlight-on\n",
      "/topics/bes/resources/spotlight-on/spotlight-on-counter-bullying-pedagogies\n",
      "/topics/bes/resources/spotlight-on/spotlight-on-mathematics-pangarau\n",
      "/topics/bes/resources/spotlight-on/spotlight-on-leadership\n",
      "/topics/bes/resources/spotlight-on/the-use-of-evidence-in-policy\n",
      "/topics/bes/useful-links-and-publications\n",
      "/topics/bes/useful-links-and-publications/bes-exemplars\n",
      "/topics/bes/about-bes\n",
      "/topics/ict_themes\n",
      "/topics/international-education\n",
      "/topics/ministry-of-education-library\n",
      "/topics/ministry-of-education-library/education-library\n",
      "/topics/31351\n",
      "/topics/pasifika_education\n",
      "/topics/national-education\n",
      "/topics/national-education/ece-participation-statistics2\n",
      "/topics/national-education/18-year-olds-with-a-minimum-of-ncea-level-2-or-equivalent\n",
      "/topics/national-education/school-leavers-with-ncea-level-2-or-above\n",
      "/topics/national-education/national-standards2\n",
      "/topics/national-education/nga-whanaketanga\n",
      "/topics/national-education/public-achievement-information\n",
      "/topics/research\n",
      "/topics/research/52109\n",
      "/topics/research/all\n",
      "/topics/research/iccs_data\n",
      "/topics/research/nmssa\n",
      "/topics/research/piaac\n",
      "/topics/research/pirls\n",
      "/topics/research/pisa\n",
      "/topics/research/6858\n",
      "/topics/research/6858/6578\n",
      "/topics/research/16721\n",
      "/topics/research/talis\n",
      "/topics/research/timss\n",
      "/topics/research/research_division\n",
      "/topics/26298\n",
      "/topics/26298/ministry-of-education-student-loans\n",
      "/topics/26298/statistics-nz-student-loans\n",
      "/topics/26298/studylink-website\n",
      "/topics/26298/inland-revenue-website\n",
      "/indicators\n",
      "/publications\n",
      "/publications/series\n",
      "/publications/ECE\n",
      "/publications/schooling\n",
      "/publications/80898\n",
      "/publications/special_education\n",
      "/publications/maori\n",
      "/publications/maori/105966\n",
      "/publications/maori/english-medium-education\n",
      "/publications/maori/maori-medium-and-english-medium\n",
      "/publications/pasifika\n",
      "/publications/international\n",
      "/publications/ict\n",
      "/publications/curriculum\n",
      "/publications/literacy\n",
      "/publications/numeracy\n",
      "/statistics\n",
      "/statistics/early-childhood-education\n",
      "/statistics/early-childhood-education/annual-ece-summary-reports\n",
      "/statistics/early-childhood-education/participation\n",
      "/statistics/early-childhood-education/services\n",
      "/statistics/early-childhood-education/finances\n",
      "/statistics/early-childhood-education/staffing\n",
      "/statistics/early-childhood-education/language-use-in-ece\n",
      "/statistics/schooling\n",
      "/statistics/schooling/student-numbers\n",
      "/statistics/schooling/number-of-schools\n",
      "/statistics/schooling/national-standards\n",
      "/statistics/schooling/nga-whanaketanga-rumaki-maori-achievement-results\n",
      "/statistics/schooling/senior-student-attainment\n",
      "/statistics/schooling/senior-student-attainment/school-leavers2\n",
      "/statistics/schooling/senior-student-attainment/ncea-attainment\n",
      "/statistics/schooling/senior-student-attainment/18-year-olds-with-level-2-or-equivalent\n",
      "/statistics/schooling/teaching_staff\n",
      "/statistics/schooling/resourcing\n",
      "/statistics/schooling/board_of_trustees\n",
      "/statistics/tertiary_education\n",
      "/statistics/tertiary_education/transition-from-school-to-tertiary\n",
      "/statistics/tertiary_education/participation\n",
      "/statistics/tertiary_education/retention_and_achievement\n",
      "/statistics/tertiary_education/research\n",
      "/statistics/tertiary_education/resources\n",
      "/statistics/tertiary_education/financial_performance\n",
      "/statistics/tertiary_education/financial_support_for_students\n",
      "/statistics/tertiary_education/life_after_study\n",
      "/statistics/tertiary_education/summary_tables\n",
      "/statistics/tertiary_education/university-rankings\n",
      "/statistics/maori-education\n",
      "/statistics/maori-education/maori-in-schooling\n",
      "/statistics/maori-education/maori-in-schooling/6040\n",
      "/statistics/maori-education/maori-in-schooling/participation-and-attainment-of-maori-students-in-national-certificate-of-educational-achievement\n",
      "/statistics/maori-education/tertiary-education\n",
      "/statistics/pasifika-education\n",
      "/statistics/pasifika-education/progress_against_pasifika_education_plan_targets\n",
      "/statistics/pasifika-education/pasifika-in-schooling\n",
      "/statistics/pasifika-education/tertiary-education\n",
      "/statistics/international-education\n",
      "/statistics/international-education/international-students-in-new-zealand\n",
      "/statistics/international-education/internationalisation-of-education-providers-in-nz2\n",
      "/statistics/international-education/benefits-of-international-education-for-nz2\n",
      "/statistics/international-education/students-international-learning2\n",
      "/statistics/special-education\n",
      "/statistics/special-education/ongoing-resourcing-scheme\n",
      "/data-services\n",
      "/data-services/collecting-information\n",
      "/data-services/collecting-information/code-sets-and-classifications\n",
      "/data-services/collecting-information/collection-forms\n",
      "/data-services/collecting-information/guidelines\n",
      "/data-services/collecting-information/school-enrolment-zones\n",
      "/data-services/collecting-information/school-sms-roll-returns-2015\n",
      "/data-services/collecting-information/sms_roll_returns\n",
      "/data-services/data-collections\n",
      "/data-services/data-collections/all\n",
      "/data-services/data-collections/ece_staff_return\n",
      "/data-services/data-collections/boards_of_trustees\n",
      "/data-services/data-collections/ecesmc\n",
      "/data-services/data-collections/iccs_data\n",
      "/data-services/data-collections/integrated_student_loan_dataset\n",
      "/data-services/data-collections/nemp\n",
      "/data-services/data-collections/piaac\n",
      "/data-services/data-collections/pirls\n",
      "/data-services/data-collections/pisa\n",
      "/data-services/data-collections/reading-recovery-electronic-returns\n",
      "/data-services/data-collections/rtlit\n",
      "/data-services/data-collections/school_leavers\n",
      "/data-services/data-collections/school-roll-return\n",
      "/data-services/data-collections/school-statistics-monitoring-committee\n",
      "/data-services/data-collections/sdr\n",
      "/data-services/data-collections/student_engagement\n",
      "/data-services/data-collections/talis\n",
      "/data-services/data-collections/teacher_census\n",
      "/data-services/data-collections/tertiary_enrolment_data\n",
      "/data-services/data-collections/timss\n",
      "/data-services/directories\n",
      "/data-services/directories/early-childhood-services\n",
      "/data-services/directories/early-childhood-services/ministry-of-education-20-hours-ece\n",
      "/data-services/directories/maori-medium-schools\n",
      "/data-services/directories/maori-medium-schools/te-kete-ipurangi\n",
      "/data-services/directories/list-of-nz-schools\n",
      "/data-services/directories/private-schools\n",
      "/data-services/directories/6136\n",
      "/data-services/directories/6136/directories\n",
      "/data-services/directories/list-of-tertiary-providers\n",
      "/data-services/glossary\n",
      "/site-info/site-map\n",
      "/site-info/contact-us\n",
      "/site-info/about-this-site\n",
      "/site-info/accessibility\n",
      "/site-info/privacy\n",
      "/site-info/links\n",
      "\n",
      "\n",
      "\n"
     ]
    }
   ],
   "source": [
    "for edu in eduht:\n",
    "        #print edu.text\n",
    "        #print edu.attrs['href']\n",
    "        minpath = urlparse(edu.attrs['href'])\n",
    "        print minpath.path\n",
    "        #urldict.update({'path' : minpath.path})"
   ]
  },
  {
   "cell_type": "code",
   "execution_count": 60,
   "metadata": {
    "collapsed": false
   },
   "outputs": [
    {
     "data": {
      "text/plain": [
       "{'path': '',\n",
       " 'text': u'Know your Region',\n",
       " 'url': 'https://www.educationcounts.govt.nz/know-your-region'}"
      ]
     },
     "execution_count": 60,
     "metadata": {},
     "output_type": "execute_result"
    }
   ],
   "source": [
    "urldict"
   ]
  },
  {
   "cell_type": "code",
   "execution_count": null,
   "metadata": {
    "collapsed": true
   },
   "outputs": [],
   "source": []
  },
  {
   "cell_type": "code",
   "execution_count": 20,
   "metadata": {
    "collapsed": false
   },
   "outputs": [],
   "source": [
    "\n",
    "doc = dominate.document(title='Education Counts')\n",
    "\n",
    "with doc.head:\n",
    "    link(rel='stylesheet', href='style.css')\n",
    "    script(type='text/javascript', src='script.js')\n",
    "\n",
    "with doc:\n",
    "    #with div(id='header').add(ol()):\n",
    "        #for i in ['home', 'about', 'contact']:\n",
    "            #li(a(i.title(), href='/%s.html' % i))\n",
    "\n",
    "    with div():\n",
    "        for edu in eduht:\n",
    "            a(dominate.tags.p(edu.text), href = (edu.attrs['href']))\n",
    "            #p(edu.txt)\n",
    "            #dominate.tags.p(edu.attrs['href'])\n",
    "            #a(dominate.tags.p(edu.text), href=dominate.tags.a(edu.attrs['href']))\n",
    "            \n",
    "            #print edu.text\n",
    "\n",
    "#print doc"
   ]
  },
  {
   "cell_type": "code",
   "execution_count": 21,
   "metadata": {
    "collapsed": true
   },
   "outputs": [],
   "source": [
    "docre = doc.render()\n",
    "#s = docre.decode('ascii', 'ignore')\n",
    "yourstring = docre.encode('ascii', 'ignore').decode('ascii')\n",
    "indfil = ('/home/wcmckee/educount/index.html')\n",
    "mkind = open(indfil, 'w')\n",
    "mkind.write(yourstring)\n",
    "mkind.close()"
   ]
  },
  {
   "cell_type": "code",
   "execution_count": 22,
   "metadata": {
    "collapsed": true
   },
   "outputs": [],
   "source": [
    "os.chdir('/home/wcmckee/educount/html/')"
   ]
  },
  {
   "cell_type": "code",
   "execution_count": 23,
   "metadata": {
    "collapsed": false
   },
   "outputs": [
    {
     "name": "stdout",
     "output_type": "stream",
     "text": [
      "https://www.educationcounts.govt.nz/know-your-region\n"
     ]
    },
    {
     "ename": "AttributeError",
     "evalue": "'Response' object has no attribute 'read'",
     "output_type": "error",
     "traceback": [
      "\u001b[1;31m---------------------------------------------------------------------------\u001b[0m",
      "\u001b[1;31mAttributeError\u001b[0m                            Traceback (most recent call last)",
      "\u001b[1;32m<ipython-input-23-c3639483d0b8>\u001b[0m in \u001b[0;36m<module>\u001b[1;34m()\u001b[0m\n\u001b[0;32m      4\u001b[0m         \u001b[0mresponse\u001b[0m \u001b[1;33m=\u001b[0m \u001b[0mrequests\u001b[0m\u001b[1;33m.\u001b[0m\u001b[0mget\u001b[0m\u001b[1;33m(\u001b[0m\u001b[1;33m(\u001b[0m\u001b[0medu\u001b[0m\u001b[1;33m.\u001b[0m\u001b[0mattrs\u001b[0m\u001b[1;33m[\u001b[0m\u001b[1;34m'href'\u001b[0m\u001b[1;33m]\u001b[0m\u001b[1;33m)\u001b[0m\u001b[1;33m,\u001b[0m \u001b[0mstream\u001b[0m\u001b[1;33m=\u001b[0m\u001b[0mTrue\u001b[0m\u001b[1;33m)\u001b[0m\u001b[1;33m\u001b[0m\u001b[0m\n\u001b[0;32m      5\u001b[0m         \u001b[1;32mwith\u001b[0m \u001b[0mopen\u001b[0m\u001b[1;33m(\u001b[0m\u001b[0mstr\u001b[0m\u001b[1;33m(\u001b[0m\u001b[0medu\u001b[0m\u001b[1;33m.\u001b[0m\u001b[0mtext\u001b[0m \u001b[1;33m+\u001b[0m \u001b[1;34m'.html'\u001b[0m\u001b[1;33m)\u001b[0m\u001b[1;33m,\u001b[0m \u001b[1;34m'wb'\u001b[0m\u001b[1;33m)\u001b[0m \u001b[1;32mas\u001b[0m \u001b[0mout_file\u001b[0m\u001b[1;33m:\u001b[0m\u001b[1;33m\u001b[0m\u001b[0m\n\u001b[1;32m----> 6\u001b[1;33m             \u001b[0mshutil\u001b[0m\u001b[1;33m.\u001b[0m\u001b[0mcopyfileobj\u001b[0m\u001b[1;33m(\u001b[0m\u001b[1;33m(\u001b[0m\u001b[0mresponse\u001b[0m\u001b[1;33m)\u001b[0m\u001b[1;33m,\u001b[0m \u001b[0mout_file\u001b[0m\u001b[1;33m)\u001b[0m\u001b[1;33m\u001b[0m\u001b[0m\n\u001b[0m\u001b[0;32m      7\u001b[0m             \u001b[1;32mdel\u001b[0m \u001b[0mresponse\u001b[0m\u001b[1;33m\u001b[0m\u001b[0m\n\u001b[0;32m      8\u001b[0m         \u001b[1;31m#requests.get((edu.attrs['href']))\u001b[0m\u001b[1;33m\u001b[0m\u001b[1;33m\u001b[0m\u001b[0m\n",
      "\u001b[1;32m/usr/lib/python2.7/shutil.pyc\u001b[0m in \u001b[0;36mcopyfileobj\u001b[1;34m(fsrc, fdst, length)\u001b[0m\n\u001b[0;32m     47\u001b[0m     \u001b[1;34m\"\"\"copy data from file-like object fsrc to file-like object fdst\"\"\"\u001b[0m\u001b[1;33m\u001b[0m\u001b[0m\n\u001b[0;32m     48\u001b[0m     \u001b[1;32mwhile\u001b[0m \u001b[1;36m1\u001b[0m\u001b[1;33m:\u001b[0m\u001b[1;33m\u001b[0m\u001b[0m\n\u001b[1;32m---> 49\u001b[1;33m         \u001b[0mbuf\u001b[0m \u001b[1;33m=\u001b[0m \u001b[0mfsrc\u001b[0m\u001b[1;33m.\u001b[0m\u001b[0mread\u001b[0m\u001b[1;33m(\u001b[0m\u001b[0mlength\u001b[0m\u001b[1;33m)\u001b[0m\u001b[1;33m\u001b[0m\u001b[0m\n\u001b[0m\u001b[0;32m     50\u001b[0m         \u001b[1;32mif\u001b[0m \u001b[1;32mnot\u001b[0m \u001b[0mbuf\u001b[0m\u001b[1;33m:\u001b[0m\u001b[1;33m\u001b[0m\u001b[0m\n\u001b[0;32m     51\u001b[0m             \u001b[1;32mbreak\u001b[0m\u001b[1;33m\u001b[0m\u001b[0m\n",
      "\u001b[1;31mAttributeError\u001b[0m: 'Response' object has no attribute 'read'"
     ]
    }
   ],
   "source": [
    "for edu in eduht:\n",
    "    if 'http' in (edu.attrs['href']):\n",
    "        print (edu.attrs['href'])\n",
    "        response = requests.get((edu.attrs['href']), stream=True)\n",
    "        with open(str(edu.text + '.html'), 'wb') as out_file:\n",
    "            shutil.copyfileobj((response), out_file)\n",
    "            del response\n",
    "        #requests.get((edu.attrs['href']))"
   ]
  },
  {
   "cell_type": "code",
   "execution_count": null,
   "metadata": {
    "collapsed": true
   },
   "outputs": [],
   "source": []
  }
 ],
 "metadata": {
  "kernelspec": {
   "display_name": "Python 2",
   "name": "python2"
  },
  "language_info": {
   "codemirror_mode": {
    "name": "ipython",
    "version": 2
   },
   "file_extension": ".py",
   "mimetype": "text/x-python",
   "name": "python",
   "nbconvert_exporter": "python",
   "pygments_lexer": "ipython2",
   "version": "2.7.9"
  }
 },
 "nbformat": 4,
 "nbformat_minor": 0
}
