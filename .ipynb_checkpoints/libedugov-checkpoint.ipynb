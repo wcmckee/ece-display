{
 "cells": [
  {
   "cell_type": "markdown",
   "metadata": {},
   "source": [
    "Library Education Govt \n",
    "\n",
    "Script to deal with rss xml feed of library.education.govt.nz"
   ]
  },
  {
   "cell_type": "code",
   "execution_count": 1,
   "metadata": {
    "collapsed": true
   },
   "outputs": [],
   "source": [
    "import requests\n",
    "import json\n",
    "import xmltodict"
   ]
  },
  {
   "cell_type": "code",
   "execution_count": 2,
   "metadata": {
    "collapsed": true
   },
   "outputs": [],
   "source": [
    "reqlib = requests.get('https://library.education.govt.nz/rss/highlights')"
   ]
  },
  {
   "cell_type": "code",
   "execution_count": 3,
   "metadata": {
    "collapsed": false
   },
   "outputs": [],
   "source": [
    "reqlibt = reqlib.text"
   ]
  },
  {
   "cell_type": "code",
   "execution_count": 4,
   "metadata": {
    "collapsed": false
   },
   "outputs": [],
   "source": [
    "libtd = xmltodict.parse(reqlibt)"
   ]
  },
  {
   "cell_type": "code",
   "execution_count": 5,
   "metadata": {
    "collapsed": false
   },
   "outputs": [],
   "source": [
    "rslen = len(libtd['rss']['channel']['item'])"
   ]
  },
  {
   "cell_type": "code",
   "execution_count": 6,
   "metadata": {
    "collapsed": false
   },
   "outputs": [
    {
     "data": {
      "text/plain": [
       "10"
      ]
     },
     "execution_count": 6,
     "metadata": {},
     "output_type": "execute_result"
    }
   ],
   "source": [
    "rslen"
   ]
  },
  {
   "cell_type": "code",
   "execution_count": 7,
   "metadata": {
    "collapsed": true
   },
   "outputs": [],
   "source": [
    "wrapdict = dict()"
   ]
  },
  {
   "cell_type": "code",
   "execution_count": 15,
   "metadata": {
    "collapsed": false
   },
   "outputs": [
    {
     "name": "stdout",
     "output_type": "stream",
     "text": [
      "Best schools in Auckland: 24 things to know before you choose a school\n",
      "Tauira: Māori methods of learning and teaching\n",
      "Dangerous liaisons\n",
      "Bully beef\n",
      "Could do better\n",
      "What Candy Crush Saga teaches us about motivating employees\n",
      "Influential Aucklanders in education\n",
      "Explaining the achievement gap between indigenous and non-indigenous students: an analysis of PISA 2009 results for Australia and New Zealand\n",
      "Panel-beaters don't have to learn Shakespeare\n",
      "Leaders as decision architects\n"
     ]
    }
   ],
   "source": [
    "for libi in range(rslen):\n",
    "    msjobdic = dict()\n",
    "\n",
    "    print (libtd['rss']['channel']['item'][libi]['title'])\n",
    "    msjobdic.update({'title' : (libtd['rss']['channel']['item'][libi]['title'])})\n",
    "    #findict = dict()\n",
    "    \n",
    "    #wrapdict.update({'title' : (libtd['rss']['channel']['item'][libi]['title'])})\n",
    "    #totlen = len(libi)\n",
    "    #for tes in range(totlen):\n",
    "    #    wrapdict.update({'title' : txtspli[tes][1]})\n",
    "    #findict.update({txtspli[0][0] : txtspli[0][1]})\n",
    "    msjobz = msjobdic.copy()\n",
    "    msjobz.update(msjobdic)\n",
    "    \n",
    "    wrapdict.update({libi : msjobz})\n",
    "    #jsmsdob = json.dumps(wrapdict)\n",
    "    \n",
    "    \n",
    "    #jslibi.update({rslen : msjobz})\n",
    "    #jsmsdob = json.dumps(wrapdict)"
   ]
  },
  {
   "cell_type": "code",
   "execution_count": 17,
   "metadata": {
    "collapsed": false
   },
   "outputs": [
    {
     "data": {
      "text/plain": [
       "{0: {'title': u'Best schools in Auckland: 24 things to know before you choose a school'},\n",
       " 1: {'title': u'Tauira: M\\u0101ori methods of learning and teaching'},\n",
       " 2: {'title': u'Dangerous liaisons'},\n",
       " 3: {'title': u'Bully beef'},\n",
       " 4: {'title': u'Could do better'},\n",
       " 5: {'title': u'What Candy Crush Saga teaches us about motivating employees'},\n",
       " 6: {'title': u'Influential Aucklanders in education'},\n",
       " 7: {'title': u'Explaining the achievement gap between indigenous and non-indigenous students: an analysis of PISA 2009 results for Australia and New Zealand'},\n",
       " 8: {'title': u\"Panel-beaters don't have to learn Shakespeare\"},\n",
       " 9: {'title': u'Leaders as decision architects'},\n",
       " 'title': u'Best schools in Auckland: 24 things to know before you choose a school'}"
      ]
     },
     "execution_count": 17,
     "metadata": {},
     "output_type": "execute_result"
    }
   ],
   "source": [
    "wrapdict"
   ]
  },
  {
   "cell_type": "code",
   "execution_count": 51,
   "metadata": {
    "collapsed": true
   },
   "outputs": [],
   "source": [
    "\n",
    "jslibi.update({'title' : (libtd['rss']['channel']['item'][libi]['title'])})"
   ]
  },
  {
   "cell_type": "code",
   "execution_count": 52,
   "metadata": {
    "collapsed": false
   },
   "outputs": [
    {
     "data": {
      "text/plain": [
       "{'title': u'Leaders as decision architects'}"
      ]
     },
     "execution_count": 52,
     "metadata": {},
     "output_type": "execute_result"
    }
   ],
   "source": [
    "jslibi"
   ]
  },
  {
   "cell_type": "code",
   "execution_count": null,
   "metadata": {
    "collapsed": true
   },
   "outputs": [],
   "source": []
  }
 ],
 "metadata": {
  "kernelspec": {
   "display_name": "Python 2",
   "name": "python2"
  },
  "language_info": {
   "codemirror_mode": {
    "name": "ipython",
    "version": 2
   },
   "file_extension": ".py",
   "mimetype": "text/x-python",
   "name": "python",
   "nbconvert_exporter": "python",
   "pygments_lexer": "ipython2",
   "version": "2.7.9"
  }
 },
 "nbformat": 4,
 "nbformat_minor": 0
}
