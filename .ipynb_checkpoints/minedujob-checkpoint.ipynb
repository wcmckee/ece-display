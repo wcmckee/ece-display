{
 "cells": [
  {
   "cell_type": "markdown",
   "metadata": {},
   "source": [
    "<h3>minedujob</h3>\n",
    "\n",
    "Python script to fetch random job from Ministry Of Education and convert it into a json object. \n",
    "Merge data in from DigitalNZ.\n",
    "\n"
   ]
  },
  {
   "cell_type": "markdown",
   "metadata": {},
   "source": [
    "TODO\n",
    "\n",
    "Parse description tag for the keys and values hidden within that. \n",
    "Extract email from description, if email look up persons phone number and attach it.\n",
    "\n",
    "Location - look on digitalnz for creative commons commucial use images\n",
    "title - \n",
    "\n",
    "scrape url.\n",
    "\n",
    "cycle over all job listings and create json object with them all instead of just a random choice."
   ]
  },
  {
   "cell_type": "code",
   "execution_count": 535,
   "metadata": {
    "collapsed": false
   },
   "outputs": [],
   "source": [
    "import requests\n",
    "import untangle\n",
    "import xmltodict\n",
    "import json\n",
    "#import random\n",
    "import bs4\n",
    "#import dominate\n",
    "#from dominate.tags import *\n",
    "#from pydnz import Dnz\n",
    "import arrow\n",
    "import bs4"
   ]
  },
  {
   "cell_type": "code",
   "execution_count": 536,
   "metadata": {
    "collapsed": true
   },
   "outputs": [],
   "source": [
    "#dnz = Dnz('keyhere')"
   ]
  },
  {
   "cell_type": "code",
   "execution_count": 537,
   "metadata": {
    "collapsed": true
   },
   "outputs": [],
   "source": [
    "jobreq = requests.get('https://jobs.minedu.govt.nz/jobtools/job_rss?o1=17584&k2=A52B3674BC046465&source=JobRSS&medium=JobRSS')"
   ]
  },
  {
   "cell_type": "code",
   "execution_count": 538,
   "metadata": {
    "collapsed": false
   },
   "outputs": [],
   "source": [
    "jobtxta = jobreq.text"
   ]
  },
  {
   "cell_type": "code",
   "execution_count": 539,
   "metadata": {
    "collapsed": false
   },
   "outputs": [],
   "source": [
    "obj = untangle.parse(jobtxta)"
   ]
  },
  {
   "cell_type": "code",
   "execution_count": 540,
   "metadata": {
    "collapsed": false
   },
   "outputs": [],
   "source": [
    "dicjobz = xmltodict.parse(jobtxta)"
   ]
  },
  {
   "cell_type": "code",
   "execution_count": 541,
   "metadata": {
    "collapsed": false
   },
   "outputs": [],
   "source": [
    "ranldicj = len(dicjobz['rss']['channel']['item'])"
   ]
  },
  {
   "cell_type": "code",
   "execution_count": 542,
   "metadata": {
    "collapsed": false
   },
   "outputs": [
    {
     "data": {
      "text/plain": [
       "24"
      ]
     },
     "execution_count": 542,
     "metadata": {},
     "output_type": "execute_result"
    }
   ],
   "source": [
    "ranldicj"
   ]
  },
  {
   "cell_type": "code",
   "execution_count": 543,
   "metadata": {
    "collapsed": true
   },
   "outputs": [],
   "source": [
    "randicz = random.randint(0, ranldicj)"
   ]
  },
  {
   "cell_type": "code",
   "execution_count": 544,
   "metadata": {
    "collapsed": false
   },
   "outputs": [
    {
     "data": {
      "text/plain": [
       "20"
      ]
     },
     "execution_count": 544,
     "metadata": {},
     "output_type": "execute_result"
    }
   ],
   "source": [
    "randicz"
   ]
  },
  {
   "cell_type": "code",
   "execution_count": 545,
   "metadata": {
    "collapsed": false
   },
   "outputs": [],
   "source": [
    "dicrs = dicjobz['rss']['channel']['item'][0]"
   ]
  },
  {
   "cell_type": "code",
   "execution_count": 546,
   "metadata": {
    "collapsed": true
   },
   "outputs": [],
   "source": [
    "dicrts = dicrs['title']\n",
    "dicrtq = dicrs"
   ]
  },
  {
   "cell_type": "code",
   "execution_count": 547,
   "metadata": {
    "collapsed": false
   },
   "outputs": [],
   "source": [
    "artim = arrow.now(dicrtq['pubDate'])"
   ]
  },
  {
   "cell_type": "code",
   "execution_count": 548,
   "metadata": {
    "collapsed": false
   },
   "outputs": [
    {
     "name": "stdout",
     "output_type": "stream",
     "text": [
      "2015-07-13\n"
     ]
    }
   ],
   "source": [
    "print artim.date()"
   ]
  },
  {
   "cell_type": "code",
   "execution_count": 549,
   "metadata": {
    "collapsed": false
   },
   "outputs": [
    {
     "name": "stdout",
     "output_type": "stream",
     "text": [
      "06:26:23.072688\n"
     ]
    }
   ],
   "source": [
    "print artim.time()"
   ]
  },
  {
   "cell_type": "code",
   "execution_count": 629,
   "metadata": {
    "collapsed": false
   },
   "outputs": [
    {
     "name": "stdout",
     "output_type": "stream",
     "text": [
      "0\n"
     ]
    }
   ],
   "source": [
    "print artim.weekday()"
   ]
  },
  {
   "cell_type": "code",
   "execution_count": 630,
   "metadata": {
    "collapsed": true
   },
   "outputs": [],
   "source": [
    "msjobdic = dict()"
   ]
  },
  {
   "cell_type": "code",
   "execution_count": 631,
   "metadata": {
    "collapsed": false
   },
   "outputs": [],
   "source": [
    "msjobdic.update({'date-advertised' : str(artim.date()), \n",
    "                'time-advertised' : str(artim.time()),\n",
    "                'title' : dicrts})"
   ]
  },
  {
   "cell_type": "code",
   "execution_count": 632,
   "metadata": {
    "collapsed": false
   },
   "outputs": [],
   "source": [
    "#msjobdic"
   ]
  },
  {
   "cell_type": "code",
   "execution_count": 633,
   "metadata": {
    "collapsed": true
   },
   "outputs": [],
   "source": [
    "requlink = dicrtq['link']"
   ]
  },
  {
   "cell_type": "code",
   "execution_count": 634,
   "metadata": {
    "collapsed": true
   },
   "outputs": [],
   "source": [
    "reqlinkq = requests.get(requlink)"
   ]
  },
  {
   "cell_type": "code",
   "execution_count": 635,
   "metadata": {
    "collapsed": false
   },
   "outputs": [],
   "source": [
    "bsoup = bs4.BeautifulSoup(reqlinkq.text)"
   ]
  },
  {
   "cell_type": "code",
   "execution_count": 636,
   "metadata": {
    "collapsed": false
   },
   "outputs": [],
   "source": [
    "bfina = bsoup.findAll('a')"
   ]
  },
  {
   "cell_type": "code",
   "execution_count": 637,
   "metadata": {
    "collapsed": false
   },
   "outputs": [],
   "source": [
    "#msjobdic.update({'date advertised' : str(artim.date()), \n",
    "#                'time advertised' : str(artim.time()),\n",
    "#                'title' : dicrts,\n",
    "#                '})\n",
    "for bfin in bfina:\n",
    "    if ('@') in bfin.text:\n",
    "        #print bfin.text\n",
    "        msjobdic.update({('email') : str(bfin.text)})\n",
    "        "
   ]
  },
  {
   "cell_type": "code",
   "execution_count": 638,
   "metadata": {
    "collapsed": false
   },
   "outputs": [],
   "source": [
    "#for bfiny in bfina:\n",
    "#    if '.docx' in bfiny.text:\n",
    "#        print bfiny.text"
   ]
  },
  {
   "cell_type": "code",
   "execution_count": 639,
   "metadata": {
    "collapsed": true
   },
   "outputs": [],
   "source": [
    "#Search for this file and render text.\n",
    "#if jpg/gif render."
   ]
  },
  {
   "cell_type": "code",
   "execution_count": 640,
   "metadata": {
    "collapsed": true
   },
   "outputs": [],
   "source": [
    "for bfin in bfina:\n",
    "    if ('href') in bfin.text:\n",
    "        #print bfin.text\n",
    "        msjobdic.update({('href') : str(bfin.text)})"
   ]
  },
  {
   "cell_type": "code",
   "execution_count": 641,
   "metadata": {
    "collapsed": false
   },
   "outputs": [],
   "source": [
    "#msjob"
   ]
  },
  {
   "cell_type": "code",
   "execution_count": 642,
   "metadata": {
    "collapsed": false
   },
   "outputs": [],
   "source": [
    "msjobdic.update({'randnum' : randicz})"
   ]
  },
  {
   "cell_type": "code",
   "execution_count": 643,
   "metadata": {
    "collapsed": true
   },
   "outputs": [],
   "source": [
    "for bfiny in bfina:\n",
    "    if '.docx' in bfiny.text:\n",
    "        msjobdic.update({'doc' : bfiny.text})"
   ]
  },
  {
   "cell_type": "code",
   "execution_count": 644,
   "metadata": {
    "collapsed": false
   },
   "outputs": [
    {
     "data": {
      "text/plain": [
       "{'date-advertised': '2015-07-13',\n",
       " 'doc': u'Snr Advisor Educaion Team Taranaki Whanganui Manawatu jd.docx',\n",
       " 'randnum': 20,\n",
       " 'time-advertised': '06:26:23.072688',\n",
       " 'title': u'Senior Advisor'}"
      ]
     },
     "execution_count": 644,
     "metadata": {},
     "output_type": "execute_result"
    }
   ],
   "source": [
    "msjobdic"
   ]
  },
  {
   "cell_type": "code",
   "execution_count": 645,
   "metadata": {
    "collapsed": true
   },
   "outputs": [],
   "source": [
    "msjobdic.update({'link' : dicrtq['link']})"
   ]
  },
  {
   "cell_type": "code",
   "execution_count": 646,
   "metadata": {
    "collapsed": false
   },
   "outputs": [
    {
     "data": {
      "text/plain": [
       "{'date-advertised': '2015-07-13',\n",
       " 'doc': u'Snr Advisor Educaion Team Taranaki Whanganui Manawatu jd.docx',\n",
       " 'link': u'http://jobs.minedu.govt.nz/jobtools/jncustomsearch.viewFullSingle?in_organid=17584&in_jnCounter=222578699&in_jobDate=All&in_searchbox=YES&in_summary=S#utm_source=JobRSS&utm_medium=JobRSS',\n",
       " 'randnum': 20,\n",
       " 'time-advertised': '06:26:23.072688',\n",
       " 'title': u'Senior Advisor'}"
      ]
     },
     "execution_count": 646,
     "metadata": {},
     "output_type": "execute_result"
    }
   ],
   "source": [
    "msjobdic"
   ]
  },
  {
   "cell_type": "code",
   "execution_count": 646,
   "metadata": {
    "collapsed": true
   },
   "outputs": [],
   "source": []
  },
  {
   "cell_type": "code",
   "execution_count": 647,
   "metadata": {
    "collapsed": false
   },
   "outputs": [],
   "source": [
    "#msjobdic.update({'doc' : b"
   ]
  },
  {
   "cell_type": "code",
   "execution_count": 648,
   "metadata": {
    "collapsed": true
   },
   "outputs": [],
   "source": [
    "bsdescr = bs4.BeautifulSoup(dicrtq['description'])"
   ]
  },
  {
   "cell_type": "code",
   "execution_count": 576,
   "metadata": {
    "collapsed": false
   },
   "outputs": [
    {
     "name": "stdout",
     "output_type": "stream",
     "text": [
      "<li>Job Type: Full Time</li>\n",
      "<li>Category: Education</li>\n",
      "<li>Location: Unspecified</li>\n",
      "<li>Date Advertised: 13-JUL-15</li>\n",
      "<li>Job Reference: EDU/1170463</li>\n",
      "<li>Job Title: Senior Advisor</li>\n",
      "<li>Business Unit: </li>\n",
      "<li>Summary: </li>\n"
     ]
    }
   ],
   "source": [
    "for iza in bsdescr.findAll('li')[0:8]:\n",
    "    print iza"
   ]
  },
  {
   "cell_type": "code",
   "execution_count": 577,
   "metadata": {
    "collapsed": true
   },
   "outputs": [],
   "source": [
    "lili = list()"
   ]
  },
  {
   "cell_type": "code",
   "execution_count": 578,
   "metadata": {
    "collapsed": false
   },
   "outputs": [],
   "source": [
    "txtspli = [line.text.split(\": \") for line in bsdescr.findAll('li')[0:8]]\n"
   ]
  },
  {
   "cell_type": "code",
   "execution_count": 578,
   "metadata": {
    "collapsed": true
   },
   "outputs": [],
   "source": []
  },
  {
   "cell_type": "code",
   "execution_count": 579,
   "metadata": {
    "collapsed": false
   },
   "outputs": [
    {
     "data": {
      "text/plain": [
       "[[u'Job Type', u'Full Time'],\n",
       " [u'Category', u'Education'],\n",
       " [u'Location', u'Unspecified'],\n",
       " [u'Date Advertised', u'13-JUL-15'],\n",
       " [u'Job Reference', u'EDU/1170463'],\n",
       " [u'Job Title', u'Senior Advisor'],\n",
       " [u'Business Unit', u''],\n",
       " [u'Summary', u'']]"
      ]
     },
     "execution_count": 579,
     "metadata": {},
     "output_type": "execute_result"
    }
   ],
   "source": [
    "txtspli"
   ]
  },
  {
   "cell_type": "code",
   "execution_count": 580,
   "metadata": {
    "collapsed": false
   },
   "outputs": [
    {
     "data": {
      "text/plain": [
       "u'Full Time'"
      ]
     },
     "execution_count": 580,
     "metadata": {},
     "output_type": "execute_result"
    }
   ],
   "source": [
    "txtspli[0][1]"
   ]
  },
  {
   "cell_type": "code",
   "execution_count": 581,
   "metadata": {
    "collapsed": true
   },
   "outputs": [],
   "source": [
    "findict = dict()"
   ]
  },
  {
   "cell_type": "code",
   "execution_count": 582,
   "metadata": {
    "collapsed": false
   },
   "outputs": [],
   "source": [
    "totlen = len(txtspli)"
   ]
  },
  {
   "cell_type": "code",
   "execution_count": 582,
   "metadata": {
    "collapsed": true
   },
   "outputs": [],
   "source": []
  },
  {
   "cell_type": "code",
   "execution_count": 583,
   "metadata": {
    "collapsed": true
   },
   "outputs": [],
   "source": [
    "for tes in range(totlen):\n",
    "    findict.update({txtspli[tes][0] : txtspli[tes][1]})\n",
    "    "
   ]
  },
  {
   "cell_type": "code",
   "execution_count": 584,
   "metadata": {
    "collapsed": true
   },
   "outputs": [],
   "source": [
    "findict.update({txtspli[0][0] : txtspli[0][1]})"
   ]
  },
  {
   "cell_type": "code",
   "execution_count": 585,
   "metadata": {
    "collapsed": false
   },
   "outputs": [
    {
     "data": {
      "text/plain": [
       "{u'Business Unit': u'',\n",
       " u'Category': u'Education',\n",
       " u'Date Advertised': u'13-JUL-15',\n",
       " u'Job Reference': u'EDU/1170463',\n",
       " u'Job Title': u'Senior Advisor',\n",
       " u'Job Type': u'Full Time',\n",
       " u'Location': u'Unspecified',\n",
       " u'Summary': u''}"
      ]
     },
     "execution_count": 585,
     "metadata": {},
     "output_type": "execute_result"
    }
   ],
   "source": [
    "findict"
   ]
  },
  {
   "cell_type": "code",
   "execution_count": 586,
   "metadata": {
    "collapsed": false
   },
   "outputs": [
    {
     "data": {
      "text/plain": [
       "{'date-advertised': '2015-07-13',\n",
       " 'doc': u'Snr Advisor Educaion Team Taranaki Whanganui Manawatu jd.docx',\n",
       " 'link': u'http://jobs.minedu.govt.nz/jobtools/jncustomsearch.viewFullSingle?in_organid=17584&in_jnCounter=222578699&in_jobDate=All&in_searchbox=YES&in_summary=S#utm_source=JobRSS&utm_medium=JobRSS',\n",
       " 'randnum': 20,\n",
       " 'time-advertised': '06:26:23.072688',\n",
       " 'title': u'Senior Advisor'}"
      ]
     },
     "execution_count": 586,
     "metadata": {},
     "output_type": "execute_result"
    }
   ],
   "source": [
    "msjobdic"
   ]
  },
  {
   "cell_type": "code",
   "execution_count": 587,
   "metadata": {
    "collapsed": true
   },
   "outputs": [],
   "source": [
    "z = findict.copy()\n",
    "z.update(msjobdic)"
   ]
  },
  {
   "cell_type": "code",
   "execution_count": 588,
   "metadata": {
    "collapsed": false
   },
   "outputs": [
    {
     "data": {
      "text/plain": [
       "{'date-advertised': '2015-07-13',\n",
       " 'doc': u'Snr Advisor Educaion Team Taranaki Whanganui Manawatu jd.docx',\n",
       " 'link': u'http://jobs.minedu.govt.nz/jobtools/jncustomsearch.viewFullSingle?in_organid=17584&in_jnCounter=222578699&in_jobDate=All&in_searchbox=YES&in_summary=S#utm_source=JobRSS&utm_medium=JobRSS',\n",
       " 'randnum': 20,\n",
       " 'time-advertised': '06:26:23.072688',\n",
       " 'title': u'Senior Advisor'}"
      ]
     },
     "execution_count": 588,
     "metadata": {},
     "output_type": "execute_result"
    }
   ],
   "source": [
    "msjobdic"
   ]
  },
  {
   "cell_type": "code",
   "execution_count": 589,
   "metadata": {
    "collapsed": false
   },
   "outputs": [
    {
     "data": {
      "text/plain": [
       "{u'Business Unit': u'',\n",
       " u'Category': u'Education',\n",
       " u'Date Advertised': u'13-JUL-15',\n",
       " u'Job Reference': u'EDU/1170463',\n",
       " u'Job Title': u'Senior Advisor',\n",
       " u'Job Type': u'Full Time',\n",
       " u'Location': u'Unspecified',\n",
       " u'Summary': u'',\n",
       " 'date-advertised': '2015-07-13',\n",
       " 'doc': u'Snr Advisor Educaion Team Taranaki Whanganui Manawatu jd.docx',\n",
       " 'link': u'http://jobs.minedu.govt.nz/jobtools/jncustomsearch.viewFullSingle?in_organid=17584&in_jnCounter=222578699&in_jobDate=All&in_searchbox=YES&in_summary=S#utm_source=JobRSS&utm_medium=JobRSS',\n",
       " 'randnum': 20,\n",
       " 'time-advertised': '06:26:23.072688',\n",
       " 'title': u'Senior Advisor'}"
      ]
     },
     "execution_count": 589,
     "metadata": {},
     "output_type": "execute_result"
    }
   ],
   "source": [
    "z"
   ]
  },
  {
   "cell_type": "code",
   "execution_count": 590,
   "metadata": {
    "collapsed": false
   },
   "outputs": [],
   "source": [
    "#for bsdz in bsdescr.findAll('li'):\n",
    "#    (k,v) = bsdz.text.split(\": \")\n",
    "#    print bsdz.text\n",
    "#    print(k,v)\n",
    "#    lili.append(bsdz.text)"
   ]
  },
  {
   "cell_type": "code",
   "execution_count": 591,
   "metadata": {
    "collapsed": false
   },
   "outputs": [
    {
     "data": {
      "text/plain": [
       "[]"
      ]
     },
     "execution_count": 591,
     "metadata": {},
     "output_type": "execute_result"
    }
   ],
   "source": [
    "lili"
   ]
  },
  {
   "cell_type": "code",
   "execution_count": 592,
   "metadata": {
    "collapsed": true
   },
   "outputs": [],
   "source": [
    "txtlis = list()"
   ]
  },
  {
   "cell_type": "code",
   "execution_count": 592,
   "metadata": {
    "collapsed": true
   },
   "outputs": [],
   "source": []
  },
  {
   "cell_type": "code",
   "execution_count": 593,
   "metadata": {
    "collapsed": false
   },
   "outputs": [],
   "source": [
    "bsp = bsdescr.findAll('p')"
   ]
  },
  {
   "cell_type": "code",
   "execution_count": 594,
   "metadata": {
    "collapsed": false
   },
   "outputs": [
    {
     "name": "stdout",
     "output_type": "stream",
     "text": [
      "\n",
      " \n",
      "                                    \n",
      "To be based in New Plymouth, Whanganui or Palmerston North\n",
      " \n",
      "Do you have a passion for improving educational achievement for all students? Are you currently in the education sector and ready to take another career move? Here is an opportunity for the right person to come and work in the Ministry of Education.\n",
      "Now is an exciting time at the Ministry of Education. We are in the midst of a positive change initiative that’s setting a platform for New Zealand’s young learners to be the best they can be. Our vision is ultimately about ensuring students succeed personally and achieve academically, so in years to come they are productive, valued and competitive in the world. We want New Zealand and New Zealanders to lead globally.\n",
      "This role will give you the opportunity to directly work with senior leaders in schools and Boards of Trustees to achieve successful educational outcomes for all students. You must be able to influence others and be able to back this up with knowledge, skills and experience in improving student engagement and achievement.\n",
      "To be successful in this role you will need to be great at:\n",
      " \n",
      " \n",
      "External secondments from the education sector of at least twelve months may be considered.\n",
      "If this opportunity interests you apply now using the ‘Apply Online’ button.  You can view the job description or for further information please contact Marlene Clarkson on 06 349 6304.\n",
      "Applications close on 31 July 2015 \n"
     ]
    }
   ],
   "source": [
    "for bs in bsp:\n",
    "    print bs.text\n",
    "    txtlis.append(bs.text)\n",
    "    #It's skipping items in the li since thats not a p :( \n",
    "    "
   ]
  },
  {
   "cell_type": "code",
   "execution_count": 595,
   "metadata": {
    "collapsed": false
   },
   "outputs": [
    {
     "name": "stdout",
     "output_type": "stream",
     "text": [
      "\n",
      " \n",
      "                                    \n",
      "To be based in New Plymouth, Whanganui or Palmerston North\n",
      " \n",
      "Do you have a passion for improving educational achievement for all students? Are you currently in the education sector and ready to take another career move? Here is an opportunity for the right person to come and work in the Ministry of Education.\n",
      "Now is an exciting time at the Ministry of Education. We are in the midst of a positive change initiative that’s setting a platform for New Zealand’s young learners to be the best they can be. Our vision is ultimately about ensuring students succeed personally and achieve academically, so in years to come they are productive, valued and competitive in the world. We want New Zealand and New Zealanders to lead globally.\n",
      "This role will give you the opportunity to directly work with senior leaders in schools and Boards of Trustees to achieve successful educational outcomes for all students. You must be able to influence others and be able to back this up with knowledge, skills and experience in improving student engagement and achievement.\n",
      "To be successful in this role you will need to be great at:\n",
      " \n",
      " \n",
      "External secondments from the education sector of at least twelve months may be considered.\n",
      "If this opportunity interests you apply now using the ‘Apply Online’ button.  You can view the job description or for further information please contact Marlene Clarkson on 06 349 6304.\n",
      "Applications close on 31 July 2015 \n"
     ]
    }
   ],
   "source": [
    "for txtliz in txtlis:\n",
    "    print txtliz"
   ]
  },
  {
   "cell_type": "code",
   "execution_count": 596,
   "metadata": {
    "collapsed": false
   },
   "outputs": [],
   "source": [
    "#dicrts"
   ]
  },
  {
   "cell_type": "code",
   "execution_count": 597,
   "metadata": {
    "collapsed": false
   },
   "outputs": [],
   "source": [
    "#debsnz =  dnz.search(dicrs)"
   ]
  },
  {
   "cell_type": "code",
   "execution_count": 598,
   "metadata": {
    "collapsed": false
   },
   "outputs": [],
   "source": [
    "#randrecord = len(debsnz.records)"
   ]
  },
  {
   "cell_type": "code",
   "execution_count": 599,
   "metadata": {
    "collapsed": false
   },
   "outputs": [],
   "source": [
    "#ranitdz = random.randint(0, randrecord)"
   ]
  },
  {
   "cell_type": "code",
   "execution_count": 600,
   "metadata": {
    "collapsed": false
   },
   "outputs": [],
   "source": [
    "#ranitdz"
   ]
  },
  {
   "cell_type": "code",
   "execution_count": 601,
   "metadata": {
    "collapsed": false
   },
   "outputs": [],
   "source": [
    "#randicz"
   ]
  },
  {
   "cell_type": "code",
   "execution_count": 602,
   "metadata": {
    "collapsed": false
   },
   "outputs": [],
   "source": [
    "#debsnz.records"
   ]
  },
  {
   "cell_type": "code",
   "execution_count": 603,
   "metadata": {
    "collapsed": false
   },
   "outputs": [],
   "source": [
    "#debrecintz = debsnz.records[ranitdz]"
   ]
  },
  {
   "cell_type": "code",
   "execution_count": 604,
   "metadata": {
    "collapsed": false
   },
   "outputs": [],
   "source": [
    "#kederz = debrecintz.keys()"
   ]
  },
  {
   "cell_type": "code",
   "execution_count": 605,
   "metadata": {
    "collapsed": false
   },
   "outputs": [],
   "source": [
    "#print debrecintz['category']\n",
    "#print debrecintz['usage']"
   ]
  },
  {
   "cell_type": "code",
   "execution_count": 606,
   "metadata": {
    "collapsed": false
   },
   "outputs": [],
   "source": [
    "#for ked in kederz:\n",
    "#    print ked\n",
    "#    print debrecintz[ked]\n",
    "    #print ked\n",
    "    #print ked\n",
    "    #print debrecintz['category']"
   ]
  },
  {
   "cell_type": "code",
   "execution_count": 607,
   "metadata": {
    "collapsed": false
   },
   "outputs": [],
   "source": [
    "#print debrecintz['id']"
   ]
  },
  {
   "cell_type": "code",
   "execution_count": 608,
   "metadata": {
    "collapsed": false
   },
   "outputs": [],
   "source": [
    "#getiddnz = ('http://api.digitalnz.org/v3/records/' + str(debrecintz['id']) + '.json?api_key=Ph2LDuyiJmJcQm1S5myy')"
   ]
  },
  {
   "cell_type": "code",
   "execution_count": 609,
   "metadata": {
    "collapsed": false
   },
   "outputs": [],
   "source": [
    "#getiddnz"
   ]
  },
  {
   "cell_type": "code",
   "execution_count": 610,
   "metadata": {
    "collapsed": false
   },
   "outputs": [],
   "source": [
    "#reqidnz = requests.get(getiddnz)"
   ]
  },
  {
   "cell_type": "code",
   "execution_count": 611,
   "metadata": {
    "collapsed": false
   },
   "outputs": [],
   "source": [
    "#json.dumps(reqidnz)"
   ]
  },
  {
   "cell_type": "code",
   "execution_count": 612,
   "metadata": {
    "collapsed": true
   },
   "outputs": [],
   "source": [
    "#mylirq = list()"
   ]
  },
  {
   "cell_type": "code",
   "execution_count": 613,
   "metadata": {
    "collapsed": false
   },
   "outputs": [],
   "source": [
    "#for reqi in reqidnz:\n",
    "    #print reqi\n",
    "    #print reqi.upper()\n",
    "    #reqi"
   ]
  },
  {
   "cell_type": "code",
   "execution_count": 614,
   "metadata": {
    "collapsed": false
   },
   "outputs": [],
   "source": [
    "#my_dict.pop(\"key\", None)"
   ]
  },
  {
   "cell_type": "code",
   "execution_count": 615,
   "metadata": {
    "collapsed": true
   },
   "outputs": [],
   "source": [
    "#dicrq = len(dicjobz['rss']['channel']['item'])"
   ]
  },
  {
   "cell_type": "code",
   "execution_count": 616,
   "metadata": {
    "collapsed": false
   },
   "outputs": [],
   "source": [
    "#dicrq"
   ]
  },
  {
   "cell_type": "code",
   "execution_count": 617,
   "metadata": {
    "collapsed": true
   },
   "outputs": [],
   "source": [
    "#Return a random job."
   ]
  },
  {
   "cell_type": "code",
   "execution_count": 618,
   "metadata": {
    "collapsed": true
   },
   "outputs": [],
   "source": [
    "#ranjoz = random.randint(0, dicrq)\n",
    "\n",
    "#dicrsch = dicjobz['rss']['channel']['item']"
   ]
  },
  {
   "cell_type": "code",
   "execution_count": 619,
   "metadata": {
    "collapsed": false
   },
   "outputs": [],
   "source": [
    "#print dicrsch[ranjoz]['link']"
   ]
  },
  {
   "cell_type": "code",
   "execution_count": 620,
   "metadata": {
    "collapsed": false
   },
   "outputs": [],
   "source": [
    "#print dicrsch[ranjoz]['title']"
   ]
  },
  {
   "cell_type": "code",
   "execution_count": 621,
   "metadata": {
    "collapsed": true
   },
   "outputs": [],
   "source": [
    "#jobtype\n",
    "#location\n",
    "#date advertised\n",
    "#jobreference\n",
    "#jobtitle\n",
    "#should be keys\n",
    "#Currently they are inside description key\n",
    "#Create new json file that fixes this."
   ]
  },
  {
   "cell_type": "code",
   "execution_count": 622,
   "metadata": {
    "collapsed": false
   },
   "outputs": [],
   "source": [
    "#for dezsr in  dicrsch[ranjoz]['description']:\n",
    "##    if 'JobType' in dezs#r:\n",
    "# #       print dezsr"
   ]
  },
  {
   "cell_type": "code",
   "execution_count": 623,
   "metadata": {
    "collapsed": false
   },
   "outputs": [],
   "source": [
    "#docstart.title = ('ministry-of-education-jobs')\n",
    "#doc = dominate.document(title='ministry-of-education-jobs')\n",
    "\n",
    "#with doc.head:\n",
    "#    link(rel='stylesheet', href='style.css')\n",
    "#    script(type='text/javascript', src='script.js')\n",
    "\n",
    "#with doc:\n",
    "    #with div(id='header').add(ol()):\n",
    "        #for i in ['home', 'about', 'contact']:\n",
    "            #li(a(i.title(), href='/%s.html' % i))\n",
    "\n",
    "#    with div(cls='row'):\n",
    "#        h1('education-counts-jobs')\n",
    "#        h2(dicrsch[ranjoz]['title'])\n",
    "#        p(dicrs)\n",
    "        #p(dicrsch[ranjoz]['description'])\n",
    "#        p(a(dicrs, href= dicrsch[ranjoz]['link']))\n",
    "        \n",
    "        #for ked in kederz:\n",
    "        #print ked\n",
    "        #    p((kederz[ked]))\n",
    "        #print ked\n",
    "        #print ked\n",
    "\n",
    "        "
   ]
  },
  {
   "cell_type": "code",
   "execution_count": 624,
   "metadata": {
    "collapsed": false
   },
   "outputs": [],
   "source": [
    "#print doc\n",
    "\n",
    "#docre = doc.render()\n",
    "#s = docre.decode('ascii', 'ignore')\n",
    "#yourstring = docre.encode('ascii', 'ignore').decode('ascii')\n",
    "#indfil = ('/home/wcmckee/minedujob/index.html')\n",
    "#mkind = open(indfil, 'w')\n",
    "#mkind.write(yourstring)\n",
    "#mkind.close()"
   ]
  },
  {
   "cell_type": "code",
   "execution_count": 625,
   "metadata": {
    "collapsed": false
   },
   "outputs": [],
   "source": [
    "jsmsdob = json.dumps(msjobdic)"
   ]
  },
  {
   "cell_type": "code",
   "execution_count": 626,
   "metadata": {
    "collapsed": true
   },
   "outputs": [],
   "source": [
    "opeind = open('/home/wcmckee/minedujob/minedujobs.json', 'a')"
   ]
  },
  {
   "cell_type": "code",
   "execution_count": 627,
   "metadata": {
    "collapsed": false
   },
   "outputs": [],
   "source": [
    "opeind.write(jsmsdob)"
   ]
  },
  {
   "cell_type": "code",
   "execution_count": 628,
   "metadata": {
    "collapsed": false
   },
   "outputs": [],
   "source": [
    "opeind.close()"
   ]
  },
  {
   "cell_type": "code",
   "execution_count": null,
   "metadata": {
    "collapsed": true
   },
   "outputs": [],
   "source": []
  }
 ],
 "metadata": {
  "kernelspec": {
   "display_name": "Python 2",
   "name": "python2"
  },
  "language_info": {
   "codemirror_mode": {
    "name": "ipython",
    "version": 2
   },
   "file_extension": ".py",
   "mimetype": "text/x-python",
   "name": "python",
   "nbconvert_exporter": "python",
   "pygments_lexer": "ipython2",
   "version": "2.7.9"
  }
 },
 "nbformat": 4,
 "nbformat_minor": 0
}
