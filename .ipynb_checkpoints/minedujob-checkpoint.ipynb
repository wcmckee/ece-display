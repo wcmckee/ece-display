{
 "cells": [
  {
   "cell_type": "code",
   "execution_count": 53,
   "metadata": {
    "collapsed": false
   },
   "outputs": [],
   "source": [
    "import requests\n",
    "import untangle\n",
    "import xmltodict\n",
    "import json\n",
    "import random\n",
    "import bs4\n",
    "import dominate\n",
    "from dominate.tags import *\n",
    "from pydnz import Dnz\n",
    "import arrow"
   ]
  },
  {
   "cell_type": "code",
   "execution_count": null,
   "metadata": {
    "collapsed": true
   },
   "outputs": [],
   "source": []
  },
  {
   "cell_type": "code",
   "execution_count": 2,
   "metadata": {
    "collapsed": true
   },
   "outputs": [],
   "source": [
    "dnz = Dnz('UN5q_7xrqC1qVhYvFhYX')"
   ]
  },
  {
   "cell_type": "code",
   "execution_count": 3,
   "metadata": {
    "collapsed": true
   },
   "outputs": [],
   "source": [
    "jobreq = requests.get('https://jobs.minedu.govt.nz/jobtools/job_rss?o1=17584&k2=A52B3674BC046465&source=JobRSS&medium=JobRSS')"
   ]
  },
  {
   "cell_type": "code",
   "execution_count": 4,
   "metadata": {
    "collapsed": false
   },
   "outputs": [],
   "source": [
    "jobtxta = jobreq.text"
   ]
  },
  {
   "cell_type": "code",
   "execution_count": 5,
   "metadata": {
    "collapsed": false
   },
   "outputs": [],
   "source": [
    "obj = untangle.parse(jobtxta)"
   ]
  },
  {
   "cell_type": "code",
   "execution_count": 6,
   "metadata": {
    "collapsed": false
   },
   "outputs": [],
   "source": [
    "dicjobz = xmltodict.parse(jobtxta)"
   ]
  },
  {
   "cell_type": "code",
   "execution_count": 11,
   "metadata": {
    "collapsed": false
   },
   "outputs": [],
   "source": [
    "ranldicj = len(dicjobz['rss']['channel']['item'])"
   ]
  },
  {
   "cell_type": "code",
   "execution_count": 12,
   "metadata": {
    "collapsed": false
   },
   "outputs": [
    {
     "data": {
      "text/plain": [
       "27"
      ]
     },
     "execution_count": 12,
     "metadata": {},
     "output_type": "execute_result"
    }
   ],
   "source": [
    "ranldicj"
   ]
  },
  {
   "cell_type": "code",
   "execution_count": 13,
   "metadata": {
    "collapsed": true
   },
   "outputs": [],
   "source": [
    "randicz = random.randint(0, ranldicj)"
   ]
  },
  {
   "cell_type": "code",
   "execution_count": 14,
   "metadata": {
    "collapsed": false
   },
   "outputs": [
    {
     "data": {
      "text/plain": [
       "3"
      ]
     },
     "execution_count": 14,
     "metadata": {},
     "output_type": "execute_result"
    }
   ],
   "source": [
    "randicz"
   ]
  },
  {
   "cell_type": "code",
   "execution_count": null,
   "metadata": {
    "collapsed": true
   },
   "outputs": [],
   "source": []
  },
  {
   "cell_type": "code",
   "execution_count": 44,
   "metadata": {
    "collapsed": false
   },
   "outputs": [],
   "source": [
    "dicrs = dicjobz['rss']['channel']['item'][randicz]"
   ]
  },
  {
   "cell_type": "code",
   "execution_count": 47,
   "metadata": {
    "collapsed": true
   },
   "outputs": [],
   "source": [
    "dicrts = dicrs['title']\n",
    "dicrtq = dicrs"
   ]
  },
  {
   "cell_type": "code",
   "execution_count": 56,
   "metadata": {
    "collapsed": false
   },
   "outputs": [],
   "source": [
    "artim = arrow.now(dicrtq['pubDate'])"
   ]
  },
  {
   "cell_type": "code",
   "execution_count": 63,
   "metadata": {
    "collapsed": false
   },
   "outputs": [
    {
     "name": "stdout",
     "output_type": "stream",
     "text": [
      "2015-07-12\n"
     ]
    }
   ],
   "source": [
    "print artim.date()"
   ]
  },
  {
   "cell_type": "code",
   "execution_count": null,
   "metadata": {
    "collapsed": true
   },
   "outputs": [],
   "source": []
  },
  {
   "cell_type": "code",
   "execution_count": 64,
   "metadata": {
    "collapsed": false
   },
   "outputs": [
    {
     "name": "stdout",
     "output_type": "stream",
     "text": [
      "07:31:39.971317\n"
     ]
    }
   ],
   "source": [
    "print artim.time()"
   ]
  },
  {
   "cell_type": "code",
   "execution_count": null,
   "metadata": {
    "collapsed": true
   },
   "outputs": [],
   "source": []
  },
  {
   "cell_type": "code",
   "execution_count": 62,
   "metadata": {
    "collapsed": false
   },
   "outputs": [
    {
     "data": {
      "text/plain": [
       "6"
      ]
     },
     "execution_count": 62,
     "metadata": {},
     "output_type": "execute_result"
    }
   ],
   "source": [
    "artim.weekday()"
   ]
  },
  {
   "cell_type": "code",
   "execution_count": 74,
   "metadata": {
    "collapsed": true
   },
   "outputs": [],
   "source": [
    "msjobdic = dict()"
   ]
  },
  {
   "cell_type": "code",
   "execution_count": 78,
   "metadata": {
    "collapsed": false
   },
   "outputs": [],
   "source": [
    "msjobdic.update({'date advertised' : str(artim.date()), \n",
    "                'time advertised' : str(artim.time()),\n",
    "                'title' : dicrts})"
   ]
  },
  {
   "cell_type": "code",
   "execution_count": 78,
   "metadata": {
    "collapsed": true
   },
   "outputs": [],
   "source": []
  },
  {
   "cell_type": "code",
   "execution_count": 79,
   "metadata": {
    "collapsed": false
   },
   "outputs": [
    {
     "data": {
      "text/plain": [
       "{'date advertised': '2015-07-12',\n",
       " 'time advertised': '07:31:39.971317',\n",
       " 'title': u'Service Manager'}"
      ]
     },
     "execution_count": 79,
     "metadata": {},
     "output_type": "execute_result"
    }
   ],
   "source": [
    "msjobdic"
   ]
  },
  {
   "cell_type": "code",
   "execution_count": null,
   "metadata": {
    "collapsed": true
   },
   "outputs": [],
   "source": []
  },
  {
   "cell_type": "code",
   "execution_count": 71,
   "metadata": {
    "collapsed": true
   },
   "outputs": [],
   "source": []
  },
  {
   "cell_type": "code",
   "execution_count": 72,
   "metadata": {
    "collapsed": false
   },
   "outputs": [
    {
     "data": {
      "text/plain": [
       "{'date advertised': '2015-07-12'}"
      ]
     },
     "execution_count": 72,
     "metadata": {},
     "output_type": "execute_result"
    }
   ],
   "source": [
    "msjobdic"
   ]
  },
  {
   "cell_type": "code",
   "execution_count": null,
   "metadata": {
    "collapsed": true
   },
   "outputs": [],
   "source": []
  },
  {
   "cell_type": "code",
   "execution_count": null,
   "metadata": {
    "collapsed": true
   },
   "outputs": [],
   "source": []
  },
  {
   "cell_type": "code",
   "execution_count": null,
   "metadata": {
    "collapsed": true
   },
   "outputs": [],
   "source": []
  },
  {
   "cell_type": "code",
   "execution_count": null,
   "metadata": {
    "collapsed": true
   },
   "outputs": [],
   "source": []
  },
  {
   "cell_type": "code",
   "execution_count": null,
   "metadata": {
    "collapsed": true
   },
   "outputs": [],
   "source": []
  },
  {
   "cell_type": "code",
   "execution_count": 80,
   "metadata": {
    "collapsed": true
   },
   "outputs": [],
   "source": [
    "requlink = dicrtq['link']"
   ]
  },
  {
   "cell_type": "code",
   "execution_count": 81,
   "metadata": {
    "collapsed": true
   },
   "outputs": [],
   "source": [
    "reqlinkq = requests.get(requlink)"
   ]
  },
  {
   "cell_type": "code",
   "execution_count": 83,
   "metadata": {
    "collapsed": false
   },
   "outputs": [
    {
     "data": {
      "text/plain": [
       "u'<!DOCTYPE html PUBLIC \"-//W3C//DTD XHTML 1.0 Transitional//EN\" \"http://www.w3.org/TR/xhtml1/DTD/xhtml1-transitional.dtd\">\\r\\n<html xmlns=\"http://www.w3.org/1999/xhtml\" xml:lang=\"en\" lang=\"en\">\\r\\n    <HEAD><meta property=\"og:title\" content=\"Service Manager | Otago | Ministry of Education \" /><meta property=\"og:description\" content=\"Service Manager | Otago | Ministry of Education \" /><meta property=\"og:site_name\" content=\"Ministry of Education \"><meta property=\"og:url\" content=\"https://admin.jobs.minedu.govt.nz/jobtools/jncustomsearch.viewFullSingle?in_organid=17584&in_jnCounter=222578166&in_site=\">\\r\\n        <title>Service Manager | Otago | Ministry of Education </title>\\r\\n\\r\\n        <!--global css--><link rel=\"stylesheet\" href=\"/common/css/M_global.css?version=1\" type=\"text/css\" media=\"screen\" />\\r\\n        <!--site css--><link rel=\"stylesheet\" href=\"/M_css/M_site.css?version=1\" type=\"text/css\" media=\"screen\" />\\r\\n\\r\\n        <!-- IE stylesheets -->\\r\\n        <!--[if IE 6]><link rel=\"stylesheet\" type=\"text/css\" href=\"/M_css/corrections/M_ie6.css?version=1\" /><![endif]-->\\r\\n        <!--[if IE 7]><link rel=\"stylesheet\" type=\"text/css\" href=\"/M_css/corrections/M_ie7.css?version=1\" /><![endif]--> \\r\\n\\t<!--[if IE 8]><link rel=\"stylesheet\" type=\"text/css\" href=\"/M_css/corrections/M_ie8.css?version=1\" /><![endif]-->\\r\\n    \\r\\n        <!--print version-->\\r\\n        <link rel=\"stylesheet\" href=\"/M_css/print/M_print.css?version=1\" type=\"text/css\"  media=\"print\" /><!-- global print css -->\\r\\n        <!--[if IE 6]><link rel=\"stylesheet\" type=\"text/css\" media=\"print\" href=\"/M_css/print/M_print_ie6.css?version=1\" /><![endif]-->\\r\\n        <!--[if IE 7]><link rel=\"stylesheet\" type=\"text/css\" media=\"print\" href=\"/M_css/print/M_print_ie7.css?version=1\" /><![endif]-->\\r\\n\\t<!--[if IE 8]><link rel=\"stylesheet\" type=\"text/css\" media=\"print\" href=\"/M_css/print/M_print_ie8.css?version=1\" /><![endif]-->\\r\\n\\r\\n        <!--jquery library--><script language=\"JavaScript\" type=\"text/JavaScript\" src=\"/std/includes/jquery/jquery.min.js\"></script>\\r\\n        <!--Local site configuration--><script language=\"JavaScript\" type=\"text/JavaScript\" src=\"/M_js/M_config.js?version=1\"></script>\\r\\n        <!--Miranda library--><script language=\"JavaScript\" type=\"text/JavaScript\" src=\"/M_js/M_library.js?version=1\"></script>\\r\\n    <link rel=\"alternate\" href=\"/jobtools/job_rss?o1=17584&amp;k2=A52B3674BC046465&amp;source=JobRSS&amp;medium=JobRSS\" type=\"application/rss+xml\" title=\"RSS\" /><script language=\"JavaScript\">\\n        function submitHref() {\\n         document.resultsform.submit();\\n        }\\n\\n     function searchTips() {window.open(\"jncustomsearch.DISPLAY_SEARCH_TIPS?in_organid=17584\", \"popup\",\\n     \"width=620,height=400,toolbar=no,location=no,menubar=no,status=no,resizable=yes,scrollbars=yes\");}\\n\\n     function winPopup(docId) {\\n              leftpos = 0\\n              vWidth  = 0\\n              vHeight = 0\\n              vWidth = screen.width/1.75\\n              vHeight = screen.height/1.75\\n              leftpos = screen.width-vWidth-10\\n              openwindow = window.open(\\'viewhtmldoc?in_jdocId=\\'+docId+\\'&in_servicecode=CUSTOMSEARCH&in_organid=17584&in_sessionid=0\\', \\'popup\\',\\'width=\\'+vWidth+\\',height=\\'+vHeight+\\',left=\\'+leftpos+\\',top=0,toolbar=no,location=no,menubar=no,status=no,resizable=yes,scrollbars=yes\\');\\n              openwindow.focus()\\n     }\\n     function buildlist(currlist, listinput) {\\n\\n         listinput.value = \"\";\\n         for (loop=0; loop < currlist.options.length; loop++) {\\n            if (currlist.options[loop].selected == true) {\\n              listinput.value += currlist.options[loop].value + \" \";\\n          }\\n        }\\n        //alert(listinput.value);\\n     }\\n     </SCRIPT></HEAD>\\r\\n    \\r\\n    <body id=\"search_tmpl\">\\r\\n\\r\\n        <!-- Google Analytics code -->\\r\\n        <script type=\"text/JavaScript\" src=\"/M_js/M_analytics_integration_A.js?version=1\"></script> \\r\\n        <script type=\"text/JavaScript\" src=\"/M_js/M_analytics_integration_B.js?version=1\"></script> \\r\\n        <!-- end Google Analytics code -->\\r\\n\\r\\n        <FORM>\\r\\n            <INPUT type=\"hidden\" value=\"17584\" id=\"M_ORGID\"/>\\r\\n        </FORM>\\r\\n\\r\\n<div id=\"rasp_page_overlay\"></div>\\r\\n\\r\\n        <!--rasp_page-->\\r\\n\\t<div id=\"rasp_page\"><a name=\"page\"></a>\\r\\n\\r\\n\\t    <!--rasp_wrapper-->\\r\\n\\t    <div id=\"rasp_wrapper\">\\r\\n            \\r\\n            <!--rasp_header-->\\r\\n\\t    <div id=\"rasp_header\"></div>\\r\\n\\r\\n            <hr/>\\r\\n            \\r\\n            <div class=\"hidden\">[ <a href=\"#content\">Go to content</a> | <a href=\"#menu\">Menu</a>  | <a href=\"#login\">Login</a> ]</div>\\r\\n\\r\\n            <hr/>\\r\\n\\r\\n            <!--rasp_navbar-->\\r\\n            <div id=\"rasp_navbar\"></div>\\r\\n\\r\\n            <hr/>\\r\\n\\r\\n            <!--rasp_content-->\\r\\n            <div id=\"rasp_content\">\\r\\n\\r\\n                <!--rasp_left-->\\r\\n                <div id=\"rasp_left\">\\r\\n\\t\\t    \\r\\n                    <!--rasp_menu-->\\r\\n\\t\\t    <a name=\"menu\"></a>\\r\\n                    <div id=\"rasp_menu\"></div>\\r\\n\\r\\n\\t\\t    <!--rasp_left_hand_menu-->\\r\\n\\t\\t    <div id=\"rasp_left_hand_nav\"></div>\\r\\n\\r\\n                    <div class=\"rasp_divider\"></div>\\r\\n\\r\\n\\t\\t    <!-- Quick Search -->\\r\\n\\t\\t    <div class=\"QuickSearchModule\"></div>\\r\\n\\r\\n                    <hr/>\\r\\n    \\r\\n\\t\\t    <!-- Login Search -->\\r\\n\\t\\t    <div class=\"LoginModule\"></div>\\r\\n\\r\\n                    <div class=\"hidden\" align=\"right\"><a href=\"#page\">top</a></div>\\r\\n                </div>\\r\\n                \\r\\n                <hr/>\\r\\n\\r\\n            <!--END HEADER TEMPLATE-->\\r\\n\\r\\n            <!--START CONTENT TEMPLATE-->\\r\\n                \\r\\n                <div id=\"rasp_image_ext\"></div>\\r\\n\\r\\n                <!--rasp_center-->\\r\\n                <a name=\"content\"></a>\\r\\n                <div id=\"rasp_center\">\\r\\n                    <div id=\"rasp_image_int\"></div>\\r\\n\\r\\n                    <!--start of template-->\\r\\n                    <div id=\"rasp_search_tmpl\">\\r\\n\\r\\n\\t\\t\\t    <h1 class=\"pageTitle\" id=\"SearchTitle\"></h1>\\n\\n<link rel=\"stylesheet\" href=\"/M_css/pages/M_jobdetails.css?version=1\" type=\"text/css\" media=\"screen\" />\\r\\n\\r\\n<div id=\"rasp_job_container\">\\r\\n    <h2 class=\"job_title\">Service Manager</h2>\\r\\n    <div class=\"posted\">Posted on 09-Jul-2015</div>\\r\\n    <div class=\"appclose\">Application Close Date: <span class=\"expire\">23-Jul-2015</span></div>\\r\\n\\r\\n    <div id=\"rasp_job_content\">\\r\\n        <div id=\"rasp_job_details\">\\r\\n            <TABLE class=\"rasp_table\" summary=\"Job Details\">\\r\\n                <CAPTION>Job Details</CAPTION>\\r\\n                <TBODY>\\r\\n                    <TR>\\r\\n                            <TD class=\"col_1\"><div class=\"elem_1\">Location:</div>\\r\\n                            <TD class=\"col_2\"><div class=\"elem_2\">Otago</div>\\r\\n    \\r\\n                    \\r\\n                    <TR>\\r\\n                            <TD class=\"col_1\"><div class=\"elem_1\">Category:</div>\\r\\n                            <TD class=\"col_2\"><div class=\"elem_2\">Special Education</div>\\r\\n                            \\r\\n                    <TR>\\r\\n                        <TD class=\"col_1\"><div class=\"elem_1\">Position Type:</div>\\r\\n                        <TD class=\"col_2\"><div class=\"elem_2\">Full Time</div>\\r\\n    \\r\\n                    <TR>\\r\\n                            <TD class=\"col_1\"><div class=\"elem_1\">Job Reference:</div>\\r\\n                            <TD class=\"col_2\"><div class=\"elem_2\">EDU/1169947</div>\\r\\n    \\r\\n                    <TR>\\r\\n                            <TD class=\"col_1\"><div class=\"elem_1\">Attachments:</div>\\r\\n                            <TD class=\"col_2\"><div class=\"elem_2\"><img src=\"/M_images/content/attachment.gif\" alt=\"Note clip\"/><a href=\"/jobtools/b_fileupload.proc_download?in_file_id=27213636&in_servicecode=CUSTOMSEARCH&in_organid=17584&in_sessionid=0&in_hash_key=CD92B14873A7467DCEC03F5D331079C9\">Service Manager JD.docx</a>  (Word, 79KB)<br/>Job Description<br><br></div>\\r\\n                </TBODY>\\r\\n            </TABLE>\\r\\n        </div>\\r\\n\\r\\n        <p align=\"center\"><strong>Service Manager Position 1.0 full-time equivalent: &nbsp;Central Otago</strong></p>\\r\\n<p align=\"center\"><strong>Ministry of Education, Special Education</strong></p>\\r\\n<p>&nbsp;</p>\\r\\n<p>We are seeking an experienced manager, to lead and work with a team of dedicated professionals committed to delivering a range of specialist services to children, young people and their families and whanau and to schools and early childhood centres. &nbsp;In addition to your leadership skills you will need:</p>\\r\\n<ul type=\"disc\">\\r\\n<li>The ability to develop and maintain effective &nbsp;&nbsp;&nbsp;&nbsp; relationships with key education, health, social service groups and &nbsp;&nbsp;&nbsp;&nbsp; stakeholders and to deliver high level and proactive services to clients.</li>\\r\\n<li>The ability to effectively cope with change and to be &nbsp;&nbsp;&nbsp;&nbsp; able to decide and act in situations without having the total picture.</li>\\r\\n<li>The ability to create a working environment for your &nbsp;&nbsp;&nbsp;&nbsp; team which promotes a high level of motivation, innovation and engagement.</li>\\r\\n<li>The ability to&nbsp;effectively mentor and coach &nbsp;&nbsp;&nbsp;&nbsp; professionals.</li>\\r\\n<li>The ability to analyse data, balance conflicting &nbsp;&nbsp;&nbsp;&nbsp; factors, information and views and develop strategies in order to meet &nbsp;&nbsp;&nbsp;&nbsp; Ministry objectives, including annually funded delivery targets.</li>\\r\\n<li>Strong written and oral communication skills.</li>\\r\\n<li>Excellent leadership and interpersonal skills.</li>\\r\\n<li>A tertiary qualification in education/ and or special &nbsp;&nbsp;&nbsp;&nbsp; education.</li>\\r\\n<li>Significant applicable experience in Education.</li>\\r\\n</ul>\\r\\n<p>The position will be based in our Cromwell office. &nbsp;As part of the district management team you will contribute to business planning, service development and collaborative problem solving across the district.</p>\\r\\n<p>This role presents as an exciting and rewarding opportunity to lead a professional innovative team and work in an organisation committed to improving education outcomes for Maori learners, Pasifika learners, learners with special education needs and learners from low socio-economic backgrounds.</p>\\r\\n<p>The Ministry of Education has an equal opportunities policy and is committed to the principles of The Treaty of Waitangi.</p>\\r\\n<p>If this opportunity interests you apply now using the &lsquo;Apply Online&rsquo; button.&nbsp;You can view a job description at <a href=\"http://www.minedu.govt.nz/theMinistry/AboutUs/Careers.aspx\">http://www.minedu.govt.nz/theMinistry/AboutUs/Careers.aspx</a> .</p>\\r\\n<p>&nbsp;</p>\\r\\n<p>For further information please contact:</p>\\r\\n<p>&nbsp;</p>\\r\\n<p>Gary McClintock&ndash; <a href=\"mailto:gary.mcclintock@education.govt.nz\">gary.mcclintock@education.govt.nz</a>&nbsp;&nbsp; DDI:&nbsp; 03-467 7945</p>\\r\\n<p>Applications close&nbsp;&nbsp;Thursday, 23&nbsp;July 2015.</p>\\r\\n    </div>\\r\\n</div><div class=\"jobactions\">\\r\\n    <div class=\"primary_action\">\\r\\n        <input type=\"submit\" class=\"rasp_button apply\" value=\"Apply online\" onclick=\"location.href=\\'/jobtools/apCustomAppMgr.WelcomeScreen?in_jnCounter=222578166&in_organid=17584&in_site=Internet&in_sessionid=&in_template_orgid=17584\\'\">\\r\\n    </div>\\r\\n    <div class=\"secondary_action\">\\r\\n        <a class=\"emailafriend\" href=\"jncustomep.customemailJobs?in_organid=17584&amp;in_full_details=Y&amp;in_version=&amp;in_navigation1=&amp;in_navigation2=%3Fin%5Frecruiter%3D%26amp%3Bin%5Forganid%3D17584%26amp%3Bin%5FjobDate%3DAll%26amp%3Bin%5FjobType%3D%26amp%3Bin%5Fposition%3D%26amp%3Bin%5Findustry%3D%26amp%3Bin%5Fsalrange%3D%26amp%3Bin%5Fskills%3D%26amp%3Bin%5Flocation%3D%26amp%3Bin%5Fresidency%3D%26amp%3Bin%5Fsummary%3DS%26amp%3Bin%5Fversion%3D%26amp%3Bin%5Fgraphic%3D%26amp%3Bin%5Fparam%3D%26amp%3Bin%5Fjobreference%3D%26amp%3Bin%5Forderby%3D%26amp%3Bin%5Fsessionid%3D%26amp%3Bin%5Fsummary%3DS&amp;in_navigation3=%26amp%3Bin%5FjnCounter%3D222578166&amp;in_sessionid=&amp;in_selectTally=222578166\"><img src=\"/M_images/content/emailafriend.gif\" alt=\"Email a friend\"/><span>Email a friend</span></a>\\r\\n        <a class=\"printjob\" href=\"javascript:void(0);\" onclick=\"window.print()\"><img src=\"/M_images/content/printjob.gif\" alt=\"Print this job\"/><span>Print job</span></a>\\r\\n        <a class=\"back\" href=\"javascript:void(0);\" onclick=\"javascript:history.go(-1)\"><img src=\"/M_images/content/goback.gif\" alt=\"Go back to job results\"/><span>Back to Job Results</span></a>\\r\\n    </div>\\r\\n</div>\\n<!--StartCustomSearchEngineDetailsFooter-V150102-->\\r\\n<!--EndCustomSearchEngineDetailsFooter-V150102-->\\n<FORM ACTION=\"jncustomsearch.searchResults\" NAME=\"searchform\" METHOD=\"POST\" onSubmit=\"if(this.hasSubmitted) return false;\\n\\nthis.hasSubmitted=true;\"><INPUT TYPE=\"hidden\" NAME=\"in_version\" VALUE=\"\"><INPUT TYPE=\"hidden\" NAME=\"in_sessionid\" VALUE=\"\">\\n                                <INPUT TYPE=\"hidden\" NAME=\"in_graphic\" VALUE=\"\">\\n                                <INPUT TYPE=\"hidden\" NAME=\"javaProxyUrl\" VALUE=\"\">\\n                                <INPUT TYPE=\"hidden\" NAME=\"in_param\" VALUE=\"\"><INPUT TYPE=\"hidden\" NAME=\"in_organid\" VALUE=\"17584\"><INPUT TYPE=\"hidden\" NAME=\"in_others\" VALUE=\"\"><INPUT TYPE=\"hidden\" NAME=\"in_others\" VALUE=\"\"><INPUT TYPE=\"hidden\" NAME=\"in_others\" VALUE=\"\"><INPUT TYPE=\"hidden\" NAME=\"in_others\" VALUE=\"\"><div id=\"rss\"><a  href=\"/jobtools/job_rss?o1=17584&amp;k2=A52B3674BC046465&amp;source=JobRSS&amp;medium=JobRSS\"><img style=\"vertical-align:bottom;padding-right:3px;\" border=\"0\" alt=\"rss icon\" src=\"/std/images/rss.gif\">RSS feed</a></div><link rel=\"stylesheet\" href=\"/M_css/pages/M_search.css?version=1\" type=\"text/css\" media=\"screen\" />\\r\\n\\r\\n<div id=\"advanced_search_handler\">\\r\\n    <div id=\"advanced_search_text\"></div>\\r\\n    <div id=\"advanced_search\">\\r\\n    \\r\\n        <fieldset class=\"rasp_form\">\\r\\n            <div class=\"fieldset_top\"><div class=\"cornerL\"></div></div>\\r\\n    \\r\\n                <dl class=\"header\">Find a Job</dl>\\r\\n                 <dl>\\r\\n                    <dt>Position Type:</dt>\\r\\n                    <dd><SELECT NAME=\"in_jobtype\" SIZE=\"1\" ><OPTION SELECTED VALUE=\"\">Any<OPTION  VALUE=\"\">Please Select<OPTION  VALUE=\"Full Time\">Full Time<OPTION  VALUE=\"Part Time\">Part Time<OPTION  VALUE=\"Fixed Term\">Fixed Term Full Time<OPTION  VALUE=\"Fixed Term Part Time\">Fixed Term Part Time<OPTION  VALUE=\"Casual\">Casual<OPTION  VALUE=\"Temp\">Temp<OPTION  VALUE=\"Contract\">Contract</SELECT></dd>\\r\\n                </dl>\\r\\n    \\r\\n    \\r\\n                <dl>\\r\\n                    <dt>Category:</dt>\\r\\n                    <dd><SELECT NAME=\"in_industry\" SIZE=\"1\" ><OPTION SELECTED VALUE=\"\">Please Select<OPTION  VALUE=\"Accounting/Finance\">Accounting/Finance<OPTION  VALUE=\"Administration/Support Services\">Administration/Support Services<OPTION  VALUE=\"Communications\">Communications<OPTION  VALUE=\"Education\">Education<OPTION  VALUE=\"Human Resources\">Human Resources<OPTION  VALUE=\"IT & computing\">ICT<OPTION  VALUE=\"Legal\">Legal<OPTION  VALUE=\"Management\">Management<OPTION  VALUE=\"Policy/Advisory\">Policy/Advisory<OPTION  VALUE=\"Procurement /Contract Management\">Procurement /Contract Management<OPTION  VALUE=\"Project/Programme Management\">Project/Programme Management<OPTION  VALUE=\"Property & Infrastructure\">Property & Infrastructure<OPTION  VALUE=\"Research & Analysis\">Research & Analysis<OPTION  VALUE=\"Special Education\">Special Education<OPTION  VALUE=\"Psychologist\">Psychologist<OPTION  VALUE=\"Speech Language Therapist\">Speech Language Therapist<OPTION  VALUE=\"Support Worker\">Support Worker</SELECT></dd>\\r\\n                </dl>\\t\\t\\t\\t               \\r\\n\\r\\n                <dl>\\r\\n                    <dt>Job Title:</dt>\\r\\n                    <dd><input type=\"text\" name=\"in_position\"  value=\"\" size=\"40\" maxlength=\"60\"></dd>\\r\\n                </dl>\\r\\n\\t\\t\\t\\t\\r\\n                <dl>\\r\\n                    <dt>Keywords:</dt>\\r\\n                    <dd><input type=\"text\" name=\"in_skills\"  value=\"\" size=\"40\" maxlength=\"60\"><a href=\"#search_tips\" name=\"modal\"><img src=\"/M_images/content/whatsthis.gif\" title=\"More Info\"/></a><a href=\"javascript:void(0);\" id=\"search_tips_btn\">Search Tips</a></dd>\\r\\n                </dl>\\r\\n    \\r\\n                <dl>\\r\\n                    <dt>Location:</dt>\\r\\n                    <dd><SELECT NAME=\"in_location\" SIZE=\"1\" ><OPTION SELECTED VALUE=\"\">Any<OPTION  VALUE=\"\">Please Select<OPTION  VALUE=\"&quot;Auckland&quot;\">Auckland<OPTION  VALUE=\"&quot;Bay of Plenty&quot;\">Bay of Plenty<OPTION  VALUE=\"&quot;Canterbury&quot;\">Canterbury<OPTION  VALUE=\"&quot;Dunedin&quot;\">Dunedin<OPTION  VALUE=\"&quot;Gisborne&quot;\">Gisborne<OPTION  VALUE=\"&quot;Hamilton&quot;\">Hamilton<OPTION  VALUE=\"&quot;Hawkes Bay&quot;\">Hawkes Bay<OPTION  VALUE=\"&quot;Horowhenua&quot;\">Horowhenua<OPTION  VALUE=\"&quot;Lower Hutt&quot;\">Lower Hutt<OPTION  VALUE=\"&quot;Manawatu&quot;\">Manawatu<OPTION  VALUE=\"&quot;Napier&quot;\">Napier<OPTION  VALUE=\"&quot;Nelson - Marlborough&quot;\">Nelson - Marlborough<OPTION  VALUE=\"&quot;Northland&quot;\">Northland<OPTION  VALUE=\"&quot;Otago&quot;\">Otago<OPTION  VALUE=\"&quot;Rotorua&quot;\">Rotorua<OPTION  VALUE=\"&quot;Southland&quot;\">Southland<OPTION  VALUE=\"&quot;Taranaki&quot;\">Taranaki<OPTION  VALUE=\"&quot;Taupo&quot;\">Taupo<OPTION  VALUE=\"&quot;Waikato&quot;\">Waikato<OPTION  VALUE=\"&quot;Wairarapa&quot;\">Wairarapa<OPTION  VALUE=\"&quot;Whanganui&quot;\">Whanganui<OPTION  VALUE=\"&quot;Whangarei&quot;\">Whangarei<OPTION  VALUE=\"&quot;Wellington&quot;\">Wellington<OPTION  VALUE=\"&quot;West Coast&quot;\">West Coast<OPTION  VALUE=\"&quot;Unspecified&quot;\">Unspecified</SELECT></dd>\\r\\n                </dl>\\r\\n    \\r\\n                <dl>\\r\\n                    <dt>Date Advertised:</dt>\\r\\n                    <dd><SELECT NAME=\"in_jobDate\"  SIZE=1><OPTION >Last 24 Hours<OPTION >Last 3 days<OPTION >Last 7 days<OPTION >Last 14 days<OPTION SELECTED>All</SELECT></dd>\\r\\n                </dl>\\r\\n    \\r\\n                <dl>\\r\\n                    <dt>Job Reference:</dt>\\r\\n                    <dd><INPUT TYPE=\"text\" NAME=\"in_jobreference\"  value=\"\" size=\"20\" MAXLENGTH=\"20\">\\r\\n                        <div class=\"helptext\">If unknown leave blank</div>\\r\\n                    </dd>\\r\\n                </dl>\\r\\n            <div class=\"fieldset_bottom\"><div class=\"cornerL\"></div></div>\\r\\n        </fieldset>\\r\\n\\r\\n        <fieldset class=\"rasp_actions\">\\r\\n            <dl>\\r\\n                <dt>&nbsp;</dt>\\r\\n                <dd>\\r\\n                    <div class=\"actions\">\\r\\n                        <div class=\"primary\"><INPUT type=\"submit\" name=\"in_searchBut\" class=\"rasp_button search\" value=\"Search\"/></div>\\r\\n                        <div class=\"secondary_action\"></div>\\r\\n                    </div>\\r\\n                </dd>\\r\\n            </dl>\\r\\n        </fieldset>\\r\\n    \\r\\n    </div>\\r\\n    \\r\\n    <div id=\"search_tips\" class=\"RaspModalWindow\">\\r\\n        <div class=\"topMW\">\\r\\n                 <h2 class=\"titleMW\"></h2>\\r\\n                 <a class=\"closeMW\" href=\"#\">Close</a>\\r\\n        </div>\\r\\n        <div class=\"MWContent\" id=\"search_tips_content\"></div>\\r\\n    </div>\\r\\n\\r\\n\\r\\n</div><!-- end advanced_search_handler --></FORM>                <!--end template-->\\r\\n\\r\\n                </div>\\r\\n</div>\\r\\n                <div class=\"hidden\" align=\"right\"><a href=\"#page\">top</a></div>\\r\\n\\r\\n                <!--rasp_right-->\\r\\n                <div id=\"rasp_right\">\\r\\n                    \\r\\n                    <div class=\"rasp_divider\"></div>\\r\\n\\r\\n\\t\\t    <!-- Quick Search -->\\r\\n\\t\\t    <div class=\"QuickSearchModule\"></div>\\r\\n                \\r\\n                    <hr/>\\r\\n\\r\\n\\t\\t    <!-- Login -->\\r\\n\\t\\t    <a name=\"login\"></a>\\r\\n\\t\\t    <div class=\"LoginModule\"></div>\\r\\n\\r\\n\\t\\t    <!-- rasp_right_hand_nav -->\\r\\n                    <div id=\"rasp_right_hand_nav\"></div>\\r\\n\\t\\t    \\r\\n                    <div class=\"hidden\" align=\"right\"><a href=\"#page\">top</a></div>\\r\\n                </div>\\r\\n                \\r\\n                <hr/>\\r\\n\\r\\n\\t    <!-- end content div -->\\r\\n             </div>\\r\\n             </div>          \\r\\n  </div>   \\r\\n            <!--rasp_footer-->\\r\\n            <div id=\"rasp_footer\"><div id=\"poweredby\"></div>\\r\\n </div>\\r\\n\\r\\n        </div>\\r\\n    </body>\\r\\n</html>\\n'"
      ]
     },
     "execution_count": 83,
     "metadata": {},
     "output_type": "execute_result"
    }
   ],
   "source": [
    "reqlinkq.text"
   ]
  },
  {
   "cell_type": "code",
   "execution_count": null,
   "metadata": {
    "collapsed": true
   },
   "outputs": [],
   "source": []
  },
  {
   "cell_type": "code",
   "execution_count": null,
   "metadata": {
    "collapsed": true
   },
   "outputs": [],
   "source": []
  },
  {
   "cell_type": "code",
   "execution_count": 52,
   "metadata": {
    "collapsed": false
   },
   "outputs": [
    {
     "data": {
      "text/plain": [
       "u'http://jobs.minedu.govt.nz/jobtools/jncustomsearch.viewFullSingle?in_organid=17584&in_jnCounter=222578166&in_jobDate=All&in_searchbox=YES&in_summary=S#utm_source=JobRSS&utm_medium=JobRSS'"
      ]
     },
     "execution_count": 52,
     "metadata": {},
     "output_type": "execute_result"
    }
   ],
   "source": [
    "dicrtq['link']"
   ]
  },
  {
   "cell_type": "code",
   "execution_count": null,
   "metadata": {
    "collapsed": true
   },
   "outputs": [],
   "source": []
  },
  {
   "cell_type": "code",
   "execution_count": null,
   "metadata": {
    "collapsed": true
   },
   "outputs": [],
   "source": []
  },
  {
   "cell_type": "code",
   "execution_count": null,
   "metadata": {
    "collapsed": true
   },
   "outputs": [],
   "source": []
  },
  {
   "cell_type": "code",
   "execution_count": 46,
   "metadata": {
    "collapsed": false
   },
   "outputs": [
    {
     "data": {
      "text/plain": [
       "u'Service Manager'"
      ]
     },
     "execution_count": 46,
     "metadata": {},
     "output_type": "execute_result"
    }
   ],
   "source": [
    "dicrts"
   ]
  },
  {
   "cell_type": "code",
   "execution_count": 17,
   "metadata": {
    "collapsed": false
   },
   "outputs": [],
   "source": [
    "debsnz =  dnz.search(dicrs)"
   ]
  },
  {
   "cell_type": "code",
   "execution_count": 18,
   "metadata": {
    "collapsed": false
   },
   "outputs": [],
   "source": [
    "randrecord = len(debsnz.records)"
   ]
  },
  {
   "cell_type": "code",
   "execution_count": 19,
   "metadata": {
    "collapsed": false
   },
   "outputs": [],
   "source": [
    "ranitdz = random.randint(0, randrecord)"
   ]
  },
  {
   "cell_type": "code",
   "execution_count": 20,
   "metadata": {
    "collapsed": false
   },
   "outputs": [
    {
     "data": {
      "text/plain": [
       "0"
      ]
     },
     "execution_count": 20,
     "metadata": {},
     "output_type": "execute_result"
    }
   ],
   "source": [
    "ranitdz"
   ]
  },
  {
   "cell_type": "code",
   "execution_count": 20,
   "metadata": {
    "collapsed": true
   },
   "outputs": [],
   "source": []
  },
  {
   "cell_type": "code",
   "execution_count": 21,
   "metadata": {
    "collapsed": false
   },
   "outputs": [
    {
     "data": {
      "text/plain": [
       "[{u'additional_description': [],\n",
       "  u'alternate_title': [],\n",
       "  u'category': [u'Other'],\n",
       "  u'citation': [],\n",
       "  u'collection': [u'Te Ara - The Encyclopedia of New Zealand', u'Matapihi'],\n",
       "  u'collection_title': [u'Te Ara - The Encyclopedia of New Zealand',\n",
       "   u'Matapihi'],\n",
       "  u'content_partner': [u'Ministry for Culture and Heritage'],\n",
       "  u'contributing_partner': [u'Te Ara - The Encyclopedia of New Zealand'],\n",
       "  u'contributor': [u'Private collection'],\n",
       "  u'copyright': [],\n",
       "  u'created_at': u'2014-06-12T12:20:30.014+12:00',\n",
       "  u'creator': [u'C. J. Donoghue',\n",
       "   u'New Zealand Ministry for Culture and Heritage Te Manatu Taonga'],\n",
       "  u'credit_creator': None,\n",
       "  u'date': [],\n",
       "  u'dc_identifier': [u'http://www.teara.govt.nz/en/zoomify/22554/managers'],\n",
       "  u'dc_type': [u'zoomify', u'InteractiveResource'],\n",
       "  u'description': u'Managers and professionals, like these men and women attending a 1983 advanced management seminar, tend to be much older than the average New Zealand worker. In 2006, 93% of managers and 92% of professionals were over 25.Four of the people in this photograph later became public service ...',\n",
       "  u'display_collection': u'Te Ara - The Encyclopedia of New Zealand',\n",
       "  u'display_content_partner': u'Ministry for Culture and Heritage',\n",
       "  u'display_date': None,\n",
       "  u'dnz_type': u'Unknown',\n",
       "  u'eprints_type': [],\n",
       "  u'format': [u'application/x-shockwave-flash'],\n",
       "  u'fulltext': None,\n",
       "  u'has_version': [],\n",
       "  u'holding': [],\n",
       "  u'id': 33904939,\n",
       "  u'is_commercial_use': None,\n",
       "  u'is_part_of': [],\n",
       "  u'is_replaced_by': None,\n",
       "  u'is_required_by': None,\n",
       "  u'is_version_of': None,\n",
       "  u'landing_url': u'http://www.teara.govt.nz/en/zoomify/22554/managers',\n",
       "  u'language': [u'en'],\n",
       "  u'large_thumbnail_url': None,\n",
       "  u'library_collection': [],\n",
       "  u'license': None,\n",
       "  u'metadata_url': None,\n",
       "  u'object_url': None,\n",
       "  u'origin_url': None,\n",
       "  u'primary_collection': [u'Te Ara - The Encyclopedia of New Zealand'],\n",
       "  u'provenance': None,\n",
       "  u'published_date': [],\n",
       "  u'publisher': [u'Ministry for Culture and Heritage Te Manatu Taonga'],\n",
       "  u'relation': [u'http://www.teara.govt.nz/en/occupational-structure'],\n",
       "  u'replaces': None,\n",
       "  u'rights': u'Crown Copyright administered through the New Zealand Ministry for Culture and Heritage Te Manatu Taonga. All text licensed under the Creative Commons Attribution-NonCommercial 3.0 New Zealand Licence unless otherwise stated. Commercial re-use may be allowed on request. All non-text content is subject to specific conditions.',\n",
       "  u'rights_url': [u'http://www.teara.govt.nz/copyright'],\n",
       "  u'shelf_location': None,\n",
       "  u'source': [],\n",
       "  u'source_url': u'http://api.digitalnz.org/records/33904939/source',\n",
       "  u'syndication_date': u'2014-08-29T15:30:24.422+12:00',\n",
       "  u'table_of_contents': None,\n",
       "  u'tag': [u'Matapihi'],\n",
       "  u'text': None,\n",
       "  u'thesis_level': None,\n",
       "  u'thumbnail_url': None,\n",
       "  u'title': u'Managers',\n",
       "  u'updated_at': u'2014-10-10T09:34:30.928+13:00',\n",
       "  u'usage': [u'All rights reserved']},\n",
       " {u'additional_description': [],\n",
       "  u'alternate_title': [],\n",
       "  u'category': [u'Images'],\n",
       "  u'citation': [],\n",
       "  u'collection': [u'Matapihi', u'New Zealand Electronic Text Collection'],\n",
       "  u'collection_title': [u'Matapihi',\n",
       "   u'New Zealand Electronic Text Collection'],\n",
       "  u'content_partner': [u'New Zealand Electronic Text Collection'],\n",
       "  u'contributing_partner': [],\n",
       "  u'contributor': [],\n",
       "  u'copyright': [u'Unknown'],\n",
       "  u'created_at': u'2012-04-21T03:28:50.000+12:00',\n",
       "  u'creator': [],\n",
       "  u'credit_creator': None,\n",
       "  u'date': [],\n",
       "  u'dc_identifier': [u'http://www.nzetc.org/tm/scholarly/Gov03_06Rail-fig-Gov03_06Rail009a.html'],\n",
       "  u'dc_type': [],\n",
       "  u'description': u'The New Zealand Railways Magazine, Volume 3, Issue 6 (October 1, 1928) - Improved Train Services - General Manager',\n",
       "  u'display_collection': u'New Zealand Electronic Text Collection',\n",
       "  u'display_content_partner': u'New Zealand Electronic Text Collection',\n",
       "  u'display_date': None,\n",
       "  u'dnz_type': u'Unknown',\n",
       "  u'eprints_type': [],\n",
       "  u'format': [],\n",
       "  u'fulltext': None,\n",
       "  u'has_version': [],\n",
       "  u'holding': [],\n",
       "  u'id': 1606587,\n",
       "  u'is_commercial_use': True,\n",
       "  u'is_part_of': [],\n",
       "  u'is_replaced_by': None,\n",
       "  u'is_required_by': None,\n",
       "  u'is_version_of': None,\n",
       "  u'landing_url': u'http://www.nzetc.org/tm/scholarly/Gov03_06Rail-fig-Gov03_06Rail009a.html',\n",
       "  u'language': [],\n",
       "  u'large_thumbnail_url': None,\n",
       "  u'library_collection': [],\n",
       "  u'license': None,\n",
       "  u'metadata_url': None,\n",
       "  u'object_url': u'http://www.nzetc.org/etexts/Gov03_06Rail/Gov03_06Rail009a.jpg',\n",
       "  u'origin_url': None,\n",
       "  u'primary_collection': [u'New Zealand Electronic Text Collection'],\n",
       "  u'provenance': None,\n",
       "  u'published_date': [],\n",
       "  u'publisher': [u'New Zealand Electronic Text Collection'],\n",
       "  u'relation': [u'The Railways Magazine'],\n",
       "  u'replaces': None,\n",
       "  u'rights': None,\n",
       "  u'rights_url': [],\n",
       "  u'shelf_location': None,\n",
       "  u'source': [u'New Zealand Government Railways Department , Wellington'],\n",
       "  u'source_url': u'http://api.digitalnz.org/records/1606587/source',\n",
       "  u'syndication_date': u'2014-08-29T18:30:49.403+12:00',\n",
       "  u'table_of_contents': None,\n",
       "  u'tag': [u'Matapihi'],\n",
       "  u'text': None,\n",
       "  u'thesis_level': None,\n",
       "  u'thumbnail_url': u'http://www.nzetc.org/etexts/Gov03_06Rail/Gov03_06Rail009a(t120).jpg',\n",
       "  u'title': u'General Manager',\n",
       "  u'updated_at': u'2014-09-02T13:18:50.253+12:00',\n",
       "  u'usage': [u'Unknown']},\n",
       " {u'additional_description': [],\n",
       "  u'alternate_title': [],\n",
       "  u'category': [u'Images'],\n",
       "  u'citation': [],\n",
       "  u'collection': [u'Kete Horowhenua'],\n",
       "  u'collection_title': [u'Kete Horowhenua'],\n",
       "  u'content_partner': [u'Kete Horowhenua'],\n",
       "  u'contributing_partner': [],\n",
       "  u'contributor': [],\n",
       "  u'copyright': [u'Some rights reserved'],\n",
       "  u'created_at': u'2012-04-20T17:09:17.000+12:00',\n",
       "  u'creator': [u'Kete Horowhenua', u'Chronicle'],\n",
       "  u'credit_creator': None,\n",
       "  u'date': [],\n",
       "  u'dc_identifier': [],\n",
       "  u'dc_type': [],\n",
       "  u'description': u'Penciled on back -\\nNeil Street, manager of Furniture Services Ltd\\n       Sat. Jan. 27, 1968\\n\\tStamped on back with black ink -\\nHorowhenua Historical Society\\nAcc. No.     137\\nDate\\n\\tMr Street, manager, Furniture Services Ltd, 1968\\n1 B&#38;W photo print\\n\\n\\n\\tNeil Street, manager of Furniture Services Ltd\\n\\tAny use of this image must be accompanied by t...',\n",
       "  u'display_collection': u'Kete Horowhenua',\n",
       "  u'display_content_partner': u'Kete Horowhenua',\n",
       "  u'display_date': None,\n",
       "  u'dnz_type': u'Unknown',\n",
       "  u'eprints_type': [],\n",
       "  u'format': [u'image/jpeg'],\n",
       "  u'fulltext': None,\n",
       "  u'has_version': [],\n",
       "  u'holding': [],\n",
       "  u'id': 146474,\n",
       "  u'is_commercial_use': True,\n",
       "  u'is_part_of': [],\n",
       "  u'is_replaced_by': None,\n",
       "  u'is_required_by': None,\n",
       "  u'is_version_of': None,\n",
       "  u'landing_url': u'http://horowhenua.kete.net.nz/site/images/show/1526-mr-street-manager-furniture-services-ltd-1968',\n",
       "  u'language': [],\n",
       "  u'large_thumbnail_url': u'http://horowhenua.kete.net.nz/image_files/7431/1979.137.0483_large.jpg',\n",
       "  u'library_collection': [],\n",
       "  u'license': None,\n",
       "  u'metadata_url': None,\n",
       "  u'object_url': u'http://horowhenua.kete.net.nz/image_files/7431/1979.137.0483.jpg',\n",
       "  u'origin_url': None,\n",
       "  u'primary_collection': [u'Kete Horowhenua'],\n",
       "  u'provenance': None,\n",
       "  u'published_date': [],\n",
       "  u'publisher': [u'horowhenua.kete.net.nz'],\n",
       "  u'relation': [u'http://horowhenua.kete.net.nz/site/topics/show/272'],\n",
       "  u'replaces': None,\n",
       "  u'rights': u'http://creativecommons.org/licenses/by-nc-sa/3.0/nz/',\n",
       "  u'rights_url': [u'http://creativecommons.org/licenses/by-nc-sa/3.0/nz/'],\n",
       "  u'shelf_location': None,\n",
       "  u'source': [],\n",
       "  u'source_url': u'http://api.digitalnz.org/records/146474/source',\n",
       "  u'syndication_date': u'2013-03-25T14:32:45.647+13:00',\n",
       "  u'table_of_contents': None,\n",
       "  u'tag': [],\n",
       "  u'text': None,\n",
       "  u'thesis_level': None,\n",
       "  u'thumbnail_url': u'http://horowhenua.kete.net.nz/image_files/7431/1979.137.0483_medium.jpg',\n",
       "  u'title': u'Mr Street, manager, Furniture Services Ltd, 1968',\n",
       "  u'updated_at': u'2014-08-06T14:01:55.785+12:00',\n",
       "  u'usage': [u'Share', u'Modify']},\n",
       " {u'additional_description': [],\n",
       "  u'alternate_title': [],\n",
       "  u'category': [u'Audio'],\n",
       "  u'citation': [],\n",
       "  u'collection': [u'Midday Report', u'Radio New Zealand'],\n",
       "  u'collection_title': [u'Midday Report', u'Radio New Zealand'],\n",
       "  u'content_partner': [u'Radio New Zealand'],\n",
       "  u'contributing_partner': [u'Midday Report'],\n",
       "  u'contributor': [u'Jim Stuart-Black'],\n",
       "  u'copyright': [u'All rights reserved'],\n",
       "  u'created_at': u'2014-03-05T17:57:44.626+13:00',\n",
       "  u'creator': [],\n",
       "  u'credit_creator': None,\n",
       "  u'date': [u'2011-02-22T23:14:00Z'],\n",
       "  u'dc_identifier': [],\n",
       "  u'dc_type': [u'Audio'],\n",
       "  u'description': u'NZ Fire Service Special Operations National Manager Jim Stuart-Black joins the programme to give an update.',\n",
       "  u'display_collection': u'Radio New Zealand',\n",
       "  u'display_content_partner': u'Radio New Zealand',\n",
       "  u'display_date': u'23/02/2011',\n",
       "  u'dnz_type': u'Unknown',\n",
       "  u'eprints_type': [],\n",
       "  u'format': [],\n",
       "  u'fulltext': None,\n",
       "  u'has_version': [],\n",
       "  u'holding': [],\n",
       "  u'id': 33140960,\n",
       "  u'is_commercial_use': None,\n",
       "  u'is_part_of': [],\n",
       "  u'is_replaced_by': None,\n",
       "  u'is_required_by': None,\n",
       "  u'is_version_of': None,\n",
       "  u'landing_url': u\"http://www.radionz.co.nz/national/programmes/middayreport/audio/2485848/earthquake-coverage-fire-services-special-op's-manager\",\n",
       "  u'language': [],\n",
       "  u'large_thumbnail_url': None,\n",
       "  u'library_collection': [],\n",
       "  u'license': None,\n",
       "  u'metadata_url': None,\n",
       "  u'object_url': None,\n",
       "  u'origin_url': None,\n",
       "  u'primary_collection': [u'Radio New Zealand'],\n",
       "  u'provenance': None,\n",
       "  u'published_date': [],\n",
       "  u'publisher': [],\n",
       "  u'relation': [],\n",
       "  u'replaces': None,\n",
       "  u'rights': None,\n",
       "  u'rights_url': [],\n",
       "  u'shelf_location': None,\n",
       "  u'source': [],\n",
       "  u'source_url': u'http://api.digitalnz.org/records/33140960/source',\n",
       "  u'syndication_date': u'2014-03-05T17:57:44.626+13:00',\n",
       "  u'table_of_contents': None,\n",
       "  u'tag': [],\n",
       "  u'text': None,\n",
       "  u'thesis_level': None,\n",
       "  u'thumbnail_url': None,\n",
       "  u'title': u\"Earthquake coverage - Fire Services Special Op's Manager\",\n",
       "  u'updated_at': u'2014-05-28T02:33:51.477+12:00',\n",
       "  u'usage': [u'All rights reserved']},\n",
       " {u'additional_description': [],\n",
       "  u'alternate_title': [],\n",
       "  u'category': [u'Audio'],\n",
       "  u'citation': [],\n",
       "  u'collection': [u'Checkpoint', u'Radio New Zealand'],\n",
       "  u'collection_title': [u'Checkpoint', u'Radio New Zealand'],\n",
       "  u'content_partner': [u'Radio New Zealand'],\n",
       "  u'contributing_partner': [u'Checkpoint'],\n",
       "  u'contributor': [u'Jim Stuart-Black'],\n",
       "  u'copyright': [u'All rights reserved'],\n",
       "  u'created_at': u'2014-03-05T17:45:51.721+13:00',\n",
       "  u'creator': [],\n",
       "  u'credit_creator': None,\n",
       "  u'date': [u'2011-02-24T05:23:00Z'],\n",
       "  u'dc_identifier': [],\n",
       "  u'dc_type': [u'Audio'],\n",
       "  u'description': u'Now for the latest on rescue effort by the fire service, the National Manager Special Operations, Jim Stewart Black.',\n",
       "  u'display_collection': u'Radio New Zealand',\n",
       "  u'display_content_partner': u'Radio New Zealand',\n",
       "  u'display_date': u'24/02/2011',\n",
       "  u'dnz_type': u'Unknown',\n",
       "  u'eprints_type': [],\n",
       "  u'format': [],\n",
       "  u'fulltext': None,\n",
       "  u'has_version': [],\n",
       "  u'holding': [],\n",
       "  u'id': 33135744,\n",
       "  u'is_commercial_use': None,\n",
       "  u'is_part_of': [],\n",
       "  u'is_replaced_by': None,\n",
       "  u'is_required_by': None,\n",
       "  u'is_version_of': None,\n",
       "  u'landing_url': u'http://www.radionz.co.nz/national/programmes/checkpoint/audio/2466254/national-operations-manager,-fire-service',\n",
       "  u'language': [],\n",
       "  u'large_thumbnail_url': None,\n",
       "  u'library_collection': [],\n",
       "  u'license': None,\n",
       "  u'metadata_url': None,\n",
       "  u'object_url': None,\n",
       "  u'origin_url': None,\n",
       "  u'primary_collection': [u'Radio New Zealand'],\n",
       "  u'provenance': None,\n",
       "  u'published_date': [],\n",
       "  u'publisher': [],\n",
       "  u'relation': [],\n",
       "  u'replaces': None,\n",
       "  u'rights': None,\n",
       "  u'rights_url': [],\n",
       "  u'shelf_location': None,\n",
       "  u'source': [],\n",
       "  u'source_url': u'http://api.digitalnz.org/records/33135744/source',\n",
       "  u'syndication_date': u'2014-03-05T17:45:51.721+13:00',\n",
       "  u'table_of_contents': None,\n",
       "  u'tag': [],\n",
       "  u'text': None,\n",
       "  u'thesis_level': None,\n",
       "  u'thumbnail_url': None,\n",
       "  u'title': u'National Operations Manager, Fire Service',\n",
       "  u'updated_at': u'2014-05-28T02:31:58.002+12:00',\n",
       "  u'usage': [u'All rights reserved']},\n",
       " {u'additional_description': [],\n",
       "  u'alternate_title': [],\n",
       "  u'category': [u'Audio'],\n",
       "  u'citation': [],\n",
       "  u'collection': [u'CEISMIC', u'Checkpoint', u'Radio New Zealand'],\n",
       "  u'collection_title': [u'CEISMIC', u'Checkpoint', u'Radio New Zealand'],\n",
       "  u'content_partner': [u'Radio New Zealand'],\n",
       "  u'contributing_partner': [u'Checkpoint'],\n",
       "  u'contributor': [u'Nicola Grigg'],\n",
       "  u'copyright': [u'All rights reserved'],\n",
       "  u'created_at': u'2014-03-05T19:21:09.072+13:00',\n",
       "  u'creator': [],\n",
       "  u'credit_creator': None,\n",
       "  u'date': [u'2012-10-18T05:14:00Z'],\n",
       "  u'dc_identifier': [],\n",
       "  u'dc_type': [u'Audio'],\n",
       "  u'description': u\"A independent review of Fire Service's response to deadly February earthquake in Christchurch has heavily criticised the organisation for allowing tensions to fester for years.\",\n",
       "  u'display_collection': u'Radio New Zealand',\n",
       "  u'display_content_partner': u'Radio New Zealand',\n",
       "  u'display_date': u'18/10/2012',\n",
       "  u'dnz_type': u'Unknown',\n",
       "  u'eprints_type': [],\n",
       "  u'format': [],\n",
       "  u'fulltext': None,\n",
       "  u'has_version': [],\n",
       "  u'holding': [],\n",
       "  u'id': 33179778,\n",
       "  u'is_commercial_use': None,\n",
       "  u'is_part_of': [],\n",
       "  u'is_replaced_by': None,\n",
       "  u'is_required_by': None,\n",
       "  u'is_version_of': None,\n",
       "  u'landing_url': u'http://www.radionz.co.nz/national/programmes/checkpoint/audio/2535971/fire-service-managers-criticised-for-dysfunctional-response',\n",
       "  u'language': [],\n",
       "  u'large_thumbnail_url': None,\n",
       "  u'library_collection': [],\n",
       "  u'license': None,\n",
       "  u'metadata_url': None,\n",
       "  u'object_url': None,\n",
       "  u'origin_url': None,\n",
       "  u'primary_collection': [u'Radio New Zealand'],\n",
       "  u'provenance': None,\n",
       "  u'published_date': [],\n",
       "  u'publisher': [],\n",
       "  u'relation': [],\n",
       "  u'replaces': None,\n",
       "  u'rights': None,\n",
       "  u'rights_url': [],\n",
       "  u'shelf_location': None,\n",
       "  u'source': [],\n",
       "  u'source_url': u'http://api.digitalnz.org/records/33179778/source',\n",
       "  u'syndication_date': u'2014-08-04T15:25:46.350+12:00',\n",
       "  u'table_of_contents': None,\n",
       "  u'tag': [u'CEISMIC'],\n",
       "  u'text': None,\n",
       "  u'thesis_level': None,\n",
       "  u'thumbnail_url': None,\n",
       "  u'title': u'Fire service managers criticised for dysfunctional response',\n",
       "  u'updated_at': u'2014-08-27T10:08:23.195+12:00',\n",
       "  u'usage': [u'All rights reserved']},\n",
       " {u'additional_description': [],\n",
       "  u'alternate_title': [],\n",
       "  u'category': [u'Articles'],\n",
       "  u'citation': [],\n",
       "  u'collection': [u'Radio New Zealand'],\n",
       "  u'collection_title': [u'Radio New Zealand'],\n",
       "  u'content_partner': [u'Radio New Zealand'],\n",
       "  u'contributing_partner': [],\n",
       "  u'contributor': [],\n",
       "  u'copyright': [u'All rights reserved'],\n",
       "  u'created_at': u'2015-03-12T08:09:35.218+13:00',\n",
       "  u'creator': [],\n",
       "  u'credit_creator': None,\n",
       "  u'date': [u'2012-11-08 20:42:15 UTC'],\n",
       "  u'dc_identifier': [],\n",
       "  u'dc_type': [],\n",
       "  u'description': u'A senior member of the Fire Service says he regrets not taking over leadership at the CTV rescue effort.',\n",
       "  u'display_collection': u'Radio New Zealand',\n",
       "  u'display_content_partner': u'Radio New Zealand',\n",
       "  u'display_date': u'08/11/2012',\n",
       "  u'dnz_type': u'Unknown',\n",
       "  u'eprints_type': [],\n",
       "  u'format': [],\n",
       "  u'fulltext': u'A senior member of the Fire Service says he regrets not taking over leadership at the CTV rescue effort. An inquest in Christchurch is focusing on eight people who survived the central city building\\'s collapse in the 6.3-magnitude earthquake on 22 February last year, but later died when they could not be reached by rescuers. Emergency services have previously been criticised for their lack of leadership and organised management structures following the quake. On Thursday, evidence was heard from Trevor Brown, who worked as a Fire Service senior manager in the North Island and was sent to Christchurch immediately following the quake. Mr Brown told Coroner George Matenga that, as a member from outside the city, in hindsight he believes it was his task to take charge of the site. \"Reflecting on my own actions on the night of the 22nd, I considered that if I\\'d taken the lead as commander at the CTV, I\\'d have been able to deflect a lot of the criticism that my fire fighters feel is directed at them after all the work they\\'d done. \"Particularly as a person from outside Canterbury, that\\'s what I could have done to help them.\" Dunedin Fire Service regional commander Stu Rooney, who stepped in 10 hours after the quake, told the inquest it was still not clear at that stage who was in charge of the CTV rescue. Mr Rooney was cross-examined by Nigel Hampton, QC, the lawyer for Alec Cvetanov who lost his wife in the collapse. Mr Rooney said he was told by two senior fire managers just before midnight on the day of the quake that police were in charge of the CTV site, not the Fire Service. He said he thought at the time this information was incorrect as the Fire Service was supposed to be in charge, but did nothing to seek further information or correct the situation. Mr Rooney said he did not have enough managers available to him to put any in charge of the site, despite 13 of them staying on duty until 2am the following morning, and assumed that a senior station officer at the site had taken charge. An Urban Search and Rescue task force manager told the inquest of the utter devastation he felt when he arrived at the CTV site. Paul Burns worked with USAR on the September 2010 and February 2011 earthquakes and said he had to take some control of the CTV site and remove some people who were not members of emergency services. Mr Burns described how he had to make a tough decision about how many resources to deploy, saying he felt it was important to put the few resources on hand into what could be rescued, rather than focusing only on the CTV site, where he saw a limited chance of trapped victims surviving. He said he spent the first hours following the quake organising taskforces from the North Island and overseas to come and help. Mr Burns also said he believes USAR needs a full-time manager and is one of the few countries in the world without one.',\n",
       "  u'has_version': [],\n",
       "  u'holding': [],\n",
       "  u'id': 35559125,\n",
       "  u'is_commercial_use': None,\n",
       "  u'is_part_of': [],\n",
       "  u'is_replaced_by': None,\n",
       "  u'is_required_by': None,\n",
       "  u'is_version_of': None,\n",
       "  u'landing_url': u'http://www.radionz.co.nz/news/canterbury-earthquake/120314/fire-service-manager-regrets-not-taking-charge',\n",
       "  u'language': [],\n",
       "  u'large_thumbnail_url': None,\n",
       "  u'library_collection': [],\n",
       "  u'license': None,\n",
       "  u'metadata_url': None,\n",
       "  u'object_url': None,\n",
       "  u'origin_url': None,\n",
       "  u'primary_collection': [u'Radio New Zealand'],\n",
       "  u'provenance': None,\n",
       "  u'published_date': [],\n",
       "  u'publisher': [],\n",
       "  u'relation': [],\n",
       "  u'replaces': None,\n",
       "  u'rights': None,\n",
       "  u'rights_url': [],\n",
       "  u'shelf_location': None,\n",
       "  u'source': [],\n",
       "  u'source_url': u'http://api.digitalnz.org/records/35559125/source',\n",
       "  u'syndication_date': u'2015-03-23T11:44:23.734+13:00',\n",
       "  u'table_of_contents': None,\n",
       "  u'tag': [u'CEISMIC'],\n",
       "  u'text': None,\n",
       "  u'thesis_level': None,\n",
       "  u'thumbnail_url': None,\n",
       "  u'title': u'Fire Service manager regrets not taking charge',\n",
       "  u'updated_at': u'2015-03-23T11:44:23.753+13:00',\n",
       "  u'usage': [u'All rights reserved']},\n",
       " {u'additional_description': [],\n",
       "  u'alternate_title': [],\n",
       "  u'category': [u'Articles'],\n",
       "  u'citation': [],\n",
       "  u'collection': [u'Radio New Zealand'],\n",
       "  u'collection_title': [u'Radio New Zealand'],\n",
       "  u'content_partner': [u'Radio New Zealand'],\n",
       "  u'contributing_partner': [],\n",
       "  u'contributor': [],\n",
       "  u'copyright': [u'All rights reserved'],\n",
       "  u'created_at': u'2015-03-12T08:10:20.106+13:00',\n",
       "  u'creator': [],\n",
       "  u'credit_creator': None,\n",
       "  u'date': [u'2012-12-06 06:13:10 UTC'],\n",
       "  u'dc_identifier': [],\n",
       "  u'dc_type': [],\n",
       "  u'description': u'A senior US firefighter has praised the actions of frontline fire officers at the collapsed CTV building but at an inquest accused Fire Service managers of being derelict in their duty.',\n",
       "  u'display_collection': u'Radio New Zealand',\n",
       "  u'display_content_partner': u'Radio New Zealand',\n",
       "  u'display_date': u'06/12/2012',\n",
       "  u'dnz_type': u'Unknown',\n",
       "  u'eprints_type': [],\n",
       "  u'format': [],\n",
       "  u'fulltext': u'A senior US firefighter has praised the actions of frontline fire officers at the collapsed CTV building but at an inquest accused Fire Service managers of being derelict in their duty. The hearing is examining the deaths of eight people who initially survived the collapse of the central Christchurch building in an earthquake on 22 February last year and the role of those trying to save them. Captain Ernesto Ojeda of the Los Angeles Fire Service said it was inconceivable that senior Fire Service managers failed to put somebody in overall charge of the rescue operation. \"I don\\'t think that the chief officers that I know would get to that site and not leave somebody to set up an incident command post.\" Captain Ojeda said the failure of managers to take a roll call of the more than 100 people working on the rubble unnecessarily endangered the lives of rescuers.',\n",
       "  u'has_version': [],\n",
       "  u'holding': [],\n",
       "  u'id': 35561056,\n",
       "  u'is_commercial_use': None,\n",
       "  u'is_part_of': [],\n",
       "  u'is_replaced_by': None,\n",
       "  u'is_required_by': None,\n",
       "  u'is_version_of': None,\n",
       "  u'landing_url': u'http://www.radionz.co.nz/news/canterbury-earthquake/122716/us-firefighter-criticises-fire-service-managers',\n",
       "  u'language': [],\n",
       "  u'large_thumbnail_url': None,\n",
       "  u'library_collection': [],\n",
       "  u'license': None,\n",
       "  u'metadata_url': None,\n",
       "  u'object_url': None,\n",
       "  u'origin_url': None,\n",
       "  u'primary_collection': [u'Radio New Zealand'],\n",
       "  u'provenance': None,\n",
       "  u'published_date': [],\n",
       "  u'publisher': [],\n",
       "  u'relation': [],\n",
       "  u'replaces': None,\n",
       "  u'rights': None,\n",
       "  u'rights_url': [],\n",
       "  u'shelf_location': None,\n",
       "  u'source': [],\n",
       "  u'source_url': u'http://api.digitalnz.org/records/35561056/source',\n",
       "  u'syndication_date': u'2015-03-23T11:44:20.705+13:00',\n",
       "  u'table_of_contents': None,\n",
       "  u'tag': [u'CEISMIC'],\n",
       "  u'text': None,\n",
       "  u'thesis_level': None,\n",
       "  u'thumbnail_url': None,\n",
       "  u'title': u'US firefighter criticises Fire Service managers',\n",
       "  u'updated_at': u'2015-03-23T11:44:20.721+13:00',\n",
       "  u'usage': [u'All rights reserved']},\n",
       " {u'additional_description': [],\n",
       "  u'alternate_title': [],\n",
       "  u'category': [u'Images'],\n",
       "  u'citation': [],\n",
       "  u'collection': [u'Flickr'],\n",
       "  u'collection_title': [u'Flickr'],\n",
       "  u'content_partner': [u'Christchurch City Libraries'],\n",
       "  u'contributing_partner': [],\n",
       "  u'contributor': [u'Christchurch City Libraries'],\n",
       "  u'copyright': [u'Some rights reserved'],\n",
       "  u'created_at': u'2014-07-01T07:34:37.178+12:00',\n",
       "  u'creator': [u'Christchurch City Libraries'],\n",
       "  u'credit_creator': None,\n",
       "  u'date': [u'2012-12-01 12:00:00 UTC'],\n",
       "  u'dc_identifier': [u'8235888646'],\n",
       "  u'dc_type': [],\n",
       "  u'description': u'The launch of Library to go. New Brighton, Christchurch.\\n\\nSaturday 1 December 2012. File reference: CCL-2012-12-01- IMG_0637\\nFrom the collection of Christchurch City Libraries.',\n",
       "  u'display_collection': u'Flickr',\n",
       "  u'display_content_partner': u'Christchurch City Libraries',\n",
       "  u'display_date': u'2012-12-01',\n",
       "  u'dnz_type': u'Unknown',\n",
       "  u'eprints_type': [],\n",
       "  u'format': [],\n",
       "  u'fulltext': None,\n",
       "  u'has_version': [],\n",
       "  u'holding': [],\n",
       "  u'id': 34863044,\n",
       "  u'is_commercial_use': None,\n",
       "  u'is_part_of': [],\n",
       "  u'is_replaced_by': None,\n",
       "  u'is_required_by': None,\n",
       "  u'is_version_of': None,\n",
       "  u'landing_url': u'https://www.flickr.com/photos/christchurchcitylibraries/8235888646',\n",
       "  u'language': [],\n",
       "  u'large_thumbnail_url': u'https://farm9.staticflickr.com/8339/8235888646_5dfeb997b9_z.jpg',\n",
       "  u'library_collection': [],\n",
       "  u'license': None,\n",
       "  u'metadata_url': None,\n",
       "  u'object_url': u'https://farm9.staticflickr.com/8339/8235888646_0e1860ea3b_o.jpg',\n",
       "  u'origin_url': None,\n",
       "  u'primary_collection': [u'Flickr'],\n",
       "  u'provenance': None,\n",
       "  u'published_date': [],\n",
       "  u'publisher': [],\n",
       "  u'relation': [],\n",
       "  u'replaces': None,\n",
       "  u'rights': None,\n",
       "  u'rights_url': [u'http://creativecommons.org/licenses/by-nc-sa/2.0/'],\n",
       "  u'shelf_location': None,\n",
       "  u'source': [],\n",
       "  u'source_url': u'http://api.digitalnz.org/records/34863044/source',\n",
       "  u'syndication_date': u'2014-07-01T07:34:37.177+12:00',\n",
       "  u'table_of_contents': None,\n",
       "  u'tag': [],\n",
       "  u'text': None,\n",
       "  u'thesis_level': None,\n",
       "  u'thumbnail_url': u'https://farm9.staticflickr.com/8339/8235888646_5dfeb997b9.jpg',\n",
       "  u'title': u'Michael Aitken (General Manager Community Services)',\n",
       "  u'updated_at': u'2015-07-01T07:37:58.353+12:00',\n",
       "  u'usage': [u'Share', u'Modify']},\n",
       " {u'additional_description': [],\n",
       "  u'alternate_title': [],\n",
       "  u'category': [u'Images'],\n",
       "  u'citation': [],\n",
       "  u'collection': [u'Flickr'],\n",
       "  u'collection_title': [u'Flickr'],\n",
       "  u'content_partner': [u'Christchurch City Libraries'],\n",
       "  u'contributing_partner': [],\n",
       "  u'contributor': [u'Christchurch City Libraries'],\n",
       "  u'copyright': [u'Some rights reserved'],\n",
       "  u'created_at': u'2014-07-01T07:34:37.261+12:00',\n",
       "  u'creator': [u'Christchurch City Libraries'],\n",
       "  u'credit_creator': None,\n",
       "  u'date': [u'2012-12-01 12:00:00 UTC'],\n",
       "  u'dc_identifier': [u'8234821441'],\n",
       "  u'dc_type': [],\n",
       "  u'description': u'The launch of Library to go. New Brighton, Christchurch.\\n\\nSaturday 1 December 2012. File reference: CCL-2012-12-01- IMG_0645\\nFrom the collection of Christchurch City Libraries.',\n",
       "  u'display_collection': u'Flickr',\n",
       "  u'display_content_partner': u'Christchurch City Libraries',\n",
       "  u'display_date': u'2012-12-01',\n",
       "  u'dnz_type': u'Unknown',\n",
       "  u'eprints_type': [],\n",
       "  u'format': [],\n",
       "  u'fulltext': None,\n",
       "  u'has_version': [],\n",
       "  u'holding': [],\n",
       "  u'id': 34863048,\n",
       "  u'is_commercial_use': None,\n",
       "  u'is_part_of': [],\n",
       "  u'is_replaced_by': None,\n",
       "  u'is_required_by': None,\n",
       "  u'is_version_of': None,\n",
       "  u'landing_url': u'https://www.flickr.com/photos/christchurchcitylibraries/8234821441',\n",
       "  u'language': [],\n",
       "  u'large_thumbnail_url': u'https://farm9.staticflickr.com/8489/8234821441_128c2bc956_z.jpg',\n",
       "  u'library_collection': [],\n",
       "  u'license': None,\n",
       "  u'metadata_url': None,\n",
       "  u'object_url': u'https://farm9.staticflickr.com/8489/8234821441_d15165759d_o.jpg',\n",
       "  u'origin_url': None,\n",
       "  u'primary_collection': [u'Flickr'],\n",
       "  u'provenance': None,\n",
       "  u'published_date': [],\n",
       "  u'publisher': [],\n",
       "  u'relation': [],\n",
       "  u'replaces': None,\n",
       "  u'rights': None,\n",
       "  u'rights_url': [u'http://creativecommons.org/licenses/by-nc-sa/2.0/'],\n",
       "  u'shelf_location': None,\n",
       "  u'source': [],\n",
       "  u'source_url': u'http://api.digitalnz.org/records/34863048/source',\n",
       "  u'syndication_date': u'2014-07-01T07:34:37.260+12:00',\n",
       "  u'table_of_contents': None,\n",
       "  u'tag': [],\n",
       "  u'text': None,\n",
       "  u'thesis_level': None,\n",
       "  u'thumbnail_url': u'https://farm9.staticflickr.com/8489/8234821441_128c2bc956.jpg',\n",
       "  u'title': u'Michael Aitken (General Manager Community Services)',\n",
       "  u'updated_at': u'2015-07-01T07:37:58.332+12:00',\n",
       "  u'usage': [u'Share', u'Modify']},\n",
       " {u'additional_description': [],\n",
       "  u'alternate_title': [],\n",
       "  u'category': [u'Images'],\n",
       "  u'citation': [],\n",
       "  u'collection': [u'Flickr'],\n",
       "  u'collection_title': [u'Flickr'],\n",
       "  u'content_partner': [u'Christchurch City Libraries'],\n",
       "  u'contributing_partner': [],\n",
       "  u'contributor': [u'Christchurch City Libraries'],\n",
       "  u'copyright': [u'Some rights reserved'],\n",
       "  u'created_at': u'2014-07-01T07:34:37.138+12:00',\n",
       "  u'creator': [u'Christchurch City Libraries'],\n",
       "  u'credit_creator': None,\n",
       "  u'date': [u'2012-12-01 12:00:00 UTC'],\n",
       "  u'dc_identifier': [u'8234824479'],\n",
       "  u'dc_type': [],\n",
       "  u'description': u'The launch of Library to go. New Brighton, Christchurch.\\n\\nSaturday 1 December 2012. File reference: CCL-2012-12-01- IMG_0636\\nFrom the collection of Christchurch City Libraries.',\n",
       "  u'display_collection': u'Flickr',\n",
       "  u'display_content_partner': u'Christchurch City Libraries',\n",
       "  u'display_date': u'2012-12-01',\n",
       "  u'dnz_type': u'Unknown',\n",
       "  u'eprints_type': [],\n",
       "  u'format': [],\n",
       "  u'fulltext': None,\n",
       "  u'has_version': [],\n",
       "  u'holding': [],\n",
       "  u'id': 34863041,\n",
       "  u'is_commercial_use': None,\n",
       "  u'is_part_of': [],\n",
       "  u'is_replaced_by': None,\n",
       "  u'is_required_by': None,\n",
       "  u'is_version_of': None,\n",
       "  u'landing_url': u'https://www.flickr.com/photos/christchurchcitylibraries/8234824479',\n",
       "  u'language': [],\n",
       "  u'large_thumbnail_url': u'https://farm9.staticflickr.com/8066/8234824479_080c5dcdef_z.jpg',\n",
       "  u'library_collection': [],\n",
       "  u'license': None,\n",
       "  u'metadata_url': None,\n",
       "  u'object_url': u'https://farm9.staticflickr.com/8066/8234824479_2d1b927d92_o.jpg',\n",
       "  u'origin_url': None,\n",
       "  u'primary_collection': [u'Flickr'],\n",
       "  u'provenance': None,\n",
       "  u'published_date': [],\n",
       "  u'publisher': [],\n",
       "  u'relation': [],\n",
       "  u'replaces': None,\n",
       "  u'rights': None,\n",
       "  u'rights_url': [u'http://creativecommons.org/licenses/by-nc-sa/2.0/'],\n",
       "  u'shelf_location': None,\n",
       "  u'source': [],\n",
       "  u'source_url': u'http://api.digitalnz.org/records/34863041/source',\n",
       "  u'syndication_date': u'2014-07-01T07:34:37.138+12:00',\n",
       "  u'table_of_contents': None,\n",
       "  u'tag': [],\n",
       "  u'text': None,\n",
       "  u'thesis_level': None,\n",
       "  u'thumbnail_url': u'https://farm9.staticflickr.com/8066/8234824479_080c5dcdef.jpg',\n",
       "  u'title': u'Michael Aitken (General Manager Community Services)',\n",
       "  u'updated_at': u'2015-07-01T07:37:58.272+12:00',\n",
       "  u'usage': [u'Share', u'Modify']},\n",
       " {u'additional_description': [],\n",
       "  u'alternate_title': [],\n",
       "  u'category': [u'Images'],\n",
       "  u'citation': [],\n",
       "  u'collection': [u'Flickr'],\n",
       "  u'collection_title': [u'Flickr'],\n",
       "  u'content_partner': [u'Christchurch City Libraries'],\n",
       "  u'contributing_partner': [],\n",
       "  u'contributor': [u'Christchurch City Libraries'],\n",
       "  u'copyright': [u'Some rights reserved'],\n",
       "  u'created_at': u'2014-07-01T07:34:37.779+12:00',\n",
       "  u'creator': [u'Christchurch City Libraries'],\n",
       "  u'credit_creator': None,\n",
       "  u'date': [u'2012-12-01 12:00:00 UTC'],\n",
       "  u'dc_identifier': [u'8235862224'],\n",
       "  u'dc_type': [],\n",
       "  u'description': u'The launch of Library to go. New Brighton, Christchurch.\\n\\nSaturday 1 December 2012. File reference: CCL-2012-12-01- IMG_0639\\nFrom the collection of Christchurch City Libraries.',\n",
       "  u'display_collection': u'Flickr',\n",
       "  u'display_content_partner': u'Christchurch City Libraries',\n",
       "  u'display_date': u'2012-12-01',\n",
       "  u'dnz_type': u'Unknown',\n",
       "  u'eprints_type': [],\n",
       "  u'format': [],\n",
       "  u'fulltext': None,\n",
       "  u'has_version': [],\n",
       "  u'holding': [],\n",
       "  u'id': 34863075,\n",
       "  u'is_commercial_use': None,\n",
       "  u'is_part_of': [],\n",
       "  u'is_replaced_by': None,\n",
       "  u'is_required_by': None,\n",
       "  u'is_version_of': None,\n",
       "  u'landing_url': u'https://www.flickr.com/photos/christchurchcitylibraries/8235862224',\n",
       "  u'language': [],\n",
       "  u'large_thumbnail_url': u'https://farm9.staticflickr.com/8060/8235862224_1ec79450f5_z.jpg',\n",
       "  u'library_collection': [],\n",
       "  u'license': None,\n",
       "  u'metadata_url': None,\n",
       "  u'object_url': u'https://farm9.staticflickr.com/8060/8235862224_dc7e20fe84_o.jpg',\n",
       "  u'origin_url': None,\n",
       "  u'primary_collection': [u'Flickr'],\n",
       "  u'provenance': None,\n",
       "  u'published_date': [],\n",
       "  u'publisher': [],\n",
       "  u'relation': [],\n",
       "  u'replaces': None,\n",
       "  u'rights': None,\n",
       "  u'rights_url': [u'http://creativecommons.org/licenses/by-nc-sa/2.0/'],\n",
       "  u'shelf_location': None,\n",
       "  u'source': [],\n",
       "  u'source_url': u'http://api.digitalnz.org/records/34863075/source',\n",
       "  u'syndication_date': u'2014-07-01T07:34:37.779+12:00',\n",
       "  u'table_of_contents': None,\n",
       "  u'tag': [],\n",
       "  u'text': None,\n",
       "  u'thesis_level': None,\n",
       "  u'thumbnail_url': u'https://farm9.staticflickr.com/8060/8235862224_1ec79450f5.jpg',\n",
       "  u'title': u'Michael Aitken (General Manager Community Services)',\n",
       "  u'updated_at': u'2015-07-01T07:37:59.158+12:00',\n",
       "  u'usage': [u'Share', u'Modify']},\n",
       " {u'additional_description': [],\n",
       "  u'alternate_title': [],\n",
       "  u'category': [u'Images'],\n",
       "  u'citation': [],\n",
       "  u'collection': [u'Flickr'],\n",
       "  u'collection_title': [u'Flickr'],\n",
       "  u'content_partner': [u'Christchurch City Libraries'],\n",
       "  u'contributing_partner': [],\n",
       "  u'contributor': [u'Christchurch City Libraries'],\n",
       "  u'copyright': [u'Some rights reserved'],\n",
       "  u'created_at': u'2014-07-01T07:34:37.077+12:00',\n",
       "  u'creator': [u'Christchurch City Libraries'],\n",
       "  u'credit_creator': None,\n",
       "  u'date': [u'2012-12-01 12:00:00 UTC'],\n",
       "  u'dc_identifier': [u'8235889966'],\n",
       "  u'dc_type': [],\n",
       "  u'description': u'The launch of Library to go. New Brighton, Christchurch.\\n\\nSaturday 1 December 2012. File reference: CCL-2012-12-01-IMG_0635 From the collection of Christchurch City Libraries.',\n",
       "  u'display_collection': u'Flickr',\n",
       "  u'display_content_partner': u'Christchurch City Libraries',\n",
       "  u'display_date': u'2012-12-01',\n",
       "  u'dnz_type': u'Unknown',\n",
       "  u'eprints_type': [],\n",
       "  u'format': [],\n",
       "  u'fulltext': None,\n",
       "  u'has_version': [],\n",
       "  u'holding': [],\n",
       "  u'id': 34863040,\n",
       "  u'is_commercial_use': None,\n",
       "  u'is_part_of': [],\n",
       "  u'is_replaced_by': None,\n",
       "  u'is_required_by': None,\n",
       "  u'is_version_of': None,\n",
       "  u'landing_url': u'https://www.flickr.com/photos/christchurchcitylibraries/8235889966',\n",
       "  u'language': [],\n",
       "  u'large_thumbnail_url': u'https://farm9.staticflickr.com/8487/8235889966_5ecb0b8777_z.jpg',\n",
       "  u'library_collection': [],\n",
       "  u'license': None,\n",
       "  u'metadata_url': None,\n",
       "  u'object_url': u'https://farm9.staticflickr.com/8487/8235889966_ec299a34b4_o.jpg',\n",
       "  u'origin_url': None,\n",
       "  u'primary_collection': [u'Flickr'],\n",
       "  u'provenance': None,\n",
       "  u'published_date': [],\n",
       "  u'publisher': [],\n",
       "  u'relation': [],\n",
       "  u'replaces': None,\n",
       "  u'rights': None,\n",
       "  u'rights_url': [u'http://creativecommons.org/licenses/by-nc-sa/2.0/'],\n",
       "  u'shelf_location': None,\n",
       "  u'source': [],\n",
       "  u'source_url': u'http://api.digitalnz.org/records/34863040/source',\n",
       "  u'syndication_date': u'2014-07-01T07:34:37.077+12:00',\n",
       "  u'table_of_contents': None,\n",
       "  u'tag': [],\n",
       "  u'text': None,\n",
       "  u'thesis_level': None,\n",
       "  u'thumbnail_url': u'https://farm9.staticflickr.com/8487/8235889966_5ecb0b8777.jpg',\n",
       "  u'title': u'Michael Aitken (General Manager Community Services)',\n",
       "  u'updated_at': u'2015-07-01T07:37:58.245+12:00',\n",
       "  u'usage': [u'Share', u'Modify']},\n",
       " {u'additional_description': [],\n",
       "  u'alternate_title': [],\n",
       "  u'category': [u'Images'],\n",
       "  u'citation': [],\n",
       "  u'collection': [u'Flickr'],\n",
       "  u'collection_title': [u'Flickr'],\n",
       "  u'content_partner': [u'Christchurch City Libraries'],\n",
       "  u'contributing_partner': [],\n",
       "  u'contributor': [u'Christchurch City Libraries'],\n",
       "  u'copyright': [u'Some rights reserved'],\n",
       "  u'created_at': u'2014-07-01T07:34:37.160+12:00',\n",
       "  u'creator': [u'Christchurch City Libraries'],\n",
       "  u'credit_creator': None,\n",
       "  u'date': [u'2012-12-01 12:00:00 UTC'],\n",
       "  u'dc_identifier': [u'8235887818'],\n",
       "  u'dc_type': [],\n",
       "  u'description': u'The launch of Library to go. New Brighton, Christchurch.\\n\\nSaturday 1 December 2012. File reference: CCL-2012-12-01-IMG_0641 From the collection of Christchurch City Libraries.',\n",
       "  u'display_collection': u'Flickr',\n",
       "  u'display_content_partner': u'Christchurch City Libraries',\n",
       "  u'display_date': u'2012-12-01',\n",
       "  u'dnz_type': u'Unknown',\n",
       "  u'eprints_type': [],\n",
       "  u'format': [],\n",
       "  u'fulltext': None,\n",
       "  u'has_version': [],\n",
       "  u'holding': [],\n",
       "  u'id': 34863042,\n",
       "  u'is_commercial_use': None,\n",
       "  u'is_part_of': [],\n",
       "  u'is_replaced_by': None,\n",
       "  u'is_required_by': None,\n",
       "  u'is_version_of': None,\n",
       "  u'landing_url': u'https://www.flickr.com/photos/christchurchcitylibraries/8235887818',\n",
       "  u'language': [],\n",
       "  u'large_thumbnail_url': u'https://farm9.staticflickr.com/8342/8235887818_e25f4c1ef1_z.jpg',\n",
       "  u'library_collection': [],\n",
       "  u'license': None,\n",
       "  u'metadata_url': None,\n",
       "  u'object_url': u'https://farm9.staticflickr.com/8342/8235887818_d482550171_o.jpg',\n",
       "  u'origin_url': None,\n",
       "  u'primary_collection': [u'Flickr'],\n",
       "  u'provenance': None,\n",
       "  u'published_date': [],\n",
       "  u'publisher': [],\n",
       "  u'relation': [],\n",
       "  u'replaces': None,\n",
       "  u'rights': None,\n",
       "  u'rights_url': [u'http://creativecommons.org/licenses/by-nc-sa/2.0/'],\n",
       "  u'shelf_location': None,\n",
       "  u'source': [],\n",
       "  u'source_url': u'http://api.digitalnz.org/records/34863042/source',\n",
       "  u'syndication_date': u'2014-07-01T07:34:37.159+12:00',\n",
       "  u'table_of_contents': None,\n",
       "  u'tag': [],\n",
       "  u'text': None,\n",
       "  u'thesis_level': None,\n",
       "  u'thumbnail_url': u'https://farm9.staticflickr.com/8342/8235887818_e25f4c1ef1.jpg',\n",
       "  u'title': u'Michael Aitken (General Manager Community Services)',\n",
       "  u'updated_at': u'2015-07-01T07:37:58.359+12:00',\n",
       "  u'usage': [u'Share', u'Modify']},\n",
       " {u'additional_description': [],\n",
       "  u'alternate_title': [],\n",
       "  u'category': [u'Audio'],\n",
       "  u'citation': [],\n",
       "  u'collection': [u'Checkpoint', u'Radio New Zealand'],\n",
       "  u'collection_title': [u'Checkpoint', u'Radio New Zealand'],\n",
       "  u'content_partner': [u'Radio New Zealand'],\n",
       "  u'contributing_partner': [u'Checkpoint'],\n",
       "  u'contributor': [u'Denis Fitzmaurice'],\n",
       "  u'copyright': [u'All rights reserved'],\n",
       "  u'created_at': u'2014-03-05T19:21:08.055+13:00',\n",
       "  u'creator': [],\n",
       "  u'credit_creator': None,\n",
       "  u'date': [u'2012-10-18T04:19:00Z'],\n",
       "  u'dc_identifier': [],\n",
       "  u'dc_type': [u'Audio'],\n",
       "  u'description': u'The review says many senior managers lacked operational experience and describes a view held by lower ranked officers that commanders have become administrators who have lost the art of command.',\n",
       "  u'display_collection': u'Radio New Zealand',\n",
       "  u'display_content_partner': u'Radio New Zealand',\n",
       "  u'display_date': u'18/10/2012',\n",
       "  u'dnz_type': u'Unknown',\n",
       "  u'eprints_type': [],\n",
       "  u'format': [],\n",
       "  u'fulltext': None,\n",
       "  u'has_version': [],\n",
       "  u'holding': [],\n",
       "  u'id': 33179768,\n",
       "  u'is_commercial_use': None,\n",
       "  u'is_part_of': [],\n",
       "  u'is_replaced_by': None,\n",
       "  u'is_required_by': None,\n",
       "  u'is_version_of': None,\n",
       "  u'landing_url': u\"http://www.radionz.co.nz/national/programmes/checkpoint/audio/2535960/report-critical-of-fire-service's-senior-managers-in-canterbury\",\n",
       "  u'language': [],\n",
       "  u'large_thumbnail_url': None,\n",
       "  u'library_collection': [],\n",
       "  u'license': None,\n",
       "  u'metadata_url': None,\n",
       "  u'object_url': None,\n",
       "  u'origin_url': None,\n",
       "  u'primary_collection': [u'Radio New Zealand'],\n",
       "  u'provenance': None,\n",
       "  u'published_date': [],\n",
       "  u'publisher': [],\n",
       "  u'relation': [],\n",
       "  u'replaces': None,\n",
       "  u'rights': None,\n",
       "  u'rights_url': [],\n",
       "  u'shelf_location': None,\n",
       "  u'source': [],\n",
       "  u'source_url': u'http://api.digitalnz.org/records/33179768/source',\n",
       "  u'syndication_date': u'2014-03-05T19:21:08.055+13:00',\n",
       "  u'table_of_contents': None,\n",
       "  u'tag': [],\n",
       "  u'text': None,\n",
       "  u'thesis_level': None,\n",
       "  u'thumbnail_url': None,\n",
       "  u'title': u\"Report critical of fire service's senior managers in Canterbury\",\n",
       "  u'updated_at': u'2014-05-28T02:48:21.314+12:00',\n",
       "  u'usage': [u'All rights reserved']},\n",
       " {u'additional_description': [],\n",
       "  u'alternate_title': [],\n",
       "  u'category': [u'Images'],\n",
       "  u'citation': [],\n",
       "  u'collection': [u'Timaru Herald Photographs, Personalities Collection'],\n",
       "  u'collection_title': [u'Timaru Herald Photographs, Personalities Collection'],\n",
       "  u'content_partner': [u'South Canterbury Museum'],\n",
       "  u'contributing_partner': [],\n",
       "  u'contributor': [],\n",
       "  u'copyright': [u'Some rights reserved'],\n",
       "  u'created_at': u'2013-09-11T13:56:06.201+12:00',\n",
       "  u'creator': [],\n",
       "  u'credit_creator': None,\n",
       "  u'date': [u'1994-01-01 12:00:00 UTC'],\n",
       "  u'dc_identifier': [u'2012/186.0110'],\n",
       "  u'dc_type': [],\n",
       "  u'description': u'A portrait of Ian Alexander, manager of Corporate Services at the Port of Timaru, pictured on a wharf, dated 22 June 1994.',\n",
       "  u'display_collection': u'South Canterbury Museum',\n",
       "  u'display_content_partner': u'South Canterbury Museum',\n",
       "  u'display_date': u'22/06/1994',\n",
       "  u'dnz_type': u'Unknown',\n",
       "  u'eprints_type': [],\n",
       "  u'format': [],\n",
       "  u'fulltext': None,\n",
       "  u'has_version': [],\n",
       "  u'holding': [],\n",
       "  u'id': 32305179,\n",
       "  u'is_commercial_use': None,\n",
       "  u'is_part_of': [],\n",
       "  u'is_replaced_by': None,\n",
       "  u'is_required_by': None,\n",
       "  u'is_version_of': None,\n",
       "  u'landing_url': u'http://timdc.pastperfect-online.com/31151cgi/mweb.exe?request=record&id=0FF94C14-72E0-4FE8-8551-545460572110&type=102',\n",
       "  u'language': [],\n",
       "  u'large_thumbnail_url': u'http://timdc.pastperfect-online.com/31151images/115/20121860110.JPG',\n",
       "  u'library_collection': [],\n",
       "  u'license': u'CC-BY-NC-ND',\n",
       "  u'metadata_url': None,\n",
       "  u'object_url': None,\n",
       "  u'origin_url': None,\n",
       "  u'primary_collection': [u'South Canterbury Museum'],\n",
       "  u'provenance': None,\n",
       "  u'published_date': [],\n",
       "  u'publisher': [],\n",
       "  u'relation': [],\n",
       "  u'replaces': None,\n",
       "  u'rights': u'Content licensed under Creative Commons Attribution-NonCommercial-NoDerivs 3.0 Unported License',\n",
       "  u'rights_url': [u'http://creativecommons.org/licenses/by-nc-nd/3.0/'],\n",
       "  u'shelf_location': None,\n",
       "  u'source': [],\n",
       "  u'source_url': u'http://api.digitalnz.org/records/32305179/source',\n",
       "  u'syndication_date': u'2013-09-11T13:56:06.200+12:00',\n",
       "  u'table_of_contents': None,\n",
       "  u'tag': [],\n",
       "  u'text': None,\n",
       "  u'thesis_level': None,\n",
       "  u'thumbnail_url': u'http://timdc.pastperfect-online.com/31151images/115/thumbs/20121860110.JPG',\n",
       "  u'title': u'Ian Alexander, Corporate Services Manager, Port of Timaru',\n",
       "  u'updated_at': u'2015-07-06T00:59:57.814+12:00',\n",
       "  u'usage': [u'Share']},\n",
       " {u'additional_description': [],\n",
       "  u'alternate_title': [],\n",
       "  u'category': [u'Research papers'],\n",
       "  u'citation': [u'Goh, V., Wing Soon. (2011). Opal\\u2019s Conversation Manager (CM) (Thesis, Master of Applied Science). University of Otago. Retrieved from http://hdl.handle.net/10523/1723'],\n",
       "  u'collection': [u'Otago University Research Archive',\n",
       "   u'Kiwi Research Information Service'],\n",
       "  u'collection_title': [u'Otago University Research Archive',\n",
       "   u'Kiwi Research Information Service'],\n",
       "  u'content_partner': [u'University of Otago'],\n",
       "  u'contributing_partner': [],\n",
       "  u'contributor': [u'Purvis, Martin', u'Cranefield, Stephen'],\n",
       "  u'copyright': [u'All rights reserved'],\n",
       "  u'created_at': u'2015-02-05T15:37:41.976+13:00',\n",
       "  u'creator': [u'Goh, Vincent, Wing Soon'],\n",
       "  u'credit_creator': None,\n",
       "  u'date': [u'2011-01-01T12:00:00.000Z'],\n",
       "  u'dc_identifier': [u'Goh, V., Wing Soon. (2011). Opal\\u2019s Conversation Manager (CM) (Thesis, Master of Applied Science). University of Otago. Retrieved from http://hdl.handle.net/10523/1723',\n",
       "   u'http://hdl.handle.net/10523/1723'],\n",
       "  u'dc_type': [u'Thesis'],\n",
       "  u'description': u'Multi-agent systems consist of multiple agents to accomplish tasks or goals that require coordination and collaboration through interactions, such as agent conversation. This thesis provides description of the technologies we have used and discusses the design and implementation of the proposed conversation manager based on Coloured Petri nets to handle FIPA-compliant technologies. The proposed conversation manager is built on the existing multi-agent system Opal. The conversation manager acts as an optional module inside Opal to provide a more friendly development environment and visualisation support to agent designers for handling agent conversation.',\n",
       "  u'display_collection': u'Otago University Research Archive',\n",
       "  u'display_content_partner': u'University of Otago',\n",
       "  u'display_date': u'2011',\n",
       "  u'dnz_type': u'Reference',\n",
       "  u'eprints_type': [],\n",
       "  u'format': [],\n",
       "  u'fulltext': None,\n",
       "  u'has_version': [],\n",
       "  u'holding': [],\n",
       "  u'id': 35341357,\n",
       "  u'is_commercial_use': None,\n",
       "  u'is_part_of': [],\n",
       "  u'is_replaced_by': None,\n",
       "  u'is_required_by': None,\n",
       "  u'is_version_of': None,\n",
       "  u'landing_url': u'http://hdl.handle.net/10523/1723',\n",
       "  u'language': [u'en'],\n",
       "  u'large_thumbnail_url': None,\n",
       "  u'library_collection': [],\n",
       "  u'license': None,\n",
       "  u'metadata_url': None,\n",
       "  u'object_url': None,\n",
       "  u'origin_url': None,\n",
       "  u'primary_collection': [u'Otago University Research Archive'],\n",
       "  u'provenance': None,\n",
       "  u'published_date': [],\n",
       "  u'publisher': [u'University of Otago'],\n",
       "  u'relation': [],\n",
       "  u'replaces': None,\n",
       "  u'rights': u'All items in OUR Archive are provided for private study and research purposes and are protected by copyright with all rights reserved unless otherwise indicated.',\n",
       "  u'rights_url': [],\n",
       "  u'shelf_location': None,\n",
       "  u'source': [],\n",
       "  u'source_url': u'http://api.digitalnz.org/records/35341357/source',\n",
       "  u'syndication_date': u'2015-02-05T16:01:12.399+13:00',\n",
       "  u'table_of_contents': None,\n",
       "  u'tag': [u'valid_eprint', u'valid_handle'],\n",
       "  u'text': None,\n",
       "  u'thesis_level': u'Masters',\n",
       "  u'thumbnail_url': None,\n",
       "  u'title': u\"Opal's Conversation Manager (CM)\",\n",
       "  u'updated_at': u'2015-02-11T13:44:47.123+13:00',\n",
       "  u'usage': [u'All rights reserved']},\n",
       " {u'additional_description': [],\n",
       "  u'alternate_title': [],\n",
       "  u'category': [u'Research papers'],\n",
       "  u'citation': [u'Hanlen, P. (2011). Community engagement: managers\\u2019 viewpoints. In C. Noble & M. Henrickson (Eds.), Social work field education and supervision across Asia Pacific (pp. 221-241). Sydney, Australia: Sydney University Press.'],\n",
       "  u'collection': [u'ResearchCommons@Waikato',\n",
       "   u'Kiwi Research Information Service'],\n",
       "  u'collection_title': [u'ResearchCommons@Waikato',\n",
       "   u'Kiwi Research Information Service'],\n",
       "  u'content_partner': [u'University of Waikato'],\n",
       "  u'contributing_partner': [],\n",
       "  u'contributor': [],\n",
       "  u'copyright': [u'All rights reserved'],\n",
       "  u'created_at': u'2012-08-15T22:11:03.000+12:00',\n",
       "  u'creator': [u'Hanlen, Patricia'],\n",
       "  u'credit_creator': None,\n",
       "  u'date': [u'2011-01-01T12:00:00.000Z'],\n",
       "  u'dc_identifier': [u'Hanlen, P. (2011). Community engagement: managers\\u2019 viewpoints. In C. Noble & M. Henrickson (Eds.), Social work field education and supervision across Asia Pacific (pp. 221-241). Sydney, Australia: Sydney University Press.',\n",
       "   u'9781920899691',\n",
       "   u'http://hdl.handle.net/10289/6584'],\n",
       "  u'dc_type': [u'Book item'],\n",
       "  u'description': u'Managers are invaluable for their support of fieldwork placement for social work students. This chapter examines factors that influence managers\\u2019 decision-making towards student placement provision, a role which has traditionally been overlooked in the literature. Understandings were gained from fifteen non-statutory managers gathered in a qualitative study in New Zealand. M\\u0101ori and non-M\\u0101ori managers were interviewed twice, with a three month interval between data gathering. Four themes of organisational, cultural, student and relational factors are considered for their influence on provision. Findings suggest the importance of student quality and their ability to make connections with local indigenous communities and reciprocity in relationships between educational institutions and social service agencies.',\n",
       "  u'display_collection': u'ResearchCommons@Waikato',\n",
       "  u'display_content_partner': u'University of Waikato',\n",
       "  u'display_date': u'2011',\n",
       "  u'dnz_type': u'Reference',\n",
       "  u'eprints_type': [],\n",
       "  u'format': [u'application/pdf'],\n",
       "  u'fulltext': None,\n",
       "  u'has_version': [],\n",
       "  u'holding': [],\n",
       "  u'id': 30615431,\n",
       "  u'is_commercial_use': None,\n",
       "  u'is_part_of': [],\n",
       "  u'is_replaced_by': None,\n",
       "  u'is_required_by': None,\n",
       "  u'is_version_of': None,\n",
       "  u'landing_url': u'http://hdl.handle.net/10289/6584',\n",
       "  u'language': [u'en'],\n",
       "  u'large_thumbnail_url': None,\n",
       "  u'library_collection': [],\n",
       "  u'license': None,\n",
       "  u'metadata_url': None,\n",
       "  u'object_url': None,\n",
       "  u'origin_url': None,\n",
       "  u'primary_collection': [u'ResearchCommons@Waikato'],\n",
       "  u'provenance': None,\n",
       "  u'published_date': [],\n",
       "  u'publisher': [u'Sydney University Press'],\n",
       "  u'relation': [],\n",
       "  u'replaces': None,\n",
       "  u'rights': u'This paper has been published in the book: Social work field education and supervision across Asia Pacific. \\xa9 2011 Carolyn Noble and Mark Henrickson, \\xa9 Patricia Hanlen, \\xa9 2011 Sydney University Press. Used with permission.',\n",
       "  u'rights_url': [],\n",
       "  u'shelf_location': None,\n",
       "  u'source': [],\n",
       "  u'source_url': u'http://api.digitalnz.org/records/30615431/source',\n",
       "  u'syndication_date': u'2013-04-30T15:24:23.462+12:00',\n",
       "  u'table_of_contents': None,\n",
       "  u'tag': [u'valid_eprint', u'valid_handle'],\n",
       "  u'text': None,\n",
       "  u'thesis_level': None,\n",
       "  u'thumbnail_url': None,\n",
       "  u'title': u'Community engagement: managers\\u2019 viewpoints',\n",
       "  u'updated_at': u'2015-07-11T23:56:29.455+12:00',\n",
       "  u'usage': [u'All rights reserved']},\n",
       " {u'additional_description': [],\n",
       "  u'alternate_title': [],\n",
       "  u'category': [u'Archives'],\n",
       "  u'citation': [],\n",
       "  u'collection': [u'Appointment/Release of Receivers & Managers',\n",
       "   u'The New Zealand Gazette'],\n",
       "  u'collection_title': [u'Appointment/Release of Receivers & Managers',\n",
       "   u'The New Zealand Gazette'],\n",
       "  u'content_partner': [u'Department of Internal Affairs'],\n",
       "  u'contributing_partner': [],\n",
       "  u'contributor': [],\n",
       "  u'copyright': [u'Some rights reserved'],\n",
       "  u'created_at': u'2015-06-17T20:31:14.430+12:00',\n",
       "  u'creator': [],\n",
       "  u'credit_creator': None,\n",
       "  u'date': [u'2001-03-22 12:00:00 UTC'],\n",
       "  u'dc_identifier': [u'Notice Number: 2001-ar2030',\n",
       "   u'Page Number: 646',\n",
       "   u'Issue Number: 30'],\n",
       "  u'dc_type': [u'text'],\n",
       "  u'description': u'(in receivership)Notice of Appointment of Receivers and ManagersPursuant to Section 8 (1) (b) of the Receiverships Act 1993Trevor Francis Thornton, chartered accountant of Christchurch, and Martin Joseph Keogh, chartered accountant of Dunedin, hereby give notice that on the11th day of December 2000, Funding Sports Limited appointed them jointly and severally as receivers and managers of the property of Sports Manager International Limited under the powers contained in an ...',\n",
       "  u'display_collection': u'New Zealand Gazette',\n",
       "  u'display_content_partner': u'Department of Internal Affairs',\n",
       "  u'display_date': u'22 Mar 2001',\n",
       "  u'dnz_type': u'Unknown',\n",
       "  u'eprints_type': [],\n",
       "  u'format': [],\n",
       "  u'fulltext': u\"(in receivership)Notice of Appointment of Receivers and ManagersPursuant to Section 8 (1) (b) of the Receiverships Act 1993Trevor Francis Thornton, chartered accountant of Christchurch, and Martin Joseph Keogh, chartered accountant of Dunedin, hereby give notice that on the11th day of December 2000, Funding Sports Limited appointed them jointly and severally as receivers and managers of the property of Sports Manager International Limited under the powers contained in an instrument dated the 23rd day of December 1999. The receivers and managers have been appointed in respect of all of the company's real and personal property, and all its assets and effects, whatsoever and wheresoever, both present and future, including its uncalled and unpaid capital.The Receivers' and Managers' Address is: Grant Thornton, Anthony Harper Building, Eighth Floor, 47 Cathedral Square, P.O. Box 2099, Christchurch.T. F. THORNTON, Receiver and Manager.\",\n",
       "  u'has_version': [],\n",
       "  u'holding': [],\n",
       "  u'id': 35876983,\n",
       "  u'is_commercial_use': True,\n",
       "  u'is_part_of': [],\n",
       "  u'is_replaced_by': None,\n",
       "  u'is_required_by': None,\n",
       "  u'is_version_of': None,\n",
       "  u'landing_url': u'https://gazette.govt.nz/notice/id/2001-ar2030',\n",
       "  u'language': [],\n",
       "  u'large_thumbnail_url': None,\n",
       "  u'library_collection': [],\n",
       "  u'license': u'CC-BY',\n",
       "  u'metadata_url': None,\n",
       "  u'object_url': None,\n",
       "  u'origin_url': None,\n",
       "  u'primary_collection': [u'New Zealand Gazette'],\n",
       "  u'provenance': None,\n",
       "  u'published_date': [],\n",
       "  u'publisher': [u'New Zealand Gazette Office, Government Information Services, Department of Internal Affairs'],\n",
       "  u'relation': [],\n",
       "  u'replaces': None,\n",
       "  u'rights': u'Crown copyright (All metadata for this record is available under the Creative Commons Attribution 3.0 New Zealand licence.)',\n",
       "  u'rights_url': [u'https://gazette.govt.nz/footer/copyright/',\n",
       "   u'http://creativecommons.org/licenses/by/3.0/nz/'],\n",
       "  u'shelf_location': None,\n",
       "  u'source': [],\n",
       "  u'source_url': u'http://api.digitalnz.org/records/35876983/source',\n",
       "  u'syndication_date': None,\n",
       "  u'table_of_contents': None,\n",
       "  u'tag': [],\n",
       "  u'text': None,\n",
       "  u'thesis_level': None,\n",
       "  u'thumbnail_url': None,\n",
       "  u'title': u'Sports Manager International Limited',\n",
       "  u'updated_at': u'2015-06-17T20:31:14.427+12:00',\n",
       "  u'usage': [u'Share', u'Modify', u'Use commercially']},\n",
       " {u'additional_description': [],\n",
       "  u'alternate_title': [],\n",
       "  u'category': [u'Archives'],\n",
       "  u'citation': [],\n",
       "  u'collection': [u'Appointment/Release of Receivers & Managers',\n",
       "   u'The New Zealand Gazette'],\n",
       "  u'collection_title': [u'Appointment/Release of Receivers & Managers',\n",
       "   u'The New Zealand Gazette'],\n",
       "  u'content_partner': [u'Department of Internal Affairs'],\n",
       "  u'contributing_partner': [],\n",
       "  u'contributor': [],\n",
       "  u'copyright': [u'Some rights reserved'],\n",
       "  u'created_at': u'2015-06-17T20:33:04.002+12:00',\n",
       "  u'creator': [],\n",
       "  u'credit_creator': None,\n",
       "  u'date': [u'2001-01-11 12:00:00 UTC'],\n",
       "  u'dc_identifier': [u'Notice Number: 2001-ar166',\n",
       "   u'Page Number: 6',\n",
       "   u'Issue Number: 1'],\n",
       "  u'dc_type': [u'text'],\n",
       "  u'description': u'(in receivership)Notice of Appointment of Receivers and ManagersPursuant to Section 8 (1) (b) of the Receiverships Act 1993Trevor Francis Thornton, chartered accountant of Christchurch, and Martin Joseph Keogh, chartered accountant of Dunedin, hereby give notice that on the11th day of December 2000 at 11.30 a.m., Funding Sports Limited appointed them jointly and severally as receivers and managers of the property of Sports Manager International Limited under the powers co...',\n",
       "  u'display_collection': u'New Zealand Gazette',\n",
       "  u'display_content_partner': u'Department of Internal Affairs',\n",
       "  u'display_date': u'11 Jan 2001',\n",
       "  u'dnz_type': u'Unknown',\n",
       "  u'eprints_type': [],\n",
       "  u'format': [],\n",
       "  u'fulltext': u\"(in receivership)Notice of Appointment of Receivers and ManagersPursuant to Section 8 (1) (b) of the Receiverships Act 1993Trevor Francis Thornton, chartered accountant of Christchurch, and Martin Joseph Keogh, chartered accountant of Dunedin, hereby give notice that on the11th day of December 2000 at 11.30 a.m., Funding Sports Limited appointed them jointly and severally as receivers and managers of the property of Sports Manager International Limited under the powers contained in an instrument dated the 23rd day of December 1999. The receivers and managers have been appointed in respect of all of the company's real and personal property and all its assets and effects, whatsoever and wheresoever, both present and future, including its uncalled and unpaid capital.The Receivers' and Managers' Address is: Grant Thornton, Anthony Harper Building, Eight Floor, 47 Cathedral Square, P.O. Box 2099, Christchurch. T. F. THORNTON, Receiver.\",\n",
       "  u'has_version': [],\n",
       "  u'holding': [],\n",
       "  u'id': 35877041,\n",
       "  u'is_commercial_use': True,\n",
       "  u'is_part_of': [],\n",
       "  u'is_replaced_by': None,\n",
       "  u'is_required_by': None,\n",
       "  u'is_version_of': None,\n",
       "  u'landing_url': u'https://gazette.govt.nz/notice/id/2001-ar166',\n",
       "  u'language': [],\n",
       "  u'large_thumbnail_url': None,\n",
       "  u'library_collection': [],\n",
       "  u'license': u'CC-BY',\n",
       "  u'metadata_url': None,\n",
       "  u'object_url': None,\n",
       "  u'origin_url': None,\n",
       "  u'primary_collection': [u'New Zealand Gazette'],\n",
       "  u'provenance': None,\n",
       "  u'published_date': [],\n",
       "  u'publisher': [u'New Zealand Gazette Office, Government Information Services, Department of Internal Affairs'],\n",
       "  u'relation': [],\n",
       "  u'replaces': None,\n",
       "  u'rights': u'Crown copyright (All metadata for this record is available under the Creative Commons Attribution 3.0 New Zealand licence.)',\n",
       "  u'rights_url': [u'https://gazette.govt.nz/footer/copyright/',\n",
       "   u'http://creativecommons.org/licenses/by/3.0/nz/'],\n",
       "  u'shelf_location': None,\n",
       "  u'source': [],\n",
       "  u'source_url': u'http://api.digitalnz.org/records/35877041/source',\n",
       "  u'syndication_date': None,\n",
       "  u'table_of_contents': None,\n",
       "  u'tag': [],\n",
       "  u'text': None,\n",
       "  u'thesis_level': None,\n",
       "  u'thumbnail_url': None,\n",
       "  u'title': u'Sports Manager International Limited',\n",
       "  u'updated_at': u'2015-06-17T20:33:04.000+12:00',\n",
       "  u'usage': [u'Share', u'Modify', u'Use commercially']}]"
      ]
     },
     "execution_count": 21,
     "metadata": {},
     "output_type": "execute_result"
    }
   ],
   "source": [
    "debsnz.records"
   ]
  },
  {
   "cell_type": "code",
   "execution_count": 23,
   "metadata": {
    "collapsed": false
   },
   "outputs": [],
   "source": [
    "debrecintz = debsnz.records[ranitdz]"
   ]
  },
  {
   "cell_type": "code",
   "execution_count": 24,
   "metadata": {
    "collapsed": false
   },
   "outputs": [],
   "source": [
    "kederz = debrecintz.keys()"
   ]
  },
  {
   "cell_type": "code",
   "execution_count": 25,
   "metadata": {
    "collapsed": false
   },
   "outputs": [
    {
     "name": "stdout",
     "output_type": "stream",
     "text": [
      "[u'Other']\n",
      "[u'All rights reserved']\n"
     ]
    }
   ],
   "source": [
    "print debrecintz['category']\n",
    "print debrecintz['usage']"
   ]
  },
  {
   "cell_type": "code",
   "execution_count": 25,
   "metadata": {
    "collapsed": true
   },
   "outputs": [],
   "source": []
  },
  {
   "cell_type": "code",
   "execution_count": 26,
   "metadata": {
    "collapsed": false
   },
   "outputs": [
    {
     "name": "stdout",
     "output_type": "stream",
     "text": [
      "display_date\n",
      "None\n",
      "provenance\n",
      "None\n",
      "table_of_contents\n",
      "None\n",
      "has_version\n",
      "[]\n",
      "creator\n",
      "[u'C. J. Donoghue', u'New Zealand Ministry for Culture and Heritage Te Manatu Taonga']\n",
      "text\n",
      "None\n",
      "primary_collection\n",
      "[u'Te Ara - The Encyclopedia of New Zealand']\n",
      "updated_at\n",
      "2014-10-10T09:34:30.928+13:00\n",
      "additional_description\n",
      "[]\n",
      "tag\n",
      "[u'Matapihi']\n",
      "relation\n",
      "[u'http://www.teara.govt.nz/en/occupational-structure']\n",
      "collection_title\n",
      "[u'Te Ara - The Encyclopedia of New Zealand', u'Matapihi']\n",
      "contributor\n",
      "[u'Private collection']\n",
      "is_commercial_use\n",
      "None\n",
      "id\n",
      "33904939\n",
      "category\n",
      "[u'Other']\n",
      "shelf_location\n",
      "None\n",
      "is_replaced_by\n",
      "None\n",
      "copyright\n",
      "[]\n",
      "title\n",
      "Managers\n",
      "dnz_type\n",
      "Unknown\n",
      "large_thumbnail_url\n",
      "None\n",
      "display_content_partner\n",
      "Ministry for Culture and Heritage\n",
      "source\n",
      "[]\n",
      "holding\n",
      "[]\n",
      "object_url\n",
      "None\n",
      "usage\n",
      "[u'All rights reserved']\n",
      "license\n",
      "None\n",
      "dc_identifier\n",
      "[u'http://www.teara.govt.nz/en/zoomify/22554/managers']\n",
      "syndication_date\n",
      "2014-08-29T15:30:24.422+12:00\n",
      "fulltext\n",
      "None\n",
      "citation\n",
      "[]\n",
      "eprints_type\n",
      "[]\n",
      "description\n",
      "Managers and professionals, like these men and women attending a 1983 advanced management seminar, tend to be much older than the average New Zealand worker. In 2006, 93% of managers and 92% of professionals were over 25.Four of the people in this photograph later became public service ...\n",
      "format\n",
      "[u'application/x-shockwave-flash']\n",
      "metadata_url\n",
      "None\n",
      "published_date\n",
      "[]\n",
      "collection\n",
      "[u'Te Ara - The Encyclopedia of New Zealand', u'Matapihi']\n",
      "source_url\n",
      "http://api.digitalnz.org/records/33904939/source\n",
      "replaces\n",
      "None\n",
      "thesis_level\n",
      "None\n",
      "alternate_title\n",
      "[]\n",
      "date\n",
      "[]\n",
      "is_part_of\n",
      "[]\n",
      "is_required_by\n",
      "None\n",
      "is_version_of\n",
      "None\n",
      "publisher\n",
      "[u'Ministry for Culture and Heritage Te Manatu Taonga']\n",
      "contributing_partner\n",
      "[u'Te Ara - The Encyclopedia of New Zealand']\n",
      "dc_type\n",
      "[u'zoomify', u'InteractiveResource']\n",
      "language\n",
      "[u'en']\n",
      "rights\n",
      "Crown Copyright administered through the New Zealand Ministry for Culture and Heritage Te Manatu Taonga. All text licensed under the Creative Commons Attribution-NonCommercial 3.0 New Zealand Licence unless otherwise stated. Commercial re-use may be allowed on request. All non-text content is subject to specific conditions.\n",
      "created_at\n",
      "2014-06-12T12:20:30.014+12:00\n",
      "landing_url\n",
      "http://www.teara.govt.nz/en/zoomify/22554/managers\n",
      "credit_creator\n",
      "None\n",
      "library_collection\n",
      "[]\n",
      "thumbnail_url\n",
      "None\n",
      "rights_url\n",
      "[u'http://www.teara.govt.nz/copyright']\n",
      "content_partner\n",
      "[u'Ministry for Culture and Heritage']\n",
      "display_collection\n",
      "Te Ara - The Encyclopedia of New Zealand\n",
      "origin_url\n",
      "None\n"
     ]
    }
   ],
   "source": [
    "for ked in kederz:\n",
    "    print ked\n",
    "    print debrecintz[ked]\n",
    "    #print ked\n",
    "    #print ked\n",
    "    #print debrecintz['category']"
   ]
  },
  {
   "cell_type": "code",
   "execution_count": 27,
   "metadata": {
    "collapsed": false
   },
   "outputs": [
    {
     "name": "stdout",
     "output_type": "stream",
     "text": [
      "33904939\n"
     ]
    }
   ],
   "source": [
    "print debrecintz['id']"
   ]
  },
  {
   "cell_type": "code",
   "execution_count": 28,
   "metadata": {
    "collapsed": false
   },
   "outputs": [],
   "source": [
    " getiddnz = ('http://api.digitalnz.org/v3/records/' + str(debrecintz['id']) + '.json?api_key=Ph2LDuyiJmJcQm1S5myy')"
   ]
  },
  {
   "cell_type": "code",
   "execution_count": 29,
   "metadata": {
    "collapsed": false
   },
   "outputs": [
    {
     "data": {
      "text/plain": [
       "'http://api.digitalnz.org/v3/records/33904939.json?api_key=Ph2LDuyiJmJcQm1S5myy'"
      ]
     },
     "execution_count": 29,
     "metadata": {},
     "output_type": "execute_result"
    }
   ],
   "source": [
    "getiddnz"
   ]
  },
  {
   "cell_type": "code",
   "execution_count": 30,
   "metadata": {
    "collapsed": true
   },
   "outputs": [],
   "source": [
    "reqidnz = requests.get(getiddnz)"
   ]
  },
  {
   "cell_type": "code",
   "execution_count": 31,
   "metadata": {
    "collapsed": true
   },
   "outputs": [],
   "source": [
    "import json"
   ]
  },
  {
   "cell_type": "code",
   "execution_count": 32,
   "metadata": {
    "collapsed": false
   },
   "outputs": [
    {
     "ename": "TypeError",
     "evalue": "<Response [403]> is not JSON serializable",
     "output_type": "error",
     "traceback": [
      "\u001b[1;31m---------------------------------------------------------------------------\u001b[0m",
      "\u001b[1;31mTypeError\u001b[0m                                 Traceback (most recent call last)",
      "\u001b[1;32m<ipython-input-32-ce16e8f24f71>\u001b[0m in \u001b[0;36m<module>\u001b[1;34m()\u001b[0m\n\u001b[1;32m----> 1\u001b[1;33m \u001b[0mjson\u001b[0m\u001b[1;33m.\u001b[0m\u001b[0mdumps\u001b[0m\u001b[1;33m(\u001b[0m\u001b[0mreqidnz\u001b[0m\u001b[1;33m)\u001b[0m\u001b[1;33m\u001b[0m\u001b[0m\n\u001b[0m",
      "\u001b[1;32m/usr/lib/python2.7/json/__init__.pyc\u001b[0m in \u001b[0;36mdumps\u001b[1;34m(obj, skipkeys, ensure_ascii, check_circular, allow_nan, cls, indent, separators, encoding, default, sort_keys, **kw)\u001b[0m\n\u001b[0;32m    241\u001b[0m         \u001b[0mcls\u001b[0m \u001b[1;32mis\u001b[0m \u001b[0mNone\u001b[0m \u001b[1;32mand\u001b[0m \u001b[0mindent\u001b[0m \u001b[1;32mis\u001b[0m \u001b[0mNone\u001b[0m \u001b[1;32mand\u001b[0m \u001b[0mseparators\u001b[0m \u001b[1;32mis\u001b[0m \u001b[0mNone\u001b[0m \u001b[1;32mand\u001b[0m\u001b[1;33m\u001b[0m\u001b[0m\n\u001b[0;32m    242\u001b[0m         encoding == 'utf-8' and default is None and not sort_keys and not kw):\n\u001b[1;32m--> 243\u001b[1;33m         \u001b[1;32mreturn\u001b[0m \u001b[0m_default_encoder\u001b[0m\u001b[1;33m.\u001b[0m\u001b[0mencode\u001b[0m\u001b[1;33m(\u001b[0m\u001b[0mobj\u001b[0m\u001b[1;33m)\u001b[0m\u001b[1;33m\u001b[0m\u001b[0m\n\u001b[0m\u001b[0;32m    244\u001b[0m     \u001b[1;32mif\u001b[0m \u001b[0mcls\u001b[0m \u001b[1;32mis\u001b[0m \u001b[0mNone\u001b[0m\u001b[1;33m:\u001b[0m\u001b[1;33m\u001b[0m\u001b[0m\n\u001b[0;32m    245\u001b[0m         \u001b[0mcls\u001b[0m \u001b[1;33m=\u001b[0m \u001b[0mJSONEncoder\u001b[0m\u001b[1;33m\u001b[0m\u001b[0m\n",
      "\u001b[1;32m/usr/lib/python2.7/json/encoder.pyc\u001b[0m in \u001b[0;36mencode\u001b[1;34m(self, o)\u001b[0m\n\u001b[0;32m    205\u001b[0m         \u001b[1;31m# exceptions aren't as detailed.  The list call should be roughly\u001b[0m\u001b[1;33m\u001b[0m\u001b[1;33m\u001b[0m\u001b[0m\n\u001b[0;32m    206\u001b[0m         \u001b[1;31m# equivalent to the PySequence_Fast that ''.join() would do.\u001b[0m\u001b[1;33m\u001b[0m\u001b[1;33m\u001b[0m\u001b[0m\n\u001b[1;32m--> 207\u001b[1;33m         \u001b[0mchunks\u001b[0m \u001b[1;33m=\u001b[0m \u001b[0mself\u001b[0m\u001b[1;33m.\u001b[0m\u001b[0miterencode\u001b[0m\u001b[1;33m(\u001b[0m\u001b[0mo\u001b[0m\u001b[1;33m,\u001b[0m \u001b[0m_one_shot\u001b[0m\u001b[1;33m=\u001b[0m\u001b[0mTrue\u001b[0m\u001b[1;33m)\u001b[0m\u001b[1;33m\u001b[0m\u001b[0m\n\u001b[0m\u001b[0;32m    208\u001b[0m         \u001b[1;32mif\u001b[0m \u001b[1;32mnot\u001b[0m \u001b[0misinstance\u001b[0m\u001b[1;33m(\u001b[0m\u001b[0mchunks\u001b[0m\u001b[1;33m,\u001b[0m \u001b[1;33m(\u001b[0m\u001b[0mlist\u001b[0m\u001b[1;33m,\u001b[0m \u001b[0mtuple\u001b[0m\u001b[1;33m)\u001b[0m\u001b[1;33m)\u001b[0m\u001b[1;33m:\u001b[0m\u001b[1;33m\u001b[0m\u001b[0m\n\u001b[0;32m    209\u001b[0m             \u001b[0mchunks\u001b[0m \u001b[1;33m=\u001b[0m \u001b[0mlist\u001b[0m\u001b[1;33m(\u001b[0m\u001b[0mchunks\u001b[0m\u001b[1;33m)\u001b[0m\u001b[1;33m\u001b[0m\u001b[0m\n",
      "\u001b[1;32m/usr/lib/python2.7/json/encoder.pyc\u001b[0m in \u001b[0;36miterencode\u001b[1;34m(self, o, _one_shot)\u001b[0m\n\u001b[0;32m    268\u001b[0m                 \u001b[0mself\u001b[0m\u001b[1;33m.\u001b[0m\u001b[0mkey_separator\u001b[0m\u001b[1;33m,\u001b[0m \u001b[0mself\u001b[0m\u001b[1;33m.\u001b[0m\u001b[0mitem_separator\u001b[0m\u001b[1;33m,\u001b[0m \u001b[0mself\u001b[0m\u001b[1;33m.\u001b[0m\u001b[0msort_keys\u001b[0m\u001b[1;33m,\u001b[0m\u001b[1;33m\u001b[0m\u001b[0m\n\u001b[0;32m    269\u001b[0m                 self.skipkeys, _one_shot)\n\u001b[1;32m--> 270\u001b[1;33m         \u001b[1;32mreturn\u001b[0m \u001b[0m_iterencode\u001b[0m\u001b[1;33m(\u001b[0m\u001b[0mo\u001b[0m\u001b[1;33m,\u001b[0m \u001b[1;36m0\u001b[0m\u001b[1;33m)\u001b[0m\u001b[1;33m\u001b[0m\u001b[0m\n\u001b[0m\u001b[0;32m    271\u001b[0m \u001b[1;33m\u001b[0m\u001b[0m\n\u001b[0;32m    272\u001b[0m def _make_iterencode(markers, _default, _encoder, _indent, _floatstr,\n",
      "\u001b[1;32m/usr/lib/python2.7/json/encoder.pyc\u001b[0m in \u001b[0;36mdefault\u001b[1;34m(self, o)\u001b[0m\n\u001b[0;32m    182\u001b[0m \u001b[1;33m\u001b[0m\u001b[0m\n\u001b[0;32m    183\u001b[0m         \"\"\"\n\u001b[1;32m--> 184\u001b[1;33m         \u001b[1;32mraise\u001b[0m \u001b[0mTypeError\u001b[0m\u001b[1;33m(\u001b[0m\u001b[0mrepr\u001b[0m\u001b[1;33m(\u001b[0m\u001b[0mo\u001b[0m\u001b[1;33m)\u001b[0m \u001b[1;33m+\u001b[0m \u001b[1;34m\" is not JSON serializable\"\u001b[0m\u001b[1;33m)\u001b[0m\u001b[1;33m\u001b[0m\u001b[0m\n\u001b[0m\u001b[0;32m    185\u001b[0m \u001b[1;33m\u001b[0m\u001b[0m\n\u001b[0;32m    186\u001b[0m     \u001b[1;32mdef\u001b[0m \u001b[0mencode\u001b[0m\u001b[1;33m(\u001b[0m\u001b[0mself\u001b[0m\u001b[1;33m,\u001b[0m \u001b[0mo\u001b[0m\u001b[1;33m)\u001b[0m\u001b[1;33m:\u001b[0m\u001b[1;33m\u001b[0m\u001b[0m\n",
      "\u001b[1;31mTypeError\u001b[0m: <Response [403]> is not JSON serializable"
     ]
    }
   ],
   "source": [
    "json.dumps(reqidnz)"
   ]
  },
  {
   "cell_type": "code",
   "execution_count": 32,
   "metadata": {
    "collapsed": true
   },
   "outputs": [],
   "source": []
  },
  {
   "cell_type": "code",
   "execution_count": 32,
   "metadata": {
    "collapsed": true
   },
   "outputs": [],
   "source": []
  },
  {
   "cell_type": "code",
   "execution_count": 32,
   "metadata": {
    "collapsed": true
   },
   "outputs": [],
   "source": []
  },
  {
   "cell_type": "code",
   "execution_count": 33,
   "metadata": {
    "collapsed": true
   },
   "outputs": [],
   "source": [
    "mylirq = list()"
   ]
  },
  {
   "cell_type": "code",
   "execution_count": 33,
   "metadata": {
    "collapsed": true
   },
   "outputs": [],
   "source": []
  },
  {
   "cell_type": "code",
   "execution_count": 34,
   "metadata": {
    "collapsed": false
   },
   "outputs": [],
   "source": [
    "for reqi in reqidnz:\n",
    "    #print reqi\n",
    "    #print reqi.upper()\n",
    "    reqi"
   ]
  },
  {
   "cell_type": "code",
   "execution_count": null,
   "metadata": {
    "collapsed": true
   },
   "outputs": [],
   "source": []
  },
  {
   "cell_type": "code",
   "execution_count": null,
   "metadata": {
    "collapsed": false
   },
   "outputs": [],
   "source": [
    "#my_dict.pop(\"key\", None)"
   ]
  },
  {
   "cell_type": "code",
   "execution_count": null,
   "metadata": {
    "collapsed": true
   },
   "outputs": [],
   "source": []
  },
  {
   "cell_type": "code",
   "execution_count": 35,
   "metadata": {
    "collapsed": true
   },
   "outputs": [],
   "source": [
    "dicrq = len(dicjobz['rss']['channel']['item'])"
   ]
  },
  {
   "cell_type": "code",
   "execution_count": 36,
   "metadata": {
    "collapsed": false
   },
   "outputs": [
    {
     "data": {
      "text/plain": [
       "27"
      ]
     },
     "execution_count": 36,
     "metadata": {},
     "output_type": "execute_result"
    }
   ],
   "source": [
    "dicrq"
   ]
  },
  {
   "cell_type": "code",
   "execution_count": 37,
   "metadata": {
    "collapsed": true
   },
   "outputs": [],
   "source": [
    "#Return a random job."
   ]
  },
  {
   "cell_type": "code",
   "execution_count": 38,
   "metadata": {
    "collapsed": true
   },
   "outputs": [],
   "source": [
    "ranjoz = random.randint(0, dicrq)\n",
    "\n",
    "dicrsch = dicjobz['rss']['channel']['item']"
   ]
  },
  {
   "cell_type": "code",
   "execution_count": 38,
   "metadata": {
    "collapsed": false
   },
   "outputs": [],
   "source": []
  },
  {
   "cell_type": "code",
   "execution_count": 39,
   "metadata": {
    "collapsed": false
   },
   "outputs": [
    {
     "name": "stdout",
     "output_type": "stream",
     "text": [
      "http://jobs.minedu.govt.nz/jobtools/jncustomsearch.viewFullSingle?in_organid=17584&in_jnCounter=222576059&in_jobDate=All&in_searchbox=YES&in_summary=S#utm_source=JobRSS&utm_medium=JobRSS\n"
     ]
    }
   ],
   "source": [
    "print dicrsch[ranjoz]['link']\n",
    "\n"
   ]
  },
  {
   "cell_type": "code",
   "execution_count": 40,
   "metadata": {
    "collapsed": false
   },
   "outputs": [
    {
     "name": "stdout",
     "output_type": "stream",
     "text": [
      "Count Me In Facilitator\n"
     ]
    }
   ],
   "source": [
    "print dicrsch[ranjoz]['title']"
   ]
  },
  {
   "cell_type": "code",
   "execution_count": 41,
   "metadata": {
    "collapsed": true
   },
   "outputs": [],
   "source": [
    "#jobtype\n",
    "#location\n",
    "#date advertised\n",
    "#jobreference\n",
    "#jobtitle\n",
    "#should be keys\n",
    "#Currently they are inside description key\n",
    "#Create new json file that fixes this."
   ]
  },
  {
   "cell_type": "code",
   "execution_count": 42,
   "metadata": {
    "collapsed": false
   },
   "outputs": [
    {
     "name": "stdout",
     "output_type": "stream",
     "text": [
      "<ul class=\"job-info\"><li>Job Type: Fixed Term Full Time</li><li>Category: Education</li><li>Location: Northland</li><li>Date Advertised: 29-JUN-15</li><li>Job Reference: EDU/1168159</li><li>Job Title: Count Me In Facilitator</li><li>Business Unit: </li><li>Summary: </li></ul><p><p><strong>Count Me In Facilitator - Position in Northland</strong></p>\n",
      "<p>&nbsp;</p>\n",
      "<ul>\n",
      "<li><strong>Exciting opportunity to work with M&#257;ori and Pasifika young people in Northland</strong></li>\n",
      "<li><strong>Help to change lives in your community</strong></li>\n",
      "<li><strong>Varied role, including individual and group work</strong></li>\n",
      "</ul>\n",
      "<p>&nbsp;</p>\n",
      "<p>We are looking for committed people, experienced in working with young people to be based in Northland</p>\n",
      "<p>&nbsp;</p>\n",
      "<p>Your passion, enthusiasm and experience means that you thrive on being on-the-go and out in the community. You are motivated to work with young people and support them back into education to attain qualifications and progress in a career pathway.&nbsp; You will be confident in working with education providers, other government agency partners, relevant community organisations, and families and wh&#257;nau of young people to collectively support improved M&#257;ori and Pasifika education outcomes.&nbsp;&nbsp;&nbsp;&nbsp;&nbsp;&nbsp;</p>\n",
      "<p>&nbsp;</p>\n",
      "<p>You will be solutions-focused and an effective problem solver putting the needs of the young person first to support real and sustainable change. Your professionalism is a given and you complete related administrative tasks with ease.</p>\n",
      "<p>&nbsp;</p>\n",
      "<p>Your key responsibilities would include:</p>\n",
      "<ul>\n",
      "<li>Identifying and providing support for young people to connect with education, attain qualifications and to progress a career pathway</li>\n",
      "<li>Working with a number of providers and other agencies to support improved M&#257;ori and Pasifika education outcomes</li>\n",
      "<li>Tracking, anticipating and responding to emerging issues</li>\n",
      "<li>Maintaining open, responsive and constructive relationships with key stakeholders</li>\n",
      "<li>Record keeping and administrative tasks.</li>\n",
      "</ul>\n",
      "<p>You must:</p>\n",
      "<ul>\n",
      "<li>Have a passion and practical experience working with M&#257;ori and Pasifika young people</li>\n",
      "<li>Be a team player; responsive, versatile, and able to empower others</li>\n",
      "<li>Be an effective communicator both written and verbal; confident, clear and concise</li>\n",
      "<li>Be solutions-focused and effective problem-solver</li>\n",
      "<li>Have a current New Zealand driver&rsquo;s license</li>\n",
      "<li>Have local knowledge of one of the target areas:&nbsp; Northland</li>\n",
      "</ul>\n",
      "<p>&nbsp;</p>\n",
      "<p>For further information please call Dale Karauria on 04 463 8240</p>\n",
      "<p>Applications close on Sunday 12th July 2015</p></p>\n"
     ]
    }
   ],
   "source": [
    "print dicrsch[ranjoz]['description']"
   ]
  },
  {
   "cell_type": "code",
   "execution_count": 42,
   "metadata": {
    "collapsed": false
   },
   "outputs": [],
   "source": []
  },
  {
   "cell_type": "code",
   "execution_count": 43,
   "metadata": {
    "collapsed": false
   },
   "outputs": [
    {
     "ename": "TypeError",
     "evalue": "list indices must be integers, not unicode",
     "output_type": "error",
     "traceback": [
      "\u001b[1;31m---------------------------------------------------------------------------\u001b[0m",
      "\u001b[1;31mTypeError\u001b[0m                                 Traceback (most recent call last)",
      "\u001b[1;32m<ipython-input-43-78e8c5c638b4>\u001b[0m in \u001b[0;36m<module>\u001b[1;34m()\u001b[0m\n\u001b[0;32m     20\u001b[0m         \u001b[1;32mfor\u001b[0m \u001b[0mked\u001b[0m \u001b[1;32min\u001b[0m \u001b[0mkederz\u001b[0m\u001b[1;33m:\u001b[0m\u001b[1;33m\u001b[0m\u001b[0m\n\u001b[0;32m     21\u001b[0m         \u001b[1;31m#print ked\u001b[0m\u001b[1;33m\u001b[0m\u001b[1;33m\u001b[0m\u001b[0m\n\u001b[1;32m---> 22\u001b[1;33m             \u001b[0mp\u001b[0m\u001b[1;33m(\u001b[0m\u001b[1;33m(\u001b[0m\u001b[0mkederz\u001b[0m\u001b[1;33m[\u001b[0m\u001b[0mked\u001b[0m\u001b[1;33m]\u001b[0m\u001b[1;33m)\u001b[0m\u001b[1;33m)\u001b[0m\u001b[1;33m\u001b[0m\u001b[0m\n\u001b[0m\u001b[0;32m     23\u001b[0m         \u001b[1;31m#print ked\u001b[0m\u001b[1;33m\u001b[0m\u001b[1;33m\u001b[0m\u001b[0m\n\u001b[0;32m     24\u001b[0m         \u001b[1;31m#print ked\u001b[0m\u001b[1;33m\u001b[0m\u001b[1;33m\u001b[0m\u001b[0m\n",
      "\u001b[1;31mTypeError\u001b[0m: list indices must be integers, not unicode"
     ]
    }
   ],
   "source": [
    "#docstart.title = ('ministry-of-education-jobs')\n",
    "doc = dominate.document(title='ministry-of-education-jobs')\n",
    "\n",
    "with doc.head:\n",
    "    link(rel='stylesheet', href='style.css')\n",
    "    script(type='text/javascript', src='script.js')\n",
    "\n",
    "with doc:\n",
    "    #with div(id='header').add(ol()):\n",
    "        #for i in ['home', 'about', 'contact']:\n",
    "            #li(a(i.title(), href='/%s.html' % i))\n",
    "\n",
    "    with div(cls='row'):\n",
    "        h1('education-counts-jobs')\n",
    "        h2(dicrsch[ranjoz]['title'])\n",
    "        p(dicrs)\n",
    "        #p(dicrsch[ranjoz]['description'])\n",
    "        p(a(dicrs, href= dicrsch[ranjoz]['link']))\n",
    "        \n",
    "        for ked in kederz:\n",
    "        #print ked\n",
    "            p((kederz[ked]))\n",
    "        #print ked\n",
    "        #print ked\n",
    "\n",
    "        "
   ]
  },
  {
   "cell_type": "code",
   "execution_count": null,
   "metadata": {
    "collapsed": false
   },
   "outputs": [],
   "source": [
    "#print doc\n",
    "\n",
    "docre = doc.render()\n",
    "#s = docre.decode('ascii', 'ignore')\n",
    "yourstring = docre.encode('ascii', 'ignore').decode('ascii')\n",
    "indfil = ('/home/wcmckee/minedujob/index.html')\n",
    "mkind = open(indfil, 'w')\n",
    "mkind.write(yourstring)\n",
    "mkind.close()"
   ]
  },
  {
   "cell_type": "code",
   "execution_count": null,
   "metadata": {
    "collapsed": true
   },
   "outputs": [],
   "source": [
    "opeind = open('/home/wcmckee/minedujob/index.html', 'a')"
   ]
  },
  {
   "cell_type": "code",
   "execution_count": null,
   "metadata": {
    "collapsed": false
   },
   "outputs": [],
   "source": [
    "opeind.write(dicrsch[ranjoz]['description'])"
   ]
  },
  {
   "cell_type": "code",
   "execution_count": null,
   "metadata": {
    "collapsed": false
   },
   "outputs": [],
   "source": [
    "opeind.close()"
   ]
  },
  {
   "cell_type": "code",
   "execution_count": null,
   "metadata": {
    "collapsed": true
   },
   "outputs": [],
   "source": []
  }
 ],
 "metadata": {
  "kernelspec": {
   "display_name": "Python 2",
   "name": "python2"
  },
  "language_info": {
   "codemirror_mode": {
    "name": "ipython",
    "version": 2
   },
   "file_extension": ".py",
   "mimetype": "text/x-python",
   "name": "python",
   "nbconvert_exporter": "python",
   "pygments_lexer": "ipython2",
   "version": "2.7.9"
  }
 },
 "nbformat": 4,
 "nbformat_minor": 0
}
