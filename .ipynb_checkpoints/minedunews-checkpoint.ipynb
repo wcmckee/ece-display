{
 "cells": [
  {
   "cell_type": "markdown",
   "metadata": {},
   "source": [
    "Ministry of Education News\n",
    "\n",
    "Script to parse news on education.govt.nz"
   ]
  },
  {
   "cell_type": "code",
   "execution_count": 13,
   "metadata": {
    "collapsed": true
   },
   "outputs": [],
   "source": [
    "import bs4\n",
    "import requests\n",
    "import os"
   ]
  },
  {
   "cell_type": "code",
   "execution_count": 14,
   "metadata": {
    "collapsed": true
   },
   "outputs": [],
   "source": [
    "opnewsfo = ('/media/removable/lemonyellow/educ/www.education.govt.nz/news')"
   ]
  },
  {
   "cell_type": "code",
   "execution_count": 15,
   "metadata": {
    "collapsed": false
   },
   "outputs": [],
   "source": [
    "osliz = os.listdir(opnewsfo)"
   ]
  },
  {
   "cell_type": "code",
   "execution_count": 16,
   "metadata": {
    "collapsed": false
   },
   "outputs": [
    {
     "data": {
      "text/plain": [
       "['index.html',\n",
       " 'early-learning-funding-reminders-july-2015',\n",
       " 'changes-to-the-ministry-of-education-websites-and-email-addresses',\n",
       " 'managing-child-illness-in-ece-services-and-kohanga-reo',\n",
       " 'early-learning-taskforce-news-july-2015',\n",
       " 'over-1800-schools-on-the-managed-network',\n",
       " 'safety-checking-childrens-workers-in-force',\n",
       " 'record-highs-for-education-participation-and-achievement',\n",
       " 'teachers-keen-on-innovation-funding',\n",
       " 'making-teaching-and-learning-easier',\n",
       " 'early-learning-regional-news-july-2015',\n",
       " 'new-zealand-educators-among-worlds-best',\n",
       " 'buildings-at-bay-of-islands-college',\n",
       " 'prime-ministers-education-excellence-awards-finalists-announced']"
      ]
     },
     "execution_count": 16,
     "metadata": {},
     "output_type": "execute_result"
    }
   ],
   "source": [
    "osliz"
   ]
  },
  {
   "cell_type": "code",
   "execution_count": 17,
   "metadata": {
    "collapsed": false
   },
   "outputs": [],
   "source": [
    "osrem = osliz.remove('index.html')"
   ]
  },
  {
   "cell_type": "code",
   "execution_count": 18,
   "metadata": {
    "collapsed": false
   },
   "outputs": [],
   "source": [
    "osrem"
   ]
  },
  {
   "cell_type": "code",
   "execution_count": null,
   "metadata": {
    "collapsed": false
   },
   "outputs": [],
   "source": []
  }
 ],
 "metadata": {
  "kernelspec": {
   "display_name": "Python 2",
   "name": "python2"
  },
  "language_info": {
   "codemirror_mode": {
    "name": "ipython",
    "version": 2
   },
   "file_extension": ".py",
   "mimetype": "text/x-python",
   "name": "python",
   "nbconvert_exporter": "python",
   "pygments_lexer": "ipython2",
   "version": "2.7.9"
  }
 },
 "nbformat": 4,
 "nbformat_minor": 0
}
