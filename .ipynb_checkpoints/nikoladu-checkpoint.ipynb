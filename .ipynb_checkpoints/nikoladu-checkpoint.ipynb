{
 "cells": [
  {
   "cell_type": "markdown",
   "metadata": {},
   "source": [
    "Nikoladu\n",
    "\n",
    "This script opens a json file of jobs at Ministry Of Education. It creates a rst file for each job - along with a meta file. This is then turned into a static blogs. \n",
    "The title of each blog post is the ID of the job. I used this as it is unique. It ignores the first 3 characters (edu) and just focus on the number.\n",
    "The post content was just the job title, but I have updated it to include helpful skills to have. \n",
    "Location and category of job is added as tags to the post. "
   ]
  },
  {
   "cell_type": "code",
   "execution_count": null,
   "metadata": {
    "collapsed": true
   },
   "outputs": [],
   "source": []
  },
  {
   "cell_type": "code",
   "execution_count": 44,
   "metadata": {
    "collapsed": false
   },
   "outputs": [],
   "source": [
    "#import nikola\n",
    "\n",
    "import requests\n",
    "import json\n",
    "import getpass\n",
    "import pandas\n",
    "import os"
   ]
  },
  {
   "cell_type": "code",
   "execution_count": null,
   "metadata": {
    "collapsed": true
   },
   "outputs": [],
   "source": []
  },
  {
   "cell_type": "code",
   "execution_count": 45,
   "metadata": {
    "collapsed": true
   },
   "outputs": [],
   "source": [
    "myusr = getpass.getuser()"
   ]
  },
  {
   "cell_type": "code",
   "execution_count": 46,
   "metadata": {
    "collapsed": false
   },
   "outputs": [],
   "source": [
    "with open('/home/{}/moejobs/index.json'.format(myusr), 'r') as opedu:\n",
    "          dicminj = json.loads(opedu.read())"
   ]
  },
  {
   "cell_type": "code",
   "execution_count": null,
   "metadata": {
    "collapsed": true
   },
   "outputs": [],
   "source": []
  },
  {
   "cell_type": "code",
   "execution_count": 47,
   "metadata": {
    "collapsed": false
   },
   "outputs": [],
   "source": [
    "#opedu = open('/home/{}/moejobs/index.json'.format(myusr), 'rb', 'utf-8')"
   ]
  },
  {
   "cell_type": "code",
   "execution_count": null,
   "metadata": {
    "collapsed": true
   },
   "outputs": [],
   "source": []
  },
  {
   "cell_type": "code",
   "execution_count": 48,
   "metadata": {
    "collapsed": false
   },
   "outputs": [],
   "source": [
    "#minjob = opedu.read()"
   ]
  },
  {
   "cell_type": "code",
   "execution_count": 49,
   "metadata": {
    "collapsed": false
   },
   "outputs": [],
   "source": [
    "dicminj = json.loads(minjob)"
   ]
  },
  {
   "cell_type": "code",
   "execution_count": 50,
   "metadata": {
    "collapsed": false
   },
   "outputs": [],
   "source": [
    "ldic = len(dicminj)"
   ]
  },
  {
   "cell_type": "code",
   "execution_count": 51,
   "metadata": {
    "collapsed": false
   },
   "outputs": [],
   "source": [
    "#print(dicminj)"
   ]
  },
  {
   "cell_type": "code",
   "execution_count": 52,
   "metadata": {
    "collapsed": true
   },
   "outputs": [],
   "source": [
    "catlis = list()\n",
    "\n",
    "loclis = list()\n",
    "datlis = list()\n",
    "jobti = list()"
   ]
  },
  {
   "cell_type": "code",
   "execution_count": null,
   "metadata": {
    "collapsed": true
   },
   "outputs": [],
   "source": []
  },
  {
   "cell_type": "code",
   "execution_count": 53,
   "metadata": {
    "collapsed": true
   },
   "outputs": [],
   "source": [
    "numdic = dict()"
   ]
  },
  {
   "cell_type": "code",
   "execution_count": null,
   "metadata": {
    "collapsed": true
   },
   "outputs": [],
   "source": []
  },
  {
   "cell_type": "code",
   "execution_count": 56,
   "metadata": {
    "collapsed": false
   },
   "outputs": [
    {
     "data": {
      "text/plain": [
       "'Project/Programme Management'"
      ]
     },
     "execution_count": 56,
     "metadata": {},
     "output_type": "execute_result"
    }
   ],
   "source": [
    "catedi"
   ]
  },
  {
   "cell_type": "code",
   "execution_count": null,
   "metadata": {
    "collapsed": true
   },
   "outputs": [],
   "source": []
  },
  {
   "cell_type": "code",
   "execution_count": 82,
   "metadata": {
    "collapsed": false
   },
   "outputs": [
    {
     "name": "stdout",
     "output_type": "stream",
     "text": [
      "Significant experience in project management at an operational environment/n\n",
      "Significant experience working across agency boundaries, at national and local levels/n\n",
      "Experience with outcome-based development models and demonstrated skills in impact based design of initiatives and practices/n\n",
      "To be effective at stakeholder engagement and developing networks at all levels/n\n",
      "Ability to adapt a holistic approach to problem solving which relates to the ‘bigger picture’/n\n",
      "A deep understanding of issues involved in the effective implementation and achievement of outcomes in the education and wider social sector/n\n",
      "Ability to identify and manage strategic linkages with initiatives inside and outside the project/n\n",
      "Understanding of the Treaty of Waitangi and its implications for the work especially in matters relating to Māori development and the partnership values that flow from the Treaty/n\n"
     ]
    }
   ],
   "source": [
    "for hel in helpth:\n",
    "    print(hel[0] + '/n')"
   ]
  },
  {
   "cell_type": "code",
   "execution_count": null,
   "metadata": {
    "collapsed": true
   },
   "outputs": [],
   "source": []
  },
  {
   "cell_type": "code",
   "execution_count": null,
   "metadata": {
    "collapsed": true
   },
   "outputs": [],
   "source": []
  },
  {
   "cell_type": "code",
   "execution_count": null,
   "metadata": {
    "collapsed": true
   },
   "outputs": [],
   "source": []
  },
  {
   "cell_type": "code",
   "execution_count": 88,
   "metadata": {
    "collapsed": true
   },
   "outputs": [],
   "source": [
    "testlay = list()"
   ]
  },
  {
   "cell_type": "code",
   "execution_count": null,
   "metadata": {
    "collapsed": true
   },
   "outputs": [],
   "source": []
  },
  {
   "cell_type": "code",
   "execution_count": null,
   "metadata": {
    "collapsed": true
   },
   "outputs": [],
   "source": []
  },
  {
   "cell_type": "code",
   "execution_count": null,
   "metadata": {
    "collapsed": true
   },
   "outputs": [],
   "source": []
  },
  {
   "cell_type": "code",
   "execution_count": 94,
   "metadata": {
    "collapsed": false
   },
   "outputs": [
    {
     "name": "stdout",
     "output_type": "stream",
     "text": [
      "1230209\n",
      "Significant experience in project management at an operational environment/n\n",
      "Significant experience working across agency boundaries, at national and local levels/n\n",
      "Experience with outcome-based development models and demonstrated skills in impact based design of initiatives and practices/n\n",
      "To be effective at stakeholder engagement and developing networks at all levels/n\n",
      "Ability to adapt a holistic approach to problem solving which relates to the ‘bigger picture’/n\n",
      "A deep understanding of issues involved in the effective implementation and achievement of outcomes in the education and wider social sector/n\n",
      "Ability to identify and manage strategic linkages with initiatives inside and outside the project/n\n",
      "Understanding of the Treaty of Waitangi and its implications for the work especially in matters relating to Māori development and the partnership values that flow from the Treaty/n\n",
      "1230206\n",
      "Communications experience working with a range of stakeholders with diverse needs/n\n",
      "A high level of technical and professional skills/knowledge in managing risks including community relations, media liaison, environmental scanning and providing operational communications advice and support/n\n",
      "Excellent editing and writing skills, with a demonstrated ability to develop quality engagement and information sharing materials relevant to the audience and purpose/n\n",
      "A customer-centric ethos with a good knowledge of client information and stakeholder engagement tools, techniques and channels/n\n",
      "Proven relationship management skills and the ability to influence and challenge with sensitivity/n\n",
      "Experience presenting information to stakeholders in a variety of media with confidence creativity and imagination/n\n",
      "Provision of support to implement activities through communications’ collateral and engagement strategies./n\n",
      "Can apply project management techniques and methodologies/n\n",
      "Understanding of New Zealand''s Machinery of Government/n\n",
      "1230202\n",
      "A strong record of identifying opportunities to do things differently in support of communities, iwi, hapu and whānau./n\n",
      "To be an exceptional experienced senior leader who believes in people and their potential to achieve./n\n",
      "An understanding of Te Tai Tokerau communities and local environments. /n\n",
      "Good judgement, intellectual flexibility and originality, and the capacity to think strategically./n\n",
      "A proven record of managing complex successful programmes of work./n\n",
      "An ability to manage teams in a complex and demanding environment./n\n",
      "Proven experience of building sustainable external networks and having a strategic influence within these networks./n\n",
      "A track record of managing performance aligned to desired outcomes and driving continuous improvement./n\n",
      "Knowledge of key legislation that impacts on at-risk children, young people and their whānau./n\n",
      "An understanding of utilising connections between organisations, whānau, hapu and iwi, to benefit identified client groups./n\n",
      "Outstanding communication and negotiation skills.\n",
      "\n",
      "Sound knowledge of the Government’s direction and policy priorities\n",
      "\n",
      "/n\n",
      "Sound knowledge of the Government’s direction and policy priorities/n\n",
      "1230186\n",
      "Drive the development and implementation of an integrated security and privacy programme/n\n",
      "Be the centre of expertise within the Ministry for provision of advice and support on all Privacy and Security matters/n\n",
      "Advise senior leadership across the Ministry on security and privacy/n\n",
      "1228733\n",
      "1228732\n",
      "1229379\n",
      "1229371\n",
      "Bachelor of Speech and Language Therapy or equivalent qualification /n\n",
      "Eligibility for membership of the New Zealand Speech-Language Therapists’ Association/n\n",
      "A current driver’s licence/n\n",
      "Sensitivity to cultural and ethnic diversity and a commitment to the principles of the Treaty of Waitangi./n\n",
      "1228964\n",
      "Building successful relationships/n\n",
      "Improving educational achievement      for all students, particularly Māori and Pasifika/n\n",
      "Using your evaluative skills to      work with data and information to solve complex problems and      make decisions./n\n",
      "Working with others to support and      implement change initiatives /n\n",
      "Using strategies and initiatives      that support student attendance and retention/n\n",
      "Working with families to strengthen      their children’s engagement in education ./n\n",
      "1228590\n",
      "A minimum of 3 years teaching experience or 3 years experience of working in the community in a Māori development context and a relevant tertiary qualification in education is essential.  /n\n",
      "An ability and willingness to work in collaborative partnership with other professionals, agencies, whānau and Māori community, in the delivery of bi-cultural services;/n\n",
      "Excellent interpersonal, written and communication skills./n\n",
      "A high degree of competence and fluency in Te Reo Māori me ōna tikanga with an ability to work across Kōhanga Reo, kura-kaupapa Māori. There is an expectation that the successful candidate will provide bicultural support/n\n",
      "A genuine commitment to evidence based interventions which demonstrate inclusive education practice and contribute to raising student achievement;/n\n",
      "A thorough knowledge of the aspirations of Māori within education./n\n",
      "1229023\n",
      "Permanent – Full time/n\n",
      "Asset / Capital focus/n\n",
      "Assisting in the preparation of annual budgets and re-forecasts/n\n",
      "Preparation and development of variance reports, dashboards etc. for manager review and approval/n\n",
      "Support Principal Advisor Investment Management in the preparation of Capital Intentions forecasts for Treasury/n\n",
      "Provide robust and timely information on programme and project performance/n\n",
      "Support the Finance team’s month-end processes, including processing of accruals, capitalisations, operating and capital reporting etc./n\n",
      "Demonstrable experience and achievement in Financial Analysis, Budgeting / Forecasting and Management reporting/n\n",
      "Advanced spread sheeting (Excel) skills/n\n",
      "Excellent communications skills/n\n",
      "Experience of working with multiple data sources and systems./n\n",
      "1228960\n",
      "Wellington Region /n\n",
      "Lower Hutt Office/n\n",
      "Permanent position, secondment opportunities will be considered/n\n",
      "have proven experience and/or the ability to work collaboratively with kura and/or Māori-Medium leaders throughout your region to help them better understand, plan and adapt to meet the needs of their students;/n\n",
      "can work with kura and schools to create urgency and know what bought about improved outcomes so that change can be sustained, replicated and adapted;/n\n",
      "can support schools to infuse students’ identity, language and culture within their learning environment;/n\n",
      "have experience working within a project management framework/n\n",
      "work strategically with kura and schools to significantly improve outcomes for Māori students by supporting kura and schools to work for, and with, Māori students and their whānau, hapū and iwi;/n\n",
      "are a competent and confident speaker of Te Reo Māori;/n\n",
      "have experience and ability to work through a project management framework; and/n\n",
      "ideally you will have a successful leadership background in an education setting./n\n",
      "1228838\n",
      "Do you want to make a difference in New Zealand schools?/n\n",
      "Are you an experienced Manager looking for your next challenge?/n\n",
      "A track record of success and results in delivering a large and complex programme of capital works projects using in-house and contracted suppliers/n\n",
      "Strong track record of using project management methodologies and organisational processes in achieving efficient outcomes to support delivery teams/n\n",
      "Proven skills and experience in leading and managing a team of professionals and critically important stakeholders both at a programme and project level/n\n",
      "Strong leadership skills and the ability to facilitate outcomes through personal credibility and influence – an effective leadership presence with peers/n\n",
      "In depth understanding of the particular demands of managing the delivery of complex services in the public sector, including the delivery of high value services in a political context/n\n",
      "Strong knowledge of the Government’s direction, policy priorities, and budgeting processes and probity issues specific to the public sector/n\n",
      "High level technical understanding of the New Zealand development and building industry, design and building processes/n\n",
      "Highly developed strategic and critical thinking skills and analytical capability/n\n",
      "The ability to make sound decisions within short timeframes and effectively ‘think on your feet’/n\n",
      "Strong skills in managing risks and implementing lessons learnt/n\n",
      "Ability to use technology effectively as part of daily tasks/n\n",
      "Knowledge of the Building Act and Health and Safety in Employment Act/n\n",
      "Understanding of the principles of the Treaty of Waitangi and their implications for network provision within the education sector/n\n",
      "Strong written and verbal communication and presentation skills/n\n",
      "Knowledge and experience of the school sector (desirable)/n\n",
      "Tertiary qualification (desirable)./n\n",
      "1228181\n",
      "Computer literacy and the ability to quickly learn business systems such as Ariba and GETS/n\n",
      "Numerate, able to manipulate and interpret data/n\n",
      "Excel skills to medium level/n\n",
      "Strong organisational skills/n\n",
      "Excellent verbal and written communication skills./n\n",
      "Excellent relationship management and networking skills and experience in dealing with a wide range of external stakeholders./n\n",
      "Ability to appropriately challenge and extend the thinking of others in a positive, respectful and professional manner./n\n",
      "Ability to work independently and to multi-task, managing time and conflicting priorities in order that deliverables are met./n\n",
      "An eye for detail ensuring that all sourcing activity is performed to a high standard with minimum errors./n\n",
      "A high level of self-motivation and initiative./n\n",
      "A high level of confidentiality and security of information at all times./n\n",
      "1227349\n",
      "Do you want to make a difference in New Zealand schools?/n\n",
      "Are you an experienced Project Manager looking for your next challenge?/n\n",
      "Would you enjoy delivering a range of projects around the country?/n\n",
      "A trade qualification ideally coupled with a tertiary qualification (eg. Prince2)/n\n",
      "Experience managing a mix of small to large size projects depending on role/n\n",
      "Sound knowledge of the local construction market and relevant commercial construction legislation/n\n",
      "Solid programme / project skills with multiple deadlines, adapting readily to changing priorities/n\n",
      "Strong financial management with the ability to drive cost accountability/n\n",
      "Proven track record of strong customer focus/n\n",
      "Outstanding written and verbal communication skills and strong computer skills/n\n",
      "Confidence to be the point of contact for schools, the community, consultants and the Ministry/n\n",
      "Able to work in a fast-paced team-oriented environment/n\n",
      "Energetic and self-motivated. /n\n",
      "1227774\n",
      "1227541\n",
      "In-depth understanding of factors influencing education performance and student achievement and participation, ideally with currency in curriculum delivery and assessment/n\n",
      "The ability to support Communities of Learning to identify the challenges and opportunities that exist across the sector to improve outcomes for all learners/n\n",
      "Strong analytical skills and the ability to work with student achievement data to determine needs, priorities and results/n\n",
      "Experience in developing and implementing projects and in contract management/n\n",
      "The ability to contribute to Ministry goals for Māori enjoying and achieving education success as Māori and to work confidently with schools in both Māori medium and mainstream contexts/n\n",
      "The ability to contribute to Ministry goals for Pasifika students/n\n",
      "The ability to contribute to Ministry goals for students with extra educational  needs/n\n",
      "1227114\n",
      "Exciting opportunity for Project/Programme Coordinators seeking their next challenge/n\n",
      "Expand your skills by working in a diverse programme /n\n",
      "Implementing appropriate risk, issue, change, dependency, quality, communications and contract controls/n\n",
      "Tracking programme & project performance against plans and milestones/n\n",
      "The provision of high quality, accurate, timely and transparent reporting to governance groups/n\n",
      "The provision of high quality administrative support to the programme/n\n",
      "Familiarity with project & programme methodologies and practices;/n\n",
      "Highly developed written and verbal communication skills;/n\n",
      "Strong relationship management skills;/n\n",
      "Strong analysis and organisational skills./n\n"
     ]
    }
   ],
   "source": [
    "for ldi in range(ldic):\n",
    "    dicjob = dict()\n",
    "    catedi = (dicminj[str(ldi)]['Category'])\n",
    "    locdi = (dicminj[str(ldi)]['Location'])\n",
    "    datdi = (dicminj[str(ldi)]['Date Advertised'])\n",
    "    pandatz = pandas.to_datetime(datdi)\n",
    "    pdate = pandatz.date()\n",
    "    titdi = (dicminj[str(ldi)]['Job Title'])\n",
    "    helpth = (dicminj[str(ldi)]['lidocend'])\n",
    "    \n",
    "    jobref = (dicminj[str(ldi)]['Job Reference'])\n",
    "    jorefd = jobref[4:]\n",
    "    print (jorefd)\n",
    "    \n",
    "    with open('/home/{}/minstryofedu/posts/{}.meta'.format(myusr, jorefd), 'w') as moemeta:\n",
    "        moemeta.write(jorefd + '\\n' + jorefd + '\\n' + str(pdate) + ' ' + str('09:00:00') + '\\n' + catedi + ', ' + locdi)\n",
    "    #opmetf = open('/home/{}/minstryofedu/posts/{}.meta'.format(myusr, jorefd), 'w')\n",
    "    #opmetf.write(jorefd + '\\n' + jorefd + '\\n' + str(pdate) + ' ' + str('09:00:00') + '\\n' + catedi + ', ' + locdi)\n",
    "    #opmetf.close()\n",
    "    #print(helpth)\n",
    "    for hel in helpth:\n",
    "        print(hel[0] + '/n')\n",
    "        testlay.append(hel[0])\n",
    "    with open('/home/{}/minstryofedu/posts/{}.rst'.format(myusr, jorefd), 'w') as moerst:\n",
    "        moerst.write(titdi)\n",
    "    #oprstfi = open('/home/{}/minstryofedu/posts/{}.rst'.format(myusr, jorefd), 'w')\n",
    "    #oprstfi.write(titdi)\n",
    "    #oprstfi.close()\n",
    "\n",
    "\n",
    "\n",
    "    dicjob.update({'Category' : catedi, 'Date Advertised' : str(pdate), 'Job Title' : titdi,\n",
    "    'Location' : locdi, 'Job Reference' : jobref, 'reqs' : helpth})\n",
    "    \n",
    "    numdic.update({ldi : dicjob})\n",
    "    #numdic.update({ldi : dicjob})\n",
    "    \n",
    "    loclis.append(locdi)\n",
    "    datlis.append(datdi)\n",
    "    jobti.append(titdi)\n",
    "    \n",
    "    nedicf = dicjob.copy()\n",
    "    nedicf.update(nedicf)\n",
    "    \n",
    "    numdic.update({ldi : nedicf})\n",
    "    \n",
    "    #if 'education' in catedi:\n",
    "    #    print (catedi)\n",
    "\n",
    "        "
   ]
  },
  {
   "cell_type": "code",
   "execution_count": null,
   "metadata": {
    "collapsed": true
   },
   "outputs": [],
   "source": []
  },
  {
   "cell_type": "code",
   "execution_count": null,
   "metadata": {
    "collapsed": true
   },
   "outputs": [],
   "source": []
  },
  {
   "cell_type": "code",
   "execution_count": null,
   "metadata": {
    "collapsed": true
   },
   "outputs": [],
   "source": []
  },
  {
   "cell_type": "code",
   "execution_count": null,
   "metadata": {
    "collapsed": true
   },
   "outputs": [],
   "source": []
  },
  {
   "cell_type": "code",
   "execution_count": null,
   "metadata": {
    "collapsed": true
   },
   "outputs": [],
   "source": []
  },
  {
   "cell_type": "code",
   "execution_count": 65,
   "metadata": {
    "collapsed": false
   },
   "outputs": [],
   "source": [
    "#json.dumps(numdic)"
   ]
  },
  {
   "cell_type": "code",
   "execution_count": 67,
   "metadata": {
    "collapsed": true
   },
   "outputs": [],
   "source": [
    "with open('/home/{}/minstryofedu/output/index.json'.format(myusr), 'w') as moerst:\n",
    "    moerst.write(json.dumps(numdic))"
   ]
  },
  {
   "cell_type": "code",
   "execution_count": null,
   "metadata": {
    "collapsed": true
   },
   "outputs": [],
   "source": []
  },
  {
   "cell_type": "code",
   "execution_count": null,
   "metadata": {
    "collapsed": true
   },
   "outputs": [],
   "source": []
  },
  {
   "cell_type": "code",
   "execution_count": null,
   "metadata": {
    "collapsed": true
   },
   "outputs": [],
   "source": []
  },
  {
   "cell_type": "code",
   "execution_count": 90,
   "metadata": {
    "collapsed": false
   },
   "outputs": [
    {
     "data": {
      "text/plain": [
       "['Significant experience in project management at an operational environment',\n",
       " 'Significant experience working across agency boundaries, at national and local levels',\n",
       " 'Experience with outcome-based development models and demonstrated skills in impact based design of initiatives and practices',\n",
       " 'To be effective at stakeholder engagement and developing networks at all levels',\n",
       " 'Ability to adapt a holistic approach to problem solving which relates to the ‘bigger picture’',\n",
       " 'A deep understanding of issues involved in the effective implementation and achievement of outcomes in the education and wider social sector',\n",
       " 'Ability to identify and manage strategic linkages with initiatives inside and outside the project',\n",
       " 'Understanding of the Treaty of Waitangi and its implications for the work especially in matters relating to Māori development and the partnership values that flow from the Treaty',\n",
       " 'Communications experience working with a range of stakeholders with diverse needs',\n",
       " 'A high level of technical and professional skills/knowledge in managing risks including community relations, media liaison, environmental scanning and providing operational communications advice and support',\n",
       " 'Excellent editing and writing skills, with a demonstrated ability to develop quality engagement and information sharing materials relevant to the audience and purpose',\n",
       " 'A customer-centric ethos with a good knowledge of client information and stakeholder engagement tools, techniques and channels',\n",
       " 'Proven relationship management skills and the ability to influence and challenge with sensitivity',\n",
       " 'Experience presenting information to stakeholders in a variety of media with confidence creativity and imagination',\n",
       " 'Provision of support to implement activities through communications’ collateral and engagement strategies.',\n",
       " 'Can apply project management techniques and methodologies',\n",
       " \"Understanding of New Zealand''s Machinery of Government\",\n",
       " 'A strong record of identifying opportunities to do things differently in support of communities, iwi, hapu and whānau.',\n",
       " 'To be an exceptional experienced senior leader who believes in people and their potential to achieve.',\n",
       " 'An understanding of Te Tai Tokerau communities and local environments.\\xa0',\n",
       " 'Good judgement, intellectual flexibility and originality, and the capacity to think strategically.',\n",
       " 'A proven record of managing complex successful programmes of work.',\n",
       " 'An ability to manage teams in a complex and demanding environment.',\n",
       " 'Proven experience of building sustainable external networks and having a strategic influence within these networks.',\n",
       " 'A track record of managing performance aligned to desired outcomes and driving continuous improvement.',\n",
       " 'Knowledge of key legislation that impacts on at-risk children, young people and their whānau.',\n",
       " 'An understanding of utilising connections between organisations, whānau, hapu and iwi, to benefit identified client groups.',\n",
       " 'Outstanding communication and negotiation skills.\\n\\nSound knowledge of the Government’s direction and policy priorities\\n\\n',\n",
       " 'Sound knowledge of the Government’s direction and policy priorities',\n",
       " 'Drive the development and implementation of an integrated security and privacy programme',\n",
       " 'Be the centre of expertise within the Ministry for provision of advice and support on all Privacy and Security matters',\n",
       " 'Advise senior leadership across the Ministry on security and privacy',\n",
       " 'Bachelor of Speech and Language Therapy or equivalent qualification\\xa0',\n",
       " 'Eligibility for membership of the New Zealand Speech-Language Therapists’ Association',\n",
       " 'A current driver’s licence',\n",
       " 'Sensitivity to cultural and ethnic diversity and a commitment to the principles of the Treaty of Waitangi.',\n",
       " 'Building\\xa0successful relationships',\n",
       " 'Improving\\xa0educational achievement \\xa0\\xa0\\xa0\\xa0 for all students, particularly Māori and Pasifika',\n",
       " 'Using your evaluative\\xa0skills to \\xa0\\xa0\\xa0\\xa0 work with data and information to solve complex problems and \\xa0\\xa0\\xa0\\xa0 make\\xa0decisions.',\n",
       " 'Working with\\xa0others to support and \\xa0\\xa0\\xa0\\xa0 implement change initiatives\\xa0',\n",
       " 'Using strategies\\xa0and initiatives \\xa0\\xa0\\xa0\\xa0 that support student attendance and retention',\n",
       " 'Working with\\xa0families to strengthen \\xa0\\xa0\\xa0\\xa0 their children’s engagement in education .',\n",
       " 'A minimum of 3 years teaching experience or 3 years experience of working in the community in a Māori development context and a relevant tertiary qualification in education is essential. \\xa0',\n",
       " 'An ability and willingness to work in collaborative partnership with other professionals, agencies, whānau and Māori community, in the delivery of bi-cultural services;',\n",
       " 'Excellent interpersonal, written and communication skills.',\n",
       " 'A high degree of competence and fluency in Te Reo Māori me ōna tikanga with an ability to work across Kōhanga Reo, kura-kaupapa Māori. There is an expectation that the successful candidate will provide bicultural support',\n",
       " 'A genuine commitment to evidence based interventions which demonstrate inclusive education practice and contribute to raising student achievement;',\n",
       " 'A thorough knowledge of the aspirations of Māori within education.',\n",
       " 'Permanent – Full time',\n",
       " 'Asset / Capital focus',\n",
       " 'Assisting in the preparation of annual budgets and re-forecasts',\n",
       " 'Preparation and development of variance reports, dashboards etc. for manager review and approval',\n",
       " 'Support Principal Advisor Investment Management in the preparation of Capital Intentions forecasts for Treasury',\n",
       " 'Provide robust and timely information on programme and project performance',\n",
       " 'Support the Finance team’s month-end processes, including processing of accruals, capitalisations, operating and capital reporting etc.',\n",
       " 'Demonstrable experience and achievement in Financial Analysis, Budgeting / Forecasting and Management reporting',\n",
       " 'Advanced spread sheeting (Excel) skills',\n",
       " 'Excellent communications skills',\n",
       " 'Experience of working with multiple data sources and systems.',\n",
       " 'Wellington Region ',\n",
       " 'Lower Hutt Office',\n",
       " 'Permanent position, secondment opportunities will be considered',\n",
       " 'have proven experience and/or the ability to work collaboratively with kura and/or Māori-Medium leaders throughout your region to help them better understand, plan and adapt to meet the needs of their students;',\n",
       " 'can work with kura and schools to create urgency and know what bought about improved outcomes so that change can be sustained, replicated and adapted;',\n",
       " 'can support schools to infuse students’ identity, language and culture within their learning environment;',\n",
       " 'have experience working within a project management framework',\n",
       " 'work strategically with kura and schools to significantly improve outcomes for Māori students by supporting kura and schools to work for, and with, Māori students and their whānau, hapū and iwi;',\n",
       " 'are a competent and confident speaker of Te Reo Māori;',\n",
       " 'have experience and ability to work through a project management framework; and',\n",
       " 'ideally you will have a successful leadership background in an education setting.',\n",
       " 'Do you want to make a difference in New Zealand schools?',\n",
       " 'Are you an experienced Manager looking for your next challenge?',\n",
       " 'A track record of success and results in delivering a large and complex programme of capital works projects using in-house and contracted suppliers',\n",
       " 'Strong track record of using project management methodologies and organisational processes in achieving efficient outcomes to support delivery teams',\n",
       " 'Proven skills and experience in leading and managing a team of professionals and critically important stakeholders both at a programme and project level',\n",
       " 'Strong leadership skills and the ability to facilitate outcomes through personal credibility and influence – an effective leadership presence with peers',\n",
       " 'In depth understanding of the particular demands of managing the delivery of complex services in the public sector, including the delivery of high value services in a political context',\n",
       " 'Strong knowledge of the Government’s direction, policy priorities, and budgeting processes and probity issues specific to the public sector',\n",
       " 'High level technical understanding of the New Zealand development and building industry, design and building processes',\n",
       " 'Highly developed strategic and critical thinking skills and analytical capability',\n",
       " 'The ability to make sound decisions within short timeframes and effectively ‘think on your feet’',\n",
       " 'Strong skills in managing risks and implementing lessons learnt',\n",
       " 'Ability to use technology effectively as part of daily tasks',\n",
       " 'Knowledge of the Building Act and Health and Safety in Employment Act',\n",
       " 'Understanding of the principles of the Treaty of Waitangi and their implications for network provision within the education sector',\n",
       " 'Strong written and verbal communication and presentation skills',\n",
       " 'Knowledge and experience of the school sector (desirable)',\n",
       " 'Tertiary qualification (desirable).',\n",
       " 'Computer literacy and the ability to quickly learn business systems such as Ariba and GETS',\n",
       " 'Numerate, able to manipulate and interpret data',\n",
       " 'Excel skills to medium level',\n",
       " 'Strong organisational skills',\n",
       " 'Excellent verbal and written communication skills.',\n",
       " 'Excellent relationship management and networking skills and experience in dealing with a wide range of external stakeholders.',\n",
       " 'Ability to appropriately challenge and extend the thinking of others in a positive, respectful and professional manner.',\n",
       " 'Ability to work independently and to multi-task, managing time and conflicting priorities in order that deliverables are met.',\n",
       " 'An eye for detail ensuring that all sourcing activity is performed to a high standard with minimum errors.',\n",
       " 'A high level of self-motivation and initiative.',\n",
       " 'A high level of confidentiality and security of information at all times.',\n",
       " 'Do you want to make a difference in New Zealand schools?',\n",
       " 'Are you an experienced Project Manager looking for your next challenge?',\n",
       " 'Would you enjoy delivering a range of projects around the country?',\n",
       " 'A trade qualification ideally coupled with a tertiary qualification (eg. Prince2)',\n",
       " 'Experience managing a mix of small to large size projects depending on role',\n",
       " 'Sound knowledge of the local construction market and relevant commercial construction legislation',\n",
       " 'Solid programme / project skills with multiple deadlines, adapting readily to changing priorities',\n",
       " 'Strong financial management with the ability to drive cost accountability',\n",
       " 'Proven track record of strong customer focus',\n",
       " 'Outstanding written and verbal communication skills and strong computer skills',\n",
       " 'Confidence to be the point of contact for schools, the community, consultants and the Ministry',\n",
       " 'Able to work in a fast-paced team-oriented environment',\n",
       " 'Energetic and self-motivated.\\xa0',\n",
       " 'In-depth understanding of factors influencing education performance and student achievement and participation, ideally with currency in curriculum delivery and assessment',\n",
       " 'The ability to support Communities of Learning to identify the challenges and opportunities that exist across the sector to improve outcomes for all learners',\n",
       " 'Strong analytical skills and the ability to work with student achievement data to determine needs, priorities and results',\n",
       " 'Experience in developing and implementing projects and in contract management',\n",
       " 'The ability to contribute to Ministry goals for Māori enjoying and achieving education success as Māori and to work confidently with schools in both Māori medium and mainstream contexts',\n",
       " 'The ability to contribute to Ministry goals for Pasifika students',\n",
       " 'The ability to contribute to Ministry goals for students with extra educational \\xa0needs',\n",
       " 'Exciting opportunity for Project/Programme Coordinators seeking their next challenge',\n",
       " 'Expand your skills by working in a diverse programme ',\n",
       " 'Implementing appropriate risk, issue, change, dependency, quality, communications and contract controls',\n",
       " 'Tracking programme & project performance against plans and milestones',\n",
       " 'The provision of high quality, accurate, timely and transparent reporting to governance groups',\n",
       " 'The provision of high quality administrative support to the programme',\n",
       " 'Familiarity with project & programme methodologies and practices;',\n",
       " 'Highly developed written and verbal communication skills;',\n",
       " 'Strong relationship management skills;',\n",
       " 'Strong analysis and organisational skills.']"
      ]
     },
     "execution_count": 90,
     "metadata": {},
     "output_type": "execute_result"
    }
   ],
   "source": [
    "testlay"
   ]
  },
  {
   "cell_type": "code",
   "execution_count": null,
   "metadata": {
    "collapsed": true
   },
   "outputs": [],
   "source": []
  },
  {
   "cell_type": "code",
   "execution_count": null,
   "metadata": {
    "collapsed": true
   },
   "outputs": [],
   "source": []
  },
  {
   "cell_type": "code",
   "execution_count": null,
   "metadata": {
    "collapsed": true
   },
   "outputs": [],
   "source": []
  },
  {
   "cell_type": "code",
   "execution_count": null,
   "metadata": {
    "collapsed": true
   },
   "outputs": [],
   "source": []
  },
  {
   "cell_type": "code",
   "execution_count": null,
   "metadata": {
    "collapsed": true
   },
   "outputs": [],
   "source": []
  },
  {
   "cell_type": "code",
   "execution_count": null,
   "metadata": {
    "collapsed": true
   },
   "outputs": [],
   "source": []
  },
  {
   "cell_type": "code",
   "execution_count": 68,
   "metadata": {
    "collapsed": true
   },
   "outputs": [],
   "source": [
    "os.chdir('/home/{}/minstryofedu/'.format(myusr))"
   ]
  },
  {
   "cell_type": "code",
   "execution_count": 69,
   "metadata": {
    "collapsed": false
   },
   "outputs": [
    {
     "data": {
      "text/plain": [
       "0"
      ]
     },
     "execution_count": 69,
     "metadata": {},
     "output_type": "execute_result"
    }
   ],
   "source": [
    "os.system('nikola build')"
   ]
  },
  {
   "cell_type": "code",
   "execution_count": 70,
   "metadata": {
    "collapsed": false
   },
   "outputs": [
    {
     "data": {
      "text/plain": [
       "0"
      ]
     },
     "execution_count": 70,
     "metadata": {},
     "output_type": "execute_result"
    }
   ],
   "source": [
    "os.system('aws s3 sync /home/{}/minstryofedu/output/ s3://moejobs'.format(myusr))"
   ]
  },
  {
   "cell_type": "code",
   "execution_count": null,
   "metadata": {
    "collapsed": true
   },
   "outputs": [],
   "source": []
  }
 ],
 "metadata": {
  "kernelspec": {
   "display_name": "Python 3",
   "language": "python",
   "name": "python3"
  },
  "language_info": {
   "codemirror_mode": {
    "name": "ipython",
    "version": 3
   },
   "file_extension": ".py",
   "mimetype": "text/x-python",
   "name": "python",
   "nbconvert_exporter": "python",
   "pygments_lexer": "ipython3",
   "version": "3.4.2"
  }
 },
 "nbformat": 4,
 "nbformat_minor": 0
}
