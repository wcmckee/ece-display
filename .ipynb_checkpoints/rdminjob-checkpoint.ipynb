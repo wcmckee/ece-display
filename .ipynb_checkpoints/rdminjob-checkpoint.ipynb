{
 "cells": [
  {
   "cell_type": "code",
   "execution_count": 198,
   "metadata": {
    "collapsed": false
   },
   "outputs": [],
   "source": [
    "import json\n",
    "import bs4\n",
    "#import github\n",
    "#from github import Github\n",
    "import git\n",
    "import tweepy\n",
    "import random\n",
    "import dominate\n",
    "from dominate.tags import * "
   ]
  },
  {
   "cell_type": "code",
   "execution_count": 199,
   "metadata": {
    "collapsed": true
   },
   "outputs": [],
   "source": [
    "opwse = open('/home/wcmckee/minedujob/index.json', 'r')"
   ]
  },
  {
   "cell_type": "code",
   "execution_count": 200,
   "metadata": {
    "collapsed": true
   },
   "outputs": [],
   "source": [
    "jsloaop = json.loads(opwse.read())"
   ]
  },
  {
   "cell_type": "code",
   "execution_count": 201,
   "metadata": {
    "collapsed": true
   },
   "outputs": [],
   "source": [
    "lejsp = len(jsloaop)"
   ]
  },
  {
   "cell_type": "code",
   "execution_count": 202,
   "metadata": {
    "collapsed": false
   },
   "outputs": [],
   "source": [
    "ranlej = random.randint(0, lejsp)"
   ]
  },
  {
   "cell_type": "code",
   "execution_count": 194,
   "metadata": {
    "collapsed": true
   },
   "outputs": [
    {
     "ename": "KeyError",
     "evalue": "1",
     "output_type": "error",
     "traceback": [
      "\u001b[1;31m---------------------------------------------------------------------------\u001b[0m",
      "\u001b[1;31mKeyError\u001b[0m                                  Traceback (most recent call last)",
      "\u001b[1;32m<ipython-input-194-b7e30560adc4>\u001b[0m in \u001b[0;36m<module>\u001b[1;34m()\u001b[0m\n\u001b[0;32m     20\u001b[0m     \u001b[1;32mwith\u001b[0m \u001b[0mdiv\u001b[0m\u001b[1;33m(\u001b[0m\u001b[0mid\u001b[0m\u001b[1;33m=\u001b[0m\u001b[1;34m'body'\u001b[0m\u001b[1;33m)\u001b[0m\u001b[1;33m:\u001b[0m\u001b[1;33m\u001b[0m\u001b[0m\n\u001b[0;32m     21\u001b[0m         \u001b[1;32mfor\u001b[0m \u001b[0maljob\u001b[0m \u001b[1;32min\u001b[0m \u001b[0mrange\u001b[0m\u001b[1;33m(\u001b[0m\u001b[0mlejsp\u001b[0m\u001b[1;33m)\u001b[0m\u001b[1;33m:\u001b[0m\u001b[1;33m\u001b[0m\u001b[0m\n\u001b[1;32m---> 22\u001b[1;33m             \u001b[0mh3\u001b[0m\u001b[1;33m(\u001b[0m\u001b[0mjsloaop\u001b[0m\u001b[1;33m[\u001b[0m\u001b[1;36m1\u001b[0m\u001b[1;33m]\u001b[0m\u001b[1;33m[\u001b[0m\u001b[1;34m'title'\u001b[0m\u001b[1;33m]\u001b[0m\u001b[1;33m)\u001b[0m\u001b[1;33m\u001b[0m\u001b[0m\n\u001b[0m\u001b[0;32m     23\u001b[0m \u001b[1;33m\u001b[0m\u001b[0m\n\u001b[0;32m     24\u001b[0m \u001b[1;33m\u001b[0m\u001b[0m\n",
      "\u001b[1;31mKeyError\u001b[0m: 1"
     ]
    }
   ],
   "source": [
    "doc = dominate.document(title='Ministry of Education Jobs')\n",
    "\n",
    "with doc.head:\n",
    "    link(rel='stylesheet', href='style.css')\n",
    "    script(type ='text/javascript', src='script.js')\n",
    "    #str(str2)\n",
    "    \n",
    "    with div():\n",
    "        attr(cls='header')\n",
    "        h1('Ministry of Education Jobs')\n",
    "        #p(img('imgs/getsdrawn-bw.png', src='imgs/getsdrawn-bw.png'))\n",
    "        #p(img('imgs/15/01/02/ReptileLover82-reference.png', src= 'imgs/15/01/02/ReptileLover82-reference.png'))\n",
    "        #h1('Updated ', strftime(\"%a, %d %b %Y %H:%M:%S +0000\", gmtime()))\n",
    "        #p(panz)\n",
    "        #p(bodycom)\n",
    "    \n",
    "    \n",
    "\n",
    "with doc:\n",
    "    with div(id='body'):\n",
    "        for aljob in range(lejsp):\n",
    "            h3(jsloaop[1]['title'])\n",
    "    \n",
    "        \n",
    "        \n",
    "        #for rdz in reliz:\n",
    "            #h1(rdz.title)\n",
    "            #a(rdz.url)\n",
    "            #p(img(rdz, src='%s' % rdz))\n",
    "            #print rdz\n",
    "            #p(img(rdz, src = rdz))\n",
    "            #p(rdz)\n",
    "\n",
    "\n",
    "                \n",
    "            #print rdz.url\n",
    "            #if '.jpg' in rdz.url:\n",
    "            #    img(rdz.urlz)\n",
    "            #else:\n",
    "            #    a(rdz.urlz)\n",
    "            #h1(str(rdz.author))\n",
    "            \n",
    "            #li(img(i.lower(), src='%s' % i))\n",
    "\n",
    "    with div():\n",
    "        attr(cls='body')\n",
    "        p('GetsDrawn is open source')\n",
    "        a('https://github.com/getsdrawn/getsdrawndotcom')\n",
    "        a('https://reddit.com/r/redditgetsdrawn')\n",
    "\n",
    "print doc"
   ]
  },
  {
   "cell_type": "code",
   "execution_count": 197,
   "metadata": {
    "collapsed": true
   },
   "outputs": [
    {
     "ename": "KeyError",
     "evalue": "0",
     "output_type": "error",
     "traceback": [
      "\u001b[1;31m---------------------------------------------------------------------------\u001b[0m",
      "\u001b[1;31mKeyError\u001b[0m                                  Traceback (most recent call last)",
      "\u001b[1;32m<ipython-input-197-1dd541aae108>\u001b[0m in \u001b[0;36m<module>\u001b[1;34m()\u001b[0m\n\u001b[1;32m----> 1\u001b[1;33m \u001b[0mnoranch\u001b[0m \u001b[1;33m=\u001b[0m \u001b[0mjsloaop\u001b[0m\u001b[1;33m[\u001b[0m\u001b[1;36m0\u001b[0m\u001b[1;33m]\u001b[0m\u001b[1;33m\u001b[0m\u001b[0m\n\u001b[0m",
      "\u001b[1;31mKeyError\u001b[0m: 0"
     ]
    }
   ],
   "source": [
    "noranch = jsloaop[0]"
   ]
  },
  {
   "cell_type": "code",
   "execution_count": 221,
   "metadata": {
    "collapsed": false
   },
   "outputs": [
    {
     "name": "stdout",
     "output_type": "stream",
     "text": [
      "Practice Advisor Speech and Language\n",
      "Special Education\n",
      "Auckland\n",
      "14-JUL-15\n",
      "Senior Advisor\n",
      "Education\n",
      "Unspecified\n",
      "13-JUL-15\n",
      "Shared Services Executive Support Officer\n",
      "Administration/Support Services\n",
      "Hamilton\n",
      "10-JUL-15\n",
      "Regional Technology Coordinator\n",
      "Special Education\n",
      "Unspecified\n",
      "09-JUL-15\n",
      "Speech Language Therapist\n",
      "Speech Language Therapist\n",
      "Wellington\n",
      "09-JUL-15\n",
      "Service Manager\n",
      "Special Education\n",
      "Otago\n",
      "09-JUL-15\n",
      "Practice Advisors\n",
      "Special Education\n",
      "Wellington\n",
      "09-JUL-15\n",
      "Senior Data Analyst\n",
      "Research & Analysis\n",
      "Wellington\n",
      "09-JUL-15\n",
      "Strategic ICT Business Advisor\n",
      "IT & computing\n",
      "Wellington\n",
      "09-JUL-15\n",
      "Analyst / Senior / Chief Policy Analysts\n",
      "Policy/Advisory\n",
      "Wellington\n",
      "07-JUL-15\n",
      "Student Achievement Function Practitioner English Medium\n",
      "Education\n",
      "Bay of Plenty\n",
      "07-JUL-15\n",
      "Analyst\n",
      "Research & Analysis\n",
      "Rotorua\n",
      "06-JUL-15\n",
      "Programme Leader, Year 9 Plus\n",
      "Education\n",
      "Gisborne\n",
      "06-JUL-15\n",
      "Team Leader\n",
      "Administration/Support Services\n",
      "Wellington\n",
      "06-JUL-15\n",
      "Senior Education Advisors\n",
      "Education\n",
      "Wellington\n",
      "03-JUL-15\n",
      "Executive Support Officer\n",
      "Administration/Support Services\n",
      "Whangarei\n",
      "02-JUL-15\n",
      "Senior Advisor\n",
      "Policy/Advisory\n",
      "Wellington\n",
      "01-JUL-15\n",
      "Psychologist - Gisborne\n",
      "Special Education\n",
      "Gisborne\n",
      "01-JUL-15\n",
      "Speech Language Therapist - Gisborne\n",
      "Special Education\n",
      "Gisborne\n",
      "30-JUN-15\n",
      "Manager Education\n",
      "Education\n",
      "Hamilton\n",
      "30-JUN-15\n",
      "Continuous Service Improvement Manager\n",
      "IT & computing\n",
      "Wellington\n",
      "25-JUN-15\n",
      "Service Manager\n",
      "Special Education\n",
      "Wellington\n",
      "17-JUN-15\n"
     ]
    }
   ],
   "source": [
    "for les in range(0, lejsp):\n",
    "    #print les\n",
    "    randa = jsloaop[str(les)]\n",
    "    print randa['title']\n",
    "    \n",
    "    print randa['Category']\n",
    "    print randa['Location']\n",
    "    \n",
    "    print randa['Date Advertised']\n",
    "    #print randa['time-advertised']"
   ]
  },
  {
   "cell_type": "code",
   "execution_count": null,
   "metadata": {
    "collapsed": true
   },
   "outputs": [],
   "source": []
  },
  {
   "cell_type": "code",
   "execution_count": 216,
   "metadata": {
    "collapsed": false
   },
   "outputs": [
    {
     "data": {
      "text/plain": [
       "{u'Business Unit': u'',\n",
       " u'Category': u'Special Education',\n",
       " u'Date Advertised': u'17-JUN-15',\n",
       " u'Job Reference': u'EDU/1166226',\n",
       " u'Job Title': u'Service Manager',\n",
       " u'Job Type': u'Full Time',\n",
       " u'Location': u'Wellington',\n",
       " u'Summary': u'',\n",
       " u'date-advertised': u'2015-07-14',\n",
       " u'date-closed': u'2015-07-28',\n",
       " u'doc': u'Service Manager jd (new format ).docx',\n",
       " u'filepath': u'/home/wcmckee/minedujob/21.json',\n",
       " u'link': u'http://jobs.minedu.govt.nz/jobtools/jncustomsearch.viewFullSingle?in_organid=17584&in_jnCounter=222573671&in_jobDate=All&in_searchbox=YES&in_summary=S#utm_source=JobRSS&utm_medium=JobRSS',\n",
       " u'time-advertised': u'13:21:53.195939',\n",
       " u'title': u'Service Manager'}"
      ]
     },
     "execution_count": 216,
     "metadata": {},
     "output_type": "execute_result"
    }
   ],
   "source": [
    "randa"
   ]
  },
  {
   "cell_type": "code",
   "execution_count": null,
   "metadata": {
    "collapsed": false
   },
   "outputs": [],
   "source": []
  },
  {
   "cell_type": "code",
   "execution_count": null,
   "metadata": {
    "collapsed": false
   },
   "outputs": [],
   "source": []
  },
  {
   "cell_type": "code",
   "execution_count": null,
   "metadata": {
    "collapsed": false
   },
   "outputs": [],
   "source": [
    "randa = jsloaop[str("
   ]
  },
  {
   "cell_type": "code",
   "execution_count": 203,
   "metadata": {
    "collapsed": true
   },
   "outputs": [],
   "source": [
    "randatez  = jsloaop[str(ranlej)]"
   ]
  },
  {
   "cell_type": "code",
   "execution_count": 204,
   "metadata": {
    "collapsed": true
   },
   "outputs": [
    {
     "data": {
      "text/plain": [
       "{u'Business Unit': u'',\n",
       " u'Category': u'Special Education',\n",
       " u'Date Advertised': u'17-JUN-15',\n",
       " u'Job Reference': u'EDU/1166226',\n",
       " u'Job Title': u'Service Manager',\n",
       " u'Job Type': u'Full Time',\n",
       " u'Location': u'Wellington',\n",
       " u'Summary': u'',\n",
       " u'date-advertised': u'2015-07-14',\n",
       " u'date-closed': u'2015-07-28',\n",
       " u'doc': u'Service Manager jd (new format ).docx',\n",
       " u'filepath': u'/home/wcmckee/minedujob/21.json',\n",
       " u'link': u'http://jobs.minedu.govt.nz/jobtools/jncustomsearch.viewFullSingle?in_organid=17584&in_jnCounter=222573671&in_jobDate=All&in_searchbox=YES&in_summary=S#utm_source=JobRSS&utm_medium=JobRSS',\n",
       " u'time-advertised': u'13:21:53.195939',\n",
       " u'title': u'Service Manager'}"
      ]
     },
     "execution_count": 204,
     "metadata": {},
     "output_type": "execute_result"
    }
   ],
   "source": [
    "randatez"
   ]
  },
  {
   "cell_type": "code",
   "execution_count": 205,
   "metadata": {
    "collapsed": true
   },
   "outputs": [
    {
     "data": {
      "text/plain": [
       "u'Service Manager'"
      ]
     },
     "execution_count": 205,
     "metadata": {},
     "output_type": "execute_result"
    }
   ],
   "source": [
    "randatez['title']"
   ]
  },
  {
   "cell_type": "code",
   "execution_count": 206,
   "metadata": {
    "collapsed": true
   },
   "outputs": [
    {
     "data": {
      "text/plain": [
       "u'Special Education'"
      ]
     },
     "execution_count": 206,
     "metadata": {},
     "output_type": "execute_result"
    }
   ],
   "source": [
    "randatez['Category']"
   ]
  },
  {
   "cell_type": "code",
   "execution_count": 207,
   "metadata": {
    "collapsed": true
   },
   "outputs": [
    {
     "ename": "KeyError",
     "evalue": "'email'",
     "output_type": "error",
     "traceback": [
      "\u001b[1;31m---------------------------------------------------------------------------\u001b[0m",
      "\u001b[1;31mKeyError\u001b[0m                                  Traceback (most recent call last)",
      "\u001b[1;32m<ipython-input-207-12f99825c085>\u001b[0m in \u001b[0;36m<module>\u001b[1;34m()\u001b[0m\n\u001b[1;32m----> 1\u001b[1;33m \u001b[0mrandatez\u001b[0m\u001b[1;33m[\u001b[0m\u001b[1;34m'email'\u001b[0m\u001b[1;33m]\u001b[0m\u001b[1;33m\u001b[0m\u001b[0m\n\u001b[0m",
      "\u001b[1;31mKeyError\u001b[0m: 'email'"
     ]
    }
   ],
   "source": [
    "randatez['email']"
   ]
  },
  {
   "cell_type": "code",
   "execution_count": 208,
   "metadata": {
    "collapsed": true
   },
   "outputs": [
    {
     "data": {
      "text/plain": [
       "u'Service Manager jd (new format ).docx'"
      ]
     },
     "execution_count": 208,
     "metadata": {},
     "output_type": "execute_result"
    }
   ],
   "source": [
    "randatez['doc']"
   ]
  },
  {
   "cell_type": "code",
   "execution_count": 209,
   "metadata": {
    "collapsed": true
   },
   "outputs": [
    {
     "data": {
      "text/plain": [
       "u'2015-07-14'"
      ]
     },
     "execution_count": 209,
     "metadata": {},
     "output_type": "execute_result"
    }
   ],
   "source": [
    "randatez['date-advertised']"
   ]
  },
  {
   "cell_type": "code",
   "execution_count": 210,
   "metadata": {
    "collapsed": true
   },
   "outputs": [
    {
     "data": {
      "text/plain": [
       "u'13:21:53.195939'"
      ]
     },
     "execution_count": 210,
     "metadata": {},
     "output_type": "execute_result"
    }
   ],
   "source": [
    "randatez['time-advertised']"
   ]
  },
  {
   "cell_type": "code",
   "execution_count": 119,
   "metadata": {
    "collapsed": false
   },
   "outputs": [],
   "source": [
    "for repol in repolis:\n",
    "    #print repol\n",
    "    grep = git.Repository('/home/wcmckee/github/' + repol)\n",
    "    #print grep.head\n",
    "    arez = grep.heads\n",
    "    for arval in arez.values():\n",
    "        lisoftweet.append(arval.message)\n",
    "        #print arval.comitter\n",
    "        #print arval.name\n",
    "        #print arval.tree\n",
    "        #print arval.refname\n",
    "        #print arval.author"
   ]
  },
  {
   "cell_type": "code",
   "execution_count": 120,
   "metadata": {
    "collapsed": false
   },
   "outputs": [
    {
     "data": {
      "text/plain": [
       "['Merge pull request #22 from NP-Hardass/mastermake pep8 fails due to missing newline at end of file',\n",
       " 'sav doc/title fix',\n",
       " 'return random item',\n",
       " 'Added facets_page and fixed unicode bug',\n",
       " 'rewrite bbknikola as ipynb2nikola',\n",
       " 'print all realms',\n",
       " 'minedujob',\n",
       " 'loop all enteries',\n",
       " 'minedujob',\n",
       " 'mem and rsync',\n",
       " 'Merge pull request #1 from bayazee/masterSome PEP8 applied']"
      ]
     },
     "execution_count": 120,
     "metadata": {},
     "output_type": "execute_result"
    }
   ],
   "source": [
    "lisoftweet"
   ]
  },
  {
   "cell_type": "code",
   "execution_count": null,
   "metadata": {
    "collapsed": true
   },
   "outputs": [],
   "source": [
    "result = merge(base, head)"
   ]
  },
  {
   "cell_type": "code",
   "execution_count": null,
   "metadata": {
    "collapsed": true
   },
   "outputs": [],
   "source": []
  },
  {
   "cell_type": "code",
   "execution_count": null,
   "metadata": {
    "collapsed": true
   },
   "outputs": [],
   "source": []
  },
  {
   "cell_type": "code",
   "execution_count": null,
   "metadata": {
    "collapsed": true
   },
   "outputs": [],
   "source": []
  },
  {
   "cell_type": "code",
   "execution_count": null,
   "metadata": {
    "collapsed": true
   },
   "outputs": [],
   "source": []
  },
  {
   "cell_type": "code",
   "execution_count": null,
   "metadata": {
    "collapsed": true
   },
   "outputs": [],
   "source": []
  },
  {
   "cell_type": "code",
   "execution_count": null,
   "metadata": {
    "collapsed": true
   },
   "outputs": [],
   "source": []
  },
  {
   "cell_type": "code",
   "execution_count": null,
   "metadata": {
    "collapsed": true
   },
   "outputs": [],
   "source": []
  },
  {
   "cell_type": "code",
   "execution_count": 61,
   "metadata": {
    "collapsed": false
   },
   "outputs": [],
   "source": [
    "grep = git.Repository('/home/wcmckee/github/ece-display/')"
   ]
  },
  {
   "cell_type": "code",
   "execution_count": 64,
   "metadata": {
    "collapsed": false
   },
   "outputs": [
    {
     "name": "stdout",
     "output_type": "stream",
     "text": [
      "{'refs/heads/master': <git.Commit \"1a26a886abfe2a04afdb84f3b059dbe05518075e\" at b14379f0>}\n"
     ]
    }
   ],
   "source": [
    "print grep.heads"
   ]
  },
  {
   "cell_type": "code",
   "execution_count": 70,
   "metadata": {
    "collapsed": false
   },
   "outputs": [
    {
     "data": {
      "text/plain": [
       "<bound method Repository.rev_list of <git.Repository \"/home/wcmckee/github/ece-display/.git\">>"
      ]
     },
     "execution_count": 70,
     "metadata": {},
     "output_type": "execute_result"
    }
   ],
   "source": [
    "grep.rev_list"
   ]
  },
  {
   "cell_type": "code",
   "execution_count": 80,
   "metadata": {
    "collapsed": false
   },
   "outputs": [],
   "source": [
    "grhead =  grep.head"
   ]
  },
  {
   "cell_type": "code",
   "execution_count": 81,
   "metadata": {
    "collapsed": false
   },
   "outputs": [
    {
     "data": {
      "text/plain": [
       "'loop all enteries'"
      ]
     },
     "execution_count": 81,
     "metadata": {},
     "output_type": "execute_result"
    }
   ],
   "source": [
    "grhead.message"
   ]
  },
  {
   "cell_type": "code",
   "execution_count": 73,
   "metadata": {
    "collapsed": false
   },
   "outputs": [
    {
     "name": "stdout",
     "output_type": "stream",
     "text": [
      "{'core.logallrefupdates': u'true', 'core.filemode': u'true', 'core.repositoryformatversion': u'0', 'branch.master.remote': u'origin', 'push.default': u'simple', 'user.email': u'will@artcontrol.me', 'core.bare': u'false', 'user.name': u'wcmckee', 'remote.origin.url': u'https://github.com/wcmckee/ece-display', 'branch.master.merge': u'refs/heads/master', 'remote.origin.fetch': u'+refs/heads/*:refs/remotes/origin/*'}\n"
     ]
    }
   ],
   "source": [
    "print grep.config"
   ]
  },
  {
   "cell_type": "code",
   "execution_count": 79,
   "metadata": {
    "collapsed": false
   },
   "outputs": [
    {
     "name": "stdout",
     "output_type": "stream",
     "text": [
      "<bound method Repository.clone of <git.Repository \"/home/wcmckee/github/ece-display/.git\">>\n"
     ]
    }
   ],
   "source": []
  },
  {
   "cell_type": "code",
   "execution_count": 57,
   "metadata": {
    "collapsed": false
   },
   "outputs": [
    {
     "ename": "TypeError",
     "evalue": "'module' object is not callable",
     "output_type": "error",
     "traceback": [
      "\u001b[1;31m---------------------------------------------------------------------------\u001b[0m",
      "\u001b[1;31mTypeError\u001b[0m                                 Traceback (most recent call last)",
      "\u001b[1;32m<ipython-input-57-ee65e3123f87>\u001b[0m in \u001b[0;36m<module>\u001b[1;34m()\u001b[0m\n\u001b[0;32m      6\u001b[0m         \u001b[1;31m# For all you know, the first argument to Repo is a path to the repository\u001b[0m\u001b[1;33m\u001b[0m\u001b[1;33m\u001b[0m\u001b[0m\n\u001b[0;32m      7\u001b[0m         \u001b[1;31m# you want to work with\u001b[0m\u001b[1;33m\u001b[0m\u001b[1;33m\u001b[0m\u001b[0m\n\u001b[1;32m----> 8\u001b[1;33m \u001b[0mrepo\u001b[0m \u001b[1;33m=\u001b[0m \u001b[0mrepository\u001b[0m\u001b[1;33m(\u001b[0m\u001b[1;33m)\u001b[0m\u001b[1;33m\u001b[0m\u001b[0m\n\u001b[0m\u001b[0;32m      9\u001b[0m \u001b[1;33m\u001b[0m\u001b[0m\n",
      "\u001b[1;31mTypeError\u001b[0m: 'module' object is not callable"
     ]
    }
   ],
   "source": [
    "#from git import Repo\n",
    "\n",
    "#join = os.path.join\n",
    "\n",
    "        # rorepo is a a Repo instance pointing to the git-python repository.\n",
    "        # For all you know, the first argument to Repo is a path to the repository\n",
    "        # you want to work with\n",
    "repo = repository()\n",
    "\n"
   ]
  },
  {
   "cell_type": "code",
   "execution_count": null,
   "metadata": {
    "collapsed": true
   },
   "outputs": [],
   "source": []
  },
  {
   "cell_type": "code",
   "execution_count": null,
   "metadata": {
    "collapsed": true
   },
   "outputs": [],
   "source": []
  },
  {
   "cell_type": "code",
   "execution_count": null,
   "metadata": {
    "collapsed": true
   },
   "outputs": [],
   "source": []
  },
  {
   "cell_type": "code",
   "execution_count": null,
   "metadata": {
    "collapsed": true
   },
   "outputs": [],
   "source": []
  },
  {
   "cell_type": "markdown",
   "metadata": {},
   "source": [
    "Python script to import json feed and display "
   ]
  },
  {
   "cell_type": "code",
   "execution_count": 2,
   "metadata": {
    "collapsed": true
   },
   "outputs": [],
   "source": [
    "opallj = open('/home/wcmckee/minedujob/minedujobs.json', 'r')"
   ]
  },
  {
   "cell_type": "code",
   "execution_count": 4,
   "metadata": {
    "collapsed": true
   },
   "outputs": [],
   "source": [
    "opalr = opallj.read()"
   ]
  },
  {
   "cell_type": "code",
   "execution_count": 11,
   "metadata": {
    "collapsed": false
   },
   "outputs": [],
   "source": []
  },
  {
   "cell_type": "code",
   "execution_count": 9,
   "metadata": {
    "collapsed": false
   },
   "outputs": [],
   "source": [
    "rdjsn = json.dumps(opalr)"
   ]
  },
  {
   "cell_type": "code",
   "execution_count": 16,
   "metadata": {
    "collapsed": false
   },
   "outputs": [
    {
     "name": "stdout",
     "output_type": "stream",
     "text": [
      "Github Username: wcmckee\n"
     ]
    }
   ],
   "source": [
    "gitusrn = raw_input('Github Username: ')"
   ]
  },
  {
   "cell_type": "code",
   "execution_count": 18,
   "metadata": {
    "collapsed": false
   },
   "outputs": [],
   "source": [
    "import getpass"
   ]
  },
  {
   "cell_type": "code",
   "execution_count": 20,
   "metadata": {
    "collapsed": false
   },
   "outputs": [
    {
     "name": "stdout",
     "output_type": "stream",
     "text": [
      "Github Password: ········\n"
     ]
    }
   ],
   "source": [
    "passfil = getpass.getpass('Github Password: ')"
   ]
  },
  {
   "cell_type": "code",
   "execution_count": 22,
   "metadata": {
    "collapsed": false
   },
   "outputs": [],
   "source": [
    "g = Github(gitusrn, passfil)"
   ]
  },
  {
   "cell_type": "code",
   "execution_count": 32,
   "metadata": {
    "collapsed": false
   },
   "outputs": [],
   "source": [
    "gwcm  = g.get_user('wcmckee')"
   ]
  },
  {
   "cell_type": "code",
   "execution_count": 35,
   "metadata": {
    "collapsed": false
   },
   "outputs": [
    {
     "data": {
      "text/plain": [
       "108"
      ]
     },
     "execution_count": 35,
     "metadata": {},
     "output_type": "execute_result"
    }
   ],
   "source": [
    "gwcm.public_repos"
   ]
  },
  {
   "cell_type": "code",
   "execution_count": 36,
   "metadata": {
    "collapsed": false
   },
   "outputs": [
    {
     "data": {
      "text/plain": [
       "u''"
      ]
     },
     "execution_count": 36,
     "metadata": {},
     "output_type": "execute_result"
    }
   ],
   "source": [
    "gwcm.company"
   ]
  },
  {
   "cell_type": "code",
   "execution_count": 37,
   "metadata": {
    "collapsed": false
   },
   "outputs": [
    {
     "data": {
      "text/plain": [
       "u'http://wcmckee.com'"
      ]
     },
     "execution_count": 37,
     "metadata": {},
     "output_type": "execute_result"
    }
   ],
   "source": [
    "gwcm.blog"
   ]
  },
  {
   "cell_type": "code",
   "execution_count": 39,
   "metadata": {
    "collapsed": false
   },
   "outputs": [],
   "source": [
    "gwcrep = gwcm.get_repos()"
   ]
  },
  {
   "cell_type": "code",
   "execution_count": 42,
   "metadata": {
    "collapsed": false
   },
   "outputs": [
    {
     "name": "stdout",
     "output_type": "stream",
     "text": [
      "https://api.github.com/repos/wcmckee/4chan-API/commits{/sha}\n",
      "https://api.github.com/repos/wcmckee/adypy/commits{/sha}\n",
      "https://api.github.com/repos/wcmckee/anim_framework/commits{/sha}\n",
      "https://api.github.com/repos/wcmckee/art-lastfm/commits{/sha}\n",
      "https://api.github.com/repos/wcmckee/artcontrol-api/commits{/sha}\n",
      "https://api.github.com/repos/wcmckee/AsylumJamCrushGame/commits{/sha}\n",
      "https://api.github.com/repos/wcmckee/autopaintpy123/commits{/sha}\n",
      "https://api.github.com/repos/wcmckee/bacongamejam05/commits{/sha}\n",
      "https://api.github.com/repos/wcmckee/battlenet/commits{/sha}\n",
      "https://api.github.com/repos/wcmckee/bbc2wp/commits{/sha}\n",
      "https://api.github.com/repos/wcmckee/bgj05-hungry/commits{/sha}\n",
      "https://api.github.com/repos/wcmckee/BirdCage/commits{/sha}\n",
      "https://api.github.com/repos/wcmckee/brobeur-static/commits{/sha}\n",
      "https://api.github.com/repos/wcmckee/brobeur-web/commits{/sha}\n",
      "https://api.github.com/repos/wcmckee/brobeurdotcom/commits{/sha}\n",
      "https://api.github.com/repos/wcmckee/BroBeurFishingDream/commits{/sha}\n",
      "https://api.github.com/repos/wcmckee/broLove/commits{/sha}\n",
      "https://api.github.com/repos/wcmckee/clint/commits{/sha}\n",
      "https://api.github.com/repos/wcmckee/cobal.eportfolio/commits{/sha}\n",
      "https://api.github.com/repos/wcmckee/coil/commits{/sha}\n",
      "https://api.github.com/repos/wcmckee/compohub/commits{/sha}\n",
      "https://api.github.com/repos/wcmckee/crouton/commits{/sha}\n",
      "https://api.github.com/repos/wcmckee/cv/commits{/sha}\n",
      "https://api.github.com/repos/wcmckee/DailyProgBot/commits{/sha}\n",
      "https://api.github.com/repos/wcmckee/DeltaBot/commits{/sha}\n",
      "https://api.github.com/repos/wcmckee/dockerfiles/commits{/sha}\n",
      "https://api.github.com/repos/wcmckee/ece-display/commits{/sha}\n",
      "https://api.github.com/repos/wcmckee/evennia/commits{/sha}\n",
      "https://api.github.com/repos/wcmckee/flask/commits{/sha}\n",
      "https://api.github.com/repos/wcmckee/flask-ghpages-example/commits{/sha}\n",
      "https://api.github.com/repos/wcmckee/garrison-wow-track/commits{/sha}\n",
      "https://api.github.com/repos/wcmckee/ggj14/commits{/sha}\n",
      "https://api.github.com/repos/wcmckee/hackage-server/commits{/sha}\n",
      "https://api.github.com/repos/wcmckee/hamiltoncomputerclub.org.nz/commits{/sha}\n",
      "https://api.github.com/repos/wcmckee/haskell-learn/commits{/sha}\n",
      "https://api.github.com/repos/wcmckee/HTML5-Tiny/commits{/sha}\n",
      "https://api.github.com/repos/wcmckee/html5lib-python/commits{/sha}\n",
      "https://api.github.com/repos/wcmckee/iamagamer/commits{/sha}\n",
      "https://api.github.com/repos/wcmckee/ihaskell-notebook/commits{/sha}\n",
      "https://api.github.com/repos/wcmckee/imgur-python/commits{/sha}\n",
      "https://api.github.com/repos/wcmckee/intercity/commits{/sha}\n",
      "https://api.github.com/repos/wcmckee/intro_programming/commits{/sha}\n",
      "https://api.github.com/repos/wcmckee/ipython-docker/commits{/sha}\n",
      "https://api.github.com/repos/wcmckee/ipython-hydra/commits{/sha}\n",
      "https://api.github.com/repos/wcmckee/lcacoffee/commits{/sha}\n",
      "https://api.github.com/repos/wcmckee/LD48-Skins/commits{/sha}\n",
      "https://api.github.com/repos/wcmckee/marshmallow/commits{/sha}\n",
      "https://api.github.com/repos/wcmckee/massive-wright/commits{/sha}\n",
      "https://api.github.com/repos/wcmckee/Minecraft/commits{/sha}\n",
      "https://api.github.com/repos/wcmckee/miniprojects/commits{/sha}\n",
      "https://api.github.com/repos/wcmckee/molyjam2013/commits{/sha}\n",
      "https://api.github.com/repos/wcmckee/niketa/commits{/sha}\n",
      "https://api.github.com/repos/wcmckee/nikola/commits{/sha}\n",
      "https://api.github.com/repos/wcmckee/openbay/commits{/sha}\n",
      "https://api.github.com/repos/wcmckee/opencompetencies/commits{/sha}\n",
      "https://api.github.com/repos/wcmckee/openfaux-server/commits{/sha}\n",
      "https://api.github.com/repos/wcmckee/ouya-unity-plugin/commits{/sha}\n",
      "https://api.github.com/repos/wcmckee/paintingautopy/commits{/sha}\n",
      "https://api.github.com/repos/wcmckee/piavs/commits{/sha}\n",
      "https://api.github.com/repos/wcmckee/pithos/commits{/sha}\n",
      "https://api.github.com/repos/wcmckee/prodo-game/commits{/sha}\n",
      "https://api.github.com/repos/wcmckee/Projects/commits{/sha}\n",
      "https://api.github.com/repos/wcmckee/puphpet/commits{/sha}\n",
      "https://api.github.com/repos/wcmckee/pyatakl/commits{/sha}\n",
      "https://api.github.com/repos/wcmckee/pybackupz/commits{/sha}\n",
      "https://api.github.com/repos/wcmckee/pydnz/commits{/sha}\n",
      "https://api.github.com/repos/wcmckee/pyladies/commits{/sha}\n",
      "https://api.github.com/repos/wcmckee/pymel/commits{/sha}\n",
      "https://api.github.com/repos/wcmckee/python-colourlovers/commits{/sha}\n",
      "https://api.github.com/repos/wcmckee/python-guide/commits{/sha}\n",
      "https://api.github.com/repos/wcmckee/python-pandora/commits{/sha}\n",
      "https://api.github.com/repos/wcmckee/python-patterns/commits{/sha}\n",
      "https://api.github.com/repos/wcmckee/pytm/commits{/sha}\n",
      "https://api.github.com/repos/wcmckee/pyunderdog/commits{/sha}\n",
      "https://api.github.com/repos/wcmckee/pywp-post/commits{/sha}\n",
      "https://api.github.com/repos/wcmckee/qahirah/commits{/sha}\n",
      "https://api.github.com/repos/wcmckee/qahirah_examples/commits{/sha}\n",
      "https://api.github.com/repos/wcmckee/raspi/commits{/sha}\n",
      "https://api.github.com/repos/wcmckee/RasPiWrite/commits{/sha}\n",
      "https://api.github.com/repos/wcmckee/RedditPress/commits{/sha}\n",
      "https://api.github.com/repos/wcmckee/reddit_bot/commits{/sha}\n",
      "https://api.github.com/repos/wcmckee/redtube/commits{/sha}\n",
      "https://api.github.com/repos/wcmckee/render-useful/commits{/sha}\n",
      "https://api.github.com/repos/wcmckee/RPIO/commits{/sha}\n",
      "https://api.github.com/repos/wcmckee/selfspy/commits{/sha}\n",
      "https://api.github.com/repos/wcmckee/signinlca/commits{/sha}\n",
      "https://api.github.com/repos/wcmckee/SketchDaily-GestureDrawing/commits{/sha}\n",
      "https://api.github.com/repos/wcmckee/skins/commits{/sha}\n",
      "https://api.github.com/repos/wcmckee/skywriter-hat/commits{/sha}\n",
      "https://api.github.com/repos/wcmckee/SortPictures/commits{/sha}\n",
      "https://api.github.com/repos/wcmckee/SoundWall/commits{/sha}\n",
      "https://api.github.com/repos/wcmckee/SuburbNightmare/commits{/sha}\n",
      "https://api.github.com/repos/wcmckee/te-whare-o-te-ata/commits{/sha}\n",
      "https://api.github.com/repos/wcmckee/TPB/commits{/sha}\n",
      "https://api.github.com/repos/wcmckee/Triger/commits{/sha}\n",
      "https://api.github.com/repos/wcmckee/tweepy/commits{/sha}\n",
      "https://api.github.com/repos/wcmckee/unicorn-hat/commits{/sha}\n",
      "https://api.github.com/repos/wcmckee/UnityLuaIntegration/commits{/sha}\n",
      "https://api.github.com/repos/wcmckee/vagrantboxes-heroku/commits{/sha}\n",
      "https://api.github.com/repos/wcmckee/vIPer/commits{/sha}\n",
      "https://api.github.com/repos/wcmckee/wcmckee/commits{/sha}\n",
      "https://api.github.com/repos/wcmckee/wcmckee-notebook/commits{/sha}\n",
      "https://api.github.com/repos/wcmckee/wcmckee.com/commits{/sha}\n",
      "https://api.github.com/repos/wcmckee/wcmckee.github.io/commits{/sha}\n",
      "https://api.github.com/repos/wcmckee/wcmStringPY/commits{/sha}\n",
      "https://api.github.com/repos/wcmckee/wirepil/commits{/sha}\n",
      "https://api.github.com/repos/wcmckee/xboxdrv/commits{/sha}\n",
      "https://api.github.com/repos/wcmckee/zookeepr/commits{/sha}\n"
     ]
    }
   ],
   "source": [
    "for gw in gwcrep:\n",
    "    print gw."
   ]
  },
  {
   "cell_type": "code",
   "execution_count": null,
   "metadata": {
    "collapsed": true
   },
   "outputs": [],
   "source": []
  },
  {
   "cell_type": "code",
   "execution_count": null,
   "metadata": {
    "collapsed": true
   },
   "outputs": [],
   "source": []
  },
  {
   "cell_type": "code",
   "execution_count": 28,
   "metadata": {
    "collapsed": false
   },
   "outputs": [
    {
     "name": "stdout",
     "output_type": "stream",
     "text": [
      "**Grit is no longer maintained. Check out libgit2/rugged.** Grit gives you object oriented read/write access to Git repositories via Ruby.\n",
      "Merb Core: All you need. None you don't.\n",
      "The Rubinius Language Platform\n",
      "Ruby process monitor\n",
      "Awesome JSON\n",
      "A JavaScript BDD Testing Library\n",
      "Unmaintained. Sorry.\n",
      "include Enumerable — Unmaintained\n",
      "Generates common user authentication code for Rails/Merb, with a full test/unit and rspec suite and optional Acts as State Machine support built-in.\n",
      "Treat an ActiveRecord model as a file attachment, storing its patch, size, content type, etc.\n",
      "A benchmarking helper for httperf.\n",
      "SUPER OLD STUFF\n",
      "psuedo s3 protocol for mozilla browsers\n",
      "The solution for tabitus of the browser \n",
      "firefox trac integration\n",
      "Flash photo widget prototype - hacked at last SHDH of 2007\n",
      "A realtime, OpenGL graphing library for Ruby\n",
      "\n",
      "Merb More: The Full Stack. Take what you need; leave what you don't.\n",
      "A very fast & simple Ruby web server\n",
      "Rails RESTful controller abstraction plugin.\n",
      "Markaby patched to run on rails 2.0.2\n",
      "\n",
      "Subtlety: SVN => RSS, hAtom => Atom\n",
      "Zippy lil’ zipcode lib.\n",
      "Ghost from Christmas past. Unmaintained.\n",
      " A ruby library to inexpensively emit runtime events via Dtrace\n",
      "(offically at github.com/sinatra/sinatra) Classy web-development dressed in a DSL\n",
      "Prototype/Javascript wrapper for the Google Search Appliance Search Protocol. Fancy cross-domain JSON support included.\n",
      "Syncs one directory to another (example: a git project to an svn repo)\n",
      "Proof of concept Lazy-Loading for ActiveRecord. Inspired by the 'kickers' of Ambition.\n",
      "A Ruby wrapper for the Google Search Appliance Feeds Protocol\n",
      "Ruby API wrapper for the TiVoToGo protocol. Use it to access a list of recorded shows and programs on your Tivo.\n",
      "Mofo was a fast and simple microformat parser, based on a concise DSL and Hpricot. No longer maintained.\n",
      "Rails helper to XHTML-ize chunks of user submitted HTML. For the standardista in all of us\n",
      "Ruby/Git is a Ruby library that can be used to create, read and manipulate Git repositories by wrapping system calls to the git binary.\n",
      "Fast string searcher, useful for multi-part post parsing\n",
      "Mofo is a fast and simple microformat parser, based on a concise DSL and Hpricot.\n",
      "A simple, non-invasive, approach to versioning ActiveRecord models\n",
      "GChart exposes the Google Chart API (http://code.google.com/apis/chart) via a friendly Ruby interface. It can generate the URL for a given chart (for webpage use), or download the generated PNG (for offline use).\n",
      "A DSL for creating schema documents in ruby\n",
      "A Ruby interface to the Open Calais API (http://opencalais.com)\n",
      "Chronic is a pure Ruby natural language date parser.\n",
      "A quick & dirty git-powered Sinatra wiki\n",
      "Ambition adapter for ActiveLdap\n",
      "The easy to use rails wiki\n",
      "Ruby on Rails TextMate bundle [Learn it with PeepCode - http://peepcode.com/products/textmate-for-rails-2]\n",
      "A jQuery plugin version of the Low Pro behavior framework.\n",
      "Merb Core: All you need. None you don't.\n",
      "todo-list manager I wrote back in 2008 with the help of Gregory Brown in order to learn Ruby and TDD\n",
      "YAWS is an erlang web server\n",
      "YAWS is an erlang web server\n",
      "Some more or less useful rake tasks. Includes tasks to work with git-cvs, convert an Atom collection to a blog, post to an AtomPub server and more.\n",
      "Ruby on Rails TextMate bundle [master branch is svn trunk; patches to drnicwilliams@gmail.com]\n",
      "Ruby on Rails TextMate bundle [master branch is svn trunk; patches to drnicwilliams@gmail.com]\n",
      "A Ruby Gem that gives you full access to several of the Amazon Web Services API from your Ruby/Ruby on Rails apps\n",
      "A Merb Blogging &amp; Publishing Platform using Merb, DataMapper, haml and jQuery.\n",
      "Merb + Webgen CMS system that has dynamic routing, Nginx config and static site generation with haml/sass/erb/... support.\n",
      "AlogR is a threadsafe non-blocking asynchronous configurable logger for Ruby.\n",
      "AutoZest is an autotest addon that: * automated growl installation * generation of .autotest with growl & autozest config * generation of .autozest.yml config file * autozest.sqlite3 database file for pulling random messages based on severity\n",
      "Command line utility and library for working with Nginx configuration scripts.\n",
      "Sequel ORM\n",
      "A simple, non-invasive, approach to versioning ActiveRecord models\n",
      "SwitchPipe is a backend process manager and HTTP proxy that makes (especially Ruby) web app deployment simple. NOW OBSOLETE. DO NOT USE.\n",
      "My arc repo\n",
      "eBay4R is a Ruby wrapper for eBay's Web Services SOAP API\n",
      "Merb Plugins: Even more modules to hook up your Merb installation\n",
      "Ruby Asset Manager\n",
      "Ambition adapter for ActiveLdap\n",
      "A Rails Plugin for adding a simple health check to your application\n",
      "my personal blog written with django\n",
      "Tools for processing credit cards on the command line\n",
      "Rorem is a random data generator\n",
      "Simple tool to help track vendor branches in a Git repository.\n",
      "UploadColumn is no longer maintained, check out CarrierWave for an alternative\n",
      "Ruby on Rails TextMate bundle [master branch is svn trunk; patches to drnicwilliams@gmail.com]\n",
      "OUTDATED mirror of Rack's darcs repository, use github.com/chneukirchen/rack\n",
      "(experimental) Mirror of the coset darcs repository\n",
      "JavaScript Unit Test TextMate Bundle [for prototype's unittest.js library]\n",
      "Engine Yard specific capistrano recipes\n",
      "basic darcsum feelalike for Git\n",
      "\n",
      "Sequel::Model (No longer working on this project)\n",
      "Ruby process monitor\n",
      "blerb running on merb-core\n",
      "utilities for implementing a modified pre-order traversal tree in django\n",
      "a Scheme written in Ruby, but implemented on the bus!\n",
      "Useful pieces of JavaScript.  Some old, some new.\n",
      "Ruby parsers for some Adobe file formats.\n",
      "Easy and customizable generation of forged data.\n",
      "Ambition adapter for Sphinx\n",
      "I suppose it's a document database. Or a tuple store. But really, it's just data sloshing around, waiting to be used.\n",
      "Ruby on Rails\n",
      "An Io web framework of sorts\n",
      "A Capistrano extension for managing and running your app on Amazon EC2.\n",
      "Starling Message Queue\n",
      "The Atom Protocol Exerciser\n",
      "Collective Idea's Awesomeness.  A collection of useful Rails bits and pieces.\n",
      "Audited (formerly acts_as_audited) is an ORM extension that logs all changes to your Rails models.\n",
      "Simple geocoding for Active Record models\n",
      "an Active Record plugin that makes it easier to work with the money gem\n",
      "\n",
      "When Active Record objects are saved from a form, empty fields are saved as empty strings instead of nil.  This kills most validations.\n",
      "A Rails plugin that disables all CSS on CSS Naked Day\n",
      "Authenticate your Rails app using any IMAP server!\n",
      "A Rails plugin that allows quick and easy fetching of random records, or records in random order.\n",
      "A respond_to style helper for doing different actions based on which request parameters are passed.\n",
      "Graticule is a geocoding API for looking up address coordinates and performing distance calculations, supporting many popular APIs.\n",
      "Tinder is a Ruby API for interfacing with Campfire, the 37Signals chat application.\n",
      "The invisible framework\n",
      "Starting out a suite of test-developed tools for solving boring social network portability tasks.\n",
      "Ruby replacement for bash+ssh\n",
      "Rake in Io.\n",
      "JSON Web App Framework [NOT UNDER ACTIVE DEVELOPMENT]\n",
      "CruiseControl.rb is a continuous integration tool, written in Ruby. It is quick to install, simple to use and easy to hack.\n",
      "(Unofficial) RELAX NG schema to specify the construction and meaning of OPML 1.0 and 2.0 documents.\n",
      "Ruby-native RDF library\n",
      "Ruby API for the YouTube REST API\n",
      "Facebook-style lightbox, built in jQuery\n",
      "HTML Abstraction Markup Language - A Markup Haiku\n",
      "Keep it stupid simple Generator\n",
      "our hacks to exception_logger\n",
      "BrainBuster - a logic captcha for Rails\n",
      "Super streamlined memory profiler with real time graphs for Ruby programs\n",
      "Linthicum\n",
      "Textilize plugin for rails, based on PermalinkFu\n",
      "Rails-based content management system/framework\n",
      "Magic configuration for your nginx, mongrels and god!\n",
      "Ruby process monitor\n",
      "newjs - create new JavaScript libraries\n",
      "A Ruby interface to the Twitter API.\n",
      "[DEAD] Google Base Auth Class is a base for authenticating to google and making requests to google services.\n",
      "[DEAD AND UNMAINTAINED] Wrapper for Google Reader's undocumented and possibly \"unstable\" API. By unstable, I mean if they haven't documented it, then they could change it at anytime without notice.\n",
      "[DEAD] Mirrored is a wrapper for the mirrored del.icio.us and ma.gnolia apis.\n",
      "[DEAD] Scrobbler is a wrapper for the audioscrobbler (last.fm) web services.\n",
      "Ever get tired of opening up lipsum.com, filling out a form and waiting for it to give you your filler text? Yeah, me too. I threw this together in an hour to generate lipsum text from the command line.\n",
      "[DEAD AND UNMAINTAINED] StatWhore is for the stat addict in all of us. Eventually it will become a ruby wrapper for several web stat services apis. Initially, it will cover Google Analytics and Feedburner.\n",
      "This plugin provides a flexible way to add authorization to Rails. \n",
      "JavaScript helper libraries for unit testing\n",
      "ERB templates for Mephisto\n",
      "Don't use this anymore, use maddox/imdb-party\n",
      "This Rails plugin extends ActiveRecord::Base to add automatic updating of created_by and updated_by attributes of your models in much the same way that the ActiveRecord::Timestamp module updates created_(at/on) and updated_(at/on) attributes.\n",
      "matzbot is nice so we are nice\n",
      "Ruby port of Programming Collective Intelligence\n",
      "Exposure is a Rails-based photo blog/album, intended to be a starter kit for programmers\n",
      "Packet is a Library for Event Driven Network Programming in Ruby\n",
      "Reading Glasses for the Web\n",
      "A quick & dirty git-powered Sinatra wiki\n",
      "Merb Core: All you need. None you don't.\n",
      "testin\n",
      "An irc bot written in io. To learn and stuff\n",
      "A Ruby mixin to determine whether an object's values are blank with examples for Arrays and Hashes.\n",
      "LINKS TO Merb plugins that make the transition from Rails a little bit easier\n",
      "A Ruby on Rails plugin for OpenID authentication and profile exchange \n",
      "Ruby Wrapper for the portmidi c library\n",
      "The greatest jotting web app of all time\n",
      "simple mongrel handler for a sweet hit counter\n",
      "jQuery Autocomplete plugin\n",
      "\n",
      "Rails app for controlling instances of other Rails apps on a server. Useful if you have lots of little apps that you want to turn on and off at various times.\n",
      "Sinatra app that pushes your Github Commit info to Campfire\n",
      "Merb More: The Full Stack. Take what you need; leave what you don't.\n",
      "Merb Core: All you need. None you don't.\n",
      "Blanket is a flexible backup framework designed to get the drudgery out of the way and to make automated backups easy.\n",
      "Merb More: The Full Stack. Take what you need; leave what you don't.\n",
      "Hookin-based RubyPorts system\n",
      "vocab trainer\n",
      "DumbApp is a simple AtomPub (RFC 5023) implementation based on Mongrel and ActiveRecord.\n",
      "A lightweight web framework for Erlang. Not very complete.\n",
      "Micro-blog with erubis and markdown and auto-publishing with git commit hook (in about 20 lines of code)\n",
      "I'm just copying this too look at it\n",
      "An integrated replacement for Mongrel+Revproxy systems in erlang\n",
      "Embedded 'reply' links in blog comments\n",
      "Tumblr is a simple Ruby script that aggregates RSS feeds into a \"tumblelog\"-style format, in static files.\n",
      "my random codes\n",
      "The Ruby barcode generator\n",
      "A mini blog engine in Sinatra with hAtom and MetaWeblog API\n",
      "JavaScript Unit Test suite; no dependencies (but same API as prototypejs' unittest suite)\n",
      "Database backed asynchronous priority queue -- Extracted from Shopify \n",
      "\n",
      "Chronic is a pure Ruby natural language date parser.\n",
      "Access the Get Satisfaction API using Ruby\n",
      "Legacy code from the original llor.nu site\n",
      "Your favorite URL-shortening service in all of Ruby land\n",
      "\n",
      "A simple Rails application demoing using Google Charts\n",
      "DataMapper\n",
      "El Dorado is a full-stack community web application written in Ruby/Rails.\n",
      "Updated Attachment Fu plugin including support for Core Image under Mac OSX\n",
      "Some [hopefully] useful extensions to Ruby’s String class. It is made up of three libraries: ActsAsUrl [permalink solution with better character translation], Unidecoder [Unicode to Ascii transliteration], and StringExtensions [miscellaneous helper methods for the String class].\n",
      "The personal site software thing\n",
      "Merb Core: All you need. None you don't.\n",
      "A wiki engine that uses a Git repository as its data store.\n",
      "A Finnish version of the Chronic natural language time parsing library\n",
      "a Scheme written in Ruby, but implemented on the bus!\n",
      "A fork of the bindata project, with some custom extensions\n",
      "Personal bookshelf application, rails based.\n",
      "StrokeDB is an embeddable distributed document database written in Ruby\n",
      "a Scheme written in Ruby, but implemented on the bus!\n",
      "A very basic site framework that uses HAML, YAML, Markdown, SmartyPants, and PHP.  There will be an admin interface at some point.\n",
      "Recipes to get your app up and running quickly and easily.\n",
      "Rails plugin to build a simple calendar scaffold, with events signified by class names added to the day.\n",
      "A rails plugin that simulates some of the old scaffold funcionality, but using RESTful controllers, will_paginate for pagination and enforces the model first approach\n",
      "The lightweight gemspec editor.\n",
      "My Montreal on Rails 7 presentation of Thin\n",
      "Personal blog code\n",
      "A Haml clone built using the Treetop parser generator\n",
      "Merb Core: All you need. None you don't.\n",
      "\n",
      "Enrollment app for San Carlos Charter Learning Center\n",
      "OS X: displays recent CPU usage in the Dock or a floating window\n",
      "Simple tool for managing vendor branches across different SCMs\n",
      "A merb port of the attachment_fu Rails plugin\n",
      "ec2 extension for firefox\n",
      "A quick & dirty git-powered Sinatra wiki\n",
      "An awesome replacement for acts_as_nested_set and better_nested_set.\n",
      "A Rails plugin that lets you embed actions in your views (with caching and response_to support)\n",
      "Set of convenience libraries for use in various applications from cryptography to configuration\n",
      "Viper - Community module\n",
      "\n",
      "A Rubycocoa GUI for tailing Ruby on Rails log files\n",
      "Plugins for text-link-ads in mephisto blogging engine\n",
      "Yeti eats teh images\n",
      "This is not needed anymore\n",
      "A 'planet' like feed aggregator using feedparser and erubis\n",
      "Webby blogging \"engine\"\n",
      "Ruby wrapper for Yahoo!'s FireEagle\n",
      "Support for multiple SMTP servers in ActionMailer\n",
      "general examples / poc code i have created or ran across\n",
      "Io programming language\n",
      "rvideo - jaikoo edition with extra wizzy bits such as transcode progress\n",
      "Social network to share scanned album arts from CDs they own - views are in Portuguese (Brazil)\n",
      "Ruby on Rails TextMate bundle [master branch is svn trunk; patches to drnicwilliams@gmail.com]\n",
      "A jQuery port of the humanized dialog display technique. (http://www.humanized.com/weblog/2006/09/11/monolog_boxes_and_transparent_messages/)\n",
      "\n",
      "This plugin allows you to create 'scenarios' which are collections of fixtures and ruby files that represent a context against which you can run tests.\n",
      "All my Rails plugins bundled up.\n",
      "Adds a semblance of performance to Ruby's core Date class ...\n",
      "A attempt to make SSL client certificate authentication with rails painless\n",
      "private member portal for churches, built with Ruby on Rails\n",
      "I am Jacks PHP framework.\n",
      "An asynchronous XMPP library -- UNMAINTAINED\n",
      "Its a web UI for for ruby faker gem\n",
      "A jQuery plugin for Morphic programming\n",
      "Rails project template\n",
      "WoW Addon - Powerleveling guide framework\n",
      "My Config Files\n",
      "Open source forum - done *different*\n",
      "Direct Connect bot written in Ruby\n",
      "A short heavy stick\n",
      "blogware that fits in your pocket\n",
      "Page caching extension of Shopify\n",
      "simple blogging theme for mephisto and blogger\n",
      "iCal To Do scheduler for Leopard\n",
      "jquey plugin: a mix between facebox &amp; catfish. message alert.\n",
      "A python application for following the US primaries\n",
      "A fork of todo.py that commits all changes into a git repository.\n",
      "Merb Core: All you need. None you don't.\n",
      "Merb More: The Full Stack. Take what you need; leave what you don't.\n",
      "Merb Plugins: Even more modules to hook up your Merb installation\n",
      "The new Asterisk Manager Interface implementation that uses Ragel and EventMachine\n",
      "test\n",
      "a blog hub (a daemon that aggregate items and re-publish them on differents platforms) : an attempt for a one4all blogging system\n",
      "A RESTful Blog API written in Merb\n",
      "Generates common user authentication code for Rails/Merb, with a full test/unit and rspec suite and optional Acts as State Machine support built-in.  Added support for Oracle SSO authentication.\n",
      "Facebook-style lightbox, built in jQuery\n",
      "General Code Snippets\n",
      "\n",
      "Pagination library for Rails, Sinatra, Merb, DataMapper, and more\n",
      "Simple social graph javascript viewer.  Uses the Google Social Graph API\n",
      "vi wannebe written in ruby\n",
      "A static file dynamically generated website backend\n",
      "[ABANDONED] New development on the Ruby bindings for the GNU Scientific Library\n",
      "YARD is a Ruby Documentation tool. The Y stands for \"Yay!\"\n",
      "  Castanaut lets you write executable scripts for your screencasts. With a simple dictionary of stage directions, you can create complex interactions with a variety of applications.\n",
      "Ruby TextMate bundle\n",
      "HTML TextMate bundle\n",
      "nFlux-Orb\n",
      "Restaurant mashup site\n",
      "An easy way to create Permalinks.\n",
      "Sprinkle is a software provisioning tool you can use to build remote servers with. eg. to install a Rails, or Sinatra stack on a brand new slice directly after its been created\n",
      "Lets you insert a Deezer player in your blog using Windows Live Writer\n",
      "IRB Power User Utility Belt\n",
      "Attempt to add SSL client certificate support to the restful_authenctication plugin\n",
      "A utility to supplement GNU Screen, easing use of custom configurations, packaged as a RubyGem.\n",
      "\n",
      "Gem for parsing names into first, last, middle, prefix and suffix\n",
      "nonlinear robust optimizer of zone-based parametric GMVE coefficients in Matlab \n",
      "copy of ext_scaffold\n",
      "Rails application for building event lists and calendars using the Spongecell API\n",
      "an amazing widget manager for an awesome window manager\n",
      "Ruby interface to the Merlin API\n",
      "Misc GUI widget factories for World of Warcraft addons\n",
      "Ruby interface to the IDology API\n",
      "\n",
      "Core data server for BioBrick format\n",
      "BookEater.net\n",
      "Facon is a mocking library in the spirit of the Bacon spec library. Small, compact, and works with Bacon.\n",
      "A Rakefile that makes static website creation and deploying stupid simple\n",
      "Initial source code for ruby nomic games\n",
      "A quick and dirty dependency finder for your Ruby projects\n",
      "Alex Coles Portfolio\n",
      "NO LONGER SUPPORTED - Ruby interface to the Clickatell SMS Gateway API\n",
      "Haskell-style monad do-notation for Ruby\n",
      "A Web Photo Gallery, written with Rails 2.0. Pictrails can manage several photo galleries.\n",
      "Annotate ActiveRecord models as a gem\n",
      "Create \n",
      "Tema para wordpress\n",
      "Travis Vachon's clone of the Cosmo Subversion tree\n",
      "A Subversion post-commit hook that will edit FogBugz cases using Trac-like keywords\n",
      "HTML Abstraction Markup Language - A Markup Haiku\n",
      "Utility for inlining unit tests with the code under test.\n",
      "\n",
      "A cross platform media player using wxPython and pyglet\n",
      "Axiom is a free, open source computer algebra system\n",
      "A SimPy simulation for a fully Decentralised Economic ALlocation mechansim\n",
      "test\n",
      "A simple game revolving around pushing circles around on a table like surface.\n",
      "\n",
      "A system for creating fast, reusable parsers\n",
      "A fast version of recs-collate\n",
      "A Family Budget application\n",
      "JavaScript jQuery.tmbundle\n",
      "A module that adds Markaby functionality to any class\n",
      "A binding between erlang and mzscheme.\n",
      "An automatic way to convert videos and put them on your iPod\n",
      "A binding between erlang and mzscheme.\n",
      "some python related utilities like py2cc\n",
      "Open source photo gallery in Rails\n",
      "A content management system developed in Django, jQuery and 960\n",
      "a visual approach to the us election\n",
      "A completely Lua-scriptable roguelike engine\n",
      "jQuery is a fast, concise, JavaScript Library that simplifies how you traverse HTML documents, handle events, perform animations, and add Ajax interactions to your web pages. jQuery is designed to change the way that you write JavaScript.\n",
      "PHP SQL console/editor that never forgets a query\n",
      "`github` command line helper for simplifying your GitHub experience.\n",
      "A perl script for renaming music files dependent on their tags.\n",
      "Several scripts, useful for people using UNIX-like systems.\n",
      "An Bittorrent Client for Emacs\n",
      "Roles/Traits for Python\n",
      "social media sharing web application\n",
      "UGE is a python text-based, rouge-like, game engine using OpenGL.\n",
      "Random number generation for common lisp\n",
      "Merb Core: All you need. None you don't.\n",
      "My PhD thesis\n",
      "Rails plugin adding a set of \"db:console\" tasks \n",
      "Merb Core: All you need. None you don't.\n",
      "Quickly rename TV Series files\n",
      "utilities for implementing a modified pre-order traversal tree in django\n",
      "Convert a mizar article to common logic format\n",
      "\n",
      "Gemedit lets you quickly open up the source for a gem in your favorite editor.\n",
      "AASM - State machines for Ruby classes (plain Ruby, ActiveRecord, Mongoid, MongoMapper)\n",
      "\n",
      "Solves the mortal coil game (check http://hacker.org/coil/)\n",
      "This plugin allows you to create 'scenarios' which are collections of fixtures and ruby files that represent a context against which you can run tests.\n",
      "Process title support for Mongrel (GemPlugin)\n",
      "A JSON reader and writer library using GLib and GObject\n",
      "Flickr like web application for pictures, build offline at Railscamp 2.0 in Bacchus Marsh, Australia\n",
      "Classy web-development dressed in a DSL\n",
      "The ~/.vim directory that we share at work\n",
      "Personal blog software written with Merb\n",
      "Ruby image manipulation library utilizing Core Image\n",
      "Screen capture tool for OSX\n",
      "translation wiki\n",
      "Paper for special issue of European Journal of Philosophy\n",
      "Ruby extension to support execution of python\n",
      "Configure Rails To Use Gmail's SMTP\n",
      "System automation tool\n",
      "AshLeaf Media version of FamilyFellowship.com\n",
      "some Information Retrieval and Data Mining source I've been kicking around\n",
      "Some lilypond scores I work on.\n",
      "Email Veracity is deprecated and has not been actively maintained for over 6 years.\n",
      "Tempo is a simple team tracking application with a hint of social networking. It focuses on the simple use of a WYSIWYG editor over Wiki syntax so that business users can be involved in the process of editing content to share tribal knowledge as well as communicating project statuses.\n",
      "Git mirror of the Weblocks web application framework for Common Lisp\n",
      "the code for the ppc port of event horizon cocoa game \n",
      "\n",
      "Merb Plugins: Even more modules to hook up your Merb installation\n",
      "DEVELOPMENT DISCONTINUED: Consider using Spree (repo: http://github.com/railsdog/spree) instead.\n",
      "fork of git://gitorious.org/enki/mainline.git\n",
      "Manage DNS Records and Zones for powerdnsd and others with django.\n",
      "Publish to enki with VIM. That's pretty neat.\n",
      "Cheese is a set of ruby scripts available to all under the MIT license. They reduce the steps needed to administrate a web server using nginx, svn and mongrel.\n",
      "Here lies the code I created for my own nefarious purposes\n",
      "DEPRECATED! Use http://github.com/yolk/mite-rb instead.\n",
      "persistent ssh connection and tunnel manager\n",
      "\n",
      "IRC linkdump webpage\n",
      "A no longer maintained CMS that was used for various groups at Audenshaw School, namely audfairtrade.co.nr, audyamnesty.co.nr and adfa.co.nr\n",
      "Scripts for the camarabuntu distrobtion\n",
      "social calendaring web app for conferences\n",
      "GentleREST is a lightweight web application framework for perfectionists. It is optimized for security, reliability, and speed, in that order.  NOTE: Abandoned in favor of Sinatra.\n",
      "A Ruby-based parsing DSL based on parsing expression grammars.\n",
      "Puppet is a declarative language for expressing system configuration, a client and server for distributing it, and a library for realizing the configuration.\n",
      "A proof-of-concept app to descend the \"del.icio.us will eat itself\" tree\n",
      "PHP5 Unit Testing Framework\n",
      "Download free music from SXSW\n",
      "my code for solving np complete problems in linear time\n",
      "rails plugin that marks a model as exclusive to a certain owner\n",
      "An wonderful analog clock\n",
      "Database abstraction layer in PHP5\n",
      "A simple, asynchronous, single-threaded memcached client written in java.\n",
      "Yet Another Cleaner tool for Gentoo\n",
      "are you using a good browser or a bad browser? browser detection with ruby sinatra and javascript\n",
      "have_tag() without Rails' assert_select()\n",
      "A buildbot GUI for OS X\n",
      "A ruby client for freebase\n",
      "Behaviour Driven Development framework for Ruby\n",
      "A ruby client for freebase\n",
      "An FF extension that builds FF extensions (most specifically for Flock Content Pack, but can be tweaked easily).\n",
      "The official `github` command line helper for simplifying your GitHub experience.\n",
      "The Notation3 TextMate bundle seems to have been abandoned. I'm hosting it here and maybe hacking on it in future\n",
      "a git daemon running over the native protocol\n",
      "Functional is a library for functional programming in JavaScript. It defines the standard higher-order functions such as map, reduce (aka foldl), and select (aka filter). It also defines functions such as curry, rcurry, and partial for partial function application; and compose, guard, and until for function-level programming.\n",
      "Sequentially is a library of temporal and frequency adverbs for JavaScript. It provides methods to queue a function for deferred or periodic execution, and to throttle the rate or number of times that a function can be called. You could think of it as a kind of memoization, where instead of caching the result it modifies when and whether a function is called.\n",
      "Python FSA constructor, determinizer, and minimizer.\n",
      "Fluent programming (chained method calls) for JavaScript.\n",
      "A mirror of the mephisto code-base\n",
      "A refactored Mephisto that has multiple spam detection engines.\n",
      "Pedal to the metal manual profiler\n",
      "Ruby frontend to the Feedburner Awareness API\n",
      "My photo album project.\n",
      "A chess hax in ruby\n",
      "Short, sweet, standalone Javascript.\n",
      "django-threadedcomments is a simple yet flexible threaded commenting system for Django.\n",
      "Guitarzero is a high score management web application for Guitar Hero!\n",
      "A python implementation of Grapevine\n",
      "Crack Attack! is a fast-paced puzzle game inspired by the classic Super NES title Tetris Attack!\n",
      "Mama Filesystem: Market data financial information from a Wombat feedhandler provided by access via the native linux file access utils based on the FUSE api\n",
      "A chess hax in ruby\n",
      "Score Keeper is no longer maintained. See scority.com.\n",
      "Not scaffolding. Resourcing. Creates extremely customizable resource controllers with one line of code.\n",
      "Google Picasa Ruby interface and album mirror (to use picasa as an off-site image cms without hotlinking) \n",
      "ODBC compatible MySQL Erlang port driver, using libmysqlclient.\n",
      "A few tools I've written to aid development and production of my WordPress theme, Tarski.\n",
      "Warbler chirpily constructs .war files of your Ruby applications.\n",
      "Very simplistic one-way file synchronization\n",
      "Flurry screensaver\n",
      "A dummy project that's HW for a class\n",
      "CI::Reporter is an add-on to popular test frameworks that allows you to generate XML reports\n",
      "JREXML is an add-on for JRuby that uses a Java pull parser library to speed up REXML.\n",
      "A ruby library and command line tool for parsing the results of various testing systems, including rpsec, junit, pyunit, cutest, quickCheck and more.  \n",
      "Pysolar is a collection of Python libraries for simulating the irradiation of any point on earth by the sun. It includes code for extremely precise ephemeris calculations.\n",
      "Ruby WDDX gem.\n",
      "Adds a development toolbar to your site that makes it easy to tell the difference between development, staging, and production.\n",
      "Simple GUI for launching BZFlag\n",
      "LablGTK Comic book (CBR,CBZ) reader\n",
      "A tiny little uploader utility with password protection and an API.\n",
      "Merb Plugins: Even more modules to hook up your Merb installation\n",
      "A Gitk-like application written in RubyCocoa that looks like it belongs on a Mac.  See the wiki for downloads and screenshots.\n",
      "spatial_adapter with geo_generators\n",
      "A FireEagle OAuth Lib.\n",
      "Merb More: The Full Stack. Take what you need; leave what you don't.\n",
      "Merb Plugins: Even more modules to hook up your Merb installation\n",
      "My master thesis\n",
      "Markup utils for Django\n",
      "generators to create rails mapping apps\n",
      "Lab4 in the VR1 course\n",
      "aplikacja wspomagajaca zarzadznie biblioteka\n",
      "A fast, libxml based, Ruby Atom library supporting the Syndication Format and the Publishing Protocol. \n",
      "Ruby Interface for Google Docs API.\n",
      "Library for creating SVG files in pure Ruby code.\n",
      "A Swing GUI showing market data quotes from a Wombat data source\n",
      "Webrat - Ruby Acceptance Testing for Web applications\n",
      "Ruby on Rails plugin to provide notification when you need to run migrations\n",
      "Behaviour Driven Development framework for Ruby\n",
      "Augment is a system for gathering metadata from code and displaying it.\n",
      "Webrat - Ruby Acceptance Testing for Web applications\n",
      "Allows models to have associations and instance bools based on past recent and future\n",
      "Rake task to assist with bootstrapping a Rails project database\n",
      "A collection of RSpec matchers to be used with the Ruby on Rails project\n",
      "Master/Slave delegation for ActiveRecord models for reads/writes\n",
      "A blogposting plugin for Tomboy\n",
      "Tempfile like behaviour for directories\n",
      "Webrat - Ruby Acceptance Testing for Web applications\n",
      "agile project management\n",
      "A yahtzee game, written in ruby.\n",
      "A yahtzee game, written in ruby.\n",
      "WSDL generator for PHP based on WSDL_Gen plus nice additions like Soap Headers support, enums, and other soap types.\n",
      "  Castanaut lets you write executable scripts for your screencasts. With a simple dictionary of stage directions, you can create complex interactions with a variety of applications.This fork will concentrate on increasing comatablility with older versions of Mac OS, specifically 10.4 (Tiger).\n",
      "\n",
      "IRB extenions for Power Users\n",
      "Oxygen cursors. With Oxygen love.\n",
      "rubyisbeautiful experimental patches to merb-core\n",
      "A Userscript for Fluid that streamlines the twitter interface to make it usable in a flexible (but mostly thin) Fluid instance\n",
      "my blog as a CGI written in C\n",
      "James Conroy-Finn is the new maintainer. Please visit his repository ( http://github.com/jcf/git-tmbundle ) for the new official home of the git-TextMate bundle. Thank you!\n",
      "\n",
      "a fork of the mfx's dose2 demo\n",
      "Sistema de gestión de herramientas\n",
      "Merb More: The Full Stack. Take what you need; leave what you don't.\n",
      "Merb Plugins: Even more modules to hook up your Merb installation\n",
      "dotfiles, handy scripts, and new-system configuration stuff\n",
      "Native iPhone app to push pictures to Flickr\n",
      "dead :(  think of this as a museum.\n",
      "Generic support for extracting GMail-style search keywords/values from strings\n",
      "Treat an ActiveRecord model as a file attachment, storing its patch, size, content type, etc.\n",
      "Textilize plugin for rails, based on PermalinkFu\n",
      "Remote multi-server automation tool\n",
      "ActiveRecord connection proxy for master/slave connections\n",
      "Themes for AsciiDoc and a framework for assembling them ...\n",
      "ActiveRecord connection proxy for master/slave connections\n",
      "simple identity map for active record.  eager loading associations FTL\n",
      "ActiveRecord plugin allowing you to hide and restore records without actually deleting them.\n",
      "ActiveRecord plugin for versioning your models.\n",
      "ActiveRecord plugin for automatically converting fields to permalinks.\n",
      "Replacement for ActiveRecord fixtures using an extremely flexible ruby-based approach.\n",
      "ActionView helpers for showing relative time spans like \"Jan 1 - 5\" or \"Jan 1 - Feb 5\"\n",
      "Discontinued, see https://github.com/dimelo/viking\n",
      "Mozilla JavaScript Engine (SpiderMonkey) bindings for Ruby\n",
      "Customization App for Macbooks with MultiTouch support\n",
      "GTD-Inspired Task Viewer using Leopard's Todo Server\n",
      "Simple Meditation Timer with MP4-Export Capabilities\n",
      "There is only one way to go\n",
      "A quick & dirty git-powered Sinatra wiki\n",
      "An Extensible Wiki/CMS in Lua\n",
      "HAML Templating for Mephisto\n",
      "Gajim is a xmpp (Jabber) client written in python. This repo is a git-svn clone of svn://svn.gajim.org/gajim/trunk / http://trac.gajim.org/browser/\n",
      "Gem for Panda, the video platform\n",
      "Playing about with JQuery drag&drop for Callflow Designer\n",
      "The acts_as_subscribeable plugin is a generator and plugin to allow the subscription based email notification \n",
      "Xparky\n",
      "Talk is a small, Clutter-based presentation application\n",
      "This is Russian translation of Samba3 HOWTO\n",
      "Database Form Page Extension for Radiant CMS\n",
      "A small ruby program for unit-testing one's life \n",
      "Add validations directly to instances of your AR model, not just at the class-level\n",
      "Generic board game suite\n",
      "Disables observers during testing, allowing you to write model tests that are completely decoupled from the observer. Also lets you enable observers for a certain block of code, so that you can write observer tests\n",
      "Plugin generator that uses RSpec stubs instead of Test::Unit. Also sets up database connections for testing against an isolated database.\n",
      "Example application using Panda, the video platform in Rails\n",
      "ActiveRecord connection proxy for master/slave connections\n",
      "This is Russian translation of Samba3 HOWTO\n",
      "Download NZBs from an RSS feed\n",
      "DEPRECATED! Use http://github.com/yolk/mite-rb instead.\n",
      "A java servlet filter that implements the rack interface for calling ruby web applications\n",
      "Streams ascii pron to telnet clients\n",
      "MythTV protocol impementation in Python\n",
      "An cross platform opensource virtual school book\n",
      "Displays IP Trace information when you hover over a link in Firefox.\n",
      "OAuth stuff for J2ME clients (with some Fire Eagle-specific bits)\n",
      "specify attributes within an ActiveRecord model that can be set but not modified\n",
      "Rails Plugin - soft-delete your ActiveRecord records. It's like an explicit version of ActsAsParanoid\n",
      "Rails Plugin - a Ruby way to manage your stylesheets and javascripts.  Don't put all your assets in your layout; define what you need where you need them.\n",
      "Rails Plugin - a RailsEngines-based CMS extension for any Rails project\n",
      "Rails Plugin - memoize and store to the db a record attribute generated by any expression or SQL query.\n",
      "share the work of feed reading between friends\n",
      "Real-time web-server visualization using OpenGL and a force directed layout\n",
      "A system to keep up-to-date with your favorite TV shows\n",
      "Koowaldah OS kernel\n",
      "A nested scaffold generator for rSpec and rails\n",
      "Mofo is a fast and simple microformat parser, based on a concise DSL and Hpricot.\n",
      "A binding for the Fire Eagle API in Python\n",
      "Redmine plugin to allow users to email tickets to the Redmine issue tracking system\n",
      "Don't use this. It's slow and requires ruby and sake. Use this: http://github.com/wesabe/git-tools\n",
      "J2ME MIDlet that uses JSR179 to get loc and pushes to FE\n",
      "random shell scripts\n",
      "\n",
      "Generator framework for your own Ruby framework\n",
      "The e-commerce framework built in Django\n",
      "New Gem Generator for RubyGems\n",
      "Composite Primary Keys support for Active Record\n",
      "Tired of repeating the same basic steps every time you start a Rails project? This is the start of a basic rails app with my usual plugins, css frameworks, etc installed.\n",
      "BooleanWebService(:isitchristmas) => false. Well, unless it's christmas. Then it'd be true.\n",
      "Behaviour Driven Development framework for Ruby\n",
      "Trac plugin for github integration\n",
      "Little tidbits and modules I've written\n",
      "A branch of the RubyCAS-Client project to add a Merb filter\n",
      "Globalite is meant to be a breed of the best i18n /l10n plugins available for Rails. \n",
      "get the mimetype of a file directly in Ruby\n",
      "Active Record backup is a Rails plugin which lets you backup your database schema and content in a schema.rb file and fixtures.\n",
      "This repository is out of date-- use the SVN repository at http://code.google.com/p/time-tracker-mac/source/browse/\n",
      "Merb More: The Full Stack. Take what you need; leave what you don't.\n",
      "Merb Plugins: Even more modules to hook up your Merb installation\n",
      "StrokeDB is a lightweight approach to document-oriented database, currently featuring pure Ruby/JRuby implementation.\n",
      "An animator for plasma that will make use of physics equations\n",
      "A rails generator that generates a rails generator skeleton for easy creation of new rails generators. Like plugin generator but with generators.\n",
      "jquery library for working with html tables and serializing objects to tables\n",
      "small plugin to make an html talbe clickable/editable\n",
      "small plugin for filtering (hiding) table rows based on their text content\n",
      "git svn clone of xss_terminate for you git-rails-ers out there... unlikely there will be any enhancements by me\n",
      "gem tool to use git modules to manage your plugins. The original authors copy is here: http://github.com/jxl/git-rails/tree\n",
      "Command line template expansion tool\n",
      "Command line template expansion tool\n",
      "Website building tool for Websites for Woodworkers\n",
      "Vanilla in Ruby\n",
      "I suppose it's a document database. Or a tuple store. But really, it's just data sloshing around, waiting to be used.\n",
      "This Winamp plugin allows you to control Winamp using a MIDI keyboard\n",
      "The Nu programming language. \n",
      "The new home for DogOnRails, I prefer git!\n",
      "college football app\n",
      "This is a ruby project that uses ActiveRecord to crack open Firefox 3's new Places SQLite browsing history and display info about it.\n",
      "Everyone's favorite memcached plugin for ActiveRecord.\n",
      "A primitive clone of a popular kids game\n",
      "A Rails Plugin to process Abuse Feedback Reporting Format (ARF) messages\n",
      "Re-write of Agave Colorscheme Designer\n",
      "Global named locks (req. mysql) -- Extraction from Shopify\n",
      "[ABANDONED] Support libraries for writing Hadoop Streaming-compatible map/reduce tasks.\n",
      "A small lambda calculus interpreter\n",
      "A tool to determine the order in which to link object files for OCaml programs\n",
      "JavaScript and CSS Asset Compression for Production Rails Apps\n",
      "A Ruby wrapper for the Viddler API\n",
      "mini replacement for RMagick\n",
      "PHP library/bindings for Fire Eagle\n",
      "kinda like hoe and newgem  but more for private gems\n",
      "Allows models to have associations and instance bools based on past recent and future\n",
      "A lightweight, hpricot–based flickr client in ruby\n",
      "jQuery plugin that adds highlighting to image maps\n",
      "get the mimetype of a file directly in Ruby\n",
      "A quick & dirty git-powered Sinatra wiki\n",
      "Web based PVR\n",
      "ObjectProxy provides a proxied interface to Ruby objects.  It lets you add methods to objects that don't normally support them.\n",
      "RSpec support for Waves\n",
      "Grit is a Ruby library for extracting information from a git repository in an object oriented manner.\n",
      "Build with Rake: a rake extension to a more complete build system\n",
      "A jQuery plugin to ease the development of dynamic html wireframes with state.\n",
      "Active Record backup is a Rails plugin which lets you backup your database schema and content in a schema.rb file and fixtures.\n",
      "Run you migrations against certain git changelists\n",
      "\n",
      "Tutorial para Geneura\n",
      "PutsGIS. PostGIS, for Rails (featuring acts_as_line: treat start/end date columns as a single spatial object.)\n",
      "Crowd-sourced isolation of the 10,060 frames of Michael Jackson's white glove in his nationally televised landmark performance of Billy Jean.\n",
      "Chat app (developed to test Juggernaut)\n",
      "Get song information from rolldabeats.com, with iTunes integration\n",
      "Create bookmarks out of whole files for syncing to iPhone\n",
      "Project to help learning Git\n",
      "Opportunity Tickets, a ticket manager I wrote for my company awhile back, been using it for 2 years\n",
      "This is software we wrote for a medical billing client, then they went out of business and never used it...\n",
      "Terminal for KDE\n",
      "Deprecated; use https://github.com/ocaml/ocaml instead\n",
      "A generic plugin system for django.\n",
      "Ruby/Git is a Ruby library that can be used to create, read and manipulate Git repositories.\n",
      "Tiny Ruby gem to pick raffle winners\n",
      "Javascript Dialog box for the web that isn't crummy\n",
      "The DecafBland theme for LimeChat\n",
      "These are projects that I use as a portfolio.\n",
      "A basic Ignite website written in Django\n",
      "Open source tumblog/aggregator.\n",
      "Gifts an arbitrary object with access to memcached via the memcached gem.\n",
      "Gifts an arbitrary object with access to memcached via the memcached gem.\n",
      "Small RDF python scraper for gumtree ads (include geocoding)\n",
      "Notes for upcoming BarCamp Austin talk, upcoming being tomorrow.\n",
      "(OBSOLETE) This plugin is based on acts_as_taggable by DHH but includes extras\n",
      "\n",
      "RSpec stories generator for Ruby on Rails applications\n",
      "a course management system specifically geared towards Statistics courses\n",
      "class that supports set operations on ranges. some of my first ruby code, so be warned.\n",
      "A Twitter archiver, making tweets safe for historians.\n",
      "class that supports set operations on ranges\n",
      "The Rails Brothers Repository\n",
      "Erlectricity exposes Ruby to Erlang and vice versa.\n",
      "CoolOptions is a simple wrapper around optparse that provides less options and more convenience.\n",
      "Adds query origin tracing to your logs.\n",
      "Provides Rails model services (such as validations) to non-ActiveRecord descendants.\n",
      "ruby helpers for method chaining: tap, then, else\n",
      "TextMate bundle for DataMapper ORM\n",
      "Simple REST client for Ruby, inspired by microframework syntax for specifying actions.  Official fork is now at:\n",
      "scripts that can help with using Changes.app and git\n",
      "A site to make your code lean and mean. [Started pre Django 1.0.  More or less abandoned now.]\n",
      "A site to make your code lean and mean.\n",
      "Scenarios has been deprecated. Please use Dataset instead.\n",
      "A site to make your code lean and mean.\n",
      "A way to ease testing of code that relies on other code.\n",
      "A dynamic, hackable window manager written in Python\n",
      "A site to make your code lean and mean.\n",
      "Tamarind was designed to make it as easy as possible for developers to participate in the Semantic Web by exposing their data in accordance with applicable standards and ontologies.  In particular, Tamarind targets developers using Ruby frameworks and ORMs.\n",
      "A Gitk-like application written in RubyCocoa that looks like it belongs on a Mac.  See the wiki for an early screenshot\n",
      "Merb bundle for TextMate (uses Ruby, Ruby on Rails, Datamapper and Sequel bundles as necessary)\n",
      "Static website generator\n",
      "Perspectives for Emacs.\n",
      "Sugar Activity\n",
      "my emacs customizations\n",
      "My assistance repo w/ minor tweaks (original @ http://assistance.rubyforge.org/svn/trunk)\n",
      "go (to project) do (stuffs)\n",
      "a fast webserver\n",
      "A distributed photo sharing app.\n",
      "A YAML processor for use with Nu and Objective-C. Created by Patrick Thomson.\n",
      "Localization (L10n) and Internationalization (i18n) support for the Merb MVC Framework\n",
      "A popular sample Cocoa application rewritten in Nu. Original code by Aaron Hillegass, ported to Nu by Tim Burks.\n",
      "Extended version of TangoClaws icon theme for the Claws mailer\n",
      "Markdown processing with Nu. Use with any Nu or Objective-C project. Created by Grayson Hansard.\n",
      "A cross-platform web server that's scripted with Nu.\n",
      "digitalcodes.org website\n",
      "The WifiDog Client that FreeTheNet.ca uses\n",
      "Pythonic way to access Google AdWords API\n",
      "social networking framework with multi user blogs, developed in Rails 2.0.2 completely RESTful\n",
      "Merb Plugins: Even more modules to hook up your Merb installation\n",
      "simple localization plugin for rails application, based on yml files\n",
      "Test application for testing the rails-authorization-plugin\n",
      "Deliver email to local db and have it send by sequel_sendmail later. Attempt at a clone of ar_mailer for merb + sequel.\n",
      "selectively import methods from modules\n",
      "Bits of code from around the world\n",
      "RedProcess.com Chyrp theme\n",
      "The new home for DogOnRails, I prefer git!\n",
      "The WifiDog Client that FreeTheNet.ca uses\n",
      "A newfound treasure; a lightweight Foundation library for Linux.\n",
      "A pure ruby implementation of Git - unmaintained.  See grit for an active project that has inherited much of this code.\n",
      "Simple Authentication System and User Management\n",
      "LiveJournaller is yet another LiveJournal client library, with a couple of command-line utils for composing and publishing posts.\n",
      "A Javascript BDD Framework with nested describes, a convenient assertion syntax, and an intuitive test browser.\n",
      "A Relational Algebra\n",
      "Simple Web Infrastructure SDK\n",
      "Blanket is a flexible backup framework designed to get the drudgery out of the way and to make automated backups easy.\n",
      "A Django app to create online art and design portfolios\n",
      "Shipping Calculator written in Ruby to get quick quotes from the major carriers (UPS, DHL, FedEX, FreightQuote)\n",
      "A XMPP bot that works as your alter ego\n",
      "a rails website giving an horoscope from an xml feed\n",
      "Annotate ActiveRecord models\n",
      "Conversion script from Typo to WordPress\n",
      "Color themes for Gnome's default editor Gedit\n",
      "git-svn clone of the TextMate Bundles repo\n",
      "Part of the netsquared challenge. Still a huge work in progress\n",
      "OpenSync plugin for Claws Mail\n",
      "Plugin for OpenSync to talk to the MUA Claws Mail\n",
      "Media files for use in your GitHub integration projects\n",
      "KQueue bindings for Ruby\n",
      "A quickie library to read in sports scores\n",
      "Ruby interface to GPS hardware\n",
      "Parser component for openaustralia.org\n",
      "Web Application component for Open Australia\n",
      "A fork of the ancient infobot project\n",
      "Capistrano recipes, plugins and templates.\n",
      "A tree explorer plugin for vim.\n",
      "Merb bundle for TextMate (uses Ruby, Ruby on Rails, Datamapper and Sequel bundles as necessary)\n",
      "Vim plugin for intensely orgasmic commenting\n",
      "a jabber bot to control my mac\n",
      "Run commands in ruby?\n",
      "ContentEditor, MiniCMS like for Beast\n",
      "Spree is a complete open source e-commerce solution for Ruby on Rails.\n",
      "Common Lisp package for simple two dimensional computational geometry.\n",
      "\n",
      "Tomtt's version of the minor mode for editing RubyOnRails code in Emacs\n",
      "Merb Core: All you need. None you don't.\n",
      "Merb More: The Full Stack. Take what you need; leave what you don't.\n",
      "Merb Plugins: Even more modules to hook up your Merb installation\n",
      "Very simple symbolic math library for Common Lisp (ie. runtime math without EVAL)\n",
      "Translation of wikis to FictionBook\n",
      "A small webapp I used while researching what car to buy\n",
      "A clone of Radiant's page_attachments extension with a bugfix\n",
      "A pure-Nu wiki based on Nunja, Git, and NuMarkdown\n",
      "My modified version of todo.py (todo.txt command line task manager) with support for irregularly recurring events\n",
      "go (to project) do (stuffs)\n",
      "A Haml Scaffolding Generator for RSpec\n",
      "\n",
      "Provides action/template profiling\n",
      "A fully featured forum system compatible with Rails 2.3\n",
      "Ruby gem wrapping Pownce API\n",
      "Ruby wrapper for Yahoo!'s FireEagle\n",
      "Spam blocking plugin with support for Akismet and Defensio.\n",
      "Various and sundry extensions written for Radiant CMS (http://radiantcms.org)\n",
      "A light interface to call flickr 'restful' api methods\n",
      "Python hack to perform various filtering (like spam handling) on an IMAP mailbox.\n",
      "a maintained fork of Evan Weaver's Ultrasphinx code -- see the escape_sql branch\n",
      "Multisite lightweight CMS without web-based backend for authors\n",
      "A bicycle commuting advocacy site\n",
      "The kick ass, open source, non-commercial home for musicians and their music\n",
      "ActiveRecord plugin allowing you to hide and restore records without actually deleting them.\n",
      "Annotate ActiveRecord models\n",
      "A merb port of the attachment_fu Rails plugin\n",
      "Treat an ActiveRecord model as a file attachment, storing its patch, size, content type, etc.\n",
      "A revision browser widget for giggle\n",
      "Easy to use Javascript plugins\n",
      "Chat for teams in Dozor game\n",
      "the latest gangbuster source code\n",
      "a git-svn clone of the full gimp repository.\n",
      "A YAML processor for use with Nu and Objective-C. Created by Patrick Thomson.\n",
      "DEFUNCT: A flickr library written on top of Mechanize. I am no longer actively maintaining this project, but it worked enough for me to get my old photos into flickr.\n",
      "Uber lightweight Merb blogging engine. Make sure you check out the feather-plugins repo as well!\n",
      "Ruby implementation of SWX RPC\n",
      "Facebook-style lightbox, built in jQuery\n",
      "Generic Imperative Language - demo language for parrot\n",
      "Base62 encoding and decoding to turn numbers into very compact strings\n",
      "A Nu interface to the Git revision control system.\n",
      "Gruff graphing library for Ruby\n",
      "Sparkline library for Ruby\n",
      "A simple tool that parses application/davmount+xml files (rfc 4709)\n",
      "Ruby code analysis tool for verifying mock object assumptions in tests\n",
      "Basic module for configuring apache via puppet. Debian/Ubuntu-specific at the moment, but patches are welcome.\n",
      "A replacement for procmail with sane syntax, and an email-handling library\n",
      "brendan's ENhancements To Rails\n",
      "Uber version of rspec_haml_scaffold, uber version of make_resourceful as well\n",
      "a quite basic shoes app for displaying combinations of strings from a given alphabet\n",
      "calculates the steps needed to solve a \"jumping peg\" puzzle\n",
      "The Ruby Implementation of SWX RPC\n",
      "An unmaintained and probably broken Ruby blog engine.\n",
      "sqlite patch to include constraint information in error messages\n",
      "Dead simple Rails localization.\n",
      "Webrat - Ruby Acceptance Testing for Web applications\n",
      "Cheating is fun!\n",
      "System wide Rake.\n",
      "Generates nginx config files from YAML.\n",
      "Makes your models act as textiled.\n",
      "Build your fixtures in Ruby.\n",
      "An SMTP server in Ruby, for tying into your other things.\n",
      "The ActiveRecord acts_as_commentable plugin\n",
      "A fork of the ancient infobot project\n",
      "Sokoban in ruby\n",
      "A rip-off of will_paginate to get pagination going on merb\n",
      "A rip-off of will_paginate to get pagination going on merb\n",
      "TimeTrackr - Making fun, out of tracking time\n",
      "A simple program to dump Mac OS X notifications to stdout\n",
      "Ruby's OpenURI with Memcached for caching\n"
     ]
    },
    {
     "ename": "KeyboardInterrupt",
     "evalue": "",
     "output_type": "error",
     "traceback": [
      "\u001b[1;31m---------------------------------------------------------------------------\u001b[0m",
      "\u001b[1;31mKeyboardInterrupt\u001b[0m                         Traceback (most recent call last)",
      "\u001b[1;32m<ipython-input-28-8fd00671d6b3>\u001b[0m in \u001b[0;36m<module>\u001b[1;34m()\u001b[0m\n\u001b[1;32m----> 1\u001b[1;33m \u001b[1;32mfor\u001b[0m \u001b[0mgrep\u001b[0m \u001b[1;32min\u001b[0m \u001b[0mg\u001b[0m\u001b[1;33m.\u001b[0m\u001b[0mget_repos\u001b[0m\u001b[1;33m(\u001b[0m\u001b[1;33m)\u001b[0m\u001b[1;33m:\u001b[0m\u001b[1;33m\u001b[0m\u001b[0m\n\u001b[0m\u001b[0;32m      2\u001b[0m     \u001b[1;32mprint\u001b[0m \u001b[0mgrep\u001b[0m\u001b[1;33m.\u001b[0m\u001b[0mdescription\u001b[0m\u001b[1;33m\u001b[0m\u001b[0m\n",
      "\u001b[1;32m/usr/local/lib/python2.7/dist-packages/github/PaginatedList.pyc\u001b[0m in \u001b[0;36m__iter__\u001b[1;34m(self)\u001b[0m\n\u001b[0;32m     46\u001b[0m             \u001b[1;32myield\u001b[0m \u001b[0melement\u001b[0m\u001b[1;33m\u001b[0m\u001b[0m\n\u001b[0;32m     47\u001b[0m         \u001b[1;32mwhile\u001b[0m \u001b[0mself\u001b[0m\u001b[1;33m.\u001b[0m\u001b[0m_couldGrow\u001b[0m\u001b[1;33m(\u001b[0m\u001b[1;33m)\u001b[0m\u001b[1;33m:\u001b[0m\u001b[1;33m\u001b[0m\u001b[0m\n\u001b[1;32m---> 48\u001b[1;33m             \u001b[0mnewElements\u001b[0m \u001b[1;33m=\u001b[0m \u001b[0mself\u001b[0m\u001b[1;33m.\u001b[0m\u001b[0m_grow\u001b[0m\u001b[1;33m(\u001b[0m\u001b[1;33m)\u001b[0m\u001b[1;33m\u001b[0m\u001b[0m\n\u001b[0m\u001b[0;32m     49\u001b[0m             \u001b[1;32mfor\u001b[0m \u001b[0melement\u001b[0m \u001b[1;32min\u001b[0m \u001b[0mnewElements\u001b[0m\u001b[1;33m:\u001b[0m\u001b[1;33m\u001b[0m\u001b[0m\n\u001b[0;32m     50\u001b[0m                 \u001b[1;32myield\u001b[0m \u001b[0melement\u001b[0m\u001b[1;33m\u001b[0m\u001b[0m\n",
      "\u001b[1;32m/usr/local/lib/python2.7/dist-packages/github/PaginatedList.pyc\u001b[0m in \u001b[0;36m_grow\u001b[1;34m(self)\u001b[0m\n\u001b[0;32m     58\u001b[0m \u001b[1;33m\u001b[0m\u001b[0m\n\u001b[0;32m     59\u001b[0m     \u001b[1;32mdef\u001b[0m \u001b[0m_grow\u001b[0m\u001b[1;33m(\u001b[0m\u001b[0mself\u001b[0m\u001b[1;33m)\u001b[0m\u001b[1;33m:\u001b[0m\u001b[1;33m\u001b[0m\u001b[0m\n\u001b[1;32m---> 60\u001b[1;33m         \u001b[0mnewElements\u001b[0m \u001b[1;33m=\u001b[0m \u001b[0mself\u001b[0m\u001b[1;33m.\u001b[0m\u001b[0m_fetchNextPage\u001b[0m\u001b[1;33m(\u001b[0m\u001b[1;33m)\u001b[0m\u001b[1;33m\u001b[0m\u001b[0m\n\u001b[0m\u001b[0;32m     61\u001b[0m         \u001b[0mself\u001b[0m\u001b[1;33m.\u001b[0m\u001b[0m__elements\u001b[0m \u001b[1;33m+=\u001b[0m \u001b[0mnewElements\u001b[0m\u001b[1;33m\u001b[0m\u001b[0m\n\u001b[0;32m     62\u001b[0m         \u001b[1;32mreturn\u001b[0m \u001b[0mnewElements\u001b[0m\u001b[1;33m\u001b[0m\u001b[0m\n",
      "\u001b[1;32m/usr/local/lib/python2.7/dist-packages/github/PaginatedList.pyc\u001b[0m in \u001b[0;36m_fetchNextPage\u001b[1;34m(self)\u001b[0m\n\u001b[0;32m    156\u001b[0m             \u001b[1;34m\"GET\"\u001b[0m\u001b[1;33m,\u001b[0m\u001b[1;33m\u001b[0m\u001b[0m\n\u001b[0;32m    157\u001b[0m             \u001b[0mself\u001b[0m\u001b[1;33m.\u001b[0m\u001b[0m__nextUrl\u001b[0m\u001b[1;33m,\u001b[0m\u001b[1;33m\u001b[0m\u001b[0m\n\u001b[1;32m--> 158\u001b[1;33m             \u001b[0mparameters\u001b[0m\u001b[1;33m=\u001b[0m\u001b[0mself\u001b[0m\u001b[1;33m.\u001b[0m\u001b[0m__nextParams\u001b[0m\u001b[1;33m\u001b[0m\u001b[0m\n\u001b[0m\u001b[0;32m    159\u001b[0m         )\n\u001b[0;32m    160\u001b[0m \u001b[1;33m\u001b[0m\u001b[0m\n",
      "\u001b[1;32m/usr/local/lib/python2.7/dist-packages/github/Requester.pyc\u001b[0m in \u001b[0;36mrequestJsonAndCheck\u001b[1;34m(self, verb, url, parameters, headers, input, cnx)\u001b[0m\n\u001b[0;32m    167\u001b[0m \u001b[1;33m\u001b[0m\u001b[0m\n\u001b[0;32m    168\u001b[0m     \u001b[1;32mdef\u001b[0m \u001b[0mrequestJsonAndCheck\u001b[0m\u001b[1;33m(\u001b[0m\u001b[0mself\u001b[0m\u001b[1;33m,\u001b[0m \u001b[0mverb\u001b[0m\u001b[1;33m,\u001b[0m \u001b[0murl\u001b[0m\u001b[1;33m,\u001b[0m \u001b[0mparameters\u001b[0m\u001b[1;33m=\u001b[0m\u001b[0mNone\u001b[0m\u001b[1;33m,\u001b[0m \u001b[0mheaders\u001b[0m\u001b[1;33m=\u001b[0m\u001b[0mNone\u001b[0m\u001b[1;33m,\u001b[0m \u001b[0minput\u001b[0m\u001b[1;33m=\u001b[0m\u001b[0mNone\u001b[0m\u001b[1;33m,\u001b[0m \u001b[0mcnx\u001b[0m\u001b[1;33m=\u001b[0m\u001b[0mNone\u001b[0m\u001b[1;33m)\u001b[0m\u001b[1;33m:\u001b[0m\u001b[1;33m\u001b[0m\u001b[0m\n\u001b[1;32m--> 169\u001b[1;33m         \u001b[1;32mreturn\u001b[0m \u001b[0mself\u001b[0m\u001b[1;33m.\u001b[0m\u001b[0m__check\u001b[0m\u001b[1;33m(\u001b[0m\u001b[1;33m*\u001b[0m\u001b[0mself\u001b[0m\u001b[1;33m.\u001b[0m\u001b[0mrequestJson\u001b[0m\u001b[1;33m(\u001b[0m\u001b[0mverb\u001b[0m\u001b[1;33m,\u001b[0m \u001b[0murl\u001b[0m\u001b[1;33m,\u001b[0m \u001b[0mparameters\u001b[0m\u001b[1;33m,\u001b[0m \u001b[0mheaders\u001b[0m\u001b[1;33m,\u001b[0m \u001b[0minput\u001b[0m\u001b[1;33m,\u001b[0m \u001b[0mcnx\u001b[0m\u001b[1;33m)\u001b[0m\u001b[1;33m)\u001b[0m\u001b[1;33m\u001b[0m\u001b[0m\n\u001b[0m\u001b[0;32m    170\u001b[0m \u001b[1;33m\u001b[0m\u001b[0m\n\u001b[0;32m    171\u001b[0m     \u001b[1;32mdef\u001b[0m \u001b[0mrequestMultipartAndCheck\u001b[0m\u001b[1;33m(\u001b[0m\u001b[0mself\u001b[0m\u001b[1;33m,\u001b[0m \u001b[0mverb\u001b[0m\u001b[1;33m,\u001b[0m \u001b[0murl\u001b[0m\u001b[1;33m,\u001b[0m \u001b[0mparameters\u001b[0m\u001b[1;33m=\u001b[0m\u001b[0mNone\u001b[0m\u001b[1;33m,\u001b[0m \u001b[0mheaders\u001b[0m\u001b[1;33m=\u001b[0m\u001b[0mNone\u001b[0m\u001b[1;33m,\u001b[0m \u001b[0minput\u001b[0m\u001b[1;33m=\u001b[0m\u001b[0mNone\u001b[0m\u001b[1;33m)\u001b[0m\u001b[1;33m:\u001b[0m\u001b[1;33m\u001b[0m\u001b[0m\n",
      "\u001b[1;32m/usr/local/lib/python2.7/dist-packages/github/Requester.pyc\u001b[0m in \u001b[0;36mrequestJson\u001b[1;34m(self, verb, url, parameters, headers, input, cnx)\u001b[0m\n\u001b[0;32m    208\u001b[0m             \u001b[1;32mreturn\u001b[0m \u001b[1;34m\"application/json\"\u001b[0m\u001b[1;33m,\u001b[0m \u001b[0mjson\u001b[0m\u001b[1;33m.\u001b[0m\u001b[0mdumps\u001b[0m\u001b[1;33m(\u001b[0m\u001b[0minput\u001b[0m\u001b[1;33m)\u001b[0m\u001b[1;33m\u001b[0m\u001b[0m\n\u001b[0;32m    209\u001b[0m \u001b[1;33m\u001b[0m\u001b[0m\n\u001b[1;32m--> 210\u001b[1;33m         \u001b[1;32mreturn\u001b[0m \u001b[0mself\u001b[0m\u001b[1;33m.\u001b[0m\u001b[0m__requestEncode\u001b[0m\u001b[1;33m(\u001b[0m\u001b[0mcnx\u001b[0m\u001b[1;33m,\u001b[0m \u001b[0mverb\u001b[0m\u001b[1;33m,\u001b[0m \u001b[0murl\u001b[0m\u001b[1;33m,\u001b[0m \u001b[0mparameters\u001b[0m\u001b[1;33m,\u001b[0m \u001b[0mheaders\u001b[0m\u001b[1;33m,\u001b[0m \u001b[0minput\u001b[0m\u001b[1;33m,\u001b[0m \u001b[0mencode\u001b[0m\u001b[1;33m)\u001b[0m\u001b[1;33m\u001b[0m\u001b[0m\n\u001b[0m\u001b[0;32m    211\u001b[0m \u001b[1;33m\u001b[0m\u001b[0m\n\u001b[0;32m    212\u001b[0m     \u001b[1;32mdef\u001b[0m \u001b[0mrequestMultipart\u001b[0m\u001b[1;33m(\u001b[0m\u001b[0mself\u001b[0m\u001b[1;33m,\u001b[0m \u001b[0mverb\u001b[0m\u001b[1;33m,\u001b[0m \u001b[0murl\u001b[0m\u001b[1;33m,\u001b[0m \u001b[0mparameters\u001b[0m\u001b[1;33m=\u001b[0m\u001b[0mNone\u001b[0m\u001b[1;33m,\u001b[0m \u001b[0mheaders\u001b[0m\u001b[1;33m=\u001b[0m\u001b[0mNone\u001b[0m\u001b[1;33m,\u001b[0m \u001b[0minput\u001b[0m\u001b[1;33m=\u001b[0m\u001b[0mNone\u001b[0m\u001b[1;33m)\u001b[0m\u001b[1;33m:\u001b[0m\u001b[1;33m\u001b[0m\u001b[0m\n",
      "\u001b[1;32m/usr/local/lib/python2.7/dist-packages/github/Requester.pyc\u001b[0m in \u001b[0;36m__requestEncode\u001b[1;34m(self, cnx, verb, url, parameters, requestHeaders, input, encode)\u001b[0m\n\u001b[0;32m    245\u001b[0m         \u001b[0mself\u001b[0m\u001b[1;33m.\u001b[0m\u001b[0mNEW_DEBUG_FRAME\u001b[0m\u001b[1;33m(\u001b[0m\u001b[0mrequestHeaders\u001b[0m\u001b[1;33m)\u001b[0m\u001b[1;33m\u001b[0m\u001b[0m\n\u001b[0;32m    246\u001b[0m \u001b[1;33m\u001b[0m\u001b[0m\n\u001b[1;32m--> 247\u001b[1;33m         \u001b[0mstatus\u001b[0m\u001b[1;33m,\u001b[0m \u001b[0mresponseHeaders\u001b[0m\u001b[1;33m,\u001b[0m \u001b[0moutput\u001b[0m \u001b[1;33m=\u001b[0m \u001b[0mself\u001b[0m\u001b[1;33m.\u001b[0m\u001b[0m__requestRaw\u001b[0m\u001b[1;33m(\u001b[0m\u001b[0mcnx\u001b[0m\u001b[1;33m,\u001b[0m \u001b[0mverb\u001b[0m\u001b[1;33m,\u001b[0m \u001b[0murl\u001b[0m\u001b[1;33m,\u001b[0m \u001b[0mrequestHeaders\u001b[0m\u001b[1;33m,\u001b[0m \u001b[0mencoded_input\u001b[0m\u001b[1;33m)\u001b[0m\u001b[1;33m\u001b[0m\u001b[0m\n\u001b[0m\u001b[0;32m    248\u001b[0m \u001b[1;33m\u001b[0m\u001b[0m\n\u001b[0;32m    249\u001b[0m         \u001b[1;32mif\u001b[0m \u001b[1;34m\"x-ratelimit-remaining\"\u001b[0m \u001b[1;32min\u001b[0m \u001b[0mresponseHeaders\u001b[0m \u001b[1;32mand\u001b[0m \u001b[1;34m\"x-ratelimit-limit\"\u001b[0m \u001b[1;32min\u001b[0m \u001b[0mresponseHeaders\u001b[0m\u001b[1;33m:\u001b[0m\u001b[1;33m\u001b[0m\u001b[0m\n",
      "\u001b[1;32m/usr/local/lib/python2.7/dist-packages/github/Requester.pyc\u001b[0m in \u001b[0;36m__requestRaw\u001b[1;34m(self, cnx, verb, url, requestHeaders, input)\u001b[0m\n\u001b[0;32m    275\u001b[0m         \u001b[0mstatus\u001b[0m \u001b[1;33m=\u001b[0m \u001b[0mresponse\u001b[0m\u001b[1;33m.\u001b[0m\u001b[0mstatus\u001b[0m\u001b[1;33m\u001b[0m\u001b[0m\n\u001b[0;32m    276\u001b[0m         \u001b[0mresponseHeaders\u001b[0m \u001b[1;33m=\u001b[0m \u001b[0mdict\u001b[0m\u001b[1;33m(\u001b[0m\u001b[1;33m(\u001b[0m\u001b[0mk\u001b[0m\u001b[1;33m.\u001b[0m\u001b[0mlower\u001b[0m\u001b[1;33m(\u001b[0m\u001b[1;33m)\u001b[0m\u001b[1;33m,\u001b[0m \u001b[0mv\u001b[0m\u001b[1;33m)\u001b[0m \u001b[1;32mfor\u001b[0m \u001b[0mk\u001b[0m\u001b[1;33m,\u001b[0m \u001b[0mv\u001b[0m \u001b[1;32min\u001b[0m \u001b[0mresponse\u001b[0m\u001b[1;33m.\u001b[0m\u001b[0mgetheaders\u001b[0m\u001b[1;33m(\u001b[0m\u001b[1;33m)\u001b[0m\u001b[1;33m)\u001b[0m\u001b[1;33m\u001b[0m\u001b[0m\n\u001b[1;32m--> 277\u001b[1;33m         \u001b[0moutput\u001b[0m \u001b[1;33m=\u001b[0m \u001b[0mresponse\u001b[0m\u001b[1;33m.\u001b[0m\u001b[0mread\u001b[0m\u001b[1;33m(\u001b[0m\u001b[1;33m)\u001b[0m\u001b[1;33m\u001b[0m\u001b[0m\n\u001b[0m\u001b[0;32m    278\u001b[0m \u001b[1;33m\u001b[0m\u001b[0m\n\u001b[0;32m    279\u001b[0m         \u001b[0mcnx\u001b[0m\u001b[1;33m.\u001b[0m\u001b[0mclose\u001b[0m\u001b[1;33m(\u001b[0m\u001b[1;33m)\u001b[0m\u001b[1;33m\u001b[0m\u001b[0m\n",
      "\u001b[1;32m/usr/lib/python2.7/httplib.pyc\u001b[0m in \u001b[0;36mread\u001b[1;34m(self, amt)\u001b[0m\n\u001b[0;32m    555\u001b[0m             \u001b[1;32melse\u001b[0m\u001b[1;33m:\u001b[0m\u001b[1;33m\u001b[0m\u001b[0m\n\u001b[0;32m    556\u001b[0m                 \u001b[1;32mtry\u001b[0m\u001b[1;33m:\u001b[0m\u001b[1;33m\u001b[0m\u001b[0m\n\u001b[1;32m--> 557\u001b[1;33m                     \u001b[0ms\u001b[0m \u001b[1;33m=\u001b[0m \u001b[0mself\u001b[0m\u001b[1;33m.\u001b[0m\u001b[0m_safe_read\u001b[0m\u001b[1;33m(\u001b[0m\u001b[0mself\u001b[0m\u001b[1;33m.\u001b[0m\u001b[0mlength\u001b[0m\u001b[1;33m)\u001b[0m\u001b[1;33m\u001b[0m\u001b[0m\n\u001b[0m\u001b[0;32m    558\u001b[0m                 \u001b[1;32mexcept\u001b[0m \u001b[0mIncompleteRead\u001b[0m\u001b[1;33m:\u001b[0m\u001b[1;33m\u001b[0m\u001b[0m\n\u001b[0;32m    559\u001b[0m                     \u001b[0mself\u001b[0m\u001b[1;33m.\u001b[0m\u001b[0mclose\u001b[0m\u001b[1;33m(\u001b[0m\u001b[1;33m)\u001b[0m\u001b[1;33m\u001b[0m\u001b[0m\n",
      "\u001b[1;32m/usr/lib/python2.7/httplib.pyc\u001b[0m in \u001b[0;36m_safe_read\u001b[1;34m(self, amt)\u001b[0m\n\u001b[0;32m    662\u001b[0m         \u001b[0ms\u001b[0m \u001b[1;33m=\u001b[0m \u001b[1;33m[\u001b[0m\u001b[1;33m]\u001b[0m\u001b[1;33m\u001b[0m\u001b[0m\n\u001b[0;32m    663\u001b[0m         \u001b[1;32mwhile\u001b[0m \u001b[0mamt\u001b[0m \u001b[1;33m>\u001b[0m \u001b[1;36m0\u001b[0m\u001b[1;33m:\u001b[0m\u001b[1;33m\u001b[0m\u001b[0m\n\u001b[1;32m--> 664\u001b[1;33m             \u001b[0mchunk\u001b[0m \u001b[1;33m=\u001b[0m \u001b[0mself\u001b[0m\u001b[1;33m.\u001b[0m\u001b[0mfp\u001b[0m\u001b[1;33m.\u001b[0m\u001b[0mread\u001b[0m\u001b[1;33m(\u001b[0m\u001b[0mmin\u001b[0m\u001b[1;33m(\u001b[0m\u001b[0mamt\u001b[0m\u001b[1;33m,\u001b[0m \u001b[0mMAXAMOUNT\u001b[0m\u001b[1;33m)\u001b[0m\u001b[1;33m)\u001b[0m\u001b[1;33m\u001b[0m\u001b[0m\n\u001b[0m\u001b[0;32m    665\u001b[0m             \u001b[1;32mif\u001b[0m \u001b[1;32mnot\u001b[0m \u001b[0mchunk\u001b[0m\u001b[1;33m:\u001b[0m\u001b[1;33m\u001b[0m\u001b[0m\n\u001b[0;32m    666\u001b[0m                 \u001b[1;32mraise\u001b[0m \u001b[0mIncompleteRead\u001b[0m\u001b[1;33m(\u001b[0m\u001b[1;34m''\u001b[0m\u001b[1;33m.\u001b[0m\u001b[0mjoin\u001b[0m\u001b[1;33m(\u001b[0m\u001b[0ms\u001b[0m\u001b[1;33m)\u001b[0m\u001b[1;33m,\u001b[0m \u001b[0mamt\u001b[0m\u001b[1;33m)\u001b[0m\u001b[1;33m\u001b[0m\u001b[0m\n",
      "\u001b[1;32m/usr/lib/python2.7/socket.pyc\u001b[0m in \u001b[0;36mread\u001b[1;34m(self, size)\u001b[0m\n\u001b[0;32m    378\u001b[0m                 \u001b[1;31m# fragmentation issues on many platforms.\u001b[0m\u001b[1;33m\u001b[0m\u001b[1;33m\u001b[0m\u001b[0m\n\u001b[0;32m    379\u001b[0m                 \u001b[1;32mtry\u001b[0m\u001b[1;33m:\u001b[0m\u001b[1;33m\u001b[0m\u001b[0m\n\u001b[1;32m--> 380\u001b[1;33m                     \u001b[0mdata\u001b[0m \u001b[1;33m=\u001b[0m \u001b[0mself\u001b[0m\u001b[1;33m.\u001b[0m\u001b[0m_sock\u001b[0m\u001b[1;33m.\u001b[0m\u001b[0mrecv\u001b[0m\u001b[1;33m(\u001b[0m\u001b[0mleft\u001b[0m\u001b[1;33m)\u001b[0m\u001b[1;33m\u001b[0m\u001b[0m\n\u001b[0m\u001b[0;32m    381\u001b[0m                 \u001b[1;32mexcept\u001b[0m \u001b[0merror\u001b[0m\u001b[1;33m,\u001b[0m \u001b[0me\u001b[0m\u001b[1;33m:\u001b[0m\u001b[1;33m\u001b[0m\u001b[0m\n\u001b[0;32m    382\u001b[0m                     \u001b[1;32mif\u001b[0m \u001b[0me\u001b[0m\u001b[1;33m.\u001b[0m\u001b[0margs\u001b[0m\u001b[1;33m[\u001b[0m\u001b[1;36m0\u001b[0m\u001b[1;33m]\u001b[0m \u001b[1;33m==\u001b[0m \u001b[0mEINTR\u001b[0m\u001b[1;33m:\u001b[0m\u001b[1;33m\u001b[0m\u001b[0m\n",
      "\u001b[1;32m/usr/lib/python2.7/ssl.pyc\u001b[0m in \u001b[0;36mrecv\u001b[1;34m(self, buflen, flags)\u001b[0m\n\u001b[0;32m    712\u001b[0m                     \u001b[1;34m\"non-zero flags not allowed in calls to recv() on %s\"\u001b[0m \u001b[1;33m%\u001b[0m\u001b[1;33m\u001b[0m\u001b[0m\n\u001b[0;32m    713\u001b[0m                     self.__class__)\n\u001b[1;32m--> 714\u001b[1;33m             \u001b[1;32mreturn\u001b[0m \u001b[0mself\u001b[0m\u001b[1;33m.\u001b[0m\u001b[0mread\u001b[0m\u001b[1;33m(\u001b[0m\u001b[0mbuflen\u001b[0m\u001b[1;33m)\u001b[0m\u001b[1;33m\u001b[0m\u001b[0m\n\u001b[0m\u001b[0;32m    715\u001b[0m         \u001b[1;32melse\u001b[0m\u001b[1;33m:\u001b[0m\u001b[1;33m\u001b[0m\u001b[0m\n\u001b[0;32m    716\u001b[0m             \u001b[1;32mreturn\u001b[0m \u001b[0mself\u001b[0m\u001b[1;33m.\u001b[0m\u001b[0m_sock\u001b[0m\u001b[1;33m.\u001b[0m\u001b[0mrecv\u001b[0m\u001b[1;33m(\u001b[0m\u001b[0mbuflen\u001b[0m\u001b[1;33m,\u001b[0m \u001b[0mflags\u001b[0m\u001b[1;33m)\u001b[0m\u001b[1;33m\u001b[0m\u001b[0m\n",
      "\u001b[1;32m/usr/lib/python2.7/ssl.pyc\u001b[0m in \u001b[0;36mread\u001b[1;34m(self, len, buffer)\u001b[0m\n\u001b[0;32m    606\u001b[0m                 \u001b[0mv\u001b[0m \u001b[1;33m=\u001b[0m \u001b[0mself\u001b[0m\u001b[1;33m.\u001b[0m\u001b[0m_sslobj\u001b[0m\u001b[1;33m.\u001b[0m\u001b[0mread\u001b[0m\u001b[1;33m(\u001b[0m\u001b[0mlen\u001b[0m\u001b[1;33m,\u001b[0m \u001b[0mbuffer\u001b[0m\u001b[1;33m)\u001b[0m\u001b[1;33m\u001b[0m\u001b[0m\n\u001b[0;32m    607\u001b[0m             \u001b[1;32melse\u001b[0m\u001b[1;33m:\u001b[0m\u001b[1;33m\u001b[0m\u001b[0m\n\u001b[1;32m--> 608\u001b[1;33m                 \u001b[0mv\u001b[0m \u001b[1;33m=\u001b[0m \u001b[0mself\u001b[0m\u001b[1;33m.\u001b[0m\u001b[0m_sslobj\u001b[0m\u001b[1;33m.\u001b[0m\u001b[0mread\u001b[0m\u001b[1;33m(\u001b[0m\u001b[0mlen\u001b[0m \u001b[1;32mor\u001b[0m \u001b[1;36m1024\u001b[0m\u001b[1;33m)\u001b[0m\u001b[1;33m\u001b[0m\u001b[0m\n\u001b[0m\u001b[0;32m    609\u001b[0m             \u001b[1;32mreturn\u001b[0m \u001b[0mv\u001b[0m\u001b[1;33m\u001b[0m\u001b[0m\n\u001b[0;32m    610\u001b[0m         \u001b[1;32mexcept\u001b[0m \u001b[0mSSLError\u001b[0m \u001b[1;32mas\u001b[0m \u001b[0mx\u001b[0m\u001b[1;33m:\u001b[0m\u001b[1;33m\u001b[0m\u001b[0m\n",
      "\u001b[1;31mKeyboardInterrupt\u001b[0m: "
     ]
    }
   ],
   "source": [
    "for grep in g.get_repos():\n",
    "    print grep.description"
   ]
  },
  {
   "cell_type": "code",
   "execution_count": null,
   "metadata": {
    "collapsed": true
   },
   "outputs": [],
   "source": []
  },
  {
   "cell_type": "code",
   "execution_count": null,
   "metadata": {
    "collapsed": true
   },
   "outputs": [],
   "source": []
  },
  {
   "cell_type": "code",
   "execution_count": null,
   "metadata": {
    "collapsed": true
   },
   "outputs": [],
   "source": []
  },
  {
   "cell_type": "code",
   "execution_count": null,
   "metadata": {
    "collapsed": true
   },
   "outputs": [],
   "source": []
  },
  {
   "cell_type": "code",
   "execution_count": null,
   "metadata": {
    "collapsed": true
   },
   "outputs": [],
   "source": []
  },
  {
   "cell_type": "code",
   "execution_count": 21,
   "metadata": {
    "collapsed": false
   },
   "outputs": [],
   "source": []
  },
  {
   "cell_type": "code",
   "execution_count": null,
   "metadata": {
    "collapsed": true
   },
   "outputs": [],
   "source": []
  },
  {
   "cell_type": "code",
   "execution_count": null,
   "metadata": {
    "collapsed": true
   },
   "outputs": [],
   "source": []
  },
  {
   "cell_type": "code",
   "execution_count": null,
   "metadata": {
    "collapsed": true
   },
   "outputs": [],
   "source": []
  },
  {
   "cell_type": "code",
   "execution_count": null,
   "metadata": {
    "collapsed": true
   },
   "outputs": [],
   "source": []
  },
  {
   "cell_type": "code",
   "execution_count": null,
   "metadata": {
    "collapsed": true
   },
   "outputs": [],
   "source": []
  }
 ],
 "metadata": {
  "kernelspec": {
   "display_name": "Python 2",
   "name": "python2"
  },
  "language_info": {
   "codemirror_mode": {
    "name": "ipython",
    "version": 2
   },
   "file_extension": ".py",
   "mimetype": "text/x-python",
   "name": "python",
   "nbconvert_exporter": "python",
   "pygments_lexer": "ipython2",
   "version": "2.7.9"
  }
 },
 "nbformat": 4,
 "nbformat_minor": 0
}
