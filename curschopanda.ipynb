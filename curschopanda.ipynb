{
 "cells": [
  {
   "cell_type": "code",
   "execution_count": 75,
   "metadata": {
    "collapsed": false
   },
   "outputs": [],
   "source": [
    "import pandas as pd\n",
    "import random\n",
    "#import matplotlib.pyplot as plt"
   ]
  },
  {
   "cell_type": "code",
   "execution_count": null,
   "metadata": {
    "collapsed": true
   },
   "outputs": [],
   "source": []
  },
  {
   "cell_type": "code",
   "execution_count": 61,
   "metadata": {
    "collapsed": false
   },
   "outputs": [],
   "source": [
    "import json"
   ]
  },
  {
   "cell_type": "markdown",
   "metadata": {},
   "source": [
    "<h3>Current School Panda</h3>\n",
    "\n",
    "Working with directory school data\n",
    "\n",
    "Creative Commons in all schools"
   ]
  },
  {
   "cell_type": "markdown",
   "metadata": {
    "collapsed": true
   },
   "source": [
    "What made you choose that particular Creative Commons licence?\n",
    "\n",
    "I like the CC:BY licence because it offers the most freedom to people. \n",
    "\n",
    "I am not a fan of licenses that restrict commucial use. I believe everyone should be able to do what the like with my work with minimal interference. \n",
    "\n",
    "If I could I would remove non-commucial licenses. \n",
    "\n",
    "In the early days of my art blogging I would license under cc nc. This was wrong and I later changed this to a cc by license. \n",
    "\n",
    "With my photography I once had a photo I taken in the newpaper. It made the front page. I was offered money and seeked permission. I was fine with it of course - the license allows this. At the bottom of the photo it read: PHOTO: William Mckee.\n",
    "Perfect. \n",
    "\n",
    "The only thing I ask is they attupute.\n",
    "\n",
    "I like the idea of sharealike but at the end of the I really don't care and would hate to chase down people to license it wrong. Sure, I don't like it that people could take my stuff and make it not open. I think everything should be open and free. \n",
    "\n",
    "My art site - artcontrol.me is currently down but when it was up I licensed the site under a cc:by. Elements of the site are still up - such as my YouTube channel. "
   ]
  },
  {
   "cell_type": "code",
   "execution_count": null,
   "metadata": {
    "collapsed": true
   },
   "outputs": [],
   "source": []
  },
  {
   "cell_type": "code",
   "execution_count": 62,
   "metadata": {
    "collapsed": false
   },
   "outputs": [],
   "source": [
    "crcom = pd.read_csv('/home/wcmckee/Downloads/List of CC schools - Sheet1.csv', skiprows=5, index_col=0, usecols=[0,1,2])"
   ]
  },
  {
   "cell_type": "markdown",
   "metadata": {
    "collapsed": true
   },
   "source": [
    "Compare the schools on List of CC schools with list of all public/private schools. \n",
    "\n",
    "Why shouldn't it be default for all public schools licence to be under a Creative Commons BY license? "
   ]
  },
  {
   "cell_type": "code",
   "execution_count": 63,
   "metadata": {
    "collapsed": false
   },
   "outputs": [
    {
     "data": {
      "text/html": [
       "<div style=\"max-height:1000px;max-width:1500px;overflow:auto;\">\n",
       "<table border=\"1\" class=\"dataframe\">\n",
       "  <thead>\n",
       "    <tr style=\"text-align: right;\">\n",
       "      <th></th>\n",
       "      <th>Policy</th>\n",
       "      <th>Default Licence</th>\n",
       "    </tr>\n",
       "    <tr>\n",
       "      <th>School</th>\n",
       "      <th></th>\n",
       "      <th></th>\n",
       "    </tr>\n",
       "  </thead>\n",
       "  <tbody>\n",
       "    <tr>\n",
       "      <th>Albany Senior High School</th>\n",
       "      <td> ASHS/CCANZ</td>\n",
       "      <td> BY</td>\n",
       "    </tr>\n",
       "    <tr>\n",
       "      <th>Ardmore</th>\n",
       "      <td> ASHS/CCANZ</td>\n",
       "      <td> BY</td>\n",
       "    </tr>\n",
       "    <tr>\n",
       "      <th>Arrowtown</th>\n",
       "      <td> ASHS/CCANZ</td>\n",
       "      <td> BY</td>\n",
       "    </tr>\n",
       "    <tr>\n",
       "      <th>Ashburton Intermediate</th>\n",
       "      <td> ASHS/CCANZ</td>\n",
       "      <td> BY</td>\n",
       "    </tr>\n",
       "    <tr>\n",
       "      <th>Auckland Girls Grammar School</th>\n",
       "      <td> ASHS/CCANZ</td>\n",
       "      <td> BY</td>\n",
       "    </tr>\n",
       "    <tr>\n",
       "      <th>Banks Avenue</th>\n",
       "      <td> ASHS/CCANZ</td>\n",
       "      <td> BY</td>\n",
       "    </tr>\n",
       "    <tr>\n",
       "      <th>Barton Rural</th>\n",
       "      <td> ASHS/CCANZ</td>\n",
       "      <td> BY</td>\n",
       "    </tr>\n",
       "    <tr>\n",
       "      <th>Broadfield</th>\n",
       "      <td> ASHS/CCANZ</td>\n",
       "      <td> BY</td>\n",
       "    </tr>\n",
       "    <tr>\n",
       "      <th>Burnside High School</th>\n",
       "      <td>    Bespoke</td>\n",
       "      <td> BY</td>\n",
       "    </tr>\n",
       "    <tr>\n",
       "      <th>Cheviot Area</th>\n",
       "      <td> ASHS/CCANZ</td>\n",
       "      <td> BY</td>\n",
       "    </tr>\n",
       "    <tr>\n",
       "      <th>Cobham Intermediate</th>\n",
       "      <td> ASHS/CCANZ</td>\n",
       "      <td> BY</td>\n",
       "    </tr>\n",
       "    <tr>\n",
       "      <th>Diamond Harbour</th>\n",
       "      <td> ASHS/CCANZ</td>\n",
       "      <td> BY</td>\n",
       "    </tr>\n",
       "    <tr>\n",
       "      <th>Eastern Hutt</th>\n",
       "      <td> ASHS/CCANZ</td>\n",
       "      <td> BY</td>\n",
       "    </tr>\n",
       "    <tr>\n",
       "      <th>Ebbett Park</th>\n",
       "      <td> ASHS/CCANZ</td>\n",
       "      <td> BY</td>\n",
       "    </tr>\n",
       "    <tr>\n",
       "      <th>Elmwood Normal</th>\n",
       "      <td> ASHS/CCANZ</td>\n",
       "      <td> BY</td>\n",
       "    </tr>\n",
       "    <tr>\n",
       "      <th>Eskdale</th>\n",
       "      <td> ASHS/CCANZ</td>\n",
       "      <td> BY</td>\n",
       "    </tr>\n",
       "    <tr>\n",
       "      <th>Green Bay</th>\n",
       "      <td> ASHS/CCANZ</td>\n",
       "      <td> BY</td>\n",
       "    </tr>\n",
       "    <tr>\n",
       "      <th>Grey Lynn</th>\n",
       "      <td> ASHS/CCANZ</td>\n",
       "      <td> BY</td>\n",
       "    </tr>\n",
       "    <tr>\n",
       "      <th>Hampden Street</th>\n",
       "      <td> ASHS/CCANZ</td>\n",
       "      <td> BY</td>\n",
       "    </tr>\n",
       "    <tr>\n",
       "      <th>Hillpark</th>\n",
       "      <td> ASHS/CCANZ</td>\n",
       "      <td> BY</td>\n",
       "    </tr>\n",
       "    <tr>\n",
       "      <th>Hobsonville Point Primary School</th>\n",
       "      <td> ASHS/CCANZ</td>\n",
       "      <td> BY</td>\n",
       "    </tr>\n",
       "    <tr>\n",
       "      <th>Hobsonville Point Secondary School</th>\n",
       "      <td> ASHS/CCANZ</td>\n",
       "      <td> BY</td>\n",
       "    </tr>\n",
       "    <tr>\n",
       "      <th>Horowhenua College</th>\n",
       "      <td> ASHS/CCANZ</td>\n",
       "      <td> BY</td>\n",
       "    </tr>\n",
       "    <tr>\n",
       "      <th>Hutt Valley High School</th>\n",
       "      <td>    Bespoke</td>\n",
       "      <td> BY</td>\n",
       "    </tr>\n",
       "    <tr>\n",
       "      <th>Kaikohe West</th>\n",
       "      <td> ASHS/CCANZ</td>\n",
       "      <td> BY</td>\n",
       "    </tr>\n",
       "    <tr>\n",
       "      <th>Kaikoura Suburban</th>\n",
       "      <td> ASHS/CCANZ</td>\n",
       "      <td> BY</td>\n",
       "    </tr>\n",
       "    <tr>\n",
       "      <th>Kaingaroa (Chatham Islands)</th>\n",
       "      <td> ASHS/CCANZ</td>\n",
       "      <td> BY</td>\n",
       "    </tr>\n",
       "    <tr>\n",
       "      <th>Leigh School</th>\n",
       "      <td> ASHS/CCANZ</td>\n",
       "      <td> BY</td>\n",
       "    </tr>\n",
       "    <tr>\n",
       "      <th>Marewa</th>\n",
       "      <td> ASHS/CCANZ</td>\n",
       "      <td> BY</td>\n",
       "    </tr>\n",
       "    <tr>\n",
       "      <th>Marlborough Primary</th>\n",
       "      <td> ASHS/CCANZ</td>\n",
       "      <td> BY</td>\n",
       "    </tr>\n",
       "    <tr>\n",
       "      <th>Merrin</th>\n",
       "      <td> ASHS/CCANZ</td>\n",
       "      <td> BY</td>\n",
       "    </tr>\n",
       "    <tr>\n",
       "      <th>Nayland College</th>\n",
       "      <td> ASHS/CCANZ</td>\n",
       "      <td> BY</td>\n",
       "    </tr>\n",
       "    <tr>\n",
       "      <th>Nelson Park</th>\n",
       "      <td> ASHS/CCANZ</td>\n",
       "      <td> BY</td>\n",
       "    </tr>\n",
       "    <tr>\n",
       "      <th>Oaklands </th>\n",
       "      <td> ASHS/CCANZ</td>\n",
       "      <td> BY</td>\n",
       "    </tr>\n",
       "    <tr>\n",
       "      <th>Ohoka</th>\n",
       "      <td> ASHS/CCANZ</td>\n",
       "      <td> BY</td>\n",
       "    </tr>\n",
       "    <tr>\n",
       "      <th>Okaihau College</th>\n",
       "      <td> ASHS/CCANZ</td>\n",
       "      <td> BY</td>\n",
       "    </tr>\n",
       "    <tr>\n",
       "      <th>Onewhero Area</th>\n",
       "      <td> ASHS/CCANZ</td>\n",
       "      <td> BY</td>\n",
       "    </tr>\n",
       "    <tr>\n",
       "      <th>Orewa College</th>\n",
       "      <td> ASHS/CCANZ</td>\n",
       "      <td> BY</td>\n",
       "    </tr>\n",
       "    <tr>\n",
       "      <th>Our Lady of Snows Methven</th>\n",
       "      <td> ASHS/CCANZ</td>\n",
       "      <td> BY</td>\n",
       "    </tr>\n",
       "    <tr>\n",
       "      <th>Our Lady of Victoriea</th>\n",
       "      <td> ASHS/CCANZ</td>\n",
       "      <td> BY</td>\n",
       "    </tr>\n",
       "    <tr>\n",
       "      <th>Our Lady Star of the Sea Sumner</th>\n",
       "      <td> ASHS/CCANZ</td>\n",
       "      <td> BY</td>\n",
       "    </tr>\n",
       "    <tr>\n",
       "      <th>Pakuranga Heights School</th>\n",
       "      <td> ASHS/CCANZ</td>\n",
       "      <td> BY</td>\n",
       "    </tr>\n",
       "    <tr>\n",
       "      <th>Paparoa Street</th>\n",
       "      <td> ASHS/CCANZ</td>\n",
       "      <td> BY</td>\n",
       "    </tr>\n",
       "    <tr>\n",
       "      <th>Pegasus Bay</th>\n",
       "      <td> ASHS/CCANZ</td>\n",
       "      <td> BY</td>\n",
       "    </tr>\n",
       "    <tr>\n",
       "      <th>Pukekohe Intermediate</th>\n",
       "      <td> ASHS/CCANZ</td>\n",
       "      <td> BY</td>\n",
       "    </tr>\n",
       "    <tr>\n",
       "      <th>Rangiora Borough</th>\n",
       "      <td> ASHS/CCANZ</td>\n",
       "      <td> BY</td>\n",
       "    </tr>\n",
       "    <tr>\n",
       "      <th>Raphael House</th>\n",
       "      <td> ASHS/CCANZ</td>\n",
       "      <td> BY</td>\n",
       "    </tr>\n",
       "    <tr>\n",
       "      <th>Rawhiti</th>\n",
       "      <td> ASHS/CCANZ</td>\n",
       "      <td> BY</td>\n",
       "    </tr>\n",
       "    <tr>\n",
       "      <th>Redwood Tawa</th>\n",
       "      <td> ASHS/CCANZ</td>\n",
       "      <td> BY</td>\n",
       "    </tr>\n",
       "    <tr>\n",
       "      <th>Roydvale</th>\n",
       "      <td> ASHS/CCANZ</td>\n",
       "      <td> BY</td>\n",
       "    </tr>\n",
       "    <tr>\n",
       "      <th>Runanga</th>\n",
       "      <td> ASHS/CCANZ</td>\n",
       "      <td> BY</td>\n",
       "    </tr>\n",
       "    <tr>\n",
       "      <th>Sacred Heart Catholic</th>\n",
       "      <td> ASHS/CCANZ</td>\n",
       "      <td> BY</td>\n",
       "    </tr>\n",
       "    <tr>\n",
       "      <th>Shirley Intermediate</th>\n",
       "      <td> ASHS/CCANZ</td>\n",
       "      <td> BY</td>\n",
       "    </tr>\n",
       "    <tr>\n",
       "      <th>Shotover School</th>\n",
       "      <td> ASHS/CCANZ</td>\n",
       "      <td> BY</td>\n",
       "    </tr>\n",
       "    <tr>\n",
       "      <th>Somerfield</th>\n",
       "      <td> ASHS/CCANZ</td>\n",
       "      <td> BY</td>\n",
       "    </tr>\n",
       "    <tr>\n",
       "      <th>South Hornby</th>\n",
       "      <td> ASHS/CCANZ</td>\n",
       "      <td> BY</td>\n",
       "    </tr>\n",
       "    <tr>\n",
       "      <th>Springston School</th>\n",
       "      <td> ASHS/CCANZ</td>\n",
       "      <td> BY</td>\n",
       "    </tr>\n",
       "    <tr>\n",
       "      <th>St Josephs Upper Hutt</th>\n",
       "      <td> ASHS/CCANZ</td>\n",
       "      <td> BY</td>\n",
       "    </tr>\n",
       "    <tr>\n",
       "      <th>St Marys Catholic Tauranga</th>\n",
       "      <td> ASHS/CCANZ</td>\n",
       "      <td> BY</td>\n",
       "    </tr>\n",
       "    <tr>\n",
       "      <th>St Patrick’s Bryndwr</th>\n",
       "      <td> ASHS/CCANZ</td>\n",
       "      <td> BY</td>\n",
       "    </tr>\n",
       "    <tr>\n",
       "      <th></th>\n",
       "      <td>...</td>\n",
       "      <td>...</td>\n",
       "    </tr>\n",
       "  </tbody>\n",
       "</table>\n",
       "<p>106 rows × 2 columns</p>\n",
       "</div>"
      ],
      "text/plain": [
       "                                        Policy Default Licence\n",
       "School                                                        \n",
       "Albany Senior High School           ASHS/CCANZ              BY\n",
       "Ardmore                             ASHS/CCANZ              BY\n",
       "Arrowtown                           ASHS/CCANZ              BY\n",
       "Ashburton Intermediate              ASHS/CCANZ              BY\n",
       "Auckland Girls Grammar School       ASHS/CCANZ              BY\n",
       "Banks Avenue                        ASHS/CCANZ              BY\n",
       "Barton Rural                        ASHS/CCANZ              BY\n",
       "Broadfield                          ASHS/CCANZ              BY\n",
       "Burnside High School                   Bespoke              BY\n",
       "Cheviot Area                        ASHS/CCANZ              BY\n",
       "Cobham Intermediate                 ASHS/CCANZ              BY\n",
       "Diamond Harbour                     ASHS/CCANZ              BY\n",
       "Eastern Hutt                        ASHS/CCANZ              BY\n",
       "Ebbett Park                         ASHS/CCANZ              BY\n",
       "Elmwood Normal                      ASHS/CCANZ              BY\n",
       "Eskdale                             ASHS/CCANZ              BY\n",
       "Green Bay                           ASHS/CCANZ              BY\n",
       "Grey Lynn                           ASHS/CCANZ              BY\n",
       "Hampden Street                      ASHS/CCANZ              BY\n",
       "Hillpark                            ASHS/CCANZ              BY\n",
       "Hobsonville Point Primary School    ASHS/CCANZ              BY\n",
       "Hobsonville Point Secondary School  ASHS/CCANZ              BY\n",
       "Horowhenua College                  ASHS/CCANZ              BY\n",
       "Hutt Valley High School                Bespoke              BY\n",
       "Kaikohe West                        ASHS/CCANZ              BY\n",
       "Kaikoura Suburban                   ASHS/CCANZ              BY\n",
       "Kaingaroa (Chatham Islands)         ASHS/CCANZ              BY\n",
       "Leigh School                        ASHS/CCANZ              BY\n",
       "Marewa                              ASHS/CCANZ              BY\n",
       "Marlborough Primary                 ASHS/CCANZ              BY\n",
       "Merrin                              ASHS/CCANZ              BY\n",
       "Nayland College                     ASHS/CCANZ              BY\n",
       "Nelson Park                         ASHS/CCANZ              BY\n",
       "Oaklands                            ASHS/CCANZ              BY\n",
       "Ohoka                               ASHS/CCANZ              BY\n",
       "Okaihau College                     ASHS/CCANZ              BY\n",
       "Onewhero Area                       ASHS/CCANZ              BY\n",
       "Orewa College                       ASHS/CCANZ              BY\n",
       "Our Lady of Snows Methven           ASHS/CCANZ              BY\n",
       "Our Lady of Victoriea               ASHS/CCANZ              BY\n",
       "Our Lady Star of the Sea Sumner     ASHS/CCANZ              BY\n",
       "Pakuranga Heights School            ASHS/CCANZ              BY\n",
       "Paparoa Street                      ASHS/CCANZ              BY\n",
       "Pegasus Bay                         ASHS/CCANZ              BY\n",
       "Pukekohe Intermediate               ASHS/CCANZ              BY\n",
       "Rangiora Borough                    ASHS/CCANZ              BY\n",
       "Raphael House                       ASHS/CCANZ              BY\n",
       "Rawhiti                             ASHS/CCANZ              BY\n",
       "Redwood Tawa                        ASHS/CCANZ              BY\n",
       "Roydvale                            ASHS/CCANZ              BY\n",
       "Runanga                             ASHS/CCANZ              BY\n",
       "Sacred Heart Catholic               ASHS/CCANZ              BY\n",
       "Shirley Intermediate                ASHS/CCANZ              BY\n",
       "Shotover School                     ASHS/CCANZ              BY\n",
       "Somerfield                          ASHS/CCANZ              BY\n",
       "South Hornby                        ASHS/CCANZ              BY\n",
       "Springston School                   ASHS/CCANZ              BY\n",
       "St Josephs Upper Hutt               ASHS/CCANZ              BY\n",
       "St Marys Catholic Tauranga          ASHS/CCANZ              BY\n",
       "St Patrick’s Bryndwr                ASHS/CCANZ              BY\n",
       "                                           ...             ...\n",
       "\n",
       "[106 rows x 2 columns]"
      ]
     },
     "execution_count": 63,
     "metadata": {},
     "output_type": "execute_result"
    }
   ],
   "source": [
    "crcom"
   ]
  },
  {
   "cell_type": "code",
   "execution_count": 64,
   "metadata": {
    "collapsed": false
   },
   "outputs": [],
   "source": [
    "aqcom = pd.read_csv('/home/wcmckee/Downloads/List of CC schools - Sheet1.csv', skiprows=5, usecols=[0])"
   ]
  },
  {
   "cell_type": "code",
   "execution_count": 65,
   "metadata": {
    "collapsed": false
   },
   "outputs": [],
   "source": [
    "aqjsz = aqcom.to_json()"
   ]
  },
  {
   "cell_type": "code",
   "execution_count": 66,
   "metadata": {
    "collapsed": false
   },
   "outputs": [],
   "source": [
    "dicthol = json.loads(aqjsz)"
   ]
  },
  {
   "cell_type": "code",
   "execution_count": 67,
   "metadata": {
    "collapsed": false
   },
   "outputs": [],
   "source": [
    "dschoz = dicthol['School']"
   ]
  },
  {
   "cell_type": "code",
   "execution_count": null,
   "metadata": {
    "collapsed": true
   },
   "outputs": [],
   "source": []
  },
  {
   "cell_type": "code",
   "execution_count": 68,
   "metadata": {
    "collapsed": false
   },
   "outputs": [
    {
     "data": {
      "text/plain": [
       "dict_keys(['47', '22', '73', '68', '48', '46', '103', '36', '15', '96', '18', '3', '53', '34', '69', '2', '93', '85', '16', '49', '94', '7', '8', '71', '57', '4', '98', '58', '26', '54', '30', '95', '81', '9', '40', '55', '101', '10', '84', '19', '87', '50', '45', '99', '44', '74', '24', '104', '6', '39', '27', '60', '86', '37', '89', '80', '28', '23', '51', '72', '56', '65', '33', '79', '66', '64', '100', '90', '41', '88', '14', '83', '32', '78', '29', '21', '61', '52', '91', '97', '63', '0', '20', '35', '11', '31', '59', '1', '5', '70', '12', '75', '67', '92', '17', '102', '38', '76', '25', '82', '42', '13', '77', '62', '43', '105'])"
      ]
     },
     "execution_count": 68,
     "metadata": {},
     "output_type": "execute_result"
    }
   ],
   "source": [
    "dschoz.keys()"
   ]
  },
  {
   "cell_type": "code",
   "execution_count": 69,
   "metadata": {
    "collapsed": false
   },
   "outputs": [],
   "source": [
    "dscv = dschoz.values()"
   ]
  },
  {
   "cell_type": "code",
   "execution_count": 70,
   "metadata": {
    "collapsed": true
   },
   "outputs": [],
   "source": [
    "ccschool = list()"
   ]
  },
  {
   "cell_type": "code",
   "execution_count": null,
   "metadata": {
    "collapsed": true
   },
   "outputs": [],
   "source": []
  },
  {
   "cell_type": "code",
   "execution_count": 71,
   "metadata": {
    "collapsed": false
   },
   "outputs": [
    {
     "name": "stdout",
     "output_type": "stream",
     "text": [
      "Albany Senior High School\n",
      "Ardmore\n",
      "Arrowtown\n",
      "Ashburton Intermediate\n",
      "Auckland Girls Grammar School\n",
      "Banks Avenue\n",
      "Barton Rural\n",
      "Broadfield\n",
      "Burnside High School\n",
      "Cheviot Area\n",
      "Cobham Intermediate\n",
      "Diamond Harbour\n",
      "Eastern Hutt\n",
      "Ebbett Park\n",
      "Elmwood Normal\n",
      "Eskdale\n",
      "Green Bay\n",
      "Grey Lynn\n",
      "Hampden Street\n",
      "Hillpark\n",
      "Hobsonville Point Primary School\n",
      "Hobsonville Point Secondary School\n",
      "Horowhenua College\n",
      "Hutt Valley High School\n",
      "Kaikohe West\n",
      "Kaikoura Suburban\n",
      "Kaingaroa (Chatham Islands)\n",
      "Leigh School\n",
      "Marewa\n",
      "Marlborough Primary\n",
      "Merrin\n",
      "Nayland College\n",
      "Nelson Park\n",
      "Oaklands \n",
      "Ohoka\n",
      "Okaihau College\n",
      "Onewhero Area\n",
      "Orewa College\n",
      "Our Lady of Snows Methven\n",
      "Our Lady of Victoriea\n",
      "Our Lady Star of the Sea Sumner\n",
      "Pakuranga Heights School\n",
      "Paparoa Street\n",
      "Pegasus Bay\n",
      "Pukekohe Intermediate\n",
      "Rangiora Borough\n",
      "Raphael House\n",
      "Rawhiti\n",
      "Redwood Tawa\n",
      "Roydvale\n",
      "Runanga\n",
      "Sacred Heart Catholic\n",
      "Shirley Intermediate\n",
      "Shotover School\n",
      "Somerfield\n",
      "South Hornby\n",
      "Springston School\n",
      "St Josephs Upper Hutt\n",
      "St Marys Catholic Tauranga\n",
      "St Patrick’s Bryndwr\n",
      "St Patrick’s Kaiapoi\n",
      "Stonefields School\n",
      "Sumner\n",
      "Sylvia Park School\n",
      "Taipa Area School \n",
      "Taradale Intermediate\n",
      "Taupaki School\n",
      "Tawa Intermediate\n",
      "Te Hihi\n",
      "Te One\n",
      "Te Pa o Rakaihautu\n",
      "Te Wharekura o Maniapoto\n",
      "Thorndon\n",
      "Thorrington\n",
      "TKKM o Te Atihaunui-A-Paparangi\n",
      "Waikato Diocesan\n",
      "Ward\n",
      "Warrington School\n",
      "Wellington High School\n",
      "Westlake Girls High School\n",
      "Westmere\n",
      "Whau Valley\n",
      "Windwhistle\n",
      "Yaldhurst Model\n",
      "Northcote College\n",
      "Middleton Grange School\n",
      "Whangaparaoa College\n"
     ]
    }
   ],
   "source": [
    "for ds in range(87):\n",
    "    print(dschoz[str(ds)])\n",
    "    ccschool.append((dschoz[str(ds)]))"
   ]
  },
  {
   "cell_type": "code",
   "execution_count": 80,
   "metadata": {
    "collapsed": true
   },
   "outputs": [],
   "source": [
    "schccd = dict()"
   ]
  },
  {
   "cell_type": "code",
   "execution_count": 82,
   "metadata": {
    "collapsed": false
   },
   "outputs": [],
   "source": [
    "scda = dict({'cc' : True})"
   ]
  },
  {
   "cell_type": "code",
   "execution_count": 83,
   "metadata": {
    "collapsed": false
   },
   "outputs": [
    {
     "data": {
      "text/plain": [
       "{'cc': True}"
      ]
     },
     "execution_count": 83,
     "metadata": {},
     "output_type": "execute_result"
    }
   ],
   "source": [
    "scda"
   ]
  },
  {
   "cell_type": "code",
   "execution_count": null,
   "metadata": {
    "collapsed": true
   },
   "outputs": [],
   "source": []
  },
  {
   "cell_type": "code",
   "execution_count": null,
   "metadata": {
    "collapsed": true
   },
   "outputs": [],
   "source": []
  },
  {
   "cell_type": "code",
   "execution_count": null,
   "metadata": {
    "collapsed": true
   },
   "outputs": [],
   "source": [
    "schccd.update({ccs : scda})"
   ]
  },
  {
   "cell_type": "code",
   "execution_count": 84,
   "metadata": {
    "collapsed": false
   },
   "outputs": [
    {
     "name": "stdout",
     "output_type": "stream",
     "text": [
      "Albany Senior High School\n",
      "Ardmore\n",
      "Arrowtown\n",
      "Ashburton Intermediate\n",
      "Auckland Girls Grammar School\n",
      "Banks Avenue\n",
      "Barton Rural\n",
      "Broadfield\n",
      "Burnside High School\n",
      "Cheviot Area\n",
      "Cobham Intermediate\n",
      "Diamond Harbour\n",
      "Eastern Hutt\n",
      "Ebbett Park\n",
      "Elmwood Normal\n",
      "Eskdale\n",
      "Green Bay\n",
      "Grey Lynn\n",
      "Hampden Street\n",
      "Hillpark\n",
      "Hobsonville Point Primary School\n",
      "Hobsonville Point Secondary School\n",
      "Horowhenua College\n",
      "Hutt Valley High School\n",
      "Kaikohe West\n",
      "Kaikoura Suburban\n",
      "Kaingaroa (Chatham Islands)\n",
      "Leigh School\n",
      "Marewa\n",
      "Marlborough Primary\n",
      "Merrin\n",
      "Nayland College\n",
      "Nelson Park\n",
      "Oaklands \n",
      "Ohoka\n",
      "Okaihau College\n",
      "Onewhero Area\n",
      "Orewa College\n",
      "Our Lady of Snows Methven\n",
      "Our Lady of Victoriea\n",
      "Our Lady Star of the Sea Sumner\n",
      "Pakuranga Heights School\n",
      "Paparoa Street\n",
      "Pegasus Bay\n",
      "Pukekohe Intermediate\n",
      "Rangiora Borough\n",
      "Raphael House\n",
      "Rawhiti\n",
      "Redwood Tawa\n",
      "Roydvale\n",
      "Runanga\n",
      "Sacred Heart Catholic\n",
      "Shirley Intermediate\n",
      "Shotover School\n",
      "Somerfield\n",
      "South Hornby\n",
      "Springston School\n",
      "St Josephs Upper Hutt\n",
      "St Marys Catholic Tauranga\n",
      "St Patrick’s Bryndwr\n",
      "St Patrick’s Kaiapoi\n",
      "Stonefields School\n",
      "Sumner\n",
      "Sylvia Park School\n",
      "Taipa Area School \n",
      "Taradale Intermediate\n",
      "Taupaki School\n",
      "Tawa Intermediate\n",
      "Te Hihi\n",
      "Te One\n",
      "Te Pa o Rakaihautu\n",
      "Te Wharekura o Maniapoto\n",
      "Thorndon\n",
      "Thorrington\n",
      "TKKM o Te Atihaunui-A-Paparangi\n",
      "Waikato Diocesan\n",
      "Ward\n",
      "Warrington School\n",
      "Wellington High School\n",
      "Westlake Girls High School\n",
      "Westmere\n",
      "Whau Valley\n",
      "Windwhistle\n",
      "Yaldhurst Model\n",
      "Northcote College\n",
      "Middleton Grange School\n",
      "Whangaparaoa College\n"
     ]
    }
   ],
   "source": [
    "for ccs in ccschool:\n",
    "    #These schools have a cc license. Update the list of all schools with cc and value = true.\n",
    "    #Focus on schools that don't have cc license.\n",
    "    #Filter schools in area that don't have cc license.\n",
    "    print (ccs)\n",
    "    schccd.update({ccs : scda})"
   ]
  },
  {
   "cell_type": "code",
   "execution_count": null,
   "metadata": {
    "collapsed": true
   },
   "outputs": [],
   "source": []
  },
  {
   "cell_type": "code",
   "execution_count": 78,
   "metadata": {
    "collapsed": true
   },
   "outputs": [],
   "source": [
    "#Random CC school\n",
    "ranccskol = random.randint(0,87)"
   ]
  },
  {
   "cell_type": "code",
   "execution_count": null,
   "metadata": {
    "collapsed": true
   },
   "outputs": [],
   "source": []
  },
  {
   "cell_type": "code",
   "execution_count": 79,
   "metadata": {
    "collapsed": false
   },
   "outputs": [
    {
     "data": {
      "text/plain": [
       "'South Hornby'"
      ]
     },
     "execution_count": 79,
     "metadata": {},
     "output_type": "execute_result"
    }
   ],
   "source": [
    "dschoz[str(ranccskol)]"
   ]
  },
  {
   "cell_type": "code",
   "execution_count": null,
   "metadata": {
    "collapsed": true
   },
   "outputs": [],
   "source": []
  },
  {
   "cell_type": "code",
   "execution_count": 74,
   "metadata": {
    "collapsed": false
   },
   "outputs": [
    {
     "name": "stdout",
     "output_type": "stream",
     "text": [
      "Albany Senior High School\n",
      "Ardmore\n",
      "Arrowtown\n",
      "Ashburton Intermediate\n",
      "Auckland Girls Grammar School\n",
      "Banks Avenue\n",
      "Barton Rural\n",
      "Broadfield\n",
      "Burnside High School\n",
      "Cheviot Area\n",
      "Cobham Intermediate\n",
      "Diamond Harbour\n",
      "Eastern Hutt\n",
      "Ebbett Park\n",
      "Elmwood Normal\n",
      "Eskdale\n",
      "Green Bay\n",
      "Grey Lynn\n",
      "Hampden Street\n",
      "Hillpark\n",
      "Hobsonville Point Primary School\n",
      "Hobsonville Point Secondary School\n",
      "Horowhenua College\n",
      "Hutt Valley High School\n",
      "Kaikohe West\n",
      "Kaikoura Suburban\n",
      "Kaingaroa (Chatham Islands)\n",
      "Leigh School\n",
      "Marewa\n",
      "Marlborough Primary\n",
      "Merrin\n",
      "Nayland College\n",
      "Nelson Park\n",
      "Oaklands \n",
      "Ohoka\n",
      "Okaihau College\n",
      "Onewhero Area\n",
      "Orewa College\n",
      "Our Lady of Snows Methven\n",
      "Our Lady of Victoriea\n",
      "Our Lady Star of the Sea Sumner\n",
      "Pakuranga Heights School\n",
      "Paparoa Street\n",
      "Pegasus Bay\n",
      "Pukekohe Intermediate\n",
      "Rangiora Borough\n",
      "Raphael House\n",
      "Rawhiti\n",
      "Redwood Tawa\n",
      "Roydvale\n",
      "Runanga\n",
      "Sacred Heart Catholic\n",
      "Shirley Intermediate\n",
      "Shotover School\n",
      "Somerfield\n",
      "South Hornby\n",
      "Springston School\n",
      "St Josephs Upper Hutt\n",
      "St Marys Catholic Tauranga\n",
      "St Patrick’s Bryndwr\n",
      "St Patrick’s Kaiapoi\n",
      "Stonefields School\n",
      "Sumner\n",
      "Sylvia Park School\n",
      "Taipa Area School \n",
      "Taradale Intermediate\n",
      "Taupaki School\n",
      "Tawa Intermediate\n",
      "Te Hihi\n",
      "Te One\n",
      "Te Pa o Rakaihautu\n",
      "Te Wharekura o Maniapoto\n",
      "Thorndon\n",
      "Thorrington\n",
      "TKKM o Te Atihaunui-A-Paparangi\n",
      "Waikato Diocesan\n",
      "Ward\n",
      "Warrington School\n",
      "Wellington High School\n",
      "Westlake Girls High School\n",
      "Westmere\n",
      "Whau Valley\n",
      "Windwhistle\n",
      "Yaldhurst Model\n",
      "Northcote College\n",
      "Middleton Grange School\n",
      "Whangaparaoa College\n"
     ]
    }
   ],
   "source": [
    "for dsc in range(87):\n",
    "    print (dschoz[str(dsc)])"
   ]
  },
  {
   "cell_type": "code",
   "execution_count": 87,
   "metadata": {
    "collapsed": false
   },
   "outputs": [
    {
     "data": {
      "text/plain": [
       "{'Albany Senior High School': {'cc': True},\n",
       " 'Ardmore': {'cc': True},\n",
       " 'Arrowtown': {'cc': True},\n",
       " 'Ashburton Intermediate': {'cc': True},\n",
       " 'Auckland Girls Grammar School': {'cc': True},\n",
       " 'Banks Avenue': {'cc': True},\n",
       " 'Barton Rural': {'cc': True},\n",
       " 'Broadfield': {'cc': True},\n",
       " 'Burnside High School': {'cc': True},\n",
       " 'Cheviot Area': {'cc': True},\n",
       " 'Cobham Intermediate': {'cc': True},\n",
       " 'Diamond Harbour': {'cc': True},\n",
       " 'Eastern Hutt': {'cc': True},\n",
       " 'Ebbett Park': {'cc': True},\n",
       " 'Elmwood Normal': {'cc': True},\n",
       " 'Eskdale': {'cc': True},\n",
       " 'Green Bay': {'cc': True},\n",
       " 'Grey Lynn': {'cc': True},\n",
       " 'Hampden Street': {'cc': True},\n",
       " 'Hillpark': {'cc': True},\n",
       " 'Hobsonville Point Primary School': {'cc': True},\n",
       " 'Hobsonville Point Secondary School': {'cc': True},\n",
       " 'Horowhenua College': {'cc': True},\n",
       " 'Hutt Valley High School': {'cc': True},\n",
       " 'Kaikohe West': {'cc': True},\n",
       " 'Kaikoura Suburban': {'cc': True},\n",
       " 'Kaingaroa (Chatham Islands)': {'cc': True},\n",
       " 'Leigh School': {'cc': True},\n",
       " 'Marewa': {'cc': True},\n",
       " 'Marlborough Primary': {'cc': True},\n",
       " 'Merrin': {'cc': True},\n",
       " 'Middleton Grange School': {'cc': True},\n",
       " 'Nayland College': {'cc': True},\n",
       " 'Nelson Park': {'cc': True},\n",
       " 'Northcote College': {'cc': True},\n",
       " 'Oaklands ': {'cc': True},\n",
       " 'Ohoka': {'cc': True},\n",
       " 'Okaihau College': {'cc': True},\n",
       " 'Onewhero Area': {'cc': True},\n",
       " 'Orewa College': {'cc': True},\n",
       " 'Our Lady Star of the Sea Sumner': {'cc': True},\n",
       " 'Our Lady of Snows Methven': {'cc': True},\n",
       " 'Our Lady of Victoriea': {'cc': True},\n",
       " 'Pakuranga Heights School': {'cc': True},\n",
       " 'Paparoa Street': {'cc': True},\n",
       " 'Pegasus Bay': {'cc': True},\n",
       " 'Pukekohe Intermediate': {'cc': True},\n",
       " 'Rangiora Borough': {'cc': True},\n",
       " 'Raphael House': {'cc': True},\n",
       " 'Rawhiti': {'cc': True},\n",
       " 'Redwood Tawa': {'cc': True},\n",
       " 'Roydvale': {'cc': True},\n",
       " 'Runanga': {'cc': True},\n",
       " 'Sacred Heart Catholic': {'cc': True},\n",
       " 'Shirley Intermediate': {'cc': True},\n",
       " 'Shotover School': {'cc': True},\n",
       " 'Somerfield': {'cc': True},\n",
       " 'South Hornby': {'cc': True},\n",
       " 'Springston School': {'cc': True},\n",
       " 'St Josephs Upper Hutt': {'cc': True},\n",
       " 'St Marys Catholic Tauranga': {'cc': True},\n",
       " 'St Patrick’s Bryndwr': {'cc': True},\n",
       " 'St Patrick’s Kaiapoi': {'cc': True},\n",
       " 'Stonefields School': {'cc': True},\n",
       " 'Sumner': {'cc': True},\n",
       " 'Sylvia Park School': {'cc': True},\n",
       " 'TKKM o Te Atihaunui-A-Paparangi': {'cc': True},\n",
       " 'Taipa Area School ': {'cc': True},\n",
       " 'Taradale Intermediate': {'cc': True},\n",
       " 'Taupaki School': {'cc': True},\n",
       " 'Tawa Intermediate': {'cc': True},\n",
       " 'Te Hihi': {'cc': True},\n",
       " 'Te One': {'cc': True},\n",
       " 'Te Pa o Rakaihautu': {'cc': True},\n",
       " 'Te Wharekura o Maniapoto': {'cc': True},\n",
       " 'Thorndon': {'cc': True},\n",
       " 'Thorrington': {'cc': True},\n",
       " 'Waikato Diocesan': {'cc': True},\n",
       " 'Ward': {'cc': True},\n",
       " 'Warrington School': {'cc': True},\n",
       " 'Wellington High School': {'cc': True},\n",
       " 'Westlake Girls High School': {'cc': True},\n",
       " 'Westmere': {'cc': True},\n",
       " 'Whangaparaoa College': {'cc': True},\n",
       " 'Whau Valley': {'cc': True},\n",
       " 'Windwhistle': {'cc': True},\n",
       " 'Yaldhurst Model': {'cc': True}}"
      ]
     },
     "execution_count": 87,
     "metadata": {},
     "output_type": "execute_result"
    }
   ],
   "source": [
    "#Append in names of schools that are missing from this dict. \n",
    "#Something like\n",
    "#schccd.update{school that doesnt have cc : {'cc' : False}}\n",
    "schccd"
   ]
  },
  {
   "cell_type": "code",
   "execution_count": null,
   "metadata": {
    "collapsed": true
   },
   "outputs": [],
   "source": []
  },
  {
   "cell_type": "markdown",
   "metadata": {},
   "source": [
    "Cycle through only first 89 values - stop when reaching : These are schools that have expressed an interest in CC, and may have a policy in progress.\n",
    "\n",
    "New spreadsheet for schools in progress of CC license. Where are they up to? What is the next steps?\n",
    "\n",
    "Why are schools using a license that isn't CC:BY. They really should be using the same license. CC NC is unexceptable. SA would be OK but majority of schools already have CC BY so best to go with what is common so you don't have conflicts of licenses. "
   ]
  },
  {
   "cell_type": "code",
   "execution_count": 29,
   "metadata": {
    "collapsed": false
   },
   "outputs": [
    {
     "name": "stdout",
     "output_type": "stream",
     "text": [
      "Rawhiti\n",
      "Horowhenua College\n",
      "Thorrington\n",
      "Te Hihi\n",
      "Redwood Tawa\n",
      "Raphael House\n",
      "Mount Maunganui College\n",
      "Onewhero Area\n",
      "Eskdale\n",
      "Saint Catherine's (Wgtn)\n",
      "Hampden Street\n",
      "Ashburton Intermediate\n",
      "Shotover School\n",
      "Ohoka\n",
      "Te One\n",
      "Arrowtown\n",
      "Carmel College\n",
      "\n",
      "Middleton Grange School\n",
      "Green Bay\n",
      "Roydvale\n",
      "Marcellin College\n",
      "Broadfield\n",
      "Burnside High School\n",
      "Te Wharekura o Maniapoto\n",
      "St Josephs Upper Hutt\n",
      "Auckland Girls Grammar School\n",
      "Sacred Hutt College (Lower Hutt)\n",
      "St Marys Catholic Tauranga\n",
      "Kaingaroa (Chatham Islands)\n",
      "Somerfield\n",
      "Merrin\n",
      "Havelock North HS\n",
      "Whau Valley\n",
      "Cheviot Area\n",
      "Our Lady Star of the Sea Sumner\n",
      "South Hornby\n",
      "Papanui High School\n",
      "Cobham Intermediate\n",
      "Northcote College\n",
      "Hillpark\n",
      "None\n",
      "Runanga\n",
      "Rangiora Borough\n",
      "St Joseph's Catholic School\n",
      "Pukekohe Intermediate\n",
      "TKKM o Te Atihaunui-A-Paparangi\n",
      "Kaikohe West\n",
      "Frankley School\n",
      "Barton Rural\n",
      "Our Lady of Victoriea\n",
      "Leigh School\n",
      "St Patrick’s Kaiapoi\n",
      "Whangaparaoa College\n",
      "Orewa College\n",
      "Policies in Progress\n",
      "Westmere\n",
      "Marewa\n",
      "Hutt Valley High School\n",
      "Sacred Heart Catholic\n",
      "Thorndon\n",
      "Springston School\n",
      "Taradale Intermediate\n",
      "Oaklands \n",
      "Westlake Girls High School\n",
      "Taupaki School\n",
      "Taipa Area School \n",
      "Wellington East Girls' College\n",
      "These are schools that have expressed an interest in CC, and may have a policy in progress\n",
      "Pakuranga Heights School\n",
      "None\n",
      "Elmwood Normal\n",
      "Yaldhurst Model\n",
      "Nelson Park\n",
      "Wellington High School\n",
      "Marlborough Primary\n",
      "Hobsonville Point Secondary School\n",
      "Stonefields School\n",
      "Shirley Intermediate\n",
      "School\n",
      "Massey Primary School\n",
      "Sylvia Park School\n",
      "Albany Senior High School\n",
      "Hobsonville Point Primary School\n",
      "Okaihau College\n",
      "Diamond Harbour\n",
      "Nayland College\n",
      "St Patrick’s Bryndwr\n",
      "Ardmore\n",
      "Banks Avenue\n",
      "Te Pa o Rakaihautu\n",
      "Eastern Hutt\n",
      "Waikato Diocesan\n",
      "Tawa Intermediate\n",
      "Hutt International Boys School\n",
      "Grey Lynn\n",
      "Kelston Boys High School\n",
      "Our Lady of Snows Methven\n",
      "Ward\n",
      "Kaikoura Suburban\n",
      "Windwhistle\n",
      "Paparoa Street\n",
      "Ebbett Park\n",
      "Warrington School\n",
      "Sumner\n",
      "Pegasus Bay\n",
      "Cambridge High School\n"
     ]
    }
   ],
   "source": [
    "for dsv in dscv:\n",
    "    print (dsv)"
   ]
  },
  {
   "cell_type": "code",
   "execution_count": null,
   "metadata": {
    "collapsed": true
   },
   "outputs": [],
   "source": []
  },
  {
   "cell_type": "code",
   "execution_count": null,
   "metadata": {
    "collapsed": true
   },
   "outputs": [],
   "source": []
  },
  {
   "cell_type": "code",
   "execution_count": null,
   "metadata": {
    "collapsed": true
   },
   "outputs": [],
   "source": []
  },
  {
   "cell_type": "code",
   "execution_count": null,
   "metadata": {
    "collapsed": true
   },
   "outputs": [],
   "source": []
  },
  {
   "cell_type": "code",
   "execution_count": null,
   "metadata": {
    "collapsed": true
   },
   "outputs": [],
   "source": []
  },
  {
   "cell_type": "code",
   "execution_count": null,
   "metadata": {
    "collapsed": true
   },
   "outputs": [],
   "source": []
  },
  {
   "cell_type": "code",
   "execution_count": 72,
   "metadata": {
    "collapsed": false
   },
   "outputs": [
    {
     "data": {
      "text/plain": [
       "'{\"School\":{\"0\":\"Albany Senior High School\",\"1\":\"Ardmore\",\"2\":\"Arrowtown\",\"3\":\"Ashburton Intermediate\",\"4\":\"Auckland Girls Grammar School\",\"5\":\"Banks Avenue\",\"6\":\"Barton Rural\",\"7\":\"Broadfield\",\"8\":\"Burnside High School\",\"9\":\"Cheviot Area\",\"10\":\"Cobham Intermediate\",\"11\":\"Diamond Harbour\",\"12\":\"Eastern Hutt\",\"13\":\"Ebbett Park\",\"14\":\"Elmwood Normal\",\"15\":\"Eskdale\",\"16\":\"Green Bay\",\"17\":\"Grey Lynn\",\"18\":\"Hampden Street\",\"19\":\"Hillpark\",\"20\":\"Hobsonville Point Primary School\",\"21\":\"Hobsonville Point Secondary School\",\"22\":\"Horowhenua College\",\"23\":\"Hutt Valley High School\",\"24\":\"Kaikohe West\",\"25\":\"Kaikoura Suburban\",\"26\":\"Kaingaroa (Chatham Islands)\",\"27\":\"Leigh School\",\"28\":\"Marewa\",\"29\":\"Marlborough Primary\",\"30\":\"Merrin\",\"31\":\"Nayland College\",\"32\":\"Nelson Park\",\"33\":\"Oaklands \",\"34\":\"Ohoka\",\"35\":\"Okaihau College\",\"36\":\"Onewhero Area\",\"37\":\"Orewa College\",\"38\":\"Our Lady of Snows Methven\",\"39\":\"Our Lady of Victoriea\",\"40\":\"Our Lady Star of the Sea Sumner\",\"41\":\"Pakuranga Heights School\",\"42\":\"Paparoa Street\",\"43\":\"Pegasus Bay\",\"44\":\"Pukekohe Intermediate\",\"45\":\"Rangiora Borough\",\"46\":\"Raphael House\",\"47\":\"Rawhiti\",\"48\":\"Redwood Tawa\",\"49\":\"Roydvale\",\"50\":\"Runanga\",\"51\":\"Sacred Heart Catholic\",\"52\":\"Shirley Intermediate\",\"53\":\"Shotover School\",\"54\":\"Somerfield\",\"55\":\"South Hornby\",\"56\":\"Springston School\",\"57\":\"St Josephs Upper Hutt\",\"58\":\"St Marys Catholic Tauranga\",\"59\":\"St Patrick\\\\u2019s Bryndwr\",\"60\":\"St Patrick\\\\u2019s Kaiapoi\",\"61\":\"Stonefields School\",\"62\":\"Sumner\",\"63\":\"Sylvia Park School\",\"64\":\"Taipa Area School \",\"65\":\"Taradale Intermediate\",\"66\":\"Taupaki School\",\"67\":\"Tawa Intermediate\",\"68\":\"Te Hihi\",\"69\":\"Te One\",\"70\":\"Te Pa o Rakaihautu\",\"71\":\"Te Wharekura o Maniapoto\",\"72\":\"Thorndon\",\"73\":\"Thorrington\",\"74\":\"TKKM o Te Atihaunui-A-Paparangi\",\"75\":\"Waikato Diocesan\",\"76\":\"Ward\",\"77\":\"Warrington School\",\"78\":\"Wellington High School\",\"79\":\"Westlake Girls High School\",\"80\":\"Westmere\",\"81\":\"Whau Valley\",\"82\":\"Windwhistle\",\"83\":\"Yaldhurst Model\",\"84\":\"Northcote College\",\"85\":\"Middleton Grange School\",\"86\":\"Whangaparaoa College\",\"87\":null,\"88\":null,\"89\":\"Policies in Progress\",\"90\":\"These are schools that have expressed an interest in CC, and may have a policy in progress\",\"91\":\"School\",\"92\":\"Hutt International Boys School\",\"93\":\"Carmel College\\\\n\",\"94\":\"Marcellin College\",\"95\":\"Havelock North HS\",\"96\":\"Saint Catherine\\'s (Wgtn)\",\"97\":\"Massey Primary School\",\"98\":\"Sacred Hutt College (Lower Hutt)\",\"99\":\"St Joseph\\'s Catholic School\",\"100\":\"Wellington East Girls\\' College\",\"101\":\"Papanui High School\",\"102\":\"Kelston Boys High School\",\"103\":\"Mount Maunganui College\",\"104\":\"Frankley School\",\"105\":\"Cambridge High School\"}}'"
      ]
     },
     "execution_count": 72,
     "metadata": {},
     "output_type": "execute_result"
    }
   ],
   "source": [
    "aqjsz"
   ]
  },
  {
   "cell_type": "code",
   "execution_count": null,
   "metadata": {
    "collapsed": true
   },
   "outputs": [],
   "source": []
  },
  {
   "cell_type": "code",
   "execution_count": null,
   "metadata": {
    "collapsed": true
   },
   "outputs": [],
   "source": []
  },
  {
   "cell_type": "code",
   "execution_count": null,
   "metadata": {
    "collapsed": true
   },
   "outputs": [],
   "source": []
  },
  {
   "cell_type": "code",
   "execution_count": null,
   "metadata": {
    "collapsed": true
   },
   "outputs": [],
   "source": [
    "crcom."
   ]
  },
  {
   "cell_type": "code",
   "execution_count": 20,
   "metadata": {
    "collapsed": false
   },
   "outputs": [
    {
     "data": {
      "text/plain": [
       "School\n",
       "Albany Senior High School                                                                     ASHS/CCANZ\n",
       "Ardmore                                                                                       ASHS/CCANZ\n",
       "Arrowtown                                                                                     ASHS/CCANZ\n",
       "Ashburton Intermediate                                                                        ASHS/CCANZ\n",
       "Auckland Girls Grammar School                                                                 ASHS/CCANZ\n",
       "Banks Avenue                                                                                  ASHS/CCANZ\n",
       "Barton Rural                                                                                  ASHS/CCANZ\n",
       "Broadfield                                                                                    ASHS/CCANZ\n",
       "Burnside High School                                                                             Bespoke\n",
       "Cheviot Area                                                                                  ASHS/CCANZ\n",
       "Cobham Intermediate                                                                           ASHS/CCANZ\n",
       "Diamond Harbour                                                                               ASHS/CCANZ\n",
       "Eastern Hutt                                                                                  ASHS/CCANZ\n",
       "Ebbett Park                                                                                   ASHS/CCANZ\n",
       "Elmwood Normal                                                                                ASHS/CCANZ\n",
       "Eskdale                                                                                       ASHS/CCANZ\n",
       "Green Bay                                                                                     ASHS/CCANZ\n",
       "Grey Lynn                                                                                     ASHS/CCANZ\n",
       "Hampden Street                                                                                ASHS/CCANZ\n",
       "Hillpark                                                                                      ASHS/CCANZ\n",
       "Hobsonville Point Primary School                                                              ASHS/CCANZ\n",
       "Hobsonville Point Secondary School                                                            ASHS/CCANZ\n",
       "Horowhenua College                                                                            ASHS/CCANZ\n",
       "Hutt Valley High School                                                                          Bespoke\n",
       "Kaikohe West                                                                                  ASHS/CCANZ\n",
       "Kaikoura Suburban                                                                             ASHS/CCANZ\n",
       "Kaingaroa (Chatham Islands)                                                                   ASHS/CCANZ\n",
       "Leigh School                                                                                  ASHS/CCANZ\n",
       "Marewa                                                                                        ASHS/CCANZ\n",
       "Marlborough Primary                                                                           ASHS/CCANZ\n",
       "                                                                                                 ...    \n",
       "Ward                                                                                          ASHS/CCANZ\n",
       "Warrington School                                                                              Bespoke\\n\n",
       "Wellington High School                                                                        ASHS/CCANZ\n",
       "Westlake Girls High School                                                                    ASHS/CCANZ\n",
       "Westmere                                                                                      ASHS/CCANZ\n",
       "Whau Valley                                                                                   ASHS/CCANZ\n",
       "Windwhistle                                                                                   ASHS/CCANZ\n",
       "Yaldhurst Model                                                                               ASHS/CCANZ\n",
       "Northcote College                                                                             ASHS/CCANZ\n",
       "Middleton Grange School                                                                       ASHS/CCANZ\n",
       "Whangaparaoa College                                                                          ASHS/CCANZ\n",
       "NaN                                                                                                  NaN\n",
       "NaN                                                                                                  NaN\n",
       "Policies in Progress                                                                                 NaN\n",
       "These are schools that have expressed an interest in CC, and may have a policy in progress           NaN\n",
       "School                                                                                            Policy\n",
       "Hutt International Boys School                                                                       NaN\n",
       "Carmel College\\n                                                                                     NaN\n",
       "Marcellin College                                                                                    NaN\n",
       "Havelock North HS                                                                                    NaN\n",
       "Saint Catherine's (Wgtn)                                                                             NaN\n",
       "Massey Primary School                                                                                NaN\n",
       "Sacred Hutt College (Lower Hutt)                                                                     NaN\n",
       "St Joseph's Catholic School                                                                          NaN\n",
       "Wellington East Girls' College                                                                       NaN\n",
       "Papanui High School                                                                                  NaN\n",
       "Kelston Boys High School                                                                             NaN\n",
       "Mount Maunganui College                                                                              NaN\n",
       "Frankley School                                                                                      NaN\n",
       "Cambridge High School                                                                                NaN\n",
       "Name: Policy, dtype: object"
      ]
     },
     "execution_count": 20,
     "metadata": {},
     "output_type": "execute_result"
    }
   ],
   "source": [
    "crcom.Policy"
   ]
  },
  {
   "cell_type": "code",
   "execution_count": null,
   "metadata": {
    "collapsed": true
   },
   "outputs": [],
   "source": []
  },
  {
   "cell_type": "code",
   "execution_count": 54,
   "metadata": {
    "collapsed": false
   },
   "outputs": [],
   "source": [
    "noclist = pd.read_csv('/home/wcmckee/Downloads/directory-School-current.csv', skiprows=3, usecols=[1])"
   ]
  },
  {
   "cell_type": "code",
   "execution_count": 56,
   "metadata": {
    "collapsed": false
   },
   "outputs": [
    {
     "data": {
      "text/plain": [
       "<bound method DataFrame.resample of                                          Name\n",
       "0                               Te Kao School\n",
       "1                           Taipa Area School\n",
       "2                             Kaitaia College\n",
       "3                           Whangaroa College\n",
       "4                        Kerikeri High School\n",
       "5                       Broadwood Area School\n",
       "6                             Okaihau College\n",
       "7                      Bay of Islands College\n",
       "8                           Northland College\n",
       "9                   Te Kura Taumata o Panguru\n",
       "10                        Opononi Area School\n",
       "11                       Tauraroa Area School\n",
       "12                           Kamo High School\n",
       "13                      Tikipunga High School\n",
       "14                Whangarei Boys' High School\n",
       "15               Whangarei Girls' High School\n",
       "16                Pompallier Catholic College\n",
       "17                     Mangakahia Area School\n",
       "18                     Dargaville High School\n",
       "19                          Bream Bay College\n",
       "20                       Otamatea High School\n",
       "21                             Ruawai College\n",
       "22                             Rodney College\n",
       "23                          Mahurangi College\n",
       "24                              Orewa College\n",
       "25                            Kaipara College\n",
       "26                           Long Bay College\n",
       "27                          Rangitoto College\n",
       "28                             Kristin School\n",
       "29                          Glenfield College\n",
       "30                         Birkenhead College\n",
       "31                          Northcote College\n",
       "32                        Hato Petera College\n",
       "33                             Carmel College\n",
       "34                    Takapuna Grammar School\n",
       "35                 Westlake Boys' High School\n",
       "36                Westlake Girls' High School\n",
       "37                            Rosmini College\n",
       "38                         Rutherford College\n",
       "39                           Macleans College\n",
       "40                      Green Bay High School\n",
       "41                         Massey High School\n",
       "42                          Waitakere College\n",
       "43                      Henderson High School\n",
       "44                             Liston College\n",
       "45  St Dominic's Catholic College (Henderson)\n",
       "46                    Western Springs College\n",
       "47                             Selwyn College\n",
       "48               St Mary's College (Ponsonby)\n",
       "49               St Paul's College (Ponsonby)\n",
       "50              Tyndale Park Christian School\n",
       "51             Auckland Girls' Grammar School\n",
       "52                           Auckland Grammar\n",
       "53                             Tamaki College\n",
       "54                           Tangaroa College\n",
       "55            Sacred Heart College (Auckland)\n",
       "56              Saint Kentigern Girls' School\n",
       "57                           Baradene College\n",
       "58                 St Peter's College (Epsom)\n",
       "59                          Marcellin College\n",
       "                                          ...\n",
       "\n",
       "[2543 rows x 1 columns]>"
      ]
     },
     "execution_count": 56,
     "metadata": {},
     "output_type": "execute_result"
    }
   ],
   "source": [
    "noclist.resample"
   ]
  },
  {
   "cell_type": "code",
   "execution_count": 55,
   "metadata": {
    "collapsed": false
   },
   "outputs": [
    {
     "data": {
      "text/plain": [
       "array([['Te Kao School'],\n",
       "       ['Taipa Area School'],\n",
       "       ['Kaitaia College'],\n",
       "       ['Whangaroa College'],\n",
       "       ['Kerikeri High School'],\n",
       "       ['Broadwood Area School'],\n",
       "       ['Okaihau College'],\n",
       "       ['Bay of Islands College'],\n",
       "       ['Northland College'],\n",
       "       ['Te Kura Taumata o Panguru']], dtype=object)"
      ]
     },
     "execution_count": 55,
     "metadata": {},
     "output_type": "execute_result"
    }
   ],
   "source": [
    "noclist.values[0:10]"
   ]
  },
  {
   "cell_type": "code",
   "execution_count": 19,
   "metadata": {
    "collapsed": true
   },
   "outputs": [],
   "source": [
    "aqjaq = noclist.to_json()"
   ]
  },
  {
   "cell_type": "code",
   "execution_count": 88,
   "metadata": {
    "collapsed": false
   },
   "outputs": [
    {
     "data": {
      "text/plain": [
       "'{\"Name\":{\"0\":\"Te Kao School\",\"1\":\"Taipa Area School\",\"2\":\"Kaitaia College\",\"3\":\"Whangaroa College\",\"4\":\"Kerikeri High School\",\"5\":\"Broadwood Area School\",\"6\":\"Okaihau College\",\"7\":\"Bay of Islands College\",\"8\":\"Northland College\",\"9\":\"Te Kura Taumata o Panguru\",\"10\":\"Opononi Area School\",\"11\":\"Tauraroa Area School\",\"12\":\"Kamo High School\",\"13\":\"Tikipunga High School\",\"14\":\"Whangarei Boys\\' High School\",\"15\":\"Whangarei Girls\\' High School\",\"16\":\"Pompallier Catholic College\",\"17\":\"Mangakahia Area School\",\"18\":\"Dargaville High School\",\"19\":\"Bream Bay College\",\"20\":\"Otamatea High School\",\"21\":\"Ruawai College\",\"22\":\"Rodney College\",\"23\":\"Mahurangi College\",\"24\":\"Orewa College\",\"25\":\"Kaipara College\",\"26\":\"Long Bay College\",\"27\":\"Rangitoto College\",\"28\":\"Kristin School\",\"29\":\"Glenfield College\",\"30\":\"Birkenhead College\",\"31\":\"Northcote College\",\"32\":\"Hato Petera College\",\"33\":\"Carmel College\",\"34\":\"Takapuna Grammar School\",\"35\":\"Westlake Boys\\' High School\",\"36\":\"Westlake Girls\\' High School\",\"37\":\"Rosmini College\",\"38\":\"Rutherford College\",\"39\":\"Macleans College\",\"40\":\"Green Bay High School\",\"41\":\"Massey High School\",\"42\":\"Waitakere College\",\"43\":\"Henderson High School\",\"44\":\"Liston College\",\"45\":\"St Dominic\\'s Catholic College (Henderson)\",\"46\":\"Western Springs College\",\"47\":\"Selwyn College\",\"48\":\"St Mary\\'s College (Ponsonby)\",\"49\":\"St Paul\\'s College (Ponsonby)\",\"50\":\"Tyndale Park Christian School\",\"51\":\"Auckland Girls\\' Grammar School\",\"52\":\"Auckland Grammar\",\"53\":\"Tamaki College\",\"54\":\"Tangaroa College\",\"55\":\"Sacred Heart College (Auckland)\",\"56\":\"Saint Kentigern Girls\\' School\",\"57\":\"Baradene College\",\"58\":\"St Peter\\'s College (Epsom)\",\"59\":\"Marcellin College\",\"60\":\"Epsom Girls Grammar School\",\"61\":\"Glendowie College\",\"62\":\"Dilworth School\",\"63\":\"Diocesan School For Girls\",\"64\":\"St Cuthbert\\'s College (Epsom)\",\"65\":\"Mt Albert Grammar School\",\"66\":\"Marist College\",\"67\":\"Hebron Christian College (Auckland)\",\"68\":\"Mt Roskill Grammar\",\"69\":\"Lynfield College\",\"70\":\"Bethlehem College\",\"71\":\"Avondale College\",\"72\":\"Edgewater College\",\"73\":\"Pakuranga College\",\"74\":\"St Kentigern College (Pakuranga)\",\"75\":\"Aidanfield Christian School\",\"76\":\"Kelston Boys\\' High School\",\"77\":\"Kelston Girls\\' College\",\"78\":\"One Tree Hill College\",\"79\":\"Onehunga High School\",\"80\":\"Howick College\",\"81\":\"Otahuhu College\",\"82\":\"Kings College\",\"83\":\"McAuley High School\",\"84\":\"Mangere College\",\"85\":\"Auckland Seventh-Day Adventist H S\",\"86\":\"De La Salle College\",\"87\":\"Papatoetoe High School\",\"88\":\"Aorere College\",\"89\":\"Sir Edmund Hillary Collegiate Senior School\",\"90\":\"Manurewa High School\",\"91\":\"James Cook High School\",\"92\":\"Papakura High School\",\"93\":\"Rosehill College\",\"94\":\"Pukekohe High School\",\"95\":\"Wesley College\",\"96\":\"Waiuku College\",\"97\":\"Tuakau College\",\"98\":\"Onewhero Area School\",\"99\":\"Coromandel Area School\",\"100\":\"Mercury Bay Area School\",\"101\":\"Thames High School\",\"102\":\"Hauraki Plains College\",\"103\":\"Paeroa College\",\"104\":\"Waihi College\",\"105\":\"Te Kauwhata College\",\"106\":\"Te Aroha College\",\"107\":\"Katikati College\",\"108\":\"Mt Maunganui College\",\"109\":\"Huntly College\",\"110\":\"Otumoetai College\",\"111\":\"Tauranga Boys\\' College\",\"112\":\"Tauranga Girls\\' College\",\"113\":\"Te Puke High School\",\"114\":\"Matamata College\",\"115\":\"Raglan Area School\",\"116\":\"Morrinsville College\",\"117\":\"Ngaruawahia High School\",\"118\":\"Fairfield College\",\"119\":\"St Paul\\'s Collegiate (Hamilton)\",\"120\":\"Hamilton Boys\\' High School\",\"121\":\"Hamilton Girls\\' High School\",\"122\":\"Raphael House Rudolf Steiner Area School\",\"123\":\"Flaxmere College\",\"124\":\"Fraser High School\",\"125\":\"St John\\'s College (Hillcrest)\",\"126\":\"Melville High School\",\"127\":\"Hillcrest High School\",\"128\":\"Sacred Heart Girls\\' College (Ham)\",\"129\":\"Waikato Diocesan School For Girls\",\"130\":\"St Peter\\'s School (Cambridge)\",\"131\":\"Cambridge High School\",\"132\":\"Trident High School\",\"133\":\"Whakatane High School\",\"134\":\"Edgecumbe College\",\"135\":\"Te Awamutu College\",\"136\":\"Te Whanau-A-Apanui Area School\",\"137\":\"Opotiki College\",\"138\":\"Western Heights High School\",\"139\":\"Rotorua Boys\\' High School\",\"140\":\"Rotorua Girls\\' High School\",\"141\":\"Rotorua Lakes High School\",\"142\":\"Otorohanga College\",\"143\":\"Tokoroa High School\",\"144\":\"Forest View High School\",\"145\":\"Te Kuiti High School\",\"146\":\"Benneydale School\",\"147\":\"Piopio College\",\"148\":\"Reporoa College\",\"149\":\"Tauhara College\",\"150\":\"Taupo-nui-a-Tia College\",\"151\":\"Taumarunui High School\",\"152\":\"Waitara High School\",\"153\":\"New Plymouth Boys\\' High School\",\"154\":\"New Plymouth Girls\\' High School\",\"155\":\"Spotswood College\",\"156\":\"Sacred Heart Girls\\' College (N Plymouth)\",\"157\":\"Francis Douglas Memorial College\",\"158\":\"Ohura Valley Primary\",\"159\":\"Inglewood High School\",\"160\":\"Stratford High School\",\"161\":\"St Mary\\'s Diocesan School (Stratford)\",\"162\":\"Opunake High School\",\"163\":\"Hawera High School\",\"164\":\"Ruapehu College\",\"165\":\"Patea Area School\",\"166\":\"Wanganui City College\",\"167\":\"Wanganui Girls\\' College\",\"168\":\"Wanganui High School\",\"169\":\"Cullinane College\",\"170\":\"Longburn Adventist College\",\"171\":\"Wanganui Collegiate School\",\"172\":\"Turakina Maori Girls\\' College\",\"173\":\"Rangitikei College\",\"174\":\"Nga Tawa Diocesan School\",\"175\":\"Feilding High School\",\"176\":\"Awatapu College\",\"177\":\"Hato Paora College\",\"178\":\"Freyberg High School\",\"179\":\"Queen Elizabeth College\",\"180\":\"Palmerston North Boys\\' High School\",\"181\":\"Palmerston North Girls\\' High School\",\"182\":\"St Peter\\'s College (Palmerston North)\",\"183\":\"Manawatu College\",\"184\":\"Ngata Memorial College\",\"185\":\"Lytton High School\",\"186\":\"Gisborne Boys\\' High School\",\"187\":\"Gisborne Girls\\' High School\",\"188\":\"Campion College\",\"189\":\"Tolaga Bay Area School\",\"190\":\"Wairoa College\",\"191\":\"Taradale High School\",\"192\":\"Napier Boys\\' High School\",\"193\":\"Napier Girls\\' High School\",\"194\":\"Tamatea High School\",\"195\":\"Sacred Heart College (Napier)\",\"196\":\"William Colenso College\",\"197\":\"Te Wharekura o Ruatoki\",\"198\":\"St Joseph\\'s Maori Girls\\' College\",\"199\":\"Havelock North High School\",\"200\":\"Iona College\",\"201\":\"Woodford House\",\"202\":\"St John\\'s College (Hastings)\",\"203\":\"Hastings Boys\\' High School\",\"204\":\"Hastings Girls\\' High School\",\"205\":\"Karamu High School\",\"206\":\"Lindisfarne College\",\"207\":\"Taikura Rudolf Steiner School\",\"208\":\"Te Aute College\",\"209\":\"Central Hawkes Bay College\",\"210\":\"Dannevirke High School\",\"211\":\"Tararua College\",\"212\":\"Horowhenua College\",\"213\":\"Waiopehu College\",\"214\":\"Kaitaia Abundant Life School\",\"215\":\"Otaki College\",\"216\":\"Wairarapa College\",\"217\":\"Solway College\",\"218\":\"Makoura College\",\"219\":\"Chanel College\",\"220\":\"Rathkeale College\",\"221\":\"St Matthew\\'s Collegiate (Masterton)\",\"222\":\"Kapiti College\",\"223\":\"Paraparaumu College\",\"224\":\"Kuranui College\",\"225\":\"Upper Hutt College\",\"226\":\"Heretaunga College\",\"227\":\"St Patrick\\'s College (Silverstream)\",\"228\":\"Aotea College\",\"229\":\"Mana College\",\"230\":\"Porirua College\",\"231\":\"Bishop Viard College\",\"232\":\"Tawa College\",\"233\":\"Taita College\",\"234\":\"Naenae College\",\"235\":\"St Bernard\\'s College\",\"236\":\"Hutt Valley High School\",\"237\":\"Sacred Heart College (Lower Hutt)\",\"238\":\"Chilton St James School\",\"239\":\"St Oran\\'s College\",\"240\":\"Waipa Christian School\",\"241\":\"Newlands College\",\"242\":\"Onslow College\",\"243\":\"Wellington Girls\\' College\",\"244\":\"Wellington High School and Com Ed Centre\",\"245\":\"Wellington East Girls\\' College\",\"246\":\"Wellington College\",\"247\":\"St Patrick\\'s College (Kilbirnie)\",\"248\":\"Rongotai College\",\"249\":\"Queen Margaret College\",\"250\":\"TKKM o Hoani Waititi\",\"251\":\"Samuel Marsden Collegiate School\",\"252\":\"Scots College\",\"253\":\"TKKM o Whakawatea\",\"254\":\"Otamatea Christian School\",\"255\":\"St Catherines College (Kilbirnie)\",\"256\":\"St Mary\\'s College (Wellington)\",\"257\":\"Queen Charlotte College\",\"258\":\"Marlborough Boys\\' College\",\"259\":\"Marlborough Girls\\' College\",\"260\":\"Collingwood Area School\",\"261\":\"Rai Valley Area School\",\"262\":\"Golden Bay High School\",\"263\":\"Nayland College\",\"264\":\"Nelson College\",\"265\":\"Nelson College For Girls\",\"266\":\"Waimea College\",\"267\":\"Tapawera Area School\",\"268\":\"Motueka High School\",\"269\":\"Murchison Area School\",\"270\":\"Karamea Area School\",\"271\":\"Buller High School\",\"272\":\"Greymouth High School\",\"273\":\"John Paul II High School\",\"274\":\"Westland High School\",\"275\":\"South Westland Area School\",\"276\":\"Kaikoura High School\",\"277\":\"Amuri Area School\",\"278\":\"Cheviot Area School\",\"279\":\"Oxford Area School\",\"280\":\"Hurunui College\",\"281\":\"Rangiora High School\",\"282\":\"Kaiapoi High School\",\"283\":\"St Bedes College\",\"284\":\"Papanui High School\",\"285\":\"Christchurch Adventist School\",\"286\":\"St Andrew\\'s College (Christchurch)\",\"287\":\"Burnside High School\",\"288\":\"Mairehau High School\",\"289\":\"Shirley Boys\\' High School\",\"290\":\"Aranui High School\",\"291\":\"Avonside Girls\\' High School\",\"292\":\"Rangi Ruru Girls\\' School\",\"293\":\"Villa Maria College\",\"294\":\"Christchurch Boys\\' High School\",\"295\":\"Christchurch Girls\\' High School\",\"296\":\"Mangakino Area School\",\"297\":\"Christ\\'s College\",\"298\":\"St Thomas of Canterbury College\",\"299\":\"St Margaret\\'s College\",\"300\":\"Riccarton High School\",\"301\":\"Middleton Grange School\",\"302\":\"Hagley Community College\",\"303\":\"Linwood College\",\"304\":\"Hornby High School\",\"305\":\"Hillmorton High School\",\"306\":\"Cashmere High School\",\"307\":\"Hillview Christian School\",\"308\":\"Marian College\",\"309\":\"Westminster Christian School\",\"310\":\"Pacific Christian School\",\"311\":\"Darfield High School\",\"312\":\"Lincoln High School\",\"313\":\"Mount Hutt College\",\"314\":\"Ellesmere College\",\"315\":\"Akaroa Area School\",\"316\":\"Ashburton College\",\"317\":\"Geraldine High School\",\"318\":\"Mackenzie College\",\"319\":\"Opihi College\",\"320\":\"Craighead Diocesan School\",\"321\":\"Roncalli College\",\"322\":\"Mountainview High School\",\"323\":\"Timaru Boys\\' High School\",\"324\":\"Timaru Girls\\' High School\",\"325\":\"Waimate High School\",\"326\":\"Waitaki Valley School\",\"327\":\"Waitaki Boys\\' High School\",\"328\":\"Waitaki Girls\\' High School\",\"329\":\"The Cathedral Grammar School\",\"330\":\"St Kevins College (Oamaru)\",\"331\":\"Maniototo Area School\",\"332\":\"East Otago High School\",\"333\":\"Dunstan High School\",\"334\":\"Cromwell College\",\"335\":\"Wakatipu High School\",\"336\":\"Roxburgh Area School\",\"337\":\"Logan Park High School\",\"338\":\"Otago Boys\\' High School\",\"339\":\"Otago Girls\\' High School\",\"340\":\"St Hildas Collegiate\",\"341\":\"Kaikorai Valley College\",\"342\":\"Bayfield High School\",\"343\":\"Kings High School (Dunedin)\",\"344\":\"Queens High School\",\"345\":\"Columba College\",\"346\":\"John McGlashan College\",\"347\":\"Lawrence Area School\",\"348\":\"Blue Mountain College\",\"349\":\"Tokomairiro High School\",\"350\":\"South Otago High School\",\"351\":\"The Catlins Area School\",\"352\":\"Northern Southland College\",\"353\":\"Gore High School\",\"354\":\"St Peter\\'s College (Gore)\",\"355\":\"Takitimu Primary School\",\"356\":\"Central Southland College\",\"357\":\"Fiordland College\",\"358\":\"Menzies College\",\"359\":\"Waiau Area School\",\"360\":\"Southland Boys\\' High School\",\"361\":\"Southland Girls\\' High School\",\"362\":\"Verdon College\",\"363\":\"Aparima College\",\"364\":\"Rangiora New Life School\",\"365\":\"Rudolf Steiner School (Chch)\",\"366\":\"Richmond View School\",\"367\":\"Faith City School\",\"368\":\"Michael Park School\",\"369\":\"Odyssey House School (Auckland)\",\"370\":\"Whangamata Area School\",\"371\":\"Excellere College\",\"372\":\"Kingsway School\",\"373\":\"Hukarere College\",\"374\":\"Springbank School\",\"375\":\"Totara College of Accelerated Learning\",\"376\":\"Pinehurst School\",\"377\":\"ACG Strathallan\",\"378\":\"Hastings Christian School\",\"379\":\"Hamilton Christian School\",\"380\":\"Southern Cross Campus\",\"381\":\"Kadimah School\",\"382\":\"St Dominic\\'s College\",\"383\":\"Pukekohe Christian School\",\"384\":\"Immanuel Christian School\",\"385\":\"Carey College\",\"386\":\"Ambury Park Centre for Riding Therapy\",\"387\":\"TKK Motuhake o Tawhiuau\",\"388\":\"Mana Tamariki\",\"389\":\"Manukau Christian School\",\"390\":\"Zayed College for Girls\",\"391\":\"Westmount School\",\"392\":\"Auckland International College\",\"393\":\"The Bridge Academy\",\"394\":\"Tongariro School\",\"395\":\"Wainuiomata High School\",\"396\":\"City Impact Church School\",\"397\":\"Aquinas College\",\"398\":\"Wentworth College\",\"399\":\"Mt Hobson Middle School\",\"400\":\"Nga Taiatea Wharekura\",\"401\":\"Sancta Maria College\",\"402\":\"Putaruru College\",\"403\":\"Taieri College\",\"404\":\"Reefton Area School\",\"405\":\"Te Kura o Hirangi\",\"406\":\"Te Aho o Te Kura Pounamu\",\"407\":\"Kelston Deaf Education Centre\",\"408\":\"Drury Christian School\",\"409\":\"Kimi Ora School\",\"410\":\"Kingslea School\",\"411\":\"Van Asch Deaf Education Centre\",\"412\":\"Halswell Residential College\",\"413\":\"Carlson School (Cerebral Palsy)\",\"414\":\"Salisbury School (Nelson)\",\"415\":\"Twizel Area School\",\"416\":\"Ponatahi Christian School\",\"417\":\"Waiheke High School\",\"418\":\"Catholic Cathedral College\",\"419\":\"John Paul College\",\"420\":\"Mt Aspiring College\",\"421\":\"Kavanagh College\",\"422\":\"Waikato Waldorf School ( Rudolf Steiner)\",\"423\":\"Al-Madinah School\",\"424\":\"Te Kura Toitu o Te Whaiti-nui-a-Toi\",\"425\":\"Samuel Marsden Collegiate School -Whitby\",\"426\":\"MindAlive\",\"427\":\"Aurora College\",\"428\":\"Taihape Area School\",\"429\":\"Te Waha O Rerekohu Area School\",\"430\":\"Coastal Taranaki School\",\"431\":\"James Hargest College\",\"432\":\"Mission Heights Junior College\",\"433\":\"Tangaroa College Teen Parent Unit\",\"434\":\"Holy Family School (Wanaka)\",\"435\":\"TKKM o Te Kura Kokiri\",\"436\":\"Te Wainui a Rua\",\"437\":\"Albany Senior High School\",\"438\":\"Ormiston Senior College\",\"439\":\"Stonefields School\",\"440\":\"Maraekakaho School\",\"441\":\"Te Wharekura o Te Kaokaoroa o Patetere\",\"442\":\"Mission Heights Primary School\",\"443\":\"ACG Sunderland\",\"444\":\"Te Totara Primary School\",\"445\":\"Shotover Primary School\",\"446\":\"Hingaia Peninsula School\",\"447\":\"Te Kura o Nga Ruahine Rangi\",\"448\":\"TKKM o Ngaringaomatariki\",\"449\":\"Kumeroa-Hopelands School\",\"450\":\"KingsGate School\",\"451\":\"Golden Grove School\",\"452\":\"Wentworth Primary\",\"453\":\"Big Rock Primary School\",\"454\":\"Ashburton Christian School\",\"455\":\"Seven Oaks School\",\"456\":\"Henderson - Teen Parent Unit - He Wero o nga Wahine\",\"457\":\"Amesbury School\",\"458\":\"Murihiku Young Parents Learning Centre\",\"459\":\"City Impact Church School (Secondary)\",\"460\":\"Sancta Maria Catholic Primary School\",\"461\":\"Huanui College\",\"462\":\"Silverstream Christian School\",\"463\":\"Te Karaka Area School\",\"464\":\"Chapman College\",\"465\":\"TKKM o Tuia te Matangi\",\"466\":\"Te Kura Maori o Nga Tapuwae\",\"467\":\"Kia Aroha College\",\"468\":\"Tai Wananga\",\"469\":\"Kingsview School\",\"470\":\"Pa Harakeke Teen Parent Unit\",\"471\":\"Te Wharekura o Nga Purapura o Te Aroha\",\"472\":\"Bathgate Park School\",\"473\":\"Carisbrook School\",\"474\":\"Te Whata Tau o Putauaki\",\"475\":\"Kawerau Putauaki School\",\"476\":\"Murupara Area School\",\"477\":\"Kahurangi School\",\"478\":\"Tarawera High School\",\"479\":\"Nelson Teen Parent Unit\",\"480\":\"Waikato Montessori Education Centre\",\"481\":\"Levin Teen Parent Unit\",\"482\":\"Eden Christian Academy\",\"483\":\"Ao Tawhiti Unlimited Discovery\",\"484\":\"Te Waka Unua School\",\"485\":\"Waitakiri Primary School\",\"486\":\"Lyttelton Primary School\",\"487\":\"Ormiston Primary School\",\"488\":\"South Auckland Middle School\",\"489\":\"Te Pumanawa O Te Wairua\",\"490\":\"Te Kura Hourua o Whangarei Terenga Paraoa\",\"491\":\"The Rise Up Academy\",\"492\":\"Vanguard Military School\",\"493\":\"Seven Oaks Secondary School\",\"494\":\"Rawhiti School\",\"495\":\"Te Tipu Whenua o Pa Harakeke\",\"496\":\"Te Pa o Rakaihautu\",\"497\":\"ACG Tauranga\",\"498\":\"Rolleston Christian School\",\"499\":\"Middle School West Auckland\",\"500\":\"Pacific Advance Senior School\",\"501\":\"Pacific Advance Senior School\",\"502\":\"Te Kapehu Whetu - Teina\",\"503\":\"Te Kura Maori o Waatea\",\"504\":\"Te Kura Kaupapa Maori o Te Orini ki Ngati Awa\",\"505\":\"Meraki Montessori School\",\"506\":\"Ahipara School\",\"507\":\"Aranga School\",\"508\":\"Arapohue School\",\"509\":\"Awanui School\",\"510\":\"Blomfield Special School and Resource Ctre\",\"511\":\"Dargaville Intermediate\",\"512\":\"Dargaville Primary School\",\"513\":\"Glenbervie School\",\"514\":\"Herekino School\",\"515\":\"Hikurangi School\",\"516\":\"Hora Hora School (Te Mai)\",\"517\":\"Horeke School\",\"518\":\"Hukerenui School Years 1-8\",\"519\":\"Hurupaki School\",\"520\":\"Kaeo School\",\"521\":\"Kaihu Valley School\",\"522\":\"Kaikohe East School\",\"523\":\"Kaikohe Intermediate\",\"524\":\"Kaikohe West School\",\"525\":\"Kaingaroa School (Kaitaia)\",\"526\":\"Kaitaia Intermediate\",\"527\":\"Kaitaia School\",\"528\":\"Kaiwaka School\",\"529\":\"Totara Grove School\",\"530\":\"Kamo Intermediate\",\"531\":\"Kamo School\",\"532\":\"Karetu School\",\"533\":\"Kaurihohore School\",\"534\":\"Kawakawa Primary School\",\"535\":\"Kerikeri Primary School\",\"536\":\"Kohukohu School\",\"537\":\"Kokopu School\",\"538\":\"Mangamuka School\",\"539\":\"Mangawhai Beach School\",\"540\":\"Mangonui School\",\"541\":\"Matakohe School\",\"542\":\"Matarau School\",\"543\":\"Matauri Bay School\",\"544\":\"Matihetihe School\",\"545\":\"Maungakaramea School\",\"546\":\"Maungatapere School\",\"547\":\"Maungaturoto School\",\"548\":\"Maunu School\",\"549\":\"Morningside School\",\"550\":\"Motatau School\",\"551\":\"Ngataki School\",\"552\":\"Ngunguru School\",\"553\":\"Ohaeawai School\",\"554\":\"Okaihau School\",\"555\":\"Omanaia School\",\"556\":\"One Tree Point School\",\"557\":\"Onerahi School\",\"558\":\"Opua School\",\"559\":\"Oromahoe School\",\"560\":\"Oruaiti School\",\"561\":\"Otaika Valley School\",\"562\":\"Te Kura o Otangarei\",\"563\":\"Oturu School\",\"564\":\"Paihia School\",\"565\":\"Pakaraka School\",\"566\":\"Pakiri School\",\"567\":\"Pakotai School\",\"568\":\"Pamapuria School\",\"569\":\"Paparoa School\",\"570\":\"Paparore School\",\"571\":\"Parua Bay School\",\"572\":\"Peria School\",\"573\":\"Pompallier Catholic School\",\"574\":\"Poroti School\",\"575\":\"Portland School\",\"576\":\"Pouto School\",\"577\":\"Pukenui School (Kaitaia)\",\"578\":\"Pukepoto School\",\"579\":\"Purua School\",\"580\":\"Raurimu Avenue School\",\"581\":\"Rawene School\",\"582\":\"Ruakaka School\",\"583\":\"Ruawai Primary School\",\"584\":\"Russell School (Bay Of Islands)\",\"585\":\"Selwyn Park School\",\"586\":\"St Joseph\\'s Catholic School (Dargaville)\",\"587\":\"Te Kura o Hato Hohepa Te Kamura\",\"588\":\"Te Kura o Hata Maria (Pawarenga)\",\"589\":\"Tangiteroria School\",\"590\":\"Tangowahine School\",\"591\":\"Tapora School\",\"592\":\"Tauhoa School\",\"593\":\"Te Hapua School\",\"594\":\"Te Horo School (Whangarei)\",\"595\":\"Te Kopuru School\",\"596\":\"Bay of Islands International Academy\",\"597\":\"Tikipunga Primary School\",\"598\":\"Tinopai School\",\"599\":\"Tomarata School\",\"600\":\"Totara North School\",\"601\":\"Umawera School\",\"602\":\"Waiharara School\",\"603\":\"Waima School\",\"604\":\"Waiotira School\",\"605\":\"Waipu School\",\"606\":\"Wellsford School\",\"607\":\"Whananaki School\",\"608\":\"Whangarei Heads School\",\"609\":\"Whangarei Intermediate\",\"610\":\"Whangarei School\",\"611\":\"Whau Valley School\",\"612\":\"Living Way Christian School\",\"613\":\"New Life Christian School\",\"614\":\"Christian Renewal School\",\"615\":\"Lake Taupo Christian School\",\"616\":\"TKKM o Rangiawhia\",\"617\":\"TKKM o Takapau\",\"618\":\"TKKM o Nga Mokopuna\",\"619\":\"Te Rangi Aniwaniwa\",\"620\":\"Nelson Christian Academy\",\"621\":\"Sonrise Christian School\",\"622\":\"TKK o Te Puaha o Waikato\",\"623\":\"TKKM o Te Koutu\",\"624\":\"TKKM o Te Rawhiti Roa\",\"625\":\"Mahurangi Christian School\",\"626\":\"Everglade School\",\"627\":\"TKKM o Ruamata\",\"628\":\"Wanaka Primary School\",\"629\":\"Emmanuel Christian School\",\"630\":\"Paeroa Christian School\",\"631\":\"Whakatane S D A School\",\"632\":\"Cornerstone Christian School\",\"633\":\"Kaikohe Christian School\",\"634\":\"Te Huruhi School\",\"635\":\"Tasman Bay Christian School\",\"636\":\"Maranatha Christian School\",\"637\":\"Hawera Christian School\",\"638\":\"Matahui Road School\",\"639\":\"Matamata Christian School\",\"640\":\"Tauranga Waldorf School\",\"641\":\"Wa Ora Montessori School\",\"642\":\"Elim Christian College\",\"643\":\"Dunedin Rudolf Steiner School\",\"644\":\"Red Beach School\",\"645\":\"Adventure School\",\"646\":\"Ahuroa School\",\"647\":\"Aka Aka School\",\"648\":\"Albany School\",\"649\":\"Alfriston School\",\"650\":\"Anchorage Park School\",\"651\":\"Arahoe School\",\"652\":\"Ararimu School\",\"653\":\"Ardmore School\",\"654\":\"Arohanui Special School\",\"655\":\"Northern Health School\",\"656\":\"Auckland Normal Intermediate\",\"657\":\"Avondale Intermediate\",\"658\":\"Avondale Primary School (Auckland)\",\"659\":\"Awhitu District School\",\"660\":\"Sir Douglas Bader Intermediate School\",\"661\":\"Bailey Road School\",\"662\":\"Sir Edmund Hillary Collegiate Middle School\",\"663\":\"Bairds Mainfreight Primary School\",\"664\":\"Balmoral School (Auckland)\",\"665\":\"Bayfield School\",\"666\":\"Bayswater School\",\"667\":\"Bayview School\",\"668\":\"Beach Haven School\",\"669\":\"Beachlands School\",\"670\":\"Belmont Intermediate\",\"671\":\"Belmont School (Auckland)\",\"672\":\"Birdwood School\",\"673\":\"Birkdale Intermediate\",\"674\":\"Birkdale North School\",\"675\":\"Birkdale Primary School\",\"676\":\"Birkenhead School\",\"677\":\"Blockhouse Bay Intermediate\",\"678\":\"Blockhouse Bay School\",\"679\":\"Bombay School\",\"680\":\"Botany Downs School\",\"681\":\"Brookby School\",\"682\":\"Browns Bay School\",\"683\":\"Bruce McLaren Intermediate\",\"684\":\"Buckland School\",\"685\":\"Bucklands Beach Intermediate\",\"686\":\"Bucklands Beach Primary School\",\"687\":\"Campbells Bay School\",\"688\":\"Chaucer School\",\"689\":\"Chelsea School\",\"690\":\"Christ the King Catholic School (Owairaka)\",\"691\":\"Churchill Park School\",\"692\":\"Clayton Park School\",\"693\":\"Clendon Park School\",\"694\":\"Clevedon School\",\"695\":\"Sir Edmund Hillary Collegiate Junior School\",\"696\":\"Coatesville School\",\"697\":\"Cockle Bay School\",\"698\":\"Colwill School\",\"699\":\"Conifer Grove School\",\"700\":\"Cornwall Park District School\",\"701\":\"Cosgrove School\",\"702\":\"Dairy Flat School\",\"703\":\"Dawson School\",\"704\":\"Devonport School\",\"705\":\"Dominion Road School\",\"706\":\"Don Buck School\",\"707\":\"Drury School\",\"708\":\"East Tamaki School\",\"709\":\"Edendale School (Auckland)\",\"710\":\"Edmonton School\",\"711\":\"Edmund Hillary School\",\"712\":\"Ellerslie School\",\"713\":\"Elm Park School\",\"714\":\"Epsom Normal School\",\"715\":\"Fairburn School\",\"716\":\"Farm Cove Intermediate\",\"717\":\"Favona School\",\"718\":\"Ferguson Intermediate (Otara)\",\"719\":\"Finlayson Park School\",\"720\":\"Flanshaw Road School\",\"721\":\"Flat Bush School\",\"722\":\"Forrest Hill School\",\"723\":\"Freemans Bay School\",\"724\":\"Freyberg Community School\",\"725\":\"Fruitvale Road School\",\"726\":\"Gladstone School (Auckland)\",\"727\":\"Glamorgan School\",\"728\":\"Glen Eden Intermediate\",\"729\":\"Glen Eden School\",\"730\":\"Glen Innes School\",\"731\":\"Glen Taylor School\",\"732\":\"Glenavon School\",\"733\":\"Glenbrae Primary School\",\"734\":\"Glenbrook School\",\"735\":\"Glendene School\",\"736\":\"Glendowie School\",\"737\":\"Glenfield Intermediate\",\"738\":\"Glenfield Primary School\",\"739\":\"Good Shepherd School (Balmoral)\",\"740\":\"Green Bay Primary School\",\"741\":\"Greenhithe School\",\"742\":\"Greenmeadows Intermediate\",\"743\":\"Grey Lynn School\",\"744\":\"Halsey Drive School\",\"745\":\"Harrisville School\",\"746\":\"Hauraki School\",\"747\":\"Hay Park School\",\"748\":\"Helensville School\",\"749\":\"Henderson Intermediate\",\"750\":\"Henderson North School\",\"751\":\"Henderson School\",\"752\":\"Henderson South School\",\"753\":\"Henderson Valley School\",\"754\":\"Hillpark School\",\"755\":\"Hillsborough School\",\"756\":\"Hobsonville School\",\"757\":\"Holy Cross School (Papatoetoe)\",\"758\":\"Holy Cross Catholic School (Henderson)\",\"759\":\"Homai School\",\"760\":\"Howick Intermediate\",\"761\":\"Howick Primary School\",\"762\":\"Huapai District School\",\"763\":\"Hunua School\",\"764\":\"Jean Batten School\",\"765\":\"Kaiaua School\",\"766\":\"Kaipara Flats School\",\"767\":\"Karaka School\",\"768\":\"Kaukapakapa School\",\"769\":\"Kauri Park School\",\"770\":\"Kaurilands School\",\"771\":\"Kedgley Intermediate\",\"772\":\"Kelston Intermediate\",\"773\":\"Kelston School\",\"774\":\"Kelvin Road School\",\"775\":\"Kingsford School\",\"776\":\"Kohimarama School\",\"777\":\"Konini School (Auckland)\",\"778\":\"Koru School\",\"779\":\"Kowhai Intermediate\",\"780\":\"Laingholm School\",\"781\":\"Leabank School\",\"782\":\"Leigh School\",\"783\":\"Lincoln Heights School\",\"784\":\"Long Bay School\",\"785\":\"Mairangi Bay School\",\"786\":\"Mangatangi School\",\"787\":\"Mangatawhiri School\",\"788\":\"Mangere Bridge School\",\"789\":\"Mangere Central School\",\"790\":\"Mangere East School\",\"791\":\"Manuka Primary School\",\"792\":\"Royal Oak Intermediate School\",\"793\":\"Manurewa East School\",\"794\":\"Manurewa Intermediate\",\"795\":\"Manurewa Central School\",\"796\":\"Manurewa South School\",\"797\":\"Manurewa West School\",\"798\":\"Maraetai Beach School\",\"799\":\"Maramarua School\",\"800\":\"Marist School (Mt Albert)\",\"801\":\"Marist Catholic School (Herne Bay)\",\"802\":\"Marlborough School\",\"803\":\"Marshall Laing School\",\"804\":\"Massey Primary School\",\"805\":\"Matakana School\",\"806\":\"Matipo Road School\",\"807\":\"Mauku School\",\"808\":\"Maungawhau School\",\"809\":\"May Road School\",\"810\":\"Mayfield School (Auckland)\",\"811\":\"Meadowbank School\",\"812\":\"Mellons Bay School\",\"813\":\"Mercer School\",\"814\":\"Meremere School\",\"815\":\"Milford School (Auckland)\",\"816\":\"Monte Cecilia School (Mt Roskill)\",\"817\":\"Mt Eden Normal School\",\"818\":\"Mt Richmond School\",\"819\":\"Mountain View School\",\"820\":\"Mt Albert School\",\"821\":\"Mt Carmel School (Meadowbank)\",\"822\":\"Mt Roskill Intermediate\",\"823\":\"Mt Roskill Primary School\",\"824\":\"Mulberry Grove School\",\"825\":\"Murrays Bay Intermediate\",\"826\":\"Murrays Bay School\",\"827\":\"Macleans Primary School\",\"828\":\"New Lynn School\",\"829\":\"New Windsor School\",\"830\":\"Newmarket School\",\"831\":\"Newton Central School\",\"832\":\"Nga Iwi School\",\"833\":\"Northcote Intermediate\",\"834\":\"Northcote School (Auckland)\",\"835\":\"Northcross Intermediate\",\"836\":\"Oaklynn Special School\",\"837\":\"Okiwi School\",\"838\":\"Onehunga Primary School\",\"839\":\"Onepoto School\",\"840\":\"Opaheke School\",\"841\":\"Orakei School\",\"842\":\"Oranga School\",\"843\":\"Oratia School\",\"844\":\"Orere School\",\"845\":\"Orewa North School\",\"846\":\"Orewa School\",\"847\":\"Otahuhu Intermediate\",\"848\":\"Otahuhu School\",\"849\":\"Otaua School\",\"850\":\"Our Lady Sacred Heart School (Epsom)\",\"851\":\"Owairaka District School\",\"852\":\"Owairoa School\",\"853\":\"Paerata School\",\"854\":\"Pakuranga Heights School\",\"855\":\"Pakuranga Intermediate\",\"856\":\"Panama Road School\",\"857\":\"Panmure Bridge School\",\"858\":\"Panmure District School\",\"859\":\"Papakura Central School\",\"860\":\"Mansell Senior School\",\"861\":\"Papakura Normal School\",\"862\":\"Kereru Park Campus\",\"863\":\"Paparimu School\",\"864\":\"Papatoetoe Central School\",\"865\":\"Papatoetoe East School\",\"866\":\"Papatoetoe Intermediate\",\"867\":\"Papatoetoe North School\",\"868\":\"Papatoetoe South School\",\"869\":\"Papatoetoe West School\",\"870\":\"Parakai School\",\"871\":\"Ridgeview School\",\"872\":\"Park Estate School\",\"873\":\"Parkside School\",\"874\":\"Parnell School\",\"875\":\"Pasadena Intermediate\",\"876\":\"Patumahoe Primary School\",\"877\":\"Pigeon Mountain School\",\"878\":\"Pt Chevalier School\",\"879\":\"Pt England School\",\"880\":\"Pokeno School\",\"881\":\"Pomaria Road School\",\"882\":\"Ponsonby Intermediate\",\"883\":\"Ponsonby Primary School\",\"884\":\"Prospect School\",\"885\":\"Puhinui School\",\"886\":\"Pukekawa School\",\"887\":\"Pukekohe East School\",\"888\":\"Pukekohe Hill School\",\"889\":\"Pukekohe Intermediate\",\"890\":\"Pukekohe North School\",\"891\":\"Pukeoware School\",\"892\":\"Puni School\",\"893\":\"Ramarama School\",\"894\":\"Rangeview Intermediate\",\"895\":\"Ranui School\",\"896\":\"Redhill School\",\"897\":\"Redoubt North School\",\"898\":\"Remuera Intermediate\",\"899\":\"Remuera School\",\"900\":\"Richmond Road School\",\"901\":\"Riverhead School\",\"902\":\"Riverhills School\",\"903\":\"Riverina School\",\"904\":\"Robertson Road School\",\"905\":\"Rongomai School\",\"906\":\"Roscommon School\",\"907\":\"Rosebank School (Auckland)\",\"908\":\"Rosehill School\",\"909\":\"Rosehill Intermediate\",\"910\":\"Rowandale School\",\"911\":\"Royal Oak School\",\"912\":\"Royal Road School\",\"913\":\"Ruapotaka School\",\"914\":\"Rutherford School\",\"915\":\"Sandspit Road School\",\"916\":\"Shelly Park School\",\"917\":\"Sherwood School (Auckland)\",\"918\":\"Silverdale School\",\"919\":\"Sir Keith Park School\",\"920\":\"Sommerville School\",\"921\":\"St Anne\\'s Catholic School (Manurewa)\",\"922\":\"St Dominic\\'s Catholic School (Blockhouse Bay)\",\"923\":\"St Francis Catholic School (Pt Chevalier)\",\"924\":\"St Heliers School\",\"925\":\"St Ignatius Catholic School (St Heliers)\",\"926\":\"St John the Evangelist Catholic School\",\"927\":\"St John\\'s School (Mairangi Bay)\",\"928\":\"St Joseph\\'s School (Grey Lynn)\",\"929\":\"St Joseph\\'s School (Onehunga)\",\"930\":\"St Joseph\\'s School (Orakei)\",\"931\":\"St Joseph\\'s School (Otahuhu)\",\"932\":\"St Joseph\\'s School (Pukekohe)\",\"933\":\"St Joseph\\'s Catholic School (Takapuna)\",\"934\":\"St Leonards Road School\",\"935\":\"St Leo\\'s Catholic School (Devonport)\",\"936\":\"St Mark\\'s School (Pakuranga)\",\"937\":\"St Mary\\'s Catholic School (Papakura)\",\"938\":\"St Mary\\'s School (Avondale)\",\"939\":\"St Mary\\'s School (Ellerslie)\",\"940\":\"St Mary\\'s School (Northcote)\",\"941\":\"St Michael\\'s Catholic School (Remuera)\",\"942\":\"St Patrick\\'s School (Panmure)\",\"943\":\"St Pius X Catholic School (Glen Innes)\",\"944\":\"St Therese School (Three Kings)\",\"945\":\"St Thomas School (Auckland)\",\"946\":\"Stanhope Road School\",\"947\":\"Stanley Bay School\",\"948\":\"Stanmore Bay School\",\"949\":\"Star of the Sea School (Howick)\",\"950\":\"Sunnyhills School\",\"951\":\"Sunnybrae Normal School\",\"952\":\"Sunnydene Special School\",\"953\":\"Sunnynook School\",\"954\":\"Sunnyvale School\",\"955\":\"Sutton Park School\",\"956\":\"Swanson School\",\"957\":\"Sylvia Park School\",\"958\":\"Takanini School\",\"959\":\"Takapuna Normal Intermediate\",\"960\":\"Takapuna School\",\"961\":\"Tamaki School\",\"962\":\"Target Road School\",\"963\":\"Taupaki School\",\"964\":\"Te Atatu Intermediate\",\"965\":\"Peninsula Primary School\",\"966\":\"Te Hihi School\",\"967\":\"Te Kohanga School\",\"968\":\"Te Papapa School\",\"969\":\"Three Kings School\",\"970\":\"Tirimoana School\",\"971\":\"Titirangi School\",\"972\":\"Torbay School\",\"973\":\"Tuakau School\",\"974\":\"Valley School\",\"975\":\"Vauxhall School\",\"976\":\"Verran Primary School\",\"977\":\"Victoria Avenue School\",\"978\":\"View Road School\",\"979\":\"Viscount School\",\"980\":\"Waiau Pa School\",\"981\":\"Waikowhai Intermediate\",\"982\":\"Waikowhai School\",\"983\":\"Waimauku School\",\"984\":\"Wainui School\",\"985\":\"Waioneke School\",\"986\":\"Waipipi School\",\"987\":\"Wairau Intermediate\",\"988\":\"Wairau Valley School\",\"989\":\"Waitakere School\",\"990\":\"Waitoki School\",\"991\":\"Waiuku Primary School\",\"992\":\"Wakaaranga School\",\"993\":\"Warkworth School\",\"994\":\"Waterlea Public School\",\"995\":\"Waterview School\",\"996\":\"Wesley Intermediate\",\"997\":\"Wesley School\",\"998\":\"West Harbour School\",\"999\":\"Western Heights School (Auckland)\",\"1000\":\"Westmere School (Auckland)\",\"1001\":\"Waimahia Intermediate School\",\"1002\":\"Weymouth School\",\"1003\":\"Whangaparaoa School (Auckland)\",\"1004\":\"Whenuapai School\",\"1005\":\"Willow Park School\",\"1006\":\"Wilson School\",\"1007\":\"Windy Ridge School\",\"1008\":\"Wiri Central School\",\"1009\":\"Woodhill School\",\"1010\":\"Woodlands Park School\",\"1011\":\"Wymondley Road School\",\"1012\":\"Yendarra School\",\"1013\":\"Chapel Downs School\",\"1014\":\"Nova Montessori School\",\"1015\":\"TKKM o Te Raki Paewhenua\",\"1016\":\"St Anthony\\'s School (Wanganui)\",\"1017\":\"Gloriavale Christian Community School\",\"1018\":\"St Francis Xavier Catholic School (Whangarei)\",\"1019\":\"TKKM o Toku Mapihi Maurea\",\"1020\":\"Marina View School\",\"1021\":\"Kaitoke School (Claris)\",\"1022\":\"Riverview School\",\"1023\":\"Titirangi Rudolf Steiner School\",\"1024\":\"ACG Senior College\",\"1025\":\"ACG New Zealand International College\",\"1026\":\"Bishop Edward Gaines Catholic School\",\"1027\":\"St Matthew\\'s Primary School (Hastings)\",\"1028\":\"Timaru Christian School\",\"1029\":\"Te Ra School\",\"1030\":\"TKKM o Ngati Kahungunu o Te Wairoa\",\"1031\":\"TKKM o Ngati Rangi\",\"1032\":\"TKKM o Te Whanau Tahi\",\"1033\":\"Te Kura Akonga O Manurewa\",\"1034\":\"Ascot Community School\",\"1035\":\"Nga Kakano Christian Reo Rua Kura\",\"1036\":\"St Paul\\'s School (Richmond)\",\"1037\":\"Central Regional Health School\",\"1038\":\"Southern Regional Health School\",\"1039\":\"St Mary MacKillop Catholic School\",\"1040\":\"Te Kura Maori o Porirua\",\"1041\":\"St Thomas More Catholic School\",\"1042\":\"Rangitaiki Independent School\",\"1043\":\"The Corelli School\",\"1044\":\"Amana Christian School\",\"1045\":\"St Paul\\'s School (Massey)\",\"1046\":\"Te Kura o Torere\",\"1047\":\"Wainuiomata Intermediate\",\"1048\":\"Konini Primary School (Wainuiomata)\",\"1049\":\"Manaia View School\",\"1050\":\"Drummond Primary School\",\"1051\":\"TKKM o Wairarapa\",\"1052\":\"Motueka Rudolf Steiner School\",\"1053\":\"Destiny School\",\"1054\":\"Silverstream (South) Primary School\",\"1055\":\"Putaruru Primary School\",\"1056\":\"Lakeview School\",\"1057\":\"Masterton Primary School\",\"1058\":\"Douglas Park School\",\"1059\":\"Huia Range School\",\"1060\":\"Stella Maris Primary School\",\"1061\":\"Te Kura o Waikare\",\"1062\":\"Whangaruru School\",\"1063\":\"Wairoa Primary School\",\"1064\":\"Tiaho Primary School\",\"1065\":\"TKKM o Te Ara Whanui\",\"1066\":\"TKKM o Nga Uri A Maui\",\"1067\":\"TKKM o Te Waiu o Ngati Porou\",\"1068\":\"TKK o Te Wananga Whare Tapere o Takitimu\",\"1069\":\"Ruakituri School\",\"1070\":\"Te Mahia School\",\"1071\":\"Mohaka School\",\"1072\":\"Te Kura o Waikaremoana\",\"1073\":\"Rahotu School\",\"1074\":\"Aberdeen School\",\"1075\":\"Allandale School\",\"1076\":\"Amisfield School\",\"1077\":\"Aorangi School (Rotorua)\",\"1078\":\"Apanui School\",\"1079\":\"Arataki School\",\"1080\":\"Aria School\",\"1081\":\"Arohena School\",\"1082\":\"Ashbrook School\",\"1083\":\"Awakeri School\",\"1084\":\"Bankwood School\",\"1085\":\"Bellevue School (Tauranga)\",\"1086\":\"Berkley Normal Middle School\",\"1087\":\"TKKM o Bernard Fergusson\",\"1088\":\"Bethlehem School\",\"1089\":\"Broadlands School\",\"1090\":\"Brookfield School\",\"1091\":\"Cambridge East School\",\"1092\":\"Cambridge Middle School\",\"1093\":\"Cambridge School\",\"1094\":\"Cargill Open Plan School\",\"1095\":\"Centennial Park School\",\"1096\":\"Colville School\",\"1097\":\"Coroglen School\",\"1098\":\"David Henry School\",\"1099\":\"David Street School\",\"1100\":\"Deanwell School\",\"1101\":\"Edgecumbe School\",\"1102\":\"Elstow-Waihou Combined School\",\"1103\":\"Fairfield Intermediate\",\"1104\":\"Fairfield Primary School\",\"1105\":\"Fairhaven School\",\"1106\":\"TKKM o Te Ara Rima\",\"1107\":\"Firth School\",\"1108\":\"Forest Lake School\",\"1109\":\"Frankton School\",\"1110\":\"Galatea School\",\"1111\":\"Glen Massey School\",\"1112\":\"Glenholme School\",\"1113\":\"Glenview School (Hamilton)\",\"1114\":\"Goldfields School (Paeroa)\",\"1115\":\"Goodwood School\",\"1116\":\"Gordonton School\",\"1117\":\"Greenpark School (Tauranga)\",\"1118\":\"Greerton Village School\",\"1119\":\"Hamilton East School\",\"1120\":\"Hamilton North School\",\"1121\":\"Hamilton West School\",\"1122\":\"Hautapu School\",\"1123\":\"Hauturu School\",\"1124\":\"Hikuai School\",\"1125\":\"Hikutaia School\",\"1126\":\"Hillcrest Normal School\",\"1127\":\"Hilltop School\",\"1128\":\"Hinuera School\",\"1129\":\"Horahora School (Cambridge)\",\"1130\":\"Horohoro School\",\"1131\":\"Horotiu School\",\"1132\":\"Horsham Downs School\",\"1133\":\"TKKM o Huiarau\",\"1134\":\"Hukanui School\",\"1135\":\"St Patrick\\'s Catholic School (Taupo)\",\"1136\":\"Huntly School (Waikato)\",\"1137\":\"Huntly West School\",\"1138\":\"Insoll Avenue School\",\"1139\":\"Rangitaiki School\",\"1140\":\"James Street School\",\"1141\":\"Kaharoa School\",\"1142\":\"Kaihere School\",\"1143\":\"Kaimai School\",\"1144\":\"Kaingaroa Forest School\",\"1145\":\"Kaipaki School\",\"1146\":\"Kaitao Intermediate\",\"1147\":\"Kaka Street Special School\",\"1148\":\"Karangahake School\",\"1149\":\"Karapiro School\",\"1150\":\"Katikati Primary School\",\"1151\":\"Kawaha Point School\",\"1152\":\"Kawerau South School\",\"1153\":\"Kawhia School\",\"1154\":\"Kea Street Specialist School\",\"1155\":\"TKKM o Harataunga\",\"1156\":\"Kerepehi School\",\"1157\":\"Kihikihi School\",\"1158\":\"Kimihia School\",\"1159\":\"Kinohaku School\",\"1160\":\"Kio Kio School\",\"1161\":\"Kiwitahi School\",\"1162\":\"Knighton Normal School\",\"1163\":\"Kopuarahi School\",\"1164\":\"Korakonui School\",\"1165\":\"Koromatua School\",\"1166\":\"Kuratau School\",\"1167\":\"Kutarere School\",\"1168\":\"Lake Rerewhakaaitu School\",\"1169\":\"Lake Rotoma School\",\"1170\":\"Leamington School\",\"1171\":\"Lichfield School\",\"1172\":\"Lynmore Primary School\",\"1173\":\"Maeroa Intermediate\",\"1174\":\"Maihiihi School\",\"1175\":\"Maketu School\",\"1176\":\"Malfroy School\",\"1177\":\"Mamaku School\",\"1178\":\"Te Wharekura o Manaia\",\"1179\":\"Manawaru School\",\"1180\":\"Mapiu School\",\"1181\":\"Te Kura Mana Maori Maraenui\",\"1182\":\"Marotiri School\",\"1183\":\"Te Kura Mana Maori o Matahi\",\"1184\":\"Te Kura o Te Moutere O Matakana\",\"1185\":\"Matamata Intermediate\",\"1186\":\"Matamata Primary School\",\"1187\":\"Matangi School\",\"1188\":\"Te Kura o Matapihi\",\"1189\":\"Matata School\",\"1190\":\"Matatoki School\",\"1191\":\"Matua School\",\"1192\":\"Maungatapu School\",\"1193\":\"Melville Intermediate\",\"1194\":\"Melville Primary School\",\"1195\":\"Merivale School\",\"1196\":\"Mihi School\",\"1197\":\"Miller Avenue School\",\"1198\":\"Moanataiari School\",\"1199\":\"Mokoia Intermediate\",\"1200\":\"Morrinsville Intermediate\",\"1201\":\"Morrinsville School\",\"1202\":\"Motumaoho School\",\"1203\":\"Mountview School\",\"1204\":\"Mt Maunganui Intermediate\",\"1205\":\"Mt Maunganui School\",\"1206\":\"Nawton School\",\"1207\":\"Netherton School\",\"1208\":\"Newstead Model School\",\"1209\":\"Ngahinapouri School\",\"1210\":\"Ngakonui Valley School\",\"1211\":\"Ngakuru School\",\"1212\":\"Ngapuke School\",\"1213\":\"Ngaruawahia School\",\"1214\":\"Ngatea School\",\"1215\":\"Ngati Haua School\",\"1216\":\"Ngongotaha School\",\"1217\":\"Ngutunui School\",\"1218\":\"Nukuhou North School\",\"1219\":\"Ohaupo School\",\"1220\":\"Ohinewai School\",\"1221\":\"Ohope Beach School\",\"1222\":\"Kuranui Primary School\",\"1223\":\"Te Kura o Omaio\",\"1224\":\"Omanu School\",\"1225\":\"Omarumutu School\",\"1226\":\"Omokoroa Point School\",\"1227\":\"Omokoroa School\",\"1228\":\"Te Wharekura o Maniapoto\",\"1229\":\"Opotiki School\",\"1230\":\"Opoutere School\",\"1231\":\"Orini Combined School\",\"1232\":\"Oropi School\",\"1233\":\"Otakiri School\",\"1234\":\"Otamarakau School\",\"1235\":\"TKKM o Otepou\",\"1236\":\"Otewa School\",\"1237\":\"Otonga Road School\",\"1238\":\"Otorohanga School\",\"1239\":\"Otorohanga South School\",\"1240\":\"Otumoetai Intermediate\",\"1241\":\"Otumoetai School\",\"1242\":\"St Mary\\'s Catholic School (Otorohanga)\",\"1243\":\"Owhata School\",\"1244\":\"Paengaroa School\",\"1245\":\"Paeroa Central School\",\"1246\":\"Pahoia School\",\"1247\":\"Papamoa Primary School\",\"1248\":\"Parawai School\",\"1249\":\"Te Kura o Te Paroa\",\"1250\":\"Paterangi School\",\"1251\":\"Patricia Avenue School\",\"1252\":\"Peachgrove Intermediate\",\"1253\":\"Pekerau School\",\"1254\":\"Pillans Point School\",\"1255\":\"Piopio Primary School\",\"1256\":\"Piri Piri School\",\"1257\":\"Pirongia School\",\"1258\":\"Pokuru School\",\"1259\":\"Pongakawa School\",\"1260\":\"Puahue School\",\"1261\":\"Pukeatua School\",\"1262\":\"Pukehina School\",\"1263\":\"Pukemiro School\",\"1264\":\"Pukenui School (Te Kuiti)\",\"1265\":\"Puketaha School\",\"1266\":\"Pukete School\",\"1267\":\"Puriri School\",\"1268\":\"Te Puru School\",\"1269\":\"Pyes Pa Road School\",\"1270\":\"Te Wharekura o Rakaumangamanga\",\"1271\":\"Rangiriri School\",\"1272\":\"Rangitoto School\",\"1273\":\"Rangiuru School\",\"1274\":\"Raukokore School\",\"1275\":\"Reporoa School\",\"1276\":\"Rhode Street School\",\"1277\":\"Roto-O-Rangi School\",\"1278\":\"TKKM o Rotoiti\",\"1279\":\"Rotokauri School\",\"1280\":\"Rotokawa School\",\"1281\":\"Rotorua Intermediate\",\"1282\":\"Rotorua School\",\"1283\":\"Ficino School\",\"1284\":\"Ruawaro Combined School\",\"1285\":\"Rukuhia School\",\"1286\":\"Selwyn School\",\"1287\":\"Silverdale Normal School\",\"1288\":\"Springdale School\",\"1289\":\"Hamilton Junior High School\",\"1290\":\"St Anthony\\'s Catholic School (Huntly)\",\"1291\":\"St Columba\\'s Catholic School (Frankton)\",\"1292\":\"St Francis School (Thames)\",\"1293\":\"St Joseph\\'s Catholic School (Fairfield)\",\"1294\":\"St Joseph\\'s Catholic School (Matamata)\",\"1295\":\"St Joseph\\'s Catholic School (Matata)\",\"1296\":\"St Joseph\\'s Catholic Sch (Morrinsville)\",\"1297\":\"St Joseph\\'s Catholic School (Opotiki)\",\"1298\":\"St Joseph\\'s Catholic School (Paeroa)\",\"1299\":\"St Joseph\\'s Catholic School (Te Aroha)\",\"1300\":\"St Joseph\\'s Catholic School (Te Kuiti)\",\"1301\":\"St Joseph\\'s Catholic School (Waihi)\",\"1302\":\"St Joseph\\'s Catholic School (Whakatane)\",\"1303\":\"St Mary\\'s Catholic School (Putaruru)\",\"1304\":\"St Mary\\'s Catholic School (Rotorua)\",\"1305\":\"St Mary\\'s Catholic School (Tauranga)\",\"1306\":\"St Michael\\'s Catholic School (Rotorua)\",\"1307\":\"St Patrick\\'s Catholic Sch (Taumarunui)\",\"1308\":\"St Patrick\\'s Catholic Sch (Te Awamutu)\",\"1309\":\"St Paul\\'s Catholic School (Ngaruawahia)\",\"1310\":\"St Peter Chanel Catholic Sch (Te Rapa)\",\"1311\":\"St Peter\\'s Catholic School (Cambridge)\",\"1312\":\"St Pius X Catholic School (Melville)\",\"1313\":\"Stanley Avenue School\",\"1314\":\"Strathmore School\",\"1315\":\"Sunset Primary School\",\"1316\":\"Te Kura o Tahaaroa\",\"1317\":\"Tahuna School\",\"1318\":\"Tainui Full Primary School\",\"1319\":\"Tairua School\",\"1320\":\"Tamahere Model Country School\",\"1321\":\"Taneatua School\",\"1322\":\"Tapu School\",\"1323\":\"Tarrangower School\",\"1324\":\"Tatuanui School\",\"1325\":\"Tauhara School\",\"1326\":\"Tauhei Combined School\",\"1327\":\"Taumarunui Primary School\",\"1328\":\"Taupiri School\",\"1329\":\"Taupo Intermediate\",\"1330\":\"Taupo School\",\"1331\":\"Tauranga Intermediate\",\"1332\":\"Tauranga Primary School\",\"1333\":\"Gate Pa School\",\"1334\":\"Tauriko School\",\"1335\":\"Tauwhare School\",\"1336\":\"Tawera Bilingual School\",\"1337\":\"Te Akau School\",\"1338\":\"Te Aroha Primary School\",\"1339\":\"Te Awamutu Intermediate\",\"1340\":\"Te Awamutu Primary School\",\"1341\":\"Te Kauwhata Primary School\",\"1342\":\"Te Kowhai School\",\"1343\":\"Te Kuiti Primary School\",\"1344\":\"Te Mahoe School\",\"1345\":\"Te Mata School (Raglan)\",\"1346\":\"TKKM o Te Matai\",\"1347\":\"Te Miro School\",\"1348\":\"Te Pahu School\",\"1349\":\"Te Poi School\",\"1350\":\"Te Puke Intermediate\",\"1351\":\"Te Puke Primary School\",\"1352\":\"Te Puna School\",\"1353\":\"Te Ranga School\",\"1354\":\"Te Rapa School\",\"1355\":\"Te Rerenga School\",\"1356\":\"Te Kura o Te Teko\",\"1357\":\"Te Uku School\",\"1358\":\"Te Waotu School\",\"1359\":\"Thames South School\",\"1360\":\"Thornton School\",\"1361\":\"Tirau Primary School\",\"1362\":\"Tirohanga School\",\"1363\":\"Tirohia School\",\"1364\":\"Tokoroa Central School\",\"1365\":\"Tokoroa Intermediate\",\"1366\":\"Tokoroa North School\",\"1367\":\"Turaki School\",\"1368\":\"Turua Primary School\",\"1369\":\"Upper Atiamuri School\",\"1370\":\"Vardon School\",\"1371\":\"Waerenga School\",\"1372\":\"Te Kura o Waharoa\",\"1373\":\"Waihi Beach School\",\"1374\":\"Waihi East School\",\"1375\":\"Waihi Central School\",\"1376\":\"Waikaretu School\",\"1377\":\"Waikino School\",\"1378\":\"Waikite Valley School\",\"1379\":\"Waimana School\",\"1380\":\"Waimata School\",\"1381\":\"Waingaro School\",\"1382\":\"TKKM o Waioweka\",\"1383\":\"Te Kura Maori-a-Rohe o Waiohau\",\"1384\":\"Waiotahe Valley School\",\"1385\":\"Waipa School\",\"1386\":\"Waipahihi School\",\"1387\":\"Wairakei School\",\"1388\":\"Te Kura o Waitahanui\",\"1389\":\"Waitakaruru School\",\"1390\":\"Waitetuna School\",\"1391\":\"Waitoa School\",\"1392\":\"Waitomo Caves School\",\"1393\":\"Walton School\",\"1394\":\"Wairere School\",\"1395\":\"Welcome Bay School\",\"1396\":\"Westbrook School\",\"1397\":\"Western Heights Primary School (Rotorua)\",\"1398\":\"Whakamarama School\",\"1399\":\"Whakamaru School\",\"1400\":\"Te Kura o Te Whakarewarewa\",\"1401\":\"Whakatane Intermediate\",\"1402\":\"Whangamarino School\",\"1403\":\"Te Kura Mana Maori o Whangaparaoa\",\"1404\":\"ACG Parnell College\",\"1405\":\"Wharepapa South School\",\"1406\":\"Whatawhata School\",\"1407\":\"Whenuakite School\",\"1408\":\"Whitikahu School\",\"1409\":\"Whitiora School\",\"1410\":\"Woodlands School (Opotiki)\",\"1411\":\"Woodstock School\",\"1412\":\"Marian Catholic School (Hamilton)\",\"1413\":\"Kaponga School\",\"1414\":\"Crawshaw School\",\"1415\":\"Manaia School (Taranaki)\",\"1416\":\"Matapu School\",\"1417\":\"Trentham School\",\"1418\":\"Koraunui School\",\"1419\":\"Tautoro School\",\"1420\":\"Maromaku School\",\"1421\":\"Moerewa School\",\"1422\":\"TKKM o Taumarere\",\"1423\":\"Awahono School - Grey Valley\",\"1424\":\"Paparoa Range School\",\"1425\":\"Geraldine Primary School\",\"1426\":\"Winchester Rural School\",\"1427\":\"Temuka Primary School\",\"1428\":\"Oceanview Heights School\",\"1429\":\"Grantlea Downs School\",\"1430\":\"Barton Rural School\",\"1431\":\"Bluestone School\",\"1432\":\"Beaconsfield School\",\"1433\":\"Timaru South School\",\"1434\":\"New River Primary\",\"1435\":\"Fernworth Primary School\",\"1436\":\"Newfield Park School\",\"1437\":\"Donovan Primary School\",\"1438\":\"Bluff School\",\"1439\":\"Lake Brunner School\",\"1440\":\"Jean Seabrook Memorial School\",\"1441\":\"Ahititi School\",\"1442\":\"Auroa School\",\"1443\":\"Avon School\",\"1444\":\"Bell Block School\",\"1445\":\"Central School\",\"1446\":\"Devon Intermediate\",\"1447\":\"Egmont Village School\",\"1448\":\"Eltham School\",\"1449\":\"Fitzroy School\",\"1450\":\"Frankley School\",\"1451\":\"Hawera Intermediate\",\"1452\":\"Hawera Primary School\",\"1453\":\"Highlands Intermediate\",\"1454\":\"Huiakama School\",\"1455\":\"Huirangi School\",\"1456\":\"Inglewood School\",\"1457\":\"Kaimata School\",\"1458\":\"Lepperton School\",\"1459\":\"Makahu School\",\"1460\":\"Mangorei School\",\"1461\":\"Manukorihi Intermediate\",\"1462\":\"Marco School\",\"1463\":\"Marfell School\",\"1464\":\"Matiere School\",\"1465\":\"Merrilands School\",\"1466\":\"Midhirst School\",\"1467\":\"Mimi School\",\"1468\":\"Mokau School\",\"1469\":\"Mokoia School\",\"1470\":\"Moturoa School\",\"1471\":\"Ngaere School\",\"1472\":\"Norfolk School\",\"1473\":\"Normanby School\",\"1474\":\"Oakura School\",\"1475\":\"Omata School\",\"1476\":\"Ongarue School\",\"1477\":\"Opunake School\",\"1478\":\"Pembroke School\",\"1479\":\"Puketapu School (New Plymouth)\",\"1480\":\"Ramanui School\",\"1481\":\"Ratapiko School\",\"1482\":\"Rawhitiroa School\",\"1483\":\"Spotswood Primary School\",\"1484\":\"St John Bosco School (New Plymouth)\",\"1485\":\"St Joseph\\'s School (Hawera)\",\"1486\":\"St Joseph\\'s School (New Plymouth)\",\"1487\":\"St Joseph\\'s School (Opunake)\",\"1488\":\"St Joseph\\'s School (Stratford)\",\"1489\":\"St Joseph\\'s School (Waitara)\",\"1490\":\"St Patrick\\'s School (Kaponga)\",\"1491\":\"St Patrick\\'s School (Inglewood)\",\"1492\":\"St Pius X School (New Plymouth)\",\"1493\":\"Stratford School\",\"1494\":\"Tawhiti School\",\"1495\":\"Tikorangi School\",\"1496\":\"Tokirima School\",\"1497\":\"Toko School\",\"1498\":\"Turuturu School\",\"1499\":\"Urenui School\",\"1500\":\"Uruti School\",\"1501\":\"Vogeltown School\",\"1502\":\"Waitara Central School\",\"1503\":\"Waitara East School\",\"1504\":\"Waitoriki School\",\"1505\":\"Welbourn School\",\"1506\":\"West End School (New Plymouth)\",\"1507\":\"Westown School\",\"1508\":\"Whareorino School\",\"1509\":\"Woodleigh School\",\"1510\":\"Aberfeldy School\",\"1511\":\"Aokautere School\",\"1512\":\"Apiti School\",\"1513\":\"Arahunga School\",\"1514\":\"Aramoho School\",\"1515\":\"Aranui School (Wanganui)\",\"1516\":\"Ashhurst School\",\"1517\":\"Awahou School\",\"1518\":\"Awapuni School (P.North)\",\"1519\":\"Bainesse School\",\"1520\":\"Brunswick School\",\"1521\":\"Bulls School\",\"1522\":\"Bunnythorpe School\",\"1523\":\"Carlton School\",\"1524\":\"Castlecliff School\",\"1525\":\"Cheltenham School\",\"1526\":\"Churton School\",\"1527\":\"Clifton School (Bulls)\",\"1528\":\"Cloverlea School\",\"1529\":\"TKKM o Otepoti\",\"1530\":\"Coley Street School\",\"1531\":\"College Street Normal School\",\"1532\":\"Colyton School\",\"1533\":\"Durie Hill School\",\"1534\":\"Feilding Intermediate\",\"1535\":\"Fordell School\",\"1536\":\"Foxton Beach School\",\"1537\":\"Foxton School\",\"1538\":\"Glen Oroua School\",\"1539\":\"Gonville School\",\"1540\":\"Halcombe Primary School\",\"1541\":\"Somerset Crescent School\",\"1542\":\"Hiwinui School\",\"1543\":\"Hokowhitu School\",\"1544\":\"Hunterville Consolidated School\",\"1545\":\"Hurleyville School\",\"1546\":\"James Cook School\",\"1547\":\"Kai Iwi School\",\"1548\":\"Kairanga School\",\"1549\":\"Kaitieke School\",\"1550\":\"Kaitoke School (Wanganui)\",\"1551\":\"Kakahi School\",\"1552\":\"Kakaramea School\",\"1553\":\"Kakatahi School\",\"1554\":\"TKKM o Tupoho\",\"1555\":\"Keith Street School\",\"1556\":\"Kimbolton School\",\"1557\":\"Kiwitea School\",\"1558\":\"TKKM o Ngati Ruanui\",\"1559\":\"Te Kura o Kokohuia\",\"1560\":\"Kopane School\",\"1561\":\"Linton Camp School\",\"1562\":\"Linton Country School\",\"1563\":\"Longburn School\",\"1564\":\"Lytton Street School\",\"1565\":\"Manchester Street School\",\"1566\":\"Mangamahu Primary School\",\"1567\":\"Mangaweka School\",\"1568\":\"Manunui School\",\"1569\":\"St Marcellin School (Wanganui)\",\"1570\":\"Marton Junction School\",\"1571\":\"Marton School\",\"1572\":\"Mataroa School\",\"1573\":\"Milson School\",\"1574\":\"Moawhango School\",\"1575\":\"Monrad Intermediate\",\"1576\":\"Mosston School\",\"1577\":\"Mount Biggs School\",\"1578\":\"National Park School\",\"1579\":\"Newbury School\",\"1580\":\"Ngamatapouri School\",\"1581\":\"Ngamatea School\",\"1582\":\"North Street School\",\"1583\":\"Ohakune School\",\"1584\":\"Okoia School\",\"1585\":\"Orautoha School\",\"1586\":\"Oroua Downs School\",\"1587\":\"Our Lady of Lourdes School (P North)\",\"1588\":\"Owhango School\",\"1589\":\"Central Normal School\",\"1590\":\"Palmerston North Intermediate\",\"1591\":\"Papanui Junction School\",\"1592\":\"Parkland School (P North)\",\"1593\":\"Pukeokahu School\",\"1594\":\"Raetihi Primary School\",\"1595\":\"Rangiwaea School\",\"1596\":\"Te Kura o Ratana\",\"1597\":\"Riverdale School (P North)\",\"1598\":\"Rongotea School\",\"1599\":\"Roslyn School\",\"1600\":\"Ross Intermediate\",\"1601\":\"Russell Street School\",\"1602\":\"Rutherford Junior High School\",\"1603\":\"Sanson School\",\"1604\":\"TKKM o Ngati Kahungunu Ki Heretaunga\",\"1605\":\"South Makirikiri School\",\"1606\":\"St Anne\\'s School (Wanganui)\",\"1607\":\"St James School (P North)\",\"1608\":\"St John\\'s Hill School\",\"1609\":\"St Joseph\\'s School (Feilding)\",\"1610\":\"St Joseph\\'s School (Patea)\",\"1611\":\"St Joseph\\'s School (Taihape)\",\"1612\":\"St Mary\\'s School (Wanganui)\",\"1613\":\"St Mary\\'s School (Foxton)\",\"1614\":\"St Matthew\\'s School (Marton)\",\"1615\":\"St Mary\\'s School (P North)\",\"1616\":\"Takaro School\",\"1617\":\"Tangimoana School\",\"1618\":\"Taonui School\",\"1619\":\"Taoroa School\",\"1620\":\"Tawhero School\",\"1621\":\"Terrace End School\",\"1622\":\"Tiritea School\",\"1623\":\"Turakina School\",\"1624\":\"Upokongaro School\",\"1625\":\"Waiouru School\",\"1626\":\"Waitotara School\",\"1627\":\"Waituna West School\",\"1628\":\"Whanganui East School\",\"1629\":\"Wanganui Intermediate\",\"1630\":\"Waverley Primary School\",\"1631\":\"West End School (P North)\",\"1632\":\"Westmere School (Wanganui)\",\"1633\":\"Whakarongo School\",\"1634\":\"Whangaehu School\",\"1635\":\"Whenuakura School\",\"1636\":\"Winchester School (P North)\",\"1637\":\"Argyll East School\",\"1638\":\"Arthur Miller School\",\"1639\":\"Awapuni School (Gisborne)\",\"1640\":\"Bledisloe School\",\"1641\":\"Bridge Pa School\",\"1642\":\"Camberley School\",\"1643\":\"Clive School\",\"1644\":\"Cobham School\",\"1645\":\"Dannevirke South School\",\"1646\":\"Ebbett Park School\",\"1647\":\"Elgin School\",\"1648\":\"Elsthorpe School\",\"1649\":\"Eskdale School\",\"1650\":\"Fairhaven School (Napier)\",\"1651\":\"Flaxmere Primary School\",\"1652\":\"Flemington School (Waipukurau)\",\"1653\":\"Frasertown School\",\"1654\":\"Frimley School\",\"1655\":\"Gisborne Central School\",\"1656\":\"Gisborne Intermediate\",\"1657\":\"Greenmeadows School\",\"1658\":\"Hastings Central School\",\"1659\":\"Hastings Intermediate\",\"1660\":\"Haumoana School\",\"1661\":\"Havelock North Intermediate\",\"1662\":\"Havelock North Primary School\",\"1663\":\"Henry Hill School\",\"1664\":\"Heretaunga Intermediate\",\"1665\":\"Hiruharama School\",\"1666\":\"Ilminster Intermediate\",\"1667\":\"Irongate School\",\"1668\":\"Kaiti School\",\"1669\":\"Kereru School\",\"1670\":\"Kotemaori School\",\"1671\":\"Kowhai School\",\"1672\":\"Lucknow School\",\"1673\":\"Mahora School\",\"1674\":\"Makaraka School\",\"1675\":\"Makarika School\",\"1676\":\"Makauri School\",\"1677\":\"Mangaorapa School\",\"1678\":\"Mangapapa School\",\"1679\":\"Mangateretere School\",\"1680\":\"TKKM o Mangatuna\",\"1681\":\"Manutuke School\",\"1682\":\"Maraenui Bilingual School (Napier)\",\"1683\":\"Marewa School\",\"1684\":\"Mata School\",\"1685\":\"Matawai School\",\"1686\":\"Mayfair School\",\"1687\":\"Meeanee School\",\"1688\":\"Motu School\",\"1689\":\"Muriwai School\",\"1690\":\"Napier Central School\",\"1691\":\"Napier Intermediate\",\"1692\":\"Nelson Park School\",\"1693\":\"Ngatapa School\",\"1694\":\"Norsewood and Districts School\",\"1695\":\"Nuhaka School\",\"1696\":\"Ohuka School\",\"1697\":\"Omahu School\",\"1698\":\"Omakere School\",\"1699\":\"Onekawa School\",\"1700\":\"Ongaonga School\",\"1701\":\"Ormond School\",\"1702\":\"Otane School\",\"1703\":\"Te Kura o Pakipaki\",\"1704\":\"Pakowhai School\",\"1705\":\"Papatawa School\",\"1706\":\"Parkvale School\",\"1707\":\"Patoka School\",\"1708\":\"Patutahi School\",\"1709\":\"Peterhead School\",\"1710\":\"Porangahau School\",\"1711\":\"Porritt School\",\"1712\":\"Port Ahuriri School\",\"1713\":\"Potaka School\",\"1714\":\"Poukawa School\",\"1715\":\"Pukehamoamoa School\",\"1716\":\"Pukehou School\",\"1717\":\"Puketapu School (Hawkes Bay)\",\"1718\":\"Putere School\",\"1719\":\"Putorino School\",\"1720\":\"TKKM o Tapere-Nui-A-Whatonga\",\"1721\":\"Raureka School\",\"1722\":\"Reignier Catholic School\",\"1723\":\"Rere School\",\"1724\":\"Richmond School (Napier)\",\"1725\":\"Riverdale School (Gisborne)\",\"1726\":\"Riverslea School\",\"1727\":\"Ruahine School\",\"1728\":\"Sherenden and Districts School\",\"1729\":\"Sherwood School (Hawkes Bay)\",\"1730\":\"St Joseph\\'s School (Dannevirke)\",\"1731\":\"St Joseph\\'s School (Hastings)\",\"1732\":\"St Joseph\\'s School (Waipukurau)\",\"1733\":\"St Joseph\\'s School (Wairoa)\",\"1734\":\"St Mary\\'s Catholic School (Gisborne)\",\"1735\":\"St Mary\\'s School (Hastings)\",\"1736\":\"Takapau School\",\"1737\":\"Tamatea Intermediate\",\"1738\":\"Tamatea School\",\"1739\":\"Taradale Intermediate\",\"1740\":\"Taradale School\",\"1741\":\"Te Awa School\",\"1742\":\"Te Hapara School\",\"1743\":\"Te Mata School (Havelock North)\",\"1744\":\"Te Pohue School\",\"1745\":\"Te Wharau School (Gisborne)\",\"1746\":\"The Terrace School (Waipukurau)\",\"1747\":\"Tikitiki School\",\"1748\":\"Tikokino School\",\"1749\":\"Tiniroto School\",\"1750\":\"Hatea-A-Rangi\",\"1751\":\"Tutira School\",\"1752\":\"Twyford School\",\"1753\":\"Waerenga-O-Kuri School\",\"1754\":\"Waikirikiri School\",\"1755\":\"Waimarama School\",\"1756\":\"Wainui Beach School\",\"1757\":\"Waipawa School\",\"1758\":\"Waipukurau School\",\"1759\":\"Weber School\",\"1760\":\"Westshore School\",\"1761\":\"Whangara School\",\"1762\":\"Te Kura Kaupapa Maori o Whatatutu\",\"1763\":\"Woodville School\",\"1764\":\"St Patrick\\'s School (Napier)\",\"1765\":\"Kimi Ora Community School\",\"1766\":\"Hawke\\'s Bay School for Teenage Parents\",\"1767\":\"Karanga Mai Young Parents College\",\"1768\":\"Te Whare Whai Hua Teenage Parent Centre\",\"1769\":\"Wairarapa Teen Parent Unit\",\"1770\":\"Te Whakatipuranga (Otumoetai TPU)\",\"1771\":\"He Huarahi Tamariki\",\"1772\":\"Rotorua School for Young Parents\",\"1773\":\"Stratford High School Teen Parent Unit\",\"1774\":\"Titiro Whakamua\",\"1775\":\"Whakatipuria Teen Parent Unit\",\"1776\":\"He Mataariki School for Teen Parents\",\"1777\":\"Kawerau Teen Parent Unit\",\"1778\":\"Fraser High School TPU\",\"1779\":\"Eden Campus\",\"1780\":\"Kimihia Parents\\' College\",\"1781\":\"Clendon Teen Parent Unit\",\"1782\":\"Alfredton School\",\"1783\":\"Arakura School\",\"1784\":\"Avalon School\",\"1785\":\"Ballance School\",\"1786\":\"Bellevue School (Newlands)\",\"1787\":\"Belmont School (Lower Hutt)\",\"1788\":\"Berhampore School\",\"1789\":\"Birchville School\",\"1790\":\"Blenheim School\",\"1791\":\"Bohally Intermediate\",\"1792\":\"Boulcott School\",\"1793\":\"Brandon Intermediate\",\"1794\":\"Brooklyn School (Wellington)\",\"1795\":\"Cannons Creek School\",\"1796\":\"Cardinal McKeefry School (Wilton)\",\"1797\":\"Carterton School\",\"1798\":\"Cashmere Avenue School\",\"1799\":\"Crofton Downs Primary School\",\"1800\":\"Churton Park School\",\"1801\":\"Clifton Terrace Model School\",\"1802\":\"Clyde Quay School\",\"1803\":\"Corinna School\",\"1804\":\"Dalefield School\",\"1805\":\"Discovery School\",\"1806\":\"Dyer Street School\",\"1807\":\"Eastern Hutt School\",\"1808\":\"Eketahuna School\",\"1809\":\"Epuni School\",\"1810\":\"Evans Bay Intermediate\",\"1811\":\"Fairfield School (Levin)\",\"1812\":\"Fairhall School\",\"1813\":\"Featherston School\",\"1814\":\"Fergusson Intermediate (Trentham)\",\"1815\":\"Fernlea School\",\"1816\":\"Fernridge School\",\"1817\":\"Fraser Crescent School\",\"1818\":\"Gladstone School (Masterton)\",\"1819\":\"Pukeatua Primary School (Wainuiomata)\",\"1820\":\"Glenview School (Porirua East)\",\"1821\":\"Gracefield School\",\"1822\":\"Greenacres School\",\"1823\":\"Greytown School\",\"1824\":\"Grovetown School\",\"1825\":\"Hampton Hill School\",\"1826\":\"Hataitai School\",\"1827\":\"Havelock School\",\"1828\":\"Hillcrest School (Pahiatua)\",\"1829\":\"Holy Family School (Porirua)\",\"1830\":\"Houghton Valley School\",\"1831\":\"Hutt Central School\",\"1832\":\"Hutt Intermediate\",\"1833\":\"Island Bay School\",\"1834\":\"Johnsonville School\",\"1835\":\"West Park School\",\"1836\":\"Kahutara School\",\"1837\":\"Kapanui School\",\"1838\":\"Mahinawa Specialist School and Resource Centre\",\"1839\":\"Kapiti School\",\"1840\":\"Karori Normal School\",\"1841\":\"Karori West Normal School\",\"1842\":\"Kelburn Normal School\",\"1843\":\"Kelson School\",\"1844\":\"Kenakena School\",\"1845\":\"Khandallah School\",\"1846\":\"Kilbirnie School\",\"1847\":\"Koputaroa School\",\"1848\":\"Korokoro School\",\"1849\":\"Levin East School\",\"1850\":\"Levin Intermediate\",\"1851\":\"Levin North School\",\"1852\":\"Levin School\",\"1853\":\"Linden School\",\"1854\":\"Linkwater School\",\"1855\":\"Lyall Bay School\",\"1856\":\"Maidstone Intermediate\",\"1857\":\"Makara Model School\",\"1858\":\"Makuri School\",\"1859\":\"Manakau School\",\"1860\":\"Mangaroa School\",\"1861\":\"Mangatainoka School\",\"1862\":\"Maoribank School\",\"1863\":\"Maraeroa School\",\"1864\":\"Holy Cross School (Miramar)\",\"1865\":\"Martinborough School\",\"1866\":\"Masterton Intermediate\",\"1867\":\"Mauriceville School\",\"1868\":\"Mayfield School (Blenheim)\",\"1869\":\"Miramar Central School\",\"1870\":\"Miramar North School\",\"1871\":\"Mt Cook School (Wellington)\",\"1872\":\"Muritai School\",\"1873\":\"Naenae Intermediate\",\"1874\":\"Naenae School\",\"1875\":\"Natone Park School\",\"1876\":\"Newlands Intermediate\",\"1877\":\"Newlands School\",\"1878\":\"Newtown School\",\"1879\":\"Ngaio School\",\"1880\":\"Ngati Toa School\",\"1881\":\"Normandale School\",\"1882\":\"Northland School\",\"1883\":\"Ohau School\",\"1884\":\"Opaki School\",\"1885\":\"Opiki School\",\"1886\":\"Otaki School\",\"1887\":\"Our Lady of Rosary School (Waiwhetu)\",\"1888\":\"Owhiro Bay School\",\"1889\":\"Oxford Crescent School\",\"1890\":\"Paekakariki School\",\"1891\":\"Pahiatua School\",\"1892\":\"Papakowhai School\",\"1893\":\"Paparangi School\",\"1894\":\"Paraparaumu Beach School\",\"1895\":\"Paraparaumu School\",\"1896\":\"Paremata School\",\"1897\":\"Pauatahanui School\",\"1898\":\"Petone Central School\",\"1899\":\"Picton School\",\"1900\":\"Pinehaven School\",\"1901\":\"Pirinoa School\",\"1902\":\"Plateau School\",\"1903\":\"Plimmerton School\",\"1904\":\"Pomare School\",\"1905\":\"Pongaroa School\",\"1906\":\"Porirua East School\",\"1907\":\"Porirua School\",\"1908\":\"Poroutawhao School\",\"1909\":\"Postgate School\",\"1910\":\"Pukerua Bay School\",\"1911\":\"Maungaraki School\",\"1912\":\"Randwick School\",\"1913\":\"Rangikura School\",\"1914\":\"Rapaura School\",\"1915\":\"Raroa Normal Intermediate\",\"1916\":\"Rata Street School\",\"1917\":\"Raumati Beach School\",\"1918\":\"Raumati South School\",\"1919\":\"Redwood School (Tawa)\",\"1920\":\"Redwoodtown School\",\"1921\":\"Renwick School\",\"1922\":\"Rewa Rewa School\",\"1923\":\"Ridgway School\",\"1924\":\"Riverlands School\",\"1925\":\"Roseneath School\",\"1926\":\"Russell School (Porirua East)\",\"1927\":\"Sacred Heart School (Petone)\",\"1928\":\"Sacred Heart Cathedral School\",\"1929\":\"San Antonio School (Eastbourne)\",\"1930\":\"Seatoun School\",\"1931\":\"Seddon School\",\"1932\":\"Shannon School\",\"1933\":\"Silverstream School\",\"1934\":\"Solway School\",\"1935\":\"South End School\",\"1936\":\"South Featherston School\",\"1937\":\"South Wellington Intermediate\",\"1938\":\"Spring Creek School\",\"1939\":\"Springlands School\",\"1940\":\"St Annes School (Newtown)\",\"1941\":\"St Anthony\\'s School (Pahiatua)\",\"1942\":\"St Anthony\\'s School (Seatoun)\",\"1943\":\"St Benedict\\'s School (Khandallah)\",\"1944\":\"St Bernadette\\'s School (Naenae)\",\"1945\":\"St Bernard\\'s School (Brooklyn)\",\"1946\":\"St Brendan\\'s School (Heretaunga)\",\"1947\":\"St Brigids School (Johnsonville)\",\"1948\":\"St Francis De Sales School (Is.Bay)\",\"1949\":\"St Francis Xavier School (Tawa)\",\"1950\":\"St Joseph\\'s School (Levin)\",\"1951\":\"St Joseph\\'s School (Picton)\",\"1952\":\"St Joseph\\'s School (Upper Hutt)\",\"1953\":\"St Mary\\'s School (Blenheim)\",\"1954\":\"St Mary\\'s School (Carterton)\",\"1955\":\"St Michael\\'s School (Taita)\",\"1956\":\"St Patrick\\'s School (Masterton)\",\"1957\":\"St Patrick\\'s School (Paraparaumu)\",\"1958\":\"St Claudine Thevenet School\",\"1959\":\"St Patrick\\'s School (Kilbirnie)\",\"1960\":\"St Peter Chanel School (Otaki)\",\"1961\":\"Sts Peter and Paul School (L.Hutt)\",\"1962\":\"St Pius X School (Titahi Bay)\",\"1963\":\"St Teresa\\'s School (Featherston)\",\"1964\":\"St Teresa\\'s School (Karori)\",\"1965\":\"St Theresa\\'s School (Plimmerton)\",\"1966\":\"Tairangi School\",\"1967\":\"Taita Central School\",\"1968\":\"Avalon Intermediate\",\"1969\":\"Taitoko School\",\"1970\":\"Tawa Intermediate\",\"1971\":\"Tawa School\",\"1972\":\"Tawhai School\",\"1973\":\"Te Aro School\",\"1974\":\"Te Horo School (Otaki)\",\"1975\":\"Thorndon School\",\"1976\":\"Tinui School\",\"1977\":\"Titahi Bay Intermediate\",\"1978\":\"Titahi Bay North School\",\"1979\":\"Titahi Bay School\",\"1980\":\"Tokomaru School\",\"1981\":\"Totara Park School\",\"1982\":\"Tua Marina School\",\"1983\":\"Tui Glen School\",\"1984\":\"Tuturumuri School\",\"1985\":\"Upper Hutt School\",\"1986\":\"Wadestown School\",\"1987\":\"Waikanae School\",\"1988\":\"Waikawa Bay School\",\"1989\":\"Wainuiomata Primary School\",\"1990\":\"Wainuioru School\",\"1991\":\"Wairau Valley School (Blenheim)\",\"1992\":\"Waitaria Bay School\",\"1993\":\"Waitohu School\",\"1994\":\"Ward School\",\"1995\":\"Waterloo School\",\"1996\":\"Whareama School\",\"1997\":\"Whitney Street School\",\"1998\":\"Wilford School\",\"1999\":\"Otari School\",\"2000\":\"Windley School\",\"2001\":\"Witherlea School\",\"2002\":\"Worser Bay School\",\"2003\":\"TKKM o Te Hiringa\",\"2004\":\"Te Kura-a-iwi o Whakatupuranga Rua Mano\",\"2005\":\"TKKM o Waiuku\",\"2006\":\"TKKM o Hurungaterangi\",\"2007\":\"TKKM o Te Kotuku\",\"2008\":\"TKKM o Whangaroa\",\"2009\":\"TKKM o Te Ara Hou\",\"2010\":\"Te Wharekura o Manurewa\",\"2011\":\"TKKM o Pukemiro\",\"2012\":\"Te Wharekura o Te Rau Aroha\",\"2013\":\"TKKM o Te Tonga o Hokianga\",\"2014\":\"Te Kura Kaupapa Maori o Taumarunui\",\"2015\":\"TKKM o Kawakawa mai Tawhiti\",\"2016\":\"Appleby School\",\"2017\":\"Auckland Point School\",\"2018\":\"Birchwood School\",\"2019\":\"Brightwater School\",\"2020\":\"Broadgreen Intermediate\",\"2021\":\"Brooklyn School (Motueka)\",\"2022\":\"Canvastown School\",\"2023\":\"Clifton Terrace School\",\"2024\":\"Dovedale School\",\"2025\":\"Enner Glynn School\",\"2026\":\"Granity School\",\"2027\":\"Hampden Street School\",\"2028\":\"Henley School (Nelson)\",\"2029\":\"Hira School\",\"2030\":\"Hope School\",\"2031\":\"Inangahua Junction School\",\"2032\":\"Lake Rotoiti School\",\"2033\":\"Lower Moutere School\",\"2034\":\"Mahana School\",\"2035\":\"Maitai School\",\"2036\":\"Mapua School\",\"2037\":\"Maruia School\",\"2038\":\"Motueka South School\",\"2039\":\"Motupipi School\",\"2040\":\"Nayland Primary School\",\"2041\":\"Nelson Central School\",\"2042\":\"Nelson Intermediate\",\"2043\":\"Ngatimoti School\",\"2044\":\"Parklands School (Motueka)\",\"2045\":\"Ranzau School\",\"2046\":\"Richmond School (Nelson)\",\"2047\":\"Riwaka School\",\"2048\":\"Sacred Heart School (Reefton)\",\"2049\":\"St Canice\\'s School (Westport)\",\"2050\":\"St Joseph\\'s School (Nelson)\",\"2051\":\"St Peter Chanel School (Motueka)\",\"2052\":\"Stoke School\",\"2053\":\"Tahunanui School\",\"2054\":\"Central Takaka School\",\"2055\":\"Takaka Primary School\",\"2056\":\"Tasman School\",\"2057\":\"Upper Moutere School\",\"2058\":\"Victory Primary School\",\"2059\":\"Waimea Intermediate\",\"2060\":\"Wakefield School\",\"2061\":\"Westport North School\",\"2062\":\"Westport South School\",\"2063\":\"Sacred Heart School (Christchurch)\",\"2064\":\"Addington School\",\"2065\":\"Albury School\",\"2066\":\"Allenton School\",\"2067\":\"Allenvale Special School and Res Centre\",\"2068\":\"Amberley School\",\"2069\":\"Aranui School (Christchurch)\",\"2070\":\"Arowhenua Maori School\",\"2071\":\"Ashburton Borough School\",\"2072\":\"Ashburton Intermediate\",\"2073\":\"Ashburton Netherby School\",\"2074\":\"Ashgrove School\",\"2075\":\"Ashley School\",\"2076\":\"Avondale School (Christchurch)\",\"2077\":\"Avonhead School\",\"2078\":\"Bamford School\",\"2079\":\"Banks Avenue School\",\"2080\":\"Barrytown School\",\"2081\":\"Beckenham School\",\"2082\":\"Belfast School\",\"2083\":\"Bishopdale School\",\"2084\":\"Blaketown School\",\"2085\":\"Breens Intermediate\",\"2086\":\"Broadfield School\",\"2087\":\"Bromley School\",\"2088\":\"Broomfield School\",\"2089\":\"Burnham School\",\"2090\":\"Burnside Primary School\",\"2091\":\"Cannington School\",\"2092\":\"Carew Peel Forest School\",\"2093\":\"Casebrook Intermediate\",\"2094\":\"Cashmere Primary School\",\"2095\":\"Chertsey School\",\"2096\":\"Chisnallwood Intermediate\",\"2097\":\"Christ The King School (Burnside)\",\"2098\":\"Christchurch East School\",\"2099\":\"Christchurch South Intermediate\",\"2100\":\"Clarkville School\",\"2101\":\"Cobden School\",\"2102\":\"Cobham Intermediate\",\"2103\":\"Cotswold School\",\"2104\":\"Cust School\",\"2105\":\"Darfield School\",\"2106\":\"Diamond Harbour School\",\"2107\":\"Dorie School\",\"2108\":\"Dunsandel School\",\"2109\":\"Duvauchelle School\",\"2110\":\"Elmwood Normal School\",\"2111\":\"Fairlie School\",\"2112\":\"Fairton School\",\"2113\":\"Fendalton Open Air School\",\"2114\":\"Ferndale School (Christchurch)\",\"2115\":\"Fernside School\",\"2116\":\"Fox Glacier School\",\"2117\":\"Franz Josef Glacier School\",\"2118\":\"Gilberthorpe School\",\"2119\":\"Gleniti School\",\"2120\":\"Glenavy School\",\"2121\":\"Glentunnel School\",\"2122\":\"Governors Bay School\",\"2123\":\"Greendale School\",\"2124\":\"Greta Valley School\",\"2125\":\"Greymouth Main School\",\"2126\":\"Haast School\",\"2127\":\"Halswell School\",\"2128\":\"Hampstead School\",\"2129\":\"Hanmer Springs School\",\"2130\":\"Hapuku School\",\"2131\":\"Harewood School\",\"2132\":\"Heathcote Valley School\",\"2133\":\"Heaton Normal Intermediate\",\"2134\":\"Highfield School\",\"2135\":\"Hinds School\",\"2136\":\"Hokitika School\",\"2137\":\"Hoon Hay School\",\"2138\":\"Hornby Primary School\",\"2139\":\"Hororata School\",\"2140\":\"Ilam School\",\"2141\":\"Isleworth School\",\"2142\":\"Kaingaroa School (Chatham Islands)\",\"2143\":\"Kaiapoi Borough School\",\"2144\":\"Kaiapoi North School\",\"2145\":\"Kaikoura Primary School\",\"2146\":\"Kaikoura Suburban School\",\"2147\":\"Kaniere School\",\"2148\":\"Karoro School\",\"2149\":\"Kirkwood Intermediate\",\"2150\":\"Kirwee Model School\",\"2151\":\"Kokatahi-Kowhitirangi School\",\"2152\":\"Kumara School\",\"2153\":\"Ladbrooks School\",\"2154\":\"Lake Tekapo School\",\"2155\":\"Lauriston School\",\"2156\":\"Leeston School\",\"2157\":\"Leithfield School\",\"2158\":\"Lincoln Primary School\",\"2159\":\"Linwood Avenue School\",\"2160\":\"Linwood North School\",\"2161\":\"Little River School\",\"2162\":\"Loburn School\",\"2163\":\"Lynton Downs School\",\"2164\":\"Mairehau School\",\"2165\":\"Makikihi School\",\"2166\":\"Marshland School\",\"2167\":\"Mayfield School (Mid-Canterbury)\",\"2168\":\"Merrin School\",\"2169\":\"Methven School\",\"2170\":\"Morven School\",\"2171\":\"Mt Somers Springburn School\",\"2172\":\"Aoraki Mount Cook School\",\"2173\":\"Mt Pleasant School\",\"2174\":\"New Brighton Catholic School (Chch)\",\"2175\":\"North Loburn School\",\"2176\":\"Northcote School (Christchurch)\",\"2177\":\"Oaklands School\",\"2178\":\"Ohoka School\",\"2179\":\"Okains Bay School\",\"2180\":\"Omihi School\",\"2181\":\"Opawa School\",\"2182\":\"Our Lady of Fatima School (Chch)\",\"2183\":\"Our Lady of Assumption School (Chch)\",\"2184\":\"Our Lady of Snows School (Methven)\",\"2185\":\"Our Lady of Victories\",\"2186\":\"Ouruhia Model School\",\"2187\":\"Papanui School\",\"2188\":\"Paparoa Street School\",\"2189\":\"Parkview School\",\"2190\":\"Paroa School (Greymouth)\",\"2191\":\"Pitt Island School\",\"2192\":\"Pleasant Point Primary School\",\"2193\":\"Prebbleton School\",\"2194\":\"Queenspark School\",\"2195\":\"Rakaia School\",\"2196\":\"Rangiora Borough School\",\"2197\":\"Redcliffs School\",\"2198\":\"Redwood School (Christchurch)\",\"2199\":\"Riccarton School\",\"2200\":\"Rolleston School\",\"2201\":\"Ross School\",\"2202\":\"Rotherham School\",\"2203\":\"Rowley Avenue School\",\"2204\":\"Roydvale School\",\"2205\":\"Runanga School\",\"2206\":\"Russley School\",\"2207\":\"Sacred Heart School (Timaru)\",\"2208\":\"Sefton School\",\"2209\":\"Sheffield Contributing School\",\"2210\":\"Shirley Intermediate\",\"2211\":\"Shirley School\",\"2212\":\"Sockburn School\",\"2213\":\"Somerfield School\",\"2214\":\"South Hornby School\",\"2215\":\"South New Brighton School\",\"2216\":\"Southbridge School\",\"2217\":\"Southbrook School\",\"2218\":\"Spreydon School\",\"2219\":\"Springfield School\",\"2220\":\"Springston School\",\"2221\":\"St Albans Catholic School (Christchurch)\",\"2222\":\"St Albans School\",\"2223\":\"St Andrew\\'s School (Timaru)\",\"2224\":\"St Anne\\'s School (Woolston)\",\"2225\":\"St Bernadette\\'s School (Hornby)\",\"2226\":\"St James School (Aranui)\",\"2227\":\"St Joseph\\'s School (Ashburton)\",\"2228\":\"St Joseph\\'s School (Pleasant Point)\",\"2229\":\"St Joseph\\'s School (Fairlie)\",\"2230\":\"St Joseph\\'s School (Kaikoura)\",\"2231\":\"St Joseph\\'s School (Papanui)\",\"2232\":\"St Joseph\\'s School (Temuka)\",\"2233\":\"St Joseph\\'s School (Timaru)\",\"2234\":\"St Martin\\'s School\",\"2235\":\"St Mary\\'s School (Christchurch)\",\"2236\":\"St Mary\\'s School (Hokitika)\",\"2237\":\"St Patrick\\'s School (Bryndwr)\",\"2238\":\"St Patrick\\'s School (Greymouth)\",\"2239\":\"St Patrick\\'s School (Waimate)\",\"2240\":\"St Patrick\\'s School (Kaiapoi)\",\"2241\":\"St Paul\\'s School (Dallington)\",\"2242\":\"St Peter\\'s School (Beckenham)\",\"2243\":\"St Teresa\\'s School (Riccarton)\",\"2244\":\"Our Lady Star of the Sea School (Christchurch)\",\"2245\":\"Sumner School\",\"2246\":\"Swannanoa School\",\"2247\":\"Tai Tapu School\",\"2248\":\"Te One School\",\"2249\":\"Waitaha School\",\"2250\":\"Templeton School\",\"2251\":\"Thorrington School\",\"2252\":\"Tinwald School\",\"2253\":\"Tuahiwi School\",\"2254\":\"View Hill School\",\"2255\":\"Waiau School\",\"2256\":\"Waihao Downs School\",\"2257\":\"Waikari School\",\"2258\":\"Pegasus Bay School\",\"2259\":\"Waimairi School\",\"2260\":\"Waimataitai School\",\"2261\":\"Waimate Centennial School\",\"2262\":\"Waimate Main School\",\"2263\":\"Wainoni School\",\"2264\":\"Waipara School\",\"2265\":\"Wairakei School (Christchurch)\",\"2266\":\"Waituna Creek School\",\"2267\":\"Wakanui School\",\"2268\":\"Waltham School\",\"2269\":\"Weedons School\",\"2270\":\"West Eyreton School\",\"2271\":\"West Melton School\",\"2272\":\"West Spreydon School\",\"2273\":\"Westburn School\",\"2274\":\"Wharenui School\",\"2275\":\"Whataroa School\",\"2276\":\"Longbeach School\",\"2277\":\"Windwhistle School\",\"2278\":\"Woodbury School\",\"2279\":\"Woodend School\",\"2280\":\"Yaldhurst Model School\",\"2281\":\"Abbotsford School\",\"2282\":\"Alexandra School\",\"2283\":\"Andersons Bay School\",\"2284\":\"Ardgowan School\",\"2285\":\"Arthur Street School\",\"2286\":\"Fenwick School\",\"2287\":\"Balaclava School\",\"2288\":\"Balclutha School\",\"2289\":\"Balmacewen Intermediate\",\"2290\":\"Bradford School\",\"2291\":\"Broad Bay School\",\"2292\":\"Brockville School\",\"2293\":\"Clinton School\",\"2294\":\"Clutha Valley School\",\"2295\":\"Clyde School\",\"2296\":\"Concord School\",\"2297\":\"Cromwell Primary School\",\"2298\":\"Dunedin North Intermediate\",\"2299\":\"Duntroon School\",\"2300\":\"East Taieri School\",\"2301\":\"Fairfield School (Dunedin)\",\"2302\":\"Pembroke School (Oamaru)\",\"2303\":\"Five Forks School\",\"2304\":\"Flagswamp School\",\"2305\":\"George Street Normal School\",\"2306\":\"Goldfields School (Cromwell)\",\"2307\":\"Grants Braes School\",\"2308\":\"Green Island School\",\"2309\":\"Halfway Bush School\",\"2310\":\"Hampden School\",\"2311\":\"Hawea Flat School\",\"2312\":\"Heriot School\",\"2313\":\"Kaikorai School\",\"2314\":\"Kaitangata School\",\"2315\":\"Kakanui School\",\"2316\":\"Karitane School\",\"2317\":\"Lee Stream School\",\"2318\":\"Macandrew Bay School\",\"2319\":\"Macraes Moonlight School\",\"2320\":\"Maheno School\",\"2321\":\"Makarora Primary School\",\"2322\":\"Maori Hill School\",\"2323\":\"Millers Flat School\",\"2324\":\"Milton School\",\"2325\":\"Mornington School\",\"2326\":\"Elmgrove School\",\"2327\":\"Musselburgh School\",\"2328\":\"North East Valley Normal School\",\"2329\":\"Oamaru Intermediate\",\"2330\":\"Oamaru North School\",\"2331\":\"Omakau School\",\"2332\":\"Omarama School\",\"2333\":\"Opoho School\",\"2334\":\"Outram School\",\"2335\":\"Palmerston School\",\"2336\":\"Papakaio School\",\"2337\":\"Pine Hill School (Dunedin)\",\"2338\":\"Poolburn School\",\"2339\":\"Port Chalmers School\",\"2340\":\"Portobello School\",\"2341\":\"Purakaunui School\",\"2342\":\"Ravensbourne School\",\"2343\":\"Romahapa School\",\"2344\":\"Rosebank School (Balclutha)\",\"2345\":\"Sacred Heart School (Dunedin)\",\"2346\":\"Sara Cohen School\",\"2347\":\"Sawyers Bay School\",\"2348\":\"St Bernadette\\'s School (Forbury)\",\"2349\":\"St Brigids School (Tainui)\",\"2350\":\"St Francis Xavier School (Mornington)\",\"2351\":\"St Gerard\\'s School (Alexandra)\",\"2352\":\"St John\\'s School (Ranfurly)\",\"2353\":\"St Joseph\\'s School (Oamaru)\",\"2354\":\"St Joseph\\'s School (Balclutha)\",\"2355\":\"St Joseph\\'s Cathedral School\",\"2356\":\"St Joseph\\'s School (Port Chalmers)\",\"2357\":\"St Leonard\\'s School (Dunedin)\",\"2358\":\"St Mary\\'s School (Dunedin)\",\"2359\":\"St Mary\\'s School (Milton)\",\"2360\":\"St Mary\\'s School (Mosgiel)\",\"2361\":\"St Peter Chanel School (Green Island)\",\"2362\":\"St Clair School\",\"2363\":\"Stirling School\",\"2364\":\"Strath Taieri School\",\"2365\":\"Tahakopa School\",\"2366\":\"Tahuna Normal Intermediate\",\"2367\":\"Taieri Beach School\",\"2368\":\"Tainui School\",\"2369\":\"Tapanui School\",\"2370\":\"Tarras School\",\"2371\":\"The Terrace School (Alexandra)\",\"2372\":\"Tokoiti School\",\"2373\":\"Totara School\",\"2374\":\"Waihola District School\",\"2375\":\"Waikoikoi School\",\"2376\":\"Waikouaiti School\",\"2377\":\"Waitahuna School\",\"2378\":\"Waitati School\",\"2379\":\"Waiwera South School\",\"2380\":\"Wakari School\",\"2381\":\"Warepa School\",\"2382\":\"Warrington School\",\"2383\":\"Weston School\",\"2384\":\"Arrowtown School\",\"2385\":\"Balfour School\",\"2386\":\"Hillside Primary School\",\"2387\":\"Hauroko Valley Primary School\",\"2388\":\"Dipton School\",\"2389\":\"East Gore School\",\"2390\":\"Edendale School (Southland)\",\"2391\":\"Garston School\",\"2392\":\"Glenham School\",\"2393\":\"Glenorchy School\",\"2394\":\"Gore Main School\",\"2395\":\"Gorge Road School\",\"2396\":\"Halfmoon Bay School\",\"2397\":\"Heddon Bush School\",\"2398\":\"Hedgehope School\",\"2399\":\"Invercargill Middle School\",\"2400\":\"Windsor North School\",\"2401\":\"Isla Bank School\",\"2402\":\"Knapdale School\",\"2403\":\"Limehills School\",\"2404\":\"Lochiel School\",\"2405\":\"Longford Intermediate\",\"2406\":\"Lumsden School\",\"2407\":\"Willowbank School\",\"2408\":\"Makarewa School\",\"2409\":\"Mararoa School\",\"2410\":\"Mataura School\",\"2411\":\"Mossburn School\",\"2412\":\"Myross Bush School\",\"2413\":\"Otama School\",\"2414\":\"Otatara School\",\"2415\":\"Otautau School\",\"2416\":\"Pukerau School\",\"2417\":\"Queenstown School\",\"2418\":\"Rimu School\",\"2419\":\"Riversdale School\",\"2420\":\"Riverton School\",\"2421\":\"Ruru Special School\",\"2422\":\"Sacred Heart School (Waikiwi)\",\"2423\":\"Salford School\",\"2424\":\"St Joseph\\'s School (Queenstown)\",\"2425\":\"St Joseph\\'s School (Invercargill)\",\"2426\":\"St Mary\\'s School (Gore)\",\"2427\":\"St Patrick\\'s School (Nightcaps)\",\"2428\":\"St Patrick\\'s School (Invercargill)\",\"2429\":\"St Teresa\\'s School (Bluff)\",\"2430\":\"St Theresa\\'s School (Invercargill)\",\"2431\":\"St Thomas School (Winton)\",\"2432\":\"Te Anau School\",\"2433\":\"Te Tipua School\",\"2434\":\"Thornbury School\",\"2435\":\"Tisbury School\",\"2436\":\"Tokanui School\",\"2437\":\"Tuturau Primary School\",\"2438\":\"Waianiwa School\",\"2439\":\"Waihopai School\",\"2440\":\"Waikaia School\",\"2441\":\"Waikaka School\",\"2442\":\"Wallacetown School\",\"2443\":\"Waverley Park School\",\"2444\":\"West Gore School\",\"2445\":\"Winton School\",\"2446\":\"Woodlands Full Primary School\",\"2447\":\"Wyndham School\",\"2448\":\"Balmoral S D A School\",\"2449\":\"Carncot Independent School\",\"2450\":\"Hadlow Preparatory School\",\"2451\":\"Hamilton Seventh-Day Adventist School\",\"2452\":\"Parkside Christian S D A School\",\"2453\":\"Hereworth School\",\"2454\":\"Hohepa Home School (Napier)\",\"2455\":\"Huntley School (Marton)\",\"2456\":\"Southland Adventist Christian School\",\"2457\":\"Kings School (Remuera)\",\"2458\":\"Liberton Christian School\",\"2459\":\"Medbury Preparatory School\",\"2460\":\"Miramar Christian School\",\"2461\":\"Nelson College For Girls Prep School\",\"2462\":\"Nelson College (Prep.Dept.)\",\"2463\":\"New Plymouth S D A School\",\"2464\":\"South City Christian School\",\"2465\":\"Palmerston North Adventist Christian School\",\"2466\":\"Rotorua S D A School\",\"2467\":\"St George\\'s Preparatory School\",\"2468\":\"St John\\'s Girls\\' School (Invercargill)\",\"2469\":\"St Joseph\\'s School (Rangiora)\",\"2470\":\"Saint Kentigern Boys\\' School\",\"2471\":\"St Mark\\'s Church School (Mt Victoria)\",\"2472\":\"St Mark\\'s School (Christchurch)\",\"2473\":\"St Michael\\'s Church School\",\"2474\":\"Selwyn House School\",\"2475\":\"South Auckland S D A School\",\"2476\":\"Southwell School\",\"2477\":\"Tamariki School\",\"2478\":\"Tauranga Adventist School\",\"2479\":\"Te Pi\\'ipi\\'inga Kakano Mai Rangiatea\",\"2480\":\"Timatanga Community School\",\"2481\":\"Waihi School\",\"2482\":\"Wellesley College\",\"2483\":\"Wellington S D A School\",\"2484\":\"Waitakere S D A School\",\"2485\":\"Whangarei Adventist Christian School\",\"2486\":\"Blind and Low Vision Education Network NZ\",\"2487\":\"Westbridge Residential School\",\"2488\":\"Hutt International Boys\\' School\",\"2489\":\"TKKM o Te Atihaunui-A-Paparangi\",\"2490\":\"Hare Krishna School\",\"2491\":\"TKKM o Otara\",\"2492\":\"TKKM o Nga Maungarongo\",\"2493\":\"TKKM o Mangere\",\"2494\":\"TKKM o Manawatu\",\"2495\":\"TKKM o Te Rito\",\"2496\":\"TKKM o Waitaha\",\"2497\":\"Te Wharekura o Arowhenua\",\"2498\":\"TKKM o Tokomaru\",\"2499\":\"TKKM o Tamarongo\",\"2500\":\"TKKM o Tamaki Nui A Rua\",\"2501\":\"TKKM o Kaikohe\",\"2502\":\"Te KKM o Puau Te Moananui-a-Kiwa\",\"2503\":\"TKKM o Manurewa\",\"2504\":\"TKKM o Whakarewa I Te Reo Ki Tuwharetoa\",\"2505\":\"Golden Sands School\",\"2506\":\"Te Matauranga\",\"2507\":\"Tahatai Coast School\",\"2508\":\"Snells Beach Primary School\",\"2509\":\"Somerville Intermediate School\",\"2510\":\"Whangaparaoa College\",\"2511\":\"Remarkables Primary School\",\"2512\":\"Hobsonville Point Primary School\",\"2513\":\"Gulf Harbour School\",\"2514\":\"Point View School\",\"2515\":\"Waiheke Primary School\",\"2516\":\"Alfriston College\",\"2517\":\"Botany Downs Secondary College\",\"2518\":\"Pinehill School (Browns Bay)\",\"2519\":\"Summerland Primary\",\"2520\":\"Kohia Terrace School\",\"2521\":\"Te Akau ki Papamoa Primary School\",\"2522\":\"Endeavour School\",\"2523\":\"Randwick Park School\",\"2524\":\"Selwyn Ridge School\",\"2525\":\"Oteha Valley School\",\"2526\":\"The Gardens School\",\"2527\":\"Albany Junior High School\",\"2528\":\"Upper Harbour Primary School\",\"2529\":\"Willowbank School (Howick)\",\"2530\":\"Baverstock Oaks School\",\"2531\":\"Te Wharekura o Mauao\",\"2532\":\"Papamoa College\",\"2533\":\"Garin College\",\"2534\":\"Rototuna Primary School\",\"2535\":\"Hobsonville Point Secondary School\",\"2536\":\"Reremoana Primary School\",\"2537\":\"Clearview Primary\",\"2538\":\"West Rolleston Primary School (Proposed open date: 01JAN2016 )\",\"2539\":\"Takanini New School #1 (Proposed open date: 01JAN2017 )\",\"2540\":\"Rolleston College (Proposed open date: 01JAN2017 )\",\"2541\":\"Ormiston Junior College (Proposed open date: 01JAN2017 )\",\"2542\":\"Northland College Teen Parent Unit (Proposed open date: 01JAN2016 )\"}}'"
      ]
     },
     "execution_count": 88,
     "metadata": {},
     "output_type": "execute_result"
    }
   ],
   "source": [
    "aqjaq"
   ]
  },
  {
   "cell_type": "code",
   "execution_count": null,
   "metadata": {
    "collapsed": true
   },
   "outputs": [],
   "source": []
  },
  {
   "cell_type": "code",
   "execution_count": 89,
   "metadata": {
    "collapsed": false
   },
   "outputs": [],
   "source": [
    "jsaqq = json.loads(aqjaq)"
   ]
  },
  {
   "cell_type": "code",
   "execution_count": 90,
   "metadata": {
    "collapsed": false
   },
   "outputs": [],
   "source": [
    "najsa = jsaqq['Name']"
   ]
  },
  {
   "cell_type": "code",
   "execution_count": 93,
   "metadata": {
    "collapsed": false
   },
   "outputs": [
    {
     "name": "stdout",
     "output_type": "stream",
     "text": [
      "Te Kao School\n",
      "Taipa Area School\n",
      "Kaitaia College\n",
      "Whangaroa College\n",
      "Kerikeri High School\n",
      "Broadwood Area School\n",
      "Okaihau College\n",
      "Bay of Islands College\n",
      "Northland College\n",
      "Te Kura Taumata o Panguru\n",
      "Opononi Area School\n",
      "Tauraroa Area School\n",
      "Kamo High School\n",
      "Tikipunga High School\n",
      "Whangarei Boys' High School\n",
      "Whangarei Girls' High School\n",
      "Pompallier Catholic College\n",
      "Mangakahia Area School\n",
      "Dargaville High School\n",
      "Bream Bay College\n"
     ]
    }
   ],
   "source": [
    "#Cycle though some schools rather than everything. \n",
    "for naj in range(20):\n",
    "    print(najsa[str(naj)])"
   ]
  },
  {
   "cell_type": "code",
   "execution_count": null,
   "metadata": {
    "collapsed": true
   },
   "outputs": [],
   "source": []
  },
  {
   "cell_type": "code",
   "execution_count": 84,
   "metadata": {
    "collapsed": false
   },
   "outputs": [
    {
     "ename": "SyntaxError",
     "evalue": "invalid syntax (<ipython-input-84-4576f25e2282>, line 2)",
     "output_type": "error",
     "traceback": [
      "\u001b[1;36m  File \u001b[1;32m\"<ipython-input-84-4576f25e2282>\"\u001b[1;36m, line \u001b[1;32m2\u001b[0m\n\u001b[1;33m    print najsa\u001b[0m\n\u001b[1;37m              ^\u001b[0m\n\u001b[1;31mSyntaxError\u001b[0m\u001b[1;31m:\u001b[0m invalid syntax\n"
     ]
    }
   ],
   "source": [
    "for najv in najsa.values():\n",
    "    print(najsa)"
   ]
  },
  {
   "cell_type": "code",
   "execution_count": null,
   "metadata": {
    "collapsed": true
   },
   "outputs": [],
   "source": []
  },
  {
   "cell_type": "code",
   "execution_count": null,
   "metadata": {
    "collapsed": true
   },
   "outputs": [],
   "source": []
  },
  {
   "cell_type": "code",
   "execution_count": null,
   "metadata": {
    "collapsed": true
   },
   "outputs": [],
   "source": []
  },
  {
   "cell_type": "code",
   "execution_count": null,
   "metadata": {
    "collapsed": true
   },
   "outputs": [],
   "source": []
  },
  {
   "cell_type": "code",
   "execution_count": null,
   "metadata": {
    "collapsed": true
   },
   "outputs": [],
   "source": []
  },
  {
   "cell_type": "code",
   "execution_count": null,
   "metadata": {
    "collapsed": true
   },
   "outputs": [],
   "source": []
  },
  {
   "cell_type": "code",
   "execution_count": null,
   "metadata": {
    "collapsed": true
   },
   "outputs": [],
   "source": []
  },
  {
   "cell_type": "code",
   "execution_count": 56,
   "metadata": {
    "collapsed": false
   },
   "outputs": [
    {
     "ename": "OSError",
     "evalue": "File b'/home/wcmckee/Downloads/Directory-School-current.csv' does not exist",
     "output_type": "error",
     "traceback": [
      "\u001b[1;31m---------------------------------------------------------------------------\u001b[0m",
      "\u001b[1;31mOSError\u001b[0m                                   Traceback (most recent call last)",
      "\u001b[1;32m<ipython-input-56-82bf1b8c6346>\u001b[0m in \u001b[0;36m<module>\u001b[1;34m()\u001b[0m\n\u001b[1;32m----> 1\u001b[1;33m \u001b[0mscholist\u001b[0m \u001b[1;33m=\u001b[0m \u001b[0mpd\u001b[0m\u001b[1;33m.\u001b[0m\u001b[0mread_csv\u001b[0m\u001b[1;33m(\u001b[0m\u001b[1;34m'/home/wcmckee/Downloads/Directory-School-current.csv'\u001b[0m\u001b[1;33m,\u001b[0m \u001b[0mskiprows\u001b[0m\u001b[1;33m=\u001b[0m\u001b[1;36m3\u001b[0m\u001b[1;33m,\u001b[0m \u001b[0mindex_col\u001b[0m\u001b[1;33m=\u001b[0m\u001b[1;36m0\u001b[0m\u001b[1;33m)\u001b[0m\u001b[1;33m\u001b[0m\u001b[0m\n\u001b[0m",
      "\u001b[1;32m/usr/lib/python3/dist-packages/pandas/io/parsers.py\u001b[0m in \u001b[0;36mparser_f\u001b[1;34m(filepath_or_buffer, sep, dialect, compression, doublequote, escapechar, quotechar, quoting, skipinitialspace, lineterminator, header, index_col, names, prefix, skiprows, skipfooter, skip_footer, na_values, na_fvalues, true_values, false_values, delimiter, converters, dtype, usecols, engine, delim_whitespace, as_recarray, na_filter, compact_ints, use_unsigned, low_memory, buffer_lines, warn_bad_lines, error_bad_lines, keep_default_na, thousands, comment, decimal, parse_dates, keep_date_col, dayfirst, date_parser, memory_map, nrows, iterator, chunksize, verbose, encoding, squeeze, mangle_dupe_cols, tupleize_cols, infer_datetime_format)\u001b[0m\n\u001b[0;32m    418\u001b[0m                     infer_datetime_format=infer_datetime_format)\n\u001b[0;32m    419\u001b[0m \u001b[1;33m\u001b[0m\u001b[0m\n\u001b[1;32m--> 420\u001b[1;33m         \u001b[1;32mreturn\u001b[0m \u001b[0m_read\u001b[0m\u001b[1;33m(\u001b[0m\u001b[0mfilepath_or_buffer\u001b[0m\u001b[1;33m,\u001b[0m \u001b[0mkwds\u001b[0m\u001b[1;33m)\u001b[0m\u001b[1;33m\u001b[0m\u001b[0m\n\u001b[0m\u001b[0;32m    421\u001b[0m \u001b[1;33m\u001b[0m\u001b[0m\n\u001b[0;32m    422\u001b[0m     \u001b[0mparser_f\u001b[0m\u001b[1;33m.\u001b[0m\u001b[0m__name__\u001b[0m \u001b[1;33m=\u001b[0m \u001b[0mname\u001b[0m\u001b[1;33m\u001b[0m\u001b[0m\n",
      "\u001b[1;32m/usr/lib/python3/dist-packages/pandas/io/parsers.py\u001b[0m in \u001b[0;36m_read\u001b[1;34m(filepath_or_buffer, kwds)\u001b[0m\n\u001b[0;32m    216\u001b[0m \u001b[1;33m\u001b[0m\u001b[0m\n\u001b[0;32m    217\u001b[0m     \u001b[1;31m# Create the parser.\u001b[0m\u001b[1;33m\u001b[0m\u001b[1;33m\u001b[0m\u001b[0m\n\u001b[1;32m--> 218\u001b[1;33m     \u001b[0mparser\u001b[0m \u001b[1;33m=\u001b[0m \u001b[0mTextFileReader\u001b[0m\u001b[1;33m(\u001b[0m\u001b[0mfilepath_or_buffer\u001b[0m\u001b[1;33m,\u001b[0m \u001b[1;33m**\u001b[0m\u001b[0mkwds\u001b[0m\u001b[1;33m)\u001b[0m\u001b[1;33m\u001b[0m\u001b[0m\n\u001b[0m\u001b[0;32m    219\u001b[0m \u001b[1;33m\u001b[0m\u001b[0m\n\u001b[0;32m    220\u001b[0m     \u001b[1;32mif\u001b[0m \u001b[0mnrows\u001b[0m \u001b[1;32mis\u001b[0m \u001b[1;32mnot\u001b[0m \u001b[1;32mNone\u001b[0m\u001b[1;33m:\u001b[0m\u001b[1;33m\u001b[0m\u001b[0m\n",
      "\u001b[1;32m/usr/lib/python3/dist-packages/pandas/io/parsers.py\u001b[0m in \u001b[0;36m__init__\u001b[1;34m(self, f, engine, **kwds)\u001b[0m\n\u001b[0;32m    500\u001b[0m             \u001b[0mself\u001b[0m\u001b[1;33m.\u001b[0m\u001b[0moptions\u001b[0m\u001b[1;33m[\u001b[0m\u001b[1;34m'has_index_names'\u001b[0m\u001b[1;33m]\u001b[0m \u001b[1;33m=\u001b[0m \u001b[0mkwds\u001b[0m\u001b[1;33m[\u001b[0m\u001b[1;34m'has_index_names'\u001b[0m\u001b[1;33m]\u001b[0m\u001b[1;33m\u001b[0m\u001b[0m\n\u001b[0;32m    501\u001b[0m \u001b[1;33m\u001b[0m\u001b[0m\n\u001b[1;32m--> 502\u001b[1;33m         \u001b[0mself\u001b[0m\u001b[1;33m.\u001b[0m\u001b[0m_make_engine\u001b[0m\u001b[1;33m(\u001b[0m\u001b[0mself\u001b[0m\u001b[1;33m.\u001b[0m\u001b[0mengine\u001b[0m\u001b[1;33m)\u001b[0m\u001b[1;33m\u001b[0m\u001b[0m\n\u001b[0m\u001b[0;32m    503\u001b[0m \u001b[1;33m\u001b[0m\u001b[0m\n\u001b[0;32m    504\u001b[0m     \u001b[1;32mdef\u001b[0m \u001b[0m_get_options_with_defaults\u001b[0m\u001b[1;33m(\u001b[0m\u001b[0mself\u001b[0m\u001b[1;33m,\u001b[0m \u001b[0mengine\u001b[0m\u001b[1;33m)\u001b[0m\u001b[1;33m:\u001b[0m\u001b[1;33m\u001b[0m\u001b[0m\n",
      "\u001b[1;32m/usr/lib/python3/dist-packages/pandas/io/parsers.py\u001b[0m in \u001b[0;36m_make_engine\u001b[1;34m(self, engine)\u001b[0m\n\u001b[0;32m    608\u001b[0m     \u001b[1;32mdef\u001b[0m \u001b[0m_make_engine\u001b[0m\u001b[1;33m(\u001b[0m\u001b[0mself\u001b[0m\u001b[1;33m,\u001b[0m \u001b[0mengine\u001b[0m\u001b[1;33m=\u001b[0m\u001b[1;34m'c'\u001b[0m\u001b[1;33m)\u001b[0m\u001b[1;33m:\u001b[0m\u001b[1;33m\u001b[0m\u001b[0m\n\u001b[0;32m    609\u001b[0m         \u001b[1;32mif\u001b[0m \u001b[0mengine\u001b[0m \u001b[1;33m==\u001b[0m \u001b[1;34m'c'\u001b[0m\u001b[1;33m:\u001b[0m\u001b[1;33m\u001b[0m\u001b[0m\n\u001b[1;32m--> 610\u001b[1;33m             \u001b[0mself\u001b[0m\u001b[1;33m.\u001b[0m\u001b[0m_engine\u001b[0m \u001b[1;33m=\u001b[0m \u001b[0mCParserWrapper\u001b[0m\u001b[1;33m(\u001b[0m\u001b[0mself\u001b[0m\u001b[1;33m.\u001b[0m\u001b[0mf\u001b[0m\u001b[1;33m,\u001b[0m \u001b[1;33m**\u001b[0m\u001b[0mself\u001b[0m\u001b[1;33m.\u001b[0m\u001b[0moptions\u001b[0m\u001b[1;33m)\u001b[0m\u001b[1;33m\u001b[0m\u001b[0m\n\u001b[0m\u001b[0;32m    611\u001b[0m         \u001b[1;32melse\u001b[0m\u001b[1;33m:\u001b[0m\u001b[1;33m\u001b[0m\u001b[0m\n\u001b[0;32m    612\u001b[0m             \u001b[1;32mif\u001b[0m \u001b[0mengine\u001b[0m \u001b[1;33m==\u001b[0m \u001b[1;34m'python'\u001b[0m\u001b[1;33m:\u001b[0m\u001b[1;33m\u001b[0m\u001b[0m\n",
      "\u001b[1;32m/usr/lib/python3/dist-packages/pandas/io/parsers.py\u001b[0m in \u001b[0;36m__init__\u001b[1;34m(self, src, **kwds)\u001b[0m\n\u001b[0;32m    970\u001b[0m         \u001b[0mkwds\u001b[0m\u001b[1;33m[\u001b[0m\u001b[1;34m'allow_leading_cols'\u001b[0m\u001b[1;33m]\u001b[0m \u001b[1;33m=\u001b[0m \u001b[0mself\u001b[0m\u001b[1;33m.\u001b[0m\u001b[0mindex_col\u001b[0m \u001b[1;32mis\u001b[0m \u001b[1;32mnot\u001b[0m \u001b[1;32mFalse\u001b[0m\u001b[1;33m\u001b[0m\u001b[0m\n\u001b[0;32m    971\u001b[0m \u001b[1;33m\u001b[0m\u001b[0m\n\u001b[1;32m--> 972\u001b[1;33m         \u001b[0mself\u001b[0m\u001b[1;33m.\u001b[0m\u001b[0m_reader\u001b[0m \u001b[1;33m=\u001b[0m \u001b[0m_parser\u001b[0m\u001b[1;33m.\u001b[0m\u001b[0mTextReader\u001b[0m\u001b[1;33m(\u001b[0m\u001b[0msrc\u001b[0m\u001b[1;33m,\u001b[0m \u001b[1;33m**\u001b[0m\u001b[0mkwds\u001b[0m\u001b[1;33m)\u001b[0m\u001b[1;33m\u001b[0m\u001b[0m\n\u001b[0m\u001b[0;32m    973\u001b[0m \u001b[1;33m\u001b[0m\u001b[0m\n\u001b[0;32m    974\u001b[0m         \u001b[1;31m# XXX\u001b[0m\u001b[1;33m\u001b[0m\u001b[1;33m\u001b[0m\u001b[0m\n",
      "\u001b[1;32mparser.pyx\u001b[0m in \u001b[0;36mpandas.parser.TextReader.__cinit__ (pandas/parser.c:3040)\u001b[1;34m()\u001b[0m\n",
      "\u001b[1;32mparser.pyx\u001b[0m in \u001b[0;36mpandas.parser.TextReader._setup_parser_source (pandas/parser.c:5387)\u001b[1;34m()\u001b[0m\n",
      "\u001b[1;31mOSError\u001b[0m: File b'/home/wcmckee/Downloads/Directory-School-current.csv' does not exist"
     ]
    }
   ],
   "source": [
    "scholist = pd.read_csv('/home/wcmckee/Downloads/Directory-School-current.csv', skiprows=3, index_col=0)"
   ]
  },
  {
   "cell_type": "code",
   "execution_count": 57,
   "metadata": {
    "collapsed": false
   },
   "outputs": [
    {
     "ename": "NameError",
     "evalue": "name 'scholist' is not defined",
     "output_type": "error",
     "traceback": [
      "\u001b[1;31m---------------------------------------------------------------------------\u001b[0m",
      "\u001b[1;31mNameError\u001b[0m                                 Traceback (most recent call last)",
      "\u001b[1;32m<ipython-input-57-970785e3234f>\u001b[0m in \u001b[0;36m<module>\u001b[1;34m()\u001b[0m\n\u001b[1;32m----> 1\u001b[1;33m \u001b[0mschem\u001b[0m \u001b[1;33m=\u001b[0m \u001b[0mscholist\u001b[0m\u001b[1;33m[\u001b[0m\u001b[1;34m'Email^'\u001b[0m\u001b[1;33m]\u001b[0m\u001b[1;33m\u001b[0m\u001b[0m\n\u001b[0m",
      "\u001b[1;31mNameError\u001b[0m: name 'scholist' is not defined"
     ]
    }
   ],
   "source": [
    "schem = scholist['Email^']"
   ]
  },
  {
   "cell_type": "code",
   "execution_count": 58,
   "metadata": {
    "collapsed": false
   },
   "outputs": [
    {
     "ename": "NameError",
     "evalue": "name 'schem' is not defined",
     "output_type": "error",
     "traceback": [
      "\u001b[1;31m---------------------------------------------------------------------------\u001b[0m",
      "\u001b[1;31mNameError\u001b[0m                                 Traceback (most recent call last)",
      "\u001b[1;32m<ipython-input-58-33d97e996271>\u001b[0m in \u001b[0;36m<module>\u001b[1;34m()\u001b[0m\n\u001b[1;32m----> 1\u001b[1;33m \u001b[1;32mfor\u001b[0m \u001b[0mschval\u001b[0m \u001b[1;32min\u001b[0m \u001b[0mschem\u001b[0m\u001b[1;33m.\u001b[0m\u001b[0mvalues\u001b[0m\u001b[1;33m:\u001b[0m\u001b[1;33m\u001b[0m\u001b[0m\n\u001b[0m\u001b[0;32m      2\u001b[0m     \u001b[0mprint\u001b[0m\u001b[1;33m(\u001b[0m\u001b[0mschval\u001b[0m\u001b[1;33m)\u001b[0m\u001b[1;33m\u001b[0m\u001b[0m\n",
      "\u001b[1;31mNameError\u001b[0m: name 'schem' is not defined"
     ]
    }
   ],
   "source": [
    "for schval in schem.values:\n",
    "    print(schval)"
   ]
  },
  {
   "cell_type": "code",
   "execution_count": 59,
   "metadata": {
    "collapsed": false
   },
   "outputs": [
    {
     "ename": "NameError",
     "evalue": "name 'scholist' is not defined",
     "output_type": "error",
     "traceback": [
      "\u001b[1;31m---------------------------------------------------------------------------\u001b[0m",
      "\u001b[1;31mNameError\u001b[0m                                 Traceback (most recent call last)",
      "\u001b[1;32m<ipython-input-59-c4c23ddff733>\u001b[0m in \u001b[0;36m<module>\u001b[1;34m()\u001b[0m\n\u001b[1;32m----> 1\u001b[1;33m \u001b[0mpd\u001b[0m\u001b[1;33m.\u001b[0m\u001b[0mDataFrame\u001b[0m\u001b[1;33m(\u001b[0m\u001b[0mindex\u001b[0m\u001b[1;33m=\u001b[0m\u001b[0mscholist\u001b[0m\u001b[1;33m.\u001b[0m\u001b[0mCity\u001b[0m\u001b[1;33m,\u001b[0m \u001b[0mcolumns\u001b[0m\u001b[1;33m=\u001b[0m\u001b[0mscholist\u001b[0m\u001b[1;33m.\u001b[0m\u001b[0mName\u001b[0m\u001b[1;33m,\u001b[0m \u001b[1;33m)\u001b[0m\u001b[1;33m\u001b[0m\u001b[0m\n\u001b[0m",
      "\u001b[1;31mNameError\u001b[0m: name 'scholist' is not defined"
     ]
    }
   ],
   "source": [
    "pd.DataFrame(index=scholist.City, columns=scholist.Name, )"
   ]
  },
  {
   "cell_type": "code",
   "execution_count": 60,
   "metadata": {
    "collapsed": false
   },
   "outputs": [
    {
     "ename": "NameError",
     "evalue": "name 'scholist' is not defined",
     "output_type": "error",
     "traceback": [
      "\u001b[1;31m---------------------------------------------------------------------------\u001b[0m",
      "\u001b[1;31mNameError\u001b[0m                                 Traceback (most recent call last)",
      "\u001b[1;32m<ipython-input-60-68cc4f08ae04>\u001b[0m in \u001b[0;36m<module>\u001b[1;34m()\u001b[0m\n\u001b[1;32m----> 1\u001b[1;33m \u001b[0mtable\u001b[0m \u001b[1;33m=\u001b[0m \u001b[0mpd\u001b[0m\u001b[1;33m.\u001b[0m\u001b[0mpivot_table\u001b[0m\u001b[1;33m(\u001b[0m\u001b[0mscholist\u001b[0m\u001b[1;33m,\u001b[0m \u001b[0mvalues\u001b[0m\u001b[1;33m=\u001b[0m\u001b[1;33m[\u001b[0m\u001b[1;34m'School website'\u001b[0m\u001b[1;33m]\u001b[0m\u001b[1;33m,\u001b[0m \u001b[0mindex\u001b[0m\u001b[1;33m=\u001b[0m\u001b[1;33m[\u001b[0m\u001b[1;34m'Name'\u001b[0m\u001b[1;33m]\u001b[0m\u001b[1;33m,\u001b[0m \u001b[0mcolumns\u001b[0m\u001b[1;33m=\u001b[0m\u001b[1;33m[\u001b[0m\u001b[1;34m'City'\u001b[0m\u001b[1;33m]\u001b[0m\u001b[1;33m,\u001b[0m \u001b[0mmargins\u001b[0m\u001b[1;33m=\u001b[0m\u001b[1;32mTrue\u001b[0m\u001b[1;33m)\u001b[0m\u001b[1;33m\u001b[0m\u001b[0m\n\u001b[0m",
      "\u001b[1;31mNameError\u001b[0m: name 'scholist' is not defined"
     ]
    }
   ],
   "source": [
    "table = pd.pivot_table(scholist, values=['School website'], index=['Name'], columns=['City'], margins=True)"
   ]
  },
  {
   "cell_type": "code",
   "execution_count": null,
   "metadata": {
    "collapsed": true
   },
   "outputs": [],
   "source": []
  },
  {
   "cell_type": "code",
   "execution_count": null,
   "metadata": {
    "collapsed": true
   },
   "outputs": [],
   "source": []
  }
 ],
 "metadata": {
  "kernelspec": {
   "display_name": "Python 3",
   "language": "python",
   "name": "python3"
  },
  "language_info": {
   "codemirror_mode": {
    "name": "ipython",
    "version": 3
   },
   "file_extension": ".py",
   "mimetype": "text/x-python",
   "name": "python",
   "nbconvert_exporter": "python",
   "pygments_lexer": "ipython3",
   "version": "3.4.0"
  }
 },
 "nbformat": 4,
 "nbformat_minor": 0
}
