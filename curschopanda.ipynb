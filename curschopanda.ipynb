{
 "cells": [
  {
   "cell_type": "code",
   "execution_count": 94,
   "metadata": {
    "collapsed": false
   },
   "outputs": [],
   "source": [
    "import pandas as pd\n",
    "import random\n",
    "import json \n",
    "import random\n",
    "#import matplotlib.pyplot as plt"
   ]
  },
  {
   "cell_type": "markdown",
   "metadata": {},
   "source": [
    "<h3>Current School Panda</h3>\n",
    "\n",
    "Working with directory school data\n",
    "\n",
    "Creative Commons in all schools"
   ]
  },
  {
   "cell_type": "markdown",
   "metadata": {
    "collapsed": true
   },
   "source": [
    "What made you choose that particular Creative Commons licence?\n",
    "\n",
    "I like the CC:BY licence because it offers the most freedom to people. \n",
    "\n",
    "I am not a fan of licenses that restrict commucial use. I believe everyone should be able to do what the like with my work with minimal interference. \n",
    "\n",
    "If I could I would remove non-commucial licenses. \n",
    "\n",
    "In the early days of my art blogging I would license under cc nc. This was wrong and I later changed this to a cc by license. \n",
    "\n",
    "With my photography I once had a photo I taken in the newpaper. It made the front page. I was offered money and seeked permission. I was fine with it of course - the license allows this. At the bottom of the photo it read: PHOTO: William Mckee.\n",
    "Perfect. \n",
    "\n",
    "The only thing I ask is they attupute.\n",
    "\n",
    "I like the idea of sharealike but at the end of the I really don't care and would hate to chase down people to license it wrong. Sure, I don't like it that people could take my stuff and make it not open. I think everything should be open and free. \n",
    "\n",
    "My art site - artcontrol.me is currently down but when it was up I licensed the site under a cc:by. Elements of the site are still up - such as my YouTube channel. \n",
    "\n",
    "I attended art school in Wellington - The Learning Connexion. My focus was on drawing and painting. I taught myself programming on the bus to art school. Even when I was drawing on the easel I would be 'drawing' python code. During breaks I would often get my laptop out. \n",
    "\n",
    "I volunteered at Whaihanga Early Learning Centre. I spend the majority of my time there in the art area doing collabarth works with others. Oil Pastel, coloured pencil and pencil were my mediums of choice. Sometimes I would use paint, but it's quite messy. \n",
    "\n"
   ]
  },
  {
   "cell_type": "code",
   "execution_count": null,
   "metadata": {
    "collapsed": true
   },
   "outputs": [],
   "source": []
  },
  {
   "cell_type": "code",
   "execution_count": null,
   "metadata": {
    "collapsed": true
   },
   "outputs": [],
   "source": []
  },
  {
   "cell_type": "code",
   "execution_count": null,
   "metadata": {
    "collapsed": true
   },
   "outputs": [],
   "source": []
  },
  {
   "cell_type": "code",
   "execution_count": 62,
   "metadata": {
    "collapsed": false
   },
   "outputs": [],
   "source": [
    "crcom = pd.read_csv('/home/wcmckee/Downloads/List of CC schools - Sheet1.csv', skiprows=5, index_col=0, usecols=[0,1,2])"
   ]
  },
  {
   "cell_type": "markdown",
   "metadata": {
    "collapsed": true
   },
   "source": [
    "Compare the schools on List of CC schools with list of all public/private schools. \n",
    "\n",
    "Why shouldn't it be default for all public schools licence to be under a Creative Commons BY license? "
   ]
  },
  {
   "cell_type": "code",
   "execution_count": 63,
   "metadata": {
    "collapsed": false
   },
   "outputs": [
    {
     "data": {
      "text/html": [
       "<div style=\"max-height:1000px;max-width:1500px;overflow:auto;\">\n",
       "<table border=\"1\" class=\"dataframe\">\n",
       "  <thead>\n",
       "    <tr style=\"text-align: right;\">\n",
       "      <th></th>\n",
       "      <th>Policy</th>\n",
       "      <th>Default Licence</th>\n",
       "    </tr>\n",
       "    <tr>\n",
       "      <th>School</th>\n",
       "      <th></th>\n",
       "      <th></th>\n",
       "    </tr>\n",
       "  </thead>\n",
       "  <tbody>\n",
       "    <tr>\n",
       "      <th>Albany Senior High School</th>\n",
       "      <td> ASHS/CCANZ</td>\n",
       "      <td> BY</td>\n",
       "    </tr>\n",
       "    <tr>\n",
       "      <th>Ardmore</th>\n",
       "      <td> ASHS/CCANZ</td>\n",
       "      <td> BY</td>\n",
       "    </tr>\n",
       "    <tr>\n",
       "      <th>Arrowtown</th>\n",
       "      <td> ASHS/CCANZ</td>\n",
       "      <td> BY</td>\n",
       "    </tr>\n",
       "    <tr>\n",
       "      <th>Ashburton Intermediate</th>\n",
       "      <td> ASHS/CCANZ</td>\n",
       "      <td> BY</td>\n",
       "    </tr>\n",
       "    <tr>\n",
       "      <th>Auckland Girls Grammar School</th>\n",
       "      <td> ASHS/CCANZ</td>\n",
       "      <td> BY</td>\n",
       "    </tr>\n",
       "    <tr>\n",
       "      <th>Banks Avenue</th>\n",
       "      <td> ASHS/CCANZ</td>\n",
       "      <td> BY</td>\n",
       "    </tr>\n",
       "    <tr>\n",
       "      <th>Barton Rural</th>\n",
       "      <td> ASHS/CCANZ</td>\n",
       "      <td> BY</td>\n",
       "    </tr>\n",
       "    <tr>\n",
       "      <th>Broadfield</th>\n",
       "      <td> ASHS/CCANZ</td>\n",
       "      <td> BY</td>\n",
       "    </tr>\n",
       "    <tr>\n",
       "      <th>Burnside High School</th>\n",
       "      <td>    Bespoke</td>\n",
       "      <td> BY</td>\n",
       "    </tr>\n",
       "    <tr>\n",
       "      <th>Cheviot Area</th>\n",
       "      <td> ASHS/CCANZ</td>\n",
       "      <td> BY</td>\n",
       "    </tr>\n",
       "    <tr>\n",
       "      <th>Cobham Intermediate</th>\n",
       "      <td> ASHS/CCANZ</td>\n",
       "      <td> BY</td>\n",
       "    </tr>\n",
       "    <tr>\n",
       "      <th>Diamond Harbour</th>\n",
       "      <td> ASHS/CCANZ</td>\n",
       "      <td> BY</td>\n",
       "    </tr>\n",
       "    <tr>\n",
       "      <th>Eastern Hutt</th>\n",
       "      <td> ASHS/CCANZ</td>\n",
       "      <td> BY</td>\n",
       "    </tr>\n",
       "    <tr>\n",
       "      <th>Ebbett Park</th>\n",
       "      <td> ASHS/CCANZ</td>\n",
       "      <td> BY</td>\n",
       "    </tr>\n",
       "    <tr>\n",
       "      <th>Elmwood Normal</th>\n",
       "      <td> ASHS/CCANZ</td>\n",
       "      <td> BY</td>\n",
       "    </tr>\n",
       "    <tr>\n",
       "      <th>Eskdale</th>\n",
       "      <td> ASHS/CCANZ</td>\n",
       "      <td> BY</td>\n",
       "    </tr>\n",
       "    <tr>\n",
       "      <th>Green Bay</th>\n",
       "      <td> ASHS/CCANZ</td>\n",
       "      <td> BY</td>\n",
       "    </tr>\n",
       "    <tr>\n",
       "      <th>Grey Lynn</th>\n",
       "      <td> ASHS/CCANZ</td>\n",
       "      <td> BY</td>\n",
       "    </tr>\n",
       "    <tr>\n",
       "      <th>Hampden Street</th>\n",
       "      <td> ASHS/CCANZ</td>\n",
       "      <td> BY</td>\n",
       "    </tr>\n",
       "    <tr>\n",
       "      <th>Hillpark</th>\n",
       "      <td> ASHS/CCANZ</td>\n",
       "      <td> BY</td>\n",
       "    </tr>\n",
       "    <tr>\n",
       "      <th>Hobsonville Point Primary School</th>\n",
       "      <td> ASHS/CCANZ</td>\n",
       "      <td> BY</td>\n",
       "    </tr>\n",
       "    <tr>\n",
       "      <th>Hobsonville Point Secondary School</th>\n",
       "      <td> ASHS/CCANZ</td>\n",
       "      <td> BY</td>\n",
       "    </tr>\n",
       "    <tr>\n",
       "      <th>Horowhenua College</th>\n",
       "      <td> ASHS/CCANZ</td>\n",
       "      <td> BY</td>\n",
       "    </tr>\n",
       "    <tr>\n",
       "      <th>Hutt Valley High School</th>\n",
       "      <td>    Bespoke</td>\n",
       "      <td> BY</td>\n",
       "    </tr>\n",
       "    <tr>\n",
       "      <th>Kaikohe West</th>\n",
       "      <td> ASHS/CCANZ</td>\n",
       "      <td> BY</td>\n",
       "    </tr>\n",
       "    <tr>\n",
       "      <th>Kaikoura Suburban</th>\n",
       "      <td> ASHS/CCANZ</td>\n",
       "      <td> BY</td>\n",
       "    </tr>\n",
       "    <tr>\n",
       "      <th>Kaingaroa (Chatham Islands)</th>\n",
       "      <td> ASHS/CCANZ</td>\n",
       "      <td> BY</td>\n",
       "    </tr>\n",
       "    <tr>\n",
       "      <th>Leigh School</th>\n",
       "      <td> ASHS/CCANZ</td>\n",
       "      <td> BY</td>\n",
       "    </tr>\n",
       "    <tr>\n",
       "      <th>Marewa</th>\n",
       "      <td> ASHS/CCANZ</td>\n",
       "      <td> BY</td>\n",
       "    </tr>\n",
       "    <tr>\n",
       "      <th>Marlborough Primary</th>\n",
       "      <td> ASHS/CCANZ</td>\n",
       "      <td> BY</td>\n",
       "    </tr>\n",
       "    <tr>\n",
       "      <th>Merrin</th>\n",
       "      <td> ASHS/CCANZ</td>\n",
       "      <td> BY</td>\n",
       "    </tr>\n",
       "    <tr>\n",
       "      <th>Nayland College</th>\n",
       "      <td> ASHS/CCANZ</td>\n",
       "      <td> BY</td>\n",
       "    </tr>\n",
       "    <tr>\n",
       "      <th>Nelson Park</th>\n",
       "      <td> ASHS/CCANZ</td>\n",
       "      <td> BY</td>\n",
       "    </tr>\n",
       "    <tr>\n",
       "      <th>Oaklands </th>\n",
       "      <td> ASHS/CCANZ</td>\n",
       "      <td> BY</td>\n",
       "    </tr>\n",
       "    <tr>\n",
       "      <th>Ohoka</th>\n",
       "      <td> ASHS/CCANZ</td>\n",
       "      <td> BY</td>\n",
       "    </tr>\n",
       "    <tr>\n",
       "      <th>Okaihau College</th>\n",
       "      <td> ASHS/CCANZ</td>\n",
       "      <td> BY</td>\n",
       "    </tr>\n",
       "    <tr>\n",
       "      <th>Onewhero Area</th>\n",
       "      <td> ASHS/CCANZ</td>\n",
       "      <td> BY</td>\n",
       "    </tr>\n",
       "    <tr>\n",
       "      <th>Orewa College</th>\n",
       "      <td> ASHS/CCANZ</td>\n",
       "      <td> BY</td>\n",
       "    </tr>\n",
       "    <tr>\n",
       "      <th>Our Lady of Snows Methven</th>\n",
       "      <td> ASHS/CCANZ</td>\n",
       "      <td> BY</td>\n",
       "    </tr>\n",
       "    <tr>\n",
       "      <th>Our Lady of Victoriea</th>\n",
       "      <td> ASHS/CCANZ</td>\n",
       "      <td> BY</td>\n",
       "    </tr>\n",
       "    <tr>\n",
       "      <th>Our Lady Star of the Sea Sumner</th>\n",
       "      <td> ASHS/CCANZ</td>\n",
       "      <td> BY</td>\n",
       "    </tr>\n",
       "    <tr>\n",
       "      <th>Pakuranga Heights School</th>\n",
       "      <td> ASHS/CCANZ</td>\n",
       "      <td> BY</td>\n",
       "    </tr>\n",
       "    <tr>\n",
       "      <th>Paparoa Street</th>\n",
       "      <td> ASHS/CCANZ</td>\n",
       "      <td> BY</td>\n",
       "    </tr>\n",
       "    <tr>\n",
       "      <th>Pegasus Bay</th>\n",
       "      <td> ASHS/CCANZ</td>\n",
       "      <td> BY</td>\n",
       "    </tr>\n",
       "    <tr>\n",
       "      <th>Pukekohe Intermediate</th>\n",
       "      <td> ASHS/CCANZ</td>\n",
       "      <td> BY</td>\n",
       "    </tr>\n",
       "    <tr>\n",
       "      <th>Rangiora Borough</th>\n",
       "      <td> ASHS/CCANZ</td>\n",
       "      <td> BY</td>\n",
       "    </tr>\n",
       "    <tr>\n",
       "      <th>Raphael House</th>\n",
       "      <td> ASHS/CCANZ</td>\n",
       "      <td> BY</td>\n",
       "    </tr>\n",
       "    <tr>\n",
       "      <th>Rawhiti</th>\n",
       "      <td> ASHS/CCANZ</td>\n",
       "      <td> BY</td>\n",
       "    </tr>\n",
       "    <tr>\n",
       "      <th>Redwood Tawa</th>\n",
       "      <td> ASHS/CCANZ</td>\n",
       "      <td> BY</td>\n",
       "    </tr>\n",
       "    <tr>\n",
       "      <th>Roydvale</th>\n",
       "      <td> ASHS/CCANZ</td>\n",
       "      <td> BY</td>\n",
       "    </tr>\n",
       "    <tr>\n",
       "      <th>Runanga</th>\n",
       "      <td> ASHS/CCANZ</td>\n",
       "      <td> BY</td>\n",
       "    </tr>\n",
       "    <tr>\n",
       "      <th>Sacred Heart Catholic</th>\n",
       "      <td> ASHS/CCANZ</td>\n",
       "      <td> BY</td>\n",
       "    </tr>\n",
       "    <tr>\n",
       "      <th>Shirley Intermediate</th>\n",
       "      <td> ASHS/CCANZ</td>\n",
       "      <td> BY</td>\n",
       "    </tr>\n",
       "    <tr>\n",
       "      <th>Shotover School</th>\n",
       "      <td> ASHS/CCANZ</td>\n",
       "      <td> BY</td>\n",
       "    </tr>\n",
       "    <tr>\n",
       "      <th>Somerfield</th>\n",
       "      <td> ASHS/CCANZ</td>\n",
       "      <td> BY</td>\n",
       "    </tr>\n",
       "    <tr>\n",
       "      <th>South Hornby</th>\n",
       "      <td> ASHS/CCANZ</td>\n",
       "      <td> BY</td>\n",
       "    </tr>\n",
       "    <tr>\n",
       "      <th>Springston School</th>\n",
       "      <td> ASHS/CCANZ</td>\n",
       "      <td> BY</td>\n",
       "    </tr>\n",
       "    <tr>\n",
       "      <th>St Josephs Upper Hutt</th>\n",
       "      <td> ASHS/CCANZ</td>\n",
       "      <td> BY</td>\n",
       "    </tr>\n",
       "    <tr>\n",
       "      <th>St Marys Catholic Tauranga</th>\n",
       "      <td> ASHS/CCANZ</td>\n",
       "      <td> BY</td>\n",
       "    </tr>\n",
       "    <tr>\n",
       "      <th>St Patrick’s Bryndwr</th>\n",
       "      <td> ASHS/CCANZ</td>\n",
       "      <td> BY</td>\n",
       "    </tr>\n",
       "    <tr>\n",
       "      <th></th>\n",
       "      <td>...</td>\n",
       "      <td>...</td>\n",
       "    </tr>\n",
       "  </tbody>\n",
       "</table>\n",
       "<p>106 rows × 2 columns</p>\n",
       "</div>"
      ],
      "text/plain": [
       "                                        Policy Default Licence\n",
       "School                                                        \n",
       "Albany Senior High School           ASHS/CCANZ              BY\n",
       "Ardmore                             ASHS/CCANZ              BY\n",
       "Arrowtown                           ASHS/CCANZ              BY\n",
       "Ashburton Intermediate              ASHS/CCANZ              BY\n",
       "Auckland Girls Grammar School       ASHS/CCANZ              BY\n",
       "Banks Avenue                        ASHS/CCANZ              BY\n",
       "Barton Rural                        ASHS/CCANZ              BY\n",
       "Broadfield                          ASHS/CCANZ              BY\n",
       "Burnside High School                   Bespoke              BY\n",
       "Cheviot Area                        ASHS/CCANZ              BY\n",
       "Cobham Intermediate                 ASHS/CCANZ              BY\n",
       "Diamond Harbour                     ASHS/CCANZ              BY\n",
       "Eastern Hutt                        ASHS/CCANZ              BY\n",
       "Ebbett Park                         ASHS/CCANZ              BY\n",
       "Elmwood Normal                      ASHS/CCANZ              BY\n",
       "Eskdale                             ASHS/CCANZ              BY\n",
       "Green Bay                           ASHS/CCANZ              BY\n",
       "Grey Lynn                           ASHS/CCANZ              BY\n",
       "Hampden Street                      ASHS/CCANZ              BY\n",
       "Hillpark                            ASHS/CCANZ              BY\n",
       "Hobsonville Point Primary School    ASHS/CCANZ              BY\n",
       "Hobsonville Point Secondary School  ASHS/CCANZ              BY\n",
       "Horowhenua College                  ASHS/CCANZ              BY\n",
       "Hutt Valley High School                Bespoke              BY\n",
       "Kaikohe West                        ASHS/CCANZ              BY\n",
       "Kaikoura Suburban                   ASHS/CCANZ              BY\n",
       "Kaingaroa (Chatham Islands)         ASHS/CCANZ              BY\n",
       "Leigh School                        ASHS/CCANZ              BY\n",
       "Marewa                              ASHS/CCANZ              BY\n",
       "Marlborough Primary                 ASHS/CCANZ              BY\n",
       "Merrin                              ASHS/CCANZ              BY\n",
       "Nayland College                     ASHS/CCANZ              BY\n",
       "Nelson Park                         ASHS/CCANZ              BY\n",
       "Oaklands                            ASHS/CCANZ              BY\n",
       "Ohoka                               ASHS/CCANZ              BY\n",
       "Okaihau College                     ASHS/CCANZ              BY\n",
       "Onewhero Area                       ASHS/CCANZ              BY\n",
       "Orewa College                       ASHS/CCANZ              BY\n",
       "Our Lady of Snows Methven           ASHS/CCANZ              BY\n",
       "Our Lady of Victoriea               ASHS/CCANZ              BY\n",
       "Our Lady Star of the Sea Sumner     ASHS/CCANZ              BY\n",
       "Pakuranga Heights School            ASHS/CCANZ              BY\n",
       "Paparoa Street                      ASHS/CCANZ              BY\n",
       "Pegasus Bay                         ASHS/CCANZ              BY\n",
       "Pukekohe Intermediate               ASHS/CCANZ              BY\n",
       "Rangiora Borough                    ASHS/CCANZ              BY\n",
       "Raphael House                       ASHS/CCANZ              BY\n",
       "Rawhiti                             ASHS/CCANZ              BY\n",
       "Redwood Tawa                        ASHS/CCANZ              BY\n",
       "Roydvale                            ASHS/CCANZ              BY\n",
       "Runanga                             ASHS/CCANZ              BY\n",
       "Sacred Heart Catholic               ASHS/CCANZ              BY\n",
       "Shirley Intermediate                ASHS/CCANZ              BY\n",
       "Shotover School                     ASHS/CCANZ              BY\n",
       "Somerfield                          ASHS/CCANZ              BY\n",
       "South Hornby                        ASHS/CCANZ              BY\n",
       "Springston School                   ASHS/CCANZ              BY\n",
       "St Josephs Upper Hutt               ASHS/CCANZ              BY\n",
       "St Marys Catholic Tauranga          ASHS/CCANZ              BY\n",
       "St Patrick’s Bryndwr                ASHS/CCANZ              BY\n",
       "                                           ...             ...\n",
       "\n",
       "[106 rows x 2 columns]"
      ]
     },
     "execution_count": 63,
     "metadata": {},
     "output_type": "execute_result"
    }
   ],
   "source": [
    "crcom"
   ]
  },
  {
   "cell_type": "code",
   "execution_count": 64,
   "metadata": {
    "collapsed": false
   },
   "outputs": [],
   "source": [
    "aqcom = pd.read_csv('/home/wcmckee/Downloads/List of CC schools - Sheet1.csv', skiprows=5, usecols=[0])"
   ]
  },
  {
   "cell_type": "code",
   "execution_count": 65,
   "metadata": {
    "collapsed": false
   },
   "outputs": [],
   "source": [
    "aqjsz = aqcom.to_json()"
   ]
  },
  {
   "cell_type": "code",
   "execution_count": 66,
   "metadata": {
    "collapsed": false
   },
   "outputs": [],
   "source": [
    "dicthol = json.loads(aqjsz)"
   ]
  },
  {
   "cell_type": "code",
   "execution_count": 67,
   "metadata": {
    "collapsed": false
   },
   "outputs": [],
   "source": [
    "dschoz = dicthol['School']"
   ]
  },
  {
   "cell_type": "code",
   "execution_count": null,
   "metadata": {
    "collapsed": true
   },
   "outputs": [],
   "source": []
  },
  {
   "cell_type": "code",
   "execution_count": 68,
   "metadata": {
    "collapsed": false
   },
   "outputs": [
    {
     "data": {
      "text/plain": [
       "dict_keys(['47', '22', '73', '68', '48', '46', '103', '36', '15', '96', '18', '3', '53', '34', '69', '2', '93', '85', '16', '49', '94', '7', '8', '71', '57', '4', '98', '58', '26', '54', '30', '95', '81', '9', '40', '55', '101', '10', '84', '19', '87', '50', '45', '99', '44', '74', '24', '104', '6', '39', '27', '60', '86', '37', '89', '80', '28', '23', '51', '72', '56', '65', '33', '79', '66', '64', '100', '90', '41', '88', '14', '83', '32', '78', '29', '21', '61', '52', '91', '97', '63', '0', '20', '35', '11', '31', '59', '1', '5', '70', '12', '75', '67', '92', '17', '102', '38', '76', '25', '82', '42', '13', '77', '62', '43', '105'])"
      ]
     },
     "execution_count": 68,
     "metadata": {},
     "output_type": "execute_result"
    }
   ],
   "source": [
    "dschoz.keys()"
   ]
  },
  {
   "cell_type": "code",
   "execution_count": 69,
   "metadata": {
    "collapsed": false
   },
   "outputs": [],
   "source": [
    "dscv = dschoz.values()"
   ]
  },
  {
   "cell_type": "code",
   "execution_count": 70,
   "metadata": {
    "collapsed": true
   },
   "outputs": [],
   "source": [
    "ccschool = list()"
   ]
  },
  {
   "cell_type": "code",
   "execution_count": null,
   "metadata": {
    "collapsed": true
   },
   "outputs": [],
   "source": []
  },
  {
   "cell_type": "code",
   "execution_count": 71,
   "metadata": {
    "collapsed": false
   },
   "outputs": [
    {
     "name": "stdout",
     "output_type": "stream",
     "text": [
      "Albany Senior High School\n",
      "Ardmore\n",
      "Arrowtown\n",
      "Ashburton Intermediate\n",
      "Auckland Girls Grammar School\n",
      "Banks Avenue\n",
      "Barton Rural\n",
      "Broadfield\n",
      "Burnside High School\n",
      "Cheviot Area\n",
      "Cobham Intermediate\n",
      "Diamond Harbour\n",
      "Eastern Hutt\n",
      "Ebbett Park\n",
      "Elmwood Normal\n",
      "Eskdale\n",
      "Green Bay\n",
      "Grey Lynn\n",
      "Hampden Street\n",
      "Hillpark\n",
      "Hobsonville Point Primary School\n",
      "Hobsonville Point Secondary School\n",
      "Horowhenua College\n",
      "Hutt Valley High School\n",
      "Kaikohe West\n",
      "Kaikoura Suburban\n",
      "Kaingaroa (Chatham Islands)\n",
      "Leigh School\n",
      "Marewa\n",
      "Marlborough Primary\n",
      "Merrin\n",
      "Nayland College\n",
      "Nelson Park\n",
      "Oaklands \n",
      "Ohoka\n",
      "Okaihau College\n",
      "Onewhero Area\n",
      "Orewa College\n",
      "Our Lady of Snows Methven\n",
      "Our Lady of Victoriea\n",
      "Our Lady Star of the Sea Sumner\n",
      "Pakuranga Heights School\n",
      "Paparoa Street\n",
      "Pegasus Bay\n",
      "Pukekohe Intermediate\n",
      "Rangiora Borough\n",
      "Raphael House\n",
      "Rawhiti\n",
      "Redwood Tawa\n",
      "Roydvale\n",
      "Runanga\n",
      "Sacred Heart Catholic\n",
      "Shirley Intermediate\n",
      "Shotover School\n",
      "Somerfield\n",
      "South Hornby\n",
      "Springston School\n",
      "St Josephs Upper Hutt\n",
      "St Marys Catholic Tauranga\n",
      "St Patrick’s Bryndwr\n",
      "St Patrick’s Kaiapoi\n",
      "Stonefields School\n",
      "Sumner\n",
      "Sylvia Park School\n",
      "Taipa Area School \n",
      "Taradale Intermediate\n",
      "Taupaki School\n",
      "Tawa Intermediate\n",
      "Te Hihi\n",
      "Te One\n",
      "Te Pa o Rakaihautu\n",
      "Te Wharekura o Maniapoto\n",
      "Thorndon\n",
      "Thorrington\n",
      "TKKM o Te Atihaunui-A-Paparangi\n",
      "Waikato Diocesan\n",
      "Ward\n",
      "Warrington School\n",
      "Wellington High School\n",
      "Westlake Girls High School\n",
      "Westmere\n",
      "Whau Valley\n",
      "Windwhistle\n",
      "Yaldhurst Model\n",
      "Northcote College\n",
      "Middleton Grange School\n",
      "Whangaparaoa College\n"
     ]
    }
   ],
   "source": [
    "for ds in range(87):\n",
    "    print(dschoz[str(ds)])\n",
    "    ccschool.append((dschoz[str(ds)]))"
   ]
  },
  {
   "cell_type": "code",
   "execution_count": 80,
   "metadata": {
    "collapsed": true
   },
   "outputs": [],
   "source": [
    "schccd = dict()"
   ]
  },
  {
   "cell_type": "code",
   "execution_count": 82,
   "metadata": {
    "collapsed": false
   },
   "outputs": [],
   "source": [
    "scda = dict({'cc' : True})"
   ]
  },
  {
   "cell_type": "code",
   "execution_count": 83,
   "metadata": {
    "collapsed": false
   },
   "outputs": [
    {
     "data": {
      "text/plain": [
       "{'cc': True}"
      ]
     },
     "execution_count": 83,
     "metadata": {},
     "output_type": "execute_result"
    }
   ],
   "source": [
    "scda"
   ]
  },
  {
   "cell_type": "code",
   "execution_count": null,
   "metadata": {
    "collapsed": true
   },
   "outputs": [],
   "source": []
  },
  {
   "cell_type": "code",
   "execution_count": null,
   "metadata": {
    "collapsed": true
   },
   "outputs": [],
   "source": []
  },
  {
   "cell_type": "code",
   "execution_count": null,
   "metadata": {
    "collapsed": true
   },
   "outputs": [],
   "source": [
    "schccd.update({ccs : scda})"
   ]
  },
  {
   "cell_type": "code",
   "execution_count": 84,
   "metadata": {
    "collapsed": false
   },
   "outputs": [
    {
     "name": "stdout",
     "output_type": "stream",
     "text": [
      "Albany Senior High School\n",
      "Ardmore\n",
      "Arrowtown\n",
      "Ashburton Intermediate\n",
      "Auckland Girls Grammar School\n",
      "Banks Avenue\n",
      "Barton Rural\n",
      "Broadfield\n",
      "Burnside High School\n",
      "Cheviot Area\n",
      "Cobham Intermediate\n",
      "Diamond Harbour\n",
      "Eastern Hutt\n",
      "Ebbett Park\n",
      "Elmwood Normal\n",
      "Eskdale\n",
      "Green Bay\n",
      "Grey Lynn\n",
      "Hampden Street\n",
      "Hillpark\n",
      "Hobsonville Point Primary School\n",
      "Hobsonville Point Secondary School\n",
      "Horowhenua College\n",
      "Hutt Valley High School\n",
      "Kaikohe West\n",
      "Kaikoura Suburban\n",
      "Kaingaroa (Chatham Islands)\n",
      "Leigh School\n",
      "Marewa\n",
      "Marlborough Primary\n",
      "Merrin\n",
      "Nayland College\n",
      "Nelson Park\n",
      "Oaklands \n",
      "Ohoka\n",
      "Okaihau College\n",
      "Onewhero Area\n",
      "Orewa College\n",
      "Our Lady of Snows Methven\n",
      "Our Lady of Victoriea\n",
      "Our Lady Star of the Sea Sumner\n",
      "Pakuranga Heights School\n",
      "Paparoa Street\n",
      "Pegasus Bay\n",
      "Pukekohe Intermediate\n",
      "Rangiora Borough\n",
      "Raphael House\n",
      "Rawhiti\n",
      "Redwood Tawa\n",
      "Roydvale\n",
      "Runanga\n",
      "Sacred Heart Catholic\n",
      "Shirley Intermediate\n",
      "Shotover School\n",
      "Somerfield\n",
      "South Hornby\n",
      "Springston School\n",
      "St Josephs Upper Hutt\n",
      "St Marys Catholic Tauranga\n",
      "St Patrick’s Bryndwr\n",
      "St Patrick’s Kaiapoi\n",
      "Stonefields School\n",
      "Sumner\n",
      "Sylvia Park School\n",
      "Taipa Area School \n",
      "Taradale Intermediate\n",
      "Taupaki School\n",
      "Tawa Intermediate\n",
      "Te Hihi\n",
      "Te One\n",
      "Te Pa o Rakaihautu\n",
      "Te Wharekura o Maniapoto\n",
      "Thorndon\n",
      "Thorrington\n",
      "TKKM o Te Atihaunui-A-Paparangi\n",
      "Waikato Diocesan\n",
      "Ward\n",
      "Warrington School\n",
      "Wellington High School\n",
      "Westlake Girls High School\n",
      "Westmere\n",
      "Whau Valley\n",
      "Windwhistle\n",
      "Yaldhurst Model\n",
      "Northcote College\n",
      "Middleton Grange School\n",
      "Whangaparaoa College\n"
     ]
    }
   ],
   "source": [
    "for ccs in ccschool:\n",
    "    #These schools have a cc license. Update the list of all schools with cc and value = true.\n",
    "    #Focus on schools that don't have cc license.\n",
    "    #Filter schools in area that don't have cc license.\n",
    "    print (ccs)\n",
    "    schccd.update({ccs : scda})"
   ]
  },
  {
   "cell_type": "code",
   "execution_count": null,
   "metadata": {
    "collapsed": true
   },
   "outputs": [],
   "source": []
  },
  {
   "cell_type": "code",
   "execution_count": 78,
   "metadata": {
    "collapsed": true
   },
   "outputs": [],
   "source": [
    "#Random CC school\n",
    "ranccskol = random.randint(0,87)"
   ]
  },
  {
   "cell_type": "code",
   "execution_count": null,
   "metadata": {
    "collapsed": true
   },
   "outputs": [],
   "source": []
  },
  {
   "cell_type": "code",
   "execution_count": 79,
   "metadata": {
    "collapsed": false
   },
   "outputs": [
    {
     "data": {
      "text/plain": [
       "'South Hornby'"
      ]
     },
     "execution_count": 79,
     "metadata": {},
     "output_type": "execute_result"
    }
   ],
   "source": [
    "dschoz[str(ranccskol)]"
   ]
  },
  {
   "cell_type": "code",
   "execution_count": null,
   "metadata": {
    "collapsed": true
   },
   "outputs": [],
   "source": []
  },
  {
   "cell_type": "code",
   "execution_count": 74,
   "metadata": {
    "collapsed": false
   },
   "outputs": [
    {
     "name": "stdout",
     "output_type": "stream",
     "text": [
      "Albany Senior High School\n",
      "Ardmore\n",
      "Arrowtown\n",
      "Ashburton Intermediate\n",
      "Auckland Girls Grammar School\n",
      "Banks Avenue\n",
      "Barton Rural\n",
      "Broadfield\n",
      "Burnside High School\n",
      "Cheviot Area\n",
      "Cobham Intermediate\n",
      "Diamond Harbour\n",
      "Eastern Hutt\n",
      "Ebbett Park\n",
      "Elmwood Normal\n",
      "Eskdale\n",
      "Green Bay\n",
      "Grey Lynn\n",
      "Hampden Street\n",
      "Hillpark\n",
      "Hobsonville Point Primary School\n",
      "Hobsonville Point Secondary School\n",
      "Horowhenua College\n",
      "Hutt Valley High School\n",
      "Kaikohe West\n",
      "Kaikoura Suburban\n",
      "Kaingaroa (Chatham Islands)\n",
      "Leigh School\n",
      "Marewa\n",
      "Marlborough Primary\n",
      "Merrin\n",
      "Nayland College\n",
      "Nelson Park\n",
      "Oaklands \n",
      "Ohoka\n",
      "Okaihau College\n",
      "Onewhero Area\n",
      "Orewa College\n",
      "Our Lady of Snows Methven\n",
      "Our Lady of Victoriea\n",
      "Our Lady Star of the Sea Sumner\n",
      "Pakuranga Heights School\n",
      "Paparoa Street\n",
      "Pegasus Bay\n",
      "Pukekohe Intermediate\n",
      "Rangiora Borough\n",
      "Raphael House\n",
      "Rawhiti\n",
      "Redwood Tawa\n",
      "Roydvale\n",
      "Runanga\n",
      "Sacred Heart Catholic\n",
      "Shirley Intermediate\n",
      "Shotover School\n",
      "Somerfield\n",
      "South Hornby\n",
      "Springston School\n",
      "St Josephs Upper Hutt\n",
      "St Marys Catholic Tauranga\n",
      "St Patrick’s Bryndwr\n",
      "St Patrick’s Kaiapoi\n",
      "Stonefields School\n",
      "Sumner\n",
      "Sylvia Park School\n",
      "Taipa Area School \n",
      "Taradale Intermediate\n",
      "Taupaki School\n",
      "Tawa Intermediate\n",
      "Te Hihi\n",
      "Te One\n",
      "Te Pa o Rakaihautu\n",
      "Te Wharekura o Maniapoto\n",
      "Thorndon\n",
      "Thorrington\n",
      "TKKM o Te Atihaunui-A-Paparangi\n",
      "Waikato Diocesan\n",
      "Ward\n",
      "Warrington School\n",
      "Wellington High School\n",
      "Westlake Girls High School\n",
      "Westmere\n",
      "Whau Valley\n",
      "Windwhistle\n",
      "Yaldhurst Model\n",
      "Northcote College\n",
      "Middleton Grange School\n",
      "Whangaparaoa College\n"
     ]
    }
   ],
   "source": [
    "for dsc in range(87):\n",
    "    print (dschoz[str(dsc)])"
   ]
  },
  {
   "cell_type": "code",
   "execution_count": 87,
   "metadata": {
    "collapsed": false
   },
   "outputs": [
    {
     "data": {
      "text/plain": [
       "{'Albany Senior High School': {'cc': True},\n",
       " 'Ardmore': {'cc': True},\n",
       " 'Arrowtown': {'cc': True},\n",
       " 'Ashburton Intermediate': {'cc': True},\n",
       " 'Auckland Girls Grammar School': {'cc': True},\n",
       " 'Banks Avenue': {'cc': True},\n",
       " 'Barton Rural': {'cc': True},\n",
       " 'Broadfield': {'cc': True},\n",
       " 'Burnside High School': {'cc': True},\n",
       " 'Cheviot Area': {'cc': True},\n",
       " 'Cobham Intermediate': {'cc': True},\n",
       " 'Diamond Harbour': {'cc': True},\n",
       " 'Eastern Hutt': {'cc': True},\n",
       " 'Ebbett Park': {'cc': True},\n",
       " 'Elmwood Normal': {'cc': True},\n",
       " 'Eskdale': {'cc': True},\n",
       " 'Green Bay': {'cc': True},\n",
       " 'Grey Lynn': {'cc': True},\n",
       " 'Hampden Street': {'cc': True},\n",
       " 'Hillpark': {'cc': True},\n",
       " 'Hobsonville Point Primary School': {'cc': True},\n",
       " 'Hobsonville Point Secondary School': {'cc': True},\n",
       " 'Horowhenua College': {'cc': True},\n",
       " 'Hutt Valley High School': {'cc': True},\n",
       " 'Kaikohe West': {'cc': True},\n",
       " 'Kaikoura Suburban': {'cc': True},\n",
       " 'Kaingaroa (Chatham Islands)': {'cc': True},\n",
       " 'Leigh School': {'cc': True},\n",
       " 'Marewa': {'cc': True},\n",
       " 'Marlborough Primary': {'cc': True},\n",
       " 'Merrin': {'cc': True},\n",
       " 'Middleton Grange School': {'cc': True},\n",
       " 'Nayland College': {'cc': True},\n",
       " 'Nelson Park': {'cc': True},\n",
       " 'Northcote College': {'cc': True},\n",
       " 'Oaklands ': {'cc': True},\n",
       " 'Ohoka': {'cc': True},\n",
       " 'Okaihau College': {'cc': True},\n",
       " 'Onewhero Area': {'cc': True},\n",
       " 'Orewa College': {'cc': True},\n",
       " 'Our Lady Star of the Sea Sumner': {'cc': True},\n",
       " 'Our Lady of Snows Methven': {'cc': True},\n",
       " 'Our Lady of Victoriea': {'cc': True},\n",
       " 'Pakuranga Heights School': {'cc': True},\n",
       " 'Paparoa Street': {'cc': True},\n",
       " 'Pegasus Bay': {'cc': True},\n",
       " 'Pukekohe Intermediate': {'cc': True},\n",
       " 'Rangiora Borough': {'cc': True},\n",
       " 'Raphael House': {'cc': True},\n",
       " 'Rawhiti': {'cc': True},\n",
       " 'Redwood Tawa': {'cc': True},\n",
       " 'Roydvale': {'cc': True},\n",
       " 'Runanga': {'cc': True},\n",
       " 'Sacred Heart Catholic': {'cc': True},\n",
       " 'Shirley Intermediate': {'cc': True},\n",
       " 'Shotover School': {'cc': True},\n",
       " 'Somerfield': {'cc': True},\n",
       " 'South Hornby': {'cc': True},\n",
       " 'Springston School': {'cc': True},\n",
       " 'St Josephs Upper Hutt': {'cc': True},\n",
       " 'St Marys Catholic Tauranga': {'cc': True},\n",
       " 'St Patrick’s Bryndwr': {'cc': True},\n",
       " 'St Patrick’s Kaiapoi': {'cc': True},\n",
       " 'Stonefields School': {'cc': True},\n",
       " 'Sumner': {'cc': True},\n",
       " 'Sylvia Park School': {'cc': True},\n",
       " 'TKKM o Te Atihaunui-A-Paparangi': {'cc': True},\n",
       " 'Taipa Area School ': {'cc': True},\n",
       " 'Taradale Intermediate': {'cc': True},\n",
       " 'Taupaki School': {'cc': True},\n",
       " 'Tawa Intermediate': {'cc': True},\n",
       " 'Te Hihi': {'cc': True},\n",
       " 'Te One': {'cc': True},\n",
       " 'Te Pa o Rakaihautu': {'cc': True},\n",
       " 'Te Wharekura o Maniapoto': {'cc': True},\n",
       " 'Thorndon': {'cc': True},\n",
       " 'Thorrington': {'cc': True},\n",
       " 'Waikato Diocesan': {'cc': True},\n",
       " 'Ward': {'cc': True},\n",
       " 'Warrington School': {'cc': True},\n",
       " 'Wellington High School': {'cc': True},\n",
       " 'Westlake Girls High School': {'cc': True},\n",
       " 'Westmere': {'cc': True},\n",
       " 'Whangaparaoa College': {'cc': True},\n",
       " 'Whau Valley': {'cc': True},\n",
       " 'Windwhistle': {'cc': True},\n",
       " 'Yaldhurst Model': {'cc': True}}"
      ]
     },
     "execution_count": 87,
     "metadata": {},
     "output_type": "execute_result"
    }
   ],
   "source": [
    "#Append in names of schools that are missing from this dict. \n",
    "#Something like\n",
    "#schccd.update{school that doesnt have cc : {'cc' : False}}\n",
    "schccd"
   ]
  },
  {
   "cell_type": "code",
   "execution_count": null,
   "metadata": {
    "collapsed": true
   },
   "outputs": [],
   "source": []
  },
  {
   "cell_type": "markdown",
   "metadata": {},
   "source": [
    "Cycle through only first 89 values - stop when reaching : These are schools that have expressed an interest in CC, and may have a policy in progress.\n",
    "\n",
    "New spreadsheet for schools in progress of CC license. Where are they up to? What is the next steps?\n",
    "\n",
    "Why are schools using a license that isn't CC:BY. They really should be using the same license. CC NC is unexceptable. SA would be OK but majority of schools already have CC BY so best to go with what is common so you don't have conflicts of licenses. "
   ]
  },
  {
   "cell_type": "code",
   "execution_count": 29,
   "metadata": {
    "collapsed": false
   },
   "outputs": [
    {
     "name": "stdout",
     "output_type": "stream",
     "text": [
      "Rawhiti\n",
      "Horowhenua College\n",
      "Thorrington\n",
      "Te Hihi\n",
      "Redwood Tawa\n",
      "Raphael House\n",
      "Mount Maunganui College\n",
      "Onewhero Area\n",
      "Eskdale\n",
      "Saint Catherine's (Wgtn)\n",
      "Hampden Street\n",
      "Ashburton Intermediate\n",
      "Shotover School\n",
      "Ohoka\n",
      "Te One\n",
      "Arrowtown\n",
      "Carmel College\n",
      "\n",
      "Middleton Grange School\n",
      "Green Bay\n",
      "Roydvale\n",
      "Marcellin College\n",
      "Broadfield\n",
      "Burnside High School\n",
      "Te Wharekura o Maniapoto\n",
      "St Josephs Upper Hutt\n",
      "Auckland Girls Grammar School\n",
      "Sacred Hutt College (Lower Hutt)\n",
      "St Marys Catholic Tauranga\n",
      "Kaingaroa (Chatham Islands)\n",
      "Somerfield\n",
      "Merrin\n",
      "Havelock North HS\n",
      "Whau Valley\n",
      "Cheviot Area\n",
      "Our Lady Star of the Sea Sumner\n",
      "South Hornby\n",
      "Papanui High School\n",
      "Cobham Intermediate\n",
      "Northcote College\n",
      "Hillpark\n",
      "None\n",
      "Runanga\n",
      "Rangiora Borough\n",
      "St Joseph's Catholic School\n",
      "Pukekohe Intermediate\n",
      "TKKM o Te Atihaunui-A-Paparangi\n",
      "Kaikohe West\n",
      "Frankley School\n",
      "Barton Rural\n",
      "Our Lady of Victoriea\n",
      "Leigh School\n",
      "St Patrick’s Kaiapoi\n",
      "Whangaparaoa College\n",
      "Orewa College\n",
      "Policies in Progress\n",
      "Westmere\n",
      "Marewa\n",
      "Hutt Valley High School\n",
      "Sacred Heart Catholic\n",
      "Thorndon\n",
      "Springston School\n",
      "Taradale Intermediate\n",
      "Oaklands \n",
      "Westlake Girls High School\n",
      "Taupaki School\n",
      "Taipa Area School \n",
      "Wellington East Girls' College\n",
      "These are schools that have expressed an interest in CC, and may have a policy in progress\n",
      "Pakuranga Heights School\n",
      "None\n",
      "Elmwood Normal\n",
      "Yaldhurst Model\n",
      "Nelson Park\n",
      "Wellington High School\n",
      "Marlborough Primary\n",
      "Hobsonville Point Secondary School\n",
      "Stonefields School\n",
      "Shirley Intermediate\n",
      "School\n",
      "Massey Primary School\n",
      "Sylvia Park School\n",
      "Albany Senior High School\n",
      "Hobsonville Point Primary School\n",
      "Okaihau College\n",
      "Diamond Harbour\n",
      "Nayland College\n",
      "St Patrick’s Bryndwr\n",
      "Ardmore\n",
      "Banks Avenue\n",
      "Te Pa o Rakaihautu\n",
      "Eastern Hutt\n",
      "Waikato Diocesan\n",
      "Tawa Intermediate\n",
      "Hutt International Boys School\n",
      "Grey Lynn\n",
      "Kelston Boys High School\n",
      "Our Lady of Snows Methven\n",
      "Ward\n",
      "Kaikoura Suburban\n",
      "Windwhistle\n",
      "Paparoa Street\n",
      "Ebbett Park\n",
      "Warrington School\n",
      "Sumner\n",
      "Pegasus Bay\n",
      "Cambridge High School\n"
     ]
    }
   ],
   "source": [
    "for dsv in dscv:\n",
    "    print (dsv)"
   ]
  },
  {
   "cell_type": "code",
   "execution_count": null,
   "metadata": {
    "collapsed": true
   },
   "outputs": [],
   "source": []
  },
  {
   "cell_type": "code",
   "execution_count": null,
   "metadata": {
    "collapsed": true
   },
   "outputs": [],
   "source": []
  },
  {
   "cell_type": "code",
   "execution_count": null,
   "metadata": {
    "collapsed": true
   },
   "outputs": [],
   "source": []
  },
  {
   "cell_type": "code",
   "execution_count": null,
   "metadata": {
    "collapsed": true
   },
   "outputs": [],
   "source": []
  },
  {
   "cell_type": "code",
   "execution_count": null,
   "metadata": {
    "collapsed": true
   },
   "outputs": [],
   "source": []
  },
  {
   "cell_type": "code",
   "execution_count": null,
   "metadata": {
    "collapsed": true
   },
   "outputs": [],
   "source": []
  },
  {
   "cell_type": "code",
   "execution_count": 72,
   "metadata": {
    "collapsed": false
   },
   "outputs": [
    {
     "data": {
      "text/plain": [
       "'{\"School\":{\"0\":\"Albany Senior High School\",\"1\":\"Ardmore\",\"2\":\"Arrowtown\",\"3\":\"Ashburton Intermediate\",\"4\":\"Auckland Girls Grammar School\",\"5\":\"Banks Avenue\",\"6\":\"Barton Rural\",\"7\":\"Broadfield\",\"8\":\"Burnside High School\",\"9\":\"Cheviot Area\",\"10\":\"Cobham Intermediate\",\"11\":\"Diamond Harbour\",\"12\":\"Eastern Hutt\",\"13\":\"Ebbett Park\",\"14\":\"Elmwood Normal\",\"15\":\"Eskdale\",\"16\":\"Green Bay\",\"17\":\"Grey Lynn\",\"18\":\"Hampden Street\",\"19\":\"Hillpark\",\"20\":\"Hobsonville Point Primary School\",\"21\":\"Hobsonville Point Secondary School\",\"22\":\"Horowhenua College\",\"23\":\"Hutt Valley High School\",\"24\":\"Kaikohe West\",\"25\":\"Kaikoura Suburban\",\"26\":\"Kaingaroa (Chatham Islands)\",\"27\":\"Leigh School\",\"28\":\"Marewa\",\"29\":\"Marlborough Primary\",\"30\":\"Merrin\",\"31\":\"Nayland College\",\"32\":\"Nelson Park\",\"33\":\"Oaklands \",\"34\":\"Ohoka\",\"35\":\"Okaihau College\",\"36\":\"Onewhero Area\",\"37\":\"Orewa College\",\"38\":\"Our Lady of Snows Methven\",\"39\":\"Our Lady of Victoriea\",\"40\":\"Our Lady Star of the Sea Sumner\",\"41\":\"Pakuranga Heights School\",\"42\":\"Paparoa Street\",\"43\":\"Pegasus Bay\",\"44\":\"Pukekohe Intermediate\",\"45\":\"Rangiora Borough\",\"46\":\"Raphael House\",\"47\":\"Rawhiti\",\"48\":\"Redwood Tawa\",\"49\":\"Roydvale\",\"50\":\"Runanga\",\"51\":\"Sacred Heart Catholic\",\"52\":\"Shirley Intermediate\",\"53\":\"Shotover School\",\"54\":\"Somerfield\",\"55\":\"South Hornby\",\"56\":\"Springston School\",\"57\":\"St Josephs Upper Hutt\",\"58\":\"St Marys Catholic Tauranga\",\"59\":\"St Patrick\\\\u2019s Bryndwr\",\"60\":\"St Patrick\\\\u2019s Kaiapoi\",\"61\":\"Stonefields School\",\"62\":\"Sumner\",\"63\":\"Sylvia Park School\",\"64\":\"Taipa Area School \",\"65\":\"Taradale Intermediate\",\"66\":\"Taupaki School\",\"67\":\"Tawa Intermediate\",\"68\":\"Te Hihi\",\"69\":\"Te One\",\"70\":\"Te Pa o Rakaihautu\",\"71\":\"Te Wharekura o Maniapoto\",\"72\":\"Thorndon\",\"73\":\"Thorrington\",\"74\":\"TKKM o Te Atihaunui-A-Paparangi\",\"75\":\"Waikato Diocesan\",\"76\":\"Ward\",\"77\":\"Warrington School\",\"78\":\"Wellington High School\",\"79\":\"Westlake Girls High School\",\"80\":\"Westmere\",\"81\":\"Whau Valley\",\"82\":\"Windwhistle\",\"83\":\"Yaldhurst Model\",\"84\":\"Northcote College\",\"85\":\"Middleton Grange School\",\"86\":\"Whangaparaoa College\",\"87\":null,\"88\":null,\"89\":\"Policies in Progress\",\"90\":\"These are schools that have expressed an interest in CC, and may have a policy in progress\",\"91\":\"School\",\"92\":\"Hutt International Boys School\",\"93\":\"Carmel College\\\\n\",\"94\":\"Marcellin College\",\"95\":\"Havelock North HS\",\"96\":\"Saint Catherine\\'s (Wgtn)\",\"97\":\"Massey Primary School\",\"98\":\"Sacred Hutt College (Lower Hutt)\",\"99\":\"St Joseph\\'s Catholic School\",\"100\":\"Wellington East Girls\\' College\",\"101\":\"Papanui High School\",\"102\":\"Kelston Boys High School\",\"103\":\"Mount Maunganui College\",\"104\":\"Frankley School\",\"105\":\"Cambridge High School\"}}'"
      ]
     },
     "execution_count": 72,
     "metadata": {},
     "output_type": "execute_result"
    }
   ],
   "source": [
    "aqjsz"
   ]
  },
  {
   "cell_type": "code",
   "execution_count": null,
   "metadata": {
    "collapsed": true
   },
   "outputs": [],
   "source": []
  },
  {
   "cell_type": "code",
   "execution_count": null,
   "metadata": {
    "collapsed": true
   },
   "outputs": [],
   "source": []
  },
  {
   "cell_type": "code",
   "execution_count": null,
   "metadata": {
    "collapsed": true
   },
   "outputs": [],
   "source": []
  },
  {
   "cell_type": "code",
   "execution_count": null,
   "metadata": {
    "collapsed": true
   },
   "outputs": [],
   "source": [
    "crcom."
   ]
  },
  {
   "cell_type": "code",
   "execution_count": 20,
   "metadata": {
    "collapsed": false
   },
   "outputs": [
    {
     "data": {
      "text/plain": [
       "School\n",
       "Albany Senior High School                                                                     ASHS/CCANZ\n",
       "Ardmore                                                                                       ASHS/CCANZ\n",
       "Arrowtown                                                                                     ASHS/CCANZ\n",
       "Ashburton Intermediate                                                                        ASHS/CCANZ\n",
       "Auckland Girls Grammar School                                                                 ASHS/CCANZ\n",
       "Banks Avenue                                                                                  ASHS/CCANZ\n",
       "Barton Rural                                                                                  ASHS/CCANZ\n",
       "Broadfield                                                                                    ASHS/CCANZ\n",
       "Burnside High School                                                                             Bespoke\n",
       "Cheviot Area                                                                                  ASHS/CCANZ\n",
       "Cobham Intermediate                                                                           ASHS/CCANZ\n",
       "Diamond Harbour                                                                               ASHS/CCANZ\n",
       "Eastern Hutt                                                                                  ASHS/CCANZ\n",
       "Ebbett Park                                                                                   ASHS/CCANZ\n",
       "Elmwood Normal                                                                                ASHS/CCANZ\n",
       "Eskdale                                                                                       ASHS/CCANZ\n",
       "Green Bay                                                                                     ASHS/CCANZ\n",
       "Grey Lynn                                                                                     ASHS/CCANZ\n",
       "Hampden Street                                                                                ASHS/CCANZ\n",
       "Hillpark                                                                                      ASHS/CCANZ\n",
       "Hobsonville Point Primary School                                                              ASHS/CCANZ\n",
       "Hobsonville Point Secondary School                                                            ASHS/CCANZ\n",
       "Horowhenua College                                                                            ASHS/CCANZ\n",
       "Hutt Valley High School                                                                          Bespoke\n",
       "Kaikohe West                                                                                  ASHS/CCANZ\n",
       "Kaikoura Suburban                                                                             ASHS/CCANZ\n",
       "Kaingaroa (Chatham Islands)                                                                   ASHS/CCANZ\n",
       "Leigh School                                                                                  ASHS/CCANZ\n",
       "Marewa                                                                                        ASHS/CCANZ\n",
       "Marlborough Primary                                                                           ASHS/CCANZ\n",
       "                                                                                                 ...    \n",
       "Ward                                                                                          ASHS/CCANZ\n",
       "Warrington School                                                                              Bespoke\\n\n",
       "Wellington High School                                                                        ASHS/CCANZ\n",
       "Westlake Girls High School                                                                    ASHS/CCANZ\n",
       "Westmere                                                                                      ASHS/CCANZ\n",
       "Whau Valley                                                                                   ASHS/CCANZ\n",
       "Windwhistle                                                                                   ASHS/CCANZ\n",
       "Yaldhurst Model                                                                               ASHS/CCANZ\n",
       "Northcote College                                                                             ASHS/CCANZ\n",
       "Middleton Grange School                                                                       ASHS/CCANZ\n",
       "Whangaparaoa College                                                                          ASHS/CCANZ\n",
       "NaN                                                                                                  NaN\n",
       "NaN                                                                                                  NaN\n",
       "Policies in Progress                                                                                 NaN\n",
       "These are schools that have expressed an interest in CC, and may have a policy in progress           NaN\n",
       "School                                                                                            Policy\n",
       "Hutt International Boys School                                                                       NaN\n",
       "Carmel College\\n                                                                                     NaN\n",
       "Marcellin College                                                                                    NaN\n",
       "Havelock North HS                                                                                    NaN\n",
       "Saint Catherine's (Wgtn)                                                                             NaN\n",
       "Massey Primary School                                                                                NaN\n",
       "Sacred Hutt College (Lower Hutt)                                                                     NaN\n",
       "St Joseph's Catholic School                                                                          NaN\n",
       "Wellington East Girls' College                                                                       NaN\n",
       "Papanui High School                                                                                  NaN\n",
       "Kelston Boys High School                                                                             NaN\n",
       "Mount Maunganui College                                                                              NaN\n",
       "Frankley School                                                                                      NaN\n",
       "Cambridge High School                                                                                NaN\n",
       "Name: Policy, dtype: object"
      ]
     },
     "execution_count": 20,
     "metadata": {},
     "output_type": "execute_result"
    }
   ],
   "source": [
    "crcom.Policy"
   ]
  },
  {
   "cell_type": "code",
   "execution_count": 54,
   "metadata": {
    "collapsed": false
   },
   "outputs": [],
   "source": [
    "noclist = pd.read_csv('/home/wcmckee/Downloads/directory-School-current.csv', skiprows=3, usecols=[1])"
   ]
  },
  {
   "cell_type": "code",
   "execution_count": 55,
   "metadata": {
    "collapsed": false
   },
   "outputs": [
    {
     "data": {
      "text/plain": [
       "array([['Te Kao School'],\n",
       "       ['Taipa Area School'],\n",
       "       ['Kaitaia College'],\n",
       "       ['Whangaroa College'],\n",
       "       ['Kerikeri High School'],\n",
       "       ['Broadwood Area School'],\n",
       "       ['Okaihau College'],\n",
       "       ['Bay of Islands College'],\n",
       "       ['Northland College'],\n",
       "       ['Te Kura Taumata o Panguru']], dtype=object)"
      ]
     },
     "execution_count": 55,
     "metadata": {},
     "output_type": "execute_result"
    }
   ],
   "source": [
    "noclist.values[0:10]"
   ]
  },
  {
   "cell_type": "code",
   "execution_count": 19,
   "metadata": {
    "collapsed": true
   },
   "outputs": [],
   "source": [
    "aqjaq = noclist.to_json()"
   ]
  },
  {
   "cell_type": "code",
   "execution_count": 89,
   "metadata": {
    "collapsed": false
   },
   "outputs": [],
   "source": [
    "jsaqq = json.loads(aqjaq)"
   ]
  },
  {
   "cell_type": "code",
   "execution_count": 90,
   "metadata": {
    "collapsed": false
   },
   "outputs": [],
   "source": [
    "najsa = jsaqq['Name']"
   ]
  },
  {
   "cell_type": "code",
   "execution_count": 100,
   "metadata": {
    "collapsed": false
   },
   "outputs": [
    {
     "name": "stdout",
     "output_type": "stream",
     "text": [
      "Pakuranga Heights School\n",
      "Te Hihi\n",
      "Nayland College\n",
      "Te One\n",
      "Green Bay\n",
      "Grey Lynn\n",
      "Ward\n",
      "Whau Valley\n",
      "Te Pa o Rakaihautu\n",
      "Thorrington\n",
      "Waikato Diocesan\n",
      "Shirley Intermediate\n",
      "Westlake Girls High School\n",
      "Te Wharekura o Maniapoto\n",
      "Yaldhurst Model\n",
      "Horowhenua College\n",
      "Westmere\n",
      "Our Lady of Victoriea\n",
      "Elmwood Normal\n",
      "Oaklands \n",
      "Orewa College\n",
      "Kaikohe West\n",
      "Pegasus Bay\n",
      "Hutt Valley High School\n",
      "Pukekohe Intermediate\n",
      "Hobsonville Point Secondary School\n",
      "Hillpark\n",
      "Taupaki School\n",
      "Kaikoura Suburban\n",
      "Cheviot Area\n",
      "Thorndon\n",
      "Runanga\n",
      "Wellington High School\n",
      "Somerfield\n",
      "Rangiora Borough\n",
      "Eskdale\n",
      "Taradale Intermediate\n",
      "Taipa Area School \n",
      "Kaingaroa (Chatham Islands)\n",
      "Broadfield\n",
      "Shotover School\n",
      "Tawa Intermediate\n",
      "Springston School\n",
      "Ashburton Intermediate\n",
      "Arrowtown\n",
      "Our Lady Star of the Sea Sumner\n",
      "Whangaparaoa College\n",
      "Hampden Street\n",
      "Roydvale\n",
      "Auckland Girls Grammar School\n",
      "Windwhistle\n",
      "Redwood Tawa\n",
      "Sylvia Park School\n",
      "Burnside High School\n",
      "Albany Senior High School\n",
      "Barton Rural\n",
      "Our Lady of Snows Methven\n",
      "Marewa\n",
      "Stonefields School\n",
      "Sacred Heart Catholic\n",
      "Okaihau College\n",
      "Sumner\n",
      "Ohoka\n",
      "South Hornby\n",
      "Northcote College\n",
      "St Marys Catholic Tauranga\n",
      "Middleton Grange School\n",
      "Nelson Park\n",
      "Hobsonville Point Primary School\n",
      "Ebbett Park\n",
      "St Patrick’s Bryndwr\n",
      "Marlborough Primary\n",
      "Leigh School\n",
      "St Patrick’s Kaiapoi\n",
      "Eastern Hutt\n",
      "Paparoa Street\n",
      "Diamond Harbour\n",
      "Warrington School\n",
      "Banks Avenue\n",
      "TKKM o Te Atihaunui-A-Paparangi\n",
      "Ardmore\n",
      "Cobham Intermediate\n",
      "Rawhiti\n",
      "St Josephs Upper Hutt\n",
      "Merrin\n",
      "Onewhero Area\n",
      "Raphael House\n"
     ]
    }
   ],
   "source": [
    "for schk in schccd.keys():\n",
    "    print(schk)\n",
    "    if "
   ]
  },
  {
   "cell_type": "code",
   "execution_count": 110,
   "metadata": {
    "collapsed": false
   },
   "outputs": [
    {
     "data": {
      "text/plain": [
       "2543"
      ]
     },
     "execution_count": 110,
     "metadata": {},
     "output_type": "execute_result"
    }
   ],
   "source": [
    "len(najsa)"
   ]
  },
  {
   "cell_type": "code",
   "execution_count": 112,
   "metadata": {
    "collapsed": false
   },
   "outputs": [
    {
     "name": "stdout",
     "output_type": "stream",
     "text": [
      "Okaihau College\n",
      "Orewa College\n",
      "Northcote College\n",
      "Green Bay\n",
      "Onewhero Area\n",
      "Raphael House\n",
      "Waikato Diocesan\n",
      "Horowhenua College\n",
      "Hutt Valley High School\n",
      "Wellington High School\n",
      "Nayland College\n",
      "Cheviot Area\n",
      "Burnside High School\n",
      "Middleton Grange School\n",
      "Albany Senior High School\n",
      "Stonefields School\n",
      "Rawhiti\n",
      "Te Pa o Rakaihautu\n",
      "Kaikohe West\n",
      "Whau Valley\n",
      "Rawhiti\n",
      "Ardmore\n",
      "Green Bay\n",
      "Grey Lynn\n",
      "Hillpark\n",
      "Leigh School\n",
      "Pakuranga Heights School\n",
      "Pukekohe Intermediate\n",
      "Grey Lynn\n",
      "Sylvia Park School\n",
      "Taupaki School\n",
      "Te Hihi\n",
      "Westmere\n",
      "Te Wharekura o Maniapoto\n",
      "Barton Rural\n",
      "Rawhiti\n",
      "Westmere\n",
      "Ebbett Park\n",
      "Eskdale\n",
      "Marewa\n",
      "Nelson Park\n",
      "Taradale Intermediate\n",
      "Eastern Hutt\n",
      "Tawa Intermediate\n",
      "Thorndon\n",
      "Ward\n",
      "Hampden Street\n",
      "Ashburton Intermediate\n",
      "Banks Avenue\n",
      "Broadfield\n",
      "Cobham Intermediate\n",
      "Diamond Harbour\n",
      "Elmwood Normal\n",
      "Kaikoura Suburban\n",
      "Merrin\n",
      "Oaklands \n",
      "Ohoka\n",
      "Paparoa Street\n",
      "Rangiora Borough\n",
      "Roydvale\n",
      "Runanga\n",
      "Shirley Intermediate\n",
      "Somerfield\n",
      "South Hornby\n",
      "Springston School\n",
      "Sumner\n",
      "Te One\n",
      "Thorrington\n",
      "Pegasus Bay\n",
      "Windwhistle\n",
      "Yaldhurst Model\n",
      "Warrington School\n",
      "Arrowtown\n",
      "TKKM o Te Atihaunui-A-Paparangi\n",
      "Whangaparaoa College\n",
      "Hobsonville Point Primary School\n",
      "Hobsonville Point Secondary School\n"
     ]
    }
   ],
   "source": [
    "#Cycle though some schools rather than everything. \n",
    "#Cycle though all schools and find schools that have cc \n",
    "for naj in range(2543):\n",
    "    #print(najsa[str(naj)])\n",
    "    for schk in schccd.keys():\n",
    "        if schk in (najsa[str(naj)]):\n",
    "            #Remove these schools from the list\n",
    "            print (schk)"
   ]
  },
  {
   "cell_type": "code",
   "execution_count": null,
   "metadata": {
    "collapsed": true
   },
   "outputs": [],
   "source": []
  },
  {
   "cell_type": "code",
   "execution_count": 84,
   "metadata": {
    "collapsed": false
   },
   "outputs": [
    {
     "ename": "SyntaxError",
     "evalue": "invalid syntax (<ipython-input-84-4576f25e2282>, line 2)",
     "output_type": "error",
     "traceback": [
      "\u001b[1;36m  File \u001b[1;32m\"<ipython-input-84-4576f25e2282>\"\u001b[1;36m, line \u001b[1;32m2\u001b[0m\n\u001b[1;33m    print najsa\u001b[0m\n\u001b[1;37m              ^\u001b[0m\n\u001b[1;31mSyntaxError\u001b[0m\u001b[1;31m:\u001b[0m invalid syntax\n"
     ]
    }
   ],
   "source": [
    "for najv in najsa.values():\n",
    "    print(najsa)"
   ]
  },
  {
   "cell_type": "code",
   "execution_count": null,
   "metadata": {
    "collapsed": true
   },
   "outputs": [],
   "source": []
  },
  {
   "cell_type": "code",
   "execution_count": null,
   "metadata": {
    "collapsed": true
   },
   "outputs": [],
   "source": []
  },
  {
   "cell_type": "code",
   "execution_count": null,
   "metadata": {
    "collapsed": true
   },
   "outputs": [],
   "source": []
  },
  {
   "cell_type": "code",
   "execution_count": null,
   "metadata": {
    "collapsed": true
   },
   "outputs": [],
   "source": []
  },
  {
   "cell_type": "code",
   "execution_count": null,
   "metadata": {
    "collapsed": true
   },
   "outputs": [],
   "source": []
  },
  {
   "cell_type": "code",
   "execution_count": null,
   "metadata": {
    "collapsed": true
   },
   "outputs": [],
   "source": []
  },
  {
   "cell_type": "code",
   "execution_count": null,
   "metadata": {
    "collapsed": true
   },
   "outputs": [],
   "source": []
  },
  {
   "cell_type": "code",
   "execution_count": 56,
   "metadata": {
    "collapsed": false
   },
   "outputs": [
    {
     "ename": "OSError",
     "evalue": "File b'/home/wcmckee/Downloads/Directory-School-current.csv' does not exist",
     "output_type": "error",
     "traceback": [
      "\u001b[1;31m---------------------------------------------------------------------------\u001b[0m",
      "\u001b[1;31mOSError\u001b[0m                                   Traceback (most recent call last)",
      "\u001b[1;32m<ipython-input-56-82bf1b8c6346>\u001b[0m in \u001b[0;36m<module>\u001b[1;34m()\u001b[0m\n\u001b[1;32m----> 1\u001b[1;33m \u001b[0mscholist\u001b[0m \u001b[1;33m=\u001b[0m \u001b[0mpd\u001b[0m\u001b[1;33m.\u001b[0m\u001b[0mread_csv\u001b[0m\u001b[1;33m(\u001b[0m\u001b[1;34m'/home/wcmckee/Downloads/Directory-School-current.csv'\u001b[0m\u001b[1;33m,\u001b[0m \u001b[0mskiprows\u001b[0m\u001b[1;33m=\u001b[0m\u001b[1;36m3\u001b[0m\u001b[1;33m,\u001b[0m \u001b[0mindex_col\u001b[0m\u001b[1;33m=\u001b[0m\u001b[1;36m0\u001b[0m\u001b[1;33m)\u001b[0m\u001b[1;33m\u001b[0m\u001b[0m\n\u001b[0m",
      "\u001b[1;32m/usr/lib/python3/dist-packages/pandas/io/parsers.py\u001b[0m in \u001b[0;36mparser_f\u001b[1;34m(filepath_or_buffer, sep, dialect, compression, doublequote, escapechar, quotechar, quoting, skipinitialspace, lineterminator, header, index_col, names, prefix, skiprows, skipfooter, skip_footer, na_values, na_fvalues, true_values, false_values, delimiter, converters, dtype, usecols, engine, delim_whitespace, as_recarray, na_filter, compact_ints, use_unsigned, low_memory, buffer_lines, warn_bad_lines, error_bad_lines, keep_default_na, thousands, comment, decimal, parse_dates, keep_date_col, dayfirst, date_parser, memory_map, nrows, iterator, chunksize, verbose, encoding, squeeze, mangle_dupe_cols, tupleize_cols, infer_datetime_format)\u001b[0m\n\u001b[0;32m    418\u001b[0m                     infer_datetime_format=infer_datetime_format)\n\u001b[0;32m    419\u001b[0m \u001b[1;33m\u001b[0m\u001b[0m\n\u001b[1;32m--> 420\u001b[1;33m         \u001b[1;32mreturn\u001b[0m \u001b[0m_read\u001b[0m\u001b[1;33m(\u001b[0m\u001b[0mfilepath_or_buffer\u001b[0m\u001b[1;33m,\u001b[0m \u001b[0mkwds\u001b[0m\u001b[1;33m)\u001b[0m\u001b[1;33m\u001b[0m\u001b[0m\n\u001b[0m\u001b[0;32m    421\u001b[0m \u001b[1;33m\u001b[0m\u001b[0m\n\u001b[0;32m    422\u001b[0m     \u001b[0mparser_f\u001b[0m\u001b[1;33m.\u001b[0m\u001b[0m__name__\u001b[0m \u001b[1;33m=\u001b[0m \u001b[0mname\u001b[0m\u001b[1;33m\u001b[0m\u001b[0m\n",
      "\u001b[1;32m/usr/lib/python3/dist-packages/pandas/io/parsers.py\u001b[0m in \u001b[0;36m_read\u001b[1;34m(filepath_or_buffer, kwds)\u001b[0m\n\u001b[0;32m    216\u001b[0m \u001b[1;33m\u001b[0m\u001b[0m\n\u001b[0;32m    217\u001b[0m     \u001b[1;31m# Create the parser.\u001b[0m\u001b[1;33m\u001b[0m\u001b[1;33m\u001b[0m\u001b[0m\n\u001b[1;32m--> 218\u001b[1;33m     \u001b[0mparser\u001b[0m \u001b[1;33m=\u001b[0m \u001b[0mTextFileReader\u001b[0m\u001b[1;33m(\u001b[0m\u001b[0mfilepath_or_buffer\u001b[0m\u001b[1;33m,\u001b[0m \u001b[1;33m**\u001b[0m\u001b[0mkwds\u001b[0m\u001b[1;33m)\u001b[0m\u001b[1;33m\u001b[0m\u001b[0m\n\u001b[0m\u001b[0;32m    219\u001b[0m \u001b[1;33m\u001b[0m\u001b[0m\n\u001b[0;32m    220\u001b[0m     \u001b[1;32mif\u001b[0m \u001b[0mnrows\u001b[0m \u001b[1;32mis\u001b[0m \u001b[1;32mnot\u001b[0m \u001b[1;32mNone\u001b[0m\u001b[1;33m:\u001b[0m\u001b[1;33m\u001b[0m\u001b[0m\n",
      "\u001b[1;32m/usr/lib/python3/dist-packages/pandas/io/parsers.py\u001b[0m in \u001b[0;36m__init__\u001b[1;34m(self, f, engine, **kwds)\u001b[0m\n\u001b[0;32m    500\u001b[0m             \u001b[0mself\u001b[0m\u001b[1;33m.\u001b[0m\u001b[0moptions\u001b[0m\u001b[1;33m[\u001b[0m\u001b[1;34m'has_index_names'\u001b[0m\u001b[1;33m]\u001b[0m \u001b[1;33m=\u001b[0m \u001b[0mkwds\u001b[0m\u001b[1;33m[\u001b[0m\u001b[1;34m'has_index_names'\u001b[0m\u001b[1;33m]\u001b[0m\u001b[1;33m\u001b[0m\u001b[0m\n\u001b[0;32m    501\u001b[0m \u001b[1;33m\u001b[0m\u001b[0m\n\u001b[1;32m--> 502\u001b[1;33m         \u001b[0mself\u001b[0m\u001b[1;33m.\u001b[0m\u001b[0m_make_engine\u001b[0m\u001b[1;33m(\u001b[0m\u001b[0mself\u001b[0m\u001b[1;33m.\u001b[0m\u001b[0mengine\u001b[0m\u001b[1;33m)\u001b[0m\u001b[1;33m\u001b[0m\u001b[0m\n\u001b[0m\u001b[0;32m    503\u001b[0m \u001b[1;33m\u001b[0m\u001b[0m\n\u001b[0;32m    504\u001b[0m     \u001b[1;32mdef\u001b[0m \u001b[0m_get_options_with_defaults\u001b[0m\u001b[1;33m(\u001b[0m\u001b[0mself\u001b[0m\u001b[1;33m,\u001b[0m \u001b[0mengine\u001b[0m\u001b[1;33m)\u001b[0m\u001b[1;33m:\u001b[0m\u001b[1;33m\u001b[0m\u001b[0m\n",
      "\u001b[1;32m/usr/lib/python3/dist-packages/pandas/io/parsers.py\u001b[0m in \u001b[0;36m_make_engine\u001b[1;34m(self, engine)\u001b[0m\n\u001b[0;32m    608\u001b[0m     \u001b[1;32mdef\u001b[0m \u001b[0m_make_engine\u001b[0m\u001b[1;33m(\u001b[0m\u001b[0mself\u001b[0m\u001b[1;33m,\u001b[0m \u001b[0mengine\u001b[0m\u001b[1;33m=\u001b[0m\u001b[1;34m'c'\u001b[0m\u001b[1;33m)\u001b[0m\u001b[1;33m:\u001b[0m\u001b[1;33m\u001b[0m\u001b[0m\n\u001b[0;32m    609\u001b[0m         \u001b[1;32mif\u001b[0m \u001b[0mengine\u001b[0m \u001b[1;33m==\u001b[0m \u001b[1;34m'c'\u001b[0m\u001b[1;33m:\u001b[0m\u001b[1;33m\u001b[0m\u001b[0m\n\u001b[1;32m--> 610\u001b[1;33m             \u001b[0mself\u001b[0m\u001b[1;33m.\u001b[0m\u001b[0m_engine\u001b[0m \u001b[1;33m=\u001b[0m \u001b[0mCParserWrapper\u001b[0m\u001b[1;33m(\u001b[0m\u001b[0mself\u001b[0m\u001b[1;33m.\u001b[0m\u001b[0mf\u001b[0m\u001b[1;33m,\u001b[0m \u001b[1;33m**\u001b[0m\u001b[0mself\u001b[0m\u001b[1;33m.\u001b[0m\u001b[0moptions\u001b[0m\u001b[1;33m)\u001b[0m\u001b[1;33m\u001b[0m\u001b[0m\n\u001b[0m\u001b[0;32m    611\u001b[0m         \u001b[1;32melse\u001b[0m\u001b[1;33m:\u001b[0m\u001b[1;33m\u001b[0m\u001b[0m\n\u001b[0;32m    612\u001b[0m             \u001b[1;32mif\u001b[0m \u001b[0mengine\u001b[0m \u001b[1;33m==\u001b[0m \u001b[1;34m'python'\u001b[0m\u001b[1;33m:\u001b[0m\u001b[1;33m\u001b[0m\u001b[0m\n",
      "\u001b[1;32m/usr/lib/python3/dist-packages/pandas/io/parsers.py\u001b[0m in \u001b[0;36m__init__\u001b[1;34m(self, src, **kwds)\u001b[0m\n\u001b[0;32m    970\u001b[0m         \u001b[0mkwds\u001b[0m\u001b[1;33m[\u001b[0m\u001b[1;34m'allow_leading_cols'\u001b[0m\u001b[1;33m]\u001b[0m \u001b[1;33m=\u001b[0m \u001b[0mself\u001b[0m\u001b[1;33m.\u001b[0m\u001b[0mindex_col\u001b[0m \u001b[1;32mis\u001b[0m \u001b[1;32mnot\u001b[0m \u001b[1;32mFalse\u001b[0m\u001b[1;33m\u001b[0m\u001b[0m\n\u001b[0;32m    971\u001b[0m \u001b[1;33m\u001b[0m\u001b[0m\n\u001b[1;32m--> 972\u001b[1;33m         \u001b[0mself\u001b[0m\u001b[1;33m.\u001b[0m\u001b[0m_reader\u001b[0m \u001b[1;33m=\u001b[0m \u001b[0m_parser\u001b[0m\u001b[1;33m.\u001b[0m\u001b[0mTextReader\u001b[0m\u001b[1;33m(\u001b[0m\u001b[0msrc\u001b[0m\u001b[1;33m,\u001b[0m \u001b[1;33m**\u001b[0m\u001b[0mkwds\u001b[0m\u001b[1;33m)\u001b[0m\u001b[1;33m\u001b[0m\u001b[0m\n\u001b[0m\u001b[0;32m    973\u001b[0m \u001b[1;33m\u001b[0m\u001b[0m\n\u001b[0;32m    974\u001b[0m         \u001b[1;31m# XXX\u001b[0m\u001b[1;33m\u001b[0m\u001b[1;33m\u001b[0m\u001b[0m\n",
      "\u001b[1;32mparser.pyx\u001b[0m in \u001b[0;36mpandas.parser.TextReader.__cinit__ (pandas/parser.c:3040)\u001b[1;34m()\u001b[0m\n",
      "\u001b[1;32mparser.pyx\u001b[0m in \u001b[0;36mpandas.parser.TextReader._setup_parser_source (pandas/parser.c:5387)\u001b[1;34m()\u001b[0m\n",
      "\u001b[1;31mOSError\u001b[0m: File b'/home/wcmckee/Downloads/Directory-School-current.csv' does not exist"
     ]
    }
   ],
   "source": [
    "scholist = pd.read_csv('/home/wcmckee/Downloads/Directory-School-current.csv', skiprows=3, index_col=0)"
   ]
  },
  {
   "cell_type": "code",
   "execution_count": 57,
   "metadata": {
    "collapsed": false
   },
   "outputs": [
    {
     "ename": "NameError",
     "evalue": "name 'scholist' is not defined",
     "output_type": "error",
     "traceback": [
      "\u001b[1;31m---------------------------------------------------------------------------\u001b[0m",
      "\u001b[1;31mNameError\u001b[0m                                 Traceback (most recent call last)",
      "\u001b[1;32m<ipython-input-57-970785e3234f>\u001b[0m in \u001b[0;36m<module>\u001b[1;34m()\u001b[0m\n\u001b[1;32m----> 1\u001b[1;33m \u001b[0mschem\u001b[0m \u001b[1;33m=\u001b[0m \u001b[0mscholist\u001b[0m\u001b[1;33m[\u001b[0m\u001b[1;34m'Email^'\u001b[0m\u001b[1;33m]\u001b[0m\u001b[1;33m\u001b[0m\u001b[0m\n\u001b[0m",
      "\u001b[1;31mNameError\u001b[0m: name 'scholist' is not defined"
     ]
    }
   ],
   "source": [
    "schem = scholist['Email^']"
   ]
  },
  {
   "cell_type": "code",
   "execution_count": 58,
   "metadata": {
    "collapsed": false
   },
   "outputs": [
    {
     "ename": "NameError",
     "evalue": "name 'schem' is not defined",
     "output_type": "error",
     "traceback": [
      "\u001b[1;31m---------------------------------------------------------------------------\u001b[0m",
      "\u001b[1;31mNameError\u001b[0m                                 Traceback (most recent call last)",
      "\u001b[1;32m<ipython-input-58-33d97e996271>\u001b[0m in \u001b[0;36m<module>\u001b[1;34m()\u001b[0m\n\u001b[1;32m----> 1\u001b[1;33m \u001b[1;32mfor\u001b[0m \u001b[0mschval\u001b[0m \u001b[1;32min\u001b[0m \u001b[0mschem\u001b[0m\u001b[1;33m.\u001b[0m\u001b[0mvalues\u001b[0m\u001b[1;33m:\u001b[0m\u001b[1;33m\u001b[0m\u001b[0m\n\u001b[0m\u001b[0;32m      2\u001b[0m     \u001b[0mprint\u001b[0m\u001b[1;33m(\u001b[0m\u001b[0mschval\u001b[0m\u001b[1;33m)\u001b[0m\u001b[1;33m\u001b[0m\u001b[0m\n",
      "\u001b[1;31mNameError\u001b[0m: name 'schem' is not defined"
     ]
    }
   ],
   "source": [
    "for schval in schem.values:\n",
    "    print(schval)"
   ]
  },
  {
   "cell_type": "code",
   "execution_count": 59,
   "metadata": {
    "collapsed": false
   },
   "outputs": [
    {
     "ename": "NameError",
     "evalue": "name 'scholist' is not defined",
     "output_type": "error",
     "traceback": [
      "\u001b[1;31m---------------------------------------------------------------------------\u001b[0m",
      "\u001b[1;31mNameError\u001b[0m                                 Traceback (most recent call last)",
      "\u001b[1;32m<ipython-input-59-c4c23ddff733>\u001b[0m in \u001b[0;36m<module>\u001b[1;34m()\u001b[0m\n\u001b[1;32m----> 1\u001b[1;33m \u001b[0mpd\u001b[0m\u001b[1;33m.\u001b[0m\u001b[0mDataFrame\u001b[0m\u001b[1;33m(\u001b[0m\u001b[0mindex\u001b[0m\u001b[1;33m=\u001b[0m\u001b[0mscholist\u001b[0m\u001b[1;33m.\u001b[0m\u001b[0mCity\u001b[0m\u001b[1;33m,\u001b[0m \u001b[0mcolumns\u001b[0m\u001b[1;33m=\u001b[0m\u001b[0mscholist\u001b[0m\u001b[1;33m.\u001b[0m\u001b[0mName\u001b[0m\u001b[1;33m,\u001b[0m \u001b[1;33m)\u001b[0m\u001b[1;33m\u001b[0m\u001b[0m\n\u001b[0m",
      "\u001b[1;31mNameError\u001b[0m: name 'scholist' is not defined"
     ]
    }
   ],
   "source": [
    "pd.DataFrame(index=scholist.City, columns=scholist.Name, )"
   ]
  },
  {
   "cell_type": "code",
   "execution_count": 60,
   "metadata": {
    "collapsed": false
   },
   "outputs": [
    {
     "ename": "NameError",
     "evalue": "name 'scholist' is not defined",
     "output_type": "error",
     "traceback": [
      "\u001b[1;31m---------------------------------------------------------------------------\u001b[0m",
      "\u001b[1;31mNameError\u001b[0m                                 Traceback (most recent call last)",
      "\u001b[1;32m<ipython-input-60-68cc4f08ae04>\u001b[0m in \u001b[0;36m<module>\u001b[1;34m()\u001b[0m\n\u001b[1;32m----> 1\u001b[1;33m \u001b[0mtable\u001b[0m \u001b[1;33m=\u001b[0m \u001b[0mpd\u001b[0m\u001b[1;33m.\u001b[0m\u001b[0mpivot_table\u001b[0m\u001b[1;33m(\u001b[0m\u001b[0mscholist\u001b[0m\u001b[1;33m,\u001b[0m \u001b[0mvalues\u001b[0m\u001b[1;33m=\u001b[0m\u001b[1;33m[\u001b[0m\u001b[1;34m'School website'\u001b[0m\u001b[1;33m]\u001b[0m\u001b[1;33m,\u001b[0m \u001b[0mindex\u001b[0m\u001b[1;33m=\u001b[0m\u001b[1;33m[\u001b[0m\u001b[1;34m'Name'\u001b[0m\u001b[1;33m]\u001b[0m\u001b[1;33m,\u001b[0m \u001b[0mcolumns\u001b[0m\u001b[1;33m=\u001b[0m\u001b[1;33m[\u001b[0m\u001b[1;34m'City'\u001b[0m\u001b[1;33m]\u001b[0m\u001b[1;33m,\u001b[0m \u001b[0mmargins\u001b[0m\u001b[1;33m=\u001b[0m\u001b[1;32mTrue\u001b[0m\u001b[1;33m)\u001b[0m\u001b[1;33m\u001b[0m\u001b[0m\n\u001b[0m",
      "\u001b[1;31mNameError\u001b[0m: name 'scholist' is not defined"
     ]
    }
   ],
   "source": [
    "table = pd.pivot_table(scholist, values=['School website'], index=['Name'], columns=['City'], margins=True)"
   ]
  },
  {
   "cell_type": "code",
   "execution_count": null,
   "metadata": {
    "collapsed": true
   },
   "outputs": [],
   "source": []
  },
  {
   "cell_type": "code",
   "execution_count": null,
   "metadata": {
    "collapsed": true
   },
   "outputs": [],
   "source": []
  }
 ],
 "metadata": {
  "kernelspec": {
   "display_name": "Python 3",
   "language": "python",
   "name": "python3"
  },
  "language_info": {
   "codemirror_mode": {
    "name": "ipython",
    "version": 3
   },
   "file_extension": ".py",
   "mimetype": "text/x-python",
   "name": "python",
   "nbconvert_exporter": "python",
   "pygments_lexer": "ipython3",
   "version": "3.4.0"
  }
 },
 "nbformat": 4,
 "nbformat_minor": 0
}
