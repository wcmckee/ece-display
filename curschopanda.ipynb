{
 "cells": [
  {
   "cell_type": "code",
   "execution_count": 68,
   "metadata": {
    "collapsed": false
   },
   "outputs": [],
   "source": [
    "import pandas as pd\n",
    "import random\n",
    "import json \n",
    "import random\n",
    "import requests\n",
    "import bs4\n",
    "#import matplotlib.pyplot as plt"
   ]
  },
  {
   "cell_type": "markdown",
   "metadata": {},
   "source": [
    "<h3>Current School Panda</h3>\n",
    "\n",
    "Working with directory school data\n",
    "\n",
    "Creative Commons in all schools\n",
    "\n",
    "This script uses a csv file from Creative Commons New Zealand and csv file from Ministry of Education. \n",
    "\n",
    "The ccnz csv file contains schools names that have cc licence, type of licence, \n",
    "\n",
    "The Ministry of Education csv file contains every public school in New Zealand and info about them. \n",
    "\n",
    "Standards for website addresses - if school name ends with school then cut it from name and add to . \n",
    "eg Horowhenua Collage\n",
    "horowhenua.collage.nz\n",
    "not \n",
    "horowhenuacollage.school.nz\n",
    "\n",
    "Auckland Girls Grammar School\n",
    "\n",
    "aucklandgirlsgrammar.school.nz\n",
    "not\n",
    "aucklandgirlsgrammarschool.school.nz\n",
    "\n",
    "Everyschool has their own domain name and Linux server hosting the site. Private/Public keys. Static site, git repo. Nikola blog."
   ]
  },
  {
   "cell_type": "markdown",
   "metadata": {
    "collapsed": true
   },
   "source": [
    "What made you choose that particular Creative Commons licence?\n",
    "\n",
    "I like the CC:BY licence because it offers the most freedom to people. \n",
    "\n",
    "I am not a fan of licenses that restrict commucial use. I believe everyone should be able to do what the like with my work with minimal interference. \n",
    "\n",
    "If I could I would remove non-commucial licenses. \n",
    "\n",
    "In the early days of my art blogging I would license under cc nc. This was wrong and I later changed this to a cc by license. \n",
    "\n",
    "With my photography I once had a photo I taken in the newpaper. It made the front page. I was offered money and seeked permission. I was fine with it of course - the license allows this. At the bottom of the photo it read: PHOTO: William Mckee.\n",
    "Perfect. \n",
    "\n",
    "The only thing I ask is they attupute.\n",
    "\n",
    "I like the idea of sharealike but at the end of the I really don't care and would hate to chase down people to license it wrong. Sure, I don't like it that people could take my stuff and make it not open. I think everything should be open and free. \n",
    "\n",
    "My art site - artcontrol.me is currently down but when it was up I licensed the site under a cc:by. Elements of the site are still up - such as my YouTube channel. \n",
    "\n",
    "I attended art school in Wellington - The Learning Connexion. My focus was on drawing and painting. I taught myself programming on the bus to art school. Even when I was drawing on the easel I would be 'drawing' python code. During breaks I would often get my laptop out. \n",
    "\n",
    "I volunteered at Whaihanga Early Learning Centre. I spend the majority of my time there in the art area doing collabarth works with others. Oil Pastel, coloured pencil and pencil were my mediums of choice. Sometimes I would use paint, but it's quite messy. \n",
    "\n",
    "Copyright shouldn't be default. Apply and pay if you want copyright. CC license by default. That will sort the world. "
   ]
  },
  {
   "cell_type": "code",
   "execution_count": 110,
   "metadata": {
    "collapsed": false
   },
   "outputs": [],
   "source": [
    "crcom = pd.read_csv('/home/wcmckee/Downloads/List of CC schools - Sheet1.csv', skiprows=5, index_col=0, usecols=[0,1,2])"
   ]
  },
  {
   "cell_type": "markdown",
   "metadata": {
    "collapsed": true
   },
   "source": [
    "Compare the schools on List of CC schools with list of all public/private schools. \n",
    "\n",
    "Why shouldn't it be default for all public schools licence to be under a Creative Commons BY license? "
   ]
  },
  {
   "cell_type": "code",
   "execution_count": 111,
   "metadata": {
    "collapsed": false
   },
   "outputs": [],
   "source": [
    "#crcom"
   ]
  },
  {
   "cell_type": "code",
   "execution_count": 112,
   "metadata": {
    "collapsed": false
   },
   "outputs": [],
   "source": [
    "aqcom = pd.read_csv('/home/wcmckee/Downloads/List of CC schools - Sheet1.csv', skiprows=6, usecols=[0])"
   ]
  },
  {
   "cell_type": "code",
   "execution_count": 113,
   "metadata": {
    "collapsed": false
   },
   "outputs": [],
   "source": [
    "aqjsz = aqcom.to_json()"
   ]
  },
  {
   "cell_type": "code",
   "execution_count": 114,
   "metadata": {
    "collapsed": false
   },
   "outputs": [],
   "source": [
    "dicthol = json.loads(aqjsz)"
   ]
  },
  {
   "cell_type": "code",
   "execution_count": 115,
   "metadata": {
    "collapsed": false
   },
   "outputs": [],
   "source": [
    "dschoz = dicthol['School']"
   ]
  },
  {
   "cell_type": "code",
   "execution_count": 116,
   "metadata": {
    "collapsed": false
   },
   "outputs": [],
   "source": [
    "#dicthol"
   ]
  },
  {
   "cell_type": "code",
   "execution_count": 117,
   "metadata": {
    "collapsed": false
   },
   "outputs": [],
   "source": [
    "dscv = dschoz.values()"
   ]
  },
  {
   "cell_type": "code",
   "execution_count": 118,
   "metadata": {
    "collapsed": true
   },
   "outputs": [],
   "source": [
    "ccschool = list()"
   ]
  },
  {
   "cell_type": "code",
   "execution_count": 119,
   "metadata": {
    "collapsed": false
   },
   "outputs": [],
   "source": [
    "for ds in range(87):\n",
    "    #print(dschoz[str(ds)])\n",
    "    ccschool.append((dschoz[str(ds)]))"
   ]
  },
  {
   "cell_type": "code",
   "execution_count": 120,
   "metadata": {
    "collapsed": true
   },
   "outputs": [],
   "source": [
    "schccd = dict()"
   ]
  },
  {
   "cell_type": "code",
   "execution_count": 121,
   "metadata": {
    "collapsed": false
   },
   "outputs": [],
   "source": [
    "scda = dict({'cc' : True})"
   ]
  },
  {
   "cell_type": "code",
   "execution_count": 122,
   "metadata": {
    "collapsed": true
   },
   "outputs": [],
   "source": [
    "sanoc = dict({'cc' : False})"
   ]
  },
  {
   "cell_type": "code",
   "execution_count": 123,
   "metadata": {
    "collapsed": false
   },
   "outputs": [],
   "source": [
    "#schccd.update({ccs : scda})"
   ]
  },
  {
   "cell_type": "code",
   "execution_count": 124,
   "metadata": {
    "collapsed": false
   },
   "outputs": [],
   "source": [
    "for ccs in ccschool:\n",
    "    #These schools have a cc license. Update the list of all schools with cc and value = true.\n",
    "    #Focus on schools that don't have cc license.\n",
    "    #Filter schools in area that don't have cc license.\n",
    "    #print (ccs)\n",
    "    schccd.update({ccs : scda})"
   ]
  },
  {
   "cell_type": "code",
   "execution_count": 125,
   "metadata": {
    "collapsed": true
   },
   "outputs": [],
   "source": [
    "ccschz = list()"
   ]
  },
  {
   "cell_type": "code",
   "execution_count": 126,
   "metadata": {
    "collapsed": false
   },
   "outputs": [],
   "source": [
    "for dsc in range(87):\n",
    "    #print (dschoz[str(dsc)])\n",
    "    ccschz.append((dschoz[str(dsc)]))"
   ]
  },
  {
   "cell_type": "code",
   "execution_count": 127,
   "metadata": {
    "collapsed": false
   },
   "outputs": [],
   "source": [
    "#Append in names of schools that are missing from this dict. \n",
    "#Something like\n",
    "#schccd.update{school that doesnt have cc : {'cc' : False}}\n",
    "#schccd"
   ]
  },
  {
   "cell_type": "markdown",
   "metadata": {},
   "source": [
    "Cycle through only first 89 values - stop when reaching : These are schools that have expressed an interest in CC, and may have a policy in progress.\n",
    "\n",
    "New spreadsheet for schools in progress of CC license. Where are they up to? What is the next steps?\n",
    "\n",
    "Why are schools using a license that isn't CC:BY. They really should be using the same license. CC NC is unexceptable. SA would be OK but majority of schools already have CC BY so best to go with what is common so you don't have conflicts of licenses. "
   ]
  },
  {
   "cell_type": "code",
   "execution_count": 128,
   "metadata": {
    "collapsed": false
   },
   "outputs": [],
   "source": [
    "noclist = pd.read_csv('/home/wcmckee/Downloads/Directory-School-current.csv', skiprows=3, usecols=[1])"
   ]
  },
  {
   "cell_type": "code",
   "execution_count": 129,
   "metadata": {
    "collapsed": true
   },
   "outputs": [],
   "source": [
    "webskol = pd.read_csv('/home/wcmckee/Downloads/Directory-School-current.csv', skiprows=3, usecols=[6])"
   ]
  },
  {
   "cell_type": "code",
   "execution_count": 130,
   "metadata": {
    "collapsed": false
   },
   "outputs": [],
   "source": [
    "websjs = webskol.to_json()"
   ]
  },
  {
   "cell_type": "code",
   "execution_count": 131,
   "metadata": {
    "collapsed": false
   },
   "outputs": [],
   "source": [
    "dictscha = json.loads(websjs)"
   ]
  },
  {
   "cell_type": "code",
   "execution_count": null,
   "metadata": {
    "collapsed": true
   },
   "outputs": [],
   "source": []
  },
  {
   "cell_type": "code",
   "execution_count": 132,
   "metadata": {
    "collapsed": false
   },
   "outputs": [],
   "source": [
    "numsweb = dictscha['School website']"
   ]
  },
  {
   "cell_type": "code",
   "execution_count": 133,
   "metadata": {
    "collapsed": false
   },
   "outputs": [],
   "source": [
    "lenmuns = len(numsweb)"
   ]
  },
  {
   "cell_type": "code",
   "execution_count": 134,
   "metadata": {
    "collapsed": false
   },
   "outputs": [],
   "source": [
    "#for nuran in range(lenmuns):\n",
    "#    print (numsweb[str(nuran)])"
   ]
  },
  {
   "cell_type": "code",
   "execution_count": 135,
   "metadata": {
    "collapsed": false
   },
   "outputs": [],
   "source": [
    "#noclist.values[0:10]"
   ]
  },
  {
   "cell_type": "code",
   "execution_count": 136,
   "metadata": {
    "collapsed": true
   },
   "outputs": [],
   "source": [
    "aqjaq = noclist.to_json()"
   ]
  },
  {
   "cell_type": "code",
   "execution_count": 137,
   "metadata": {
    "collapsed": false
   },
   "outputs": [],
   "source": [
    "jsaqq = json.loads(aqjaq)"
   ]
  },
  {
   "cell_type": "code",
   "execution_count": 138,
   "metadata": {
    "collapsed": false
   },
   "outputs": [],
   "source": [
    "najsa = jsaqq['Name']"
   ]
  },
  {
   "cell_type": "code",
   "execution_count": 139,
   "metadata": {
    "collapsed": false
   },
   "outputs": [],
   "source": [
    "alsl = len(najsa)"
   ]
  },
  {
   "cell_type": "code",
   "execution_count": 140,
   "metadata": {
    "collapsed": true
   },
   "outputs": [],
   "source": [
    "allschlis = list()"
   ]
  },
  {
   "cell_type": "code",
   "execution_count": 141,
   "metadata": {
    "collapsed": false
   },
   "outputs": [],
   "source": [
    "for alr in range(alsl):\n",
    "    allschlis.append(najsa[str(alr)])"
   ]
  },
  {
   "cell_type": "code",
   "execution_count": 142,
   "metadata": {
    "collapsed": false
   },
   "outputs": [],
   "source": [
    "#allschlis"
   ]
  },
  {
   "cell_type": "code",
   "execution_count": 143,
   "metadata": {
    "collapsed": false
   },
   "outputs": [],
   "source": [
    "newlis = list(set(allschlis) - set(ccschool))"
   ]
  },
  {
   "cell_type": "code",
   "execution_count": 144,
   "metadata": {
    "collapsed": true
   },
   "outputs": [],
   "source": [
    "empd = dict()"
   ]
  },
  {
   "cell_type": "markdown",
   "metadata": {},
   "source": [
    "Create restfulapi of schools thaat have cc and those that don't\n",
    "\n",
    "Merge two dicts together.\n",
    "Both are \n",
    "{name of school : 'cc' : 'True'/'False'}"
   ]
  },
  {
   "cell_type": "code",
   "execution_count": null,
   "metadata": {
    "collapsed": true
   },
   "outputs": [],
   "source": []
  },
  {
   "cell_type": "code",
   "execution_count": 154,
   "metadata": {
    "collapsed": false
   },
   "outputs": [],
   "source": [
    "sstru = json.dumps(schccd)"
   ]
  },
  {
   "cell_type": "code",
   "execution_count": 146,
   "metadata": {
    "collapsed": false
   },
   "outputs": [],
   "source": [
    "for newl in newlis:\n",
    "    #print (newl)\n",
    "    empd.update({newl : sanoc})"
   ]
  },
  {
   "cell_type": "code",
   "execution_count": 152,
   "metadata": {
    "collapsed": true
   },
   "outputs": [],
   "source": [
    "empdum = json.dumps(empd)"
   ]
  },
  {
   "cell_type": "code",
   "execution_count": 153,
   "metadata": {
    "collapsed": false
   },
   "outputs": [
    {
     "data": {
      "text/plain": [
       "'{\"Mountainview High School\": {\"cc\": false}, \"Allenton School\": {\"cc\": false}, \"Kutarere School\": {\"cc\": false}, \"Allandale School\": {\"cc\": false}, \"Wentworth Primary\": {\"cc\": false}, \"Mt Carmel School (Meadowbank)\": {\"cc\": false}, \"Te Kura o Waikaremoana\": {\"cc\": false}, \"TKKM o Nga Mokopuna\": {\"cc\": false}, \"Pacific Advance Senior School\": {\"cc\": false}, \"Waiau Pa School\": {\"cc\": false}, \"Pukenui School (Kaitaia)\": {\"cc\": false}, \"East Gore School\": {\"cc\": false}, \"Aoraki Mount Cook School\": {\"cc\": false}, \"Seddon School\": {\"cc\": false}, \"Remarkables Primary School\": {\"cc\": false}, \"Bucklands Beach Intermediate\": {\"cc\": false}, \"Buckland School\": {\"cc\": false}, \"Pouto School\": {\"cc\": false}, \"Kimihia Parents\\' College\": {\"cc\": false}, \"Mokoia School\": {\"cc\": false}, \"West Rolleston Primary School (Proposed open date: 01JAN2016 )\": {\"cc\": false}, \"Tomarata School\": {\"cc\": false}, \"Goldfields School (Paeroa)\": {\"cc\": false}, \"Oceanview Heights School\": {\"cc\": false}, \"Kohimarama School\": {\"cc\": false}, \"Waitakaruru School\": {\"cc\": false}, \"Te Kura o Omaio\": {\"cc\": false}, \"Kaukapakapa School\": {\"cc\": false}, \"Waiuku Primary School\": {\"cc\": false}, \"St Joseph\\'s Catholic School (Dargaville)\": {\"cc\": false}, \"Meadowbank School\": {\"cc\": false}, \"Freyberg Community School\": {\"cc\": false}, \"Dunstan High School\": {\"cc\": false}, \"Lytton Street School\": {\"cc\": false}, \"Omahu School\": {\"cc\": false}, \"St Joseph\\'s School (Dannevirke)\": {\"cc\": false}, \"Maketu School\": {\"cc\": false}, \"Drury Christian School\": {\"cc\": false}, \"Waterloo School\": {\"cc\": false}, \"Richmond School (Nelson)\": {\"cc\": false}, \"Westown School\": {\"cc\": false}, \"Te Akau School\": {\"cc\": false}, \"Te Kura Mana Maori o Matahi\": {\"cc\": false}, \"Sacred Heart College (Napier)\": {\"cc\": false}, \"Ngati Toa School\": {\"cc\": false}, \"Manurewa South School\": {\"cc\": false}, \"Hare Krishna School\": {\"cc\": false}, \"St Mary\\'s Diocesan School (Stratford)\": {\"cc\": false}, \"Tiaho Primary School\": {\"cc\": false}, \"Oxford Crescent School\": {\"cc\": false}, \"Plimmerton School\": {\"cc\": false}, \"Bankwood School\": {\"cc\": false}, \"Methven School\": {\"cc\": false}, \"Kavanagh College\": {\"cc\": false}, \"Winton School\": {\"cc\": false}, \"Dyer Street School\": {\"cc\": false}, \"Wainuioru School\": {\"cc\": false}, \"Saint Kentigern Boys\\' School\": {\"cc\": false}, \"Redwoodtown School\": {\"cc\": false}, \"Coley Street School\": {\"cc\": false}, \"Richmond School (Napier)\": {\"cc\": false}, \"St Bernard\\'s School (Brooklyn)\": {\"cc\": false}, \"Mornington School\": {\"cc\": false}, \"TKKM o Whakawatea\": {\"cc\": false}, \"St Peter\\'s School (Cambridge)\": {\"cc\": false}, \"Morven School\": {\"cc\": false}, \"Mt Cook School (Wellington)\": {\"cc\": false}, \"South Auckland S D A School\": {\"cc\": false}, \"Wanganui City College\": {\"cc\": false}, \"Te Wharekura o Nga Purapura o Te Aroha\": {\"cc\": false}, \"Hastings Girls\\' High School\": {\"cc\": false}, \"Puketaha School\": {\"cc\": false}, \"Levin Intermediate\": {\"cc\": false}, \"Churchill Park School\": {\"cc\": false}, \"Puketapu School (New Plymouth)\": {\"cc\": false}, \"Tokirima School\": {\"cc\": false}, \"Darfield School\": {\"cc\": false}, \"Te One School\": {\"cc\": false}, \"Pongakawa School\": {\"cc\": false}, \"Chaucer School\": {\"cc\": false}, \"Everglade School\": {\"cc\": false}, \"Rathkeale College\": {\"cc\": false}, \"Banks Avenue School\": {\"cc\": false}, \"Otakiri School\": {\"cc\": false}, \"Fairburn School\": {\"cc\": false}, \"Odyssey House School (Auckland)\": {\"cc\": false}, \"Te Awamutu Intermediate\": {\"cc\": false}, \"Nga Iwi School\": {\"cc\": false}, \"West Spreydon School\": {\"cc\": false}, \"Hukarere College\": {\"cc\": false}, \"Clayton Park School\": {\"cc\": false}, \"St Joseph\\'s School (Pleasant Point)\": {\"cc\": false}, \"Eltham School\": {\"cc\": false}, \"St Joseph\\'s School (Papanui)\": {\"cc\": false}, \"East Taieri School\": {\"cc\": false}, \"Katikati College\": {\"cc\": false}, \"Al-Madinah School\": {\"cc\": false}, \"Benneydale School\": {\"cc\": false}, \"Clifton Terrace School\": {\"cc\": false}, \"Arataki School\": {\"cc\": false}, \"Dalefield School\": {\"cc\": false}, \"Colyton School\": {\"cc\": false}, \"Waterview School\": {\"cc\": false}, \"Dipton School\": {\"cc\": false}, \"Whangarei Boys\\' High School\": {\"cc\": false}, \"Douglas Park School\": {\"cc\": false}, \"Somerfield School\": {\"cc\": false}, \"Maoribank School\": {\"cc\": false}, \"Waitoki School\": {\"cc\": false}, \"Snells Beach Primary School\": {\"cc\": false}, \"St Patrick\\'s School (Greymouth)\": {\"cc\": false}, \"Waikanae School\": {\"cc\": false}, \"The Rise Up Academy\": {\"cc\": false}, \"David Henry School\": {\"cc\": false}, \"Ruru Special School\": {\"cc\": false}, \"Te Kura Toitu o Te Whaiti-nui-a-Toi\": {\"cc\": false}, \"St Matthew\\'s Primary School (Hastings)\": {\"cc\": false}, \"Cashmere Avenue School\": {\"cc\": false}, \"Greta Valley School\": {\"cc\": false}, \"Riversdale School\": {\"cc\": false}, \"St Brigids School (Johnsonville)\": {\"cc\": false}, \"Gladstone School (Masterton)\": {\"cc\": false}, \"Newlands School\": {\"cc\": false}, \"Ngamatapouri School\": {\"cc\": false}, \"Omata School\": {\"cc\": false}, \"Marlborough Boys\\' College\": {\"cc\": false}, \"Hillcrest School (Pahiatua)\": {\"cc\": false}, \"St Joseph\\'s School (Wairoa)\": {\"cc\": false}, \"Cashmere High School\": {\"cc\": false}, \"Carey College\": {\"cc\": false}, \"Rotokawa School\": {\"cc\": false}, \"Upper Valley Middle School\": {\"cc\": false}, \"TKKM o Manawatu\": {\"cc\": false}, \"Springdale School\": {\"cc\": false}, \"Elgin School\": {\"cc\": false}, \"Kadimah School\": {\"cc\": false}, \"TKKM o Whakarewa I Te Reo Ki Tuwharetoa\": {\"cc\": false}, \"West Eyreton School\": {\"cc\": false}, \"Mataura School\": {\"cc\": false}, \"Queen Charlotte College\": {\"cc\": false}, \"Massey Primary School\": {\"cc\": false}, \"Ponatahi Christian School\": {\"cc\": false}, \"Central Hawkes Bay College\": {\"cc\": false}, \"Parawai School\": {\"cc\": false}, \"Hato Petera College\": {\"cc\": false}, \"Aranui School (Christchurch)\": {\"cc\": false}, \"Hillpark School\": {\"cc\": false}, \"Awatapu College\": {\"cc\": false}, \"Clyde Quay School\": {\"cc\": false}, \"Gore Main School\": {\"cc\": false}, \"Westlake Girls\\' High School\": {\"cc\": false}, \"Brooklyn School (Wellington)\": {\"cc\": false}, \"St Joseph\\'s Catholic School (Opotiki)\": {\"cc\": false}, \"Tirimoana School\": {\"cc\": false}, \"Glamorgan School\": {\"cc\": false}, \"Western Heights High School\": {\"cc\": false}, \"Wellesley College\": {\"cc\": false}, \"Tamatea Intermediate\": {\"cc\": false}, \"St Therese School (Three Kings)\": {\"cc\": false}, \"Warkworth School\": {\"cc\": false}, \"Kimi Ora School\": {\"cc\": false}, \"Kaikoura Primary School\": {\"cc\": false}, \"Coroglen School\": {\"cc\": false}, \"Te Mahoe School\": {\"cc\": false}, \"Victoria Avenue School\": {\"cc\": false}, \"St Joseph\\'s School (Hastings)\": {\"cc\": false}, \"Te Kuiti Primary School\": {\"cc\": false}, \"Waimata School\": {\"cc\": false}, \"St Patrick\\'s School (Inglewood)\": {\"cc\": false}, \"St Martin\\'s School\": {\"cc\": false}, \"Hurupaki School\": {\"cc\": false}, \"Barton Rural School\": {\"cc\": false}, \"Kelston Boys\\' High School\": {\"cc\": false}, \"Kawakawa Primary School\": {\"cc\": false}, \"St Joseph\\'s School (Queenstown)\": {\"cc\": false}, \"Tangaroa College Teen Parent Unit\": {\"cc\": false}, \"Raphael House Rudolf Steiner Area School\": {\"cc\": false}, \"Lake Taupo Christian School\": {\"cc\": false}, \"Akaroa Area School\": {\"cc\": false}, \"Ward School\": {\"cc\": false}, \"Tauwhare School\": {\"cc\": false}, \"Hornby High School\": {\"cc\": false}, \"Maungaraki School\": {\"cc\": false}, \"TKKM o Taumarere\": {\"cc\": false}, \"Windwhistle School\": {\"cc\": false}, \"Waitohu School\": {\"cc\": false}, \"Rotorua Lakes High School\": {\"cc\": false}, \"Waitotara School\": {\"cc\": false}, \"Kokopu School\": {\"cc\": false}, \"Carterton School\": {\"cc\": false}, \"St Francis Xavier School (Mornington)\": {\"cc\": false}, \"Geraldine High School\": {\"cc\": false}, \"Flaxmere College\": {\"cc\": false}, \"Edgecumbe School\": {\"cc\": false}, \"Whangamata Area School\": {\"cc\": false}, \"Gladstone School (Auckland)\": {\"cc\": false}, \"Albany Junior High School\": {\"cc\": false}, \"Te Ra School\": {\"cc\": false}, \"St George\\'s Preparatory School\": {\"cc\": false}, \"Kaharoa School\": {\"cc\": false}, \"Fernside School\": {\"cc\": false}, \"St Mary\\'s School (Ellerslie)\": {\"cc\": false}, \"Dunsandel School\": {\"cc\": false}, \"St Paul\\'s Collegiate (Hamilton)\": {\"cc\": false}, \"St Oran\\'s College\": {\"cc\": false}, \"Farm Cove Intermediate\": {\"cc\": false}, \"Te Aute College\": {\"cc\": false}, \"Kings College\": {\"cc\": false}, \"Insoll Avenue School\": {\"cc\": false}, \"Glendowie School\": {\"cc\": false}, \"Haumoana School\": {\"cc\": false}, \"Rotherham School\": {\"cc\": false}, \"Spotswood College\": {\"cc\": false}, \"Fruitvale Road School\": {\"cc\": false}, \"Tai Tapu School\": {\"cc\": false}, \"Fendalton Open Air School\": {\"cc\": false}, \"Greytown School\": {\"cc\": false}, \"Emmanuel Christian School\": {\"cc\": false}, \"Takaro School\": {\"cc\": false}, \"Wa Ora Montessori School\": {\"cc\": false}, \"Roncalli College\": {\"cc\": false}, \"Mulberry Grove School\": {\"cc\": false}, \"South Makirikiri School\": {\"cc\": false}, \"Taupo-nui-a-Tia College\": {\"cc\": false}, \"TKKM o Te Matai\": {\"cc\": false}, \"Mount Biggs School\": {\"cc\": false}, \"Amana Christian School\": {\"cc\": false}, \"Motupipi School\": {\"cc\": false}, \"Birdwood School\": {\"cc\": false}, \"Marton Junction School\": {\"cc\": false}, \"Kerikeri Primary School\": {\"cc\": false}, \"Tamaki School\": {\"cc\": false}, \"Porirua College\": {\"cc\": false}, \"Vardon School\": {\"cc\": false}, \"Aramoho School\": {\"cc\": false}, \"Lake Tekapo School\": {\"cc\": false}, \"Wainuiomata High School\": {\"cc\": false}, \"St Joseph\\'s School (Oamaru)\": {\"cc\": false}, \"Cargill Open Plan School\": {\"cc\": false}, \"College Street Normal School\": {\"cc\": false}, \"Pukete School\": {\"cc\": false}, \"Woodlands Full Primary School\": {\"cc\": false}, \"Rangi Ruru Girls\\' School\": {\"cc\": false}, \"Mahurangi Christian School\": {\"cc\": false}, \"Wellington College\": {\"cc\": false}, \"Sunnydene Special School\": {\"cc\": false}, \"Sockburn School\": {\"cc\": false}, \"Kio Kio School\": {\"cc\": false}, \"St John\\'s College (Hillcrest)\": {\"cc\": false}, \"St Joseph\\'s School (Opunake)\": {\"cc\": false}, \"Te Kopuru School\": {\"cc\": false}, \"Russley School\": {\"cc\": false}, \"Levin North School\": {\"cc\": false}, \"TKKM o Te Koutu\": {\"cc\": false}, \"Waipu School\": {\"cc\": false}, \"Te Poi School\": {\"cc\": false}, \"Pukeoware School\": {\"cc\": false}, \"Taumarunui Primary School\": {\"cc\": false}, \"Whangarei Adventist Christian School\": {\"cc\": false}, \"Granity School\": {\"cc\": false}, \"Glenorchy School\": {\"cc\": false}, \"Timaru Christian School\": {\"cc\": false}, \"Drummond Primary School\": {\"cc\": false}, \"Parua Bay School\": {\"cc\": false}, \"Mercer School\": {\"cc\": false}, \"Feilding Intermediate\": {\"cc\": false}, \"Stirling School\": {\"cc\": false}, \"Pukekawa School\": {\"cc\": false}, \"Pauatahanui School\": {\"cc\": false}, \"Mayfair School\": {\"cc\": false}, \"Otorohanga South School\": {\"cc\": false}, \"Lucknow School\": {\"cc\": false}, \"West End School (P North)\": {\"cc\": false}, \"Knapdale School\": {\"cc\": false}, \"Parkvale School\": {\"cc\": false}, \"Bethlehem College\": {\"cc\": false}, \"Bream Bay College\": {\"cc\": false}, \"Selwyn House School\": {\"cc\": false}, \"Menzies College\": {\"cc\": false}, \"Balclutha School\": {\"cc\": false}, \"Nelson College (Prep.Dept.)\": {\"cc\": false}, \"Castlecliff School\": {\"cc\": false}, \"Cornwall Park District School\": {\"cc\": false}, \"Te Wharekura o Manaia\": {\"cc\": false}, \"Maruia School\": {\"cc\": false}, \"Takapuna School\": {\"cc\": false}, \"Sir Edmund Hillary Collegiate Senior School\": {\"cc\": false}, \"Green Island School\": {\"cc\": false}, \"Otorohanga College\": {\"cc\": false}, \"Te Wharekura o Rakaumangamanga\": {\"cc\": false}, \"Apiti School\": {\"cc\": false}, \"Hokitika School\": {\"cc\": false}, \"New Plymouth Boys\\' High School\": {\"cc\": false}, \"Bradford School\": {\"cc\": false}, \"Kings High School (Dunedin)\": {\"cc\": false}, \"Omanu School\": {\"cc\": false}, \"Pembroke School (Oamaru)\": {\"cc\": false}, \"Ngamatea School\": {\"cc\": false}, \"Sherenden and Districts School\": {\"cc\": false}, \"Sir Keith Park School\": {\"cc\": false}, \"Te Kura o Te Paroa\": {\"cc\": false}, \"Normanby School\": {\"cc\": false}, \"TKKM o Tokomaru\": {\"cc\": false}, \"The Cathedral Grammar School\": {\"cc\": false}, \"Hamilton Girls\\' High School\": {\"cc\": false}, \"Kawhia School\": {\"cc\": false}, \"Mt Roskill Primary School\": {\"cc\": false}, \"Geraldine Primary School\": {\"cc\": false}, \"Redhill School\": {\"cc\": false}, \"St Dominic\\'s College\": {\"cc\": false}, \"Oroua Downs School\": {\"cc\": false}, \"Torbay School\": {\"cc\": false}, \"Feilding High School\": {\"cc\": false}, \"Te Pohue School\": {\"cc\": false}, \"St Pius X School (New Plymouth)\": {\"cc\": false}, \"Ohaeawai School\": {\"cc\": false}, \"Hapuku School\": {\"cc\": false}, \"Northcross Intermediate\": {\"cc\": false}, \"Brooklyn School (Motueka)\": {\"cc\": false}, \"Birkdale Primary School\": {\"cc\": false}, \"Mangamuka School\": {\"cc\": false}, \"Waihopai School\": {\"cc\": false}, \"Glenavon School\": {\"cc\": false}, \"Albany School\": {\"cc\": false}, \"Bairds Mainfreight Primary School\": {\"cc\": false}, \"Kapiti College\": {\"cc\": false}, \"Te Awamutu Primary School\": {\"cc\": false}, \"Henderson North School\": {\"cc\": false}, \"Manchester Street School\": {\"cc\": false}, \"Westlake Boys\\' High School\": {\"cc\": false}, \"Tamatea School\": {\"cc\": false}, \"Onekawa School\": {\"cc\": false}, \"Broadlands School\": {\"cc\": false}, \"Duntroon School\": {\"cc\": false}, \"Foxton School\": {\"cc\": false}, \"Red Beach School\": {\"cc\": false}, \"Heriot School\": {\"cc\": false}, \"Huiakama School\": {\"cc\": false}, \"Logan Park High School\": {\"cc\": false}, \"Papakaio School\": {\"cc\": false}, \"Rangiuru School\": {\"cc\": false}, \"Northcote School (Auckland)\": {\"cc\": false}, \"Mosston School\": {\"cc\": false}, \"Kaitangata School\": {\"cc\": false}, \"Thorndon School\": {\"cc\": false}, \"Marist School (Mt Albert)\": {\"cc\": false}, \"Broadfield School\": {\"cc\": false}, \"Rosebank School (Auckland)\": {\"cc\": false}, \"Karangahake School\": {\"cc\": false}, \"Porangahau School\": {\"cc\": false}, \"Lyall Bay School\": {\"cc\": false}, \"Nelson College For Girls\": {\"cc\": false}, \"Kaitao Intermediate\": {\"cc\": false}, \"Makoura College\": {\"cc\": false}, \"Christchurch South Intermediate\": {\"cc\": false}, \"Bluestone School\": {\"cc\": false}, \"Clifton School (Bulls)\": {\"cc\": false}, \"Aorangi School (Rotorua)\": {\"cc\": false}, \"Seven Oaks Secondary School\": {\"cc\": false}, \"Ngakonui Valley School\": {\"cc\": false}, \"The Corelli School\": {\"cc\": false}, \"Puriri School\": {\"cc\": false}, \"Nawton School\": {\"cc\": false}, \"Tahuna Normal Intermediate\": {\"cc\": false}, \"St John\\'s College (Hastings)\": {\"cc\": false}, \"St Teresa\\'s School (Bluff)\": {\"cc\": false}, \"Hukanui School\": {\"cc\": false}, \"Howick Intermediate\": {\"cc\": false}, \"Manuka Primary School\": {\"cc\": false}, \"Kamo School\": {\"cc\": false}, \"Kingsford School\": {\"cc\": false}, \"Rangiora New Life School\": {\"cc\": false}, \"Inglewood High School\": {\"cc\": false}, \"The Gardens School\": {\"cc\": false}, \"Napier Girls\\' High School\": {\"cc\": false}, \"Albury School\": {\"cc\": false}, \"Huntley School (Marton)\": {\"cc\": false}, \"Piri Piri School\": {\"cc\": false}, \"Southland Boys\\' High School\": {\"cc\": false}, \"Te Kao School\": {\"cc\": false}, \"Lynton Downs School\": {\"cc\": false}, \"Kaimata School\": {\"cc\": false}, \"Eastern Hutt School\": {\"cc\": false}, \"Flanshaw Road School\": {\"cc\": false}, \"Waikato Diocesan School For Girls\": {\"cc\": false}, \"Taikura Rudolf Steiner School\": {\"cc\": false}, \"Opaki School\": {\"cc\": false}, \"Riverina School\": {\"cc\": false}, \"Auckland International College\": {\"cc\": false}, \"Te Waotu School\": {\"cc\": false}, \"Omokoroa Point School\": {\"cc\": false}, \"Appleby School\": {\"cc\": false}, \"Ridgeview School\": {\"cc\": false}, \"Fairlie School\": {\"cc\": false}, \"Rowley Avenue School\": {\"cc\": false}, \"Te Hapua School\": {\"cc\": false}, \"TKKM o Rangiawhia\": {\"cc\": false}, \"Kopuarahi School\": {\"cc\": false}, \"Waianiwa School\": {\"cc\": false}, \"Tangaroa College\": {\"cc\": false}, \"Kelston Deaf Education Centre\": {\"cc\": false}, \"Otumoetai School\": {\"cc\": false}, \"Te Ranga School\": {\"cc\": false}, \"Upper Hutt College\": {\"cc\": false}, \"Te Kura o Nga Ruahine Rangi\": {\"cc\": false}, \"John McGlashan College\": {\"cc\": false}, \"Northland School\": {\"cc\": false}, \"Takapuna Normal Intermediate\": {\"cc\": false}, \"Ormiston Junior College (Proposed open date: 01JAN2017 )\": {\"cc\": false}, \"St Leo\\'s Catholic School (Devonport)\": {\"cc\": false}, \"Rudolf Steiner School (Chch)\": {\"cc\": false}, \"Mihi School\": {\"cc\": false}, \"Makauri School\": {\"cc\": false}, \"Matamata Christian School\": {\"cc\": false}, \"Ngataki School\": {\"cc\": false}, \"Wairau Intermediate\": {\"cc\": false}, \"Helensville School\": {\"cc\": false}, \"St Paul\\'s School (Richmond)\": {\"cc\": false}, \"Tauhoa School\": {\"cc\": false}, \"St Heliers School\": {\"cc\": false}, \"Te Kura Mana Maori Maraenui\": {\"cc\": false}, \"Waihi School\": {\"cc\": false}, \"Te Tipua School\": {\"cc\": false}, \"Timaru Girls\\' High School\": {\"cc\": false}, \"Marist Catholic School (Herne Bay)\": {\"cc\": false}, \"Panama Road School\": {\"cc\": false}, \"Mt Pleasant School\": {\"cc\": false}, \"Hastings Boys\\' High School\": {\"cc\": false}, \"West Melton School\": {\"cc\": false}, \"Dunedin Rudolf Steiner School\": {\"cc\": false}, \"Orere School\": {\"cc\": false}, \"Gisborne Central School\": {\"cc\": false}, \"Campbells Bay School\": {\"cc\": false}, \"Moerewa School\": {\"cc\": false}, \"Whau Valley School\": {\"cc\": false}, \"Rawhitiroa School\": {\"cc\": false}, \"Koromatua School\": {\"cc\": false}, \"Arrowtown School\": {\"cc\": false}, \"Hauturu School\": {\"cc\": false}, \"West End School (New Plymouth)\": {\"cc\": false}, \"Carmel College\": {\"cc\": false}, \"Papakura High School\": {\"cc\": false}, \"Kenakena School\": {\"cc\": false}, \"St Joseph\\'s School (Picton)\": {\"cc\": false}, \"Millers Flat School\": {\"cc\": false}, \"Arthur Street School\": {\"cc\": false}, \"Halfmoon Bay School\": {\"cc\": false}, \"Harrisville School\": {\"cc\": false}, \"Waikowhai School\": {\"cc\": false}, \"Waimahia Intermediate School\": {\"cc\": false}, \"Papatoetoe East School\": {\"cc\": false}, \"St Leonards Road School\": {\"cc\": false}, \"Bunnythorpe School\": {\"cc\": false}, \"Te Rerenga School\": {\"cc\": false}, \"Governors Bay School\": {\"cc\": false}, \"Canvastown School\": {\"cc\": false}, \"Kingsview School\": {\"cc\": false}, \"Kowhai School\": {\"cc\": false}, \"Mt Eden Normal School\": {\"cc\": false}, \"Remuera Intermediate\": {\"cc\": false}, \"Discovery School\": {\"cc\": false}, \"Gonville School\": {\"cc\": false}, \"Rangiora Borough School\": {\"cc\": false}, \"Waituna West School\": {\"cc\": false}, \"Elstow-Waihou Combined School\": {\"cc\": false}, \"Poukawa School\": {\"cc\": false}, \"Milton School\": {\"cc\": false}, \"Ohura Valley Primary\": {\"cc\": false}, \"Wairere School\": {\"cc\": false}, \"Alfredton School\": {\"cc\": false}, \"South Westland Area School\": {\"cc\": false}, \"Leeston School\": {\"cc\": false}, \"Ngaruawahia School\": {\"cc\": false}, \"Grantlea Downs School\": {\"cc\": false}, \"Randwick Park School\": {\"cc\": false}, \"Birchwood School\": {\"cc\": false}, \"Van Asch Deaf Education Centre\": {\"cc\": false}, \"Oakura School\": {\"cc\": false}, \"Waiotahe Valley School\": {\"cc\": false}, \"Matua School\": {\"cc\": false}, \"Marcellin College\": {\"cc\": false}, \"Botany Downs Secondary College\": {\"cc\": false}, \"St John Bosco School (New Plymouth)\": {\"cc\": false}, \"Monte Cecilia School (Mt Roskill)\": {\"cc\": false}, \"Pukekohe High School\": {\"cc\": false}, \"Waipahihi School\": {\"cc\": false}, \"Aidanfield Christian School\": {\"cc\": false}, \"Kingsway School\": {\"cc\": false}, \"Macraes Moonlight School\": {\"cc\": false}, \"Mararoa School\": {\"cc\": false}, \"Norsewood and Districts School\": {\"cc\": false}, \"Kaikoura Suburban School\": {\"cc\": false}, \"MindAlive\": {\"cc\": false}, \"Te Puna School\": {\"cc\": false}, \"Lincoln Heights School\": {\"cc\": false}, \"St Thomas of Canterbury College\": {\"cc\": false}, \"Te Kuiti High School\": {\"cc\": false}, \"Featherston School\": {\"cc\": false}, \"St Francis De Sales School (Is.Bay)\": {\"cc\": false}, \"Nelson Park School\": {\"cc\": false}, \"Chanel College\": {\"cc\": false}, \"Fairfield Intermediate\": {\"cc\": false}, \"St Joseph\\'s School (Waitara)\": {\"cc\": false}, \"Westshore School\": {\"cc\": false}, \"Hastings Central School\": {\"cc\": false}, \"Selwyn Park School\": {\"cc\": false}, \"Belmont School (Auckland)\": {\"cc\": false}, \"Concord School\": {\"cc\": false}, \"Netherton School\": {\"cc\": false}, \"Greymouth High School\": {\"cc\": false}, \"Palmerston School\": {\"cc\": false}, \"Weston School\": {\"cc\": false}, \"Patumahoe Primary School\": {\"cc\": false}, \"Miramar North School\": {\"cc\": false}, \"Newbury School\": {\"cc\": false}, \"Pukerau School\": {\"cc\": false}, \"Bohally Intermediate\": {\"cc\": false}, \"Hamilton East School\": {\"cc\": false}, \"Port Ahuriri School\": {\"cc\": false}, \"Bishop Edward Gaines Catholic School\": {\"cc\": false}, \"St John\\'s School (Mairangi Bay)\": {\"cc\": false}, \"Waiouru School\": {\"cc\": false}, \"Te Whata Tau o Putauaki\": {\"cc\": false}, \"Gisborne Intermediate\": {\"cc\": false}, \"Kawaha Point School\": {\"cc\": false}, \"Raurimu Avenue School\": {\"cc\": false}, \"Horahora School (Cambridge)\": {\"cc\": false}, \"Garston School\": {\"cc\": false}, \"Karanga Mai Young Parents College\": {\"cc\": false}, \"Waikirikiri School\": {\"cc\": false}, \"Huntly College\": {\"cc\": false}, \"Rototuna Junior High School (Proposed open date: 01FEB2016 )\": {\"cc\": false}, \"Living Way Christian School\": {\"cc\": false}, \"Waitakere College\": {\"cc\": false}, \"Gracefield School\": {\"cc\": false}, \"Queen Elizabeth College\": {\"cc\": false}, \"Shirley School\": {\"cc\": false}, \"Chapel Downs School\": {\"cc\": false}, \"Aparima College\": {\"cc\": false}, \"Holy Family School (Porirua)\": {\"cc\": false}, \"Mangatawhiri School\": {\"cc\": false}, \"Potaka School\": {\"cc\": false}, \"James Cook High School\": {\"cc\": false}, \"Kaiaua School\": {\"cc\": false}, \"Nelson College For Girls Prep School\": {\"cc\": false}, \"St Mary\\'s School (Foxton)\": {\"cc\": false}, \"Eskdale School\": {\"cc\": false}, \"St Mary\\'s College (Ponsonby)\": {\"cc\": false}, \"Salford School\": {\"cc\": false}, \"Flemington School (Waipukurau)\": {\"cc\": false}, \"Murihiku Young Parents Learning Centre\": {\"cc\": false}, \"Portland School\": {\"cc\": false}, \"Gisborne Boys\\' High School\": {\"cc\": false}, \"Tahakopa School\": {\"cc\": false}, \"Aria School\": {\"cc\": false}, \"Tahuna School\": {\"cc\": false}, \"Aurora College\": {\"cc\": false}, \"San Antonio School (Eastbourne)\": {\"cc\": false}, \"Leithfield School\": {\"cc\": false}, \"Motueka South School\": {\"cc\": false}, \"Paihia School\": {\"cc\": false}, \"Te Wharekura o Ruatoki\": {\"cc\": false}, \"Mt Aspiring College\": {\"cc\": false}, \"Mangaweka School\": {\"cc\": false}, \"Cullinane College\": {\"cc\": false}, \"Wanganui Intermediate\": {\"cc\": false}, \"Colwill School\": {\"cc\": false}, \"Papatoetoe South School\": {\"cc\": false}, \"Freyberg High School\": {\"cc\": false}, \"Porirua East School\": {\"cc\": false}, \"Kaiwaka School\": {\"cc\": false}, \"Macandrew Bay School\": {\"cc\": false}, \"Poolburn School\": {\"cc\": false}, \"Ngaere School\": {\"cc\": false}, \"Titirangi Rudolf Steiner School\": {\"cc\": false}, \"One Tree Hill College\": {\"cc\": false}, \"St Joseph\\'s School (Stratford)\": {\"cc\": false}, \"Tuakau College\": {\"cc\": false}, \"Wharenui School\": {\"cc\": false}, \"Aquinas College\": {\"cc\": false}, \"TKKM o Te Tonga o Hokianga\": {\"cc\": false}, \"Woodleigh School\": {\"cc\": false}, \"St Patrick\\'s School (Kaiapoi)\": {\"cc\": false}, \"Cambridge East School\": {\"cc\": false}, \"Te Kura o Tahaaroa\": {\"cc\": false}, \"Mangakino Area School\": {\"cc\": false}, \"Te Kura o Hato Hohepa Te Kamura\": {\"cc\": false}, \"TKKM o Ngati Rangi\": {\"cc\": false}, \"Russell School (Bay Of Islands)\": {\"cc\": false}, \"Dargaville High School\": {\"cc\": false}, \"Kamo Intermediate\": {\"cc\": false}, \"St Francis Xavier School (Tawa)\": {\"cc\": false}, \"Mangateretere School\": {\"cc\": false}, \"Kaitaia Intermediate\": {\"cc\": false}, \"Waihola District School\": {\"cc\": false}, \"St Joseph\\'s School (New Plymouth)\": {\"cc\": false}, \"St Joseph\\'s School (Temuka)\": {\"cc\": false}, \"Rangiora High School\": {\"cc\": false}, \"Owhata School\": {\"cc\": false}, \"Our Lady Sacred Heart School (Epsom)\": {\"cc\": false}, \"Warepa School\": {\"cc\": false}, \"Whenuapai School\": {\"cc\": false}, \"Redwood School (Tawa)\": {\"cc\": false}, \"St Patrick\\'s College (Silverstream)\": {\"cc\": false}, \"Swanson School\": {\"cc\": false}, \"Te Kura Kaupapa Maori o Whatatutu\": {\"cc\": false}, \"Tawhai School\": {\"cc\": false}, \"Temuka Primary School\": {\"cc\": false}, \"Glentunnel School\": {\"cc\": false}, \"Rolleston Christian School\": {\"cc\": false}, \"Taita College\": {\"cc\": false}, \"Manurewa West School\": {\"cc\": false}, \"Dawson School\": {\"cc\": false}, \"Huapai District School\": {\"cc\": false}, \"Ngutunui School\": {\"cc\": false}, \"Mauriceville School\": {\"cc\": false}, \"St Francis Xavier Catholic School (Whangarei)\": {\"cc\": false}, \"Kawerau South School\": {\"cc\": false}, \"New Life Christian School\": {\"cc\": false}, \"St Joseph\\'s Catholic School (Fairfield)\": {\"cc\": false}, \"Waingaro School\": {\"cc\": false}, \"TKKM o Te Raki Paewhenua\": {\"cc\": false}, \"Otaki School\": {\"cc\": false}, \"St Catherines College (Kilbirnie)\": {\"cc\": false}, \"Ongaonga School\": {\"cc\": false}, \"Eketahuna School\": {\"cc\": false}, \"Our Lady of Victories\": {\"cc\": false}, \"Northcote School (Christchurch)\": {\"cc\": false}, \"Taieri Beach School\": {\"cc\": false}, \"St Bernadette\\'s School (Hornby)\": {\"cc\": false}, \"Meeanee School\": {\"cc\": false}, \"Motu School\": {\"cc\": false}, \"Uruti School\": {\"cc\": false}, \"Shirley Boys\\' High School\": {\"cc\": false}, \"Garin College\": {\"cc\": false}, \"Lower Moutere School\": {\"cc\": false}, \"Edgewater College\": {\"cc\": false}, \"Lytton High School\": {\"cc\": false}, \"Blenheim School\": {\"cc\": false}, \"Tokomairiro High School\": {\"cc\": false}, \"Te Awamutu College\": {\"cc\": false}, \"Mangatangi School\": {\"cc\": false}, \"Shelly Park School\": {\"cc\": false}, \"Aranui School (Wanganui)\": {\"cc\": false}, \"Mt Richmond School\": {\"cc\": false}, \"Golden Grove School\": {\"cc\": false}, \"Tawhiti School\": {\"cc\": false}, \"Otamatea High School\": {\"cc\": false}, \"Tutira School\": {\"cc\": false}, \"Nelson Central School\": {\"cc\": false}, \"Te Kura Maori-a-Rohe o Waiohau\": {\"cc\": false}, \"Auckland Grammar\": {\"cc\": false}, \"Henderson High School\": {\"cc\": false}, \"Wairakei School\": {\"cc\": false}, \"Zayed College for Girls\": {\"cc\": false}, \"Cockle Bay School\": {\"cc\": false}, \"Paraparaumu College\": {\"cc\": false}, \"Dorie School\": {\"cc\": false}, \"Konini Primary School (Wainuiomata)\": {\"cc\": false}, \"The Terrace School (Alexandra)\": {\"cc\": false}, \"Pukemiro School\": {\"cc\": false}, \"Shotover Primary School\": {\"cc\": false}, \"Raumati Beach School\": {\"cc\": false}, \"Kakaramea School\": {\"cc\": false}, \"Te Mata School (Raglan)\": {\"cc\": false}, \"Paparore School\": {\"cc\": false}, \"Patea Area School\": {\"cc\": false}, \"Walton School\": {\"cc\": false}, \"Malfroy School\": {\"cc\": false}, \"St Gerard\\'s School (Alexandra)\": {\"cc\": false}, \"Thames High School\": {\"cc\": false}, \"Pukekohe East School\": {\"cc\": false}, \"Rangikura School\": {\"cc\": false}, \"Kirwee Model School\": {\"cc\": false}, \"TKKM o Mangere\": {\"cc\": false}, \"Oruaiti School\": {\"cc\": false}, \"Irongate School\": {\"cc\": false}, \"Peterhead School\": {\"cc\": false}, \"Christ The King School (Burnside)\": {\"cc\": false}, \"Tangimoana School\": {\"cc\": false}, \"Papatoetoe Intermediate\": {\"cc\": false}, \"St Claudine Thevenet School\": {\"cc\": false}, \"Hawera High School\": {\"cc\": false}, \"Barrytown School\": {\"cc\": false}, \"St Peter Chanel School (Green Island)\": {\"cc\": false}, \"Wilford School\": {\"cc\": false}, \"Waikoikoi School\": {\"cc\": false}, \"Macleans College\": {\"cc\": false}, \"St Mary\\'s School (Hastings)\": {\"cc\": false}, \"Tuakau School\": {\"cc\": false}, \"Welbourn School\": {\"cc\": false}, \"Amuri Area School\": {\"cc\": false}, \"Vanguard Military School\": {\"cc\": false}, \"Donovan Primary School\": {\"cc\": false}, \"Longburn School\": {\"cc\": false}, \"Toko School\": {\"cc\": false}, \"Mangamaire Country School\": {\"cc\": false}, \"Kawerau Teen Parent Unit\": {\"cc\": false}, \"Te Wharekura o Te Rau Aroha\": {\"cc\": false}, \"Tauranga Primary School\": {\"cc\": false}, \"Arapohue School\": {\"cc\": false}, \"Wellsford School\": {\"cc\": false}, \"TKKM o Tuia te Matangi\": {\"cc\": false}, \"TKKM o Te Rawhiti Roa\": {\"cc\": false}, \"Kaitieke School\": {\"cc\": false}, \"Marist College\": {\"cc\": false}, \"Masterton Primary School\": {\"cc\": false}, \"Tainui School\": {\"cc\": false}, \"Kaitaia School\": {\"cc\": false}, \"Reremoana Primary School\": {\"cc\": false}, \"Motumaoho School\": {\"cc\": false}, \"Rolleston College (Proposed open date: 01JAN2017 )\": {\"cc\": false}, \"Hastings Intermediate\": {\"cc\": false}, \"Tapu School\": {\"cc\": false}, \"Alfriston School\": {\"cc\": false}, \"Waimea Intermediate\": {\"cc\": false}, \"Lochiel School\": {\"cc\": false}, \"Mapua School\": {\"cc\": false}, \"Te Wharekura o Mauao\": {\"cc\": false}, \"St Mary\\'s School (Christchurch)\": {\"cc\": false}, \"Southland Girls\\' High School\": {\"cc\": false}, \"Romahapa School\": {\"cc\": false}, \"Turakina School\": {\"cc\": false}, \"Loburn School\": {\"cc\": false}, \"Clutha Valley School\": {\"cc\": false}, \"Holy Cross School (Miramar)\": {\"cc\": false}, \"Hurleyville School\": {\"cc\": false}, \"Sacred Heart School (Christchurch)\": {\"cc\": false}, \"Frasertown School\": {\"cc\": false}, \"TKKM o Te Kotuku\": {\"cc\": false}, \"Rosebank School (Balclutha)\": {\"cc\": false}, \"Marfell School\": {\"cc\": false}, \"Awanui School\": {\"cc\": false}, \"Whareama School\": {\"cc\": false}, \"Beaconsfield School\": {\"cc\": false}, \"St Paul\\'s School (Dallington)\": {\"cc\": false}, \"Onehunga High School\": {\"cc\": false}, \"Kaikoura High School\": {\"cc\": false}, \"Fairhaven School\": {\"cc\": false}, \"Otamarakau School\": {\"cc\": false}, \"Isleworth School\": {\"cc\": false}, \"New River Primary\": {\"cc\": false}, \"Te Wainui a Rua\": {\"cc\": false}, \"Browns Bay School\": {\"cc\": false}, \"Heaton Normal Intermediate\": {\"cc\": false}, \"Whenuakite School\": {\"cc\": false}, \"St Joseph\\'s School (Balclutha)\": {\"cc\": false}, \"Hukerenui School Years 1-8\": {\"cc\": false}, \"Campion College\": {\"cc\": false}, \"Tarawera High School\": {\"cc\": false}, \"Mangakahia Area School\": {\"cc\": false}, \"St Anthony\\'s School (Wanganui)\": {\"cc\": false}, \"Tokoroa Intermediate\": {\"cc\": false}, \"Reefton Area School\": {\"cc\": false}, \"Ormiston Senior College\": {\"cc\": false}, \"Te Kohanga School\": {\"cc\": false}, \"Whangaparaoa School (Auckland)\": {\"cc\": false}, \"St Mary\\'s Catholic School (Gisborne)\": {\"cc\": false}, \"Ranui School\": {\"cc\": false}, \"Rangitaiki Independent School\": {\"cc\": false}, \"Waimea College\": {\"cc\": false}, \"Huanui College\": {\"cc\": false}, \"Roto-O-Rangi School\": {\"cc\": false}, \"Paeroa Central School\": {\"cc\": false}, \"Otorohanga School\": {\"cc\": false}, \"Te Kura Akonga O Manurewa\": {\"cc\": false}, \"Avalon School\": {\"cc\": false}, \"Whangara School\": {\"cc\": false}, \"Paeroa College\": {\"cc\": false}, \"Mission Heights Junior College\": {\"cc\": false}, \"Hope School\": {\"cc\": false}, \"Sts Peter and Paul School (L.Hutt)\": {\"cc\": false}, \"Kristin School\": {\"cc\": false}, \"St Thomas School (Winton)\": {\"cc\": false}, \"Waituna Creek School\": {\"cc\": false}, \"Cambridge High School\": {\"cc\": false}, \"Duvauchelle School\": {\"cc\": false}, \"Takaka Primary School\": {\"cc\": false}, \"Bulls School\": {\"cc\": false}, \"Seven Oaks School\": {\"cc\": false}, \"Carew Peel Forest School\": {\"cc\": false}, \"Stanhope Road School\": {\"cc\": false}, \"Newtown School\": {\"cc\": false}, \"ACG Strathallan\": {\"cc\": false}, \"Ohoka School\": {\"cc\": false}, \"Ilminster Intermediate\": {\"cc\": false}, \"St Annes School (Newtown)\": {\"cc\": false}, \"Sir Edmund Hillary Collegiate Junior School\": {\"cc\": false}, \"St Margaret\\'s College\": {\"cc\": false}, \"Aranga School\": {\"cc\": false}, \"Porirua School\": {\"cc\": false}, \"Mackenzie College\": {\"cc\": false}, \"Brockville School\": {\"cc\": false}, \"North Street School\": {\"cc\": false}, \"Opoutere School\": {\"cc\": false}, \"Opaheke School\": {\"cc\": false}, \"Koru School\": {\"cc\": false}, \"Opotiki School\": {\"cc\": false}, \"Birkenhead College\": {\"cc\": false}, \"Te Miro School\": {\"cc\": false}, \"St Joseph\\'s School (Feilding)\": {\"cc\": false}, \"TKKM o Toku Mapihi Maurea\": {\"cc\": false}, \"Fairfield College\": {\"cc\": false}, \"Kaikorai Valley College\": {\"cc\": false}, \"Southwell School\": {\"cc\": false}, \"Richmond Road School\": {\"cc\": false}, \"St Patrick\\'s Catholic Sch (Taumarunui)\": {\"cc\": false}, \"Opua School\": {\"cc\": false}, \"Waikowhai Intermediate\": {\"cc\": false}, \"Waterlea Public School\": {\"cc\": false}, \"Woodbury School\": {\"cc\": false}, \"Hebron Christian College (Auckland)\": {\"cc\": false}, \"Clifton Terrace Model School\": {\"cc\": false}, \"Tarras School\": {\"cc\": false}, \"Riverdale School (Gisborne)\": {\"cc\": false}, \"Lichfield School\": {\"cc\": false}, \"Silverstream (South) Primary School\": {\"cc\": false}, \"St Peter Chanel School (Motueka)\": {\"cc\": false}, \"Tokomaru School\": {\"cc\": false}, \"Welcome Bay School\": {\"cc\": false}, \"TKKM o Pukemiro\": {\"cc\": false}, \"Stanley Bay School\": {\"cc\": false}, \"St Mary\\'s Catholic School (Putaruru)\": {\"cc\": false}, \"Glenholme School\": {\"cc\": false}, \"Aka Aka School\": {\"cc\": false}, \"Rawene School\": {\"cc\": false}, \"Kaikohe Christian School\": {\"cc\": false}, \"South Hornby School\": {\"cc\": false}, \"Myross Bush School\": {\"cc\": false}, \"St Mark\\'s Church School (Mt Victoria)\": {\"cc\": false}, \"Tauranga Intermediate\": {\"cc\": false}, \"Waerenga-O-Kuri School\": {\"cc\": false}, \"Orini Combined School\": {\"cc\": false}, \"Fairfield School (Dunedin)\": {\"cc\": false}, \"Tokoroa North School\": {\"cc\": false}, \"Makaraka School\": {\"cc\": false}, \"Ross School\": {\"cc\": false}, \"Kotemaori School\": {\"cc\": false}, \"Epuni School\": {\"cc\": false}, \"Cromwell College\": {\"cc\": false}, \"Blind and Low Vision Education Network NZ\": {\"cc\": false}, \"Southern Regional Health School\": {\"cc\": false}, \"Te Kura o Te Moutere O Matakana\": {\"cc\": false}, \"Marshall Laing School\": {\"cc\": false}, \"Hiwinui School\": {\"cc\": false}, \"Glenfield Primary School\": {\"cc\": false}, \"Springlands School\": {\"cc\": false}, \"Marshland School\": {\"cc\": false}, \"TKKM o Te Whanau Tahi\": {\"cc\": false}, \"Cheviot Area School\": {\"cc\": false}, \"St Mark\\'s School (Christchurch)\": {\"cc\": false}, \"St Patrick\\'s School (Nightcaps)\": {\"cc\": false}, \"Hikutaia School\": {\"cc\": false}, \"Leabank School\": {\"cc\": false}, \"Northcote Intermediate\": {\"cc\": false}, \"Verran Primary School\": {\"cc\": false}, \"Te Papapa School\": {\"cc\": false}, \"Elmgrove School\": {\"cc\": false}, \"Tawa College\": {\"cc\": false}, \"Tikorangi School\": {\"cc\": false}, \"St James School (Aranui)\": {\"cc\": false}, \"Winchester School (P North)\": {\"cc\": false}, \"Pine Hill School (Dunedin)\": {\"cc\": false}, \"Otane School\": {\"cc\": false}, \"Te Kauwhata College\": {\"cc\": false}, \"Taneatua School\": {\"cc\": false}, \"Avondale School (Christchurch)\": {\"cc\": false}, \"Somerset Crescent School\": {\"cc\": false}, \"TKKM o Huiarau\": {\"cc\": false}, \"St Joseph\\'s Catholic School (Matata)\": {\"cc\": false}, \"Porritt School\": {\"cc\": false}, \"Rosehill School\": {\"cc\": false}, \"Tikitiki School\": {\"cc\": false}, \"Kamo High School\": {\"cc\": false}, \"Belfast School\": {\"cc\": false}, \"Ohope Beach School\": {\"cc\": false}, \"Sara Cohen School\": {\"cc\": false}, \"Kapanui School\": {\"cc\": false}, \"Pirinoa School\": {\"cc\": false}, \"Abbotsford School\": {\"cc\": false}, \"Wellington Girls\\' College\": {\"cc\": false}, \"Ross Intermediate\": {\"cc\": false}, \"Elsthorpe School\": {\"cc\": false}, \"Matahui Road School\": {\"cc\": false}, \"Pakaraka School\": {\"cc\": false}, \"Pukekohe North School\": {\"cc\": false}, \"St Anthony\\'s Catholic School (Huntly)\": {\"cc\": false}, \"Runanga School\": {\"cc\": false}, \"Westport North School\": {\"cc\": false}, \"Otonga Road School\": {\"cc\": false}, \"Waitaki Girls\\' High School\": {\"cc\": false}, \"Our Lady Star of the Sea School (Christchurch)\": {\"cc\": false}, \"Makarewa School\": {\"cc\": false}, \"Rotorua Intermediate\": {\"cc\": false}, \"Hadlow Preparatory School\": {\"cc\": false}, \"Edendale School (Auckland)\": {\"cc\": false}, \"Bromley School\": {\"cc\": false}, \"Parkside School\": {\"cc\": false}, \"Whangarei Intermediate\": {\"cc\": false}, \"Motatau School\": {\"cc\": false}, \"Mt Roskill Grammar\": {\"cc\": false}, \"St Benedict\\'s School (Khandallah)\": {\"cc\": false}, \"Waihao Downs School\": {\"cc\": false}, \"Grants Braes School\": {\"cc\": false}, \"Titahi Bay Intermediate\": {\"cc\": false}, \"Pyes Pa Road School\": {\"cc\": false}, \"Timaru South School\": {\"cc\": false}, \"Fairfield School (Levin)\": {\"cc\": false}, \"Pukekohe Christian School\": {\"cc\": false}, \"Corinna School\": {\"cc\": false}, \"Hauroko Valley Primary School\": {\"cc\": false}, \"Koraunui School\": {\"cc\": false}, \"Napier Central School\": {\"cc\": false}, \"Waikato Montessori Education Centre\": {\"cc\": false}, \"St Peter\\'s College (Epsom)\": {\"cc\": false}, \"Takanini New School #1 (Proposed open date: 01JAN2017 )\": {\"cc\": false}, \"Midhirst School\": {\"cc\": false}, \"Tangiteroria School\": {\"cc\": false}, \"Te Pi\\'ipi\\'inga Kakano Mai Rangiatea\": {\"cc\": false}, \"Takapau School\": {\"cc\": false}, \"Kimi Ora Community School\": {\"cc\": false}, \"James Hargest College\": {\"cc\": false}, \"Tapawera Area School\": {\"cc\": false}, \"Ashburton College\": {\"cc\": false}, \"Te Kura o Te Whakarewarewa\": {\"cc\": false}, \"St Pius X Catholic School (Glen Innes)\": {\"cc\": false}, \"Liston College\": {\"cc\": false}, \"Queen Margaret College\": {\"cc\": false}, \"Redwood School (Christchurch)\": {\"cc\": false}, \"Wainuiomata Primary School\": {\"cc\": false}, \"Te Kura Taumata o Panguru\": {\"cc\": false}, \"Flat Bush School\": {\"cc\": false}, \"Tahunanui School\": {\"cc\": false}, \"Kerepehi School\": {\"cc\": false}, \"Heddon Bush School\": {\"cc\": false}, \"Hutt International Boys\\' School\": {\"cc\": false}, \"Rangitaiki School\": {\"cc\": false}, \"Te Whare Whai Hua Teenage Parent Centre\": {\"cc\": false}, \"Te Kura o Waikare\": {\"cc\": false}, \"Tiritea School\": {\"cc\": false}, \"Titirangi School\": {\"cc\": false}, \"Michael Park School\": {\"cc\": false}, \"Ao Tawhiti Unlimited Discovery\": {\"cc\": false}, \"Longford Intermediate\": {\"cc\": false}, \"Glen Massey School\": {\"cc\": false}, \"Halswell School\": {\"cc\": false}, \"Hawke\\'s Bay School for Teenage Parents\": {\"cc\": false}, \"Riverslea School\": {\"cc\": false}, \"Southbrook School\": {\"cc\": false}, \"Wainui Beach School\": {\"cc\": false}, \"St Mary\\'s School (Carterton)\": {\"cc\": false}, \"James Cook School\": {\"cc\": false}, \"Khandallah School\": {\"cc\": false}, \"ACG Senior College\": {\"cc\": false}, \"St Mary\\'s School (Wanganui)\": {\"cc\": false}, \"Mahana School\": {\"cc\": false}, \"St Albans Catholic School (Christchurch)\": {\"cc\": false}, \"Awakeri School\": {\"cc\": false}, \"Hillcrest High School\": {\"cc\": false}, \"Milford School (Auckland)\": {\"cc\": false}, \"Greenhithe School\": {\"cc\": false}, \"Ascot Community School\": {\"cc\": false}, \"Whangamarino School\": {\"cc\": false}, \"Stoke School\": {\"cc\": false}, \"Frimley School\": {\"cc\": false}, \"Prospect School\": {\"cc\": false}, \"Kauri Park School\": {\"cc\": false}, \"Ahititi School\": {\"cc\": false}, \"Buller High School\": {\"cc\": false}, \"Sacred Heart School (Waikiwi)\": {\"cc\": false}, \"Natone Park School\": {\"cc\": false}, \"Paraparaumu School\": {\"cc\": false}, \"Cotswold School\": {\"cc\": false}, \"Te Horo School (Whangarei)\": {\"cc\": false}, \"Mangonui School\": {\"cc\": false}, \"Stanmore Bay School\": {\"cc\": false}, \"Hillmorton High School\": {\"cc\": false}, \"Orewa North School\": {\"cc\": false}, \"Turaki School\": {\"cc\": false}, \"Papatoetoe High School\": {\"cc\": false}, \"Mt Roskill Intermediate\": {\"cc\": false}, \"St Joseph\\'s Catholic School (Te Kuiti)\": {\"cc\": false}, \"Bellevue School (Tauranga)\": {\"cc\": false}, \"St Thomas School (Auckland)\": {\"cc\": false}, \"Horotiu School\": {\"cc\": false}, \"TKKM o Takapau\": {\"cc\": false}, \"Whatawhata School\": {\"cc\": false}, \"Clevedon School\": {\"cc\": false}, \"Jean Seabrook Memorial School\": {\"cc\": false}, \"St Patrick\\'s School (Masterton)\": {\"cc\": false}, \"John Paul College\": {\"cc\": false}, \"TKKM o Tapere-Nui-A-Whatonga\": {\"cc\": false}, \"Sacred Heart School (Timaru)\": {\"cc\": false}, \"Ongarue School\": {\"cc\": false}, \"Peninsula Primary School\": {\"cc\": false}, \"Wairoa Primary School\": {\"cc\": false}, \"Carisbrook School\": {\"cc\": false}, \"Waiuku College\": {\"cc\": false}, \"Tinui School\": {\"cc\": false}, \"Kaingaroa Forest School\": {\"cc\": false}, \"Tauhei Combined School\": {\"cc\": false}, \"Tasman Bay Christian School\": {\"cc\": false}, \"Bishopdale School\": {\"cc\": false}, \"Normandale School\": {\"cc\": false}, \"Nelson College\": {\"cc\": false}, \"Holy Cross Catholic School (Henderson)\": {\"cc\": false}, \"Aokautere School\": {\"cc\": false}, \"Thorrington School\": {\"cc\": false}, \"Parakai School\": {\"cc\": false}, \"Drury School\": {\"cc\": false}, \"Blomfield Special School and Resource Ctre\": {\"cc\": false}, \"Longbeach School\": {\"cc\": false}, \"Hataitai School\": {\"cc\": false}, \"Collingwood Area School\": {\"cc\": false}, \"Springbank School\": {\"cc\": false}, \"Green Bay High School\": {\"cc\": false}, \"Northland College\": {\"cc\": false}, \"St Joseph\\'s School (Fairlie)\": {\"cc\": false}, \"St Mary\\'s College (Wellington)\": {\"cc\": false}, \"Waitetuna School\": {\"cc\": false}, \"Big Rock Primary School\": {\"cc\": false}, \"St Dominic\\'s Catholic School (Blockhouse Bay)\": {\"cc\": false}, \"Strath Taieri School\": {\"cc\": false}, \"Amesbury School\": {\"cc\": false}, \"TKKM o Ngati Kahungunu o Te Wairoa\": {\"cc\": false}, \"Havelock School\": {\"cc\": false}, \"St Mary\\'s School (Avondale)\": {\"cc\": false}, \"St Michael\\'s Catholic School (Remuera)\": {\"cc\": false}, \"Kapiti School\": {\"cc\": false}, \"TKKM o Ngati Ruanui\": {\"cc\": false}, \"Isla Bank School\": {\"cc\": false}, \"Strathmore School\": {\"cc\": false}, \"St Anne\\'s School (Woolston)\": {\"cc\": false}, \"Bethlehem School\": {\"cc\": false}, \"Westbrook School\": {\"cc\": false}, \"Napier Intermediate\": {\"cc\": false}, \"Pitt Island School\": {\"cc\": false}, \"Hingaia Peninsula School\": {\"cc\": false}, \"Glen Oroua School\": {\"cc\": false}, \"Selwyn Ridge School\": {\"cc\": false}, \"Otaua School\": {\"cc\": false}, \"Raureka School\": {\"cc\": false}, \"Te Whakatipuranga (Otumoetai TPU)\": {\"cc\": false}, \"Maungawhau School\": {\"cc\": false}, \"Gulf Harbour School\": {\"cc\": false}, \"Chapman College\": {\"cc\": false}, \"Te Waha O Rerekohu Area School\": {\"cc\": false}, \"St John the Evangelist Catholic School\": {\"cc\": false}, \"Riverdale School (P North)\": {\"cc\": false}, \"Kelston Intermediate\": {\"cc\": false}, \"Greenmeadows Intermediate\": {\"cc\": false}, \"Kakatahi School\": {\"cc\": false}, \"Mangawhai Beach School\": {\"cc\": false}, \"St Andrew\\'s School (Timaru)\": {\"cc\": false}, \"Oteha Valley School\": {\"cc\": false}, \"Nelson Christian Academy\": {\"cc\": false}, \"St Ignatius Catholic School (St Heliers)\": {\"cc\": false}, \"Tawa School\": {\"cc\": false}, \"Oratia School\": {\"cc\": false}, \"Onerahi School\": {\"cc\": false}, \"Wakaaranga School\": {\"cc\": false}, \"Motueka High School\": {\"cc\": false}, \"Opawa School\": {\"cc\": false}, \"Sumner School\": {\"cc\": false}, \"Kaingaroa School (Kaitaia)\": {\"cc\": false}, \"Elm Park School\": {\"cc\": false}, \"Brunswick School\": {\"cc\": false}, \"Gloriavale Christian Community School\": {\"cc\": false}, \"Wairarapa Teen Parent Unit\": {\"cc\": false}, \"Kaka Street Special School\": {\"cc\": false}, \"Tui Glen School\": {\"cc\": false}, \"Te Aroha Primary School\": {\"cc\": false}, \"Riccarton School\": {\"cc\": false}, \"Rhode Street School\": {\"cc\": false}, \"Stanley Avenue School\": {\"cc\": false}, \"Wesley School\": {\"cc\": false}, \"Wairarapa College\": {\"cc\": false}, \"Herekino School\": {\"cc\": false}, \"Owhango School\": {\"cc\": false}, \"St Paul\\'s School (Massey)\": {\"cc\": false}, \"Paeroa Christian School\": {\"cc\": false}, \"Tirohia School\": {\"cc\": false}, \"Rere School\": {\"cc\": false}, \"Lincoln High School\": {\"cc\": false}, \"Reporoa College\": {\"cc\": false}, \"Mangere Bridge School\": {\"cc\": false}, \"Tautoro School\": {\"cc\": false}, \"Paekakariki School\": {\"cc\": false}, \"Christchurch Boys\\' High School\": {\"cc\": false}, \"Glenview School (Hamilton)\": {\"cc\": false}, \"Waiau School\": {\"cc\": false}, \"St Joseph\\'s School (Grey Lynn)\": {\"cc\": false}, \"St Mary\\'s School (Milton)\": {\"cc\": false}, \"Waikouaiti School\": {\"cc\": false}, \"Tamariki School\": {\"cc\": false}, \"Waiopehu College\": {\"cc\": false}, \"Whareorino School\": {\"cc\": false}, \"Oromahoe School\": {\"cc\": false}, \"Wanganui East School\": {\"cc\": false}, \"Te Waka Unua School\": {\"cc\": false}, \"Kaniere School\": {\"cc\": false}, \"Kaitaia College\": {\"cc\": false}, \"Merivale School\": {\"cc\": false}, \"Tyndale Park Christian School\": {\"cc\": false}, \"Raroa Normal Intermediate\": {\"cc\": false}, \"Taihape Area School\": {\"cc\": false}, \"Hunterville Consolidated School\": {\"cc\": false}, \"TKKM o Waioweka\": {\"cc\": false}, \"Clyde School\": {\"cc\": false}, \"Balfour School\": {\"cc\": false}, \"Birkdale Intermediate\": {\"cc\": false}, \"Marco School\": {\"cc\": false}, \"St Pius X Catholic School (Melville)\": {\"cc\": false}, \"Cannington School\": {\"cc\": false}, \"Birkenhead School\": {\"cc\": false}, \"St Patrick\\'s School (Kilbirnie)\": {\"cc\": false}, \"Durie Hill School\": {\"cc\": false}, \"Robertson Road School\": {\"cc\": false}, \"St Peter\\'s College (Gore)\": {\"cc\": false}, \"Glenview School (Porirua East)\": {\"cc\": false}, \"Pacific Christian School\": {\"cc\": false}, \"Waitoriki School\": {\"cc\": false}, \"St Mary\\'s Catholic School (Rotorua)\": {\"cc\": false}, \"Fiordland College\": {\"cc\": false}, \"Avondale Intermediate\": {\"cc\": false}, \"Bay of Islands College\": {\"cc\": false}, \"East Otago High School\": {\"cc\": false}, \"Te Aho o Te Kura Pounamu\": {\"cc\": false}, \"Oamaru Intermediate\": {\"cc\": false}, \"Opunake School\": {\"cc\": false}, \"Hastings Christian School\": {\"cc\": false}, \"TKKM o Te Ara Hou\": {\"cc\": false}, \"St Joseph\\'s Catholic School (Matamata)\": {\"cc\": false}, \"Riverhead School\": {\"cc\": false}, \"St Paul\\'s College (Ponsonby)\": {\"cc\": false}, \"Elmwood Normal School\": {\"cc\": false}, \"North Loburn School\": {\"cc\": false}, \"Hautapu School\": {\"cc\": false}, \"Tamahere Model Country School\": {\"cc\": false}, \"St Joseph\\'s School (Waipukurau)\": {\"cc\": false}, \"Opotiki College\": {\"cc\": false}, \"Otatara School\": {\"cc\": false}, \"Omakau School\": {\"cc\": false}, \"Kaiapoi High School\": {\"cc\": false}, \"Allenvale Special School and Res Centre\": {\"cc\": false}, \"Ashley School\": {\"cc\": false}, \"Taipa Area School\": {\"cc\": false}, \"Western Springs College\": {\"cc\": false}, \"Tauranga Girls\\' College\": {\"cc\": false}, \"Gordonton School\": {\"cc\": false}, \"Kohia Terrace School\": {\"cc\": false}, \"Kowhai Intermediate\": {\"cc\": false}, \"Paparangi School\": {\"cc\": false}, \"Rangitoto School\": {\"cc\": false}, \"Mt Albert Grammar School\": {\"cc\": false}, \"Karamu High School\": {\"cc\": false}, \"Hororata School\": {\"cc\": false}, \"Manunui School\": {\"cc\": false}, \"St Joseph\\'s School (Timaru)\": {\"cc\": false}, \"Korokoro School\": {\"cc\": false}, \"TKKM o Otepoti\": {\"cc\": false}, \"Nga Tawa Diocesan School\": {\"cc\": false}, \"Maori Hill School\": {\"cc\": false}, \"Waikawa Bay School\": {\"cc\": false}, \"Cashmere Primary School\": {\"cc\": false}, \"Pamapuria School\": {\"cc\": false}, \"Cambridge School\": {\"cc\": false}, \"Mangapapa School\": {\"cc\": false}, \"Wanganui Girls\\' College\": {\"cc\": false}, \"Wentworth College\": {\"cc\": false}, \"Tarrangower School\": {\"cc\": false}, \"Ravensbourne School\": {\"cc\": false}, \"Taonui School\": {\"cc\": false}, \"Clendon Teen Parent Unit\": {\"cc\": false}, \"Mokau School\": {\"cc\": false}, \"Palmerston North Intermediate\": {\"cc\": false}, \"Breens Intermediate\": {\"cc\": false}, \"Summerland Primary\": {\"cc\": false}, \"Paroa School (Greymouth)\": {\"cc\": false}, \"Churton Park School\": {\"cc\": false}, \"Centennial Park School\": {\"cc\": false}, \"Waihi Beach School\": {\"cc\": false}, \"Crofton Downs Primary School\": {\"cc\": false}, \"Mokoia Intermediate\": {\"cc\": false}, \"Manaia View School\": {\"cc\": false}, \"Glendene School\": {\"cc\": false}, \"Vauxhall School\": {\"cc\": false}, \"Harewood School\": {\"cc\": false}, \"Brookfield School\": {\"cc\": false}, \"Hobsonville School\": {\"cc\": false}, \"Matapu School\": {\"cc\": false}, \"Mapiu School\": {\"cc\": false}, \"McAuley High School\": {\"cc\": false}, \"Epsom Girls Grammar School\": {\"cc\": false}, \"Huirangi School\": {\"cc\": false}, \"Our Lady of Assumption School (Chch)\": {\"cc\": false}, \"Hira School\": {\"cc\": false}, \"Makarora Primary School\": {\"cc\": false}, \"St Dominic\\'s Catholic College (Henderson)\": {\"cc\": false}, \"Glen Taylor School\": {\"cc\": false}, \"TKKM o Manurewa\": {\"cc\": false}, \"Fairhall School\": {\"cc\": false}, \"Upokongaro School\": {\"cc\": false}, \"Sommerville School\": {\"cc\": false}, \"Aotea College\": {\"cc\": false}, \"Miramar Central School\": {\"cc\": false}, \"Taupiri School\": {\"cc\": false}, \"De La Salle College\": {\"cc\": false}, \"Whitney Street School\": {\"cc\": false}, \"TKK o Te Wananga Whare Tapere o Takitimu\": {\"cc\": false}, \"Otahuhu Intermediate\": {\"cc\": false}, \"Rangitikei College\": {\"cc\": false}, \"Avalon Intermediate\": {\"cc\": false}, \"Henderson Intermediate\": {\"cc\": false}, \"Hauraki Plains College\": {\"cc\": false}, \"Pukehamoamoa School\": {\"cc\": false}, \"Sandspit Road School\": {\"cc\": false}, \"Tirau Primary School\": {\"cc\": false}, \"Francis Douglas Memorial College\": {\"cc\": false}, \"Wainuiomata Intermediate\": {\"cc\": false}, \"Karitane School\": {\"cc\": false}, \"Central Regional Health School\": {\"cc\": false}, \"Oamaru North School\": {\"cc\": false}, \"Coatesville School\": {\"cc\": false}, \"St Joseph\\'s School (Ashburton)\": {\"cc\": false}, \"Mauku School\": {\"cc\": false}, \"Eden Campus\": {\"cc\": false}, \"Tokoroa High School\": {\"cc\": false}, \"Weber School\": {\"cc\": false}, \"St Anne\\'s School (Wanganui)\": {\"cc\": false}, \"Levin Teen Parent Unit\": {\"cc\": false}, \"Anchorage Park School\": {\"cc\": false}, \"Windley School\": {\"cc\": false}, \"Kings School (Remuera)\": {\"cc\": false}, \"Kaingaroa School (Chatham Islands)\": {\"cc\": false}, \"Addington School\": {\"cc\": false}, \"Hillsborough School\": {\"cc\": false}, \"Pongaroa School\": {\"cc\": false}, \"Rukuhia School\": {\"cc\": false}, \"Balmoral School (Auckland)\": {\"cc\": false}, \"Vogeltown School\": {\"cc\": false}, \"Wanganui High School\": {\"cc\": false}, \"Hedgehope School\": {\"cc\": false}, \"Upper Hutt School\": {\"cc\": false}, \"Rata Street School\": {\"cc\": false}, \"Ballance School\": {\"cc\": false}, \"Bathgate Park School\": {\"cc\": false}, \"Kerikeri High School\": {\"cc\": false}, \"Tairangi School\": {\"cc\": false}, \"Katikati Primary School\": {\"cc\": false}, \"Kaikohe West School\": {\"cc\": false}, \"Kohukohu School\": {\"cc\": false}, \"Orewa School\": {\"cc\": false}, \"St Francis School (Thames)\": {\"cc\": false}, \"City Impact Church School\": {\"cc\": false}, \"Te Kura Maori o Nga Tapuwae\": {\"cc\": false}, \"Outram School\": {\"cc\": false}, \"Amberley School\": {\"cc\": false}, \"Owhiro Bay School\": {\"cc\": false}, \"Korakonui School\": {\"cc\": false}, \"St Mary\\'s School (P North)\": {\"cc\": false}, \"The Terrace School (Waipukurau)\": {\"cc\": false}, \"Clearview Primary\": {\"cc\": false}, \"Pleasant Point Primary School\": {\"cc\": false}, \"Central School\": {\"cc\": false}, \"Sunnynook School\": {\"cc\": false}, \"Hillview Christian School\": {\"cc\": false}, \"Windsor North School\": {\"cc\": false}, \"TKKM o Te Ara Whanui\": {\"cc\": false}, \"Bayfield School\": {\"cc\": false}, \"He Mataariki School for Teen Parents\": {\"cc\": false}, \"Wellington S D A School\": {\"cc\": false}, \"Fernridge School\": {\"cc\": false}, \"Manurewa Intermediate\": {\"cc\": false}, \"Swannanoa School\": {\"cc\": false}, \"Tolaga Bay Area School\": {\"cc\": false}, \"Rimu School\": {\"cc\": false}, \"Valley School\": {\"cc\": false}, \"Kelston School\": {\"cc\": false}, \"Papatoetoe West School\": {\"cc\": false}, \"Omakere School\": {\"cc\": false}, \"Matamata Intermediate\": {\"cc\": false}, \"Tikipunga Primary School\": {\"cc\": false}, \"Taupo Intermediate\": {\"cc\": false}, \"St Mark\\'s School (Pakuranga)\": {\"cc\": false}, \"Endeavour School\": {\"cc\": false}, \"Reignier Catholic School\": {\"cc\": false}, \"St Cuthbert\\'s College (Epsom)\": {\"cc\": false}, \"Twizel Area School\": {\"cc\": false}, \"Grovetown School\": {\"cc\": false}, \"Makarika School\": {\"cc\": false}, \"Seatoun School\": {\"cc\": false}, \"Mossburn School\": {\"cc\": false}, \"Frankley School\": {\"cc\": false}, \"Auroa School\": {\"cc\": false}, \"Sacred Heart Girls\\' College (N Plymouth)\": {\"cc\": false}, \"Kaikohe East School\": {\"cc\": false}, \"Cardinal McKeefry School (Wilton)\": {\"cc\": false}, \"Kelson School\": {\"cc\": false}, \"Marotiri School\": {\"cc\": false}, \"Tokanui School\": {\"cc\": false}, \"Karamea Area School\": {\"cc\": false}, \"Waitara East School\": {\"cc\": false}, \"View Hill School\": {\"cc\": false}, \"St Joseph\\'s School (Hawera)\": {\"cc\": false}, \"Whangaroa College\": {\"cc\": false}, \"St Joseph\\'s School (Otahuhu)\": {\"cc\": false}, \"Westport South School\": {\"cc\": false}, \"Fraser High School TPU\": {\"cc\": false}, \"Ngongotaha School\": {\"cc\": false}, \"St Thomas More Catholic School\": {\"cc\": false}, \"Papanui School\": {\"cc\": false}, \"Solway School\": {\"cc\": false}, \"Opiki School\": {\"cc\": false}, \"Whangarei School\": {\"cc\": false}, \"Morrinsville College\": {\"cc\": false}, \"Fergusson Intermediate (Trentham)\": {\"cc\": false}, \"Purakaunui School\": {\"cc\": false}, \"Ladbrooks School\": {\"cc\": false}, \"Te Tipu Whenua o Pa Harakeke\": {\"cc\": false}, \"Wesley College\": {\"cc\": false}, \"Kiwitahi School\": {\"cc\": false}, \"Haast School\": {\"cc\": false}, \"Portobello School\": {\"cc\": false}, \"Gore High School\": {\"cc\": false}, \"Mangere Central School\": {\"cc\": false}, \"View Road School\": {\"cc\": false}, \"Mellons Bay School\": {\"cc\": false}, \"Huntly School (Waikato)\": {\"cc\": false}, \"Roxburgh Area School\": {\"cc\": false}, \"Alexandra School\": {\"cc\": false}, \"Woodhill School\": {\"cc\": false}, \"Tikokino School\": {\"cc\": false}, \"Houghton Valley School\": {\"cc\": false}, \"Te Akau ki Papamoa Primary School\": {\"cc\": false}, \"Maihiihi School\": {\"cc\": false}, \"St Patrick\\'s School (Napier)\": {\"cc\": false}, \"Rangeview Intermediate\": {\"cc\": false}, \"Paengaroa School\": {\"cc\": false}, \"Aranui Community School (Proposed open date: 27JAN2017 )\": {\"cc\": false}, \"Waitati School\": {\"cc\": false}, \"Taupo School\": {\"cc\": false}, \"Naenae Intermediate\": {\"cc\": false}, \"Hamilton West School\": {\"cc\": false}, \"Chelsea School\": {\"cc\": false}, \"Maramarua School\": {\"cc\": false}, \"Te Kura o Matapihi\": {\"cc\": false}, \"Lawrence Area School\": {\"cc\": false}, \"Henderson School\": {\"cc\": false}, \"Marlborough Girls\\' College\": {\"cc\": false}, \"New Plymouth S D A School\": {\"cc\": false}, \"Gate Pa School\": {\"cc\": false}, \"Whangaehu School\": {\"cc\": false}, \"St Paul\\'s Catholic School (Ngaruawahia)\": {\"cc\": false}, \"Don Buck School\": {\"cc\": false}, \"Titiro Whakamua\": {\"cc\": false}, \"Hampden Street School\": {\"cc\": false}, \"Titahi Bay School\": {\"cc\": false}, \"Greymouth Main School\": {\"cc\": false}, \"Wanganui Collegiate School\": {\"cc\": false}, \"Waiau Area School\": {\"cc\": false}, \"Karaka School\": {\"cc\": false}, \"Ponsonby Primary School\": {\"cc\": false}, \"Villa Maria College\": {\"cc\": false}, \"Henry Hill School\": {\"cc\": false}, \"Dannevirke High School\": {\"cc\": false}, \"Tamatea High School\": {\"cc\": false}, \"Ellerslie School\": {\"cc\": false}, \"Bayfield High School\": {\"cc\": false}, \"Avonhead School\": {\"cc\": false}, \"Whakamaru School\": {\"cc\": false}, \"Melville Primary School\": {\"cc\": false}, \"Papakowhai School\": {\"cc\": false}, \"Pompallier Catholic College\": {\"cc\": false}, \"St Albans School\": {\"cc\": false}, \"Awhitu District School\": {\"cc\": false}, \"Puni School\": {\"cc\": false}, \"Morningside School\": {\"cc\": false}, \"Boulcott School\": {\"cc\": false}, \"St Patrick\\'s School (Invercargill)\": {\"cc\": false}, \"Arthur Miller School\": {\"cc\": false}, \"St Mary\\'s School (Hokitika)\": {\"cc\": false}, \"St Joseph\\'s School (Invercargill)\": {\"cc\": false}, \"Martinborough School\": {\"cc\": false}, \"West Harbour School\": {\"cc\": false}, \"Otahuhu College\": {\"cc\": false}, \"Sonrise Christian School\": {\"cc\": false}, \"Rai Valley Area School\": {\"cc\": false}, \"Hikurangi School\": {\"cc\": false}, \"Whakatane High School\": {\"cc\": false}, \"Sacred Heart School (Petone)\": {\"cc\": false}, \"Raetihi Primary School\": {\"cc\": false}, \"Waitahuna School\": {\"cc\": false}, \"Avondale College\": {\"cc\": false}, \"Levin East School\": {\"cc\": false}, \"Bay of Islands International Academy\": {\"cc\": false}, \"Te Anau School\": {\"cc\": false}, \"St James School (P North)\": {\"cc\": false}, \"Northern Southland College\": {\"cc\": false}, \"Papatoetoe Central School\": {\"cc\": false}, \"St Kevins College (Oamaru)\": {\"cc\": false}, \"Bellevue School (Newlands)\": {\"cc\": false}, \"Ohakune School\": {\"cc\": false}, \"Te Matauranga\": {\"cc\": false}, \"Mata School\": {\"cc\": false}, \"Waerenga School\": {\"cc\": false}, \"Blaketown School\": {\"cc\": false}, \"Mt Maunganui Intermediate\": {\"cc\": false}, \"Island Bay School\": {\"cc\": false}, \"Egmont Village School\": {\"cc\": false}, \"Puhinui School\": {\"cc\": false}, \"Totara North School\": {\"cc\": false}, \"Otumoetai Intermediate\": {\"cc\": false}, \"Dilworth School\": {\"cc\": false}, \"Te Rangi Aniwaniwa\": {\"cc\": false}, \"Waitakere School\": {\"cc\": false}, \"Massey High School\": {\"cc\": false}, \"Forest Lake School\": {\"cc\": false}, \"Frankton School\": {\"cc\": false}, \"Southern Cross Campus\": {\"cc\": false}, \"Marina View School\": {\"cc\": false}, \"Spotswood Primary School\": {\"cc\": false}, \"Te Kura o Torere\": {\"cc\": false}, \"Bishop Viard College\": {\"cc\": false}, \"Kumara School\": {\"cc\": false}, \"Waipara School\": {\"cc\": false}, \"Sacred Heart College (Lower Hutt)\": {\"cc\": false}, \"Coromandel Area School\": {\"cc\": false}, \"Highlands Intermediate\": {\"cc\": false}, \"Mimi School\": {\"cc\": false}, \"Kaihere School\": {\"cc\": false}, \"Kihikihi School\": {\"cc\": false}, \"Monrad Intermediate\": {\"cc\": false}, \"Te Aro School\": {\"cc\": false}, \"Tararua College\": {\"cc\": false}, \"Westbridge Residential School\": {\"cc\": false}, \"Ardmore School\": {\"cc\": false}, \"Willowbank School (Howick)\": {\"cc\": false}, \"Piopio College\": {\"cc\": false}, \"St Patrick\\'s School (Paraparaumu)\": {\"cc\": false}, \"Timatanga Community School\": {\"cc\": false}, \"Stella Maris Primary School\": {\"cc\": false}, \"Hawera Intermediate\": {\"cc\": false}, \"Westminster Christian School\": {\"cc\": false}, \"Motueka Rudolf Steiner School\": {\"cc\": false}, \"Freemans Bay School\": {\"cc\": false}, \"Makuri School\": {\"cc\": false}, \"Russell Street School\": {\"cc\": false}, \"Tauranga Boys\\' College\": {\"cc\": false}, \"Turua Primary School\": {\"cc\": false}, \"Opononi Area School\": {\"cc\": false}, \"Te Kura Kaupapa Maori o Te Orini ki Ngati Awa (Proposed open date: 20JUL2015 )\": {\"cc\": false}, \"St Patrick\\'s School (Kaponga)\": {\"cc\": false}, \"Bridge Pa School\": {\"cc\": false}, \"Lyttelton Primary School\": {\"cc\": false}, \"Kelvin Road School\": {\"cc\": false}, \"Mt Albert School\": {\"cc\": false}, \"Lynfield College\": {\"cc\": false}, \"Tokoroa Central School\": {\"cc\": false}, \"Miramar Christian School\": {\"cc\": false}, \"Blue Mountain College\": {\"cc\": false}, \"Mayfield School (Auckland)\": {\"cc\": false}, \"Upper Atiamuri School\": {\"cc\": false}, \"Balmacewen Intermediate\": {\"cc\": false}, \"Tauraroa Area School\": {\"cc\": false}, \"Three Kings School\": {\"cc\": false}, \"Andersons Bay School\": {\"cc\": false}, \"Rotorua Boys\\' High School\": {\"cc\": false}, \"Pt England School\": {\"cc\": false}, \"City Impact Church School (Secondary)\": {\"cc\": false}, \"Owairaka District School\": {\"cc\": false}, \"TKKM o Te Rito\": {\"cc\": false}, \"Fairfield Primary School\": {\"cc\": false}, \"Picton School\": {\"cc\": false}, \"Waikite Valley School\": {\"cc\": false}, \"TKKM o Kawakawa mai Tawhiti\": {\"cc\": false}, \"Ratapiko School\": {\"cc\": false}, \"Remuera School\": {\"cc\": false}, \"Awapuni School (Gisborne)\": {\"cc\": false}, \"Russell School (Porirua East)\": {\"cc\": false}, \"Flagswamp School\": {\"cc\": false}, \"Pukehou School\": {\"cc\": false}, \"Karapiro School\": {\"cc\": false}, \"Matawai School\": {\"cc\": false}, \"Waipipi School\": {\"cc\": false}, \"Ranzau School\": {\"cc\": false}, \"Panmure Bridge School\": {\"cc\": false}, \"Manaia School (Taranaki)\": {\"cc\": false}, \"Sir Edmund Hillary Collegiate Middle School\": {\"cc\": false}, \"Wellington East Girls\\' College\": {\"cc\": false}, \"Waitaha School\": {\"cc\": false}, \"Diocesan School For Girls\": {\"cc\": false}, \"Whakamarama School\": {\"cc\": false}, \"Urenui School\": {\"cc\": false}, \"Royal Oak Intermediate School\": {\"cc\": false}, \"Auckland Normal Intermediate\": {\"cc\": false}, \"Newlands College\": {\"cc\": false}, \"Wiri Central School\": {\"cc\": false}, \"Te Kura o Otangarei\": {\"cc\": false}, \"Sacred Heart Cathedral School\": {\"cc\": false}, \"Kaitoke School (Claris)\": {\"cc\": false}, \"Mangaroa School\": {\"cc\": false}, \"Kuranui Primary School\": {\"cc\": false}, \"Papatoetoe North School\": {\"cc\": false}, \"Our Lady of Lourdes School (P North)\": {\"cc\": false}, \"Kea Street Specialist School\": {\"cc\": false}, \"Hawea Flat School\": {\"cc\": false}, \"St Teresa\\'s School (Riccarton)\": {\"cc\": false}, \"St Michael\\'s School (Taita)\": {\"cc\": false}, \"Te Uku School\": {\"cc\": false}, \"Samuel Marsden Collegiate School\": {\"cc\": false}, \"Tuahiwi School\": {\"cc\": false}, \"Kai Iwi School\": {\"cc\": false}, \"Central Takaka School\": {\"cc\": false}, \"Sunnybrae Normal School\": {\"cc\": false}, \"Johnsonville School\": {\"cc\": false}, \"Cambridge Middle School\": {\"cc\": false}, \"Whenuakura School\": {\"cc\": false}, \"Kiwitea School\": {\"cc\": false}, \"Te Pumanawa O Te Wairua\": {\"cc\": false}, \"Kaikorai School\": {\"cc\": false}, \"Carlton School\": {\"cc\": false}, \"West Park School\": {\"cc\": false}, \"Rutherford College\": {\"cc\": false}, \"Puahue School\": {\"cc\": false}, \"Puketapu School (Hawkes Bay)\": {\"cc\": false}, \"Kimihia School\": {\"cc\": false}, \"Aberfeldy School\": {\"cc\": false}, \"Victory Primary School\": {\"cc\": false}, \"Halfway Bush School\": {\"cc\": false}, \"Piopio Primary School\": {\"cc\": false}, \"South Wellington Intermediate\": {\"cc\": false}, \"Te Mata School (Havelock North)\": {\"cc\": false}, \"Five Forks School\": {\"cc\": false}, \"Greenacres School\": {\"cc\": false}, \"Northern Health School\": {\"cc\": false}, \"St Patrick\\'s School (Waimate)\": {\"cc\": false}, \"St John\\'s Hill School\": {\"cc\": false}, \"St Columba\\'s Catholic School (Frankton)\": {\"cc\": false}, \"Kaipara Flats School\": {\"cc\": false}, \"Star of the Sea School (Howick)\": {\"cc\": false}, \"St Peter Chanel Catholic Sch (Te Rapa)\": {\"cc\": false}, \"TKKM o Wairarapa\": {\"cc\": false}, \"Waimarama School\": {\"cc\": false}, \"South City Christian School\": {\"cc\": false}, \"Maraeroa School\": {\"cc\": false}, \"TKKM o Ruamata\": {\"cc\": false}, \"Umawera School\": {\"cc\": false}, \"Catholic Cathedral College\": {\"cc\": false}, \"Hawera Primary School\": {\"cc\": false}, \"St Mary\\'s School (Gore)\": {\"cc\": false}, \"St Teresa\\'s School (Karori)\": {\"cc\": false}, \"Tawera Bilingual School\": {\"cc\": false}, \"He Huarahi Tamariki\": {\"cc\": false}, \"Te KKM o Puau Te Moananui-a-Kiwa\": {\"cc\": false}, \"Sancta Maria Catholic Primary School\": {\"cc\": false}, \"Tirohanga School\": {\"cc\": false}, \"Pt Chevalier School\": {\"cc\": false}, \"Kawerau Putauaki School\": {\"cc\": false}, \"Taoroa School\": {\"cc\": false}, \"Waikaretu School\": {\"cc\": false}, \"Churton School\": {\"cc\": false}, \"Mt Maunganui School\": {\"cc\": false}, \"Auckland Point School\": {\"cc\": false}, \"Wakanui School\": {\"cc\": false}, \"Waitaria Bay School\": {\"cc\": false}, \"Burnham School\": {\"cc\": false}, \"Favona School\": {\"cc\": false}, \"Beach Haven School\": {\"cc\": false}, \"Hampstead School\": {\"cc\": false}, \"TKKM o Nga Maungarongo\": {\"cc\": false}, \"Napier Boys\\' High School\": {\"cc\": false}, \"Sir Douglas Bader Intermediate School\": {\"cc\": false}, \"Wairoa College\": {\"cc\": false}, \"Silverdale School\": {\"cc\": false}, \"Waihi East School\": {\"cc\": false}, \"Te Kowhai School\": {\"cc\": false}, \"Hunua School\": {\"cc\": false}, \"Tasman School\": {\"cc\": false}, \"Tairua School\": {\"cc\": false}, \"Golden Sands School\": {\"cc\": false}, \"Firth School\": {\"cc\": false}, \"Hagley Community College\": {\"cc\": false}, \"Arahoe School\": {\"cc\": false}, \"Te Kura o Waitahanui\": {\"cc\": false}, \"Baverstock Oaks School\": {\"cc\": false}, \"Poroutawhao School\": {\"cc\": false}, \"Greendale School\": {\"cc\": false}, \"Craighead Diocesan School\": {\"cc\": false}, \"Manawatu College\": {\"cc\": false}, \"Macleans Primary School\": {\"cc\": false}, \"ACG New Zealand International College\": {\"cc\": false}, \"Rutherford Junior High School\": {\"cc\": false}, \"Upper Moutere School\": {\"cc\": false}, \"Ngahinapouri School\": {\"cc\": false}, \"National Park School\": {\"cc\": false}, \"Maeroa Intermediate\": {\"cc\": false}, \"Fraser Crescent School\": {\"cc\": false}, \"Rosmini College\": {\"cc\": false}, \"Parkside Christian S D A School\": {\"cc\": false}, \"South End School\": {\"cc\": false}, \"Sheffield Contributing School\": {\"cc\": false}, \"Forrest Hill School\": {\"cc\": false}, \"Hamilton Christian School\": {\"cc\": false}, \"John Paul II High School\": {\"cc\": false}, \"Hutt Central School\": {\"cc\": false}, \"Te Atatu Intermediate\": {\"cc\": false}, \"Orakei School\": {\"cc\": false}, \"Tauranga Waldorf School\": {\"cc\": false}, \"Queenspark School\": {\"cc\": false}, \"Camberley School\": {\"cc\": false}, \"St Theresa\\'s School (Plimmerton)\": {\"cc\": false}, \"Stratford High School Teen Parent Unit\": {\"cc\": false}, \"Forest View High School\": {\"cc\": false}, \"Parklands School (Motueka)\": {\"cc\": false}, \"Nova Montessori School\": {\"cc\": false}, \"Putaruru Primary School\": {\"cc\": false}, \"Te Rapa School\": {\"cc\": false}, \"Waipukurau School\": {\"cc\": false}, \"KingsGate School\": {\"cc\": false}, \"Westland High School\": {\"cc\": false}, \"Homai School\": {\"cc\": false}, \"Manurewa East School\": {\"cc\": false}, \"Hinds School\": {\"cc\": false}, \"Yaldhurst Model School\": {\"cc\": false}, \"Waiwera South School\": {\"cc\": false}, \"Waitara Central School\": {\"cc\": false}, \"Matarau School\": {\"cc\": false}, \"Mangatainoka School\": {\"cc\": false}, \"Waiotira School\": {\"cc\": false}, \"Henley School (Nelson)\": {\"cc\": false}, \"Nga Taiatea Wharekura\": {\"cc\": false}, \"Rapaura School\": {\"cc\": false}, \"Heretaunga Intermediate\": {\"cc\": false}, \"Somerville Intermediate School\": {\"cc\": false}, \"St Mary\\'s School (Dunedin)\": {\"cc\": false}, \"Hillcrest Normal School\": {\"cc\": false}, \"Bayswater School\": {\"cc\": false}, \"Rosehill Intermediate\": {\"cc\": false}, \"Rodney College\": {\"cc\": false}, \"Blockhouse Bay Intermediate\": {\"cc\": false}, \"Samuel Marsden Collegiate School -Whitby\": {\"cc\": false}, \"Ashburton Borough School\": {\"cc\": false}, \"Pembroke School\": {\"cc\": false}, \"Pahiatua School\": {\"cc\": false}, \"Halcombe Primary School\": {\"cc\": false}, \"Hohepa Home School (Napier)\": {\"cc\": false}, \"Columba College\": {\"cc\": false}, \"Pukerua Bay School\": {\"cc\": false}, \"Kakahi School\": {\"cc\": false}, \"Coastal Taranaki School\": {\"cc\": false}, \"Botany Downs School\": {\"cc\": false}, \"TKKM o Rotoiti\": {\"cc\": false}, \"Woodend School\": {\"cc\": false}, \"Aranui High School\": {\"cc\": false}, \"Redoubt North School\": {\"cc\": false}, \"Stratford School\": {\"cc\": false}, \"Renwick School\": {\"cc\": false}, \"Lynmore Primary School\": {\"cc\": false}, \"Ruapehu College\": {\"cc\": false}, \"Cheltenham School\": {\"cc\": false}, \"Hinuera School\": {\"cc\": false}, \"Inglewood School\": {\"cc\": false}, \"Waipa School\": {\"cc\": false}, \"Sawyers Bay School\": {\"cc\": false}, \"Nga Kakano Christian Reo Rua Kura\": {\"cc\": false}, \"Christian Renewal School\": {\"cc\": false}, \"Takapuna Grammar School\": {\"cc\": false}, \"Hoon Hay School\": {\"cc\": false}, \"Ashhurst School\": {\"cc\": false}, \"Marian Catholic School (Hamilton)\": {\"cc\": false}, \"Willowbank School\": {\"cc\": false}, \"Kereru Park Campus\": {\"cc\": false}, \"Maunu School\": {\"cc\": false}, \"David Street School\": {\"cc\": false}, \"Goodwood School\": {\"cc\": false}, \"Pirongia School\": {\"cc\": false}, \"Meremere School\": {\"cc\": false}, \"Edgecumbe College\": {\"cc\": false}, \"Mangorei School\": {\"cc\": false}, \"Taradale School\": {\"cc\": false}, \"Matihetihe School\": {\"cc\": false}, \"Christ\\'s College\": {\"cc\": false}, \"Silverdale Normal School\": {\"cc\": false}, \"May Road School\": {\"cc\": false}, \"New Lynn School\": {\"cc\": false}, \"St Anne\\'s Catholic School (Manurewa)\": {\"cc\": false}, \"Karori Normal School\": {\"cc\": false}, \"Pakiri School\": {\"cc\": false}, \"St John\\'s Girls\\' School (Invercargill)\": {\"cc\": false}, \"Onepoto School\": {\"cc\": false}, \"Cannons Creek School\": {\"cc\": false}, \"Newstead Model School\": {\"cc\": false}, \"Maitai School\": {\"cc\": false}, \"Otahuhu School\": {\"cc\": false}, \"Diamond Harbour School\": {\"cc\": false}, \"Solway College\": {\"cc\": false}, \"Southland Adventist Christian School\": {\"cc\": false}, \"St Mary\\'s School (Mosgiel)\": {\"cc\": false}, \"Destiny School\": {\"cc\": false}, \"Clarkville School\": {\"cc\": false}, \"Maraekakaho School\": {\"cc\": false}, \"Maraetai Beach School\": {\"cc\": false}, \"Huntly West School\": {\"cc\": false}, \"Burnside Primary School\": {\"cc\": false}, \"St Joseph\\'s Catholic School (Waihi)\": {\"cc\": false}, \"Havelock North Intermediate\": {\"cc\": false}, \"Tauranga Adventist School\": {\"cc\": false}, \"Our Lady of Fatima School (Chch)\": {\"cc\": false}, \"Kaurihohore School\": {\"cc\": false}, \"Hatea-A-Rangi\": {\"cc\": false}, \"St Joseph\\'s School (Taihape)\": {\"cc\": false}, \"Brookby School\": {\"cc\": false}, \"Hilltop School\": {\"cc\": false}, \"Kaitaia Abundant Life School\": {\"cc\": false}, \"Auckland Seventh-Day Adventist H S\": {\"cc\": false}, \"Ruakaka School\": {\"cc\": false}, \"St Joseph\\'s Cathedral School\": {\"cc\": false}, \"St Patrick\\'s School (Panmure)\": {\"cc\": false}, \"Ahuroa School\": {\"cc\": false}, \"Little River School\": {\"cc\": false}, \"Whangarei Girls\\' High School\": {\"cc\": false}, \"Pukeatua School\": {\"cc\": false}, \"Linwood College\": {\"cc\": false}, \"Marton School\": {\"cc\": false}, \"Mohaka School\": {\"cc\": false}, \"St Joseph\\'s Catholic School (Whakatane)\": {\"cc\": false}, \"Roydvale School\": {\"cc\": false}, \"Newton Central School\": {\"cc\": false}, \"One Tree Point School\": {\"cc\": false}, \"Moawhango School\": {\"cc\": false}, \"Riwaka School\": {\"cc\": false}, \"Belmont Intermediate\": {\"cc\": false}, \"Pinehaven School\": {\"cc\": false}, \"Fox Glacier School\": {\"cc\": false}, \"St Pius X School (Titahi Bay)\": {\"cc\": false}, \"Randwick School\": {\"cc\": false}, \"St John\\'s School (Ranfurly)\": {\"cc\": false}, \"Whitiora School\": {\"cc\": false}, \"Turakina Maori Girls\\' College\": {\"cc\": false}, \"Leamington School\": {\"cc\": false}, \"Our Lady of Rosary School (Waiwhetu)\": {\"cc\": false}, \"Tahatai Coast School\": {\"cc\": false}, \"St Marcellin School (Wanganui)\": {\"cc\": false}, \"Waitoa School\": {\"cc\": false}, \"Sacred Heart School (Reefton)\": {\"cc\": false}, \"Invercargill Middle School\": {\"cc\": false}, \"Maheno School\": {\"cc\": false}, \"Stratford High School\": {\"cc\": false}, \"Pa Harakeke Teen Parent Unit\": {\"cc\": false}, \"Kelston Girls\\' College\": {\"cc\": false}, \"Hurunui College\": {\"cc\": false}, \"Wakari School\": {\"cc\": false}, \"Tua Marina School\": {\"cc\": false}, \"Nelson Intermediate\": {\"cc\": false}, \"Kaiapoi North School\": {\"cc\": false}, \"Waimataitai School\": {\"cc\": false}, \"Devon Intermediate\": {\"cc\": false}, \"Kinohaku School\": {\"cc\": false}, \"Te Kura Hourua o Whangarei Terenga Paraoa\": {\"cc\": false}, \"Paraparaumu Beach School\": {\"cc\": false}, \"Nuhaka School\": {\"cc\": false}, \"Devonport School\": {\"cc\": false}, \"TKKM o Ngati Kahungunu Ki Heretaunga\": {\"cc\": false}, \"Otama School\": {\"cc\": false}, \"Fordell School\": {\"cc\": false}, \"Pillans Point School\": {\"cc\": false}, \"Oropi School\": {\"cc\": false}, \"Raumati South School\": {\"cc\": false}, \"Mayfield School (Mid-Canterbury)\": {\"cc\": false}, \"Arowhenua Maori School\": {\"cc\": false}, \"Pakuranga College\": {\"cc\": false}, \"St Peter\\'s School (Beckenham)\": {\"cc\": false}, \"Ashburton Christian School\": {\"cc\": false}, \"Masterton Intermediate\": {\"cc\": false}, \"Edmund Hillary School\": {\"cc\": false}, \"St Joseph\\'s Maori Girls\\' College\": {\"cc\": false}, \"Mangere East School\": {\"cc\": false}, \"Mairehau School\": {\"cc\": false}, \"TKK o Te Puaha o Waikato\": {\"cc\": false}, \"Broadwood Area School\": {\"cc\": false}, \"Ponsonby Intermediate\": {\"cc\": false}, \"Pigeon Mountain School\": {\"cc\": false}, \"Knighton Normal School\": {\"cc\": false}, \"Meraki Montessori School\": {\"cc\": false}, \"Sacred Heart School (Dunedin)\": {\"cc\": false}, \"St Mary\\'s School (Blenheim)\": {\"cc\": false}, \"Papanui High School\": {\"cc\": false}, \"Tauhara School\": {\"cc\": false}, \"Manukau Christian School\": {\"cc\": false}, \"Whangarei Heads School\": {\"cc\": false}, \"Maungaturoto School\": {\"cc\": false}, \"Pahoia School\": {\"cc\": false}, \"Whataroa School\": {\"cc\": false}, \"St Mary\\'s Catholic School (Papakura)\": {\"cc\": false}, \"Cust School\": {\"cc\": false}, \"Kaeo School\": {\"cc\": false}, \"Peachgrove Intermediate\": {\"cc\": false}, \"Dominion Road School\": {\"cc\": false}, \"Te Kura o Hata Maria (Pawarenga)\": {\"cc\": false}, \"Orautoha School\": {\"cc\": false}, \"Te Kura Maori o Waatea\": {\"cc\": false}, \"Muriwai School\": {\"cc\": false}, \"Mana College\": {\"cc\": false}, \"Finlayson Park School\": {\"cc\": false}, \"Turuturu School\": {\"cc\": false}, \"Greenmeadows School\": {\"cc\": false}, \"St Brendan\\'s School (Heretaunga)\": {\"cc\": false}, \"Te Kura o Hirangi\": {\"cc\": false}, \"St Matthew\\'s School (Marton)\": {\"cc\": false}, \"St Francis Catholic School (Pt Chevalier)\": {\"cc\": false}, \"St Patrick\\'s Catholic Sch (Te Awamutu)\": {\"cc\": false}, \"Tangowahine School\": {\"cc\": false}, \"The Catlins Area School\": {\"cc\": false}, \"St Joseph\\'s School (Upper Hutt)\": {\"cc\": false}, \"Ngunguru School\": {\"cc\": false}, \"Raglan Area School\": {\"cc\": false}, \"Paparoa Range School\": {\"cc\": false}, \"Balmoral S D A School\": {\"cc\": false}, \"Birkdale North School\": {\"cc\": false}, \"Tauhara College\": {\"cc\": false}, \"St Kentigern College (Pakuranga)\": {\"cc\": false}, \"Waitakiri Primary School\": {\"cc\": false}, \"Omanaia School\": {\"cc\": false}, \"Viscount School\": {\"cc\": false}, \"Darfield High School\": {\"cc\": false}, \"Sherwood School (Hawkes Bay)\": {\"cc\": false}, \"Papakura Central School\": {\"cc\": false}, \"Sunnyhills School\": {\"cc\": false}, \"Havelock North High School\": {\"cc\": false}, \"Omokoroa School\": {\"cc\": false}, \"Plateau School\": {\"cc\": false}, \"TKKM o Bernard Fergusson\": {\"cc\": false}, \"Whakarongo School\": {\"cc\": false}, \"Kaihu Valley School\": {\"cc\": false}, \"Rotokauri School\": {\"cc\": false}, \"Makikihi School\": {\"cc\": false}, \"Mt Maunganui College\": {\"cc\": false}, \"TKKM o Waiuku\": {\"cc\": false}, \"Kahurangi School\": {\"cc\": false}, \"Linton Country School\": {\"cc\": false}, \"Brandon Intermediate\": {\"cc\": false}, \"Rotorua School\": {\"cc\": false}, \"Spring Creek School\": {\"cc\": false}, \"TKK Motuhake o Tawhiuau\": {\"cc\": false}, \"Fernworth Primary School\": {\"cc\": false}, \"Palmerston North Adventist Christian School\": {\"cc\": false}, \"Pukeokahu School\": {\"cc\": false}, \"Kereru School\": {\"cc\": false}, \"Te Whanau-A-Apanui Area School\": {\"cc\": false}, \"Otari School\": {\"cc\": false}, \"Carlson School (Cerebral Palsy)\": {\"cc\": false}, \"Papamoa College\": {\"cc\": false}, \"TKKM o Nga Uri A Maui\": {\"cc\": false}, \"Wairakei School (Christchurch)\": {\"cc\": false}, \"Wanaka Primary School\": {\"cc\": false}, \"Ridgway School\": {\"cc\": false}, \"Te Puke Intermediate\": {\"cc\": false}, \"Arahunga School\": {\"cc\": false}, \"Kaikohe Intermediate\": {\"cc\": false}, \"Selwyn College\": {\"cc\": false}, \"Glenbervie School\": {\"cc\": false}, \"Rolleston School\": {\"cc\": false}, \"Okaihau School\": {\"cc\": false}, \"Mercury Bay Area School\": {\"cc\": false}, \"Pinehill School (Browns Bay)\": {\"cc\": false}, \"Lepperton School\": {\"cc\": false}, \"Manawaru School\": {\"cc\": false}, \"Avonside Girls\\' High School\": {\"cc\": false}, \"Kirkwood Intermediate\": {\"cc\": false}, \"Hiruharama School\": {\"cc\": false}, \"Queens High School\": {\"cc\": false}, \"Waitomo Caves School\": {\"cc\": false}, \"Maungatapere School\": {\"cc\": false}, \"Te Kura o Ratana\": {\"cc\": false}, \"Clive School\": {\"cc\": false}, \"St Matthew\\'s Collegiate (Masterton)\": {\"cc\": false}, \"Halsey Drive School\": {\"cc\": false}, \"St Joseph\\'s School (Kaikoura)\": {\"cc\": false}, \"Henderson Valley School\": {\"cc\": false}, \"Hokowhitu School\": {\"cc\": false}, \"Totara School\": {\"cc\": false}, \"Karori West Normal School\": {\"cc\": false}, \"Norfolk School\": {\"cc\": false}, \"Ararimu School\": {\"cc\": false}, \"Tainui Full Primary School\": {\"cc\": false}, \"Ngapuke School\": {\"cc\": false}, \"Fitzroy School\": {\"cc\": false}, \"Gisborne Girls\\' High School\": {\"cc\": false}, \"Konini School (Auckland)\": {\"cc\": false}, \"St Mary MacKillop Catholic School\": {\"cc\": false}, \"Heathcote Valley School\": {\"cc\": false}, \"St Brigids School (Tainui)\": {\"cc\": false}, \"Mana Tamariki\": {\"cc\": false}, \"Dargaville Primary School\": {\"cc\": false}, \"Gleniti School\": {\"cc\": false}, \"Paterangi School\": {\"cc\": false}, \"TKKM o Te Hiringa\": {\"cc\": false}, \"Waikato Waldorf School ( Rudolf Steiner)\": {\"cc\": false}, \"Totara College of Accelerated Learning\": {\"cc\": false}, \"Waitara High School\": {\"cc\": false}, \"Parnell School\": {\"cc\": false}, \"Horohoro School\": {\"cc\": false}, \"Awapuni School (P.North)\": {\"cc\": false}, \"Silverstream Christian School\": {\"cc\": false}, \"Te Puke High School\": {\"cc\": false}, \"Lake Rotoma School\": {\"cc\": false}, \"Ruawai Primary School\": {\"cc\": false}, \"Muritai School\": {\"cc\": false}, \"Edendale School (Southland)\": {\"cc\": false}, \"Mt Somers Springburn School\": {\"cc\": false}, \"Pasadena Intermediate\": {\"cc\": false}, \"Ngaruawahia High School\": {\"cc\": false}, \"Hay Park School\": {\"cc\": false}, \"Karoro School\": {\"cc\": false}, \"Amisfield School\": {\"cc\": false}, \"Putaruru College\": {\"cc\": false}, \"Mahora School\": {\"cc\": false}, \"Ebbett Park School\": {\"cc\": false}, \"Tai Wananga\": {\"cc\": false}, \"Mount Hutt College\": {\"cc\": false}, \"Te Wharekura o Arowhenua\": {\"cc\": false}, \"Otago Girls\\' High School\": {\"cc\": false}, \"Wyndham School\": {\"cc\": false}, \"Hamilton Seventh-Day Adventist School\": {\"cc\": false}, \"Te Totara Primary School\": {\"cc\": false}, \"Riverton School\": {\"cc\": false}, \"Cromwell Primary School\": {\"cc\": false}, \"Redcliffs School\": {\"cc\": false}, \"Broad Bay School\": {\"cc\": false}, \"Conifer Grove School\": {\"cc\": false}, \"Totara Park School\": {\"cc\": false}, \"Te Kura-a-iwi o Whakatupuranga Rua Mano\": {\"cc\": false}, \"Paparimu School\": {\"cc\": false}, \"Baradene College\": {\"cc\": false}, \"Galatea School\": {\"cc\": false}, \"Naenae College\": {\"cc\": false}, \"Birchville School\": {\"cc\": false}, \"Nayland Primary School\": {\"cc\": false}, \"Queenstown School\": {\"cc\": false}, \"Otamatea Christian School\": {\"cc\": false}, \"Wallacetown School\": {\"cc\": false}, \"Jean Batten School\": {\"cc\": false}, \"Peria School\": {\"cc\": false}, \"Middle School West Auckland\": {\"cc\": false}, \"Hamilton Boys\\' High School\": {\"cc\": false}, \"Riverview School\": {\"cc\": false}, \"Grey Lynn School\": {\"cc\": false}, \"Te Kura o Waharoa\": {\"cc\": false}, \"Nukuhou North School\": {\"cc\": false}, \"Salisbury School (Nelson)\": {\"cc\": false}, \"Waikaka School\": {\"cc\": false}, \"Holy Family School (Wanaka)\": {\"cc\": false}, \"Glenbrae Primary School\": {\"cc\": false}, \"Rakaia School\": {\"cc\": false}, \"Enner Glynn School\": {\"cc\": false}, \"Ficino School\": {\"cc\": false}, \"Avon School\": {\"cc\": false}, \"Waipa Christian School\": {\"cc\": false}, \"Lee Stream School\": {\"cc\": false}, \"Linwood North School\": {\"cc\": false}, \"Cloverlea School\": {\"cc\": false}, \"Waima School\": {\"cc\": false}, \"Purua School\": {\"cc\": false}, \"Beachlands School\": {\"cc\": false}, \"Pakotai School\": {\"cc\": false}, \"Rutherford School\": {\"cc\": false}, \"Te Kura o Pakipaki\": {\"cc\": false}, \"Taieri College\": {\"cc\": false}, \"Murchison Area School\": {\"cc\": false}, \"Patoka School\": {\"cc\": false}, \"St Leonard\\'s School (Dunedin)\": {\"cc\": false}, \"Cosgrove School\": {\"cc\": false}, \"Sutton Park School\": {\"cc\": false}, \"Pinehurst School\": {\"cc\": false}, \"Pomare School\": {\"cc\": false}, \"Mangere College\": {\"cc\": false}, \"Hamilton Junior High School\": {\"cc\": false}, \"Tinopai School\": {\"cc\": false}, \"Tikipunga High School\": {\"cc\": false}, \"St Theresa\\'s School (Invercargill)\": {\"cc\": false}, \"Pukehina School\": {\"cc\": false}, \"St Joseph\\'s School (Pukekohe)\": {\"cc\": false}, \"St Joseph\\'s School (Rangiora)\": {\"cc\": false}, \"Selwyn School\": {\"cc\": false}, \"Mamaku School\": {\"cc\": false}, \"Waimate Centennial School\": {\"cc\": false}, \"Kumeroa-Hopelands School\": {\"cc\": false}, \"Pukenui School (Te Kuiti)\": {\"cc\": false}, \"Blockhouse Bay School\": {\"cc\": false}, \"Thames South School\": {\"cc\": false}, \"St Peter\\'s Catholic School (Cambridge)\": {\"cc\": false}, \"Kaiapoi Borough School\": {\"cc\": false}, \"St Joseph\\'s School (Levin)\": {\"cc\": false}, \"St Michael\\'s Catholic School (Rotorua)\": {\"cc\": false}, \"New Windsor School\": {\"cc\": false}, \"Miller Avenue School\": {\"cc\": false}, \"ACG Parnell College\": {\"cc\": false}, \"Springfield School\": {\"cc\": false}, \"TKKM o Kaikohe\": {\"cc\": false}, \"Inangahua Junction School\": {\"cc\": false}, \"Horeke School\": {\"cc\": false}, \"Waimauku School\": {\"cc\": false}, \"Rangiriri School\": {\"cc\": false}, \"Thornton School\": {\"cc\": false}, \"Te Puru School\": {\"cc\": false}, \"Morrinsville Intermediate\": {\"cc\": false}, \"Waimate High School\": {\"cc\": false}, \"Wymondley Road School\": {\"cc\": false}, \"Rangitoto College\": {\"cc\": false}, \"Roseneath School\": {\"cc\": false}, \"West Gore School\": {\"cc\": false}, \"Onslow College\": {\"cc\": false}, \"Opunake High School\": {\"cc\": false}, \"Hawera Christian School\": {\"cc\": false}, \"Taradale High School\": {\"cc\": false}, \"Bailey Road School\": {\"cc\": false}, \"Lake Rerewhakaaitu School\": {\"cc\": false}, \"Hereworth School\": {\"cc\": false}, \"Palmerston North Boys\\' High School\": {\"cc\": false}, \"Ruawaro Combined School\": {\"cc\": false}, \"Bluff School\": {\"cc\": false}, \"Totara Grove School\": {\"cc\": false}, \"Waimate Main School\": {\"cc\": false}, \"Hamilton North School\": {\"cc\": false}, \"Limehills School\": {\"cc\": false}, \"Brightwater School\": {\"cc\": false}, \"Glenfield College\": {\"cc\": false}, \"Northland College Teen Parent Unit (Proposed open date: 01JAN2016 )\": {\"cc\": false}, \"Riverlands School\": {\"cc\": false}, \"Riccarton High School\": {\"cc\": false}, \"Paparoa Street School\": {\"cc\": false}, \"St Joseph\\'s School (Orakei)\": {\"cc\": false}, \"Glenbrook School\": {\"cc\": false}, \"TKKM o Harataunga\": {\"cc\": false}, \"Rangiwaea School\": {\"cc\": false}, \"Oxford Area School\": {\"cc\": false}, \"St Hildas Collegiate\": {\"cc\": false}, \"Murrays Bay School\": {\"cc\": false}, \"Wakatipu High School\": {\"cc\": false}, \"Pekerau School\": {\"cc\": false}, \"St Canice\\'s School (Westport)\": {\"cc\": false}, \"Adventure School\": {\"cc\": false}, \"Waiheke High School\": {\"cc\": false}, \"Ashbrook School\": {\"cc\": false}, \"Nelson Teen Parent Unit\": {\"cc\": false}, \"Holy Cross School (Papatoetoe)\": {\"cc\": false}, \"St Bedes College\": {\"cc\": false}, \"Te Kauwhata Primary School\": {\"cc\": false}, \"Ruahine School\": {\"cc\": false}, \"Te Kura Kaupapa Maori o Taumarunui\": {\"cc\": false}, \"Ngaio School\": {\"cc\": false}, \"Ruawai College\": {\"cc\": false}, \"Christchurch Girls\\' High School\": {\"cc\": false}, \"Glenavy School\": {\"cc\": false}, \"Iona College\": {\"cc\": false}, \"Waihi Central School\": {\"cc\": false}, \"Rawhiti School\": {\"cc\": false}, \"Fraser High School\": {\"cc\": false}, \"Highfield School\": {\"cc\": false}, \"Faith City School\": {\"cc\": false}, \"Te Kura o Kokohuia\": {\"cc\": false}, \"Mangaorapa School\": {\"cc\": false}, \"TKKM o Hurungaterangi\": {\"cc\": false}, \"Marian College\": {\"cc\": false}, \"Raukokore School\": {\"cc\": false}, \"Kia Aroha College\": {\"cc\": false}, \"Howick Primary School\": {\"cc\": false}, \"Papamoa Primary School\": {\"cc\": false}, \"Maungakaramea School\": {\"cc\": false}, \"Tuturau Primary School\": {\"cc\": false}, \"Murupara Area School\": {\"cc\": false}, \"Ngakuru School\": {\"cc\": false}, \"Waltham School\": {\"cc\": false}, \"The Bridge Academy\": {\"cc\": false}, \"Dannevirke South School\": {\"cc\": false}, \"Golden Bay High School\": {\"cc\": false}, \"Palmerston North Girls\\' High School\": {\"cc\": false}, \"Beckenham School\": {\"cc\": false}, \"Westmere School (Auckland)\": {\"cc\": false}, \"Fairhaven School (Napier)\": {\"cc\": false}, \"Glen Eden School\": {\"cc\": false}, \"Christchurch East School\": {\"cc\": false}, \"Broomfield School\": {\"cc\": false}, \"Glen Innes School\": {\"cc\": false}, \"Taumarunui High School\": {\"cc\": false}, \"Te Wharau School (Gisborne)\": {\"cc\": false}, \"Matatoki School\": {\"cc\": false}, \"Verdon College\": {\"cc\": false}, \"Templeton School\": {\"cc\": false}, \"Mt Hobson Middle School\": {\"cc\": false}, \"Cobden School\": {\"cc\": false}, \"St Joseph\\'s Catholic School (Paeroa)\": {\"cc\": false}, \"Berkley Normal Middle School\": {\"cc\": false}, \"Waikari School\": {\"cc\": false}, \"Kingslea School\": {\"cc\": false}, \"Heretaunga College\": {\"cc\": false}, \"Te Kura Maori o Porirua\": {\"cc\": false}, \"St Mary\\'s School (Northcote)\": {\"cc\": false}, \"St Joseph\\'s Catholic Sch (Morrinsville)\": {\"cc\": false}, \"Ashburton Netherby School\": {\"cc\": false}, \"Glendowie College\": {\"cc\": false}, \"Wilson School\": {\"cc\": false}, \"Maraenui Bilingual School (Napier)\": {\"cc\": false}, \"Port Chalmers School\": {\"cc\": false}, \"Mansell Senior School\": {\"cc\": false}, \"Christ the King Catholic School (Owairaka)\": {\"cc\": false}, \"Saint Kentigern Girls\\' School\": {\"cc\": false}, \"Fairton School\": {\"cc\": false}, \"Kaitoke School (Wanganui)\": {\"cc\": false}, \"Sancta Maria College\": {\"cc\": false}, \"Matipo Road School\": {\"cc\": false}, \"Whakatane Intermediate\": {\"cc\": false}, \"Central Normal School\": {\"cc\": false}, \"Medbury Preparatory School\": {\"cc\": false}, \"Woodford House\": {\"cc\": false}, \"Matakohe School\": {\"cc\": false}, \"Tapanui School\": {\"cc\": false}, \"ACG Sunderland\": {\"cc\": false}, \"Colville School\": {\"cc\": false}, \"Ruakituri School\": {\"cc\": false}, \"Clinton School\": {\"cc\": false}, \"St Patrick\\'s School (Bryndwr)\": {\"cc\": false}, \"Aorere College\": {\"cc\": false}, \"Whananaki School\": {\"cc\": false}, \"Havelock North Primary School\": {\"cc\": false}, \"Keith Street School\": {\"cc\": false}, \"Ohau School\": {\"cc\": false}, \"St Patrick\\'s Catholic School (Taupo)\": {\"cc\": false}, \"Te Kapehu Whetu - Teina\": {\"cc\": false}, \"Bainesse School\": {\"cc\": false}, \"Huia Range School\": {\"cc\": false}, \"Lakeview School\": {\"cc\": false}, \"Twyford School\": {\"cc\": false}, \"Balaclava School\": {\"cc\": false}, \"Naenae School\": {\"cc\": false}, \"Wharepapa South School\": {\"cc\": false}, \"Kaponga School\": {\"cc\": false}, \"Westmount School\": {\"cc\": false}, \"Ferndale School (Christchurch)\": {\"cc\": false}, \"Kilbirnie School\": {\"cc\": false}, \"Western Heights School (Auckland)\": {\"cc\": false}, \"Oaklynn Special School\": {\"cc\": false}, \"Morrinsville School\": {\"cc\": false}, \"Sacred Heart College (Auckland)\": {\"cc\": false}, \"Onewhero Area School\": {\"cc\": false}, \"Wainoni School\": {\"cc\": false}, \"TKKM o Te Waiu o Ngati Porou\": {\"cc\": false}, \"Matauri Bay School\": {\"cc\": false}, \"TKKM o Te Kura Kokiri\": {\"cc\": false}, \"Te Mahia School\": {\"cc\": false}, \"TKKM o Ngaringaomatariki\": {\"cc\": false}, \"Whakatipuria Teen Parent Unit\": {\"cc\": false}, \"Greerton Village School\": {\"cc\": false}, \"Mountain View School\": {\"cc\": false}, \"Matamata College\": {\"cc\": false}, \"Bamford School\": {\"cc\": false}, \"Moanataiari School\": {\"cc\": false}, \"Hutt Intermediate\": {\"cc\": false}, \"Elim Christian College\": {\"cc\": false}, \"Epsom Normal School\": {\"cc\": false}, \"St Joseph\\'s Catholic School (Te Aroha)\": {\"cc\": false}, \"Otaki College\": {\"cc\": false}, \"South Featherston School\": {\"cc\": false}, \"Belmont School (Lower Hutt)\": {\"cc\": false}, \"Otago Boys\\' High School\": {\"cc\": false}, \"Murrays Bay Intermediate\": {\"cc\": false}, \"Dargaville Intermediate\": {\"cc\": false}, \"Rotorua Girls\\' High School\": {\"cc\": false}, \"Mahurangi College\": {\"cc\": false}, \"Patricia Avenue School\": {\"cc\": false}, \"Newmarket School\": {\"cc\": false}, \"Hikuai School\": {\"cc\": false}, \"Sefton School\": {\"cc\": false}, \"Manakau School\": {\"cc\": false}, \"Worser Bay School\": {\"cc\": false}, \"Te Awa School\": {\"cc\": false}, \"Makara Model School\": {\"cc\": false}, \"Laingholm School\": {\"cc\": false}, \"Te Aroha College\": {\"cc\": false}, \"Tokoiti School\": {\"cc\": false}, \"Point View School\": {\"cc\": false}, \"Windy Ridge School\": {\"cc\": false}, \"William Colenso College\": {\"cc\": false}, \"Silverstream School\": {\"cc\": false}, \"Te Kura o Te Teko\": {\"cc\": false}, \"Pukeatua Primary School (Wainuiomata)\": {\"cc\": false}, \"Waioneke School\": {\"cc\": false}, \"New Brighton Catholic School (Chch)\": {\"cc\": false}, \"James Street School\": {\"cc\": false}, \"Richmond View School\": {\"cc\": false}, \"Waimairi School\": {\"cc\": false}, \"Te Wharekura o Te Kaokaoroa o Patetere\": {\"cc\": false}, \"Mahinawa Specialist School and Resource Centre\": {\"cc\": false}, \"Panmure District School\": {\"cc\": false}, \"Waitakere S D A School\": {\"cc\": false}, \"Henderson South School\": {\"cc\": false}, \"Melville High School\": {\"cc\": false}, \"Central Southland College\": {\"cc\": false}, \"Pokeno School\": {\"cc\": false}, \"Kaipaki School\": {\"cc\": false}, \"Taita Central School\": {\"cc\": false}, \"Rongotea School\": {\"cc\": false}, \"TKKM o Hoani Waititi\": {\"cc\": false}, \"St Bernard\\'s College\": {\"cc\": false}, \"Bucklands Beach Primary School\": {\"cc\": false}, \"Timaru Boys\\' High School\": {\"cc\": false}, \"TKKM o Te Ara Rima\": {\"cc\": false}, \"Putorino School\": {\"cc\": false}, \"Waipawa School\": {\"cc\": false}, \"Cornerstone Christian School\": {\"cc\": false}, \"Carncot Independent School\": {\"cc\": false}, \"Park Estate School\": {\"cc\": false}, \"Levin School\": {\"cc\": false}, \"Woodlands School (Opotiki)\": {\"cc\": false}, \"Woodville School\": {\"cc\": false}, \"Clendon Park School\": {\"cc\": false}, \"Te Puke Primary School\": {\"cc\": false}, \"Hauraki School\": {\"cc\": false}, \"Waitaki Boys\\' High School\": {\"cc\": false}, \"Te Pahu School\": {\"cc\": false}, \"Dovedale School\": {\"cc\": false}, \"Rongomai School\": {\"cc\": false}, \"Reporoa School\": {\"cc\": false}, \"Casebrook Intermediate\": {\"cc\": false}, \"Ruapotaka School\": {\"cc\": false}, \"Okoia School\": {\"cc\": false}, \"Dairy Flat School\": {\"cc\": false}, \"Matakana School\": {\"cc\": false}, \"Pakowhai School\": {\"cc\": false}, \"Bruce McLaren Intermediate\": {\"cc\": false}, \"Hampden School\": {\"cc\": false}, \"Pukekohe Hill School\": {\"cc\": false}, \"Prebbleton School\": {\"cc\": false}, \"Howick College\": {\"cc\": false}, \"Rahotu School\": {\"cc\": false}, \"Fenwick School\": {\"cc\": false}, \"Westburn School\": {\"cc\": false}, \"Dunedin North Intermediate\": {\"cc\": false}, \"Sherwood School (Auckland)\": {\"cc\": false}, \"Tawhero School\": {\"cc\": false}, \"TKKM o Otara\": {\"cc\": false}, \"Makahu School\": {\"cc\": false}, \"Maranatha Christian School\": {\"cc\": false}, \"Edmonton School\": {\"cc\": false}, \"Milson School\": {\"cc\": false}, \"Sanson School\": {\"cc\": false}, \"Rosehill College\": {\"cc\": false}, \"Apanui School\": {\"cc\": false}, \"Royal Road School\": {\"cc\": false}, \"Kopane School\": {\"cc\": false}, \"Halswell Residential College\": {\"cc\": false}, \"Linkwater School\": {\"cc\": false}, \"Longburn Adventist College\": {\"cc\": false}, \"Rewa Rewa School\": {\"cc\": false}, \"Target Road School\": {\"cc\": false}, \"Whakatane S D A School\": {\"cc\": false}, \"St Clair School\": {\"cc\": false}, \"Moturoa School\": {\"cc\": false}, \"Avondale Primary School (Auckland)\": {\"cc\": false}, \"St Michael\\'s Church School\": {\"cc\": false}, \"Sunnyvale School\": {\"cc\": false}, \"Papatawa School\": {\"cc\": false}, \"Kaiti School\": {\"cc\": false}, \"Foxton Beach School\": {\"cc\": false}, \"Rotorua School for Young Parents\": {\"cc\": false}, \"Mairehau High School\": {\"cc\": false}, \"Long Bay College\": {\"cc\": false}, \"Paremata School\": {\"cc\": false}, \"Scots College\": {\"cc\": false}, \"George Street Normal School\": {\"cc\": false}, \"Waiheke Primary School\": {\"cc\": false}, \"Linwood Avenue School\": {\"cc\": false}, \"Trentham School\": {\"cc\": false}, \"Kelburn Normal School\": {\"cc\": false}, \"Lincoln Primary School\": {\"cc\": false}, \"Linden School\": {\"cc\": false}, \"Riverhills School\": {\"cc\": false}, \"St Peter Chanel School (Otaki)\": {\"cc\": false}, \"Upper Harbour Primary School\": {\"cc\": false}, \"Oaklands School\": {\"cc\": false}, \"Southbridge School\": {\"cc\": false}, \"Bombay School\": {\"cc\": false}, \"Paerata School\": {\"cc\": false}, \"Karetu School\": {\"cc\": false}, \"Roscommon School\": {\"cc\": false}, \"Maidstone Intermediate\": {\"cc\": false}, \"Rowandale School\": {\"cc\": false}, \"TKKM o Whangaroa\": {\"cc\": false}, \"TKKM o Tamaki Nui A Rua\": {\"cc\": false}, \"Auckland Girls\\' Grammar School\": {\"cc\": false}, \"Ohinewai School\": {\"cc\": false}, \"St Mary\\'s Catholic School (Tauranga)\": {\"cc\": false}, \"Rongotai College\": {\"cc\": false}, \"Arakura School\": {\"cc\": false}, \"Ormiston Primary School\": {\"cc\": false}, \"Pokuru School\": {\"cc\": false}, \"Hillside Primary School\": {\"cc\": false}, \"Glenfield Intermediate\": {\"cc\": false}, \"Kairanga School\": {\"cc\": false}, \"Ngata Memorial College\": {\"cc\": false}, \"TKKM o Otepou\": {\"cc\": false}, \"Western Heights Primary School (Rotorua)\": {\"cc\": false}, \"Ahipara School\": {\"cc\": false}, \"Te Kura Mana Maori o Whangaparaoa\": {\"cc\": false}, \"TKKM o Mangatuna\": {\"cc\": false}, \"Bledisloe School\": {\"cc\": false}, \"Rototuna Primary School\": {\"cc\": false}, \"Ngatea School\": {\"cc\": false}, \"Okains Bay School\": {\"cc\": false}, \"Berhampore School\": {\"cc\": false}, \"Gilberthorpe School\": {\"cc\": false}, \"Chilton St James School\": {\"cc\": false}, \"Cobham School\": {\"cc\": false}, \"Ilam School\": {\"cc\": false}, \"Kaimai School\": {\"cc\": false}, \"Woodstock School\": {\"cc\": false}, \"Titahi Bay North School\": {\"cc\": false}, \"Oturu School\": {\"cc\": false}, \"Waitaki Valley School\": {\"cc\": false}, \"Sacred Heart Girls\\' College (Ham)\": {\"cc\": false}, \"Weedons School\": {\"cc\": false}, \"Owairoa School\": {\"cc\": false}, \"Chertsey School\": {\"cc\": false}, \"Chisnallwood Intermediate\": {\"cc\": false}, \"Ngati Haua School\": {\"cc\": false}, \"Glen Eden Intermediate\": {\"cc\": false}, \"Te Horo School (Otaki)\": {\"cc\": false}, \"ACG Tauranga\": {\"cc\": false}, \"Taitoko School\": {\"cc\": false}, \"Tatuanui School\": {\"cc\": false}, \"St Bernadette\\'s School (Naenae)\": {\"cc\": false}, \"Waihi College\": {\"cc\": false}, \"Opoho School\": {\"cc\": false}, \"Kimbolton School\": {\"cc\": false}, \"Melville Intermediate\": {\"cc\": false}, \"Waverley Park School\": {\"cc\": false}, \"Tiniroto School\": {\"cc\": false}, \"Good Shepherd School (Balmoral)\": {\"cc\": false}, \"Wadestown School\": {\"cc\": false}, \"TKKM o Tamarongo\": {\"cc\": false}, \"Whitikahu School\": {\"cc\": false}, \"Omarumutu School\": {\"cc\": false}, \"Long Bay School\": {\"cc\": false}, \"Goldfields School (Cromwell)\": {\"cc\": false}, \"Excellere College\": {\"cc\": false}, \"Arohena School\": {\"cc\": false}, \"Wellington High School and Com Ed Centre\": {\"cc\": false}, \"Liberton Christian School\": {\"cc\": false}, \"Arohanui Special School\": {\"cc\": false}, \"Opihi College\": {\"cc\": false}, \"Wairau Valley School\": {\"cc\": false}, \"Ramarama School\": {\"cc\": false}, \"Horsham Downs School\": {\"cc\": false}, \"Waimana School\": {\"cc\": false}, \"Matangi School\": {\"cc\": false}, \"Gorge Road School\": {\"cc\": false}, \"Broadgreen Intermediate\": {\"cc\": false}, \"Terrace End School\": {\"cc\": false}, \"Ouruhia Model School\": {\"cc\": false}, \"Okiwi School\": {\"cc\": false}, \"Merrilands School\": {\"cc\": false}, \"Maromaku School\": {\"cc\": false}, \"Alfriston College\": {\"cc\": false}, \"Parkland School (P North)\": {\"cc\": false}, \"Tuturumuri School\": {\"cc\": false}, \"Papanui Junction School\": {\"cc\": false}, \"Lindisfarne College\": {\"cc\": false}, \"Otumoetai College\": {\"cc\": false}, \"Green Bay Primary School\": {\"cc\": false}, \"Lake Brunner School\": {\"cc\": false}, \"Ambury Park Centre for Riding Therapy\": {\"cc\": false}, \"Trident High School\": {\"cc\": false}, \"Marlborough School\": {\"cc\": false}, \"Lake Rotoiti School\": {\"cc\": false}, \"Awahono School - Grey Valley\": {\"cc\": false}, \"Paparoa School\": {\"cc\": false}, \"Kuratau School\": {\"cc\": false}, \"St Joseph\\'s Catholic School (Takapuna)\": {\"cc\": false}, \"Mairangi Bay School\": {\"cc\": false}, \"Hampton Hill School\": {\"cc\": false}, \"St Joseph\\'s School (Onehunga)\": {\"cc\": false}, \"Pompallier Catholic School\": {\"cc\": false}, \"South Auckland Middle School\": {\"cc\": false}, \"Matata School\": {\"cc\": false}, \"Petone Central School\": {\"cc\": false}, \"Ashgrove School\": {\"cc\": false}, \"Pukepoto School\": {\"cc\": false}, \"Yendarra School\": {\"cc\": false}, \"Rotorua S D A School\": {\"cc\": false}, \"Winchester Rural School\": {\"cc\": false}, \"Pomaria Road School\": {\"cc\": false}, \"TKKM o Waitaha\": {\"cc\": false}, \"Tauriko School\": {\"cc\": false}, \"Maniototo Area School\": {\"cc\": false}, \"Royal Oak School\": {\"cc\": false}, \"Christchurch Adventist School\": {\"cc\": false}, \"Evans Bay Intermediate\": {\"cc\": false}, \"Westmere School (Wanganui)\": {\"cc\": false}, \"Kaurilands School\": {\"cc\": false}, \"Te Hihi School\": {\"cc\": false}, \"Tongariro School\": {\"cc\": false}, \"St Andrew\\'s College (Christchurch)\": {\"cc\": false}, \"Poroti School\": {\"cc\": false}, \"Linton Camp School\": {\"cc\": false}, \"Merrin School\": {\"cc\": false}, \"Waiharara School\": {\"cc\": false}, \"Mataroa School\": {\"cc\": false}, \"Ferguson Intermediate (Otara)\": {\"cc\": false}, \"Immanuel Christian School\": {\"cc\": false}, \"St Joseph\\'s School (Patea)\": {\"cc\": false}, \"Otewa School\": {\"cc\": false}, \"Kahutara School\": {\"cc\": false}, \"Omihi School\": {\"cc\": false}, \"Ngatapa School\": {\"cc\": false}, \"Te Hapara School\": {\"cc\": false}, \"Te Wharekura o Manurewa\": {\"cc\": false}, \"Manurewa High School\": {\"cc\": false}, \"Manutuke School\": {\"cc\": false}, \"Deanwell School\": {\"cc\": false}, \"Waikino School\": {\"cc\": false}, \"Oranga School\": {\"cc\": false}, \"TKKM o Tupoho\": {\"cc\": false}, \"South New Brighton School\": {\"cc\": false}, \"Ramanui School\": {\"cc\": false}, \"Mangamahu Primary School\": {\"cc\": false}, \"Ellesmere College\": {\"cc\": false}, \"Mountview School\": {\"cc\": false}, \"Kakanui School\": {\"cc\": false}, \"Musselburgh School\": {\"cc\": false}, \"Te Huruhi School\": {\"cc\": false}, \"St Anthony\\'s School (Seatoun)\": {\"cc\": false}, \"Matiere School\": {\"cc\": false}, \"Franz Josef Glacier School\": {\"cc\": false}, \"Papakura Normal School\": {\"cc\": false}, \"South Otago High School\": {\"cc\": false}, \"Koputaroa School\": {\"cc\": false}, \"Newfield Park School\": {\"cc\": false}, \"Fernlea School\": {\"cc\": false}, \"Pakuranga Intermediate\": {\"cc\": false}, \"Waikaia School\": {\"cc\": false}, \"Wairau Valley School (Blenheim)\": {\"cc\": false}, \"Greenpark School (Tauranga)\": {\"cc\": false}, \"Lumsden School\": {\"cc\": false}, \"Ormond School\": {\"cc\": false}, \"Pegasus Bay School\": {\"cc\": false}, \"Woodlands Park School\": {\"cc\": false}, \"Tinwald School\": {\"cc\": false}, \"Lauriston School\": {\"cc\": false}, \"Sunset Primary School\": {\"cc\": false}, \"Tisbury School\": {\"cc\": false}, \"Marewa School\": {\"cc\": false}, \"Spreydon School\": {\"cc\": false}, \"Postgate School\": {\"cc\": false}, \"Takanini School\": {\"cc\": false}, \"Willow Park School\": {\"cc\": false}, \"Our Lady of Snows School (Methven)\": {\"cc\": false}, \"Waverley Primary School\": {\"cc\": false}, \"Glenham School\": {\"cc\": false}, \"Takitimu Primary School\": {\"cc\": false}, \"Flaxmere Primary School\": {\"cc\": false}, \"St Peter\\'s College (Palmerston North)\": {\"cc\": false}, \"Awahou School\": {\"cc\": false}, \"St Joseph\\'s School (Nelson)\": {\"cc\": false}, \"Hornby Primary School\": {\"cc\": false}, \"Witherlea School\": {\"cc\": false}, \"Henderson - Teen Parent Unit - He Wero o nga Wahine\": {\"cc\": false}, \"Matamata Primary School\": {\"cc\": false}, \"St Teresa\\'s School (Featherston)\": {\"cc\": false}, \"Onehunga Primary School\": {\"cc\": false}, \"Kedgley Intermediate\": {\"cc\": false}, \"Hora Hora School (Te Mai)\": {\"cc\": false}, \"Tapora School\": {\"cc\": false}, \"Newlands Intermediate\": {\"cc\": false}, \"Whangaruru School\": {\"cc\": false}, \"Ohuka School\": {\"cc\": false}, \"Wainui School\": {\"cc\": false}, \"Crawshaw School\": {\"cc\": false}, \"Hanmer Springs School\": {\"cc\": false}, \"St Mary\\'s Catholic School (Otorohanga)\": {\"cc\": false}, \"Weymouth School\": {\"cc\": false}, \"Kokatahi-Kowhitirangi School\": {\"cc\": false}, \"Te Karaka Area School\": {\"cc\": false}, \"St Patrick\\'s College (Kilbirnie)\": {\"cc\": false}, \"Mission Heights Primary School\": {\"cc\": false}, \"Roslyn School\": {\"cc\": false}, \"East Tamaki School\": {\"cc\": false}, \"Bayview School\": {\"cc\": false}, \"Ohaupo School\": {\"cc\": false}, \"St Bernadette\\'s School (Forbury)\": {\"cc\": false}, \"Mayfield School (Blenheim)\": {\"cc\": false}, \"St Anthony\\'s School (Pahiatua)\": {\"cc\": false}, \"Eden Christian Academy\": {\"cc\": false}, \"Kaipara College\": {\"cc\": false}, \"Putere School\": {\"cc\": false}, \"Wesley Intermediate\": {\"cc\": false}, \"Otaika Valley School\": {\"cc\": false}, \"Shannon School\": {\"cc\": false}, \"Hato Paora College\": {\"cc\": false}, \"Thornbury School\": {\"cc\": false}, \"Parkview School\": {\"cc\": false}, \"North East Valley Normal School\": {\"cc\": false}, \"Omarama School\": {\"cc\": false}, \"Kuranui College\": {\"cc\": false}, \"St Joseph\\'s School (Port Chalmers)\": {\"cc\": false}, \"Maungatapu School\": {\"cc\": false}, \"Ngatimoti School\": {\"cc\": false}, \"Argyll East School\": {\"cc\": false}, \"Manukorihi Intermediate\": {\"cc\": false}, \"Otautau School\": {\"cc\": false}, \"Manurewa Central School\": {\"cc\": false}, \"Tamaki College\": {\"cc\": false}, \"Ardgowan School\": {\"cc\": false}, \"Wakefield School\": {\"cc\": false}, \"Patutahi School\": {\"cc\": false}, \"Aberdeen School\": {\"cc\": false}, \"Bell Block School\": {\"cc\": false}, \"New Plymouth Girls\\' High School\": {\"cc\": false}}'"
      ]
     },
     "execution_count": 153,
     "metadata": {},
     "output_type": "execute_result"
    }
   ],
   "source": [
    "empdum"
   ]
  },
  {
   "cell_type": "code",
   "execution_count": 157,
   "metadata": {
    "collapsed": false
   },
   "outputs": [],
   "source": [
    "savjfin = open('/home/wcmckee/ccschool/nocc.json', 'w')\n",
    "savjfin.write(empdum)\n",
    "savjfin.close()"
   ]
  },
  {
   "cell_type": "code",
   "execution_count": 158,
   "metadata": {
    "collapsed": true
   },
   "outputs": [],
   "source": [
    "savtru = open('/home/wcmckee/ccschool/cctru.json', 'w')\n",
    "savtru.write(sstru)\n",
    "savtru.close()"
   ]
  },
  {
   "cell_type": "code",
   "execution_count": 148,
   "metadata": {
    "collapsed": false
   },
   "outputs": [],
   "source": [
    "#for naj in najsa.values():\n",
    "    #print (naj)\n",
    "#    for schk in schccd.keys():\n",
    "        #print(schk)\n",
    "#        allschlis.append(schk)"
   ]
  },
  {
   "cell_type": "code",
   "execution_count": 149,
   "metadata": {
    "collapsed": false
   },
   "outputs": [],
   "source": [
    "#for i in ccschz[:]:\n",
    "#    if i in allschlis:\n",
    "#        ccschz.remove(i)\n",
    "#        allschlis.remove(i)"
   ]
  },
  {
   "cell_type": "code",
   "execution_count": 150,
   "metadata": {
    "collapsed": false
   },
   "outputs": [],
   "source": [
    "#Cycle though some schools rather than everything. \n",
    "#Cycle though all schools and find schools that have cc \n",
    "#for naj in range(2543):\n",
    "    #print(najsa[str(naj)])\n",
    "#    for schk in schccd.keys():\n",
    "#        if schk in (najsa[str(naj)]):\n",
    "            #Remove these schools from the list\n",
    "#            print (schk)\n",
    "            "
   ]
  },
  {
   "cell_type": "code",
   "execution_count": null,
   "metadata": {
    "collapsed": true
   },
   "outputs": [],
   "source": []
  },
  {
   "cell_type": "code",
   "execution_count": null,
   "metadata": {
    "collapsed": true
   },
   "outputs": [],
   "source": []
  }
 ],
 "metadata": {
  "kernelspec": {
   "display_name": "Python 3",
   "language": "python",
   "name": "python3"
  },
  "language_info": {
   "codemirror_mode": {
    "name": "ipython",
    "version": 3
   },
   "file_extension": ".py",
   "mimetype": "text/x-python",
   "name": "python",
   "nbconvert_exporter": "python",
   "pygments_lexer": "ipython3",
   "version": "3.4.2"
  }
 },
 "nbformat": 4,
 "nbformat_minor": 0
}
