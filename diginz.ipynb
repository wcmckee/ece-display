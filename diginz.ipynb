{
 "cells": [
  {
   "cell_type": "code",
   "execution_count": 1,
   "metadata": {
    "collapsed": true
   },
   "outputs": [],
   "source": [
    "import requests\n",
    "import json\n",
    "from time import gmtime, strftime\n",
    "import shutil"
   ]
  },
  {
   "cell_type": "markdown",
   "metadata": {},
   "source": [
    "Enter a keyword and searches for digitalnzcontent. \n",
    "\n",
    "Filter out gifs, remixing. \n",
    "\n",
    "put digital nz location image "
   ]
  },
  {
   "cell_type": "code",
   "execution_count": 2,
   "metadata": {
    "collapsed": false
   },
   "outputs": [
    {
     "name": "stdout",
     "output_type": "stream",
     "text": [
      "dnz keyword: johnston\n"
     ]
    }
   ],
   "source": [
    "keywodsea = input('dnz keyword: ')"
   ]
  },
  {
   "cell_type": "code",
   "execution_count": 3,
   "metadata": {
    "collapsed": true
   },
   "outputs": [],
   "source": [
    "from dominate.tags import *\n",
    "import dominate"
   ]
  },
  {
   "cell_type": "code",
   "execution_count": 4,
   "metadata": {
    "collapsed": true
   },
   "outputs": [],
   "source": [
    "opdigke = open('/home/wcmckee/Downloads/digital.txt', 'r')\n",
    "oprdz = opdigke.read()\n",
    "opstrip = oprdz.strip('\\n')\n",
    "opdigke.close()"
   ]
  },
  {
   "cell_type": "code",
   "execution_count": 5,
   "metadata": {
    "collapsed": true
   },
   "outputs": [],
   "source": [
    "opets = open('/home/wcmckee/github/wcmckee.com/output/minedujobs/index.json', 'r')"
   ]
  },
  {
   "cell_type": "code",
   "execution_count": 6,
   "metadata": {
    "collapsed": false
   },
   "outputs": [],
   "source": [
    "oprdz = opets.read()"
   ]
  },
  {
   "cell_type": "code",
   "execution_count": 7,
   "metadata": {
    "collapsed": false
   },
   "outputs": [],
   "source": [
    "lenciv = len(json.loads(oprdz))"
   ]
  },
  {
   "cell_type": "code",
   "execution_count": 8,
   "metadata": {
    "collapsed": false
   },
   "outputs": [
    {
     "data": {
      "text/plain": [
       "15"
      ]
     },
     "execution_count": 8,
     "metadata": {},
     "output_type": "execute_result"
    }
   ],
   "source": [
    "lenciv"
   ]
  },
  {
   "cell_type": "code",
   "execution_count": 9,
   "metadata": {
    "collapsed": true
   },
   "outputs": [],
   "source": [
    "loorgin = list()"
   ]
  },
  {
   "cell_type": "code",
   "execution_count": 10,
   "metadata": {
    "collapsed": false
   },
   "outputs": [
    {
     "name": "stdout",
     "output_type": "stream",
     "text": [
      "Wellington\n",
      "Wellington\n",
      "Auckland\n",
      "Auckland\n",
      "Canterbury\n",
      "Auckland\n",
      "Wellington\n",
      "Auckland\n",
      "Wellington\n",
      "Manawatu\n",
      "Canterbury\n",
      "Hamilton\n",
      "Hamilton\n",
      "Wellington\n",
      "Nelson - Marlborough\n"
     ]
    }
   ],
   "source": [
    "for lenves in range(0, lenciv):\n",
    "    print(json.loads(oprdz)[str(lenves)]['Location'])\n",
    "    loorgin.append((json.loads(oprdz)[str(lenves)]['Location']))"
   ]
  },
  {
   "cell_type": "code",
   "execution_count": 11,
   "metadata": {
    "collapsed": false
   },
   "outputs": [
    {
     "name": "stdout",
     "output_type": "stream",
     "text": [
      "Auckland\n",
      "20\n",
      "Hamilton\n",
      "20\n",
      "Wellington\n",
      "20\n",
      "Nelson - Marlborough\n",
      "20\n",
      "Manawatu\n",
      "20\n",
      "Canterbury\n",
      "20\n"
     ]
    }
   ],
   "source": [
    "for looset in set(loorgin):\n",
    "    print(looset)\n",
    "    apidig = ('http://api.digitalnz.org/v3/records.json?api_key=' + opstrip + '&and[category]=Images&and[is_commercial_use]=True&text=' + looset)\n",
    "    reqseapi = requests.get(apidig)\n",
    "    \n",
    "    #print(reqapi.text)\n",
    "    lenresu = len(json.loads(reqseapi.text)['search']['results'])\n",
    "    print(lenresu)\n",
    "    "
   ]
  },
  {
   "cell_type": "code",
   "execution_count": null,
   "metadata": {
    "collapsed": true
   },
   "outputs": [],
   "source": []
  },
  {
   "cell_type": "code",
   "execution_count": 12,
   "metadata": {
    "collapsed": true
   },
   "outputs": [],
   "source": [
    "apidig = ('http://api.digitalnz.org/v3/records.json?api_key=' + opstrip + '&and[category]=Images&and[is_commercial_use]=True&text=' + keywodsea)"
   ]
  },
  {
   "cell_type": "code",
   "execution_count": 13,
   "metadata": {
    "collapsed": false
   },
   "outputs": [],
   "source": [
    "#Error from this\n",
    "\n",
    "#for lenves in range(0, lenciv):\n",
    "#    print(json.loads(oprdz)[str(lenves)]['Location'])\n",
    "#    print(('http://api.digitalnz.org/v3/records.json?api_key=' + opstrip + '&and[is_commercial_use]=True&text=' + (json.loads(oprdz)[str(lenves)]['Location'])))\n",
    "    \n",
    "#    reqapi = requests.get(apidig)\n",
    "    \n",
    "    #print(reqapi.text)\n",
    "#    print(json.loads(reqapi.text)['search']['results'])"
   ]
  },
  {
   "cell_type": "code",
   "execution_count": null,
   "metadata": {
    "collapsed": true
   },
   "outputs": [],
   "source": []
  },
  {
   "cell_type": "code",
   "execution_count": null,
   "metadata": {
    "collapsed": true
   },
   "outputs": [],
   "source": []
  },
  {
   "cell_type": "code",
   "execution_count": 14,
   "metadata": {
    "collapsed": false
   },
   "outputs": [],
   "source": [
    "reqapi = requests.get(apidig)"
   ]
  },
  {
   "cell_type": "code",
   "execution_count": 15,
   "metadata": {
    "collapsed": false
   },
   "outputs": [
    {
     "data": {
      "text/plain": [
       "'http://collections.tepapa.govt.nz/object/353623'"
      ]
     },
     "execution_count": 15,
     "metadata": {},
     "output_type": "execute_result"
    }
   ],
   "source": [
    "json.loads(reqapi.text)['search']['results'][0]['landing_url']"
   ]
  },
  {
   "cell_type": "code",
   "execution_count": 16,
   "metadata": {
    "collapsed": false
   },
   "outputs": [],
   "source": [
    "lenres = json.loads(reqapi.text)['search']['results']"
   ]
  },
  {
   "cell_type": "code",
   "execution_count": 17,
   "metadata": {
    "collapsed": false
   },
   "outputs": [],
   "source": [
    "rele = len(lenres)"
   ]
  },
  {
   "cell_type": "code",
   "execution_count": 18,
   "metadata": {
    "collapsed": true
   },
   "outputs": [],
   "source": [
    "gifstrz = list()"
   ]
  },
  {
   "cell_type": "code",
   "execution_count": 19,
   "metadata": {
    "collapsed": false
   },
   "outputs": [
    {
     "name": "stdout",
     "output_type": "stream",
     "text": [
      "0\n",
      "Johnston\n",
      "Museum of New Zealand Te Papa Tongarewa\n",
      "2012-04-20T17:23:20.000+12:00\n",
      "No known copyright restrictions\n",
      "http://api.digitalnz.org/records/181503/source\n",
      "http://collections.tepapa.govt.nz/APICollection/media/53080/250\n",
      "['Images']\n",
      "Te Papa Collections Online\n",
      "1\n",
      "Johnston\n",
      "Museum of New Zealand Te Papa Tongarewa\n",
      "2013-05-15T04:40:27.940+12:00\n",
      "No known copyright restrictions\n",
      "http://api.digitalnz.org/records/31947194/source\n",
      "http://collections.tepapa.govt.nz/APICollection/media/312323/250\n",
      "['Images']\n",
      "Te Papa Collections Online\n",
      "2\n",
      "Johnston\n",
      "Nelson Provincial Museum\n",
      "2015-07-04T01:22:16.019+12:00\n",
      "None\n",
      "http://api.digitalnz.org/records/36070227/source\n",
      "http://collection.nelsonmuseum.co.nz/images/thumbs/photography/tyree%20studio/17529.jpg\n",
      "['Images']\n",
      "Nelson Provincial Museum\n",
      "3\n",
      "Johnston\n",
      "Nelson Provincial Museum\n",
      "2015-07-11T01:40:02.872+12:00\n",
      "None\n",
      "http://api.digitalnz.org/records/36112089/source\n",
      "http://collection.nelsonmuseum.co.nz/images/thumbs/photography/w%20e%20brown/12326.jpg\n",
      "['Images']\n",
      "Nelson Provincial Museum\n",
      "4\n",
      "Johnston\n",
      "Nelson Provincial Museum\n",
      "2015-07-04T01:28:10.368+12:00\n",
      "None\n",
      "http://api.digitalnz.org/records/36079320/source\n",
      "http://collection.nelsonmuseum.co.nz/images/thumbs/photography/tyree%20studio/25104.jpg\n",
      "['Images']\n",
      "Nelson Provincial Museum\n",
      "5\n",
      "Johnston\n",
      "Nelson Provincial Museum\n",
      "2015-07-04T01:28:10.387+12:00\n",
      "None\n",
      "http://api.digitalnz.org/records/36079321/source\n",
      "http://collection.nelsonmuseum.co.nz/images/thumbs/photography/tyree%20studio/25103.jpg\n",
      "['Images']\n",
      "Nelson Provincial Museum\n",
      "6\n",
      "Johnston\n",
      "Nelson Provincial Museum\n",
      "2015-07-04T01:38:02.694+12:00\n",
      "None\n",
      "http://api.digitalnz.org/records/36092010/source\n",
      "http://collection.nelsonmuseum.co.nz/images/thumbs/photography/tyree%20studio/37520.jpg\n",
      "['Images']\n",
      "Nelson Provincial Museum\n",
      "7\n",
      "Johnston\n",
      "Nelson Provincial Museum\n",
      "2015-07-04T01:38:02.806+12:00\n",
      "None\n",
      "http://api.digitalnz.org/records/36092016/source\n",
      "http://collection.nelsonmuseum.co.nz/images/thumbs/photography/tyree%20studio/37521.jpg\n",
      "['Images']\n",
      "Nelson Provincial Museum\n",
      "8\n",
      "Johnston\n",
      "Nelson Provincial Museum\n",
      "2015-08-08T01:56:46.418+12:00\n",
      "None\n",
      "http://api.digitalnz.org/records/36165516/source\n",
      "http://collection.nelsonmuseum.co.nz/images/thumbs/photography/tyree%20studio/42082.jpg\n",
      "['Images']\n",
      "Nelson Provincial Museum\n",
      "9\n",
      "Johnston\n",
      "Nelson Provincial Museum\n",
      "2015-08-08T01:56:48.658+12:00\n",
      "None\n",
      "http://api.digitalnz.org/records/36165536/source\n",
      "http://collection.nelsonmuseum.co.nz/images/thumbs/photography/tyree%20studio/42086.jpg\n",
      "['Images']\n",
      "Nelson Provincial Museum\n",
      "10\n",
      "Johnston\n",
      "Nelson Provincial Museum\n",
      "2015-08-08T01:56:48.637+12:00\n",
      "None\n",
      "http://api.digitalnz.org/records/36165534/source\n",
      "http://collection.nelsonmuseum.co.nz/images/thumbs/photography/tyree%20studio/42081.jpg\n",
      "['Images']\n",
      "Nelson Provincial Museum\n",
      "11\n",
      "Johnston\n",
      "Nelson Provincial Museum\n",
      "2015-08-08T01:56:50.051+12:00\n",
      "None\n",
      "http://api.digitalnz.org/records/36165558/source\n",
      "http://collection.nelsonmuseum.co.nz/images/thumbs/photography/tyree%20studio/42104.jpg\n",
      "['Images']\n",
      "Nelson Provincial Museum\n",
      "12\n",
      "Johnston\n",
      "Nelson Provincial Museum\n",
      "2015-08-08T01:56:46.519+12:00\n",
      "None\n",
      "http://api.digitalnz.org/records/36165519/source\n",
      "http://collection.nelsonmuseum.co.nz/images/thumbs/photography/tyree%20studio/42083.jpg\n",
      "['Images']\n",
      "Nelson Provincial Museum\n",
      "13\n",
      "Johnston\n",
      "Nelson Provincial Museum\n",
      "2015-08-08T01:56:46.232+12:00\n",
      "None\n",
      "http://api.digitalnz.org/records/36165510/source\n",
      "http://collection.nelsonmuseum.co.nz/images/thumbs/photography/tyree%20studio/42084.jpg\n",
      "['Images']\n",
      "Nelson Provincial Museum\n",
      "14\n",
      "Johnston\n",
      "Nelson Provincial Museum\n",
      "2015-08-08T01:56:46.420+12:00\n",
      "None\n",
      "http://api.digitalnz.org/records/36165518/source\n",
      "http://collection.nelsonmuseum.co.nz/images/thumbs/photography/tyree%20studio/42085.jpg\n",
      "['Images']\n",
      "Nelson Provincial Museum\n",
      "15\n",
      "Johnston\n",
      "Nelson Provincial Museum\n",
      "2016-01-11T12:28:34.684+13:00\n",
      "None\n",
      "http://api.digitalnz.org/records/36497266/source\n",
      "http://collection.nelsonmuseum.co.nz/images/thumbs/photography/tyree%20studio/52230.jpg\n",
      "['Images']\n",
      "Nelson Provincial Museum\n",
      "16\n",
      "Johnston\n",
      "Nelson Provincial Museum\n",
      "2016-01-11T12:28:34.830+13:00\n",
      "None\n",
      "http://api.digitalnz.org/records/36497267/source\n",
      "http://collection.nelsonmuseum.co.nz/images/thumbs/photography/tyree%20studio/52231.jpg\n",
      "['Images']\n",
      "Nelson Provincial Museum\n",
      "17\n",
      "Johnston\n",
      "Nelson Provincial Museum\n",
      "2016-01-11T12:28:34.577+13:00\n",
      "None\n",
      "http://api.digitalnz.org/records/36497264/source\n",
      "http://collection.nelsonmuseum.co.nz/images/thumbs/photography/tyree%20studio/52228.jpg\n",
      "['Images']\n",
      "Nelson Provincial Museum\n",
      "18\n",
      "Johnston\n",
      "Nelson Provincial Museum\n",
      "2016-01-11T12:28:34.627+13:00\n",
      "None\n",
      "http://api.digitalnz.org/records/36497265/source\n",
      "http://collection.nelsonmuseum.co.nz/images/thumbs/photography/tyree%20studio/52229.jpg\n",
      "['Images']\n",
      "Nelson Provincial Museum\n",
      "19\n",
      "Johnston\n",
      "Nelson Provincial Museum\n",
      "2015-10-03T02:05:34.749+13:00\n",
      "None\n",
      "http://api.digitalnz.org/records/36381495/source\n",
      "http://collection.nelsonmuseum.co.nz/images/thumbs/photography/tyree%20studio/50190.jpg\n",
      "['Images']\n",
      "Nelson Provincial Museum\n"
     ]
    }
   ],
   "source": [
    "for rea in range(0, rele):\n",
    "    print(rea)\n",
    "    print(lenres[rea]['title'])    \n",
    "    \n",
    "    for contenpar in (lenres[rea]['content_partner']):\n",
    "        print(contenpar)\n",
    "    \n",
    "    print(lenres[rea]['created_at'])\n",
    "    \n",
    "    print(lenres[rea]['rights'])\n",
    "    \n",
    "    print(lenres[rea]['source_url'])\n",
    "    \n",
    "    print(lenres[rea]['thumbnail_url'])\n",
    "    gifstrz.append(lenres[rea]['thumbnail_url'])\n",
    "\n",
    "    \n",
    "    print(lenres[rea]['category'])\n",
    "    \n",
    "    print(lenres[rea]['display_collection'])"
   ]
  },
  {
   "cell_type": "code",
   "execution_count": 20,
   "metadata": {
    "collapsed": true
   },
   "outputs": [],
   "source": [
    "glen = len(gifstrz)"
   ]
  },
  {
   "cell_type": "code",
   "execution_count": 21,
   "metadata": {
    "collapsed": false
   },
   "outputs": [
    {
     "data": {
      "text/plain": [
       "20"
      ]
     },
     "execution_count": 21,
     "metadata": {},
     "output_type": "execute_result"
    }
   ],
   "source": [
    "glen"
   ]
  },
  {
   "cell_type": "code",
   "execution_count": null,
   "metadata": {
    "collapsed": false
   },
   "outputs": [],
   "source": [
    "for gifim in gifstrz:\n",
    "    #a(rdz.url)\n",
    "    response = requests.get(gifim, stream=True)\n",
    "    for gl in range(0, glen):\n",
    "        print(gl)\n",
    "        with open('/home/wcmckee/gify/' + str(gl) + '.gif', 'wb') as out_file:\n",
    "            shutil.copyfileobj(response.raw, out_file)\n",
    "            "
   ]
  },
  {
   "cell_type": "code",
   "execution_count": null,
   "metadata": {
    "collapsed": true
   },
   "outputs": [],
   "source": []
  },
  {
   "cell_type": "code",
   "execution_count": null,
   "metadata": {
    "collapsed": false
   },
   "outputs": [],
   "source": [
    "dignzdoc = dominate.document(title='dignzgif')\n",
    "\n",
    "with dignzdoc.head:\n",
    "    link(rel='stylesheet', href='style.css')\n",
    "    script(type ='text/javascript', src='script.js')\n",
    "    #str(str2)\n",
    "    \n",
    "    with div():\n",
    "        attr(cls='header')\n",
    "        h1('dignzgif ' + keywodsea)\n",
    "        p(img('imgs/logo.svg', src='imgs/logo.svg'))\n",
    "        #p(img('imgs/15/01/02/ReptileLover82-reference.png', src= 'imgs/15/01/02/ReptileLover82-reference.png'))\n",
    "        h1('Updated ', strftime(\"%a, %d %b %Y %H:%M:%S +0000\", gmtime()))\n",
    "        #p(panz)\n",
    "    \n",
    "    \n",
    "\n",
    "with dignzdoc:\n",
    "    with div(id='body').add(ol()):\n",
    "        for rea in range(0, rele):\n",
    "            print(rea)\n",
    "            h3(lenres[rea]['title'])\n",
    "            #if 'http' in (lenres[rea]['large_thumbnail_url']):\n",
    "            #    print(lenres[rea]['large_thumbnail_url'])\n",
    "            #else:\n",
    "            #    p(lenres[rea]['large_thumbnail_url'])\n",
    "            #p(img(str(lenres[rea]['thumbnail_url']), src = str((lenres[rea]['large_thumbnail_url'])))         \n",
    "            #p(lenres[rea]['description'])\n",
    "            #a(lenres[rea]['source'])\n",
    "\n",
    "\n",
    "                \n",
    "            #print rdz.url\n",
    "            #if '.jpg' in rdz.url:\n",
    "            #    img(rdz.urlz)\n",
    "            #else:\n",
    "            #    a(rdz.urlz)\n",
    "            #h1(str(rdz.author))\n",
    "            \n",
    "            #li(img(i.lower(), src='%s' % i))\n",
    "\n",
    "    with div():\n",
    "        attr(cls='body')\n",
    "        p('Gify is open source')\n",
    "        a('https://github.com/getsdrawn/getsdrawndotcom')\n",
    "        a('https://reddit.com/r/redditgetsdrawn')\n",
    "\n",
    "#print doc\n",
    "print (lenres[rea]['large_thumbnail_url'])"
   ]
  },
  {
   "cell_type": "code",
   "execution_count": null,
   "metadata": {
    "collapsed": false
   },
   "outputs": [],
   "source": [
    "print(dignzdoc)"
   ]
  },
  {
   "cell_type": "code",
   "execution_count": null,
   "metadata": {
    "collapsed": true
   },
   "outputs": [],
   "source": []
  },
  {
   "cell_type": "code",
   "execution_count": null,
   "metadata": {
    "collapsed": true
   },
   "outputs": [],
   "source": []
  }
 ],
 "metadata": {
  "kernelspec": {
   "display_name": "Python 3",
   "language": "python",
   "name": "python3"
  },
  "language_info": {
   "codemirror_mode": {
    "name": "ipython",
    "version": 3
   },
   "file_extension": ".py",
   "mimetype": "text/x-python",
   "name": "python",
   "nbconvert_exporter": "python",
   "pygments_lexer": "ipython3",
   "version": "3.4.2"
  }
 },
 "nbformat": 4,
 "nbformat_minor": 0
}
