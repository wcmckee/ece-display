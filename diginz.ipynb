{
 "cells": [
  {
   "cell_type": "code",
   "execution_count": 21,
   "metadata": {
    "collapsed": true
   },
   "outputs": [],
   "source": [
    "import requests\n",
    "import json"
   ]
  },
  {
   "cell_type": "code",
   "execution_count": null,
   "metadata": {
    "collapsed": true
   },
   "outputs": [],
   "source": []
  },
  {
   "cell_type": "code",
   "execution_count": 65,
   "metadata": {
    "collapsed": false
   },
   "outputs": [
    {
     "name": "stdout",
     "output_type": "stream",
     "text": [
      "dnz keyword: levin\n"
     ]
    }
   ],
   "source": [
    "keywodsea = input('dnz keyword: ')"
   ]
  },
  {
   "cell_type": "code",
   "execution_count": null,
   "metadata": {
    "collapsed": true
   },
   "outputs": [],
   "source": []
  },
  {
   "cell_type": "code",
   "execution_count": 66,
   "metadata": {
    "collapsed": true
   },
   "outputs": [],
   "source": [
    "apidig = ('http://api.digitalnz.org/v3/records.json?api_key=63SJd_Ssqdx3oC6zPYMt&and[is_commercial_use]=True&text=' + keywodsea)"
   ]
  },
  {
   "cell_type": "code",
   "execution_count": null,
   "metadata": {
    "collapsed": true
   },
   "outputs": [],
   "source": []
  },
  {
   "cell_type": "code",
   "execution_count": null,
   "metadata": {
    "collapsed": true
   },
   "outputs": [],
   "source": []
  },
  {
   "cell_type": "code",
   "execution_count": 67,
   "metadata": {
    "collapsed": false
   },
   "outputs": [],
   "source": [
    "reqapi = requests.get(apidig)"
   ]
  },
  {
   "cell_type": "code",
   "execution_count": 68,
   "metadata": {
    "collapsed": false
   },
   "outputs": [
    {
     "data": {
      "text/plain": [
       "'http://www.teara.govt.nz/en/1966/levin'"
      ]
     },
     "execution_count": 68,
     "metadata": {},
     "output_type": "execute_result"
    }
   ],
   "source": [
    "json.loads(reqapi.text)['search']['results'][0]['landing_url']"
   ]
  },
  {
   "cell_type": "code",
   "execution_count": 69,
   "metadata": {
    "collapsed": false
   },
   "outputs": [],
   "source": [
    "lenres = json.loads(reqapi.text)['search']['results']"
   ]
  },
  {
   "cell_type": "code",
   "execution_count": 70,
   "metadata": {
    "collapsed": false
   },
   "outputs": [],
   "source": [
    "rele = len(lenres)"
   ]
  },
  {
   "cell_type": "code",
   "execution_count": 72,
   "metadata": {
    "collapsed": false
   },
   "outputs": [
    {
     "name": "stdout",
     "output_type": "stream",
     "text": [
      "0\n",
      "LEVIN\n",
      "None\n",
      "Levin is situated on the southern part of the Manawatu Plain, known as the Horowhenua district. The sea coast is 6 miles west, and about 5 miles east of the town the land rises to the Tararua Range. Lake Horowhenua is 1 mile west of the town. The North Island Main Trunk railway passes through Levin, which is also a junction for the main highways from Wellington, Wanganui, and Palmerston North. By road Levin is 31 miles south-west of Palmerston North (28 miles by rail), 10 miles south-west of Shannon by road or rail, and 14 miles north-east of Otaki (13 miles by rail from Otaki Railway).\n",
      "['An encyclopaedia of New Zealand, edited by A. H. McLintock, 1966.', '67004443']\n",
      "1\n",
      "Levin School\n",
      "None\n",
      "Levin School class photos, 1975 4 Colour photo prints, mounted (together on same board). Levin School class photos, 1975\n",
      "4 Colour photo prints, mounted (together on same board)\n",
      "[]\n",
      "2\n",
      "Levin Buildings\n",
      "None\n",
      "Levin Buildings 29 B&W photo prints Photographs appear to have been taken c.1978. Levin Buildings\n",
      "29 B&#38;W photo prints\n",
      "\n",
      "\n",
      "\tPhotographs appear to have been taken c.1978\n",
      "[]\n",
      "3\n",
      "Postcards - Levin\n",
      "None\n",
      "The School, Levin - (caption), c.1900's ? 1 Postcard, colourised. The School, Levin &#8211; (caption), c.1900&#8217;s ?\n",
      "1 Postcard, colourised\n",
      "[]\n",
      "4\n",
      "Abattoir, Levin\n",
      "http://horowhenua.kete.net.nz/image_files/25872/2000.018.0235_large.jpg\n",
      "Printed top of photo as caption: &#8221;... country killing stock    the crunch came late in 1972    for the export works.&#8221;\n",
      "\n",
      "\n",
      "\tPenciled on back: &#8220;30 CH Chron. Sup. 1981. P.6.&#8221;\n",
      "\n",
      "\n",
      "\tLevin Abattoir, Hokio Beach Road, Levin, which closed in 1972. The sign on the gate reads &#8220;Abattoir closed. No further killing.&#8221; This phot...\n",
      "[]\n",
      "5\n",
      "Levin Intermediate\n",
      "None\n",
      "None\n",
      "[]\n",
      "6\n",
      "Levin School\n",
      "None\n",
      "Total of 9 items - Levin School 90th Anniversary, 1980 (3 items): - 1 colour photograph of anniversary display in the Mall - 4 church. Total of 9 items -\n",
      "Levin School 90th Anniversary, 1980 (3 items):\n",
      "- 1 colour photograph of anniversary display in the Mall\n",
      "- 4 church service programs\n",
      "- 90th anniversary booklet\n",
      "Levin School Centennial, 1990 (5 i...\n",
      "[]\n",
      "7\n",
      "Levin School\n",
      "http://horowhenua.kete.net.nz/image_files/16767/1977.043.0007_large.jpg\n",
      "Inscription on reverse reads: &#8220;Don. Mrs Hannan 9/77&#8221;\n",
      "\n",
      "\n",
      "\tThe main building at Levin School on the western side of Oxford Street c 1950. The wooden building has an iron roof and a brick chimney is on the left of the building. In front of the building is a flag pole which was removed elsewhere in the school grounds in 1960, and replaced...\n",
      "[]\n",
      "8\n",
      "Postcards - Levin\n",
      "None\n",
      "Horowhenua Lake, Levin, N.Z. - (caption) 1 Postcard. Horowhenua Lake, Levin, N.Z. &#8211; (caption)\n",
      "1 Postcard\n",
      "[]\n",
      "9\n",
      "Postcards - Levin\n",
      "None\n",
      "Levin state School - (caption), c.1900's ? 1 B&W Postcard. Levin state School &#8211; (caption), c.1900&#8217;s ?\n",
      "1 B&#38;W Postcard\n",
      "[]\n",
      "10\n",
      "Levin Courthouse\n",
      "None\n",
      "Located on the corner of Bristol & Stanley Streets, Levin. It has undergone several changes in its lifetime as shown by these photos. Built in 1903, the courthouse looked like this in the 1920s :\n",
      "\n",
      "In 1969 it looked like this:\n",
      "\n",
      " \n",
      "This photo was taken around 2000:\n",
      "\n",
      "In 2009 the courthouse was moved to the Rose Garden in Cambridge Street:\n",
      "\n",
      "The court...\n",
      "[]\n",
      "11\n",
      "Levin Mall\n",
      "None\n",
      "Levin Mall was opened on Wednesday 3rd November 1971.  About 500 people came to see the official opening ceremony (as shown in picture at left).Levin Mall celebrated its 25 year jubilee in November 1996.On Saturday, 9th November 1996 everyone was invited to the Mall at 11.30am to join with the Mayor &amp; Mayoress, Tom &amp; Naumai Robinson, som...\n",
      "[]\n",
      "12\n",
      "levin train\n",
      "http://horowhenua.kete.net.nz/image_files/0000/0005/7282/dads_eye_005_large.jpg\n",
      "the station is alone now but the train is still going at the new adventurae park\n",
      "[]\n",
      "13\n",
      "Levin spinners\n",
      "http://horowhenua.kete.net.nz/image_files/0000/0007/2426/socks_large.JPG\n",
      "Blended fibre and spun\n",
      "[]\n",
      "14\n",
      "Levin Spinners\n",
      "http://horowhenua.kete.net.nz/image_files/0000/0007/2416/buggy_large.JPG\n",
      "Crochet\n",
      "This is a buggy blanket\n",
      "[]\n",
      "15\n",
      "Levin Chronicle\n",
      "None\n",
      "&lt;!--Section Begins-->\n",
      "\n",
      "\n",
      "\n",
      "\n",
      "\n",
      "\n",
      "\n",
      "\n",
      "\n",
      "\n",
      "\n",
      "\n",
      "\n",
      "\n",
      "\n",
      "\n",
      "\n",
      "\n",
      "\n",
      "\n",
      "\n",
      "\n",
      "\n",
      "\n",
      "\n",
      "\n",
      "\n",
      "\n",
      "\n",
      "\n",
      "\n",
      "\n",
      "\n",
      "\n",
      "\n",
      "\n",
      "\n",
      "\n",
      "\n",
      "\n",
      "\n",
      "\n",
      "\n",
      "\n",
      "\n",
      "\n",
      "\n",
      "\n",
      "\n",
      "\n",
      "\n",
      "\n",
      "\n",
      "\n",
      "\n",
      "\n",
      "\n",
      "\n",
      "\n",
      "\n",
      "\n",
      "\n",
      "\n",
      "Levin Chronicle\n",
      "\n",
      "\n",
      "\n",
      "\n",
      "\n",
      "Monday 22nd May 1916\n",
      "\n",
      "\n",
      "\n",
      "\n",
      "\n",
      "\n",
      "\n",
      "\n",
      "\n",
      "\n",
      "\n",
      "George H Woods, A Roberts, WH Adsett from Levin, GE Denton, Koputaroa all enlisted last week\n",
      "&lt;!--Section Ends-->\n",
      "[]\n",
      "16\n",
      "Levin Chronicle\n",
      "None\n",
      "None\n",
      "[]\n",
      "17\n",
      "Levin Remembers\n",
      "None\n",
      "Collected biographical anecdotes, poems and stories written by local residents of Levin in honour of its centenary in 2006.   When Levin celebrated its centenary in 2006, Barbara Lucas decided to ask local people to send her their memories. She and the staff of the Horowhenua Libraries gathered and prepared the stories and this book collects the...\n",
      "[]\n",
      "18\n",
      "Levin Seafoods\n",
      "http://horowhenua.kete.net.nz/image_files/0000/0005/5177/levin_seafoods_large.JPG\n",
      "Situated at the northern end of Oxford Street, between Queen and Bristol Streets\n",
      "[]\n",
      "19\n",
      "Levin spinners\n",
      "http://horowhenua.kete.net.nz/image_files/0000/0008/2957/Lyn___Jessie_large.JPG\n",
      "Night spinning\n",
      "[]\n"
     ]
    }
   ],
   "source": [
    "for rea in range(0, rele):\n",
    "    print(rea)\n",
    "    print(lenres[rea]['title'])\n",
    "    print(lenres[rea]['large_thumbnail_url'])\n",
    "    print(lenres[rea]['description'])\n",
    "    print(lenres[rea]['source'])"
   ]
  },
  {
   "cell_type": "code",
   "execution_count": null,
   "metadata": {
    "collapsed": true
   },
   "outputs": [],
   "source": []
  },
  {
   "cell_type": "code",
   "execution_count": null,
   "metadata": {
    "collapsed": true
   },
   "outputs": [],
   "source": []
  },
  {
   "cell_type": "code",
   "execution_count": null,
   "metadata": {
    "collapsed": true
   },
   "outputs": [],
   "source": []
  },
  {
   "cell_type": "code",
   "execution_count": null,
   "metadata": {
    "collapsed": true
   },
   "outputs": [],
   "source": []
  },
  {
   "cell_type": "code",
   "execution_count": null,
   "metadata": {
    "collapsed": true
   },
   "outputs": [],
   "source": []
  },
  {
   "cell_type": "code",
   "execution_count": null,
   "metadata": {
    "collapsed": true
   },
   "outputs": [],
   "source": []
  },
  {
   "cell_type": "code",
   "execution_count": null,
   "metadata": {
    "collapsed": true
   },
   "outputs": [],
   "source": []
  },
  {
   "cell_type": "code",
   "execution_count": null,
   "metadata": {
    "collapsed": true
   },
   "outputs": [],
   "source": []
  },
  {
   "cell_type": "code",
   "execution_count": null,
   "metadata": {
    "collapsed": true
   },
   "outputs": [],
   "source": []
  },
  {
   "cell_type": "code",
   "execution_count": null,
   "metadata": {
    "collapsed": true
   },
   "outputs": [],
   "source": []
  },
  {
   "cell_type": "code",
   "execution_count": null,
   "metadata": {
    "collapsed": true
   },
   "outputs": [],
   "source": []
  },
  {
   "cell_type": "code",
   "execution_count": null,
   "metadata": {
    "collapsed": true
   },
   "outputs": [],
   "source": []
  },
  {
   "cell_type": "code",
   "execution_count": null,
   "metadata": {
    "collapsed": true
   },
   "outputs": [],
   "source": []
  },
  {
   "cell_type": "code",
   "execution_count": null,
   "metadata": {
    "collapsed": true
   },
   "outputs": [],
   "source": []
  },
  {
   "cell_type": "code",
   "execution_count": null,
   "metadata": {
    "collapsed": true
   },
   "outputs": [],
   "source": []
  },
  {
   "cell_type": "code",
   "execution_count": null,
   "metadata": {
    "collapsed": true
   },
   "outputs": [],
   "source": []
  },
  {
   "cell_type": "code",
   "execution_count": null,
   "metadata": {
    "collapsed": true
   },
   "outputs": [],
   "source": []
  },
  {
   "cell_type": "code",
   "execution_count": null,
   "metadata": {
    "collapsed": true
   },
   "outputs": [],
   "source": []
  },
  {
   "cell_type": "code",
   "execution_count": null,
   "metadata": {
    "collapsed": true
   },
   "outputs": [],
   "source": []
  },
  {
   "cell_type": "code",
   "execution_count": null,
   "metadata": {
    "collapsed": true
   },
   "outputs": [],
   "source": []
  },
  {
   "cell_type": "code",
   "execution_count": null,
   "metadata": {
    "collapsed": true
   },
   "outputs": [],
   "source": []
  },
  {
   "cell_type": "code",
   "execution_count": null,
   "metadata": {
    "collapsed": true
   },
   "outputs": [],
   "source": []
  },
  {
   "cell_type": "code",
   "execution_count": null,
   "metadata": {
    "collapsed": true
   },
   "outputs": [],
   "source": []
  },
  {
   "cell_type": "code",
   "execution_count": null,
   "metadata": {
    "collapsed": true
   },
   "outputs": [],
   "source": []
  },
  {
   "cell_type": "code",
   "execution_count": null,
   "metadata": {
    "collapsed": true
   },
   "outputs": [],
   "source": []
  },
  {
   "cell_type": "code",
   "execution_count": null,
   "metadata": {
    "collapsed": true
   },
   "outputs": [],
   "source": []
  },
  {
   "cell_type": "code",
   "execution_count": null,
   "metadata": {
    "collapsed": true
   },
   "outputs": [],
   "source": []
  },
  {
   "cell_type": "code",
   "execution_count": null,
   "metadata": {
    "collapsed": true
   },
   "outputs": [],
   "source": []
  },
  {
   "cell_type": "code",
   "execution_count": null,
   "metadata": {
    "collapsed": true
   },
   "outputs": [],
   "source": []
  },
  {
   "cell_type": "code",
   "execution_count": null,
   "metadata": {
    "collapsed": true
   },
   "outputs": [],
   "source": []
  },
  {
   "cell_type": "code",
   "execution_count": null,
   "metadata": {
    "collapsed": true
   },
   "outputs": [],
   "source": []
  },
  {
   "cell_type": "code",
   "execution_count": null,
   "metadata": {
    "collapsed": true
   },
   "outputs": [],
   "source": []
  },
  {
   "cell_type": "code",
   "execution_count": null,
   "metadata": {
    "collapsed": true
   },
   "outputs": [],
   "source": []
  },
  {
   "cell_type": "code",
   "execution_count": null,
   "metadata": {
    "collapsed": true
   },
   "outputs": [],
   "source": []
  },
  {
   "cell_type": "code",
   "execution_count": null,
   "metadata": {
    "collapsed": true
   },
   "outputs": [],
   "source": []
  }
 ],
 "metadata": {
  "kernelspec": {
   "display_name": "Python 3",
   "language": "python",
   "name": "python3"
  },
  "language_info": {
   "codemirror_mode": {
    "name": "ipython",
    "version": 3
   },
   "file_extension": ".py",
   "mimetype": "text/x-python",
   "name": "python",
   "nbconvert_exporter": "python",
   "pygments_lexer": "ipython3",
   "version": "3.4.2"
  }
 },
 "nbformat": 4,
 "nbformat_minor": 0
}
