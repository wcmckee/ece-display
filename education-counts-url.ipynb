{
 "cells": [
  {
   "cell_type": "code",
   "execution_count": 3,
   "metadata": {
    "collapsed": true
   },
   "outputs": [],
   "source": [
    "import bs4\n",
    "import requests\n",
    "import dominate\n",
    "from dominate.tags import *\n",
    "import os\n",
    "import shutil\n",
    "import json\n",
    "from urlparse import urlparse\n",
    "from bs4 import BeautifulSoup"
   ]
  },
  {
   "cell_type": "code",
   "execution_count": 4,
   "metadata": {
    "collapsed": false
   },
   "outputs": [],
   "source": [
    "#eceall = requests.get('')"
   ]
  },
  {
   "cell_type": "code",
   "execution_count": 42,
   "metadata": {
    "collapsed": false
   },
   "outputs": [],
   "source": [
    "opind = open('/media/removable/WILLIAMS30G/www.educationcounts.govt.nz/index.html', 'r')"
   ]
  },
  {
   "cell_type": "code",
   "execution_count": 43,
   "metadata": {
    "collapsed": true
   },
   "outputs": [],
   "source": [
    "optfz = opind.read()"
   ]
  },
  {
   "cell_type": "code",
   "execution_count": 44,
   "metadata": {
    "collapsed": true
   },
   "outputs": [],
   "source": [
    "edcountz = bs4.BeautifulSoup(optfz)"
   ]
  },
  {
   "cell_type": "code",
   "execution_count": 45,
   "metadata": {
    "collapsed": true
   },
   "outputs": [],
   "source": [
    "afind = edcountz.findAll('a')"
   ]
  },
  {
   "cell_type": "code",
   "execution_count": 46,
   "metadata": {
    "collapsed": true
   },
   "outputs": [],
   "source": [
    "gidict = dict()"
   ]
  },
  {
   "cell_type": "code",
   "execution_count": 47,
   "metadata": {
    "collapsed": true
   },
   "outputs": [],
   "source": [
    "for afi in afind:\n",
    "    gied = afi.text\n",
    "    gifz = gied.replace(' ', '-')\n",
    "    giflow = gifz.lower()\n",
    "    gidict.update({giflow[:12] : afi.attrs['href']})\n",
    "    \n",
    "    gihrd = urlparse(afi.attrs['href'])\n",
    "    \n",
    "    "
   ]
  },
  {
   "cell_type": "code",
   "execution_count": 58,
   "metadata": {
    "collapsed": false
   },
   "outputs": [],
   "source": [
    "doc = dominate.document(title='educount')\n",
    "\n",
    "with doc.head:\n",
    "    link(rel='stylesheet', href='style.css')\n",
    "    script(type='text/javascript', src='script.js')\n",
    "\n",
    "with doc:\n",
    "    #with div(id='header').add(ol()):\n",
    "        #for i in ['home', 'about', 'contact']:\n",
    "            #li(a(i.title(), href='/%s.html' % i))\n",
    "\n",
    "    with div(cls='row'):\n",
    "        h1('education-counts-url')\n",
    "        for afi in afind:\n",
    "            if 'https://' in afi.attrs['href']:\n",
    "                gied = afi.text\n",
    "                gifz = gied.replace(' ', '-')\n",
    "                giflow = gifz.lower()\n",
    "                a(dominate.tags.li(giflow[:12]), href = (afi.attrs['href']))\n",
    "                #print afi.attrs['href']\n",
    "            #p(edu.txt)\n",
    "            #dominate.tags.p(edu.attrs['href'])\n",
    "            #a(dominate.tags.p(edu.text), href=dominate.tags.a(edu.attrs['href']))\n",
    "            \n",
    "            #print edu.text\n",
    "\n",
    "#print doc"
   ]
  },
  {
   "cell_type": "code",
   "execution_count": 59,
   "metadata": {
    "collapsed": false
   },
   "outputs": [],
   "source": [
    "docre = doc.render()\n",
    "#s = docre.decode('ascii', 'ignore')\n",
    "yourstring = docre.encode('ascii', 'ignore').decode('ascii')\n",
    "indfil = ('/home/wcmckee/educount/index.html')\n",
    "mkind = open(indfil, 'w')\n",
    "mkind.write(yourstring)\n",
    "mkind.close()"
   ]
  },
  {
   "cell_type": "code",
   "execution_count": null,
   "metadata": {
    "collapsed": true
   },
   "outputs": [],
   "source": []
  },
  {
   "cell_type": "code",
   "execution_count": 30,
   "metadata": {
    "collapsed": false
   },
   "outputs": [
    {
     "ename": "SyntaxError",
     "evalue": "invalid syntax (<ipython-input-30-ca840913f27c>, line 14)",
     "output_type": "error",
     "traceback": [
      "\u001b[1;36m  File \u001b[1;32m\"<ipython-input-30-ca840913f27c>\"\u001b[1;36m, line \u001b[1;32m14\u001b[0m\n\u001b[1;33m    \u001b[0m\n\u001b[1;37m    ^\u001b[0m\n\u001b[1;31mSyntaxError\u001b[0m\u001b[1;31m:\u001b[0m invalid syntax\n"
     ]
    }
   ],
   "source": [
    "doc = dominate.document(title='education-counts-url')\n",
    "\n",
    "with doc.head:\n",
    "    link(rel='stylesheet', href='style.css')\n",
    "    script(type='text/javascript', src='script.js')\n",
    "    \n",
    "with doc:\n",
    "    with div():\n",
    "        for afi in afind:\n",
    "            gied = afi.text\n",
    "            gifz = gied.replace(' ', '-')\n",
    "            giflow = gifz.lower()\n",
    "            a(dominate.tags.p(giflow[:12], href = (afi.attrs['href']))\n",
    "            "
   ]
  },
  {
   "cell_type": "code",
   "execution_count": null,
   "metadata": {
    "collapsed": true
   },
   "outputs": [],
   "source": []
  },
  {
   "cell_type": "code",
   "execution_count": 20,
   "metadata": {
    "collapsed": false
   },
   "outputs": [],
   "source": [
    "dicon = json.dumps(gidict)"
   ]
  },
  {
   "cell_type": "code",
   "execution_count": null,
   "metadata": {
    "collapsed": true
   },
   "outputs": [],
   "source": []
  },
  {
   "cell_type": "code",
   "execution_count": 22,
   "metadata": {
    "collapsed": true
   },
   "outputs": [],
   "source": [
    "opeducon = open('/media/removable/WILLIAMS30G/education-counts-url/index.json', 'w')\n",
    "\n",
    "opeducon.write(dicon)\n",
    "\n",
    "opeducon.close()"
   ]
  },
  {
   "cell_type": "code",
   "execution_count": 24,
   "metadata": {
    "collapsed": false
   },
   "outputs": [],
   "source": [
    "rdeducon = open('/media/removable/WILLIAMS30G/education-counts-url/index.json', 'r')\n",
    "\n",
    "rdqa = rdeducon.read()"
   ]
  },
  {
   "cell_type": "code",
   "execution_count": 26,
   "metadata": {
    "collapsed": false
   },
   "outputs": [],
   "source": [
    "loadic = json.loads(rdqa)"
   ]
  },
  {
   "cell_type": "code",
   "execution_count": 27,
   "metadata": {
    "collapsed": false
   },
   "outputs": [
    {
     "data": {
      "text/plain": [
       "{u'': u'http://www.newzealand.govt.nz',\n",
       " u'\\ndata-servic': u'http://www.educationcounts.govt.nz/data-services',\n",
       " u'\\nfind-a-scho': u'http://www.educationcounts.govt.nz/find-school',\n",
       " u'\\nfind-an-ear': u'http://www.educationcounts.govt.nz/find-an-els',\n",
       " u'\\nindicators\\n': u'http://www.educationcounts.govt.nz/indicators',\n",
       " u'\\nknow-your-r': u'http://www.educationcounts.govt.nz/know-your-region',\n",
       " u'\\npublication': u'http://www.educationcounts.govt.nz/publications',\n",
       " u'\\nstatistics\\n': u'http://www.educationcounts.govt.nz/statistics',\n",
       " u'\\ntopics\\ntopi': u'http://www.educationcounts.govt.nz/topics',\n",
       " u'18-year-olds': u'http://www.educationcounts.govt.nz/statistics/schooling/senior-student-attainment/18-year-olds-with-level-2-or-equivalent',\n",
       " u'a': u'/data-services/glossary#A',\n",
       " u'about-bes': u'http://www.educationcounts.govt.nz/topics/bes/about-bes',\n",
       " u'about-this-s': u'/site-info/about-this-site',\n",
       " u'accessibilit': u'/site-info/accessibility',\n",
       " u'all': u'/data-services/data-collections/all',\n",
       " u'all-(adult-l': u'http://www.educationcounts.govt.nz/data-services/data-collections/all',\n",
       " u'annual-early': u'http://www.educationcounts.govt.nz/data-services/data-collections/ece_staff_return',\n",
       " u'annual-ece-c': u'http://www.educationcounts.govt.nz/statistics/early-childhood-education/annual-ece-summary-reports',\n",
       " u'b': u'/data-services/glossary#B',\n",
       " u'benefits-for': u'http://www.educationcounts.govt.nz/statistics/international-education/benefits-of-international-education-for-nz2',\n",
       " u'benefits-of-': u'/statistics/international-education/benefits-of-international-education-for-nz2',\n",
       " u'bes-(what-wo': u'/topics/bes',\n",
       " u'bes-exemplar': u'http://www.educationcounts.govt.nz/topics/bes/useful-links-and-publications/bes-exemplars',\n",
       " u'bes-programm': u'http://www.educationcounts.govt.nz/topics/bes',\n",
       " u'bes-what-wor': u'http://www.educationcounts.govt.nz/topics/bes/resources/spotlight-on',\n",
       " u'bess-&-bes-c': u'http://www.educationcounts.govt.nz/topics/bes/resources/bess-and-cases',\n",
       " u'bess-&-cases': u'http://www.educationcounts.govt.nz/topics/bes/resources/bes-exemplars/bess-and-cases',\n",
       " u'board-of-tru': u'/data-services/data-collections/boards_of_trustees',\n",
       " u'boards-of-tr': u'http://www.educationcounts.govt.nz/data-services/data-collections/boards_of_trustees',\n",
       " u'c': u'/data-services/glossary#C',\n",
       " u'close-menu': u'#secondary-nav',\n",
       " u'code-sets-&-': u'http://www.educationcounts.govt.nz/data-services/collecting-information/code-sets-and-classifications',\n",
       " u'collecting-i': u'http://www.educationcounts.govt.nz/data-services/collecting-information',\n",
       " u'collection-f': u'http://www.educationcounts.govt.nz/data-services/collecting-information/collection-forms',\n",
       " u'contact-us': u'/site-info/contact-us',\n",
       " u'curriculum': u'http://www.educationcounts.govt.nz/publications/curriculum',\n",
       " u'd': u'/data-services/glossary#D',\n",
       " u'data-collect': u'http://www.educationcounts.govt.nz/data-services/data-collections',\n",
       " u'data-service': u'http://www.educationcounts.govt.nz/data-services',\n",
       " u'deaker/berry': u'http://www.educationcounts.govt.nz/topics/bes/Whats-New/deakerberryman-interview',\n",
       " u'developing-c': u'http://www.educationcounts.govt.nz/topics/bes/Whats-New/developing-communities-of-mathematical-inquiry',\n",
       " u'developing-m': u'http://www.educationcounts.govt.nz/topics/bes/developing-mathematical-inquiry-communities',\n",
       " u'directories': u'http://www.educationcounts.govt.nz/data-services/directories',\n",
       " u'directories-': u'http://www.educationcounts.govt.nz/data-services/directories/6136/directories',\n",
       " u'e': u'/data-services/glossary#E',\n",
       " u'e-learning': u'http://www.educationcounts.govt.nz/publications/ict',\n",
       " u'e-learning-r': u'/topics/ict_themes',\n",
       " u'early-childh': u'http://www.educationcounts.govt.nz/data-services/directories/early-childhood-services',\n",
       " u'early-learni': u'http://www.educationcounts.govt.nz/find-an-els',\n",
       " u'ece-child-&-': u'/data-services/data-collections/ece_staff_return',\n",
       " u'education-co': u'/',\n",
       " u'education-li': u'https://www.educationcounts.govt.nz/topics/ministry-of-education-library/education-library',\n",
       " u'educational-': u'/data-services/directories',\n",
       " u'english-medi': u'http://www.educationcounts.govt.nz/publications/maori/english-medium-education',\n",
       " u'f': u'/data-services/glossary#F',\n",
       " u'finances': u'http://www.educationcounts.govt.nz/statistics/early-childhood-education/finances',\n",
       " u'financial-pe': u'http://www.educationcounts.govt.nz/statistics/tertiary_education/financial_performance',\n",
       " u'financial-su': u'http://www.educationcounts.govt.nz/statistics/tertiary_education/financial_support_for_students',\n",
       " u'find-a-schoo': u'http://www.educationcounts.govt.nz/find-school',\n",
       " u'full-set-of-': u'http://www.educationcounts.govt.nz/topics/bes/resources/bes-programme/full-set-of-bess',\n",
       " u'g': u'/data-services/glossary#G',\n",
       " u'glossary': u'http://www.educationcounts.govt.nz/data-services/glossary',\n",
       " u'guidelines': u'http://www.educationcounts.govt.nz/data-services/collecting-information/guidelines',\n",
       " u'h': u'/data-services/glossary#H',\n",
       " u'home': u'/',\n",
       " u'i': u'/data-services/glossary#I',\n",
       " u'iccs': u'/data-services/data-collections/iccs_data',\n",
       " u'indicators': u'/indicators',\n",
       " u'indicators-h': u'http://www.educationcounts.govt.nz/indicators',\n",
       " u'inland-reven': u'http://www.educationcounts.govt.nz/topics/26298/inland-revenue-website',\n",
       " u'integrated-s': u'http://www.educationcounts.govt.nz/data-services/data-collections/integrated_student_loan_dataset',\n",
       " u'internationa': u'http://www.educationcounts.govt.nz/data-services/data-collections/iccs_data',\n",
       " u'investing-in': u'http://www.minedu.govt.nz/theMinistry/EducationInitiatives/InvestingInEducationalSuccess.aspx',\n",
       " u'j': u'/data-services/glossary#J',\n",
       " u'k': u'/data-services/glossary#K',\n",
       " u'key_accordio': u'http://www.educationcounts.govt.nz/topics/bes/resources/bess-and-cases/key_accordion',\n",
       " u'know-your-re': u'http://www.educationcounts.govt.nz/know-your-region',\n",
       " u'l': u'/data-services/glossary#L',\n",
       " u'language-use': u'http://www.educationcounts.govt.nz/statistics/early-childhood-education/language-use-in-ece',\n",
       " u'latest-publi': u'http://www.educationcounts.govt.nz/publications?SQ_PAINT_LAYOUT_NAME=all-chronological',\n",
       " u'legal-&-priv': u'/site-info/privacy',\n",
       " u'life-after-s': u'http://www.educationcounts.govt.nz/statistics/tertiary_education/life_after_study',\n",
       " u'links': u'/site-info/links',\n",
       " u'literacy': u'http://www.educationcounts.govt.nz/publications/literacy',\n",
       " u'm': u'/data-services/glossary#M',\n",
       " u'ministry-of-': u'http://www.educationcounts.govt.nz/data-services/directories/early-childhood-services/ministry-of-education-20-hours-ece',\n",
       " u'm\\u0101ori': u'http://www.educationcounts.govt.nz/publications/maori',\n",
       " u'm\\u0101ori-educat': u'http://www.educationcounts.govt.nz/statistics/maori-education',\n",
       " u'm\\u0101ori-in-nce': u'http://www.educationcounts.govt.nz/statistics/maori-education/maori-in-schooling/participation-and-attainment-of-maori-students-in-national-certificate-of-educational-achievement',\n",
       " u'm\\u0101ori-in-sch': u'http://www.educationcounts.govt.nz/statistics/maori-education/maori-in-schooling',\n",
       " u'm\\u0101ori-langua': u'http://www.educationcounts.govt.nz/statistics/maori-education/maori-in-schooling/6040',\n",
       " u'm\\u0101ori-medium': u'http://www.educationcounts.govt.nz/data-services/directories/maori-medium-schools',\n",
       " u'm\\u0101ori-tertia': u'http://www.educationcounts.govt.nz/statistics/maori-education/tertiary-education',\n",
       " u'n': u'/data-services/glossary#N',\n",
       " u'national-mon': u'http://www.educationcounts.govt.nz/topics/research/nmssa',\n",
       " u'national-sta': u'http://www.educationcounts.govt.nz/statistics/schooling/national-standards',\n",
       " u'ncea-attainm': u'http://www.educationcounts.govt.nz/statistics/schooling/senior-student-attainment/ncea-attainment',\n",
       " u'nemp': u'/data-services/data-collections/nemp',\n",
       " u'nemp-': u'http://www.educationcounts.govt.nz/data-services/data-collections/nemp',\n",
       " u'new-zealand-': u'http://www.educationcounts.govt.nz/data-services/directories/list-of-nz-schools',\n",
       " u'ng\\u0101-whanaket': u'http://www.educationcounts.govt.nz/statistics/schooling/nga-whanaketanga-rumaki-maori-achievement-results',\n",
       " u'number-of-sc': u'http://www.educationcounts.govt.nz/statistics/schooling/number-of-schools',\n",
       " u'numeracy': u'http://www.educationcounts.govt.nz/publications/numeracy',\n",
       " u'o': u'/data-services/glossary#O',\n",
       " u'ongoing-reso': u'http://www.educationcounts.govt.nz/statistics/special-education/ongoing-resourcing-scheme',\n",
       " u'p': u'/data-services/glossary#P',\n",
       " u'participatio': u'http://www.educationcounts.govt.nz/statistics/tertiary_education/participation',\n",
       " u'pasifika': u'http://www.educationcounts.govt.nz/publications/pasifika',\n",
       " u'pasifika-edu': u'http://www.educationcounts.govt.nz/statistics/pasifika-education/progress_against_pasifika_education_plan_targets',\n",
       " u'pasifika-in-': u'http://www.educationcounts.govt.nz/statistics/pasifika-education/pasifika-in-schooling',\n",
       " u'pasifika-ter': u'http://www.educationcounts.govt.nz/statistics/pasifika-education/tertiary-education',\n",
       " u'piaac': u'/data-services/data-collections/piaac',\n",
       " u'pirls': u'/data-services/data-collections/pirls',\n",
       " u'pirls-(progr': u'http://www.educationcounts.govt.nz/data-services/data-collections/pirls',\n",
       " u'pisa': u'/data-services/data-collections/pisa',\n",
       " u'pisa-(progra': u'http://www.educationcounts.govt.nz/data-services/data-collections/pisa',\n",
       " u'private-scho': u'http://www.educationcounts.govt.nz/data-services/directories/private-schools',\n",
       " u'programme-fo': u'http://www.educationcounts.govt.nz/data-services/data-collections/piaac',\n",
       " u'public-achie': u'http://www.educationcounts.govt.nz/topics/national-education',\n",
       " u'publications': u'http://www.educationcounts.govt.nz/publications',\n",
       " u'q': u'/data-services/glossary#Q',\n",
       " u'r': u'/data-services/glossary#R',\n",
       " u'reading-reco': u'http://www.educationcounts.govt.nz/data-services/data-collections/reading-recovery-electronic-returns',\n",
       " u'research': u'http://www.educationcounts.govt.nz/statistics/tertiary_education/research',\n",
       " u'research-rec': u'http://www.educationcounts.govt.nz/topics/research/52109',\n",
       " u'resources': u'http://www.educationcounts.govt.nz/statistics/tertiary_education/resources',\n",
       " u'resourcing': u'http://www.educationcounts.govt.nz/statistics/schooling/resourcing',\n",
       " u'retention-&-': u'http://www.educationcounts.govt.nz/statistics/tertiary_education/retention_and_achievement',\n",
       " u'rt:-lit': u'/data-services/data-collections/rtlit',\n",
       " u'rt:lit': u'http://www.educationcounts.govt.nz/data-services/data-collections/rtlit',\n",
       " u's': u'/data-services/glossary#S',\n",
       " u'school-enrol': u'http://www.educationcounts.govt.nz/data-services/collecting-information/school-enrolment-zones',\n",
       " u'school-leave': u'http://www.educationcounts.govt.nz/data-services/data-collections/school_leavers',\n",
       " u'school-merge': u'http://www.educationcounts.govt.nz/data-services/directories/6136',\n",
       " u'school-roll-': u'http://www.educationcounts.govt.nz/data-services/data-collections/school-roll-return',\n",
       " u'school-sms-r': u'http://www.educationcounts.govt.nz/data-services/collecting-information/school-sms-roll-returns-2015',\n",
       " u'school-stati': u'http://www.educationcounts.govt.nz/data-services/data-collections/school-statistics-monitoring-committee',\n",
       " u'schooling': u'http://www.educationcounts.govt.nz/statistics/schooling',\n",
       " u'scroll-to-to': u'#masthead',\n",
       " u'sdr-(single-': u'http://www.educationcounts.govt.nz/data-services/data-collections/sdr',\n",
       " u'senior-stude': u'http://www.educationcounts.govt.nz/statistics/schooling/senior-student-attainment',\n",
       " u'series': u'http://www.educationcounts.govt.nz/publications/series',\n",
       " u'services': u'http://www.educationcounts.govt.nz/statistics/early-childhood-education/services',\n",
       " u'single-data-': u'/data-services/data-collections/sdr',\n",
       " u'site-map': u'/site-info/site-map',\n",
       " u'skip-to-cont': u'#content',\n",
       " u'skip-to-prim': u'#primary-nav',\n",
       " u'skip-to-sear': u'#site-search-keyword',\n",
       " u'skip-to-seco': u'#secondary-nav',\n",
       " u'sms-vendors': u'http://www.educationcounts.govt.nz/data-services/collecting-information/sms_roll_returns',\n",
       " u'soik-(studen': u'http://www.educationcounts.govt.nz/topics/research/6858',\n",
       " u'special-educ': u'http://www.educationcounts.govt.nz/statistics/special-education',\n",
       " u'spotlight-on': u'http://www.educationcounts.govt.nz/topics/bes/resources/spotlight-on/spotlight-on-leadership',\n",
       " u'staffing': u'http://www.educationcounts.govt.nz/statistics/early-childhood-education/staffing',\n",
       " u'statistics': u'/statistics',\n",
       " u'statistics-h': u'http://www.educationcounts.govt.nz/statistics',\n",
       " u'statistics-n': u'http://www.educationcounts.govt.nz/topics/26298/statistics-nz-student-loans',\n",
       " u'statistics:-': u'http://www.educationcounts.govt.nz/topics/national-education/school-leavers-with-ncea-level-2-or-above',\n",
       " u'student-enga': u'http://www.educationcounts.govt.nz/data-services/data-collections/student_engagement',\n",
       " u'student-loan': u'http://www.educationcounts.govt.nz/topics/26298',\n",
       " u'student-numb': u'http://www.educationcounts.govt.nz/statistics/schooling/student-numbers',\n",
       " u\"students'-in\": u'http://www.educationcounts.govt.nz/statistics/international-education/students-international-learning2',\n",
       " u'study-awards': u'http://www.educationcounts.govt.nz/topics/research/16721',\n",
       " u'studylink:-s': u'http://www.educationcounts.govt.nz/topics/26298/studylink-website',\n",
       " u'summaries-of': u'http://www.educationcounts.govt.nz/topics/bes/resources/bes-programme',\n",
       " u'summary-tabl': u'http://www.educationcounts.govt.nz/statistics/tertiary_education/summary_tables',\n",
       " u't': u'/data-services/glossary#T',\n",
       " u'talis': u'/data-services/data-collections/talis',\n",
       " u'talis-(teach': u'http://www.educationcounts.govt.nz/data-services/data-collections/talis',\n",
       " u'te-kete-ipur': u'http://www.educationcounts.govt.nz/data-services/directories/maori-medium-schools/te-kete-ipurangi',\n",
       " u'teacher-cens': u'http://www.educationcounts.govt.nz/data-services/data-collections/teacher_census',\n",
       " u'teaching-sta': u'http://www.educationcounts.govt.nz/statistics/schooling/teaching_staff',\n",
       " u'tertiary': u'http://www.educationcounts.govt.nz/publications/80898',\n",
       " u'tertiary-edu': u'http://www.educationcounts.govt.nz/statistics/tertiary_education',\n",
       " u'tertiary-enr': u'http://www.educationcounts.govt.nz/data-services/data-collections/tertiary_enrolment_data',\n",
       " u'tertiary-pro': u'http://www.educationcounts.govt.nz/data-services/directories/list-of-tertiary-providers',\n",
       " u'the-research': u'http://www.educationcounts.govt.nz/topics/research/research_division',\n",
       " u'the-use-of-e': u'http://www.educationcounts.govt.nz/topics/bes/resources/spotlight-on/the-use-of-evidence-in-policy',\n",
       " u'timss': u'/data-services/data-collections/timss',\n",
       " u'timss-(trend': u'http://www.educationcounts.govt.nz/data-services/data-collections/timss',\n",
       " u'topics': u'/topics',\n",
       " u'topics-home-': u'http://www.educationcounts.govt.nz/topics',\n",
       " u'transition-f': u'/statistics/tertiary-education/transition-from-school-to-tertiary',\n",
       " u'transition:-': u'http://www.educationcounts.govt.nz/statistics/tertiary_education/transition-from-school-to-tertiary',\n",
       " u'u': u'/data-services/glossary#U',\n",
       " u'university-r': u'http://www.educationcounts.govt.nz/statistics/tertiary_education/university-rankings',\n",
       " u'useful-links': u'http://www.educationcounts.govt.nz/topics/bes/useful-links-and-publications',\n",
       " u'v': u'/data-services/glossary#V',\n",
       " u'w': u'/data-services/glossary#W',\n",
       " u\"what's-new\": u'http://www.educationcounts.govt.nz/topics/bes/resources/bess-and-cases/whats-new',\n",
       " u'x': u'/data-services/glossary#X',\n",
       " u'y': u'/data-services/glossary#Y',\n",
       " u'z': u'/data-services/glossary#Z'}"
      ]
     },
     "execution_count": 27,
     "metadata": {},
     "output_type": "execute_result"
    }
   ],
   "source": []
  },
  {
   "cell_type": "code",
   "execution_count": null,
   "metadata": {
    "collapsed": true
   },
   "outputs": [],
   "source": []
  }
 ],
 "metadata": {
  "kernelspec": {
   "display_name": "Python 2",
   "name": "python2"
  },
  "language_info": {
   "codemirror_mode": {
    "name": "ipython",
    "version": 2
   },
   "file_extension": ".py",
   "mimetype": "text/x-python",
   "name": "python",
   "nbconvert_exporter": "python",
   "pygments_lexer": "ipython2",
   "version": "2.7.9"
  }
 },
 "nbformat": 4,
 "nbformat_minor": 0
}
