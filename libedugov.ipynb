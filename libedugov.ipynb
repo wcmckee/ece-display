{
 "cells": [
  {
   "cell_type": "markdown",
   "metadata": {},
   "source": [
    "Library Education Govt \n",
    "\n",
    "Script to deal with rss xml feed of library.education.govt.nz"
   ]
  },
  {
   "cell_type": "code",
   "execution_count": 6,
   "metadata": {
    "collapsed": true
   },
   "outputs": [],
   "source": [
    "import requests\n",
    "import json\n",
    "import xmltodict"
   ]
  },
  {
   "cell_type": "code",
   "execution_count": 3,
   "metadata": {
    "collapsed": true
   },
   "outputs": [],
   "source": [
    "reqlib = requests.get('https://library.education.govt.nz/rss/highlights')"
   ]
  },
  {
   "cell_type": "code",
   "execution_count": 7,
   "metadata": {
    "collapsed": false
   },
   "outputs": [],
   "source": [
    "reqlibt = reqlib.text"
   ]
  },
  {
   "cell_type": "code",
   "execution_count": 11,
   "metadata": {
    "collapsed": false
   },
   "outputs": [],
   "source": [
    "libtd = xmltodict.parse(reqlibt)"
   ]
  },
  {
   "cell_type": "code",
   "execution_count": 37,
   "metadata": {
    "collapsed": false
   },
   "outputs": [],
   "source": [
    "rslen = len(libtd['rss']['channel']['item'])"
   ]
  },
  {
   "cell_type": "code",
   "execution_count": 38,
   "metadata": {
    "collapsed": false
   },
   "outputs": [
    {
     "data": {
      "text/plain": [
       "10"
      ]
     },
     "execution_count": 38,
     "metadata": {},
     "output_type": "execute_result"
    }
   ],
   "source": [
    "rslen"
   ]
  },
  {
   "cell_type": "code",
   "execution_count": 61,
   "metadata": {
    "collapsed": true
   },
   "outputs": [],
   "source": [
    "wrapdict = dict()"
   ]
  },
  {
   "cell_type": "code",
   "execution_count": 67,
   "metadata": {
    "collapsed": false
   },
   "outputs": [
    {
     "name": "stdout",
     "output_type": "stream",
     "text": [
      "Best schools in Auckland: 24 things to know before you choose a school\n",
      "Tauira: Māori methods of learning and teaching\n",
      "Dangerous liaisons\n",
      "Bully beef\n",
      "Could do better\n",
      "What Candy Crush Saga teaches us about motivating employees\n",
      "Influential Aucklanders in education\n",
      "Explaining the achievement gap between indigenous and non-indigenous students: an analysis of PISA 2009 results for Australia and New Zealand\n",
      "Panel-beaters don't have to learn Shakespeare\n",
      "Leaders as decision architects\n"
     ]
    }
   ],
   "source": [
    "for libi in range(rslen):\n",
    "    msjobdic = dict()\n",
    "\n",
    "    print (libtd['rss']['channel']['item'][libi]['title'])\n",
    "    msjobdic.update({'title' : (libtd['rss']['channel']['item'][libi]['title'])})\n",
    "    findict = dict()\n",
    "    \n",
    "    findict.update({'title' : (libtd['rss']['channel']['item'][libi]['title'])})\n",
    "    #totlen = len(libi)\n",
    "    for tes in range(totlen):\n",
    "        findict.update({'title' : txtspli[tes][1]})\n",
    "    #findict.update({txtspli[0][0] : txtspli[0][1]})\n",
    "    msjobz = findict.copy()\n",
    "    msjobz.update(msjobdic)\n",
    "    \n",
    "    wrapdict.update({dic : msjobz})\n",
    "    jsmsdob = json.dumps(wrapdict)\n",
    "    \n",
    "    \n",
    "    jslibi.update({rslen : msjobz})\n",
    "    jsmsdob = json.dumps(wrapdict)"
   ]
  },
  {
   "cell_type": "code",
   "execution_count": 69,
   "metadata": {
    "collapsed": false
   },
   "outputs": [
    {
     "data": {
      "text/plain": [
       "{9: {'title': u'Leaders as decision architects'},\n",
       " 10: {'title': u'Leaders as decision architects'}}"
      ]
     },
     "execution_count": 69,
     "metadata": {},
     "output_type": "execute_result"
    }
   ],
   "source": [
    "wrapdict"
   ]
  },
  {
   "cell_type": "code",
   "execution_count": 51,
   "metadata": {
    "collapsed": true
   },
   "outputs": [],
   "source": [
    "\n",
    "jslibi.update({'title' : (libtd['rss']['channel']['item'][libi]['title'])})"
   ]
  },
  {
   "cell_type": "code",
   "execution_count": 52,
   "metadata": {
    "collapsed": false
   },
   "outputs": [
    {
     "data": {
      "text/plain": [
       "{'title': u'Leaders as decision architects'}"
      ]
     },
     "execution_count": 52,
     "metadata": {},
     "output_type": "execute_result"
    }
   ],
   "source": [
    "jslibi"
   ]
  },
  {
   "cell_type": "code",
   "execution_count": null,
   "metadata": {
    "collapsed": true
   },
   "outputs": [],
   "source": []
  }
 ],
 "metadata": {
  "kernelspec": {
   "display_name": "Python 2",
   "name": "python2"
  },
  "language_info": {
   "codemirror_mode": {
    "name": "ipython",
    "version": 2
   },
   "file_extension": ".py",
   "mimetype": "text/x-python",
   "name": "python",
   "nbconvert_exporter": "python",
   "pygments_lexer": "ipython2",
   "version": "2.7.9"
  }
 },
 "nbformat": 4,
 "nbformat_minor": 0
}
