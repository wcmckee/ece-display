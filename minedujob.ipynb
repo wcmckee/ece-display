{
 "cells": [
  {
   "cell_type": "code",
   "execution_count": 179,
   "metadata": {
    "collapsed": false
   },
   "outputs": [],
   "source": [
    "import requests\n",
    "import untangle\n",
    "import xmltodict\n",
    "import json\n",
    "import random\n",
    "import bs4\n",
    "import dominate\n",
    "from dominate.tags import *\n",
    "from pydnz import Dnz"
   ]
  },
  {
   "cell_type": "code",
   "execution_count": 190,
   "metadata": {
    "collapsed": true
   },
   "outputs": [],
   "source": [
    "dnz = Dnz('Ph2LDuyiJmJcQm1S5myy')"
   ]
  },
  {
   "cell_type": "code",
   "execution_count": 197,
   "metadata": {
    "collapsed": true
   },
   "outputs": [],
   "source": [
    "jobreq = requests.get('https://jobs.minedu.govt.nz/jobtools/job_rss?o1=17584&k2=A52B3674BC046465&source=JobRSS&medium=JobRSS')"
   ]
  },
  {
   "cell_type": "code",
   "execution_count": 198,
   "metadata": {
    "collapsed": false
   },
   "outputs": [],
   "source": [
    "jobtxta = jobreq.text"
   ]
  },
  {
   "cell_type": "code",
   "execution_count": 199,
   "metadata": {
    "collapsed": false
   },
   "outputs": [],
   "source": [
    "obj = untangle.parse(jobtxta)"
   ]
  },
  {
   "cell_type": "code",
   "execution_count": 200,
   "metadata": {
    "collapsed": false
   },
   "outputs": [],
   "source": [
    "dicjobz = xmltodict.parse(jobtxta)"
   ]
  },
  {
   "cell_type": "code",
   "execution_count": 207,
   "metadata": {
    "collapsed": false
   },
   "outputs": [],
   "source": [
    "dicrs = dicjobz['rss']['channel']['item'][2]['title']"
   ]
  },
  {
   "cell_type": "code",
   "execution_count": 208,
   "metadata": {
    "collapsed": false
   },
   "outputs": [
    {
     "data": {
      "text/plain": [
       "u'Speech Language Therapist'"
      ]
     },
     "execution_count": 208,
     "metadata": {},
     "output_type": "execute_result"
    }
   ],
   "source": [
    "dicrs"
   ]
  },
  {
   "cell_type": "code",
   "execution_count": 209,
   "metadata": {
    "collapsed": false
   },
   "outputs": [],
   "source": [
    "debsnz =  dnz.search(dicrs)"
   ]
  },
  {
   "cell_type": "code",
   "execution_count": 214,
   "metadata": {
    "collapsed": false
   },
   "outputs": [],
   "source": [
    "randrecord = len(debsnz.records)"
   ]
  },
  {
   "cell_type": "code",
   "execution_count": null,
   "metadata": {
    "collapsed": true
   },
   "outputs": [],
   "source": []
  },
  {
   "cell_type": "code",
   "execution_count": null,
   "metadata": {
    "collapsed": true
   },
   "outputs": [],
   "source": []
  },
  {
   "cell_type": "code",
   "execution_count": 211,
   "metadata": {
    "collapsed": false
   },
   "outputs": [
    {
     "data": {
      "text/plain": [
       "{u'additional_description': [],\n",
       " u'alternate_title': [],\n",
       " u'category': [u'Audio'],\n",
       " u'citation': [],\n",
       " u'collection': [u'Nine To Noon', u'Radio New Zealand'],\n",
       " u'collection_title': [u'Nine To Noon', u'Radio New Zealand'],\n",
       " u'content_partner': [u'Radio New Zealand'],\n",
       " u'contributing_partner': [u'Nine To Noon'],\n",
       " u'contributor': [u'Christian Wright'],\n",
       " u'copyright': [u'All rights reserved'],\n",
       " u'created_at': u'2014-03-05T17:18:50.132+13:00',\n",
       " u'creator': [],\n",
       " u'credit_creator': None,\n",
       " u'date': [u'2010-08-11T23:30:00Z'],\n",
       " u'dc_identifier': [],\n",
       " u'dc_type': [u'Audio'],\n",
       " u'description': u\"Christian Wright answers listeners questions on children's speech and language problems.\",\n",
       " u'display_collection': u'Radio New Zealand',\n",
       " u'display_content_partner': u'Radio New Zealand',\n",
       " u'display_date': u'12/08/2010',\n",
       " u'dnz_type': u'Unknown',\n",
       " u'eprints_type': [],\n",
       " u'format': [],\n",
       " u'fulltext': None,\n",
       " u'has_version': [],\n",
       " u'holding': [],\n",
       " u'id': 33123814,\n",
       " u'is_commercial_use': None,\n",
       " u'is_part_of': [],\n",
       " u'is_replaced_by': None,\n",
       " u'is_required_by': None,\n",
       " u'is_version_of': None,\n",
       " u'landing_url': u'http://www.radionz.co.nz/national/programmes/ninetonoon/audio/2374147/christian-wright-speech-and-language-therapist',\n",
       " u'language': [],\n",
       " u'large_thumbnail_url': None,\n",
       " u'library_collection': [],\n",
       " u'license': None,\n",
       " u'metadata_url': None,\n",
       " u'object_url': None,\n",
       " u'origin_url': None,\n",
       " u'primary_collection': [u'Radio New Zealand'],\n",
       " u'provenance': None,\n",
       " u'published_date': [],\n",
       " u'publisher': [],\n",
       " u'relation': [],\n",
       " u'replaces': None,\n",
       " u'rights': None,\n",
       " u'rights_url': [],\n",
       " u'shelf_location': None,\n",
       " u'source': [],\n",
       " u'source_url': u'http://api.digitalnz.org/records/33123814/source',\n",
       " u'syndication_date': u'2014-03-05T17:18:50.132+13:00',\n",
       " u'table_of_contents': None,\n",
       " u'tag': [],\n",
       " u'text': None,\n",
       " u'thesis_level': None,\n",
       " u'thumbnail_url': None,\n",
       " u'title': u'Christian Wright - Speech and language therapist',\n",
       " u'updated_at': u'2014-05-28T02:27:29.134+12:00',\n",
       " u'usage': [u'All rights reserved']}"
      ]
     },
     "execution_count": 211,
     "metadata": {},
     "output_type": "execute_result"
    }
   ],
   "source": [
    "debsnz.records[0]"
   ]
  },
  {
   "cell_type": "code",
   "execution_count": 131,
   "metadata": {
    "collapsed": true
   },
   "outputs": [],
   "source": [
    "dicrq = len(dicjobz['rss']['channel']['item'])"
   ]
  },
  {
   "cell_type": "code",
   "execution_count": 132,
   "metadata": {
    "collapsed": false
   },
   "outputs": [
    {
     "data": {
      "text/plain": [
       "28"
      ]
     },
     "execution_count": 132,
     "metadata": {},
     "output_type": "execute_result"
    }
   ],
   "source": [
    "dicrq"
   ]
  },
  {
   "cell_type": "code",
   "execution_count": 133,
   "metadata": {
    "collapsed": true
   },
   "outputs": [],
   "source": [
    "#Return a random job."
   ]
  },
  {
   "cell_type": "code",
   "execution_count": 134,
   "metadata": {
    "collapsed": true
   },
   "outputs": [],
   "source": [
    "ranjoz = random.randint(0, dicrq)\n",
    "\n",
    "dicrsch = dicjobz['rss']['channel']['item']"
   ]
  },
  {
   "cell_type": "code",
   "execution_count": 134,
   "metadata": {
    "collapsed": false
   },
   "outputs": [],
   "source": []
  },
  {
   "cell_type": "code",
   "execution_count": 135,
   "metadata": {
    "collapsed": false
   },
   "outputs": [
    {
     "name": "stdout",
     "output_type": "stream",
     "text": [
      "http://jobs.minedu.govt.nz/jobtools/jncustomsearch.viewFullSingle?in_organid=17584&in_jnCounter=222577601&in_jobDate=All&in_searchbox=YES&in_summary=S#utm_source=JobRSS&utm_medium=JobRSS\n"
     ]
    }
   ],
   "source": [
    "print dicrsch[ranjoz]['link']\n",
    "\n"
   ]
  },
  {
   "cell_type": "code",
   "execution_count": 136,
   "metadata": {
    "collapsed": false
   },
   "outputs": [
    {
     "name": "stdout",
     "output_type": "stream",
     "text": [
      "Special Education Advisor\n"
     ]
    }
   ],
   "source": [
    "print dicrsch[ranjoz]['title']"
   ]
  },
  {
   "cell_type": "code",
   "execution_count": 137,
   "metadata": {
    "collapsed": true
   },
   "outputs": [],
   "source": [
    "#jobtype\n",
    "#location\n",
    "#date advertised\n",
    "#jobreference\n",
    "#jobtitle\n",
    "#should be keys\n",
    "#Currently they are inside description key\n",
    "#Create new json file that fixes this."
   ]
  },
  {
   "cell_type": "code",
   "execution_count": 138,
   "metadata": {
    "collapsed": false
   },
   "outputs": [
    {
     "name": "stdout",
     "output_type": "stream",
     "text": [
      "<ul class=\"job-info\"><li>Job Type: Full Time</li><li>Category: Special Education</li><li>Location: Southland</li><li>Date Advertised: 07-JUL-15</li><li>Job Reference: EDU/1169034</li><li>Job Title: Special Education Advisor</li><li>Business Unit: </li><li>Summary: </li></ul><p><p>&nbsp;</p>\n",
      "<p>Opportunities currently exist for a registered teacher experienced in working with children and young people with special educational needs to join the team at Special Education Southland, based in Invercargill. This position would also suit someone studying towards a Masters degree in the education field. &nbsp;The appointee will work with our students who have complex needs and be capable of working effectively with children, young people, parents, and educators in accordance with the goals and policies of Special Education.</p>\n",
      "<p>&nbsp;</p>\n",
      "<p>Special Education Southland provides a friendly and supportive working environment where an emphasis is placed on the development of professional skills and responsive service delivery.</p>\n",
      "<p>&nbsp;</p>\n",
      "<p>Applicants are required to hold a current New Zealand driver&rsquo;s&nbsp; licence.</p>\n",
      "<p>&nbsp;</p>\n",
      "<p>Applications close on Sunday 12 July 2015.</p>\n",
      "<p>&nbsp;</p></p>\n"
     ]
    }
   ],
   "source": [
    "print dicrsch[ranjoz]['description']"
   ]
  },
  {
   "cell_type": "code",
   "execution_count": 139,
   "metadata": {
    "collapsed": false
   },
   "outputs": [],
   "source": []
  },
  {
   "cell_type": "code",
   "execution_count": 171,
   "metadata": {
    "collapsed": false
   },
   "outputs": [],
   "source": [
    "#docstart.title = ('ministry-of-education-jobs')\n",
    "doc = dominate.document(title='ministry-of-education-jobs')\n",
    "\n",
    "with doc.head:\n",
    "    link(rel='stylesheet', href='style.css')\n",
    "    script(type='text/javascript', src='script.js')\n",
    "\n",
    "with doc:\n",
    "    #with div(id='header').add(ol()):\n",
    "        #for i in ['home', 'about', 'contact']:\n",
    "            #li(a(i.title(), href='/%s.html' % i))\n",
    "\n",
    "    with div(cls='row'):\n",
    "        h1('education-counts-jobs')\n",
    "        h2(dicrsch[ranjoz]['title'])\n",
    "        p(dicrs)\n",
    "        #p(dicrsch[ranjoz]['description'])\n",
    "        p(a(dicrs, href= dicrsch[ranjoz]['link']))\n",
    "\n",
    "        "
   ]
  },
  {
   "cell_type": "code",
   "execution_count": 172,
   "metadata": {
    "collapsed": false
   },
   "outputs": [],
   "source": [
    "#print doc\n",
    "\n",
    "docre = doc.render()\n",
    "#s = docre.decode('ascii', 'ignore')\n",
    "yourstring = docre.encode('ascii', 'ignore').decode('ascii')\n",
    "indfil = ('/home/wcmckee/minedujob/index.html')\n",
    "mkind = open(indfil, 'w')\n",
    "mkind.write(yourstring)\n",
    "mkind.close()"
   ]
  },
  {
   "cell_type": "code",
   "execution_count": 173,
   "metadata": {
    "collapsed": true
   },
   "outputs": [],
   "source": [
    "opeind = open('/home/wcmckee/minedujob/index.html', 'a')"
   ]
  },
  {
   "cell_type": "code",
   "execution_count": 174,
   "metadata": {
    "collapsed": false
   },
   "outputs": [],
   "source": [
    "opeind.write(dicrsch[ranjoz]['description'])"
   ]
  },
  {
   "cell_type": "code",
   "execution_count": 175,
   "metadata": {
    "collapsed": false
   },
   "outputs": [],
   "source": [
    "opeind.close()"
   ]
  },
  {
   "cell_type": "code",
   "execution_count": null,
   "metadata": {
    "collapsed": true
   },
   "outputs": [],
   "source": []
  }
 ],
 "metadata": {
  "kernelspec": {
   "display_name": "Python 2",
   "name": "python2"
  },
  "language_info": {
   "codemirror_mode": {
    "name": "ipython",
    "version": 2
   },
   "file_extension": ".py",
   "mimetype": "text/x-python",
   "name": "python",
   "nbconvert_exporter": "python",
   "pygments_lexer": "ipython2",
   "version": "2.7.9"
  }
 },
 "nbformat": 4,
 "nbformat_minor": 0
}
