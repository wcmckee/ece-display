{
 "cells": [
  {
   "cell_type": "markdown",
   "metadata": {},
   "source": [
    "<h3>minedujob</h3>\n",
    "\n",
    "Python script to fetch random job from Ministry Of Education and convert it into a json object. \n",
    "Merge data in from DigitalNZ.\n",
    "\n"
   ]
  },
  {
   "cell_type": "markdown",
   "metadata": {},
   "source": [
    "TODO\n",
    "\n",
    "Parse description tag for the keys and values hidden within that. \n",
    "Extract email from description, if email look up persons phone number and attach it.\n",
    "\n",
    "Location - look on digitalnz for creative commons commucial use images\n",
    "title - \n",
    "\n",
    "scrape url.\n",
    "\n",
    "cycle over all job listings and create json object with them all instead of just a random choice."
   ]
  },
  {
   "cell_type": "code",
   "execution_count": 14,
   "metadata": {
    "collapsed": false
   },
   "outputs": [],
   "source": [
    "import requests\n",
    "#import untangle\n",
    "import xmltodict\n",
    "import json\n",
    "#import random\n",
    "import bs4\n",
    "#import dominate\n",
    "#from dominate.tags import *\n",
    "#from pydnz import Dnz\n",
    "import arrow\n",
    "import bs4"
   ]
  },
  {
   "cell_type": "code",
   "execution_count": 15,
   "metadata": {
    "collapsed": true
   },
   "outputs": [],
   "source": [
    "#dnz = Dnz('keyhere')"
   ]
  },
  {
   "cell_type": "code",
   "execution_count": 16,
   "metadata": {
    "collapsed": true
   },
   "outputs": [],
   "source": [
    "jobreq = requests.get('https://jobs.minedu.govt.nz/jobtools/job_rss?o1=17584&k2=A52B3674BC046465&source=JobRSS&medium=JobRSS')"
   ]
  },
  {
   "cell_type": "code",
   "execution_count": 17,
   "metadata": {
    "collapsed": false
   },
   "outputs": [],
   "source": [
    "jobtxta = jobreq.text"
   ]
  },
  {
   "cell_type": "code",
   "execution_count": 18,
   "metadata": {
    "collapsed": false
   },
   "outputs": [],
   "source": [
    "#obj = untangle.parse(jobtxta)"
   ]
  },
  {
   "cell_type": "code",
   "execution_count": 167,
   "metadata": {
    "collapsed": false
   },
   "outputs": [
    {
     "data": {
      "text/plain": [
       "Element(name = None, attributes = None, cdata = )"
      ]
     },
     "execution_count": 167,
     "metadata": {},
     "output_type": "execute_result"
    }
   ],
   "source": [
    "#obj"
   ]
  },
  {
   "cell_type": "code",
   "execution_count": 19,
   "metadata": {
    "collapsed": false
   },
   "outputs": [],
   "source": [
    "dicjobz = xmltodict.parse(jobtxta)"
   ]
  },
  {
   "cell_type": "code",
   "execution_count": 20,
   "metadata": {
    "collapsed": false
   },
   "outputs": [],
   "source": [
    "ranldicj = len(dicjobz['rss']['channel']['item'])"
   ]
  },
  {
   "cell_type": "code",
   "execution_count": 21,
   "metadata": {
    "collapsed": false
   },
   "outputs": [
    {
     "data": {
      "text/plain": [
       "22"
      ]
     },
     "execution_count": 21,
     "metadata": {},
     "output_type": "execute_result"
    }
   ],
   "source": [
    "ranldicj"
   ]
  },
  {
   "cell_type": "code",
   "execution_count": 22,
   "metadata": {
    "collapsed": false
   },
   "outputs": [],
   "source": [
    "#randicz = random.randint(0, ranldicj)"
   ]
  },
  {
   "cell_type": "code",
   "execution_count": 23,
   "metadata": {
    "collapsed": false
   },
   "outputs": [],
   "source": [
    "#randicz"
   ]
  },
  {
   "cell_type": "code",
   "execution_count": 24,
   "metadata": {
    "collapsed": false
   },
   "outputs": [],
   "source": [
    "dicrs = dicjobz['rss']['channel']['item'][0]"
   ]
  },
  {
   "cell_type": "code",
   "execution_count": 25,
   "metadata": {
    "collapsed": false
   },
   "outputs": [
    {
     "data": {
      "text/plain": [
       "22"
      ]
     },
     "execution_count": 25,
     "metadata": {},
     "output_type": "execute_result"
    }
   ],
   "source": [
    "len(dicjobz['rss']['channel']['item'])"
   ]
  },
  {
   "cell_type": "code",
   "execution_count": 26,
   "metadata": {
    "collapsed": true
   },
   "outputs": [],
   "source": [
    "dicrts = dicrs['title']\n",
    "dicrtq = dicrs"
   ]
  },
  {
   "cell_type": "code",
   "execution_count": 27,
   "metadata": {
    "collapsed": false
   },
   "outputs": [],
   "source": [
    "artim = arrow.now(dicrtq['pubDate'])"
   ]
  },
  {
   "cell_type": "code",
   "execution_count": 92,
   "metadata": {
    "collapsed": false
   },
   "outputs": [],
   "source": [
    "jobclose = artim.replace(weeks=+2)"
   ]
  },
  {
   "cell_type": "code",
   "execution_count": 95,
   "metadata": {
    "collapsed": false
   },
   "outputs": [],
   "source": [
    "jclodat = jobclose.date()"
   ]
  },
  {
   "cell_type": "code",
   "execution_count": null,
   "metadata": {
    "collapsed": true
   },
   "outputs": [],
   "source": []
  },
  {
   "cell_type": "code",
   "execution_count": 97,
   "metadata": {
    "collapsed": true
   },
   "outputs": [],
   "source": [
    "msjobdic = dict()"
   ]
  },
  {
   "cell_type": "code",
   "execution_count": 98,
   "metadata": {
    "collapsed": false
   },
   "outputs": [],
   "source": [
    "msjobdic.update({'date-advertised' : str(artim.date()), \n",
    "                'time-advertised' : str(artim.time()),\n",
    "                'title' : dicrts,\n",
    "                'date-closed' : str(jclodat)})"
   ]
  },
  {
   "cell_type": "code",
   "execution_count": 99,
   "metadata": {
    "collapsed": false
   },
   "outputs": [],
   "source": [
    "#msjobdic"
   ]
  },
  {
   "cell_type": "code",
   "execution_count": 100,
   "metadata": {
    "collapsed": true
   },
   "outputs": [],
   "source": [
    "requlink = dicrtq['link']"
   ]
  },
  {
   "cell_type": "code",
   "execution_count": 101,
   "metadata": {
    "collapsed": true
   },
   "outputs": [],
   "source": [
    "reqlinkq = requests.get(requlink)"
   ]
  },
  {
   "cell_type": "code",
   "execution_count": 102,
   "metadata": {
    "collapsed": false
   },
   "outputs": [],
   "source": [
    "bsoup = bs4.BeautifulSoup(reqlinkq.text)"
   ]
  },
  {
   "cell_type": "code",
   "execution_count": 103,
   "metadata": {
    "collapsed": false
   },
   "outputs": [],
   "source": [
    "bfina = bsoup.findAll('a')"
   ]
  },
  {
   "cell_type": "code",
   "execution_count": 104,
   "metadata": {
    "collapsed": false
   },
   "outputs": [],
   "source": [
    "#msjobdic.update({'date advertised' : str(artim.date()), \n",
    "#                'time advertised' : str(artim.time()),\n",
    "#                'title' : dicrts,\n",
    "#                '})\n",
    "for bfin in bfina:\n",
    "    if ('@') in bfin.text:\n",
    "        #print bfin.text\n",
    "        msjobdic.update({('email') : str(bfin.text)})\n",
    "        "
   ]
  },
  {
   "cell_type": "code",
   "execution_count": 105,
   "metadata": {
    "collapsed": false
   },
   "outputs": [],
   "source": [
    "#for bfiny in bfina:\n",
    "#    if '.docx' in bfiny.text:\n",
    "#        print bfiny.text"
   ]
  },
  {
   "cell_type": "code",
   "execution_count": 106,
   "metadata": {
    "collapsed": true
   },
   "outputs": [],
   "source": [
    "#Search for this file and render text.\n",
    "#if jpg/gif render."
   ]
  },
  {
   "cell_type": "code",
   "execution_count": 107,
   "metadata": {
    "collapsed": true
   },
   "outputs": [],
   "source": [
    "for bfin in bfina:\n",
    "    if ('href') in bfin.text:\n",
    "        #print bfin.text\n",
    "        msjobdic.update({('href') : str(bfin.text)})"
   ]
  },
  {
   "cell_type": "code",
   "execution_count": 108,
   "metadata": {
    "collapsed": false
   },
   "outputs": [],
   "source": [
    "#msjob"
   ]
  },
  {
   "cell_type": "code",
   "execution_count": 109,
   "metadata": {
    "collapsed": false
   },
   "outputs": [],
   "source": [
    "#msjobdic.update({'randnum' : randicz})"
   ]
  },
  {
   "cell_type": "code",
   "execution_count": 110,
   "metadata": {
    "collapsed": true
   },
   "outputs": [],
   "source": [
    "for bfiny in bfina:\n",
    "    if '.docx' in bfiny.text:\n",
    "        msjobdic.update({'doc' : bfiny.text})"
   ]
  },
  {
   "cell_type": "code",
   "execution_count": 111,
   "metadata": {
    "collapsed": false
   },
   "outputs": [],
   "source": [
    "#msjobdic"
   ]
  },
  {
   "cell_type": "code",
   "execution_count": 112,
   "metadata": {
    "collapsed": true
   },
   "outputs": [],
   "source": [
    "msjobdic.update({'link' : dicrtq['link']})"
   ]
  },
  {
   "cell_type": "code",
   "execution_count": 113,
   "metadata": {
    "collapsed": false
   },
   "outputs": [
    {
     "data": {
      "text/plain": [
       "{'date-advertised': '2015-07-13',\n",
       " 'date-closed': '2015-07-27',\n",
       " 'doc': u'Practice Advisor Speech and Language jd.docx',\n",
       " 'email': 'northern.recruitment@minedu.govt.nz',\n",
       " 'link': u'http://jobs.minedu.govt.nz/jobtools/jncustomsearch.viewFullSingle?in_organid=17584&in_jnCounter=222578866&in_jobDate=All&in_searchbox=YES&in_summary=S#utm_source=JobRSS&utm_medium=JobRSS',\n",
       " 'time-advertised': '22:54:42.339155',\n",
       " 'title': u'Practice Advisor Speech and Language'}"
      ]
     },
     "execution_count": 113,
     "metadata": {},
     "output_type": "execute_result"
    }
   ],
   "source": [
    "#msjobdic"
   ]
  },
  {
   "cell_type": "code",
   "execution_count": 114,
   "metadata": {
    "collapsed": false
   },
   "outputs": [],
   "source": [
    "#msjobdic.update({'doc' : b"
   ]
  },
  {
   "cell_type": "code",
   "execution_count": 115,
   "metadata": {
    "collapsed": true
   },
   "outputs": [],
   "source": [
    "bsdescr = bs4.BeautifulSoup(dicrtq['description'])"
   ]
  },
  {
   "cell_type": "code",
   "execution_count": 116,
   "metadata": {
    "collapsed": false
   },
   "outputs": [
    {
     "name": "stdout",
     "output_type": "stream",
     "text": [
      "<li>Job Type: Full Time</li>\n",
      "<li>Category: Special Education</li>\n",
      "<li>Location: Auckland</li>\n",
      "<li>Date Advertised: 14-JUL-15</li>\n",
      "<li>Job Reference: EDU/1170564</li>\n",
      "<li>Job Title: Practice Advisor Speech and Language</li>\n",
      "<li>Business Unit: </li>\n",
      "<li>Summary: </li>\n"
     ]
    }
   ],
   "source": [
    "#for iza in bsdescr.findAll('li')[0:8]:\n",
    "#    print iza"
   ]
  },
  {
   "cell_type": "code",
   "execution_count": 117,
   "metadata": {
    "collapsed": true
   },
   "outputs": [],
   "source": [
    "lili = list()"
   ]
  },
  {
   "cell_type": "code",
   "execution_count": 118,
   "metadata": {
    "collapsed": false
   },
   "outputs": [],
   "source": [
    "txtspli = [line.text.split(\": \") for line in bsdescr.findAll('li')[0:8]]\n"
   ]
  },
  {
   "cell_type": "code",
   "execution_count": 119,
   "metadata": {
    "collapsed": true
   },
   "outputs": [],
   "source": [
    "findict = dict()"
   ]
  },
  {
   "cell_type": "code",
   "execution_count": 120,
   "metadata": {
    "collapsed": false
   },
   "outputs": [],
   "source": [
    "totlen = len(txtspli)"
   ]
  },
  {
   "cell_type": "code",
   "execution_count": 121,
   "metadata": {
    "collapsed": true
   },
   "outputs": [],
   "source": [
    "for tes in range(totlen):\n",
    "    findict.update({txtspli[tes][0] : txtspli[tes][1]})\n",
    "    "
   ]
  },
  {
   "cell_type": "code",
   "execution_count": 122,
   "metadata": {
    "collapsed": true
   },
   "outputs": [],
   "source": [
    "findict.update({txtspli[0][0] : txtspli[0][1]})"
   ]
  },
  {
   "cell_type": "code",
   "execution_count": 123,
   "metadata": {
    "collapsed": false
   },
   "outputs": [],
   "source": [
    "msjobz = findict.copy()\n",
    "msjobz.update(msjobdic)"
   ]
  },
  {
   "cell_type": "code",
   "execution_count": 124,
   "metadata": {
    "collapsed": false
   },
   "outputs": [],
   "source": [
    "#for bsdz in bsdescr.findAll('li'):\n",
    "#    (k,v) = bsdz.text.split(\": \")\n",
    "#    print bsdz.text\n",
    "#    print(k,v)\n",
    "#    lili.append(bsdz.text)"
   ]
  },
  {
   "cell_type": "code",
   "execution_count": 125,
   "metadata": {
    "collapsed": true
   },
   "outputs": [],
   "source": [
    "txtlis = list()"
   ]
  },
  {
   "cell_type": "code",
   "execution_count": 125,
   "metadata": {
    "collapsed": true
   },
   "outputs": [],
   "source": []
  },
  {
   "cell_type": "code",
   "execution_count": 126,
   "metadata": {
    "collapsed": false
   },
   "outputs": [],
   "source": [
    "bsp = bsdescr.findAll('p')"
   ]
  },
  {
   "cell_type": "code",
   "execution_count": 133,
   "metadata": {
    "collapsed": false
   },
   "outputs": [],
   "source": [
    "for bs in bsp:\n",
    "    #print bs.text\n",
    "    txtlis.append(bs.text)\n",
    "    #numchc = [int(s) for s in bs.text.split() if s.isdigit()]\n",
    "    #It's skipping items in the li since thats not a p :( \n",
    "    #There are other details in the description that I \n",
    "    #would like to extract - like closing date. \n",
    "    #Why not for closing date just take the date it was \n",
    "    #advertised and + 2 weeks?\n",
    "    "
   ]
  },
  {
   "cell_type": "code",
   "execution_count": 134,
   "metadata": {
    "collapsed": false
   },
   "outputs": [],
   "source": [
    "#dicrts"
   ]
  },
  {
   "cell_type": "code",
   "execution_count": 135,
   "metadata": {
    "collapsed": false
   },
   "outputs": [],
   "source": [
    "#debsnz =  dnz.search(dicrs)"
   ]
  },
  {
   "cell_type": "code",
   "execution_count": 136,
   "metadata": {
    "collapsed": false
   },
   "outputs": [],
   "source": [
    "#randrecord = len(debsnz.records)"
   ]
  },
  {
   "cell_type": "code",
   "execution_count": 137,
   "metadata": {
    "collapsed": false
   },
   "outputs": [],
   "source": [
    "#ranitdz = random.randint(0, randrecord)"
   ]
  },
  {
   "cell_type": "code",
   "execution_count": 138,
   "metadata": {
    "collapsed": false
   },
   "outputs": [],
   "source": [
    "#ranitdz"
   ]
  },
  {
   "cell_type": "code",
   "execution_count": 139,
   "metadata": {
    "collapsed": false
   },
   "outputs": [],
   "source": [
    "#randicz"
   ]
  },
  {
   "cell_type": "code",
   "execution_count": 140,
   "metadata": {
    "collapsed": false
   },
   "outputs": [],
   "source": [
    "#debsnz.records"
   ]
  },
  {
   "cell_type": "code",
   "execution_count": 141,
   "metadata": {
    "collapsed": false
   },
   "outputs": [],
   "source": [
    "#debrecintz = debsnz.records[ranitdz]"
   ]
  },
  {
   "cell_type": "code",
   "execution_count": 142,
   "metadata": {
    "collapsed": false
   },
   "outputs": [],
   "source": [
    "#kederz = debrecintz.keys()"
   ]
  },
  {
   "cell_type": "code",
   "execution_count": 143,
   "metadata": {
    "collapsed": false
   },
   "outputs": [],
   "source": [
    "#print debrecintz['category']\n",
    "#print debrecintz['usage']"
   ]
  },
  {
   "cell_type": "code",
   "execution_count": 144,
   "metadata": {
    "collapsed": false
   },
   "outputs": [],
   "source": [
    "#for ked in kederz:\n",
    "#    print ked\n",
    "#    print debrecintz[ked]\n",
    "    #print ked\n",
    "    #print ked\n",
    "    #print debrecintz['category']"
   ]
  },
  {
   "cell_type": "code",
   "execution_count": 145,
   "metadata": {
    "collapsed": false
   },
   "outputs": [],
   "source": [
    "#print debrecintz['id']"
   ]
  },
  {
   "cell_type": "code",
   "execution_count": 146,
   "metadata": {
    "collapsed": false
   },
   "outputs": [],
   "source": [
    "#getiddnz = ('http://api.digitalnz.org/v3/records/' + str(debrecintz['id']) + '.json?api_key=Ph2LDuyiJmJcQm1S5myy')"
   ]
  },
  {
   "cell_type": "code",
   "execution_count": 147,
   "metadata": {
    "collapsed": false
   },
   "outputs": [],
   "source": [
    "#getiddnz"
   ]
  },
  {
   "cell_type": "code",
   "execution_count": 148,
   "metadata": {
    "collapsed": false
   },
   "outputs": [],
   "source": [
    "#reqidnz = requests.get(getiddnz)"
   ]
  },
  {
   "cell_type": "code",
   "execution_count": 149,
   "metadata": {
    "collapsed": false
   },
   "outputs": [],
   "source": [
    "#json.dumps(reqidnz)"
   ]
  },
  {
   "cell_type": "code",
   "execution_count": 150,
   "metadata": {
    "collapsed": true
   },
   "outputs": [],
   "source": [
    "#mylirq = list()"
   ]
  },
  {
   "cell_type": "code",
   "execution_count": 151,
   "metadata": {
    "collapsed": false
   },
   "outputs": [],
   "source": [
    "#for reqi in reqidnz:\n",
    "    #print reqi\n",
    "    #print reqi.upper()\n",
    "    #reqi"
   ]
  },
  {
   "cell_type": "code",
   "execution_count": 152,
   "metadata": {
    "collapsed": false
   },
   "outputs": [],
   "source": [
    "#my_dict.pop(\"key\", None)"
   ]
  },
  {
   "cell_type": "code",
   "execution_count": 153,
   "metadata": {
    "collapsed": true
   },
   "outputs": [],
   "source": [
    "#dicrq = len(dicjobz['rss']['channel']['item'])"
   ]
  },
  {
   "cell_type": "code",
   "execution_count": 154,
   "metadata": {
    "collapsed": false
   },
   "outputs": [],
   "source": [
    "#dicrq"
   ]
  },
  {
   "cell_type": "code",
   "execution_count": 155,
   "metadata": {
    "collapsed": true
   },
   "outputs": [],
   "source": [
    "#Return a random job."
   ]
  },
  {
   "cell_type": "code",
   "execution_count": 156,
   "metadata": {
    "collapsed": true
   },
   "outputs": [],
   "source": [
    "#ranjoz = random.randint(0, dicrq)\n",
    "\n",
    "#dicrsch = dicjobz['rss']['channel']['item']"
   ]
  },
  {
   "cell_type": "code",
   "execution_count": 157,
   "metadata": {
    "collapsed": false
   },
   "outputs": [],
   "source": [
    "#print dicrsch[ranjoz]['link']"
   ]
  },
  {
   "cell_type": "code",
   "execution_count": 158,
   "metadata": {
    "collapsed": false
   },
   "outputs": [],
   "source": [
    "#print dicrsch[ranjoz]['title']"
   ]
  },
  {
   "cell_type": "code",
   "execution_count": 159,
   "metadata": {
    "collapsed": true
   },
   "outputs": [],
   "source": [
    "#jobtype\n",
    "#location\n",
    "#date advertised\n",
    "#jobreference\n",
    "#jobtitle\n",
    "#should be keys\n",
    "#Currently they are inside description key\n",
    "#Create new json file that fixes this."
   ]
  },
  {
   "cell_type": "code",
   "execution_count": 160,
   "metadata": {
    "collapsed": false
   },
   "outputs": [],
   "source": [
    "#for dezsr in  dicrsch[ranjoz]['description']:\n",
    "##    if 'JobType' in dezs#r:\n",
    "# #       print dezsr"
   ]
  },
  {
   "cell_type": "code",
   "execution_count": 161,
   "metadata": {
    "collapsed": false
   },
   "outputs": [],
   "source": [
    "#docstart.title = ('ministry-of-education-jobs')\n",
    "#doc = dominate.document(title='ministry-of-education-jobs')\n",
    "\n",
    "#with doc.head:\n",
    "#    link(rel='stylesheet', href='style.css')\n",
    "#    script(type='text/javascript', src='script.js')\n",
    "\n",
    "#with doc:\n",
    "    #with div(id='header').add(ol()):\n",
    "        #for i in ['home', 'about', 'contact']:\n",
    "            #li(a(i.title(), href='/%s.html' % i))\n",
    "\n",
    "#    with div(cls='row'):\n",
    "#        h1('education-counts-jobs')\n",
    "#        h2(dicrsch[ranjoz]['title'])\n",
    "#        p(dicrs)\n",
    "        #p(dicrsch[ranjoz]['description'])\n",
    "#        p(a(dicrs, href= dicrsch[ranjoz]['link']))\n",
    "        \n",
    "        #for ked in kederz:\n",
    "        #print ked\n",
    "        #    p((kederz[ked]))\n",
    "        #print ked\n",
    "        #print ked\n",
    "\n",
    "        "
   ]
  },
  {
   "cell_type": "code",
   "execution_count": 162,
   "metadata": {
    "collapsed": false
   },
   "outputs": [],
   "source": [
    "#print doc\n",
    "\n",
    "#docre = doc.render()\n",
    "#s = docre.decode('ascii', 'ignore')\n",
    "#yourstring = docre.encode('ascii', 'ignore').decode('ascii')\n",
    "#indfil = ('/home/wcmckee/minedujob/index.html')\n",
    "#mkind = open(indfil, 'w')\n",
    "#mkind.write(yourstring)\n",
    "#mkind.close()"
   ]
  },
  {
   "cell_type": "code",
   "execution_count": 163,
   "metadata": {
    "collapsed": false
   },
   "outputs": [],
   "source": [
    "jsmsdob = json.dumps(msjobdic)"
   ]
  },
  {
   "cell_type": "code",
   "execution_count": 164,
   "metadata": {
    "collapsed": true
   },
   "outputs": [],
   "source": [
    "opeind = open('/home/wcmckee/minedujob/minedujobs.json', 'a')"
   ]
  },
  {
   "cell_type": "code",
   "execution_count": 165,
   "metadata": {
    "collapsed": false
   },
   "outputs": [],
   "source": [
    "opeind.write(jsmsdob)"
   ]
  },
  {
   "cell_type": "code",
   "execution_count": 166,
   "metadata": {
    "collapsed": false
   },
   "outputs": [],
   "source": [
    "opeind.close()"
   ]
  },
  {
   "cell_type": "code",
   "execution_count": 166,
   "metadata": {
    "collapsed": true
   },
   "outputs": [],
   "source": []
  },
  {
   "cell_type": "code",
   "execution_count": null,
   "metadata": {
    "collapsed": true
   },
   "outputs": [],
   "source": []
  }
 ],
 "metadata": {
  "kernelspec": {
   "display_name": "Python 2",
   "name": "python2"
  },
  "language_info": {
   "codemirror_mode": {
    "name": "ipython",
    "version": 2
   },
   "file_extension": ".py",
   "mimetype": "text/x-python",
   "name": "python",
   "nbconvert_exporter": "python",
   "pygments_lexer": "ipython2",
   "version": "2.7.9"
  }
 },
 "nbformat": 4,
 "nbformat_minor": 0
}
