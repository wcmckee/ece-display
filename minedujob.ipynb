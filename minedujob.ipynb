{
 "cells": [
  {
   "cell_type": "markdown",
   "metadata": {},
   "source": [
    "<h3>minedujob</h3>\n",
    "\n",
    "Python script to fetch jobs from Ministry Of Education and convert it into a json object. Fix format problems around the xml.  \n",
    "\n"
   ]
  },
  {
   "cell_type": "code",
   "execution_count": null,
   "metadata": {
    "collapsed": true
   },
   "outputs": [],
   "source": []
  },
  {
   "cell_type": "markdown",
   "metadata": {},
   "source": [
    "TODO\n",
    "\n",
    "done - Parse description tag for the keys and values hidden within that. \n",
    "done - Extract email from description, if email look up persons phone number and attach it.\n",
    "\n",
    "Location - look on digitalnz for cc by images. Search location and aerial photos of the area that could be used in the job ad.\n",
    "title - \n",
    "\n",
    "scrape url.\n",
    "\n",
    "done - cycle over all job listings and create json object with them all instead of just a random choice.\n",
    "\n",
    "Short the url\n",
    "\n",
    "Fix arrow to convert to the time given rather than time now.\n",
    "\n",
    "Merge data in from DigitalNZ.\n",
    "\n",
    "What other apis could i merge in?\n",
    "\n",
    "Fix the li that doesn't get included in description text (p) and make sure it is included.\n",
    "\n"
   ]
  },
  {
   "cell_type": "code",
   "execution_count": 379,
   "metadata": {
    "collapsed": true
   },
   "outputs": [],
   "source": []
  },
  {
   "cell_type": "code",
   "execution_count": null,
   "metadata": {
    "collapsed": true
   },
   "outputs": [],
   "source": []
  },
  {
   "cell_type": "code",
   "execution_count": null,
   "metadata": {
    "collapsed": true
   },
   "outputs": [],
   "source": []
  },
  {
   "cell_type": "code",
   "execution_count": 3,
   "metadata": {
    "collapsed": false
   },
   "outputs": [],
   "source": [
    "import requests\n",
    "#import untangle\n",
    "import xmltodict\n",
    "import json\n",
    "#import random\n",
    "import bs4\n",
    "#import dominate\n",
    "#from dominate.tags import *\n",
    "#from pydnz import Dnz\n",
    "#import arrow\n",
    "import bs4\n",
    "#import pyshorteners\n",
    "#import tweepy"
   ]
  },
  {
   "cell_type": "code",
   "execution_count": null,
   "metadata": {
    "collapsed": false
   },
   "outputs": [],
   "source": []
  },
  {
   "cell_type": "code",
   "execution_count": null,
   "metadata": {
    "collapsed": true
   },
   "outputs": [],
   "source": []
  },
  {
   "cell_type": "code",
   "execution_count": 4,
   "metadata": {
    "collapsed": true
   },
   "outputs": [],
   "source": [
    "#dnz = Dnz('keyhere')"
   ]
  },
  {
   "cell_type": "code",
   "execution_count": 5,
   "metadata": {
    "collapsed": false
   },
   "outputs": [
    {
     "name": "stderr",
     "output_type": "stream",
     "text": [
      "/usr/local/lib/python2.7/dist-packages/requests/packages/urllib3/util/ssl_.py:90: InsecurePlatformWarning: A true SSLContext object is not available. This prevents urllib3 from configuring SSL appropriately and may cause certain SSL connections to fail. For more information, see https://urllib3.readthedocs.org/en/latest/security.html#insecureplatformwarning.\n",
      "  InsecurePlatformWarning\n"
     ]
    }
   ],
   "source": [
    "jobreq = requests.get('https://jobs.minedu.govt.nz/jobtools/job_rss?o1=17584&k2=A52B3674BC046465&source=JobRSS&medium=JobRSS')"
   ]
  },
  {
   "cell_type": "code",
   "execution_count": 7,
   "metadata": {
    "collapsed": false
   },
   "outputs": [],
   "source": [
    "jobtxta = jobreq.text"
   ]
  },
  {
   "cell_type": "code",
   "execution_count": 8,
   "metadata": {
    "collapsed": false
   },
   "outputs": [],
   "source": [
    "#obj = untangle.parse(jobtxta)"
   ]
  },
  {
   "cell_type": "code",
   "execution_count": 9,
   "metadata": {
    "collapsed": false
   },
   "outputs": [],
   "source": [
    "#obj"
   ]
  },
  {
   "cell_type": "code",
   "execution_count": 10,
   "metadata": {
    "collapsed": false
   },
   "outputs": [],
   "source": [
    "dicjobz = xmltodict.parse(jobtxta)"
   ]
  },
  {
   "cell_type": "code",
   "execution_count": 11,
   "metadata": {
    "collapsed": false
   },
   "outputs": [],
   "source": [
    "ranldicj = len(dicjobz['rss']['channel']['item'])"
   ]
  },
  {
   "cell_type": "code",
   "execution_count": 12,
   "metadata": {
    "collapsed": false
   },
   "outputs": [],
   "source": [
    "#ranldicj"
   ]
  },
  {
   "cell_type": "code",
   "execution_count": 13,
   "metadata": {
    "collapsed": false
   },
   "outputs": [],
   "source": [
    "#randicz = random.randint(0, ranldicj)"
   ]
  },
  {
   "cell_type": "code",
   "execution_count": 14,
   "metadata": {
    "collapsed": false
   },
   "outputs": [],
   "source": [
    "#randicz"
   ]
  },
  {
   "cell_type": "code",
   "execution_count": 15,
   "metadata": {
    "collapsed": true
   },
   "outputs": [],
   "source": [
    "wrapdict = dict()"
   ]
  },
  {
   "cell_type": "code",
   "execution_count": 18,
   "metadata": {
    "collapsed": false,
    "scrolled": true
   },
   "outputs": [],
   "source": [
    "for dic in range(ranldicj):\n",
    "    dicrs = dicjobz['rss']['channel']['item'][dic]\n",
    "    dicrts = dicrs['title']\n",
    "    dicrtq = dicrs\n",
    "    #artim = arrow.now(dicrtq['pubDate'])\n",
    "    #jobclose = artim.replace(weeks=+2)\n",
    "    #jclodat = jobclose.date()\n",
    "    msjobdic = dict()\n",
    "    #msjobdic.update({#'date-advertised' : str(artim.date()), \n",
    "                #'time-advertised' : str(artim.time()),\n",
    "                #'title' : dicrts,\n",
    "                #'date-closed' : str(jclodat)})\n",
    "    requlink = dicrtq['link']\n",
    "    reqlinkq = requests.get(requlink)\n",
    "    bsoup = bs4.BeautifulSoup(reqlinkq.text)\n",
    "    bfina = bsoup.findAll('a')\n",
    "    for bfin in bfina:\n",
    "        if ('@') in bfin.text:\n",
    "            #print bfin.text\n",
    "            msjobdic.update({('email') : str(bfin.text)})\n",
    "            \n",
    "    for bfin in bfina:\n",
    "        if ('href') in bfin.text:\n",
    "            #print bfin.text\n",
    "            msjobdic.update({('href') : str(bfin.text)})\n",
    "    for bfiny in bfina:\n",
    "        if '.docx' in bfiny.text:\n",
    "            msjobdic.update({'doc' : bfiny.text})\n",
    "    msjobdic.update({'link' : dicrtq['link']})\n",
    "    msjobdic.update({'jsonlen' : (str(dic))})\n",
    "    bsdescr = bs4.BeautifulSoup(dicrtq['description'])\n",
    "    txtspli = [line.text.split(\": \") for line in bsdescr.findAll('li')[0:8]]\n",
    "    docitems = [line.text.split(\": \") for line in bsdescr.findAll('li')[9:]]\n",
    "    findict = dict()\n",
    "    findict.update({'lidocend' : docitems})\n",
    "    totlen = len(txtspli)\n",
    "    for tes in range(totlen):\n",
    "        findict.update({txtspli[tes][0] : txtspli[tes][1]})\n",
    "    findict.update({txtspli[0][0] : txtspli[0][1]})\n",
    "    msjobz = findict.copy()\n",
    "    msjobz.update(msjobdic)\n",
    "    \n",
    "    wrapdict.update({dic : msjobz})\n",
    "    jsmsdob = json.dumps(wrapdict)\n",
    "    #opeind = open('/home/wcmckee/minedujob/' + str(dic) + '.json', 'w')\n",
    "    opind = open('/home/wcmckee/minedujob/index.json', 'w')\n",
    "    opind.write(jsmsdob)\n",
    "    #api.update_status(dicrts)\n",
    "    #opeind.close()\n",
    "    \n",
    "    "
   ]
  },
  {
   "cell_type": "code",
   "execution_count": 19,
   "metadata": {
    "collapsed": false
   },
   "outputs": [],
   "source": [
    "opind.close()"
   ]
  },
  {
   "cell_type": "code",
   "execution_count": null,
   "metadata": {
    "collapsed": true
   },
   "outputs": [],
   "source": []
  },
  {
   "cell_type": "code",
   "execution_count": null,
   "metadata": {
    "collapsed": true
   },
   "outputs": [],
   "source": [
    "#opeind.close()"
   ]
  },
  {
   "cell_type": "code",
   "execution_count": 300,
   "metadata": {
    "collapsed": false
   },
   "outputs": [],
   "source": [
    "#dicrs = dicjobz['rss']['channel']['item'][0]"
   ]
  },
  {
   "cell_type": "code",
   "execution_count": 301,
   "metadata": {
    "collapsed": true
   },
   "outputs": [],
   "source": [
    "#dicrts = dicrs['title']\n",
    "#dicrtq = dicrs"
   ]
  },
  {
   "cell_type": "code",
   "execution_count": 182,
   "metadata": {
    "collapsed": false
   },
   "outputs": [],
   "source": [
    "#artim = arrow.now(dicrtq['pubDate'])"
   ]
  },
  {
   "cell_type": "code",
   "execution_count": 183,
   "metadata": {
    "collapsed": false
   },
   "outputs": [],
   "source": [
    "#jobclose = artim.replace(weeks=+2)"
   ]
  },
  {
   "cell_type": "code",
   "execution_count": 184,
   "metadata": {
    "collapsed": false
   },
   "outputs": [],
   "source": [
    "#jclodat = jobclose.date()"
   ]
  },
  {
   "cell_type": "code",
   "execution_count": 184,
   "metadata": {
    "collapsed": true
   },
   "outputs": [],
   "source": []
  },
  {
   "cell_type": "code",
   "execution_count": 185,
   "metadata": {
    "collapsed": true
   },
   "outputs": [],
   "source": [
    "#msjobdic = dict()"
   ]
  },
  {
   "cell_type": "code",
   "execution_count": 186,
   "metadata": {
    "collapsed": false
   },
   "outputs": [],
   "source": [
    "#msjobdic.update({'date-advertised' : str(artim.date()), \n",
    "#                'time-advertised' : str(artim.time()),\n",
    "#                'title' : dicrts,\n",
    "#                'date-closed' : str(jclodat)})"
   ]
  },
  {
   "cell_type": "code",
   "execution_count": 187,
   "metadata": {
    "collapsed": false
   },
   "outputs": [],
   "source": [
    "#msjobdic"
   ]
  },
  {
   "cell_type": "code",
   "execution_count": 188,
   "metadata": {
    "collapsed": true
   },
   "outputs": [],
   "source": [
    "#requlink = dicrtq['link']"
   ]
  },
  {
   "cell_type": "code",
   "execution_count": 189,
   "metadata": {
    "collapsed": true
   },
   "outputs": [],
   "source": [
    "#reqlinkq = requests.get(requlink)"
   ]
  },
  {
   "cell_type": "code",
   "execution_count": 190,
   "metadata": {
    "collapsed": false
   },
   "outputs": [],
   "source": [
    "#bsoup = bs4.BeautifulSoup(reqlinkq.text)"
   ]
  },
  {
   "cell_type": "code",
   "execution_count": 191,
   "metadata": {
    "collapsed": false
   },
   "outputs": [],
   "source": [
    "#bfina = bsoup.findAll('a')"
   ]
  },
  {
   "cell_type": "code",
   "execution_count": 192,
   "metadata": {
    "collapsed": false
   },
   "outputs": [],
   "source": [
    "#msjobdic.update({'date advertised' : str(artim.date()), \n",
    "#                'time advertised' : str(artim.time()),\n",
    "#                'title' : dicrts,\n",
    "#                '})\n",
    "#for bfin in bfina:\n",
    "#    if ('@') in bfin.text:\n",
    "#        #print bfin.text\n",
    "#        msjobdic.update({('email') : str(bfin.text)})\n",
    "        "
   ]
  },
  {
   "cell_type": "code",
   "execution_count": 193,
   "metadata": {
    "collapsed": false
   },
   "outputs": [],
   "source": [
    "#for bfiny in bfina:\n",
    "#    if '.docx' in bfiny.text:\n",
    "#        print bfiny.text"
   ]
  },
  {
   "cell_type": "code",
   "execution_count": 194,
   "metadata": {
    "collapsed": true
   },
   "outputs": [],
   "source": [
    "#Search for this file and render text.\n",
    "#if jpg/gif render."
   ]
  },
  {
   "cell_type": "code",
   "execution_count": 195,
   "metadata": {
    "collapsed": true
   },
   "outputs": [],
   "source": [
    "#for bfin in bfina:\n",
    "#    if ('href') in bfin.text:\n",
    "        #print bfin.text\n",
    "#        msjobdic.update({('href') : str(bfin.text)})"
   ]
  },
  {
   "cell_type": "code",
   "execution_count": 196,
   "metadata": {
    "collapsed": false
   },
   "outputs": [],
   "source": [
    "#msjob"
   ]
  },
  {
   "cell_type": "code",
   "execution_count": 197,
   "metadata": {
    "collapsed": false
   },
   "outputs": [],
   "source": [
    "#msjobdic.update({'randnum' : randicz})"
   ]
  },
  {
   "cell_type": "code",
   "execution_count": 198,
   "metadata": {
    "collapsed": true
   },
   "outputs": [],
   "source": [
    "#for bfiny in bfina:\n",
    "#    if '.docx' in bfiny.text:\n",
    "#        msjobdic.update({'doc' : bfiny.text})"
   ]
  },
  {
   "cell_type": "code",
   "execution_count": 199,
   "metadata": {
    "collapsed": false
   },
   "outputs": [],
   "source": [
    "#msjobdic"
   ]
  },
  {
   "cell_type": "code",
   "execution_count": 200,
   "metadata": {
    "collapsed": true
   },
   "outputs": [],
   "source": [
    "#msjobdic.update({'link' : dicrtq['link']})"
   ]
  },
  {
   "cell_type": "code",
   "execution_count": 201,
   "metadata": {
    "collapsed": false
   },
   "outputs": [],
   "source": [
    "#msjobdic"
   ]
  },
  {
   "cell_type": "code",
   "execution_count": 202,
   "metadata": {
    "collapsed": false
   },
   "outputs": [],
   "source": [
    "#msjobdic.update({'doc' : b"
   ]
  },
  {
   "cell_type": "code",
   "execution_count": 203,
   "metadata": {
    "collapsed": true
   },
   "outputs": [],
   "source": [
    "#bsdescr = bs4.BeautifulSoup(dicrtq['description'])"
   ]
  },
  {
   "cell_type": "code",
   "execution_count": 204,
   "metadata": {
    "collapsed": false
   },
   "outputs": [],
   "source": [
    "#for iza in bsdescr.findAll('li')[0:8]:\n",
    "#    print iza"
   ]
  },
  {
   "cell_type": "code",
   "execution_count": 205,
   "metadata": {
    "collapsed": true
   },
   "outputs": [],
   "source": [
    "#lili = list()"
   ]
  },
  {
   "cell_type": "code",
   "execution_count": 206,
   "metadata": {
    "collapsed": false
   },
   "outputs": [],
   "source": [
    "#txtspli = [line.text.split(\": \") for line in bsdescr.findAll('li')[0:8]]\n"
   ]
  },
  {
   "cell_type": "code",
   "execution_count": 207,
   "metadata": {
    "collapsed": true
   },
   "outputs": [],
   "source": [
    "#findict = dict()"
   ]
  },
  {
   "cell_type": "code",
   "execution_count": 208,
   "metadata": {
    "collapsed": false
   },
   "outputs": [],
   "source": [
    "#totlen = len(txtspli)"
   ]
  },
  {
   "cell_type": "code",
   "execution_count": 209,
   "metadata": {
    "collapsed": true
   },
   "outputs": [],
   "source": [
    "#for tes in range(totlen):\n",
    "#    findict.update({txtspli[tes][0] : txtspli[tes][1]})\n",
    "    "
   ]
  },
  {
   "cell_type": "code",
   "execution_count": 210,
   "metadata": {
    "collapsed": true
   },
   "outputs": [],
   "source": [
    "#findict.update({txtspli[0][0] : txtspli[0][1]})"
   ]
  },
  {
   "cell_type": "code",
   "execution_count": 211,
   "metadata": {
    "collapsed": false
   },
   "outputs": [],
   "source": [
    "#msjobz = findict.copy()\n",
    "#msjobz.update(msjobdic)"
   ]
  },
  {
   "cell_type": "code",
   "execution_count": 212,
   "metadata": {
    "collapsed": false
   },
   "outputs": [],
   "source": [
    "#for bsdz in bsdescr.findAll('li'):\n",
    "#    (k,v) = bsdz.text.split(\": \")\n",
    "#    print bsdz.text\n",
    "#    print(k,v)\n",
    "#    lili.append(bsdz.text)"
   ]
  },
  {
   "cell_type": "code",
   "execution_count": 213,
   "metadata": {
    "collapsed": true
   },
   "outputs": [],
   "source": [
    "#txtlis = list()"
   ]
  },
  {
   "cell_type": "code",
   "execution_count": 213,
   "metadata": {
    "collapsed": true
   },
   "outputs": [],
   "source": []
  },
  {
   "cell_type": "code",
   "execution_count": 214,
   "metadata": {
    "collapsed": false
   },
   "outputs": [],
   "source": [
    "#bsp = bsdescr.findAll('p')"
   ]
  },
  {
   "cell_type": "code",
   "execution_count": 215,
   "metadata": {
    "collapsed": false
   },
   "outputs": [],
   "source": [
    "#for bs in bsp:\n",
    "    #print bs.text\n",
    "    #txtlis.append(bs.text)\n",
    "    #numchc = [int(s) for s in bs.text.split() if s.isdigit()]\n",
    "    #It's skipping items in the li since thats not a p :( \n",
    "    #There are other details in the description that I \n",
    "    #would like to extract - like closing date. \n",
    "    #Why not for closing date just take the date it was \n",
    "    #advertised and + 2 weeks?\n",
    "    "
   ]
  },
  {
   "cell_type": "code",
   "execution_count": 216,
   "metadata": {
    "collapsed": false
   },
   "outputs": [],
   "source": [
    "#dicrts"
   ]
  },
  {
   "cell_type": "code",
   "execution_count": 217,
   "metadata": {
    "collapsed": false
   },
   "outputs": [],
   "source": [
    "#debsnz =  dnz.search(dicrs)"
   ]
  },
  {
   "cell_type": "code",
   "execution_count": 218,
   "metadata": {
    "collapsed": false
   },
   "outputs": [],
   "source": [
    "#randrecord = len(debsnz.records)"
   ]
  },
  {
   "cell_type": "code",
   "execution_count": 219,
   "metadata": {
    "collapsed": false
   },
   "outputs": [],
   "source": [
    "#ranitdz = random.randint(0, randrecord)"
   ]
  },
  {
   "cell_type": "code",
   "execution_count": 220,
   "metadata": {
    "collapsed": false
   },
   "outputs": [],
   "source": [
    "#ranitdz"
   ]
  },
  {
   "cell_type": "code",
   "execution_count": 221,
   "metadata": {
    "collapsed": false
   },
   "outputs": [],
   "source": [
    "#randicz"
   ]
  },
  {
   "cell_type": "code",
   "execution_count": 222,
   "metadata": {
    "collapsed": false
   },
   "outputs": [],
   "source": [
    "#debsnz.records"
   ]
  },
  {
   "cell_type": "code",
   "execution_count": 223,
   "metadata": {
    "collapsed": false
   },
   "outputs": [],
   "source": [
    "#debrecintz = debsnz.records[ranitdz]"
   ]
  },
  {
   "cell_type": "code",
   "execution_count": 224,
   "metadata": {
    "collapsed": false
   },
   "outputs": [],
   "source": [
    "#kederz = debrecintz.keys()"
   ]
  },
  {
   "cell_type": "code",
   "execution_count": 225,
   "metadata": {
    "collapsed": false
   },
   "outputs": [],
   "source": [
    "#print debrecintz['category']\n",
    "#print debrecintz['usage']"
   ]
  },
  {
   "cell_type": "code",
   "execution_count": 226,
   "metadata": {
    "collapsed": false
   },
   "outputs": [],
   "source": [
    "#for ked in kederz:\n",
    "#    print ked\n",
    "#    print debrecintz[ked]\n",
    "    #print ked\n",
    "    #print ked\n",
    "    #print debrecintz['category']"
   ]
  },
  {
   "cell_type": "code",
   "execution_count": 227,
   "metadata": {
    "collapsed": false
   },
   "outputs": [],
   "source": [
    "#print debrecintz['id']"
   ]
  },
  {
   "cell_type": "code",
   "execution_count": 228,
   "metadata": {
    "collapsed": false
   },
   "outputs": [],
   "source": [
    "#getiddnz = ('http://api.digitalnz.org/v3/records/' + str(debrecintz['id']) + '.json?api_key=Ph2LDuyiJmJcQm1S5myy')"
   ]
  },
  {
   "cell_type": "code",
   "execution_count": 229,
   "metadata": {
    "collapsed": false
   },
   "outputs": [],
   "source": [
    "#getiddnz"
   ]
  },
  {
   "cell_type": "code",
   "execution_count": 230,
   "metadata": {
    "collapsed": false
   },
   "outputs": [],
   "source": [
    "#reqidnz = requests.get(getiddnz)"
   ]
  },
  {
   "cell_type": "code",
   "execution_count": 231,
   "metadata": {
    "collapsed": false
   },
   "outputs": [],
   "source": [
    "#json.dumps(reqidnz)"
   ]
  },
  {
   "cell_type": "code",
   "execution_count": 232,
   "metadata": {
    "collapsed": true
   },
   "outputs": [],
   "source": [
    "#mylirq = list()"
   ]
  },
  {
   "cell_type": "code",
   "execution_count": 233,
   "metadata": {
    "collapsed": false
   },
   "outputs": [],
   "source": [
    "#for reqi in reqidnz:\n",
    "    #print reqi\n",
    "    #print reqi.upper()\n",
    "    #reqi"
   ]
  },
  {
   "cell_type": "code",
   "execution_count": 234,
   "metadata": {
    "collapsed": false
   },
   "outputs": [],
   "source": [
    "#my_dict.pop(\"key\", None)"
   ]
  },
  {
   "cell_type": "code",
   "execution_count": 235,
   "metadata": {
    "collapsed": true
   },
   "outputs": [],
   "source": [
    "#dicrq = len(dicjobz['rss']['channel']['item'])"
   ]
  },
  {
   "cell_type": "code",
   "execution_count": 236,
   "metadata": {
    "collapsed": false
   },
   "outputs": [],
   "source": [
    "#dicrq"
   ]
  },
  {
   "cell_type": "code",
   "execution_count": 237,
   "metadata": {
    "collapsed": true
   },
   "outputs": [],
   "source": [
    "#Return a random job."
   ]
  },
  {
   "cell_type": "code",
   "execution_count": 238,
   "metadata": {
    "collapsed": true
   },
   "outputs": [],
   "source": [
    "#ranjoz = random.randint(0, dicrq)\n",
    "\n",
    "#dicrsch = dicjobz['rss']['channel']['item']"
   ]
  },
  {
   "cell_type": "code",
   "execution_count": 239,
   "metadata": {
    "collapsed": false
   },
   "outputs": [],
   "source": [
    "#print dicrsch[ranjoz]['link']"
   ]
  },
  {
   "cell_type": "code",
   "execution_count": 240,
   "metadata": {
    "collapsed": false
   },
   "outputs": [],
   "source": [
    "#print dicrsch[ranjoz]['title']"
   ]
  },
  {
   "cell_type": "code",
   "execution_count": 241,
   "metadata": {
    "collapsed": true
   },
   "outputs": [],
   "source": [
    "#jobtype\n",
    "#location\n",
    "#date advertised\n",
    "#jobreference\n",
    "#jobtitle\n",
    "#should be keys\n",
    "#Currently they are inside description key\n",
    "#Create new json file that fixes this."
   ]
  },
  {
   "cell_type": "code",
   "execution_count": 242,
   "metadata": {
    "collapsed": false
   },
   "outputs": [],
   "source": [
    "#for dezsr in  dicrsch[ranjoz]['description']:\n",
    "##    if 'JobType' in dezs#r:\n",
    "# #       print dezsr"
   ]
  },
  {
   "cell_type": "code",
   "execution_count": 243,
   "metadata": {
    "collapsed": false
   },
   "outputs": [],
   "source": [
    "#docstart.title = ('ministry-of-education-jobs')\n",
    "#doc = dominate.document(title='ministry-of-education-jobs')\n",
    "\n",
    "#with doc.head:\n",
    "#    link(rel='stylesheet', href='style.css')\n",
    "#    script(type='text/javascript', src='script.js')\n",
    "\n",
    "#with doc:\n",
    "    #with div(id='header').add(ol()):\n",
    "        #for i in ['home', 'about', 'contact']:\n",
    "            #li(a(i.title(), href='/%s.html' % i))\n",
    "\n",
    "#    with div(cls='row'):\n",
    "#        h1('education-counts-jobs')\n",
    "#        h2(dicrsch[ranjoz]['title'])\n",
    "#        p(dicrs)\n",
    "        #p(dicrsch[ranjoz]['description'])\n",
    "#        p(a(dicrs, href= dicrsch[ranjoz]['link']))\n",
    "        \n",
    "        #for ked in kederz:\n",
    "        #print ked\n",
    "        #    p((kederz[ked]))\n",
    "        #print ked\n",
    "        #print ked\n",
    "\n",
    "        "
   ]
  },
  {
   "cell_type": "code",
   "execution_count": 244,
   "metadata": {
    "collapsed": false
   },
   "outputs": [],
   "source": [
    "#print doc\n",
    "\n",
    "#docre = doc.render()\n",
    "#s = docre.decode('ascii', 'ignore')\n",
    "#yourstring = docre.encode('ascii', 'ignore').decode('ascii')\n",
    "#indfil = ('/home/wcmckee/minedujob/index.html')\n",
    "#mkind = open(indfil, 'w')\n",
    "#mkind.write(yourstring)\n",
    "#mkind.close()"
   ]
  },
  {
   "cell_type": "code",
   "execution_count": 261,
   "metadata": {
    "collapsed": false
   },
   "outputs": [],
   "source": [
    "#jsmsdob = json.dumps(msjobdic)"
   ]
  },
  {
   "cell_type": "code",
   "execution_count": 262,
   "metadata": {
    "collapsed": true
   },
   "outputs": [],
   "source": [
    "#opeind = open('/home/wcmckee/minedujob/minedujobs.json', 'w')"
   ]
  },
  {
   "cell_type": "code",
   "execution_count": 263,
   "metadata": {
    "collapsed": false
   },
   "outputs": [],
   "source": [
    "#opeind.write(jsmsdob)"
   ]
  },
  {
   "cell_type": "code",
   "execution_count": 264,
   "metadata": {
    "collapsed": false
   },
   "outputs": [],
   "source": [
    "#opeind.close()"
   ]
  },
  {
   "cell_type": "code",
   "execution_count": 248,
   "metadata": {
    "collapsed": true
   },
   "outputs": [],
   "source": []
  },
  {
   "cell_type": "code",
   "execution_count": null,
   "metadata": {
    "collapsed": true
   },
   "outputs": [],
   "source": []
  }
 ],
 "metadata": {
  "kernelspec": {
   "display_name": "Python 2",
   "language": "python",
   "name": "python2"
  },
  "language_info": {
   "codemirror_mode": {
    "name": "ipython",
    "version": 2
   },
   "file_extension": ".py",
   "mimetype": "text/x-python",
   "name": "python",
   "nbconvert_exporter": "python",
   "pygments_lexer": "ipython2",
   "version": "2.7.3"
  }
 },
 "nbformat": 4,
 "nbformat_minor": 0
}
