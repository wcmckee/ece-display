{
 "cells": [
  {
   "cell_type": "code",
   "execution_count": 50,
   "metadata": {
    "collapsed": true
   },
   "outputs": [],
   "source": [
    "import requests\n",
    "import untangle\n",
    "import xmltodict\n",
    "import json\n",
    "import random"
   ]
  },
  {
   "cell_type": "code",
   "execution_count": null,
   "metadata": {
    "collapsed": true
   },
   "outputs": [],
   "source": []
  },
  {
   "cell_type": "code",
   "execution_count": 6,
   "metadata": {
    "collapsed": true
   },
   "outputs": [],
   "source": [
    "jobreq = requests.get('https://jobs.minedu.govt.nz/jobtools/job_rss?o1=17584&k2=A52B3674BC046465&source=JobRSS&medium=JobRSS')"
   ]
  },
  {
   "cell_type": "code",
   "execution_count": 9,
   "metadata": {
    "collapsed": false
   },
   "outputs": [],
   "source": [
    "jobtxta = jobreq.text"
   ]
  },
  {
   "cell_type": "code",
   "execution_count": 12,
   "metadata": {
    "collapsed": false
   },
   "outputs": [],
   "source": [
    "obj = untangle.parse(jobtxta)"
   ]
  },
  {
   "cell_type": "code",
   "execution_count": 21,
   "metadata": {
    "collapsed": false
   },
   "outputs": [],
   "source": [
    "dicjobz = xmltodict.parse(jobtxta)"
   ]
  },
  {
   "cell_type": "code",
   "execution_count": 58,
   "metadata": {
    "collapsed": false
   },
   "outputs": [],
   "source": [
    "dicrs = dicjobz['rss']['channel']['item'][0]['title']"
   ]
  },
  {
   "cell_type": "code",
   "execution_count": 66,
   "metadata": {
    "collapsed": false
   },
   "outputs": [
    {
     "data": {
      "text/plain": [
       "u'Analyst / Senior / Chief Policy Analysts'"
      ]
     },
     "execution_count": 66,
     "metadata": {},
     "output_type": "execute_result"
    }
   ],
   "source": [
    "dicrs"
   ]
  },
  {
   "cell_type": "code",
   "execution_count": 67,
   "metadata": {
    "collapsed": true
   },
   "outputs": [],
   "source": [
    "dicrq = len(dicjobz['rss']['channel']['item'])"
   ]
  },
  {
   "cell_type": "code",
   "execution_count": 68,
   "metadata": {
    "collapsed": false
   },
   "outputs": [
    {
     "data": {
      "text/plain": [
       "22"
      ]
     },
     "execution_count": 68,
     "metadata": {},
     "output_type": "execute_result"
    }
   ],
   "source": [
    "dicrq"
   ]
  },
  {
   "cell_type": "code",
   "execution_count": 69,
   "metadata": {
    "collapsed": true
   },
   "outputs": [],
   "source": [
    "#Return a random job."
   ]
  },
  {
   "cell_type": "code",
   "execution_count": 72,
   "metadata": {
    "collapsed": true
   },
   "outputs": [],
   "source": [
    "ranjoz = random.randint(0, dicrq)\n",
    "\n",
    "dicrsch = dicjobz['rss']['channel']['item']"
   ]
  },
  {
   "cell_type": "code",
   "execution_count": null,
   "metadata": {
    "collapsed": true
   },
   "outputs": [],
   "source": []
  },
  {
   "cell_type": "code",
   "execution_count": 75,
   "metadata": {
    "collapsed": false
   },
   "outputs": [
    {
     "name": "stdout",
     "output_type": "stream",
     "text": [
      "http://jobs.minedu.govt.nz/jobtools/jncustomsearch.viewFullSingle?in_organid=17584&in_jnCounter=222573671&in_jobDate=All&in_searchbox=YES&in_summary=S#utm_source=JobRSS&utm_medium=JobRSS\n"
     ]
    }
   ],
   "source": [
    "print dicrsch[ranjoz]['link']\n",
    "\n"
   ]
  },
  {
   "cell_type": "code",
   "execution_count": 77,
   "metadata": {
    "collapsed": false
   },
   "outputs": [
    {
     "name": "stdout",
     "output_type": "stream",
     "text": [
      "Service Manager\n"
     ]
    }
   ],
   "source": [
    "print dicrsch[ranjoz]['title']"
   ]
  },
  {
   "cell_type": "code",
   "execution_count": 81,
   "metadata": {
    "collapsed": true
   },
   "outputs": [],
   "source": [
    "#jobtype\n",
    "#location\n",
    "#date advertised\n",
    "#jobreference\n",
    "#jobtitle\n",
    "#should be keys\n",
    "#Currently they are inside description key\n",
    "#Create new json file that fixes this."
   ]
  },
  {
   "cell_type": "code",
   "execution_count": 82,
   "metadata": {
    "collapsed": false
   },
   "outputs": [
    {
     "name": "stdout",
     "output_type": "stream",
     "text": [
      "<ul class=\"job-info\"><li>Job Type: Full Time</li><li>Category: Special Education</li><li>Location: Wellington</li><li>Date Advertised: 17-JUN-15</li><li>Job Reference: EDU/1166226</li><li>Job Title: Service Manager</li><li>Business Unit: </li><li>Summary: </li></ul><p><p align=\"center\">&nbsp;</p>\n",
      "<p align=\"center\"><strong>Greater Wellington District - Permanent Full Time position</strong></p>\n",
      "<p align=\"center\"><strong>Service Manager</strong></p>\n",
      "<p>&nbsp;</p>\n",
      "<p>We are seeking an experienced manager, to lead and work with a team of dedicated professionals committed to delivering a range of specialist services to children, young people and their families and whanau and to schools and early childhood centres.</p>\n",
      "<p>Proven expertise in relationship management, strategic thinking and critical analysis, operational business management, resource management, team leadership and risk management is essential. In addition to your leadership skills you will need the ability to:</p>\n",
      "<ul type=\"disc\">\n",
      "<li>Provide&nbsp;culturally appropriate and effective leadership.</li>\n",
      "</ul>\n",
      "<ul>\n",
      "<li>Effectively cope with change and to be able to decide and act in situations without having the total picture.</li>\n",
      "<li>Create a working environment for your team which promotes a high level of motivation, innovation and engagement.</li>\n",
      "</ul>\n",
      "<ul type=\"disc\">\n",
      "<li>Develop&nbsp;&nbsp;and maintain effective relationships with key education, health, social&nbsp;service groups and stakeholders and to deliver high level and proactive&nbsp;services to clients.</li>\n",
      "</ul>\n",
      "<ul type=\"disc\">\n",
      "<li>Effectively&nbsp;mentor and coach professionals.</li>\n",
      "<li>Analyse&nbsp;data, balance conflicting factors, information and views and develop&nbsp;strategies in order to meet Ministry objectives, including annually funded&nbsp;delivery targets.</li>\n",
      "</ul>\n",
      "<p>&nbsp;</p>\n",
      "<p>Strong written and oral communication skills, excellent leadership and interpersonal skills, as well as tertiary qualifications and experience, preferably in Education, are required. &nbsp;</p>\n",
      "<p>&nbsp;</p>\n",
      "<p>As part of the district management team you will contribute to business planning, service development and collaborative problem solving across the district.</p>\n",
      "<p>&nbsp;</p>\n",
      "<p>This role presents as an exciting and rewarding opportunity to lead a professional innovative team and work in an organisation committed to improving education outcomes for Maori learners, Pacifica learners, learners with special education needs and learners from low socio-economic backgrounds.</p>\n",
      "<p>&nbsp;</p>\n",
      "<p>The Ministry of Education has an equal opportunities policy and is committed to the principles of The Treaty of Waitangi.</p>\n",
      "<p>&nbsp;</p>\n",
      "<p>You can view a job description, and for further information please contact Anise Nortje, District Manager &ndash; Greater Wellington District on 04 439 4654.&nbsp; As part of your application please provide at least two referees.</p>\n",
      "<p>&nbsp;</p>\n",
      "<p><strong>Applications close on 17 July 2015</strong></p></p>\n"
     ]
    }
   ],
   "source": [
    "print dicrsch[ranjoz]['description']"
   ]
  },
  {
   "cell_type": "code",
   "execution_count": null,
   "metadata": {
    "collapsed": true
   },
   "outputs": [],
   "source": []
  },
  {
   "cell_type": "code",
   "execution_count": null,
   "metadata": {
    "collapsed": true
   },
   "outputs": [],
   "source": []
  }
 ],
 "metadata": {
  "kernelspec": {
   "display_name": "Python 2",
   "name": "python2"
  },
  "language_info": {
   "codemirror_mode": {
    "name": "ipython",
    "version": 2
   },
   "file_extension": ".py",
   "mimetype": "text/x-python",
   "name": "python",
   "nbconvert_exporter": "python",
   "pygments_lexer": "ipython2",
   "version": "2.7.9"
  }
 },
 "nbformat": 4,
 "nbformat_minor": 0
}
