{
 "cells": [
  {
   "cell_type": "markdown",
   "metadata": {},
   "source": [
    "Ministry of Education News\n",
    "\n",
    "Script to parse news on education.govt.nz"
   ]
  },
  {
   "cell_type": "code",
   "execution_count": 75,
   "metadata": {
    "collapsed": false
   },
   "outputs": [],
   "source": [
    "import bs4\n",
    "import requests\n",
    "import os\n",
    "import mammoth"
   ]
  },
  {
   "cell_type": "code",
   "execution_count": 26,
   "metadata": {
    "collapsed": true
   },
   "outputs": [],
   "source": []
  },
  {
   "cell_type": "code",
   "execution_count": 27,
   "metadata": {
    "collapsed": true
   },
   "outputs": [],
   "source": [
    "opnewsfo = ('/media/removable/lemonyellow/educ/www.education.govt.nz/news')"
   ]
  },
  {
   "cell_type": "code",
   "execution_count": 28,
   "metadata": {
    "collapsed": false
   },
   "outputs": [],
   "source": [
    "osliz = os.listdir(opnewsfo)"
   ]
  },
  {
   "cell_type": "code",
   "execution_count": 29,
   "metadata": {
    "collapsed": false
   },
   "outputs": [
    {
     "data": {
      "text/plain": [
       "['index.html',\n",
       " 'early-learning-funding-reminders-july-2015',\n",
       " 'changes-to-the-ministry-of-education-websites-and-email-addresses',\n",
       " 'managing-child-illness-in-ece-services-and-kohanga-reo',\n",
       " 'early-learning-taskforce-news-july-2015',\n",
       " 'over-1800-schools-on-the-managed-network',\n",
       " 'safety-checking-childrens-workers-in-force',\n",
       " 'record-highs-for-education-participation-and-achievement',\n",
       " 'teachers-keen-on-innovation-funding',\n",
       " 'making-teaching-and-learning-easier',\n",
       " 'early-learning-regional-news-july-2015',\n",
       " 'new-zealand-educators-among-worlds-best',\n",
       " 'buildings-at-bay-of-islands-college',\n",
       " 'prime-ministers-education-excellence-awards-finalists-announced']"
      ]
     },
     "execution_count": 29,
     "metadata": {},
     "output_type": "execute_result"
    }
   ],
   "source": [
    "osliz"
   ]
  },
  {
   "cell_type": "code",
   "execution_count": 30,
   "metadata": {
    "collapsed": false
   },
   "outputs": [],
   "source": [
    "osrem = osliz.remove('index.html')"
   ]
  },
  {
   "cell_type": "code",
   "execution_count": 31,
   "metadata": {
    "collapsed": false
   },
   "outputs": [],
   "source": [
    "osrem"
   ]
  },
  {
   "cell_type": "code",
   "execution_count": 73,
   "metadata": {
    "collapsed": true
   },
   "outputs": [],
   "source": [
    "firlpar = list()"
   ]
  },
  {
   "cell_type": "code",
   "execution_count": 95,
   "metadata": {
    "collapsed": false
   },
   "outputs": [
    {
     "name": "stdout",
     "output_type": "stream",
     "text": [
      "<p class=\"intro\">\n",
      "        1815 schools are now connected to the government-funded internet Managed Network.  \n",
      "    </p>\n",
      "<p class=\"intro\">\n",
      "        The Ministry of Education is working with our partners to implement new Vulnerable Children Act safety checking regulations, in force from 1 July 2015.\n",
      "    </p>\n",
      "<p class=\"intro\">\n",
      "        The latest Better Public Service (BPS) target results show that child participation in quality early childhood education (ECE) and NCEA level 2 achievement rates are at record highs.\n",
      "    </p>\n",
      "<p class=\"intro\">\n",
      "Teacher enthusiasm for the Teacher-led Innovation Fund is huge. 40 projects, worth $2.7 million, involving 78 schools, have been funded from the first application round.\n",
      "</p>\n",
      "<p class=\"intro\">\n",
      "        Modern, multi-purpose and transportable classrooms will soon be in use in many New Zealand schools.\n",
      "    </p>\n",
      "<p class=\"intro\">\n",
      "        The experience, skill and dedication of New Zealand teachers have been highlighted in new international data.  \n",
      "    </p>\n",
      "<p class=\"intro\">\n",
      "        There has been some reporting about the condition of some of the buildings at Bay of Islands College. The full facts haven’t been reported, so it’s important to put them on the table. \n",
      "    </p>\n",
      "<p class=\"intro\">\n",
      "        Finalists in the 2015 Prime Minister’s Education Excellence Awards have been announced, and judges are currently visiting them, to determine the eventual winners.\n",
      "    </p>\n"
     ]
    }
   ],
   "source": [
    "for repoz in osliz:\n",
    "    #print repoz\n",
    "    indef =  os.listdir(opnewsfo +  '/' + repoz + '/')\n",
    "    for ind in indef:\n",
    "        opso = open(opnewsfo +  '/' + repoz + '/' + ind, 'r')\n",
    "\n",
    "        souprep = bs4.BeautifulSoup(opso)\n",
    "        #a = BeautifulSoup.BeautifulSoup(\"<html><body><script>aaa</script></body></html>\")\n",
    "        #print souprep\n",
    "        #Instead of just getting class I need it to return specific \n",
    "        #class - intro./\n",
    "        \n",
    "        for link in souprep.find_all('p', class_=\"intro\"):\n",
    "            print link\n",
    "                #print lifi\n",
    "            #[x.extract() for x in a.findAll('p')]\n",
    "\n",
    "            #print link.text\n",
    "            firlpar.append(link.text)\n",
    "            #print link.attrs('href')\n",
    "            #print link.next_element\n",
    "            \n",
    "        #for link in souprep.find_all('p'):\n",
    "            #print link\n",
    "            #print(link.get('class')):\n",
    "        #    print (link.get('class'))\n",
    "        #link = souprep.find_all('p')\n",
    "        #print(link.('class=\"intro\"'))\n",
    "        \n",
    "        #print souprep.prettify\n",
    "        #print souprep.text"
   ]
  },
  {
   "cell_type": "code",
   "execution_count": 94,
   "metadata": {
    "collapsed": false
   },
   "outputs": [
    {
     "data": {
      "text/plain": [
       "<bound method Tag.unwrap of <p class=\"intro\">\n",
       "        Finalists in the 2015 Prime Minister’s Education Excellence Awards have been announced, and judges are currently visiting them, to determine the eventual winners.\n",
       "    </p>>"
      ]
     },
     "execution_count": 94,
     "metadata": {},
     "output_type": "execute_result"
    }
   ],
   "source": [
    "link.unwrap"
   ]
  },
  {
   "cell_type": "code",
   "execution_count": null,
   "metadata": {
    "collapsed": true
   },
   "outputs": [],
   "source": [
    "#a = BeautifulSoup.BeautifulSoup(\"<html><body><script>aaa</script></body></html>\")\n",
    "#[x.extract() for x in a.findAll('\"intro\"')]\n"
   ]
  },
  {
   "cell_type": "code",
   "execution_count": 81,
   "metadata": {
    "collapsed": false
   },
   "outputs": [
    {
     "name": "stdout",
     "output_type": "stream",
     "text": [
      "\n",
      "1815 schools are now connected to the government-funded internet Managed Network.\n",
      "\n",
      "\n",
      "The Ministry of Education is working with our partners to implement new Vulnerable Children Act safety checking regulations, in force from 1 July 2015.\n",
      "\n",
      "\n",
      "The latest Better Public Service (BPS) target results show that child participation in quality early childhood education (ECE) and NCEA level 2 achievement rates are at record highs.\n",
      "\n",
      "\n",
      "Teacher enthusiasm for the Teacher-led Innovation Fund is huge. 40 projects, worth $2.7 million, involving 78 schools, have been funded from the first application round.\n",
      "\n",
      "\n",
      "Modern, multi-purpose and transportable classrooms will soon be in use in many New Zealand schools.\n",
      "\n",
      "\n",
      "The experience, skill and dedication of New Zealand teachers have been highlighted in new international data.\n",
      "\n",
      "\n",
      "There has been some reporting about the condition of some of the buildings at Bay of Islands College. The full facts haven’t been reported, so it’s important to put them on the table. \n",
      "\n",
      "\n",
      "Finalists in the 2015 Prime Minister’s Education Excellence Awards have been announced, and judges are currently visiting them, to determine the eventual winners.\n",
      "\n"
     ]
    }
   ],
   "source": [
    "for firl in firlpar:\n",
    "    print firl.replace('  ', '')"
   ]
  },
  {
   "cell_type": "code",
   "execution_count": 41,
   "metadata": {
    "collapsed": true
   },
   "outputs": [],
   "source": [
    "with open(\"/home/wcmckee/Downloads/test.docx\", \"r\") as docx_file:\n",
    "    result = mammoth.extract_raw_text(docx_file)\n",
    "    text = result.value # The raw text\n",
    "    messages = result.messages # Any messages"
   ]
  },
  {
   "cell_type": "code",
   "execution_count": 42,
   "metadata": {
    "collapsed": true
   },
   "outputs": [],
   "source": [
    "import bs4"
   ]
  },
  {
   "cell_type": "code",
   "execution_count": 43,
   "metadata": {
    "collapsed": true
   },
   "outputs": [],
   "source": [
    "soudocx = bs4.BeautifulSoup(html)"
   ]
  },
  {
   "cell_type": "code",
   "execution_count": 44,
   "metadata": {
    "collapsed": false
   },
   "outputs": [],
   "source": [
    "soupnop = soudocx.findAll('p')[1:]"
   ]
  },
  {
   "cell_type": "code",
   "execution_count": 20,
   "metadata": {
    "collapsed": true
   },
   "outputs": [],
   "source": []
  },
  {
   "cell_type": "code",
   "execution_count": 21,
   "metadata": {
    "collapsed": false
   },
   "outputs": [
    {
     "name": "stdout",
     "output_type": "stream",
     "text": [
      "Senior Data Analyst – Data Quality (ELI)\n",
      "Evidence Data and Knowledge\n",
      "Develop, implement and run processes for checking and correcting early childhood service information in the Early Learning Information system (ELI). Improve data quality processes to ensure they reflect changes to Ministry policy and data needs.\n",
      "Reports to Manager: Data Collection Unit\n",
      "Staff: no staff\n",
      "What  \n",
      "Our Purpose\n",
      " \n",
      " \n",
      "Lift aspiration, raise educational achievement for every New Zealander\n",
      "Why \n",
      " \n",
      "Our Vision\n",
      " \n",
      " \n",
      "Every New Zealander:\n",
      " \n",
      " \n",
      "•Is strong in their national and cultural identity\n",
      " \n",
      " \n",
      "•Aspires for themselves and their children to achieve more\n",
      " \n",
      " \n",
      "•Has the choice and opportunity to be the best they can be\n",
      " \n",
      " \n",
      "•Is an active participant and citizen in creating a strong civil society\n",
      " \n",
      " \n",
      "•Is productive, valued and competitive in the world\n",
      " \n",
      " \n",
      "New Zealand and New Zealanders lead globally\n",
      "How \n",
      " \n",
      "Our Behaviours:\n",
      " \n",
      " \n",
      "•We get the job done\n",
      " \n",
      " \n",
      "•  We are respectful, we listen, we learn\n",
      " \n",
      " \n",
      "•  We back ourselves and others to win\n",
      " \n",
      " \n",
      "•  We work together for maximum impact\n",
      " \n",
      " \n",
      "Great results are our bottom line\n",
      "Senior Data Analyst – Data Quality ELIEvidence Data and Knowledge\n",
      "The Senior Data Analyst needs to have strong working relationships with members of the Collection Team, ECE Analysis Team; Early Years, Parents and Whānau group; and ministry employees working with ELI.  As well as the following external relationships:\n",
      ". \n",
      "Senior Data Analyst – Data Quality ELIEvidence Data and Knowledge\n",
      " Action oriented\n",
      "Written communication\n",
      "Interpersonal Savvy\n",
      "Problem solving\n",
      "Perspective\n",
      "Managing and measuring work\n",
      "Tātai Pou \n",
      "Demonstration of Tātai Pou competencies at least a ‘developing’ level: \n",
      "Customer focus \n"
     ]
    }
   ],
   "source": [
    "for sonp in soupnop:\n",
    "    print sonp.text"
   ]
  },
  {
   "cell_type": "code",
   "execution_count": null,
   "metadata": {
    "collapsed": true
   },
   "outputs": [],
   "source": []
  }
 ],
 "metadata": {
  "kernelspec": {
   "display_name": "Python 2",
   "name": "python2"
  },
  "language_info": {
   "codemirror_mode": {
    "name": "ipython",
    "version": 2
   },
   "file_extension": ".py",
   "mimetype": "text/x-python",
   "name": "python",
   "nbconvert_exporter": "python",
   "pygments_lexer": "ipython2",
   "version": "2.7.9"
  }
 },
 "nbformat": 4,
 "nbformat_minor": 0
}
