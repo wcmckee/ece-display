{
 "cells": [
  {
   "cell_type": "markdown",
   "metadata": {},
   "source": [
    "Nikoladu\n",
    "\n",
    "This script opens a json file of jobs at Ministry Of Education. It creates a rst file for each job - along with a meta file. This is then turned into a static blogs. \n",
    "The title of each blog post is the ID of the job. I used this as it is unique. It ignores the first 3 characters (edu) and just focus on the number.\n",
    "The post content was just the job title, but I have updated it to include helpful skills to have. \n",
    "Location and category of job is added as tags to the post. "
   ]
  },
  {
   "cell_type": "code",
   "execution_count": null,
   "metadata": {
    "collapsed": true
   },
   "outputs": [],
   "source": []
  },
  {
   "cell_type": "code",
   "execution_count": 1,
   "metadata": {
    "collapsed": false
   },
   "outputs": [],
   "source": [
    "#import nikola\n",
    "\n",
    "import requests\n",
    "import json\n",
    "import getpass\n",
    "import pandas"
   ]
  },
  {
   "cell_type": "code",
   "execution_count": 2,
   "metadata": {
    "collapsed": true
   },
   "outputs": [],
   "source": [
    "myusr = getpass.getuser()"
   ]
  },
  {
   "cell_type": "code",
   "execution_count": null,
   "metadata": {
    "collapsed": true
   },
   "outputs": [],
   "source": []
  },
  {
   "cell_type": "code",
   "execution_count": 3,
   "metadata": {
    "collapsed": false
   },
   "outputs": [],
   "source": [
    "opedu = open('/home/{}/moejobs/index.json'.format(myusr), 'r')"
   ]
  },
  {
   "cell_type": "code",
   "execution_count": 4,
   "metadata": {
    "collapsed": false
   },
   "outputs": [],
   "source": [
    "minjob = opedu.read()"
   ]
  },
  {
   "cell_type": "code",
   "execution_count": 5,
   "metadata": {
    "collapsed": false
   },
   "outputs": [],
   "source": [
    "dicminj = json.loads(minjob)"
   ]
  },
  {
   "cell_type": "code",
   "execution_count": 6,
   "metadata": {
    "collapsed": false
   },
   "outputs": [],
   "source": [
    "ldic = len(dicminj)"
   ]
  },
  {
   "cell_type": "code",
   "execution_count": 11,
   "metadata": {
    "collapsed": false
   },
   "outputs": [],
   "source": [
    "#print(dicminj)"
   ]
  },
  {
   "cell_type": "code",
   "execution_count": 12,
   "metadata": {
    "collapsed": true
   },
   "outputs": [],
   "source": [
    "catlis = list()\n",
    "\n",
    "loclis = list()\n",
    "datlis = list()\n",
    "jobti = list()"
   ]
  },
  {
   "cell_type": "code",
   "execution_count": null,
   "metadata": {
    "collapsed": true
   },
   "outputs": [],
   "source": []
  },
  {
   "cell_type": "code",
   "execution_count": 13,
   "metadata": {
    "collapsed": true
   },
   "outputs": [],
   "source": [
    "numdic = dict()"
   ]
  },
  {
   "cell_type": "code",
   "execution_count": null,
   "metadata": {
    "collapsed": true
   },
   "outputs": [],
   "source": []
  },
  {
   "cell_type": "code",
   "execution_count": 16,
   "metadata": {
    "collapsed": false
   },
   "outputs": [
    {
     "name": "stdout",
     "output_type": "stream",
     "text": [
      "1227902\n",
      "1227905\n",
      "1227901\n",
      "1226569\n",
      "1226713\n",
      "1227349\n",
      "1227855\n",
      "1227854\n",
      "1227846\n",
      "1227847\n",
      "1227843\n",
      "1227774\n",
      "1227589\n",
      "1227541\n",
      "1227114\n",
      "1225506\n",
      "1227042\n",
      "1220611\n",
      "1226728\n",
      "1226727\n",
      "1226714\n",
      "1226732\n",
      "1226567\n",
      "1226423\n",
      "1225961\n",
      "1223749\n"
     ]
    }
   ],
   "source": [
    "for ldi in range(ldic):\n",
    "    dicjob = dict()\n",
    "    catedi = (dicminj[str(ldi)]['Category'])\n",
    "    locdi = (dicminj[str(ldi)]['Location'])\n",
    "    datdi = (dicminj[str(ldi)]['Date Advertised'])\n",
    "    pandatz = pandas.to_datetime(datdi)\n",
    "    pdate = pandatz.date()\n",
    "    titdi = (dicminj[str(ldi)]['Job Title'])\n",
    "    helpth = (dicminj[str(ldi)]['lidocend'])\n",
    "    \n",
    "    jobref = (dicminj[str(ldi)]['Job Reference'])\n",
    "    jorefd = jobref[4:]\n",
    "    print (jorefd)\n",
    "    \n",
    "    with open('/home/{}/minstryofedu/posts/{}.meta'.format(myusr, jorefd), 'w') as moemeta:\n",
    "        moemeta.write(jorefd + '\\n' + jorefd + '\\n' + str(pdate) + ' ' + str('09:00:00') + '\\n' + catedi + ', ' + locdi)\n",
    "    #opmetf = open('/home/{}/minstryofedu/posts/{}.meta'.format(myusr, jorefd), 'w')\n",
    "    #opmetf.write(jorefd + '\\n' + jorefd + '\\n' + str(pdate) + ' ' + str('09:00:00') + '\\n' + catedi + ', ' + locdi)\n",
    "    #opmetf.close()\n",
    "    \n",
    "    with open('/home/{}/minstryofedu/posts/{}.rst'.format(myusr, jorefd), 'w') as moerst:\n",
    "        moerst.write(titdi)\n",
    "    #oprstfi = open('/home/{}/minstryofedu/posts/{}.rst'.format(myusr, jorefd), 'w')\n",
    "    #oprstfi.write(titdi)\n",
    "    #oprstfi.close()\n",
    "\n",
    "\n",
    "\n",
    "    dicjob.update({'Category' : catedi, 'Date Advertised' : str(pdate), 'Job Title' : titdi,\n",
    "    'Location' : locdi, 'Job Reference' : jobref})\n",
    "    \n",
    "    numdic.update({ldi : dicjob})\n",
    "    #numdic.update({ldi : dicjob})\n",
    "    \n",
    "    loclis.append(locdi)\n",
    "    datlis.append(datdi)\n",
    "    jobti.append(titdi)\n",
    "    \n",
    "    nedicf = dicjob.copy()\n",
    "    nedicf.update(nedicf)\n",
    "    \n",
    "    numdic.update({ldi : nedicf})\n",
    "    \n",
    "    #if 'education' in catedi:\n",
    "    #    print (catedi)\n",
    "\n",
    "        "
   ]
  },
  {
   "cell_type": "code",
   "execution_count": null,
   "metadata": {
    "collapsed": true
   },
   "outputs": [],
   "source": []
  }
 ],
 "metadata": {
  "kernelspec": {
   "display_name": "Python 3",
   "language": "python",
   "name": "python3"
  },
  "language_info": {
   "codemirror_mode": {
    "name": "ipython",
    "version": 3
   },
   "file_extension": ".py",
   "mimetype": "text/x-python",
   "name": "python",
   "nbconvert_exporter": "python",
   "pygments_lexer": "ipython3",
   "version": "3.4.2"
  }
 },
 "nbformat": 4,
 "nbformat_minor": 0
}
