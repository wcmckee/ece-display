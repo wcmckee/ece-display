{
 "cells": [
  {
   "cell_type": "markdown",
   "metadata": {},
   "source": [
    "Nikoladu"
   ]
  },
  {
   "cell_type": "code",
   "execution_count": 19,
   "metadata": {
    "collapsed": false
   },
   "outputs": [],
   "source": [
    "#import nikola\n",
    "\n",
    "import requests\n",
    "import json\n",
    "import pandas"
   ]
  },
  {
   "cell_type": "code",
   "execution_count": null,
   "metadata": {
    "collapsed": true
   },
   "outputs": [],
   "source": []
  },
  {
   "cell_type": "code",
   "execution_count": 20,
   "metadata": {
    "collapsed": true
   },
   "outputs": [],
   "source": [
    "opedu = open('/home/wcmckee/github/wcmckee.com/output/minedujobs/index.json', 'r')"
   ]
  },
  {
   "cell_type": "code",
   "execution_count": 21,
   "metadata": {
    "collapsed": false
   },
   "outputs": [],
   "source": [
    "minjob = opedu.read()"
   ]
  },
  {
   "cell_type": "code",
   "execution_count": 22,
   "metadata": {
    "collapsed": false
   },
   "outputs": [],
   "source": [
    "dicminj = json.loads(minjob)"
   ]
  },
  {
   "cell_type": "code",
   "execution_count": 23,
   "metadata": {
    "collapsed": false
   },
   "outputs": [],
   "source": [
    "ldic = len(dicminj)"
   ]
  },
  {
   "cell_type": "code",
   "execution_count": 24,
   "metadata": {
    "collapsed": false
   },
   "outputs": [
    {
     "name": "stdout",
     "output_type": "stream",
     "text": [
      "{'26': {'Category': 'Project/Programme Management', 'Location': 'Canterbury', 'Job Reference': 'EDU/1170844', 'doc': 'Delivery Manager JD CSR.docx', 'Business Unit': '', 'Date Advertised': '06-AUG-15', 'link': 'http://jobs.minedu.govt.nz/jobtools/jncustomsearch.viewFullSingle?in_organid=17584&in_jnCounter=222579674&in_jobDate=All&in_searchbox=YES&in_summary=S#utm_source=JobRSS&utm_medium=JobRSS', 'Job Type': 'Fixed Term Full Time', 'jsonlen': '26', 'Job Title': 'Senior Project Manager', 'Summary': '', 'lidocend': []}, '23': {'Category': 'Education', 'Location': 'Bay of Plenty', 'Job Reference': 'EDU/1175479', 'doc': 'Lead Advisor - Communities of Learning 2015 jd.docx', 'Business Unit': '', 'Date Advertised': '13-AUG-15', 'link': 'http://jobs.minedu.govt.nz/jobtools/jncustomsearch.viewFullSingle?in_organid=17584&in_jnCounter=222584987&in_jobDate=All&in_searchbox=YES&in_summary=S#utm_source=JobRSS&utm_medium=JobRSS', 'Job Type': 'Full Time', 'jsonlen': '23', 'Job Title': 'Lead Education Advisor', 'Summary': '', 'lidocend': [['Working with\\xa0data and information to identify issues and come up with solutions to solve\\xa0complex problems and make decisions.'], ['Leading and working\\xa0with others to support and implement change initiatives.'], ['Presenting\\xa0and facilitating group discussions.'], ['Knowledge and\\xa0understanding of the New Zealand education system and relevant legislation'], ['An\\xa0understanding of the relationship between policy intent and the range and\\xa0combination of tools available for implementing new initiatives.'], ['Experience\\xa0and or understanding of working in a large Government organisation']]}, '25': {'Category': 'Education', 'Location': 'Napier', 'Job Reference': 'EDU/1175060', 'doc': 'Lead Education Adviser JD.docx', 'Business Unit': '', 'Date Advertised': '12-AUG-15', 'link': 'http://jobs.minedu.govt.nz/jobtools/jncustomsearch.viewFullSingle?in_organid=17584&in_jnCounter=222584717&in_jobDate=All&in_searchbox=YES&in_summary=S#utm_source=JobRSS&utm_medium=JobRSS', 'Job Type': 'Full Time', 'jsonlen': '25', 'Job Title': 'Lead Education Advisor', 'Summary': '', 'lidocend': [['Working with\\xa0data and information to identify issues and come up with solutions to solve\\xa0complex problems and make decisions.'], ['Leading and working\\xa0with others to support and implement change initiatives.'], ['Presenting\\xa0and facilitating group discussions.'], ['Knowledge and\\xa0understanding of the New Zealand education system and relevant legislation'], ['An understanding\\xa0of the relationship between policy intent and the range and combination of tools available for implementing new initiatives.']]}, '0': {'Category': 'Special Education', 'Location': 'Wellington', 'Job Reference': 'EDU/1177892', 'doc': 'Early Intervention Teacher jd (new format).docx', 'Business Unit': '', 'Date Advertised': '28-AUG-15', 'link': 'http://jobs.minedu.govt.nz/jobtools/jncustomsearch.viewFullSingle?in_organid=17584&in_jnCounter=222587962&in_jobDate=All&in_searchbox=YES&in_summary=S#utm_source=JobRSS&utm_medium=JobRSS', 'Job Type': 'Fixed Term Full Time', 'jsonlen': '0', 'Job Title': 'Early Intervention Teacher', 'Summary': '', 'lidocend': [['a thorough knowledge of Te Whᾱriki and inclusive early childhood education practice'], ['A Diploma in Early Intervention, or be a qualified and fully registered Early Childhood Teacher, with 3 years minimum teaching experience. You will be expected to complete a Post Graduate Diploma in Specialist Teaching, Early Intervention.']]}, '8': {'Category': 'Management', 'Location': 'Auckland', 'Job Reference': 'EDU/1176586', 'doc': 'Manager Education Auckland jd.docx', 'Business Unit': '', 'Date Advertised': '20-AUG-15', 'link': 'http://jobs.minedu.govt.nz/jobtools/jncustomsearch.viewFullSingle?in_organid=17584&in_jnCounter=222586267&in_jobDate=All&in_searchbox=YES&in_summary=S#utm_source=JobRSS&utm_medium=JobRSS', 'Job Type': 'Full Time', 'jsonlen': '8', 'Job Title': 'Education Manager', 'email': 'sue.cathersides@education.govt.nz', 'Summary': '', 'lidocend': [['Area planning and integrating work programmes'], ['Developing influential local connections and networks with iwi, communities and whānau to achieve priority outcomes for the region'], ['Building the capability of schools and their communities to take leadership of driving student achievement efforts']]}, '1': {'Category': 'Special Education', 'Location': 'Bay of Plenty', 'Job Reference': 'EDU/1177462', 'doc': 'psychologist jd.docx', 'Business Unit': '', 'Date Advertised': '26-AUG-15', 'link': 'http://jobs.minedu.govt.nz/jobtools/jncustomsearch.viewFullSingle?in_organid=17584&in_jnCounter=222587479&in_jobDate=All&in_searchbox=YES&in_summary=S#utm_source=JobRSS&utm_medium=JobRSS', 'Job Type': 'Full Time', 'jsonlen': '1', 'Job Title': 'Psychologist/SEA', 'Summary': '', 'lidocend': [['Expertise in using a range of assessment and intervention strategies to enhance student academic skills'], ['Knowledge and experience in curriculum adaptation and differentiation'], ['Recent successful experience in engaging students who have challenging \\xa0learning and/or behaviour in school, preschool and community settings'], ['Understanding of the Treaty of Waitangi and ability to work in a way that delivers equitable outcomes for Maori.'], ['Demonstrated ability to engage in culturally respectful ways with Maori students and whanau'], ['Ability to plan and manage time effectively to meet goals and outcomes'], ['A current New Zealand driver’s licence.']]}, '2': {'Category': 'Management', 'Location': 'Wellington', 'Job Reference': 'EDU/1177427', 'doc': 'GM Education System Investment jd 24 August 2015.docx', 'Business Unit': '', 'Date Advertised': '26-AUG-15', 'link': 'http://jobs.minedu.govt.nz/jobtools/jncustomsearch.viewFullSingle?in_organid=17584&in_jnCounter=222587365&in_jobDate=All&in_searchbox=YES&in_summary=S#utm_source=JobRSS&utm_medium=JobRSS', 'Job Type': 'Full Time', 'jsonlen': '2', 'Job Title': 'Group Manager Education System Investment', 'email': 'Jane.Milliken@education.govt.nz', 'Summary': '', 'lidocend': [['A new senior leadership role with sector and system impact']]}, '16': {'Category': 'Special Education', 'Location': 'Canterbury', 'Job Reference': 'EDU/1175951', 'Business Unit': '', 'Date Advertised': '17-AUG-15', 'link': 'http://jobs.minedu.govt.nz/jobtools/jncustomsearch.viewFullSingle?in_organid=17584&in_jnCounter=222585617&in_jobDate=All&in_searchbox=YES&in_summary=S#utm_source=JobRSS&utm_medium=JobRSS', 'Job Type': 'Fixed Term Part Time', 'jsonlen': '16', 'Job Title': 'Speech Language Therapist', 'email': 'juanita.davidson@education.govt.nz', 'Summary': '', 'lidocend': []}, '20': {'Category': 'Special Education', 'Location': 'Nelson - Marlborough', 'Job Reference': 'EDU/1175879', 'doc': 'psychologist jd.docx', 'Business Unit': '', 'Date Advertised': '17-AUG-15', 'link': 'http://jobs.minedu.govt.nz/jobtools/jncustomsearch.viewFullSingle?in_organid=17584&in_jnCounter=222585473&in_jobDate=All&in_searchbox=YES&in_summary=S#utm_source=JobRSS&utm_medium=JobRSS', 'Job Type': 'Part Time', 'jsonlen': '20', 'Job Title': 'Special Education Advisor/Psychologist', 'Summary': '', 'lidocend': [['An ability to work as part of a multidisciplinary team;'], ['Excellent interpersonal and communication skills including an ability to sustain productive professional relationships;'], ['A genuine commitment to evidence based interventions which demonstrate inclusive education practice and contribute to raising student achievement;'], ['For Psychologists applying – a New Zealand Psychologist Board registration and current Practicing Certificate;'], ['Sensitivity to cultural and ethnic diversity and a commitment to the principles of the Treaty of Waitangi.']]}, '15': {'Category': 'Education', 'Location': 'Nelson - Marlborough', 'Job Reference': 'EDU/1175976', 'doc': 'Lead Advisor - Communities of Learning 2015 jd.docx', 'Business Unit': '', 'Date Advertised': '18-AUG-15', 'link': 'http://jobs.minedu.govt.nz/jobtools/jncustomsearch.viewFullSingle?in_organid=17584&in_jnCounter=222585705&in_jobDate=All&in_searchbox=YES&in_summary=S#utm_source=JobRSS&utm_medium=JobRSS', 'Job Type': 'Full Time', 'jsonlen': '15', 'Job Title': 'Lead Adviser - Communities of Learning', 'Summary': '', 'lidocend': [['Working with\\xa0data and information to identify issues and facilitate discussions to come\\xa0up with solutions to solve complex problems and make decisions.'], ['Leading and working\\xa0with others to support and implement change initiatives.'], ['Presenting\\xa0and facilitating group discussions.'], ['Knowledge and\\xa0understanding of the New Zealand education system and relevant legislation'], ['An\\xa0 understanding of the relationship between policy intent and the range and\\xa0combination of tools available for implementing new initiatives.']]}, '14': {'Category': 'Special Education', 'Location': 'Canterbury', 'Job Reference': 'EDU/1175973', 'Business Unit': '', 'Date Advertised': '18-AUG-15', 'link': 'http://jobs.minedu.govt.nz/jobtools/jncustomsearch.viewFullSingle?in_organid=17584&in_jnCounter=222585706&in_jobDate=All&in_searchbox=YES&in_summary=S#utm_source=JobRSS&utm_medium=JobRSS', 'Job Type': 'Full Time', 'jsonlen': '14', 'Job Title': 'Speech Language Thearpist', 'email': 'juanita.davidson@education.govt.nz', 'Summary': '', 'lidocend': []}, '13': {'Category': 'Policy/Advisory', 'Location': 'Wellington', 'Job Reference': 'EDU/1176304', 'doc': 'Operational Policy Advisor Youth Guarantee jd.docx', 'Business Unit': '', 'Date Advertised': '19-AUG-15', 'link': 'http://jobs.minedu.govt.nz/jobtools/jncustomsearch.viewFullSingle?in_organid=17584&in_jnCounter=222585985&in_jobDate=All&in_searchbox=YES&in_summary=S#utm_source=JobRSS&utm_medium=JobRSS', 'Job Type': 'Fixed Term Full Time', 'jsonlen': '13', 'Job Title': 'Operational Policy Advisor', 'Summary': '', 'lidocend': [['Good interpersonal skills'], ['A tertiary qualification.']]}, '18': {'Category': 'Psychologist', 'Location': 'Wellington', 'Job Reference': 'EDU/1175875', 'doc': 'psychologist jd.docx', 'Business Unit': '', 'Date Advertised': '17-AUG-15', 'link': 'http://jobs.minedu.govt.nz/jobtools/jncustomsearch.viewFullSingle?in_organid=17584&in_jnCounter=222585484&in_jobDate=All&in_searchbox=YES&in_summary=S#utm_source=JobRSS&utm_medium=JobRSS', 'Job Type': 'Full Time', 'jsonlen': '18', 'Job Title': 'Psychologist', 'Summary': '', 'lidocend': [['Knowledge of the curriculum in school.'], ['Knowledge and understanding of inclusive education practices.'], ['Ability and willingness to work co-operatively as a team member in\\xa0a range of contexts.'], ['Excellent interpersonal and communication skills.'], ['Sensitivity to cultural and ethnic diversity and commitment to the\\xa0principles of the Treaty of Waitangi.']]}, '4': {'Category': 'Special Education', 'Location': 'Nelson - Marlborough', 'Job Reference': 'EDU/1175862', 'doc': 'psychologist jd.docx', 'Business Unit': '', 'Date Advertised': '21-AUG-15', 'link': 'http://jobs.minedu.govt.nz/jobtools/jncustomsearch.viewFullSingle?in_organid=17584&in_jnCounter=222585450&in_jobDate=All&in_searchbox=YES&in_summary=S#utm_source=JobRSS&utm_medium=JobRSS', 'Job Type': 'Part Time', 'jsonlen': '4', 'Job Title': 'Psychologist / Special Education Advisor', 'Summary': '', 'lidocend': [['An ability to work as part of a multidisciplinary team;'], ['Excellent interpersonal and communication skills including an ability to sustain productive professional relationships;'], ['A genuine commitment to evidence based interventions which demonstrate inclusive education practice and contribute to raising student achievement;'], ['For Psychologists applying – a New Zealand Psychologist Board registration and current Practicing Certificate;'], ['Sensitivity to cultural and ethnic diversity and a commitment to the principles of the Treaty of Waitangi.']]}, '17': {'Category': 'Psychologist', 'Location': 'Auckland', 'Job Reference': 'EDU/1167110', 'doc': 'Psychologist JD.docx', 'Business Unit': '', 'Date Advertised': '17-AUG-15', 'link': 'http://jobs.minedu.govt.nz/jobtools/jncustomsearch.viewFullSingle?in_organid=17584&in_jnCounter=222574785&in_jobDate=All&in_searchbox=YES&in_summary=S#utm_source=JobRSS&utm_medium=JobRSS', 'Job Type': 'Full Time', 'jsonlen': '17', 'Job Title': 'Psychologist', 'Summary': '', 'lidocend': [['Excellent interpersonal and communication skills including an ability to sustain productive professional relationships;'], ['A genuine commitment to evidence based interventions which demonstrate inclusive education practice and contribute to raising student achievement;'], ['New Zealand Psychologist Board registration and a current Practicing Certificate'], ['Sensitivity to cultural and ethnic diversity and a commitment to the principles of the Treaty of Waitangi.']]}, '22': {'Category': 'Management', 'Location': 'Wellington', 'Job Reference': 'EDU/1175659', 'Business Unit': '', 'Date Advertised': '14-AUG-15', 'link': 'http://jobs.minedu.govt.nz/jobtools/jncustomsearch.viewFullSingle?in_organid=17584&in_jnCounter=222585198&in_jobDate=All&in_searchbox=YES&in_summary=S#utm_source=JobRSS&utm_medium=JobRSS', 'Job Type': 'Full Time', 'jsonlen': '22', 'Job Title': 'Manager Education', 'email': 'pauline.cleaver@education.govt.nz', 'Summary': '', 'lidocend': [['Leading highly successful teams'], ['Using information to solve complex problems and make\\xa0decisions'], ['Working with\\xa0others to support and implement change initiatives']]}, '6': {'Job Type': 'Full Time', 'jsonlen': '6', 'Job Title': 'Speech and Language Therapist', 'Category': 'Speech Language Therapist', 'Location': 'Whanganui', 'Job Reference': 'EDU/1176696', 'Business Unit': '', 'Summary': '', 'lidocend': [], 'Date Advertised': '21-AUG-15', 'link': 'http://jobs.minedu.govt.nz/jobtools/jncustomsearch.viewFullSingle?in_organid=17584&in_jnCounter=222586523&in_jobDate=All&in_searchbox=YES&in_summary=S#utm_source=JobRSS&utm_medium=JobRSS'}, '21': {'Category': 'Policy/Advisory', 'Location': 'Wellington', 'Job Reference': 'EDU/1175669', 'doc': 'Senior Advisor Education Network jd.docx', 'Business Unit': '', 'Date Advertised': '14-AUG-15', 'link': 'http://jobs.minedu.govt.nz/jobtools/jncustomsearch.viewFullSingle?in_organid=17584&in_jnCounter=222585214&in_jobDate=All&in_searchbox=YES&in_summary=S#utm_source=JobRSS&utm_medium=JobRSS', 'Job Type': 'Full Time', 'jsonlen': '21', 'Job Title': 'Senior Adviser', 'Summary': '', 'lidocend': [['Managing relationships with internal and external stakeholders'], ['Undertaking evidence based analysis of complex\\xa0ideas/issues to produce written correspondence and briefing notes, and\\xa0quality control of written material produced by others'], ['Providing information, advice and support to team\\xa0members, national office and regional staff and external groups'], ['Mentoring and supporting staff across the country including providing training as required'], ['Providing project support, including monitoring\\xa0and reporting against a portfolio of work']]}, '5': {'Category': 'Special Education', 'Location': 'Auckland', 'Job Reference': 'EDU/1176686', 'doc': 'Physiotherapist jd (generic).docx', 'Business Unit': '', 'Date Advertised': '21-AUG-15', 'link': 'http://jobs.minedu.govt.nz/jobtools/jncustomsearch.viewFullSingle?in_organid=17584&in_jnCounter=222586531&in_jobDate=All&in_searchbox=YES&in_summary=S#utm_source=JobRSS&utm_medium=JobRSS', 'Job Type': 'Full Time', 'jsonlen': '5', 'Job Title': 'Physiotherapist', 'Summary': '', 'lidocend': [['Physiotherapy Board of New\\xa0Zealand registration'], ['A current Annual Practising Certificate'], ['A current driver’s licence'], ['Sensitivity to cultural and ethnic\\xa0diversity and a commitment to the principles of the Treaty of Waitangi.']]}, '10': {'Category': 'Education', 'Location': 'Napier', 'Job Reference': 'EDU/1176366', 'doc': 'Education Advisor JD.docx', 'Business Unit': '', 'Date Advertised': '19-AUG-15', 'link': 'http://jobs.minedu.govt.nz/jobtools/jncustomsearch.viewFullSingle?in_organid=17584&in_jnCounter=222586147&in_jobDate=All&in_searchbox=YES&in_summary=S#utm_source=JobRSS&utm_medium=JobRSS', 'Job Type': 'Full Time', 'jsonlen': '10', 'Job Title': 'Education Advisor Napier', 'Summary': '', 'lidocend': [['Using your\\xa0evaluative skills to work with data and information to solve complex\\xa0problems and make decisions'], ['Working\\xa0with others to support and implement change initiatives']]}, '12': {'Category': 'Education', 'Location': 'Unspecified', 'Job Reference': 'EDU/1176305', 'doc': 'Secondary Tertiary Lead jd.docx', 'Business Unit': '', 'Date Advertised': '19-AUG-15', 'link': 'http://jobs.minedu.govt.nz/jobtools/jncustomsearch.viewFullSingle?in_organid=17584&in_jnCounter=222585988&in_jobDate=All&in_searchbox=YES&in_summary=S#utm_source=JobRSS&utm_medium=JobRSS', 'Job Type': 'Fixed Term Full Time', 'jsonlen': '12', 'Job Title': 'Secondary Tertiary Lead', 'Summary': '', 'lidocend': [['A deep understanding of the New Zealand education system and a minimum of three to five years operating at a senior leadership level within schools, tertiary or industry.'], ['Demonstrated understanding of secondary and tertiary educational resourcing systems and the management of professional and technical issues that arise from these.'], ['The ability to self-manage and operate with considerable autonomy at a regional and local level'], ['Proven relationship management skills in complex and challenging environments and confidence and comfort in establishing and managing relationships with key stakeholders outside education.'], ['Demonstrated ability to use evidence and data to support strategies and approaches and achieve results'], ['Sensitivity to the cultural values and particular needs of priority learners and an understanding of the principles of the Treaty of Waitangi and their implications for the work of Youth Guarantee.'], ['A relevant tertiary qualification or equivalent experience and expertise. \\xa0']]}, '9': {'Job Type': 'Part Time', 'jsonlen': '9', 'Job Title': 'Psychologist/ Special Education Advisor', 'Category': 'Psychologist', 'Location': 'Manawatu', 'Job Reference': 'EDU/1176367', 'Business Unit': '', 'Summary': '', 'lidocend': [['Experience and interest in working with children with special needs and/or severe and challenging behaviours.'], ['Knowledge of the curriculum in school and early childhood'], ['Knowledge and understanding of inclusive education practices.'], ['Ability and willingness to work co-operatively as a team member in a range of contexts.'], ['Excellent interpersonal and communication skills.'], ['Sensitivity to cultural and ethnic diversity and commitment to the principles of the Treaty of Waitangi.']], 'Date Advertised': '19-AUG-15', 'link': 'http://jobs.minedu.govt.nz/jobtools/jncustomsearch.viewFullSingle?in_organid=17584&in_jnCounter=222586155&in_jobDate=All&in_searchbox=YES&in_summary=S#utm_source=JobRSS&utm_medium=JobRSS'}, '3': {'Job Type': 'Full Time', 'jsonlen': '3', 'Job Title': 'Senior Education Advisors', 'Category': 'Education', 'Location': 'Wellington', 'Job Reference': 'EDU/1175880', 'Business Unit': '', 'Summary': '', 'lidocend': [['Using your evaluative\\xa0skills to work with data and information to solve complex problems and make\\xa0decisions'], ['Working with\\xa0others to support and implement change initiatives'], ['An\\xa0understanding of the Pasifika Education Plan and successful experience of\\xa0working with Pasifika students and communities.'], ['Knowledge and\\xa0successful experience in leadership and curriculum development at\\xa0secondary school level.'], ['Strategies\\xa0and initiatives that support student attendance and retention.']], 'Date Advertised': '25-AUG-15', 'link': 'http://jobs.minedu.govt.nz/jobtools/jncustomsearch.viewFullSingle?in_organid=17584&in_jnCounter=222585499&in_jobDate=All&in_searchbox=YES&in_summary=S#utm_source=JobRSS&utm_medium=JobRSS'}, '24': {'Category': 'Psychologist', 'Location': 'Hawkes Bay', 'Job Reference': 'EDU/1175173', 'doc': 'Educational Psychologist JD.docx', 'Business Unit': '', 'Date Advertised': '12-AUG-15', 'link': 'http://jobs.minedu.govt.nz/jobtools/jncustomsearch.viewFullSingle?in_organid=17584&in_jnCounter=222584724&in_jobDate=All&in_searchbox=YES&in_summary=S#utm_source=JobRSS&utm_medium=JobRSS', 'Job Type': 'Full Time', 'jsonlen': '24', 'Job Title': 'Psychologists', 'email': 'wendy.henderson@minedu.govt.nz', 'Summary': '', 'lidocend': []}, '7': {'Category': 'Management', 'Location': 'Wellington', 'Job Reference': 'EDU/1176631', 'doc': 'Programme Manager DELTA jd.docx', 'Business Unit': '', 'Date Advertised': '20-AUG-15', 'link': 'http://jobs.minedu.govt.nz/jobtools/jncustomsearch.viewFullSingle?in_organid=17584&in_jnCounter=222586332&in_jobDate=All&in_searchbox=YES&in_summary=S#utm_source=JobRSS&utm_medium=JobRSS', 'Job Type': 'Fixed Term Full Time', 'jsonlen': '7', 'Job Title': 'Programme Manager', 'email': 'ginger.solmonson@education.govt.nz', 'Summary': '', 'lidocend': []}, '11': {'Category': 'Education', 'Location': 'Gisborne', 'Job Reference': 'EDU/1176365', 'doc': 'Education Advisor JD SE & S.docx', 'Business Unit': '', 'Date Advertised': '19-AUG-15', 'link': 'http://jobs.minedu.govt.nz/jobtools/jncustomsearch.viewFullSingle?in_organid=17584&in_jnCounter=222586127&in_jobDate=All&in_searchbox=YES&in_summary=S#utm_source=JobRSS&utm_medium=JobRSS', 'Job Type': 'Full Time', 'jsonlen': '11', 'Job Title': 'Education Advisor Gisborne', 'Summary': '', 'lidocend': [['Using your\\xa0evaluative skills to work with data and information to solve complex\\xa0problems and make decisions'], ['Working\\xa0with others to support and implement change initiatives']]}, '19': {'Category': 'Education', 'Location': 'Otago', 'Job Reference': 'EDU/1175785', 'doc': 'Lead Advisor - Communities of Learning 2015 jd.docx', 'Business Unit': '', 'Date Advertised': '17-AUG-15', 'link': 'http://jobs.minedu.govt.nz/jobtools/jncustomsearch.viewFullSingle?in_organid=17584&in_jnCounter=222585478&in_jobDate=All&in_searchbox=YES&in_summary=S#utm_source=JobRSS&utm_medium=JobRSS', 'Job Type': 'Full Time', 'jsonlen': '19', 'Job Title': 'Lead Education Adviser', 'Summary': '', 'lidocend': [['Working with\\xa0\\xa0data and information to identify issues and come up with solutions to solve\\xa0complex problems and make decisions.'], ['Leading and working\\xa0with others to support and implement change initiatives.'], ['Presenting\\xa0and facilitating group discussions.'], ['Knowledge and\\xa0understanding of the New Zealand education system and relevant legislation'], ['An\\xa0understanding of the relationship between policy intent and the range and\\xa0combination of tools available for implementing new initiatives.']]}}\n"
     ]
    }
   ],
   "source": [
    "print(dicminj)"
   ]
  },
  {
   "cell_type": "code",
   "execution_count": 25,
   "metadata": {
    "collapsed": true
   },
   "outputs": [],
   "source": [
    "catlis = list()\n",
    "\n",
    "loclis = list()\n",
    "datlis = list()\n",
    "jobti = list()"
   ]
  },
  {
   "cell_type": "code",
   "execution_count": 26,
   "metadata": {
    "collapsed": true
   },
   "outputs": [],
   "source": []
  },
  {
   "cell_type": "code",
   "execution_count": 28,
   "metadata": {
    "collapsed": true
   },
   "outputs": [],
   "source": [
    "numdic = dict()"
   ]
  },
  {
   "cell_type": "code",
   "execution_count": null,
   "metadata": {
    "collapsed": true
   },
   "outputs": [],
   "source": []
  },
  {
   "cell_type": "code",
   "execution_count": 32,
   "metadata": {
    "collapsed": false
   },
   "outputs": [],
   "source": [
    "for ldi in range(ldic):\n",
    "    dicjob = dict()\n",
    "    catedi = (dicminj[str(ldi)]['Category'])\n",
    "    dicjob.update({'category' : catedi})\n",
    "    \n",
    "    numdic.update({ldi : dicjob})\n",
    "    #numdic.update({ldi : dicjob})\n",
    "    \n",
    "    locdi = (dicminj[str(ldi)]['Location'])\n",
    "    loclis.append(locdi)\n",
    "    \n",
    "    datdi = (dicminj[str(ldi)]['Date Advertised'])\n",
    "    datlis.append(datdi)\n",
    "    \n",
    "    titdi = (dicminj[str(ldi)]['Job Title'])\n",
    "    jobti.append(titdi)\n",
    "    \n",
    "    nedicf = dicjob.copy()\n",
    "    nedicf.update(nedicf)\n",
    "    \n",
    "    numdic.update({ldi : nedicf})\n",
    "    \n",
    "    #if 'education' in catedi:\n",
    "    #    print (catedi)\n",
    "\n",
    "        "
   ]
  },
  {
   "cell_type": "code",
   "execution_count": 33,
   "metadata": {
    "collapsed": false
   },
   "outputs": [
    {
     "data": {
      "text/plain": [
       "{0: {'category': 'Special Education'},\n",
       " 1: {'category': 'Special Education'},\n",
       " 2: {'category': 'Management'},\n",
       " 3: {'category': 'Education'},\n",
       " 4: {'category': 'Special Education'},\n",
       " 5: {'category': 'Special Education'},\n",
       " 6: {'category': 'Speech Language Therapist'},\n",
       " 7: {'category': 'Management'},\n",
       " 8: {'category': 'Management'},\n",
       " 9: {'category': 'Psychologist'},\n",
       " 10: {'category': 'Education'},\n",
       " 11: {'category': 'Education'},\n",
       " 12: {'category': 'Education'},\n",
       " 13: {'category': 'Policy/Advisory'},\n",
       " 14: {'category': 'Special Education'},\n",
       " 15: {'category': 'Education'},\n",
       " 16: {'category': 'Special Education'},\n",
       " 17: {'category': 'Psychologist'},\n",
       " 18: {'category': 'Psychologist'},\n",
       " 19: {'category': 'Education'},\n",
       " 20: {'category': 'Special Education'},\n",
       " 21: {'category': 'Policy/Advisory'},\n",
       " 22: {'category': 'Management'},\n",
       " 23: {'category': 'Education'},\n",
       " 24: {'category': 'Psychologist'},\n",
       " 25: {'category': 'Education'},\n",
       " 26: {'category': 'Project/Programme Management'}}"
      ]
     },
     "execution_count": 33,
     "metadata": {},
     "output_type": "execute_result"
    }
   ],
   "source": [
    "numdic"
   ]
  },
  {
   "cell_type": "code",
   "execution_count": null,
   "metadata": {
    "collapsed": true
   },
   "outputs": [],
   "source": []
  },
  {
   "cell_type": "code",
   "execution_count": null,
   "metadata": {
    "collapsed": true
   },
   "outputs": [],
   "source": []
  },
  {
   "cell_type": "code",
   "execution_count": 16,
   "metadata": {
    "collapsed": true
   },
   "outputs": [],
   "source": [
    "allpda = list()\n"
   ]
  },
  {
   "cell_type": "code",
   "execution_count": null,
   "metadata": {
    "collapsed": true
   },
   "outputs": [],
   "source": []
  },
  {
   "cell_type": "code",
   "execution_count": 17,
   "metadata": {
    "collapsed": true
   },
   "outputs": [],
   "source": [
    "for dal in datlis:\n",
    "    allpdata = pandas.to_datetime(dal)\n",
    "    allpda.append(allpdata)"
   ]
  },
  {
   "cell_type": "code",
   "execution_count": 18,
   "metadata": {
    "collapsed": false
   },
   "outputs": [
    {
     "data": {
      "text/plain": [
       "[Timestamp('2015-08-28 00:00:00'),\n",
       " Timestamp('2015-08-26 00:00:00'),\n",
       " Timestamp('2015-08-26 00:00:00'),\n",
       " Timestamp('2015-08-25 00:00:00'),\n",
       " Timestamp('2015-08-21 00:00:00'),\n",
       " Timestamp('2015-08-21 00:00:00'),\n",
       " Timestamp('2015-08-21 00:00:00'),\n",
       " Timestamp('2015-08-20 00:00:00'),\n",
       " Timestamp('2015-08-20 00:00:00'),\n",
       " Timestamp('2015-08-19 00:00:00'),\n",
       " Timestamp('2015-08-19 00:00:00'),\n",
       " Timestamp('2015-08-19 00:00:00'),\n",
       " Timestamp('2015-08-19 00:00:00'),\n",
       " Timestamp('2015-08-19 00:00:00'),\n",
       " Timestamp('2015-08-18 00:00:00'),\n",
       " Timestamp('2015-08-18 00:00:00'),\n",
       " Timestamp('2015-08-17 00:00:00'),\n",
       " Timestamp('2015-08-17 00:00:00'),\n",
       " Timestamp('2015-08-17 00:00:00'),\n",
       " Timestamp('2015-08-17 00:00:00'),\n",
       " Timestamp('2015-08-17 00:00:00'),\n",
       " Timestamp('2015-08-14 00:00:00'),\n",
       " Timestamp('2015-08-14 00:00:00'),\n",
       " Timestamp('2015-08-13 00:00:00'),\n",
       " Timestamp('2015-08-12 00:00:00'),\n",
       " Timestamp('2015-08-12 00:00:00'),\n",
       " Timestamp('2015-08-06 00:00:00'),\n",
       " Timestamp('2015-08-28 00:00:00'),\n",
       " Timestamp('2015-08-26 00:00:00'),\n",
       " Timestamp('2015-08-26 00:00:00'),\n",
       " Timestamp('2015-08-25 00:00:00'),\n",
       " Timestamp('2015-08-21 00:00:00'),\n",
       " Timestamp('2015-08-21 00:00:00'),\n",
       " Timestamp('2015-08-21 00:00:00'),\n",
       " Timestamp('2015-08-20 00:00:00'),\n",
       " Timestamp('2015-08-20 00:00:00'),\n",
       " Timestamp('2015-08-19 00:00:00'),\n",
       " Timestamp('2015-08-19 00:00:00'),\n",
       " Timestamp('2015-08-19 00:00:00'),\n",
       " Timestamp('2015-08-19 00:00:00'),\n",
       " Timestamp('2015-08-19 00:00:00'),\n",
       " Timestamp('2015-08-18 00:00:00'),\n",
       " Timestamp('2015-08-18 00:00:00'),\n",
       " Timestamp('2015-08-17 00:00:00'),\n",
       " Timestamp('2015-08-17 00:00:00'),\n",
       " Timestamp('2015-08-17 00:00:00'),\n",
       " Timestamp('2015-08-17 00:00:00'),\n",
       " Timestamp('2015-08-17 00:00:00'),\n",
       " Timestamp('2015-08-14 00:00:00'),\n",
       " Timestamp('2015-08-14 00:00:00'),\n",
       " Timestamp('2015-08-13 00:00:00'),\n",
       " Timestamp('2015-08-12 00:00:00'),\n",
       " Timestamp('2015-08-12 00:00:00'),\n",
       " Timestamp('2015-08-06 00:00:00')]"
      ]
     },
     "execution_count": 18,
     "metadata": {},
     "output_type": "execute_result"
    }
   ],
   "source": [
    "allpda"
   ]
  },
  {
   "cell_type": "code",
   "execution_count": null,
   "metadata": {
    "collapsed": true
   },
   "outputs": [],
   "source": []
  },
  {
   "cell_type": "code",
   "execution_count": 126,
   "metadata": {
    "collapsed": false
   },
   "outputs": [
    {
     "data": {
      "text/plain": [
       "['28-AUG-15',\n",
       " '26-AUG-15',\n",
       " '26-AUG-15',\n",
       " '25-AUG-15',\n",
       " '21-AUG-15',\n",
       " '21-AUG-15',\n",
       " '21-AUG-15',\n",
       " '20-AUG-15',\n",
       " '20-AUG-15',\n",
       " '19-AUG-15',\n",
       " '19-AUG-15',\n",
       " '19-AUG-15',\n",
       " '19-AUG-15',\n",
       " '19-AUG-15',\n",
       " '18-AUG-15',\n",
       " '18-AUG-15',\n",
       " '17-AUG-15',\n",
       " '17-AUG-15',\n",
       " '17-AUG-15',\n",
       " '17-AUG-15',\n",
       " '17-AUG-15',\n",
       " '14-AUG-15',\n",
       " '14-AUG-15',\n",
       " '13-AUG-15',\n",
       " '12-AUG-15',\n",
       " '12-AUG-15',\n",
       " '06-AUG-15']"
      ]
     },
     "execution_count": 126,
     "metadata": {},
     "output_type": "execute_result"
    }
   ],
   "source": [
    "datlis"
   ]
  },
  {
   "cell_type": "code",
   "execution_count": 127,
   "metadata": {
    "collapsed": false
   },
   "outputs": [],
   "source": [
    "datsli = list(set(datlis))"
   ]
  },
  {
   "cell_type": "code",
   "execution_count": 128,
   "metadata": {
    "collapsed": true
   },
   "outputs": [],
   "source": [
    "import arrow"
   ]
  },
  {
   "cell_type": "code",
   "execution_count": 129,
   "metadata": {
    "collapsed": true
   },
   "outputs": [],
   "source": [
    "panlis = list()"
   ]
  },
  {
   "cell_type": "code",
   "execution_count": 130,
   "metadata": {
    "collapsed": false
   },
   "outputs": [
    {
     "name": "stdout",
     "output_type": "stream",
     "text": [
      "26-AUG-15\n",
      "14-AUG-15\n",
      "18-AUG-15\n",
      "25-AUG-15\n",
      "13-AUG-15\n",
      "28-AUG-15\n",
      "20-AUG-15\n",
      "17-AUG-15\n",
      "19-AUG-15\n",
      "21-AUG-15\n",
      "06-AUG-15\n",
      "12-AUG-15\n"
     ]
    }
   ],
   "source": [
    "for dalz in datsli:\n",
    "    print (dalz)\n",
    "    panlis.append(pandas.to_datetime(dalz))\n",
    "    "
   ]
  },
  {
   "cell_type": "code",
   "execution_count": 131,
   "metadata": {
    "collapsed": false
   },
   "outputs": [
    {
     "name": "stdout",
     "output_type": "stream",
     "text": [
      "238\n",
      "2015-08-26\n",
      "226\n",
      "2015-08-14\n",
      "230\n",
      "2015-08-18\n",
      "237\n",
      "2015-08-25\n",
      "225\n",
      "2015-08-13\n",
      "240\n",
      "2015-08-28\n",
      "232\n",
      "2015-08-20\n",
      "229\n",
      "2015-08-17\n",
      "231\n",
      "2015-08-19\n",
      "233\n",
      "2015-08-21\n",
      "218\n",
      "2015-08-06\n",
      "224\n",
      "2015-08-12\n"
     ]
    }
   ],
   "source": [
    "for panl in panlis:\n",
    "    #print (panl.dayofweek)\n",
    "    print (panl.dayofyear)\n",
    "    print (panl.date())"
   ]
  },
  {
   "cell_type": "code",
   "execution_count": null,
   "metadata": {
    "collapsed": true
   },
   "outputs": [],
   "source": []
  },
  {
   "cell_type": "code",
   "execution_count": null,
   "metadata": {
    "collapsed": true
   },
   "outputs": [],
   "source": []
  },
  {
   "cell_type": "code",
   "execution_count": null,
   "metadata": {
    "collapsed": true
   },
   "outputs": [],
   "source": []
  },
  {
   "cell_type": "code",
   "execution_count": 132,
   "metadata": {
    "collapsed": false
   },
   "outputs": [],
   "source": [
    "catsli = list(set(catlis))"
   ]
  },
  {
   "cell_type": "code",
   "execution_count": 133,
   "metadata": {
    "collapsed": false
   },
   "outputs": [],
   "source": [
    "locset = list(set(loclis))"
   ]
  },
  {
   "cell_type": "code",
   "execution_count": 134,
   "metadata": {
    "collapsed": false
   },
   "outputs": [
    {
     "data": {
      "text/plain": [
       "['Auckland',\n",
       " 'Wellington',\n",
       " 'Nelson - Marlborough',\n",
       " 'Bay of Plenty',\n",
       " 'Unspecified',\n",
       " 'Otago',\n",
       " 'Hawkes Bay',\n",
       " 'Manawatu',\n",
       " 'Canterbury',\n",
       " 'Gisborne',\n",
       " 'Napier',\n",
       " 'Whanganui']"
      ]
     },
     "execution_count": 134,
     "metadata": {},
     "output_type": "execute_result"
    }
   ],
   "source": [
    "locset"
   ]
  },
  {
   "cell_type": "code",
   "execution_count": null,
   "metadata": {
    "collapsed": true
   },
   "outputs": [],
   "source": []
  },
  {
   "cell_type": "code",
   "execution_count": 135,
   "metadata": {
    "collapsed": false
   },
   "outputs": [
    {
     "name": "stdout",
     "output_type": "stream",
     "text": [
      "Management\n",
      "Education\n",
      "Speech Language Therapist\n",
      "Policy/Advisory\n",
      "Special Education\n",
      "Project/Programme Management\n",
      "Psychologist\n"
     ]
    }
   ],
   "source": [
    "for cas in catsli:\n",
    "    print (cas)"
   ]
  },
  {
   "cell_type": "code",
   "execution_count": null,
   "metadata": {
    "collapsed": true
   },
   "outputs": [],
   "source": []
  },
  {
   "cell_type": "code",
   "execution_count": null,
   "metadata": {
    "collapsed": true
   },
   "outputs": [],
   "source": []
  }
 ],
 "metadata": {
  "kernelspec": {
   "display_name": "Python 3",
   "language": "python",
   "name": "python3"
  },
  "language_info": {
   "codemirror_mode": {
    "name": "ipython",
    "version": 3
   },
   "file_extension": ".py",
   "mimetype": "text/x-python",
   "name": "python",
   "nbconvert_exporter": "python",
   "pygments_lexer": "ipython3",
   "version": "3.4.2"
  }
 },
 "nbformat": 4,
 "nbformat_minor": 0
}
