{
 "cells": [
  {
   "cell_type": "markdown",
   "metadata": {},
   "source": [
    "Nikoladu\n",
    "\n",
    "This script opens a json file of jobs at Ministry Of Education. It creates a rst file for each job - along with a meta file. This is then turned into a static blogs. \n",
    "The title of each blog post is the ID of the job. I used this as it is unique. It ignores the first 3 characters (edu) and just focus on the number.\n",
    "The post content was just the job title, but I have updated it to include helpful skills to have. \n",
    "Location and category of job is added as tags to the post. "
   ]
  },
  {
   "cell_type": "code",
   "execution_count": null,
   "metadata": {
    "collapsed": true
   },
   "outputs": [],
   "source": []
  },
  {
   "cell_type": "code",
   "execution_count": 12,
   "metadata": {
    "collapsed": false
   },
   "outputs": [],
   "source": [
    "#import nikola\n",
    "\n",
    "import requests\n",
    "import json\n",
    "import getpass\n",
    "import pandas"
   ]
  },
  {
   "cell_type": "code",
   "execution_count": 2,
   "metadata": {
    "collapsed": true
   },
   "outputs": [],
   "source": [
    "myusr = getpass.getuser()"
   ]
  },
  {
   "cell_type": "code",
   "execution_count": null,
   "metadata": {
    "collapsed": true
   },
   "outputs": [],
   "source": []
  },
  {
   "cell_type": "code",
   "execution_count": 4,
   "metadata": {
    "collapsed": false
   },
   "outputs": [],
   "source": [
    "opedu = open('/home/{}/moejobs/index.json'.format(myusr), 'r')"
   ]
  },
  {
   "cell_type": "code",
   "execution_count": 5,
   "metadata": {
    "collapsed": false
   },
   "outputs": [],
   "source": [
    "minjob = opedu.read()"
   ]
  },
  {
   "cell_type": "code",
   "execution_count": 6,
   "metadata": {
    "collapsed": false
   },
   "outputs": [],
   "source": [
    "dicminj = json.loads(minjob)"
   ]
  },
  {
   "cell_type": "code",
   "execution_count": 7,
   "metadata": {
    "collapsed": false
   },
   "outputs": [],
   "source": [
    "ldic = len(dicminj)"
   ]
  },
  {
   "cell_type": "code",
   "execution_count": 8,
   "metadata": {
    "collapsed": false
   },
   "outputs": [
    {
     "name": "stdout",
     "output_type": "stream",
     "text": [
      "{'20': {'link': 'http://jobs.education.govt.nz/jobtools/jncustomsearch.viewFullSingle?in_organid=17584&in_jnCounter=222642597&in_jobDate=All&in_searchbox=YES&in_summary=S#utm_source=JobRSS&utm_medium=JobRSS', 'Category': 'Management', 'doc': 'Snr Policy Manager International June 2016.docx', 'jsonlen': '20', 'Business Unit': '', 'Job Title': 'Senior Policy Manager International', 'Location': 'Wellington', 'Job Reference': 'EDU/1222161', 'lidocend': [['Influence the performance of\\xa0the education system'], ['Provide strategic advice\\xa0that makes a real difference to economic and social outcomes for New Zealand'], ['Lead policy and system thinking in relation to international education and internationalisation of New Zealand’s education system'], ['Successful experience in providing policy advice at a high level'], ['Leadership and influencing skills to focus and develop a policy team, get results and drive change'], ['Relationship skills and credibility to engage and influence decision-makers, officials across government and stakeholders'], ['Successful experience of bringing together data and other evidence, implementation insight, and perspectives from outside of Government']], 'Job Type': 'Full Time', 'Date Advertised': '10-JUN-16', 'Division': ''}, '11': {'link': 'http://jobs.education.govt.nz/jobtools/jncustomsearch.viewFullSingle?in_organid=17584&in_jnCounter=222643263&in_jobDate=All&in_searchbox=YES&in_summary=S#utm_source=JobRSS&utm_medium=JobRSS', 'Category': 'IT & computing', 'doc': 'Senior Systems Administrator Infrastructure jd.docx', 'jsonlen': '11', 'Business Unit': '', 'Job Title': 'Senior Systems Administrator', 'Location': 'Wellington', 'Job Reference': 'EDU/1222587', 'lidocend': [['Be a team player'], ['Possess a range of knowledge and skills including Windows Server 2003/2008/2012 support, Microsoft Exchange 2010/2013, Skype for Business and VMware 5.5/6.0.'], ['Have worked in an environment maintaining and supporting mission critical systems ensuring the core infrastructure services continue to operate effectively.'], ['Working with BAU and Project environments, you will have the ability to communicate effectively at both a business and technical level.'], ['Don’t mind working long hours'], ['Be service orientated in your thinking.']], 'Job Type': 'Full Time', 'Date Advertised': '15-JUN-16', 'Division': ''}, '3': {'link': 'http://jobs.education.govt.nz/jobtools/jncustomsearch.viewFullSingle?in_organid=17584&in_jnCounter=222643642&in_jobDate=All&in_searchbox=YES&in_summary=S#utm_source=JobRSS&utm_medium=JobRSS', 'Category': 'Education', 'Location': 'Hamilton', 'Job Reference': 'EDU/1222857', 'lidocend': [['·\\xa0\\xa0\\xa0\\xa0\\xa0\\xa0\\xa0\\xa0 The confidence to work across a diverse range of services and contexts.'], ['·\\xa0\\xa0\\xa0\\xa0\\xa0\\xa0\\xa0\\xa0 Strong networks and experience working with Māori medium and Pasifika ECE services. '], ['·\\xa0\\xa0\\xa0\\xa0\\xa0\\xa0\\xa0\\xa0 Have experience in assessing information to make objective judgments against criteria and recommending courses of action. '], ['·\\xa0\\xa0\\xa0\\xa0\\xa0\\xa0\\xa0\\xa0 Have the ability to analyse complex issues to produce clear and succinct written work with strong written and oral communication skills. '], ['·\\xa0\\xa0\\xa0\\xa0\\xa0\\xa0\\xa0\\xa0 Have experience in dealing with complex relationships, including influencing and negotiation skills. '], ['·\\xa0\\xa0\\xa0\\xa0\\xa0\\xa0\\xa0\\xa0 A qualification in early learning is desirable. ']], 'jsonlen': '3', 'Job Type': 'Full Time', 'Date Advertised': '16-JUN-16', 'Division': '', 'Job Title': 'Education Adviser - Senior Adviser', 'Business Unit': ''}, '1': {'link': 'http://jobs.education.govt.nz/jobtools/jncustomsearch.viewFullSingle?in_organid=17584&in_jnCounter=222643886&in_jobDate=All&in_searchbox=YES&in_summary=S#utm_source=JobRSS&utm_medium=JobRSS', 'Category': 'IT & computing', 'doc': 'JD Manager Application Support Services.docx', 'jsonlen': '1', 'Business Unit': '', 'Job Title': 'Manager Application Support Services', 'Location': 'Wellington', 'Job Reference': 'EDU/1223081', 'lidocend': [['Responsibility for results, performance and outputs of the Applications Unit'], ['Provide IT support for business\\xa0 applications, both in their development and maintenance stage'], ['Develop and maintain policies and processes to ensure that application changes are effectively and securely implemented'], ['Continually assess the operation of the applications environment to identify and implement improvements in the reliability and efficient performance of business applications'], ['Works with Business units and infrastructure managers to plan the effective use of the applications environment and unit resources']], 'Job Type': 'Full Time', 'Date Advertised': '17-JUN-16', 'Division': ''}, '7': {'link': 'http://jobs.education.govt.nz/jobtools/jncustomsearch.viewFullSingle?in_organid=17584&in_jnCounter=222643482&in_jobDate=All&in_searchbox=YES&in_summary=S#utm_source=JobRSS&utm_medium=JobRSS', 'Category': 'Policy/Advisory', 'email': 'eis.recruitment@education.govt.nz', 'jsonlen': '7', 'Business Unit': '', 'Job Title': 'Earthquake Resilience Case Manager', 'Location': 'Wellington', 'Job Reference': 'EDU/1222823', 'lidocend': [['National or Regional Office'], ['12-month fixed-term position'], ['Manage the review of existing seismic assessments of school buildings, applying a strategic approach to meet the requirements of the different stakeholder groups.'], ['Manage the handover of assessment results to stakeholders to meet legal requirements and to enable the reports to be incorporated into property planning and construction'], ['Building capability of EIS delivery managers, property advisors, and external project managers in understanding seismic assessments and the best approach to utilising them throughout property planning and management'], ['Liaising with territorial authorities about the Ministry’s approach to seismic assessment of school buildings and handing over seismic assessment results as required'], ['Excellent understanding of relevant legal frameworks and the Ministry’s policy and requirements regarding earthquake resilience of school buildings.'], ['Good working knowledge of seismic assessment methodologies and their latest developments.'], ['Well developed strategic and critical thinking skills and analytical capability.'], ['Excellent relationship skills and the ability to facilitate outcomes through personal credibility and influence.']], 'Job Type': 'Fixed Term Full Time', 'Date Advertised': '16-JUN-16', 'Division': ''}, '22': {'link': 'http://jobs.education.govt.nz/jobtools/jncustomsearch.viewFullSingle?in_organid=17584&in_jnCounter=222642320&in_jobDate=All&in_searchbox=YES&in_summary=S#utm_source=JobRSS&utm_medium=JobRSS', 'Category': 'Special Education', 'doc': 'Service Manager JD.docx', 'jsonlen': '22', 'Business Unit': '', 'Job Title': 'Service Manager', 'Location': 'Hamilton', 'Job Reference': 'EDU/1221722', 'lidocend': [['Experience', 'in education or in social service delivery, including leadership and\\xa0management roles'], ['Relationship\\xa0skills', 'in working with families, and with education and social services,\\xa0developing and sustaining win-win relationships'], ['Leadership\\xa0skills', 'coaching, supporting, and motivating others to enhance their skills and create a positive working environment'], ['Management\\xa0skills', 'working in a changing environment with staff and the sector, enhancing\\xa0strategy and staff performance'], ['Service delivery skills', 'experienced in achieving outcomes through developing,\\xa0 managing, delivering and monitoring quality services'], ['Experience working with Maori whanau, facility and social sector staff, to deliver on Ka Hikitia\\xa0and to raise achievement and reduce disparity for this group.']], 'Job Type': 'Full Time', 'Date Advertised': '09-JUN-16', 'Division': ''}, '6': {'link': 'http://jobs.education.govt.nz/jobtools/jncustomsearch.viewFullSingle?in_organid=17584&in_jnCounter=222643502&in_jobDate=All&in_searchbox=YES&in_summary=S#utm_source=JobRSS&utm_medium=JobRSS', 'Category': 'Property & Infrastructure', 'email': 'eis.recruitment@education.govt.nz', 'jsonlen': '6', 'Business Unit': '', 'Job Title': 'Support Analyst - Christchurch', 'Location': 'Canterbury', 'Job Reference': 'EDU/1222839', 'lidocend': [['Deliver exceptional customer experience through the provision of expert advice and support for all Education Infrastructure Service (EIS) Business Systems'], ['Contribute to key strategic activities in the Business Systems team.'], ['An in-depth knowledge of asset management systems, policies, and process'], ['Good interpersonal skills and the ability to develop and maintain trusted relationships with business and technical stakeholders'], ['A working knowledge of Portfolio Management, FMIS and Payments systems'], ['The ability to set achievable outcomes and to put a plan in place to reach those outcomes working either individually or as part of a group'], ['The drive to contribute to the wider goals of the team.']], 'Job Type': 'Full Time', 'Date Advertised': '16-JUN-16', 'Division': ''}, '5': {'link': 'http://jobs.education.govt.nz/jobtools/jncustomsearch.viewFullSingle?in_organid=17584&in_jnCounter=222643596&in_jobDate=All&in_searchbox=YES&in_summary=S#utm_source=JobRSS&utm_medium=JobRSS', 'Category': 'Education', 'Location': 'Hamilton', 'Job Reference': 'EDU/1222856', 'lidocend': [['Building and\\xa0maintaining successful\\xa0relationships'], ['Using your evaluative\\xa0skills to work with data and information to solve complex problems and make\\xa0decisions'], ['Working with\\xa0others to support and implement change initiatives']], 'jsonlen': '5', 'Job Type': 'Full Time', 'Date Advertised': '16-JUN-16', 'Division': '', 'Job Title': 'Education Adviser - Senior Adviser', 'Business Unit': ''}, '17': {'link': 'http://jobs.education.govt.nz/jobtools/jncustomsearch.viewFullSingle?in_organid=17584&in_jnCounter=222643052&in_jobDate=All&in_searchbox=YES&in_summary=S#utm_source=JobRSS&utm_medium=JobRSS', 'Category': 'IT & computing', 'doc': 'Senior Systems Administrator jd.docx', 'jsonlen': '17', 'Business Unit': '', 'Job Title': 'Senior Systems Administrator', 'Location': 'Wellington', 'Job Reference': 'EDU/1222451', 'lidocend': [['Possess a range of senior level knowledge and skills including database and/or systems administration with an Applications focus (rather than an Infrastructural focus).'], ['Have worked in an environment maintaining and supporting mission critical systems ensuring the applications continue to operate effectively. This will include practical experience supporting business applications with a strong knowledge of OpenVMS, SUN Identity Manager, SQL Server 2005/2008/2014, IIS, and Windows 2003/2008/2012.\\xa0'], ['Working with BAU and Project environments, you will have the ability to communicate effectively at both a business and technical level.'], ['Bring senior level experience working within a large team e.g. coaching or mentoring of colleagues and be proactively looking for improvement opportunities in standards and processes.']], 'Job Type': 'Full Time', 'Date Advertised': '14-JUN-16', 'Division': ''}, '21': {'link': 'http://jobs.education.govt.nz/jobtools/jncustomsearch.viewFullSingle?in_organid=17584&in_jnCounter=222642324&in_jobDate=All&in_searchbox=YES&in_summary=S#utm_source=JobRSS&utm_medium=JobRSS', 'Category': 'Education', 'doc': 'Senior Advisor JD.docx', 'jsonlen': '21', 'Business Unit': '', 'Job Title': 'Senior Education Advisor', 'Location': 'Taranaki', 'Job Reference': 'EDU/1221170', 'lidocend': [['Building and\\xa0maintaining successful\\xa0relationships'], ['Using your evaluative\\xa0skills to work with data and information to solve complex problems and make\\xa0decisions'], ['Working with\\xa0others to support and implement change initiatives']], 'Job Type': 'Full Time', 'Date Advertised': '09-JUN-16', 'Division': ''}, '24': {'link': 'http://jobs.education.govt.nz/jobtools/jncustomsearch.viewFullSingle?in_organid=17584&in_jnCounter=222640921&in_jobDate=All&in_searchbox=YES&in_summary=S#utm_source=JobRSS&utm_medium=JobRSS', 'Category': 'Speech Language Therapist', 'doc': 'JD Speech Language Therapist.pdf.docx', 'jsonlen': '24', 'Business Unit': '', 'Job Title': 'Speech Language Therapist', 'Location': 'Nelson - Marlborough', 'Job Reference': 'EDU/1220821', 'lidocend': [], 'Job Type': 'Part Time', 'Date Advertised': '02-JUN-16', 'Division': ''}, '12': {'link': 'http://jobs.education.govt.nz/jobtools/jncustomsearch.viewFullSingle?in_organid=17584&in_jnCounter=222642617&in_jobDate=All&in_searchbox=YES&in_summary=S#utm_source=JobRSS&utm_medium=JobRSS', 'Category': 'Special Education', 'doc': 'Physiotherapist jd (generic).docx', 'jsonlen': '12', 'Business Unit': '', 'Job Title': 'Physiotherapist', 'Location': 'Auckland', 'Job Reference': 'EDU/1221990', 'lidocend': [['Observe, assess and work closely with students with physical needs who have been identified as having barriers to participating or learning.'], ['Support students to be able to manage themselves in their daily lives'], ['Identify, set up and provide advice about the environmental changes, support, equipment and technology a student may need'], ['Work collaboratively with students, their parents and caregivers, schools and other specialists to support them to participate and achieve educationally.'], ['A Bachelor’s degree in Physiotherapy or its equivalent'], ['The New Zealand Physiotherapy Board registration'], ['A current annual Practising Certificate'], ['A current driver’s licence'], ['Relevant experience in paediatrics and/or Special Education is preferred']], 'Job Type': 'Full Time', 'Date Advertised': '15-JUN-16', 'Division': ''}, '19': {'link': 'http://jobs.education.govt.nz/jobtools/jncustomsearch.viewFullSingle?in_organid=17584&in_jnCounter=222642669&in_jobDate=All&in_searchbox=YES&in_summary=S#utm_source=JobRSS&utm_medium=JobRSS', 'Category': 'IT & computing', 'doc': 'JD Senior Manager IT Assurance .docx', 'email': 'mel.hodgkinson@education.govt.nz', 'jsonlen': '19', 'Business Unit': '', 'Job Title': 'Senior Manager, IT Assurance', 'Location': 'Wellington', 'Job Reference': 'EDU/1222150', 'lidocend': [['Maintaining a forward looking view of emerging risks across all relevant categories'], ['Facilitating development of workable solutions to mitigate identified risk'], ['Ensure effective security practise consistent with relevant public sector standards and guidelines'], ['Maintaining the integrity of production systems and data']], 'Job Type': 'Full Time', 'Date Advertised': '10-JUN-16', 'Division': ''}, '27': {'link': 'http://jobs.education.govt.nz/jobtools/jncustomsearch.viewFullSingle?in_organid=17584&in_jnCounter=222640627&in_jobDate=All&in_searchbox=YES&in_summary=S#utm_source=JobRSS&utm_medium=JobRSS', 'Category': 'Education', 'Location': 'Taranaki', 'Job Reference': 'EDU/1220579', 'lidocend': [['The confidence to work across a diverse range of services and contexts, including Māori medium and Pasifika ECE services. '], ['Have experience in assessing information to make objective judgments against criteria and recommending courses of action. '], ['Have the ability to analyse complex issues to produce clear and succinct written work with strong written and oral communication skills. '], ['Have experience in dealing with complex relationships, including influencing and negotiation skills. '], ['A qualification in early learning is desirable. ']], 'jsonlen': '27', 'Job Type': 'Full Time', 'Date Advertised': '01-JUN-16', 'Division': '', 'Job Title': 'Education Advisor - Senior Advisor', 'Business Unit': ''}, '13': {'link': 'http://jobs.education.govt.nz/jobtools/jncustomsearch.viewFullSingle?in_organid=17584&in_jnCounter=222641237&in_jobDate=All&in_searchbox=YES&in_summary=S#utm_source=JobRSS&utm_medium=JobRSS', 'Category': 'Education', 'Location': 'Auckland', 'Job Reference': 'EDU/1221079', 'lidocend': [], 'jsonlen': '13', 'Job Type': 'Full Time', 'Date Advertised': '15-JUN-16', 'Division': '', 'Job Title': 'Psychologist Northern Health School', 'Business Unit': ''}, '4': {'link': 'http://jobs.education.govt.nz/jobtools/jncustomsearch.viewFullSingle?in_organid=17584&in_jnCounter=222643615&in_jobDate=All&in_searchbox=YES&in_summary=S#utm_source=JobRSS&utm_medium=JobRSS', 'Category': 'Human Resources', 'doc': 'Employment Relations Lead jd - March 2014(1).docx', 'jsonlen': '4', 'Business Unit': '', 'Job Title': 'Employment Relations Lead', 'Location': 'Wellington', 'Job Reference': 'EDU/1222896', 'lidocend': [], 'Job Type': 'Full Time', 'Date Advertised': '16-JUN-16', 'Division': ''}, '18': {'link': 'http://jobs.education.govt.nz/jobtools/jncustomsearch.viewFullSingle?in_organid=17584&in_jnCounter=222642880&in_jobDate=All&in_searchbox=YES&in_summary=S#utm_source=JobRSS&utm_medium=JobRSS', 'Category': 'Support Worker', 'Location': 'Wellington', 'Job Reference': 'EDU/1222332', 'lidocend': [['Experience in working in the early childhood setting or with young children'], ['The ability to work as part of a team'], ['A sensitivity to cultural and ethnic diversity'], ['Excellent interpersonal and communication skills'], ['A good command of English'], ['A current driver’s licence but not essential']], 'jsonlen': '18', 'Job Type': 'Fixed Term Part Time', 'Date Advertised': '13-JUN-16', 'Division': '', 'Job Title': 'Education Support Worker', 'Business Unit': ''}, '0': {'link': 'http://jobs.education.govt.nz/jobtools/jncustomsearch.viewFullSingle?in_organid=17584&in_jnCounter=222643890&in_jobDate=All&in_searchbox=YES&in_summary=S#utm_source=JobRSS&utm_medium=JobRSS', 'Category': 'Speech Language Therapist', 'doc': 'Speech Language Therapist JD1.docx', 'jsonlen': '0', 'Business Unit': '', 'Job Title': 'Speech Language Therapist', 'Location': 'Auckland', 'Job Reference': 'EDU/1223133', 'lidocend': [['Bachelor of Speech and Language Therapy or equivalent qualification\\xa0'], ['Eligibility for membership of the New\\xa0Zealand Speech-Language Therapists’ Association'], ['A current driver’s licence'], ['sensitivity to cultural and ethnic\\xa0diversity and a commitment to the principles of the Treaty of Waitangi.']], 'Job Type': 'Fixed Term Full Time', 'Date Advertised': '17-JUN-16', 'Division': ''}, '9': {'link': 'http://jobs.education.govt.nz/jobtools/jncustomsearch.viewFullSingle?in_organid=17584&in_jnCounter=222642584&in_jobDate=All&in_searchbox=YES&in_summary=S#utm_source=JobRSS&utm_medium=JobRSS', 'Category': 'Administration/Support Services', 'doc': 'Senior Support Officer JD.docx', 'jsonlen': '9', 'Business Unit': '', 'Job Title': 'Senior Support Officers', 'Location': 'Auckland', 'Job Reference': 'EDU/1221819A', 'lidocend': [['Excellent Customer Service Skills'], ['Proven Time Management Skills'], ['Intermediate to Advanced Microsoft Suite skills'], ['Previous Administration experience'], ['Work well under pressure'], ['Flexibility and a desire to learn'], ['A positive can do attitude'], ['Excellent Communication skills']], 'Job Type': 'Full Time', 'Date Advertised': '15-JUN-16', 'Division': ''}, '14': {'link': 'http://jobs.education.govt.nz/jobtools/jncustomsearch.viewFullSingle?in_organid=17584&in_jnCounter=222643212&in_jobDate=All&in_searchbox=YES&in_summary=S#utm_source=JobRSS&utm_medium=JobRSS', 'Category': 'Management', 'doc': 'Chief Advisor Communities of Learning jd.docx', 'email': 'helen.hurst@education.govt.nz', 'jsonlen': '14', 'Business Unit': '', 'Job Title': 'Chief Adviser Communities of Learning', 'Location': 'Wellington', 'Job Reference': 'EDU/1222591', 'lidocend': [], 'Job Type': 'Full Time', 'Date Advertised': '15-JUN-16', 'Division': ''}, '26': {'link': 'http://jobs.education.govt.nz/jobtools/jncustomsearch.viewFullSingle?in_organid=17584&in_jnCounter=222640664&in_jobDate=All&in_searchbox=YES&in_summary=S#utm_source=JobRSS&utm_medium=JobRSS', 'Category': 'Psychologist', 'doc': 'psychologist jd.docx', 'email': 'emy.johnstone@education.govt.nz', 'jsonlen': '26', 'Business Unit': '', 'Job Title': 'Registered Psychologist', 'Location': 'Napier', 'Job Reference': 'EDU/1220661', 'lidocend': [], 'Job Type': 'Full Time', 'Date Advertised': '01-JUN-16', 'Division': ''}, '10': {'link': 'http://jobs.education.govt.nz/jobtools/jncustomsearch.viewFullSingle?in_organid=17584&in_jnCounter=222643270&in_jobDate=All&in_searchbox=YES&in_summary=S#utm_source=JobRSS&utm_medium=JobRSS', 'Category': 'IT & computing', 'doc': 'Senior System Administrator JD - Air-Watch - June 2016.docx', 'jsonlen': '10', 'Business Unit': '', 'Job Title': 'Senior Systems Administrator', 'Location': 'Wellington', 'Job Reference': 'EDU/1222586', 'lidocend': [['Be a team player'], ['Possess a range of knowledge and skills including Windows Server 2003/2008/2012 support, Skype for Business, VMware 5.5/6.0 and Air-Watch (accredited).'], ['Have worked in an environment maintaining and supporting mission critical systems ensuring the core infrastructure services continue to operate effectively.'], ['Working with BAU and Project environments, you will have the ability to communicate effectively at both a business and technical level.'], ['Don’t mind working long hours'], ['Be service orientated in your thinking.']], 'Job Type': 'Full Time', 'Date Advertised': '15-JUN-16', 'Division': ''}, '16': {'link': 'http://jobs.education.govt.nz/jobtools/jncustomsearch.viewFullSingle?in_organid=17584&in_jnCounter=222643209&in_jobDate=All&in_searchbox=YES&in_summary=S#utm_source=JobRSS&utm_medium=JobRSS', 'Category': 'Policy/Advisory', 'doc': 'Advisor SES JD.docx', 'jsonlen': '16', 'Business Unit': '', 'Job Title': 'Adviser', 'Location': 'Wellington', 'Job Reference': 'EDU/1222508', 'lidocend': [['Coordinate and maintain the team’s work programme, reporting processes and documentation'], ['Provide coordination support across the team’s projects and programmes to help keep them on track and up to date'], ['Coordination of the manager’s commitments and schedule'], ['Contribute to the team’s work by providing advice into implementation planning and practice improvements'], ['Support the coordination of team wide activities such as team meetings and engagements with regions and the wider education sector.']], 'Job Type': 'Full Time', 'Date Advertised': '15-JUN-16', 'Division': ''}, '25': {'link': 'http://jobs.education.govt.nz/jobtools/jncustomsearch.viewFullSingle?in_organid=17584&in_jnCounter=222640836&in_jobDate=All&in_searchbox=YES&in_summary=S#utm_source=JobRSS&utm_medium=JobRSS', 'Category': 'Management', 'doc': 'Manager ECE Analysis jd.docx', 'jsonlen': '25', 'Business Unit': '', 'Job Title': 'Manager, Early Childhood Education Analysis', 'Location': 'Wellington', 'Job Reference': 'EDU/1220765', 'lidocend': [['demonstrate highly developed problem-solving, numeracy and analytic skills and experience'], ['be politically savvy and communicate their ideas effectively orally and in writing, including negotiating and facilitating skills'], ['build and maintain positive working relationships with a wide range of stakeholders'], ['demonstrate organisational and planning skills and the ability to manage multiple competing demands.']], 'Job Type': 'Full Time', 'Date Advertised': '02-JUN-16', 'Division': ''}, '8': {'link': 'http://jobs.education.govt.nz/jobtools/jncustomsearch.viewFullSingle?in_organid=17584&in_jnCounter=222643470&in_jobDate=All&in_searchbox=YES&in_summary=S#utm_source=JobRSS&utm_medium=JobRSS', 'Category': 'IT & computing', 'doc': 'JD Service desk Analyst.docx', 'email': 'Liz.Quaye@education.govt.nz', 'jsonlen': '8', 'Business Unit': '', 'Job Title': 'Service Desk Analyst', 'Location': 'Wellington', 'Job Reference': 'EDU/1222706', 'lidocend': [['At least 1 years experience in a Service Desk or Contact Centre environment.'], ['Experience with using a call tracking system, preferably Knowledgebase or Service Manager.'], ['Experience in troubleshooting and problem solving end user issues.'], ['Working knowledge of MS Office applications.'], ['Strong verbal & written communication skills'], ['Good organisational and time management skills skills'], ['A proactive customer service focus and willing to go the extra mile'], ['Tact, diplomacy, patience'], ['Personal assertiveness and motivation'], ['Fast keyboard skills (minimum 40 wpm)'], ['High attention to detail, thorough, meticulous and consistent'], ['A focus on results and solutions and motivated to excel in a busy and dynamic environment'], ['Knowledge and 1 years experience working in the Ministry of Education\\xa0 or Sector Agencies in a support role']], 'Job Type': 'Full Time', 'Date Advertised': '16-JUN-16', 'Division': ''}, '23': {'link': 'http://jobs.education.govt.nz/jobtools/jncustomsearch.viewFullSingle?in_organid=17584&in_jnCounter=222641142&in_jobDate=All&in_searchbox=YES&in_summary=S#utm_source=JobRSS&utm_medium=JobRSS', 'Category': 'IT & computing', 'doc': 'Senior Test Analyst jd.docx', 'email': 'liz.quaye@education.govt.nz', 'jsonlen': '23', 'Business Unit': '', 'Job Title': 'Senior Test Analyst', 'Location': 'Wellington', 'Job Reference': 'EDU/1220605', 'lidocend': [['A sound understanding of the SDLC'], ['Experience with various delivery methodologies (Waterfall, Iterative and Agile)'], ['A strong understanding of the Software Testing Lifecycle'], ['Skilled in generating estimates'], ['Proven experience in writing test strategies and test plans'], ['Competent in undertaking requirements analysis and establishing test coverage'], ['Practiced in designing test sets, prioritising and providing general guidance'], ['Proficient in writing test cases/scripts and/or procedures'], ['Experienced with document reviews and ensuring industry standards are upheld'], ['Capable of performing defect management and reporting'], ['Skilled in executing system and system integration tests'], ['Proficient in regression testing and the maintenance of regression suites'], ['Practiced in generating progress reports and conducting stakeholder management'], ['Proven experience in writing Test Summary Reports'], ['Experience with using SQL for either data preparation or general querying'], ['Strong problem solving skills'], ['Good communication skills (both in written and oral form)'], ['Experience with mentoring other team members'], ['Ideally 5/6+ years experience in functional testing'], ['A relevant tertiary qualification'], ['ISTQB Foundation certified'], ['ISTQB Advanced Test Analyst certified']], 'Job Type': 'Full Time', 'Date Advertised': '03-JUN-16', 'Division': ''}, '15': {'link': 'http://jobs.education.govt.nz/jobtools/jncustomsearch.viewFullSingle?in_organid=17584&in_jnCounter=222643210&in_jobDate=All&in_searchbox=YES&in_summary=S#utm_source=JobRSS&utm_medium=JobRSS', 'Category': 'Policy/Advisory', 'doc': 'Senior Advisor SES.docx', 'jsonlen': '15', 'Business Unit': '', 'Job Title': 'Senior Adviser', 'Location': 'Wellington', 'Job Reference': 'EDU/1222507', 'lidocend': [['Analysing reports and associated documents to provide quality advice to the team and managers'], ['Undertaking detailed planning for implementation'], ['Advise on the development of effective and workable practices and processes to implement new initiatives'], ['Progress tasks and activities within the team’s work programme and project plans such as developing practice guidance and drafting update reports'], ['Coordinate project working groups and contribute to the completion of tasks on the project plan'], ['Work with other Ministry of Education groups and government bodies to advise about implications for the sector and implementation planning.']], 'Job Type': 'Full Time', 'Date Advertised': '15-JUN-16', 'Division': ''}, '2': {'link': 'http://jobs.education.govt.nz/jobtools/jncustomsearch.viewFullSingle?in_organid=17584&in_jnCounter=222643782&in_jobDate=All&in_searchbox=YES&in_summary=S#utm_source=JobRSS&utm_medium=JobRSS', 'Category': 'Education', 'email': 'murray.williams@childrensactionplan.govt.nz', 'jsonlen': '2', 'Business Unit': '', 'Job Title': \"Practice Manager (Children's Action Plan)\", 'Location': 'Wellington', 'Job Reference': 'EDU/1223042', 'lidocend': [['knowledgeable about best practice in supporting vulnerable children and families/whānau'], ['able to inspire others to reflect on and improve their own practice'], ['willing to constantly challenge and build their own knowledge and practice'], ['confident working with people from a range of sectors and backgrounds'], ['resilient and looking for a challenge'], ['willing to travel when required.\\xa0']], 'Job Type': 'Fixed Term Full Time', 'Date Advertised': '17-JUN-16', 'Division': ''}}\n"
     ]
    }
   ],
   "source": [
    "print(dicminj)"
   ]
  },
  {
   "cell_type": "code",
   "execution_count": 9,
   "metadata": {
    "collapsed": true
   },
   "outputs": [],
   "source": [
    "catlis = list()\n",
    "\n",
    "loclis = list()\n",
    "datlis = list()\n",
    "jobti = list()"
   ]
  },
  {
   "cell_type": "code",
   "execution_count": null,
   "metadata": {
    "collapsed": true
   },
   "outputs": [],
   "source": []
  },
  {
   "cell_type": "code",
   "execution_count": 10,
   "metadata": {
    "collapsed": true
   },
   "outputs": [],
   "source": [
    "numdic = dict()"
   ]
  },
  {
   "cell_type": "code",
   "execution_count": null,
   "metadata": {
    "collapsed": true
   },
   "outputs": [],
   "source": []
  },
  {
   "cell_type": "code",
   "execution_count": 15,
   "metadata": {
    "collapsed": false
   },
   "outputs": [
    {
     "name": "stdout",
     "output_type": "stream",
     "text": [
      "1223133\n",
      "1223081\n",
      "1223042\n",
      "1222857\n",
      "1222896\n",
      "1222856\n",
      "1222839\n",
      "1222823\n",
      "1222706\n",
      "1221819A\n",
      "1222586\n",
      "1222587\n",
      "1221990\n",
      "1221079\n",
      "1222591\n",
      "1222507\n",
      "1222508\n",
      "1222451\n",
      "1222332\n",
      "1222150\n",
      "1222161\n",
      "1221170\n",
      "1221722\n",
      "1220605\n",
      "1220821\n",
      "1220765\n",
      "1220661\n",
      "1220579\n"
     ]
    }
   ],
   "source": [
    "for ldi in range(ldic):\n",
    "    dicjob = dict()\n",
    "    catedi = (dicminj[str(ldi)]['Category'])\n",
    "    locdi = (dicminj[str(ldi)]['Location'])\n",
    "    datdi = (dicminj[str(ldi)]['Date Advertised'])\n",
    "    pandatz = pandas.to_datetime(datdi)\n",
    "    pdate = pandatz.date()\n",
    "    titdi = (dicminj[str(ldi)]['Job Title'])\n",
    "    helpth = (dicminj[str(ldi)]['lidocend'])\n",
    "    \n",
    "    jobref = (dicminj[str(ldi)]['Job Reference'])\n",
    "    jorefd = jobref[4:]\n",
    "    print (jorefd)\n",
    "    \n",
    "    opmetf = open('/home/{}/minstryofedu/posts/{}.meta'.format(myusr, jorefd), 'w')\n",
    "    opmetf.write(jorefd + '\\n' + jorefd + '\\n' + str(pdate) + ' ' + str('09:00:00') + '\\n' + catedi + ', ' + locdi)\n",
    "    opmetf.close()\n",
    "    \n",
    "    oprstfi = open('/home/{}/minstryofedu/posts/{}.rst'.format(myusr, jorefd), 'w')\n",
    "    oprstfi.write(titdi)\n",
    "    oprstfi.close()\n",
    "\n",
    "\n",
    "\n",
    "    dicjob.update({'Category' : catedi, 'Date Advertised' : str(pdate), 'Job Title' : titdi,\n",
    "    'Location' : locdi, 'Job Reference' : jobref})\n",
    "    \n",
    "    numdic.update({ldi : dicjob})\n",
    "    #numdic.update({ldi : dicjob})\n",
    "    \n",
    "    loclis.append(locdi)\n",
    "    datlis.append(datdi)\n",
    "    jobti.append(titdi)\n",
    "    \n",
    "    nedicf = dicjob.copy()\n",
    "    nedicf.update(nedicf)\n",
    "    \n",
    "    numdic.update({ldi : nedicf})\n",
    "    \n",
    "    #if 'education' in catedi:\n",
    "    #    print (catedi)\n",
    "\n",
    "        "
   ]
  },
  {
   "cell_type": "code",
   "execution_count": null,
   "metadata": {
    "collapsed": true
   },
   "outputs": [],
   "source": []
  }
 ],
 "metadata": {
  "kernelspec": {
   "display_name": "Python 3",
   "language": "python",
   "name": "python3"
  },
  "language_info": {
   "codemirror_mode": {
    "name": "ipython",
    "version": 3
   },
   "file_extension": ".py",
   "mimetype": "text/x-python",
   "name": "python",
   "nbconvert_exporter": "python",
   "pygments_lexer": "ipython3",
   "version": "3.4.2"
  }
 },
 "nbformat": 4,
 "nbformat_minor": 0
}
