{
 "cells": [
  {
   "cell_type": "markdown",
   "metadata": {},
   "source": [
    "Nikoladu\n",
    "\n",
    "This script opens a json file of jobs at Ministry Of Education. It creates a rst file for each job - along with a meta file. This is then turned into a static blogs. \n",
    "The title of each blog post is the ID of the job. I used this as it is unique. It ignores the first 3 characters (edu) and just focus on the number.\n",
    "The post content was just the job title, but I have updated it to include helpful skills to have. \n",
    "Location and category of job is added as tags to the post. "
   ]
  },
  {
   "cell_type": "code",
   "execution_count": null,
   "metadata": {
    "collapsed": true
   },
   "outputs": [],
   "source": []
  },
  {
   "cell_type": "code",
   "execution_count": 1,
   "metadata": {
    "collapsed": false
   },
   "outputs": [],
   "source": [
    "#import nikola\n",
    "\n",
    "import requests\n",
    "import json"
   ]
  },
  {
   "cell_type": "code",
   "execution_count": 7,
   "metadata": {
    "collapsed": true
   },
   "outputs": [],
   "source": [
    "opedu = open('/home/wcmckee/github/wcmckee.com/output/minedujobs/index.json', 'r')"
   ]
  },
  {
   "cell_type": "code",
   "execution_count": 8,
   "metadata": {
    "collapsed": false
   },
   "outputs": [],
   "source": [
    "minjob = opedu.read()"
   ]
  },
  {
   "cell_type": "code",
   "execution_count": 9,
   "metadata": {
    "collapsed": false
   },
   "outputs": [],
   "source": [
    "dicminj = json.loads(minjob)"
   ]
  },
  {
   "cell_type": "code",
   "execution_count": 10,
   "metadata": {
    "collapsed": false
   },
   "outputs": [],
   "source": [
    "ldic = len(dicminj)"
   ]
  },
  {
   "cell_type": "code",
   "execution_count": 11,
   "metadata": {
    "collapsed": false
   },
   "outputs": [
    {
     "name": "stdout",
     "output_type": "stream",
     "text": [
      "{'11': {'Job Reference': 'EDU/1184055', 'Summary': '', 'lidocend': [['The\\xa0ability to work as part of a team'], ['A\\xa0sensitivity to cultural and ethnic diversity'], ['Excellent\\xa0interpersonal and communication skills'], ['A\\xa0current driver’s licence']], 'link': 'http://jobs.minedu.govt.nz/jobtools/jncustomsearch.viewFullSingle?in_organid=17584&in_jnCounter=222595082&in_jobDate=All&in_searchbox=YES&in_summary=S#utm_source=JobRSS&utm_medium=JobRSS', 'Category': 'Support Worker', 'Job Type': 'Part Time', 'Date Advertised': '01-OCT-15', 'Location': 'Wellington', 'Business Unit': '', 'jsonlen': '11', 'Job Title': 'Education Support Worker'}, '5': {'Job Reference': 'EDU/1184359', 'Summary': '', 'lidocend': [['Have worked in an environment maintaining and supporting mission critical systems ensuring the applications continue to operate effectively. This will include practical experience supporting business applications with \\xa0\\xa0\\xa0\\xa0 knowledge of SQL Server 2005/2008/2014, IIS, and Windows Server 2003/2008/2012.\\xa0\\xa0Any Linux, OpenVMS or Oracle will be advantageous as well.'], ['Working with BAU and Project environments, you will have the ability to communicate effectively at both a business and technical level.']], 'Date Advertised': '05-OCT-15', 'Business Unit': '', 'Job Title': 'Systems Administrator', 'Category': 'IT & computing', 'link': 'http://jobs.minedu.govt.nz/jobtools/jncustomsearch.viewFullSingle?in_organid=17584&in_jnCounter=222595633&in_jobDate=All&in_searchbox=YES&in_summary=S#utm_source=JobRSS&utm_medium=JobRSS', 'doc': 'System Administrator JD.docx', 'Job Type': 'Full Time', 'Location': 'Wellington', 'jsonlen': '5'}, '4': {'Job Reference': 'EDU/1184337', 'Summary': '', 'lidocend': [[\"have experience working in or with Ministers'' Offices\"], ['have experience working with senior leaders and be confident and capable interacting with senior leadership'], ['thrive in a high pace environment']], 'Date Advertised': '05-OCT-15', 'Business Unit': '', 'Job Title': 'Principal Advisor, Office of the Deputy Secretary', 'Category': 'Policy/Advisory', 'link': 'http://jobs.minedu.govt.nz/jobtools/jncustomsearch.viewFullSingle?in_organid=17584&in_jnCounter=222595635&in_jobDate=All&in_searchbox=YES&in_summary=S#utm_source=JobRSS&utm_medium=JobRSS', 'doc': 'Principal Advisor, Office of the Deputy Secretary EDK jd.docx', 'Job Type': 'Full Time', 'Location': 'Wellington', 'jsonlen': '4'}, '24': {'Job Reference': 'EDU/1183501', 'Summary': '', 'lidocend': [['Lead systems and process transformation'], ['support the CFO in leading change'], ['\\xa0oversee accuracy, compliance, and the efficiency of finance transactions and processing'], ['lead the systems and process transformation to ensure finance and procurement systems are selected, implemented and maintained'], ['manage the Ministry Balance Sheet including cash and overall working capital management'], ['\\xa0be accountable for protecting and preserving the assets of the Ministry.'], ['is tertiary qualified in accounting and holds qualified Chartered Accountant status within CAANZ'], ['understands public sector corporate finance processes, budget cycles and reporting standards'], ['demonstrates an ability to innovate using best practice financial reporting, taxation and treasury management for business advantage'], ['can effectively influence and provide specialist advice to senior managers.']], 'Date Advertised': '28-SEP-15', 'Business Unit': '', 'Job Title': 'Financial Controller', 'Category': 'Accounting/Finance', 'link': 'http://jobs.minedu.govt.nz/jobtools/jncustomsearch.viewFullSingle?in_organid=17584&in_jnCounter=222594425&in_jobDate=All&in_searchbox=YES&in_summary=S#utm_source=JobRSS&utm_medium=JobRSS', 'doc': 'PCaR Financial Controller JD Sept 2015.docx', 'Job Type': 'Full Time', 'Location': 'Wellington', 'jsonlen': '24'}, '7': {'Job Reference': 'EDU/1184183', 'Summary': '', 'lidocend': [['Critical high value/high outcome contracts'], ['Knowledge and experience with Government procurement processes, practices and accountability requirements'], ['A broad understanding of a commercial IT environment or general procurement experience'], ['Demonstrated excellent negotiation, persuasion and influencing skills'], ['Excellent relationship management, communication and networking skills'], ['At least 5 years’ experience in commercial and or procurement; have worked with professional services'], ['Have a really solid understanding of All of Government (AoG) agreements'], ['Be highly organised and have excellent oral and written skills'], ['Eligible or working towards Associate Member (Level 4) of CIPS and/or a relevant tertiary qualification']], 'Date Advertised': '01-OCT-15', 'Business Unit': '', 'Job Title': 'Procurement Leader', 'Category': 'Procurement /Contract Management', 'link': 'http://jobs.minedu.govt.nz/jobtools/jncustomsearch.viewFullSingle?in_organid=17584&in_jnCounter=222595247&in_jobDate=All&in_searchbox=YES&in_summary=S#utm_source=JobRSS&utm_medium=JobRSS', 'doc': 'Procurement Leader JD.docx', 'Job Type': 'Full Time', 'Location': 'Wellington', 'jsonlen': '7'}, '1': {'Job Reference': 'EDU/1184568', 'Summary': '', 'lidocend': [['An ability to work as part of a multidisciplinary team;'], ['Excellent interpersonal and communication skills including an ability to sustain productive professional relationships;'], ['A genuine commitment to evidence based interventions which demonstrate inclusive education practice and contribute to raising student achievement;'], ['For Psychologists applying – a New Zealand Psychologist Board registration and current Practicing Certificate;'], ['Sensitivity to cultural and ethnic diversity and a commitment to the principles of the Treaty of Waitangi.']], 'Date Advertised': '06-OCT-15', 'Business Unit': '', 'Job Title': 'Psychologist / Special Education Adviser', 'Category': 'Special Education', 'link': 'http://jobs.minedu.govt.nz/jobtools/jncustomsearch.viewFullSingle?in_organid=17584&in_jnCounter=222595787&in_jobDate=All&in_searchbox=YES&in_summary=S#utm_source=JobRSS&utm_medium=JobRSS', 'doc': 'psychologist jd.docx', 'Job Type': 'Part Time', 'Location': 'Nelson - Marlborough', 'jsonlen': '1'}, '20': {'Job Reference': 'EDU/1183481', 'Summary': '', 'lidocend': [['Work with data and information to identify issues and come up with solutions to solve complex problems and make decisions.'], ['Lead and work\\xa0with others to support and implement change initiatives.'], ['Present and lead group discussions.'], ['Knowledge and understanding of the New Zealand education system and relevant legislation'], ['An understanding of the relationship between policy intent and the range and combination of tools available for implementing new initiatives.']], 'link': 'http://jobs.minedu.govt.nz/jobtools/jncustomsearch.viewFullSingle?in_organid=17584&in_jnCounter=222594572&in_jobDate=All&in_searchbox=YES&in_summary=S#utm_source=JobRSS&utm_medium=JobRSS', 'Category': 'Education', 'Job Type': 'Full Time', 'Date Advertised': '29-SEP-15', 'Location': 'Whangarei', 'Business Unit': '', 'jsonlen': '20', 'Job Title': 'Lead Education Advisor'}, '21': {'Job Reference': 'EDU/1183608', 'Summary': '', 'lidocend': [['Licensing & certificating early childhood education services, ensuring regulations & criteria are met, and implementing policies & programmes.'], ['Early childhood education'], ['Working\\xa0collaboratively with others to support and implement projects'], ['Developing & maintaining effective professional relationships'], ['Identifying risk and solving problems'], ['Using databases & spreadsheets for monitoring and reporting']], 'Date Advertised': '29-SEP-15', 'Business Unit': '', 'Job Title': 'Advisor', 'Category': 'Education', 'link': 'http://jobs.minedu.govt.nz/jobtools/jncustomsearch.viewFullSingle?in_organid=17584&in_jnCounter=222594571&in_jobDate=All&in_searchbox=YES&in_summary=S#utm_source=JobRSS&utm_medium=JobRSS', 'doc': 'JD Advisor ECE.docx', 'Job Type': 'Full Time', 'Location': 'Auckland', 'jsonlen': '21'}, '3': {'Job Reference': 'EDU/1184311', 'Summary': '', 'lidocend': [['Demonstrated\\xa0knowledge and experience working with Māori organisations, education\\xa0providers, agency partners and relevant community organisations'], ['Able\\xa0to work consistently to established timeframes, developing and maintaining effective relationships with iwi and key stakeholders'], ['Team\\xa0player, responsive, versatile and able to empower others']], 'Date Advertised': '05-OCT-15', 'Business Unit': '', 'Job Title': 'Senior Partnership Advisor', 'Category': 'Policy/Advisory', 'link': 'http://jobs.minedu.govt.nz/jobtools/jncustomsearch.viewFullSingle?in_organid=17584&in_jnCounter=222595638&in_jobDate=All&in_searchbox=YES&in_summary=S#utm_source=JobRSS&utm_medium=JobRSS', 'doc': 'Senior Partnershp Advisor IMER jd.docx', 'Job Type': 'Full Time', 'Location': 'Whangarei', 'jsonlen': '3'}, '31': {'Job Reference': 'EDU/1181268', 'Summary': '', 'lidocend': [], 'Date Advertised': '15-SEP-15', 'Business Unit': '', 'Job Title': 'School Wide Practitioner', 'Category': 'Psychologist', 'link': 'http://jobs.minedu.govt.nz/jobtools/jncustomsearch.viewFullSingle?in_organid=17584&in_jnCounter=222591749&in_jobDate=All&in_searchbox=YES&in_summary=S#utm_source=JobRSS&utm_medium=JobRSS', 'doc': 'JD School Wide Practitioner.docx', 'Job Type': 'Full Time', 'Location': 'Hamilton', 'jsonlen': '31'}, '23': {'Job Reference': 'EDU/1183510', 'Summary': '', 'lidocend': [['Financial management stewardship'], ['support the CFO in leading change'], ['\\xa0focus on stewardship of financial management through a collaborative approach with business groups'], ['create a suite of powerful reports and information metrics which provide management information and financial analysis to support decision making'], ['ensure staff are upskilled in fundamental processes affecting forecasting, budgeting and appropriation management'], ['\\xa0operationalise the corporate cost and output costing methodologies..'], ['is tertiary qualified in accounting and holds qualified Chartered Accountant status within CAANZ or equivalent'], ['understands public sector corporate finance processes, budget cycles and reporting standards'], ['demonstrates an ability to innovate using best practice financial reporting, taxation and treasury management for business advantage'], ['has proven leadership skills including the ability to engage and motivate staff.']], 'Date Advertised': '28-SEP-15', 'Business Unit': '', 'Job Title': 'Manager Business Group Finance', 'Category': 'Accounting/Finance', 'link': 'http://jobs.minedu.govt.nz/jobtools/jncustomsearch.viewFullSingle?in_organid=17584&in_jnCounter=222594433&in_jobDate=All&in_searchbox=YES&in_summary=S#utm_source=JobRSS&utm_medium=JobRSS', 'doc': 'PCaR Manager Business Group Finance JD Sept 2015.docx', 'Job Type': 'Full Time', 'Location': 'Wellington', 'jsonlen': '23'}, '16': {'Job Reference': 'EDU/1183456', 'Summary': '', 'lidocend': [], 'Date Advertised': '29-SEP-15', 'Business Unit': '', 'Job Title': 'SEA/Psych', 'Category': 'Special Education', 'link': 'http://jobs.minedu.govt.nz/jobtools/jncustomsearch.viewFullSingle?in_organid=17584&in_jnCounter=222594651&in_jobDate=All&in_searchbox=YES&in_summary=S#utm_source=JobRSS&utm_medium=JobRSS', 'doc': 'psychologist jd.docx', 'Job Type': 'Full Time', 'Location': 'Rotorua', 'jsonlen': '16'}, '8': {'Job Reference': 'EDU/1184142', 'Summary': '', 'lidocend': [], 'link': 'http://jobs.minedu.govt.nz/jobtools/jncustomsearch.viewFullSingle?in_organid=17584&in_jnCounter=222595181&in_jobDate=All&in_searchbox=YES&in_summary=S#utm_source=JobRSS&utm_medium=JobRSS', 'Category': 'Special Education', 'Job Type': 'Full Time', 'Date Advertised': '01-OCT-15', 'Location': 'Auckland', 'Business Unit': '', 'jsonlen': '8', 'Job Title': 'Manager Northern Health School (South Auckland)'}, '14': {'Job Reference': 'EDU/1183849', 'Summary': '', 'lidocend': [['Ensure all incoming Ministerials are recorded in the Ministerial register and set in place a checking system'], ['Maintain a secure, current filing system for the Group'], ['Distribute material for action to other relevant staff in the Ministry and people/groups outside the Ministry'], ['A thorough understanding of the Ministerial Electronic Tracking Information System'], ['Good understanding of the Public Sector regulations and environment.'], ['Proven excellent written and oral communication skills'], ['Excellent interpersonal skills and negotiation experience']], 'link': 'http://jobs.minedu.govt.nz/jobtools/jncustomsearch.viewFullSingle?in_organid=17584&in_jnCounter=222594960&in_jobDate=All&in_searchbox=YES&in_summary=S#utm_source=JobRSS&utm_medium=JobRSS', 'Category': 'Policy/Advisory', 'Job Type': 'Full Time', 'Date Advertised': '30-SEP-15', 'Location': 'Wellington', 'Business Unit': '', 'jsonlen': '14', 'Job Title': 'Senior Advisor'}, '19': {'Job Reference': 'EDU/1183607', 'Summary': '', 'lidocend': [['Licensing & certificating early childhood education services, ensuring regulations & criteria are met, and implementing policies & programmes.'], ['Early childhood education pedagogy and/or management'], ['Implementing projects collaboratively with a range of stakeholders'], ['Developing & maintaining effective \\xa0professional relationships within \\xa0the early childhood education sector \\xa0'], ['Assessing risk and solving complex problems'], ['Analysing & evaluating data to determine needs and priorities'], ['Reporting and monitoring progress to achieve outcomes']], 'Date Advertised': '29-SEP-15', 'Business Unit': '', 'Job Title': 'Senior Advisor', 'Category': 'Education', 'link': 'http://jobs.minedu.govt.nz/jobtools/jncustomsearch.viewFullSingle?in_organid=17584&in_jnCounter=222594575&in_jobDate=All&in_searchbox=YES&in_summary=S#utm_source=JobRSS&utm_medium=JobRSS', 'doc': 'JD Senior Advisor Education Team.docx', 'Job Type': 'Full Time', 'Location': 'Auckland', 'jsonlen': '19'}, '25': {'Job Reference': 'EDU/1183431', 'Summary': '', 'lidocend': [['Physiotherapy Board of New\\xa0Zealand registration'], ['A current Annual Practising Certificate'], ['A current driver’s licence'], ['Sensitivity to cultural and ethnic\\xa0diversity and a commitment to the principles of the Treaty of Waitangi.']], 'Date Advertised': '28-SEP-15', 'Business Unit': '', 'Job Title': 'Physiotherapist', 'Category': 'Special Education', 'link': 'http://jobs.minedu.govt.nz/jobtools/jncustomsearch.viewFullSingle?in_organid=17584&in_jnCounter=222594361&in_jobDate=All&in_searchbox=YES&in_summary=S#utm_source=JobRSS&utm_medium=JobRSS', 'doc': 'Physiotherapist jd (generic).docx', 'Job Type': 'Full Time', 'Location': 'Auckland', 'jsonlen': '25'}, '13': {'Job Reference': 'EDU/1183956', 'Summary': '', 'lidocend': [['Deliver best practice across the organisation'], ['support the Leadership Team in leading change in current \\xa0procurement \\xa0practice'], ['develop and lead the strategic procurement strategy to deliver excellent value for money outcomes'], ['implement leading edge procurement processes, practice and systems'], ['improve engagement through relationships.'], ['is tertiary qualified with a specialty in procurement or holds a strategic procurement qualification'], ['holds Chartered Institute of Purchasing and Supply membership'], ['has a outstanding track record of success as a CPO or senior procurement leader in a large organisation with significant scale and complexity'], ['can effectively influence and provide specialist advice to senior managers.']], 'Date Advertised': '30-SEP-15', 'Business Unit': '', 'Job Title': 'Chief Procurement Officer', 'Category': 'Procurement /Contract Management', 'link': 'http://jobs.minedu.govt.nz/jobtools/jncustomsearch.viewFullSingle?in_organid=17584&in_jnCounter=222594977&in_jobDate=All&in_searchbox=YES&in_summary=S#utm_source=JobRSS&utm_medium=JobRSS', 'doc': 'PCaR Chief Procurement Officer JD.docx', 'Job Type': 'Full Time', 'Location': 'Wellington', 'jsonlen': '13'}, '9': {'Job Reference': 'EDU/1179846', 'Summary': '', 'lidocend': [['Whangarei Office'], ['Permanent position,\\xa0\\xa0secondment\\xa0opportunities will be considered'], ['a focus on learner achievement, in particular\\xa0for Māori and Pasifika learners and for learners with special education \\xa0\\xa0\\xa0\\xa0 needs'], ['a focus on maintaining an effective network of\\xa0schools'], ['managing\\xa0relationships with the sector,\\xa0other agencies, and providers of education\\xa0 services'], ['strengthening positive and trusting\\xa0relationships between the Ministry and the education\\xa0sector.'], ['an in-depth\\xa0understanding of factors\\xa0influencing education performance and achievement\\xa0for Māori learners, \\xa0\\xa0\\xa0\\xa0 Pasifika learners, and learners with special education needs'], ['experience in\\xa0working with complex issues\\xa0and concepts'], ['high level\\xa0analysis and problem solving\\xa0ability'], ['sufficient\\xa0fluency in Te Reo Maori'], ['relationship\\xa0and stakeholder management\\xa0experience'], ['excellent\\xa0writing skills and communication\\xa0skills']], 'Date Advertised': '01-OCT-15', 'Business Unit': '', 'Job Title': 'Senior Advisor Maori', 'Category': 'Education', 'link': 'http://jobs.minedu.govt.nz/jobtools/jncustomsearch.viewFullSingle?in_organid=17584&in_jnCounter=222590229&in_jobDate=All&in_searchbox=YES&in_summary=S#utm_source=JobRSS&utm_medium=JobRSS', 'doc': 'Senior Advisor Maori jd.docx', 'Job Type': 'Full Time', 'Location': 'Whangarei', 'jsonlen': '9'}, '10': {'Job Reference': 'EDU/1184054', 'Summary': '', 'lidocend': [], 'Date Advertised': '01-OCT-15', 'Business Unit': '', 'Job Title': 'Speech Language Therapist', 'Category': 'Speech Language Therapist', 'link': 'http://jobs.minedu.govt.nz/jobtools/jncustomsearch.viewFullSingle?in_organid=17584&in_jnCounter=222595084&in_jobDate=All&in_searchbox=YES&in_summary=S#utm_source=JobRSS&utm_medium=JobRSS', 'doc': 'Speech Language Therapist jd (new format) September 2011.docx', 'Job Type': 'Fixed Term Full Time', 'Location': 'Wellington', 'jsonlen': '10'}, '27': {'Job Reference': 'EDU/1182948', 'Summary': '', 'lidocend': [['An ability to work as part of a multidisciplinary team;'], ['Excellent interpersonal and communication skills including an ability to sustain productive professional relationships;'], ['A genuine commitment to evidence based interventions which demonstrate inclusive education practice and contribute to raising student achievement;'], ['For Psychologists applying – a New Zealand Psychologist Board registration and current Practicing Certificate;'], ['Sensitivity to cultural and ethnic diversity and a commitment to the principles of the Treaty of Waitangi.']], 'link': 'http://jobs.minedu.govt.nz/jobtools/jncustomsearch.viewFullSingle?in_organid=17584&in_jnCounter=222593764&in_jobDate=All&in_searchbox=YES&in_summary=S#utm_source=JobRSS&utm_medium=JobRSS', 'Category': 'Special Education', 'Job Type': 'Full Time', 'Date Advertised': '24-SEP-15', 'Location': 'Southland', 'Business Unit': '', 'jsonlen': '27', 'Job Title': 'Pyschologist/Special Education Adviser'}, '22': {'Job Reference': 'EDU/1183512', 'Summary': '', 'lidocend': [['Lead the development of financial strategy'], ['support the CFO in leading change'], ['\\xa0take a particular focus on long-term management and understanding of the Ministry’s financial costs and funding pressures'], ['lead the development and implementation of the Ministry’s financial strategy'], ['work with the Leadership Team and Treasury so they understand the longer term financial journey\\xa0'], ['\\xa0develop a comprehensive end-to-end asset management framework.'], ['is tertiary qualified in accounting and holds qualified Chartered Accountant status within CAANZ or equivalent'], ['has experience leading large transformational projects within a finance setting'], ['can effectively influence and provide specialist advice to senior managers'], ['demonstrates an ability to innovate using best practice financial reporting, taxation and treasury management for business advantage.']], 'Date Advertised': '28-SEP-15', 'Business Unit': '', 'Job Title': 'Manager Strategic Finance', 'Category': 'Accounting/Finance', 'link': 'http://jobs.minedu.govt.nz/jobtools/jncustomsearch.viewFullSingle?in_organid=17584&in_jnCounter=222594437&in_jobDate=All&in_searchbox=YES&in_summary=S#utm_source=JobRSS&utm_medium=JobRSS', 'doc': 'PCaR Manager Strategic Finance JD Sept 2015.docx', 'Job Type': 'Full Time', 'Location': 'Wellington', 'jsonlen': '22'}, '2': {'Job Reference': 'EDU/1184566', 'Summary': '', 'lidocend': [['An ability to work as part of a multidisciplinary team;'], ['Excellent interpersonal and communication skills including an ability to sustain productive professional relationships;'], ['A genuine commitment to evidence based interventions which demonstrate inclusive education practice and contribute to raising student achievement;'], ['For Psychologists applying – a New Zealand Psychologist Board registration and current Practicing Certificate;'], ['Sensitivity to cultural and ethnic diversity and a commitment to the principles of the Treaty of Waitangi.']], 'Date Advertised': '06-OCT-15', 'Business Unit': '', 'Job Title': 'Psychologist / Special Education Adviser', 'Category': 'Special Education', 'link': 'http://jobs.minedu.govt.nz/jobtools/jncustomsearch.viewFullSingle?in_organid=17584&in_jnCounter=222595784&in_jobDate=All&in_searchbox=YES&in_summary=S#utm_source=JobRSS&utm_medium=JobRSS', 'doc': 'psychologist jd.docx', 'Job Type': 'Full Time', 'Location': 'Nelson - Marlborough', 'jsonlen': '2'}, '12': {'Job Reference': 'EDU/1183963', 'Summary': '', 'lidocend': [], 'email': 'peter.lowndes@education.govt.nz', 'Date Advertised': '30-SEP-15', 'Business Unit': '', 'Job Title': 'Director of Education for Auckland', 'Category': 'Management', 'link': 'http://jobs.minedu.govt.nz/jobtools/jncustomsearch.viewFullSingle?in_organid=17584&in_jnCounter=222594992&in_jobDate=All&in_searchbox=YES&in_summary=S#utm_source=JobRSS&utm_medium=JobRSS', 'doc': 'Director Education JD 2014 Auckland.docx', 'Job Type': 'Full Time', 'Location': 'Auckland', 'jsonlen': '12'}, '26': {'Job Reference': 'EDU/1183111', 'Summary': '', 'lidocend': [['The New Zealand Physiotherapy Board registration'], ['A current annual Practicing Certificate']], 'Date Advertised': '24-SEP-15', 'Business Unit': '', 'Job Title': 'Physiotherapist', 'Category': 'Special Education', 'link': 'http://jobs.minedu.govt.nz/jobtools/jncustomsearch.viewFullSingle?in_organid=17584&in_jnCounter=222593877&in_jobDate=All&in_searchbox=YES&in_summary=S#utm_source=JobRSS&utm_medium=JobRSS', 'doc': 'Physiotherapist jd (generic).docx', 'Job Type': 'Part Time', 'Location': 'Wellington', 'jsonlen': '26'}, '0': {'Job Reference': 'EDU/1184623', 'Summary': '', 'lidocend': [['Working with\\xa0data and information to identify issues and come up with solutions to solve\\xa0complex problems and make decisions.'], ['Leading and working\\xa0with others to support and implement change initiatives.'], ['Presenting\\xa0and facilitating group discussions.'], ['Knowledge and\\xa0understanding of the New Zealand education system and relevant legislation.'], ['An understanding\\xa0of the relationship between policy intent and the range and combination of\\xa0tools available for implementing new initiatives.']], 'link': 'http://jobs.minedu.govt.nz/jobtools/jncustomsearch.viewFullSingle?in_organid=17584&in_jnCounter=222595914&in_jobDate=All&in_searchbox=YES&in_summary=S#utm_source=JobRSS&utm_medium=JobRSS', 'Category': 'Education', 'Job Type': 'Full Time', 'Date Advertised': '06-OCT-15', 'Location': 'Wellington', 'Business Unit': '', 'jsonlen': '0', 'Job Title': 'Lead Education Adviser'}, '30': {'Job Reference': 'EDU/1181304', 'Summary': '', 'lidocend': [['Strong analytical skills and the ability to work with student achievement data to determine needs, priorities and results'], ['Experience in developing and implementing projects and in contract management'], ['The ability to contribute to Ministry goals for Māori enjoying and achieving education success as Māori and to work confidently with schools in both Māori medium and mainstream contexts'], ['The ability to contribute to Ministry goals for Pasifika students'], ['The ability to contribute to Ministry goals for students with special needs']], 'Date Advertised': '15-SEP-15', 'Business Unit': '', 'Job Title': 'Senior Advisor', 'Category': 'Education', 'link': 'http://jobs.minedu.govt.nz/jobtools/jncustomsearch.viewFullSingle?in_organid=17584&in_jnCounter=222591799&in_jobDate=All&in_searchbox=YES&in_summary=S#utm_source=JobRSS&utm_medium=JobRSS', 'doc': 'JD Senior Advisor.docx', 'Job Type': 'Full Time', 'Location': 'Otago', 'jsonlen': '30'}, '28': {'Job Reference': 'EDU/1182496', 'Summary': '', 'lidocend': [['Support teacher education, and support parents'], ['Alternative models of education provision for students in years 3 – 10 with complex, severe and challenging behaviour and learning needs.'], ['Individualised, culturally appropriate plans that supports\\xa0students within the school, whanau and community settings'], ['Working collaboratively with whanau, educators and other agencies.']], 'Date Advertised': '22-SEP-15', 'Business Unit': '', 'Job Title': 'Psychologist Intensive Wraparound Services', 'Category': 'Psychologist', 'link': 'http://jobs.minedu.govt.nz/jobtools/jncustomsearch.viewFullSingle?in_organid=17584&in_jnCounter=222593213&in_jobDate=All&in_searchbox=YES&in_summary=S#utm_source=JobRSS&utm_medium=JobRSS', 'doc': 'Pysch IWS jd.docx', 'Job Type': 'Full Time', 'Location': 'Hamilton', 'jsonlen': '28'}, '17': {'Job Reference': 'EDU/1183638', 'Summary': '', 'lidocend': [['Experience with various delivery methodologies (Waterfall, Iterative and Agile)'], ['A strong understanding of the Software Testing Lifecycle'], ['Skilled in generating estimates'], ['Proven experience in writing test strategies and test plans'], ['Competent in undertaking requirements analysis and establishing test coverage'], ['Practiced in designing test sets, prioritising and providing general guidance'], ['Proficient in writing test cases/scripts and/or procedures'], ['Experienced with document reviews and ensuring industry standards are upheld'], ['Capable of performing defect management and reporting'], ['Skilled in executing system and system integration tests'], ['Proficient in regression testing and the maintenance of regression suites'], ['Practiced in generating progress reports and conducting stakeholder management'], ['Proven experience in writing Test Summary Reports'], ['Experience with using SQL for either data preparation or general querying'], ['Strong problem solving skills'], ['Good communication skills (both in written and oral form)'], ['Experience with mentoring other team members'], ['Ideally 5/6+ years experience in functional testing'], ['A relevant tertiary qualification'], ['ISTQB Foundation certified'], ['ISTQB Advanced Test Analyst certified']], 'email': 'liz.quaye@education.govt.nz', 'Date Advertised': '29-SEP-15', 'Business Unit': '', 'Job Title': 'Senior Test Analyst', 'Category': 'IT & computing', 'link': 'http://jobs.minedu.govt.nz/jobtools/jncustomsearch.viewFullSingle?in_organid=17584&in_jnCounter=222594605&in_jobDate=All&in_searchbox=YES&in_summary=S#utm_source=JobRSS&utm_medium=JobRSS', 'doc': 'JD Senior Test Analyst.docx', 'Job Type': 'Full Time', 'Location': 'Wellington', 'jsonlen': '17'}, '18': {'Job Reference': 'EDU/1183637', 'Summary': '', 'lidocend': [['Exposure to various delivery methodologies (Waterfall, Iterative and Agile)'], ['A good understanding of the Software Testing Lifecycle'], ['An ability to provide input into or generate estimates and test plans'], ['Have experience in requirements analysis and determining test coverage'], ['An ability to design test sets and prioritise accordingly'], ['Proficient in writing test cases/scripts and/or procedures'], ['Capable of raising high quality defects and assisting with defect management/reporting'], ['Skilled in executing system and system integration tests'], ['Practiced in generating progress reports and facilitating stakeholder engagement'], ['Exposure to regression testing and maintenance thereof'], ['Practiced in writing or contributing to Test Summary Reports'], ['Experienced with using SQL for either data preparation or general querying'], ['Strong problem solving skills'], ['Good communication skills (both in written and oral form)'], ['A relevant tertiary qualification'], ['ISTQB Foundation certified'], ['Ideally 3 - 4 years experience in functional testing']], 'email': 'liz.quaye@education.govt.nz', 'Date Advertised': '29-SEP-15', 'Business Unit': '', 'Job Title': 'Test Analyst', 'Category': 'IT & computing', 'link': 'http://jobs.minedu.govt.nz/jobtools/jncustomsearch.viewFullSingle?in_organid=17584&in_jnCounter=222594600&in_jobDate=All&in_searchbox=YES&in_summary=S#utm_source=JobRSS&utm_medium=JobRSS', 'doc': 'JD Test Analyst.docx', 'Job Type': 'Full Time', 'Location': 'Wellington', 'jsonlen': '18'}, '15': {'Job Reference': 'EDU/1183825', 'Summary': '', 'lidocend': [['strong analytical skills and the ability to work with student achievement data to determine needs, priorities and results'], ['experience in developing and implementing projects and in contract management'], ['the ability to contribute to Ministry goals for Maori enjoying education success as Maori and to work confidently with schools in both Maori medium and mainstream contexts']], 'link': 'http://jobs.minedu.govt.nz/jobtools/jncustomsearch.viewFullSingle?in_organid=17584&in_jnCounter=222594956&in_jobDate=All&in_searchbox=YES&in_summary=S#utm_source=JobRSS&utm_medium=JobRSS', 'Category': 'Education', 'Job Type': 'Full Time', 'Date Advertised': '30-SEP-15', 'Location': 'Whangarei', 'Business Unit': '', 'jsonlen': '15', 'Job Title': 'Senior Advisor'}, '29': {'Job Reference': 'EDU/1182146', 'Summary': '', 'lidocend': [], 'email': 'christine.curnow@minedu.govt.nz', 'Date Advertised': '21-SEP-15', 'Business Unit': '', 'Job Title': 'Occupational Therapist', 'Category': 'Special Education', 'link': 'http://jobs.minedu.govt.nz/jobtools/jncustomsearch.viewFullSingle?in_organid=17584&in_jnCounter=222592975&in_jobDate=All&in_searchbox=YES&in_summary=S#utm_source=JobRSS&utm_medium=JobRSS', 'Job Type': 'Full Time', 'Location': 'Nelson - Marlborough', 'jsonlen': '29'}, '6': {'Job Reference': 'EDU/1184187', 'Summary': '', 'lidocend': [['Build through relationships'], ['Knowledge and experience with Government procurement processes, practices and accountability requirements'], ['A broad understanding of a commercial IT environment or general procurement experience'], ['Demonstrated excellent negotiation, persuasion and influencing skills'], ['Excellent relationship management, communication and networking skills'], ['At least 5 years’ experience in commercial and or procurement; have worked with professional services'], ['Have a really solid understanding of All of Government (AoG) agreements'], ['Be highly organised and have excellent oral and written skills'], ['Eligible or working towards Associate Member (Level 4) of CIPS and/or a relevant tertiary qualification']], 'Date Advertised': '01-OCT-15', 'Business Unit': '', 'Job Title': 'IT Category Lead', 'Category': 'Procurement /Contract Management', 'link': 'http://jobs.minedu.govt.nz/jobtools/jncustomsearch.viewFullSingle?in_organid=17584&in_jnCounter=222595251&in_jobDate=All&in_searchbox=YES&in_summary=S#utm_source=JobRSS&utm_medium=JobRSS', 'doc': 'IT Category Lead JD.docx', 'Job Type': 'Full Time', 'Location': 'Wellington', 'jsonlen': '6'}}\n"
     ]
    }
   ],
   "source": [
    "print(dicminj)"
   ]
  },
  {
   "cell_type": "code",
   "execution_count": 12,
   "metadata": {
    "collapsed": true
   },
   "outputs": [],
   "source": [
    "catlis = list()\n",
    "\n",
    "loclis = list()\n",
    "datlis = list()\n",
    "jobti = list()"
   ]
  },
  {
   "cell_type": "code",
   "execution_count": null,
   "metadata": {
    "collapsed": true
   },
   "outputs": [],
   "source": []
  },
  {
   "cell_type": "code",
   "execution_count": 13,
   "metadata": {
    "collapsed": true
   },
   "outputs": [],
   "source": [
    "numdic = dict()"
   ]
  },
  {
   "cell_type": "code",
   "execution_count": null,
   "metadata": {
    "collapsed": true
   },
   "outputs": [],
   "source": []
  },
  {
   "cell_type": "code",
   "execution_count": 17,
   "metadata": {
    "collapsed": false
   },
   "outputs": [
    {
     "name": "stdout",
     "output_type": "stream",
     "text": [
      "1184623\n",
      "1184568\n",
      "1184566\n",
      "1184311\n",
      "1184337\n",
      "1184359\n",
      "1184187\n",
      "1184183\n",
      "1184142\n",
      "1179846\n",
      "1184054\n",
      "1184055\n",
      "1183963\n",
      "1183956\n",
      "1183849\n",
      "1183825\n",
      "1183456\n",
      "1183638\n",
      "1183637\n",
      "1183607\n",
      "1183481\n",
      "1183608\n",
      "1183512\n",
      "1183510\n",
      "1183501\n",
      "1183431\n",
      "1183111\n",
      "1182948\n",
      "1182496\n",
      "1182146\n",
      "1181304\n",
      "1181268\n"
     ]
    }
   ],
   "source": [
    "for ldi in range(ldic):\n",
    "    dicjob = dict()\n",
    "    catedi = (dicminj[str(ldi)]['Category'])\n",
    "    locdi = (dicminj[str(ldi)]['Location'])\n",
    "    datdi = (dicminj[str(ldi)]['Date Advertised'])\n",
    "    pandatz = pandas.to_datetime(datdi)\n",
    "    pdate = pandatz.date()\n",
    "    titdi = (dicminj[str(ldi)]['Job Title'])\n",
    "    helpth = (dicminj[str(ldi)]['lidocend'])\n",
    "    \n",
    "    jobref = (dicminj[str(ldi)]['Job Reference'])\n",
    "    jorefd = jobref[4:]\n",
    "    print (jorefd)\n",
    "    \n",
    "    opmetf = open('/home/wcmckee/minstryofedu/posts/' + jorefd + '.meta', 'w')\n",
    "    opmetf.write(jorefd + '\\n' + jorefd + '\\n' + str(pdate) + ' ' + str('09:00:00') + '\\n' + catedi + ', ' + locdi)\n",
    "    opmetf.close()\n",
    "    \n",
    "    oprstfi = open('/home/wcmckee/minstryofedu/posts/' + jorefd + '.rst', 'w')\n",
    "    oprstfi.write(titdi)\n",
    "    oprstfi.close()\n",
    "\n",
    "\n",
    "\n",
    "    dicjob.update({'Category' : catedi, 'Date Advertised' : str(pdate), 'Job Title' : titdi,\n",
    "    'Location' : locdi, 'Job Reference' : jobref})\n",
    "    \n",
    "    numdic.update({ldi : dicjob})\n",
    "    #numdic.update({ldi : dicjob})\n",
    "    \n",
    "    loclis.append(locdi)\n",
    "    datlis.append(datdi)\n",
    "    jobti.append(titdi)\n",
    "    \n",
    "    nedicf = dicjob.copy()\n",
    "    nedicf.update(nedicf)\n",
    "    \n",
    "    numdic.update({ldi : nedicf})\n",
    "    \n",
    "    #if 'education' in catedi:\n",
    "    #    print (catedi)\n",
    "\n",
    "        "
   ]
  }
 ],
 "metadata": {
  "kernelspec": {
   "display_name": "Python 3",
   "language": "python",
   "name": "python3"
  },
  "language_info": {
   "codemirror_mode": {
    "name": "ipython",
    "version": 3
   },
   "file_extension": ".py",
   "mimetype": "text/x-python",
   "name": "python",
   "nbconvert_exporter": "python",
   "pygments_lexer": "ipython3",
   "version": "3.4.2"
  }
 },
 "nbformat": 4,
 "nbformat_minor": 0
}
