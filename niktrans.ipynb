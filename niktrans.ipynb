{
 "cells": [
  {
   "cell_type": "code",
   "execution_count": 1,
   "metadata": {
    "collapsed": true
   },
   "outputs": [],
   "source": [
    "import os\n",
    "import json"
   ]
  },
  {
   "cell_type": "code",
   "execution_count": 1,
   "metadata": {
    "collapsed": false
   },
   "outputs": [
    {
     "ename": "NameError",
     "evalue": "name 'os' is not defined",
     "output_type": "error",
     "traceback": [
      "\u001b[1;31m---------------------------------------------------------------------------\u001b[0m",
      "\u001b[1;31mNameError\u001b[0m                                 Traceback (most recent call last)",
      "\u001b[1;32m<ipython-input-1-0eaa361af4c8>\u001b[0m in \u001b[0;36m<module>\u001b[1;34m()\u001b[0m\n\u001b[1;32m----> 1\u001b[1;33m \u001b[0mos\u001b[0m\u001b[1;33m.\u001b[0m\u001b[0msystem\u001b[0m\u001b[1;33m(\u001b[0m\u001b[1;34m'python3 nikoladu.py'\u001b[0m\u001b[1;33m)\u001b[0m\u001b[1;33m\u001b[0m\u001b[0m\n\u001b[0m\u001b[0;32m      2\u001b[0m \u001b[0mos\u001b[0m\u001b[1;33m.\u001b[0m\u001b[0mchdir\u001b[0m\u001b[1;33m(\u001b[0m\u001b[1;34m'/home/wcmckee/nik1/'\u001b[0m\u001b[1;33m)\u001b[0m\u001b[1;33m\u001b[0m\u001b[0m\n\u001b[0;32m      3\u001b[0m \u001b[0mos\u001b[0m\u001b[1;33m.\u001b[0m\u001b[0msystem\u001b[0m\u001b[1;33m(\u001b[0m\u001b[1;34m'nikola build'\u001b[0m\u001b[1;33m)\u001b[0m\u001b[1;33m\u001b[0m\u001b[0m\n\u001b[0;32m      4\u001b[0m \u001b[0mos\u001b[0m\u001b[1;33m.\u001b[0m\u001b[0msystem\u001b[0m\u001b[1;33m(\u001b[0m\u001b[1;34m'rsync -azP /home/wcmckee/minedujob/output/* wcmckee@wcmckee.com:/home/wcmckee/github/wcmckee.com/output/minedujobs'\u001b[0m\u001b[1;33m)\u001b[0m\u001b[1;33m\u001b[0m\u001b[0m\n",
      "\u001b[1;31mNameError\u001b[0m: name 'os' is not defined"
     ]
    }
   ],
   "source": [
    "os.system('python3 nikoladu.py')\n",
    "os.chdir('/home/wcmckee/nik1/')\n",
    "os.system('nikola build')\n",
    "os.system('rsync -azP /home/wcmckee/minedujob/output/* wcmckee@wcmckee.com:/home/wcmckee/github/wcmckee.com/output/minedujobs')"
   ]
  },
  {
   "cell_type": "code",
   "execution_count": 2,
   "metadata": {
    "collapsed": true
   },
   "outputs": [],
   "source": [
    "opccschho = open('/home/wcmckee/ccschool/cctru.json', 'r')"
   ]
  },
  {
   "cell_type": "code",
   "execution_count": 3,
   "metadata": {
    "collapsed": false
   },
   "outputs": [],
   "source": [
    "opcz = opccschho.read()"
   ]
  },
  {
   "cell_type": "code",
   "execution_count": 4,
   "metadata": {
    "collapsed": false
   },
   "outputs": [],
   "source": [
    "rssch = json.loads(opcz)"
   ]
  },
  {
   "cell_type": "code",
   "execution_count": 5,
   "metadata": {
    "collapsed": true
   },
   "outputs": [],
   "source": [
    "filrma = ('/home/wcmckee/ccschol/')"
   ]
  },
  {
   "cell_type": "code",
   "execution_count": 6,
   "metadata": {
    "collapsed": false
   },
   "outputs": [
    {
     "ename": "FileExistsError",
     "evalue": "[Errno 17] File exists: '/home/wcmckee/ccschol/taupaki-school'",
     "output_type": "error",
     "traceback": [
      "\u001b[1;31m---------------------------------------------------------------------------\u001b[0m",
      "\u001b[1;31mFileExistsError\u001b[0m                           Traceback (most recent call last)",
      "\u001b[1;32m<ipython-input-6-54f5fbdb874a>\u001b[0m in \u001b[0;36m<module>\u001b[1;34m()\u001b[0m\n\u001b[0;32m      4\u001b[0m     \u001b[0mhybrac\u001b[0m \u001b[1;33m=\u001b[0m \u001b[0mhylow\u001b[0m\u001b[1;33m.\u001b[0m\u001b[0mreplace\u001b[0m\u001b[1;33m(\u001b[0m\u001b[1;34m'('\u001b[0m\u001b[1;33m,\u001b[0m \u001b[1;34m''\u001b[0m\u001b[1;33m)\u001b[0m\u001b[1;33m\u001b[0m\u001b[0m\n\u001b[0;32m      5\u001b[0m     \u001b[0mhybaec\u001b[0m \u001b[1;33m=\u001b[0m \u001b[0mhybrac\u001b[0m\u001b[1;33m.\u001b[0m\u001b[0mreplace\u001b[0m\u001b[1;33m(\u001b[0m\u001b[1;34m')'\u001b[0m\u001b[1;33m,\u001b[0m \u001b[1;34m''\u001b[0m\u001b[1;33m)\u001b[0m\u001b[1;33m\u001b[0m\u001b[0m\n\u001b[1;32m----> 6\u001b[1;33m     \u001b[0mos\u001b[0m\u001b[1;33m.\u001b[0m\u001b[0mmkdir\u001b[0m\u001b[1;33m(\u001b[0m\u001b[0mfilrma\u001b[0m \u001b[1;33m+\u001b[0m \u001b[0mhybaec\u001b[0m\u001b[1;33m)\u001b[0m\u001b[1;33m\u001b[0m\u001b[0m\n\u001b[0m\u001b[0;32m      7\u001b[0m \u001b[1;33m\u001b[0m\u001b[0m\n\u001b[0;32m      8\u001b[0m     \u001b[0mos\u001b[0m\u001b[1;33m.\u001b[0m\u001b[0msystem\u001b[0m\u001b[1;33m(\u001b[0m\u001b[1;34m'nikola init -q '\u001b[0m \u001b[1;33m+\u001b[0m \u001b[0mfilrma\u001b[0m \u001b[1;33m+\u001b[0m \u001b[0mhybaec\u001b[0m\u001b[1;33m)\u001b[0m\u001b[1;33m\u001b[0m\u001b[0m\n",
      "\u001b[1;31mFileExistsError\u001b[0m: [Errno 17] File exists: '/home/wcmckee/ccschol/taupaki-school'"
     ]
    }
   ],
   "source": [
    "for rs in rssch.keys():\n",
    "    hythsc = (rs.replace(' ', '-'))\n",
    "    hylow = hythsc.lower()\n",
    "    hybrac = hylow.replace('(', '')\n",
    "    hybaec = hybrac.replace(')', '')\n",
    "    os.mkdir(filrma + hybaec)\n",
    "    \n",
    "    os.system('nikola init -q ' + filrma + hybaec)\n",
    "    "
   ]
  },
  {
   "cell_type": "markdown",
   "metadata": {
    "collapsed": true
   },
   "source": [
    "I want to open each of the conf.py files and replace the nanme of the site with hythsc.lower\n",
    "\n",
    "Dir /home/wcmckee/ccschol has all the schools folders. Need to replace in conf.py Demo Name \n",
    "with folder name of school.\n",
    "\n",
    "Schools name missing characters - eg ardmore"
   ]
  },
  {
   "cell_type": "code",
   "execution_count": 7,
   "metadata": {
    "collapsed": true
   },
   "outputs": [],
   "source": [
    "lisschol = os.listdir('/home/wcmckee/ccschol/')"
   ]
  },
  {
   "cell_type": "code",
   "execution_count": 8,
   "metadata": {
    "collapsed": false
   },
   "outputs": [
    {
     "name": "stdout",
     "output_type": "stream",
     "text": [
      "te-wharekura-o-maniapoto\n",
      "ardmore\n",
      "shotover-school\n",
      "hobsonville-point-secondary-school\n",
      "south-hornby\n",
      "thorndon\n",
      "leigh-school\n",
      "st-josephs-upper-hutt\n",
      "green-bay\n",
      "oaklands-\n",
      "hampden-street\n",
      "rangiora-borough\n",
      "pegasus-bay\n",
      "te-pa-o-rakaihautu\n",
      "paparoa-street\n",
      "te-one\n",
      "kaikohe-west\n",
      "thorrington\n",
      "grey-lynn\n",
      "ohoka\n",
      "westlake-girls-high-school\n",
      "merrin\n",
      "stonefields-school\n",
      "sylvia-park-school\n",
      "roydvale\n",
      "marlborough-primary\n",
      "ward\n",
      "raphael-house\n",
      "whau-valley\n",
      "taipa-area-school-\n",
      "pukekohe-intermediate\n",
      "ashburton-intermediate\n",
      "onewhero-area\n",
      "rawhiti\n",
      "horowhenua-college\n",
      "our-lady-star-of-the-sea-sumner\n",
      "taradale-intermediate\n",
      "eastern-hutt\n",
      "st-marys-catholic-tauranga\n",
      "windwhistle\n",
      "northcote-college\n",
      "diamond-harbour\n",
      "barton-rural\n",
      "orewa-college\n",
      "ebbett-park\n",
      "shirley-intermediate\n",
      "sumner\n",
      "arrowtown\n",
      "taupaki-school\n",
      "yaldhurst-model\n",
      "nelson-park\n",
      "wellington-high-school\n",
      "redwood-tawa\n",
      "somerfield\n",
      "marewa\n",
      "albany-senior-high-school\n",
      "middleton-grange-school\n",
      "kaingaroa-chatham-islands\n",
      "cheviot-area\n",
      "okaihau-college\n",
      "runanga\n",
      "hutt-valley-high-school\n",
      "our-lady-of-victoriea\n",
      "burnside-high-school\n",
      "hillpark\n",
      "tkkm-o-te-atihaunui-a-paparangi\n",
      "tawa-intermediate\n",
      "auckland-girls-grammar-school\n",
      "broadfield\n",
      "westmere\n",
      "kaikoura-suburban\n",
      "whangaparaoa-college\n",
      "our-lady-of-snows-methven\n",
      "waikato-diocesan\n",
      "warrington-school\n",
      "banks-avenue\n",
      "cobham-intermediate\n",
      "st-patrick’s-bryndwr\n",
      "hobsonville-point-primary-school\n",
      "te-hihi\n",
      "st-patrick’s-kaiapoi\n",
      "springston-school\n",
      "nayland-college\n",
      "elmwood-normal\n",
      "pakuranga-heights-school\n",
      "sacred-heart-catholic\n",
      "eskdale\n"
     ]
    }
   ],
   "source": [
    "for lisol in lisschol:\n",
    "    print (lisol)\n",
    "    hythsc = (lisol.replace(' ', '-'))\n",
    "    hylow = hythsc.lower()\n",
    "    hybrac = hylow.replace('(', '')\n",
    "    hybaec = hybrac.replace(')', '')\n",
    "    filereaz = ('/home/wcmckee/ccschol/' + hybaec + '/conf.py')\n",
    "    f = open(filereaz,'r')\n",
    "    filedata = f.read()\n",
    "    f.close()\n",
    "\n",
    "    newdata = filedata.replace('\"Demo Site\"', '\"' + hybaec + '\"')\n",
    "    #print (newdata)\n",
    "    f = open(filereaz,'w')\n",
    "    f.write(newdata)\n",
    "    f.close()\n"
   ]
  },
  {
   "cell_type": "markdown",
   "metadata": {
    "collapsed": true
   },
   "source": [
    "Perform Nikola build of all the sites in ccschol folder"
   ]
  },
  {
   "cell_type": "code",
   "execution_count": 13,
   "metadata": {
    "collapsed": false
   },
   "outputs": [
    {
     "name": "stdout",
     "output_type": "stream",
     "text": [
      "Build school sites y/N y\n"
     ]
    }
   ],
   "source": [
    "buildnik = input('Build school sites y/N ')\n",
    "\n"
   ]
  },
  {
   "cell_type": "code",
   "execution_count": null,
   "metadata": {
    "collapsed": false
   },
   "outputs": [
    {
     "name": "stdout",
     "output_type": "stream",
     "text": [
      "te-wharekura-o-maniapoto\n",
      "ardmore\n",
      "shotover-school\n",
      "hobsonville-point-secondary-school\n",
      "south-hornby\n",
      "thorndon\n",
      "leigh-school\n",
      "st-josephs-upper-hutt\n",
      "green-bay\n",
      "oaklands-\n",
      "hampden-street\n",
      "rangiora-borough\n",
      "pegasus-bay\n",
      "te-pa-o-rakaihautu\n",
      "paparoa-street\n",
      "te-one\n",
      "kaikohe-west\n",
      "thorrington\n",
      "grey-lynn\n",
      "ohoka\n",
      "westlake-girls-high-school\n",
      "merrin\n",
      "stonefields-school\n",
      "sylvia-park-school\n",
      "roydvale\n",
      "marlborough-primary\n",
      "ward\n",
      "raphael-house\n",
      "whau-valley\n",
      "taipa-area-school-\n",
      "pukekohe-intermediate\n",
      "ashburton-intermediate\n",
      "onewhero-area\n",
      "rawhiti\n",
      "horowhenua-college\n",
      "our-lady-star-of-the-sea-sumner\n",
      "taradale-intermediate\n",
      "eastern-hutt\n",
      "st-marys-catholic-tauranga\n",
      "windwhistle\n",
      "northcote-college\n",
      "diamond-harbour\n",
      "barton-rural\n",
      "orewa-college\n",
      "ebbett-park\n",
      "shirley-intermediate\n",
      "sumner\n",
      "arrowtown\n",
      "taupaki-school\n",
      "yaldhurst-model\n",
      "nelson-park\n",
      "wellington-high-school\n",
      "redwood-tawa\n",
      "somerfield\n",
      "marewa\n",
      "albany-senior-high-school\n",
      "middleton-grange-school\n",
      "kaingaroa-chatham-islands\n",
      "cheviot-area\n",
      "okaihau-college\n",
      "runanga\n",
      "hutt-valley-high-school"
     ]
    }
   ],
   "source": [
    "for lisol in lisschol:\n",
    "    print (lisol)\n",
    "    os.chdir('/home/wcmckee/ccschol/' + lisol)\n",
    "    if 'y' in buildnik:\n",
    "        os.system('nikola build')"
   ]
  },
  {
   "cell_type": "code",
   "execution_count": null,
   "metadata": {
    "collapsed": true
   },
   "outputs": [],
   "source": [
    "makerst = open('/home/wcmckee/ccs')"
   ]
  },
  {
   "cell_type": "code",
   "execution_count": null,
   "metadata": {
    "collapsed": true
   },
   "outputs": [],
   "source": []
  },
  {
   "cell_type": "code",
   "execution_count": 14,
   "metadata": {
    "collapsed": false
   },
   "outputs": [
    {
     "ename": "FileNotFoundError",
     "evalue": "[Errno 2] No such file or directory: '/home/wcmckee/ccschol/kaingaroa--chatham-islands/conf.py'",
     "output_type": "error",
     "traceback": [
      "\u001b[1;31m---------------------------------------------------------------------------\u001b[0m",
      "\u001b[1;31mFileNotFoundError\u001b[0m                         Traceback (most recent call last)",
      "\u001b[1;32m<ipython-input-14-f992d147cd4a>\u001b[0m in \u001b[0;36m<module>\u001b[1;34m()\u001b[0m\n\u001b[0;32m      7\u001b[0m     \u001b[1;31m#print (hylow())\u001b[0m\u001b[1;33m\u001b[0m\u001b[1;33m\u001b[0m\u001b[0m\n\u001b[0;32m      8\u001b[0m     \u001b[0mfilereaz\u001b[0m \u001b[1;33m=\u001b[0m \u001b[1;33m(\u001b[0m\u001b[1;34m'/home/wcmckee/ccschol/'\u001b[0m \u001b[1;33m+\u001b[0m \u001b[0mhybaec\u001b[0m \u001b[1;33m+\u001b[0m \u001b[1;34m'/conf.py'\u001b[0m\u001b[1;33m)\u001b[0m\u001b[1;33m\u001b[0m\u001b[0m\n\u001b[1;32m----> 9\u001b[1;33m     \u001b[0mf\u001b[0m \u001b[1;33m=\u001b[0m \u001b[0mopen\u001b[0m\u001b[1;33m(\u001b[0m\u001b[0mfilereaz\u001b[0m\u001b[1;33m,\u001b[0m\u001b[1;34m'r'\u001b[0m\u001b[1;33m)\u001b[0m\u001b[1;33m\u001b[0m\u001b[0m\n\u001b[0m\u001b[0;32m     10\u001b[0m     \u001b[0mfiledata\u001b[0m \u001b[1;33m=\u001b[0m \u001b[0mf\u001b[0m\u001b[1;33m.\u001b[0m\u001b[0mread\u001b[0m\u001b[1;33m(\u001b[0m\u001b[1;33m)\u001b[0m\u001b[1;33m\u001b[0m\u001b[0m\n\u001b[0;32m     11\u001b[0m \u001b[1;33m\u001b[0m\u001b[0m\n",
      "\u001b[1;31mFileNotFoundError\u001b[0m: [Errno 2] No such file or directory: '/home/wcmckee/ccschol/kaingaroa--chatham-islands/conf.py'"
     ]
    }
   ],
   "source": [
    "for rs in rssch.keys():\n",
    "    hythsc = (rs.replace(' ', '-'))\n",
    "    hylow = hythsc.lower()\n",
    "    hybrac = hylow.replace('(', '-')\n",
    "    hybaec = hybrac.replace(')', '')\n",
    "    \n",
    "    #print (hylow())\n",
    "    filereaz = ('/home/wcmckee/ccschol/' + hybaec + '/conf.py')\n",
    "    f = open(filereaz,'r')\n",
    "    filedata = f.read()\n",
    "    \n",
    "\n",
    "    newdata = filedata.replace(\"Demo Site\", hybaec)\n",
    "    f.close()\n",
    "    f = open(filereaz,'w')\n",
    "    f.write(newdata)\n",
    "    f.close()"
   ]
  }
 ],
 "metadata": {
  "kernelspec": {
   "display_name": "Python 3",
   "language": "python",
   "name": "python3"
  },
  "language_info": {
   "codemirror_mode": {
    "name": "ipython",
    "version": 3
   },
   "file_extension": ".py",
   "mimetype": "text/x-python",
   "name": "python",
   "nbconvert_exporter": "python",
   "pygments_lexer": "ipython3",
   "version": "3.4.2"
  }
 },
 "nbformat": 4,
 "nbformat_minor": 0
}
